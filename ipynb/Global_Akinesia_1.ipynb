{
 "cells": [
  {
   "cell_type": "markdown",
   "id": "ca070127",
   "metadata": {},
   "source": [
    "## Exploring Global Akinesia with different Strains"
   ]
  },
  {
   "cell_type": "code",
   "execution_count": 1,
   "id": "e37b4e11",
   "metadata": {},
   "outputs": [],
   "source": [
    "import numpy as np\n",
    "import pandas as pd\n",
    "import matplotlib.pyplot as plt\n",
    "import pyvista as pv\n",
    "import seaborn as sns\n",
    "import scipy\n",
    "\n",
    "from HC_analysis import ReadAreas\n",
    "from HC_analysis import GlobalAkineticFraction\n",
    "from HC_analysis import ReadFibreStrain\n",
    "from HC_analysis import ReadAreaStrain\n",
    "from HC_analysis import GlobalAkineticFraction_Area\n",
    "\n",
    "af_cases = ['19', '20', '23', '26', '31']\n",
    "nonaf_cases = ['07', '14', '21', '28', '29']\n",
    "\n",
    "af_cases = [f'CT-CRT-{case_ind}' for case_ind in af_cases]\n",
    "nonaf_cases = [f'CT-CRT-{case_ind}' for case_ind in nonaf_cases]\n",
    "\n",
    "f20_cases = ['21', '23', '26', '28', '29', '31']\n",
    "f20_cases = [f'CT-CRT-{case_ind}' for case_ind in f20_cases]"
   ]
  },
  {
   "cell_type": "code",
   "execution_count": 2,
   "id": "93a4ebfe",
   "metadata": {},
   "outputs": [
    {
     "data": {
      "text/plain": [
       "0.0283397105351539"
      ]
     },
     "execution_count": 2,
     "metadata": {},
     "output_type": "execute_result"
    }
   ],
   "source": [
    "GlobalAkineticFraction('CT-CRT-07', threshold=0.01, fibre_arch='epi_avg', fibre_component='f1')"
   ]
  },
  {
   "cell_type": "code",
   "execution_count": 3,
   "id": "f97c441c",
   "metadata": {},
   "outputs": [],
   "source": [
    "nonAF_akinfrac = np.zeros((5,))\n",
    "AF_akinfrac = np.zeros((5,))\n",
    "\n",
    "arch='epi_avg'\n",
    "\n",
    "for i in range(0, nonAF_akinfrac.shape[0]):\n",
    "    \n",
    "    nonAF_akinfrac[i] = GlobalAkineticFraction(nonaf_cases[i], threshold=0.01, \n",
    "                                               fibre_arch=arch, fibre_component='f1')\n",
    "    \n",
    "    AF_akinfrac[i] = GlobalAkineticFraction(af_cases[i], threshold=0.01, \n",
    "                                               fibre_arch=arch, fibre_component='f1')"
   ]
  },
  {
   "cell_type": "code",
   "execution_count": 4,
   "id": "00932bb0",
   "metadata": {},
   "outputs": [
    {
     "data": {
      "text/plain": [
       "array([0.02833971, 0.02801421, 0.0925473 , 0.04526656, 0.07630589])"
      ]
     },
     "execution_count": 4,
     "metadata": {},
     "output_type": "execute_result"
    }
   ],
   "source": [
    "nonAF_akinfrac"
   ]
  },
  {
   "cell_type": "code",
   "execution_count": 5,
   "id": "843d3108",
   "metadata": {
    "scrolled": true
   },
   "outputs": [
    {
     "data": {
      "text/plain": [
       "array([0.05867918, 0.09476339, 0.05065712, 0.08450247, 0.06466816])"
      ]
     },
     "execution_count": 5,
     "metadata": {},
     "output_type": "execute_result"
    }
   ],
   "source": [
    "AF_akinfrac"
   ]
  },
  {
   "cell_type": "code",
   "execution_count": 6,
   "id": "1ec15303",
   "metadata": {},
   "outputs": [
    {
     "data": {
      "text/plain": [
       "<AxesSubplot:>"
      ]
     },
     "execution_count": 6,
     "metadata": {},
     "output_type": "execute_result"
    },
    {
     "data": {
      "image/png": "[encoded data removed]",
      "text/plain": [
       "<Figure size 432x288 with 1 Axes>"
      ]
     },
     "metadata": {
      "needs_background": "light"
     },
     "output_type": "display_data"
    }
   ],
   "source": [
    "sns.boxplot(data=[nonAF_akinfrac, AF_akinfrac], orient='v')\n",
    "\n",
    "sns.swarmplot(data=[nonAF_akinfrac, AF_akinfrac], color='black')"
   ]
  },
  {
   "cell_type": "code",
   "execution_count": 7,
   "id": "f70069b9",
   "metadata": {},
   "outputs": [
    {
     "data": {
      "text/plain": [
       "Ttest_indResult(statistic=-1.0750169448127247, pvalue=0.3137173043112976)"
      ]
     },
     "execution_count": 7,
     "metadata": {},
     "output_type": "execute_result"
    }
   ],
   "source": [
    "scipy.stats.ttest_ind(nonAF_akinfrac, AF_akinfrac)"
   ]
  },
  {
   "cell_type": "code",
   "execution_count": 10,
   "id": "815acce7",
   "metadata": {},
   "outputs": [],
   "source": [
    "nonAF_akinfrac = np.zeros((5,))\n",
    "AF_akinfrac = np.zeros((5,))\n",
    "\n",
    "for i in range(0, nonAF_akinfrac.shape[0]):\n",
    "    \n",
    "    nonAF_akinfrac[i] = GlobalAkineticFraction_Area(nonaf_cases[i], threshold=0.05)\n",
    "    \n",
    "    AF_akinfrac[i] = GlobalAkineticFraction_Area(af_cases[i], threshold=0.05)"
   ]
  },
  {
   "cell_type": "code",
   "execution_count": 11,
   "id": "1e4fb109",
   "metadata": {},
   "outputs": [
    {
     "data": {
      "text/plain": [
       "array([0.07647423, 0.10552265, 0.35215994, 0.1496128 , 0.18765515])"
      ]
     },
     "execution_count": 11,
     "metadata": {},
     "output_type": "execute_result"
    }
   ],
   "source": [
    "nonAF_akinfrac"
   ]
  },
  {
   "cell_type": "code",
   "execution_count": 12,
   "id": "b142445f",
   "metadata": {
    "scrolled": false
   },
   "outputs": [
    {
     "data": {
      "text/plain": [
       "array([0.20406085, 0.301805  , 0.16757012, 0.24066379, 0.19815611])"
      ]
     },
     "execution_count": 12,
     "metadata": {},
     "output_type": "execute_result"
    }
   ],
   "source": [
    "AF_akinfrac"
   ]
  },
  {
   "cell_type": "code",
   "execution_count": 13,
   "id": "67d4f993",
   "metadata": {},
   "outputs": [
    {
     "data": {
      "text/plain": [
       "<AxesSubplot:>"
      ]
     },
     "execution_count": 13,
     "metadata": {},
     "output_type": "execute_result"
    },
    {
     "data": {
      "image/png": "[encoded data removed]",
      "text/plain": [
       "<Figure size 432x288 with 1 Axes>"
      ]
     },
     "metadata": {
      "needs_background": "light"
     },
     "output_type": "display_data"
    }
   ],
   "source": [
    "sns.boxplot(data=[nonAF_akinfrac, AF_akinfrac], orient='v')\n",
    "\n",
    "sns.swarmplot(data=[nonAF_akinfrac, AF_akinfrac], color='black')"
   ]
  },
  {
   "cell_type": "code",
   "execution_count": 14,
   "id": "25999401",
   "metadata": {},
   "outputs": [
    {
     "data": {
      "text/plain": [
       "Ttest_indResult(statistic=-0.8999393889023621, pvalue=0.39443457597472475)"
      ]
     },
     "execution_count": 14,
     "metadata": {},
     "output_type": "execute_result"
    }
   ],
   "source": [
    "scipy.stats.ttest_ind(nonAF_akinfrac, AF_akinfrac)"
   ]
  },
  {
   "cell_type": "code",
   "execution_count": null,
   "id": "5b6a15ad",
   "metadata": {},
   "outputs": [],
   "source": []
  }
 ],
 "metadata": {
  "kernelspec": {
   "display_name": "vtk",
   "language": "python",
   "name": "vtk"
  },
  "language_info": {
   "codemirror_mode": {
    "name": "ipython",
    "version": 3
   },
   "file_extension": ".py",
   "mimetype": "text/x-python",
   "name": "python",
   "nbconvert_exporter": "python",
   "pygments_lexer": "ipython3",
   "version": "3.9.7"
  }
 },
 "nbformat": 4,
 "nbformat_minor": 5
}
