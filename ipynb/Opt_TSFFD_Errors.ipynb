{
 "cells": [
  {
   "cell_type": "markdown",
   "id": "d646ccc0",
   "metadata": {},
   "source": [
    "This notebook is used to make the global (ASD, DHD, DSC) errors for the optimised TSFFD configuration. For the purposes of Nov Update meeting slides."
   ]
  },
  {
   "cell_type": "code",
   "execution_count": 1,
   "id": "25fc694a",
   "metadata": {},
   "outputs": [],
   "source": [
    "import matplotlib.pyplot as plt\n",
    "import seaborn as sns\n",
    "import numpy as np\n",
    "import pandas as pd"
   ]
  },
  {
   "cell_type": "code",
   "execution_count": 8,
   "id": "40a06799",
   "metadata": {},
   "outputs": [],
   "source": [
    "## All 30 Cases\n",
    "\n",
    "all_cases = ['01', '02', '05', '06', '07', '08', '09', '12', '14',\n",
    "             '15', '16', '17', '18', '21', '24', '27', '28', '29', '30',\n",
    "             '32', '10', '19', '20', '23', '26', '31', '25', '34']\n",
    "all_cases = [f\"CT-CRT-{case}\" for case in all_cases]\n",
    "\n",
    "ebr=['EBR-01', 'EBR-02']\n",
    "\n",
    "all_cases=all_cases+ebr"
   ]
  },
  {
   "cell_type": "code",
   "execution_count": 11,
   "id": "2d5ab801",
   "metadata": {},
   "outputs": [],
   "source": [
    "f20_cases = ['21', '23', '24', '25', '26', '27', '28', '29', '30', '31', '32', '34']\n",
    "f20_cases = [f'CT-CRT-{case_ind}' for case_ind in f20_cases]\n",
    "ebr=['EBR-01', 'EBR-02']\n",
    "f20_cases = f20_cases + ebr"
   ]
  },
  {
   "cell_type": "code",
   "execution_count": 3,
   "id": "67825cc0",
   "metadata": {},
   "outputs": [],
   "source": [
    "basePath=\"/media/csi20local/Seagate Portable Drive/Master/Data/RG_CT_Cases\""
   ]
  },
  {
   "cell_type": "code",
   "execution_count": 4,
   "id": "38d8a386",
   "metadata": {},
   "outputs": [],
   "source": [
    "path=f\"{basePath}/CT-CRT-01/MT-HiRes/SW-0.0-BE-1e-9\""
   ]
  },
  {
   "cell_type": "code",
   "execution_count": 5,
   "id": "4ac549f8",
   "metadata": {},
   "outputs": [
    {
     "data": {
      "text/plain": [
       "array(0.45316957)"
      ]
     },
     "execution_count": 5,
     "metadata": {},
     "output_type": "execute_result"
    }
   ],
   "source": [
    "np.loadtxt(f\"{path}/normal-distance.txt\")"
   ]
  },
  {
   "cell_type": "code",
   "execution_count": 6,
   "id": "213fcc6b",
   "metadata": {},
   "outputs": [
    {
     "data": {
      "text/plain": [
       "array(2.60040436)"
      ]
     },
     "execution_count": 6,
     "metadata": {},
     "output_type": "execute_result"
    }
   ],
   "source": [
    "np.loadtxt(f\"{path}/hausdorff-distance.txt\")"
   ]
  },
  {
   "cell_type": "code",
   "execution_count": 10,
   "id": "5528b066",
   "metadata": {},
   "outputs": [
    {
     "data": {
      "text/plain": [
       "array(0.95380437)"
      ]
     },
     "execution_count": 10,
     "metadata": {},
     "output_type": "execute_result"
    }
   ],
   "source": [
    "np.loadtxt(f\"{path}/dice-PVeinsCropped.txt\")"
   ]
  },
  {
   "cell_type": "code",
   "execution_count": 33,
   "id": "33593478",
   "metadata": {},
   "outputs": [],
   "source": [
    "ASD = np.zeros((30,))\n",
    "DHD = np.zeros((30,))\n",
    "DSC = np.zeros((30,))\n",
    "\n",
    "for i in range(0, len(all_cases)):\n",
    "    \n",
    "    case = all_cases[i]\n",
    "    \n",
    "    if case in f20_cases:\n",
    "        path=f\"{basePath}/{all_cases[i]}/MT-HiRes-TDownsampled/SW-0.0-BE-1e-9\"\n",
    "    else:\n",
    "        path=f\"{basePath}/{all_cases[i]}/MT-HiRes/SW-0.0-BE-1e-9\"\n",
    "    \n",
    "    ASD[i] = np.loadtxt(f\"{path}/normal-distance.txt\")\n",
    "    DHD[i] = np.loadtxt(f\"{path}/hausdorff-distance.txt\")\n",
    "    \n",
    "    if case in [\"CT-CRT-31\", \"CT-CRT-34\"]:\n",
    "        DSC[i] = np.loadtxt(f\"{path}/dice-LA_chamber.txt\")*100\n",
    "    else:\n",
    "        DSC[i] = np.loadtxt(f\"{path}/dice-PVeinsCropped.txt\")*100"
   ]
  },
  {
   "cell_type": "code",
   "execution_count": 50,
   "id": "c707c24f",
   "metadata": {},
   "outputs": [
    {
     "data": {
      "image/png": "[encoded data removed]",
      "text/plain": [
       "<Figure size 576x288 with 3 Axes>"
      ]
     },
     "metadata": {},
     "output_type": "display_data"
    }
   ],
   "source": [
    "fig, (ax1, ax2, ax3) = plt.subplots(1,3,figsize=(8,4), facecolor='white')\n",
    "\n",
    "# data=[ASD, rms_max]\n",
    "sns.boxplot(ax=ax1, data=ASD, orient='v')\n",
    "sns.boxplot(ax=ax2, data=DHD, orient='v')\n",
    "sns.boxplot(ax=ax3, data=DSC, orient='v')\n",
    "\n",
    "ax1.set_ylabel(\"Average Surface Distance [mm]\", fontsize=15)\n",
    "ax2.set_ylabel(\"Directed Hausdorff Distance [mm]\", fontsize=15)\n",
    "ax3.set_ylabel(\"DSC [%]\", fontsize=15)\n",
    "\n",
    "\n",
    "ax1.set_ylim(0, 1.0)\n",
    "ax2.set_ylim(0, 16)\n",
    "ax3.set_ylim(80, 100)\n",
    "\n",
    "plt.tight_layout()\n",
    "\n",
    "ax1.set_xticks([0.5])\n",
    "ax2.set_xticks([0.5])\n",
    "ax3.set_xticks([0.5])\n",
    "\n",
    "# plt.ylabel(\"LA vertex RMS Error [mm]\", fontsize=20)\n",
    "# plt.xticks(np.arange(2), ['t=40%', 'Max'], fontsize=15)\n",
    "# plt.yticks(np.arange(0.0, 4.5, 0.5), fontsize=15)\n",
    "# plt.ylim(0.0, 4.0)\n",
    "\n",
    "plt.savefig(\"/home/csi20local/Dropbox/phd/Documents/HC_analysis/tsffd_opt_boxplots.png\", dpi=200)"
   ]
  },
  {
   "cell_type": "code",
   "execution_count": null,
   "id": "821fc694",
   "metadata": {},
   "outputs": [],
   "source": []
  }
 ],
 "metadata": {
  "kernelspec": {
   "display_name": "Python 3 (ipykernel)",
   "language": "python",
   "name": "python3"
  },
  "language_info": {
   "codemirror_mode": {
    "name": "ipython",
    "version": 3
   },
   "file_extension": ".py",
   "mimetype": "text/x-python",
   "name": "python",
   "nbconvert_exporter": "python",
   "pygments_lexer": "ipython3",
   "version": "3.9.7"
  }
 },
 "nbformat": 4,
 "nbformat_minor": 5
}
