{
 "cells": [
  {
   "cell_type": "code",
   "execution_count": null,
   "metadata": {},
   "outputs": [],
   "source": [
    "import numpy as np\n",
    "import pandas as pd\n",
    "import matplotlib.pyplot as plt\n",
    "import os"
   ]
  },
  {
   "cell_type": "code",
   "execution_count": null,
   "metadata": {},
   "outputs": [],
   "source": [
    "hrs22_path = '/home/csi20local/Documents/HRS22/'"
   ]
  },
  {
   "cell_type": "code",
   "execution_count": null,
   "metadata": {},
   "outputs": [],
   "source": [
    "def CellNumberProportionAkinetic(path, threshold):\n",
    "    \n",
    "    df_strains = pd.read_csv(path)\n",
    "    \n",
    "    NumTotCells = df_strains.shape[0]\n",
    "    NumAkinCells = df_strains[abs(df_strains['Area']) < threshold].shape[0]\n",
    "    \n",
    "    ans = NumAkinCells / NumTotCells\n",
    "    \n",
    "    return ans"
   ]
  },
  {
   "cell_type": "code",
   "execution_count": null,
   "metadata": {},
   "outputs": [],
   "source": [
    "def AreaProportionAkinetic(path, threshold):\n",
    "    \n",
    "    SW_BE_path = os.path.dirname(path)\n",
    "    \n",
    "    df_strains = pd.read_csv(path)\n",
    "    df_areas = pd.read_csv(f'{SW_BE_path}/transformed-4-clip-areas.txt', delim_whitespace=True, skiprows=1,\n",
    "                           names = ['Cell', 'Cell Number', 'Area_label', 'Area'])\n",
    "    \n",
    "    area_tot = sum(df_areas['Area'])\n",
    "    df_areas_akin = df_areas[abs(df_strains['Area']) < threshold]\n",
    "    area_akin = sum(df_areas_akin['Area'])\n",
    "\n",
    "    \n",
    "    ans = area_akin / area_tot\n",
    "    \n",
    "    return ans"
   ]
  },
  {
   "cell_type": "code",
   "execution_count": null,
   "metadata": {},
   "outputs": [],
   "source": [
    "FIMH_Cases = ('01', '02', '05', '06', '07', '08', '09', '12', '15', '16')\n",
    "All_Cases = ('01', '02', '05', '06', '07', '08', '09', '10', '12', '14', '15', '16',\n",
    "             '17', '18', '19', '20', '21', '23', '24', '25', '26', '27', '28', '29', '30', '32')\n",
    "All_Cases = ['CT-CRT-' + Case for Case in All_Cases]\n",
    "    \n",
    "Add = ['Normal-1', 'Normal-3', 'EBR-01', 'EBR-02']\n",
    "All_Cases = All_Cases + Add\n",
    "\n",
    "TDownsampled_Cases = ['CT-CRT-' + x for x in ('21', '23', '24', '25', '26', '27', '28', '29', '30', '32')]\n",
    "TDownsampled_Cases.append('EBR-01')\n",
    "TDownsampled_Cases.append('EBR-02')\n",
    "\n",
    "AF_Cases = ['CT-CRT-' + x for x in ('10', '19', '20', '23', '25', '26')]\n",
    "AF_Cases.append('EBR-01')\n",
    "AF_Cases.append('EBR-02')\n",
    "\n",
    "Normal_SR_Only_Cases = ['CT-CRT-' + x for x in ('05', '17', '28', '32')]\n",
    "Normals = ['Normal-1', 'Normal-3']\n",
    "Normal_SR_Only_Cases = Normal_SR_Only_Cases + Normals"
   ]
  },
  {
   "cell_type": "markdown",
   "metadata": {},
   "source": [
    "### SET THRESHOLD FOR AKINETIC CELL IN CELL BELOW THIS"
   ]
  },
  {
   "cell_type": "code",
   "execution_count": null,
   "metadata": {},
   "outputs": [],
   "source": [
    "Dict = {}\n",
    "\n",
    "for Case in All_Cases:\n",
    "    \n",
    "    thresh = 0.05\n",
    "    \n",
    "    if Case in TDownsampled_Cases:\n",
    "        proportion = AreaProportionAkinetic(f'/home/csi20/Dropbox/phd/Data/RG_CT_Cases/{Case}/MT-HiRes-TDownsampled/SW-0.0-BE-4e-9/area-strains-4.csv',\n",
    "                                       thresh)\n",
    "    \n",
    "    else:\n",
    "        proportion = AreaProportionAkinetic(f'/home/csi20/Dropbox/phd/Data/RG_CT_Cases/{Case}/MT-HiRes/SW-0.0-BE-4e-9/area-strains-4.csv',\n",
    "                                       thresh)\n",
    "        \n",
    "    Dict[Case] = proportion\n",
    "                \n",
    "#     print(Case, proportion)"
   ]
  },
  {
   "cell_type": "code",
   "execution_count": null,
   "metadata": {
    "scrolled": true
   },
   "outputs": [],
   "source": [
    "AreaProportionAkinetic(path='/home/csi20/Dropbox/phd/Data/RG_CT_Cases/CT-CRT-17/MT-HiRes/SW-0.0-BE-4e-9/area-strains-4.csv', threshold=0.05)"
   ]
  },
  {
   "cell_type": "code",
   "execution_count": null,
   "metadata": {},
   "outputs": [],
   "source": [
    "AF_data = []\n",
    "HF_data = []\n",
    "\n",
    "for Case in All_Cases:\n",
    "    \n",
    "    if Case in AF_Cases:\n",
    "        AF_data.append(np.array(Dict[Case]))\n",
    "        \n",
    "    else:\n",
    "        HF_data.append(np.array(Dict[Case]))\n"
   ]
  },
  {
   "cell_type": "code",
   "execution_count": null,
   "metadata": {},
   "outputs": [],
   "source": [
    "Normal_SR_Only_data = []\n",
    "\n",
    "for Case in All_Cases:\n",
    "    \n",
    "    if Case in Normal_SR_Only_Cases:\n",
    "        Normal_SR_Only_data.append(np.array(Dict[Case]))"
   ]
  },
  {
   "cell_type": "code",
   "execution_count": null,
   "metadata": {},
   "outputs": [],
   "source": [
    "all_data = HF_data + AF_data"
   ]
  },
  {
   "cell_type": "code",
   "execution_count": null,
   "metadata": {},
   "outputs": [],
   "source": [
    "HF_cols = ['tab:blue'] * 22\n",
    "AF_cols = ['tab:orange'] * 8\n",
    "cols = HF_cols + AF_cols"
   ]
  },
  {
   "cell_type": "code",
   "execution_count": null,
   "metadata": {},
   "outputs": [],
   "source": [
    "import seaborn as sns\n",
    "\n",
    "sns.set_theme(style=\"whitegrid\")\n",
    "sns.barplot(data=all_data, palette=cols)\n",
    "\n",
    "# plt.title(f'Threshold for Akinesia = {thresh}')\n",
    "ax = plt.gca()\n",
    "y_max = 0.3\n",
    "ax.set_ylim(0.0, y_max)\n",
    "ax.set_ylabel('Akinetic fraction of LA surface', fontsize=17)\n",
    "ax.set_xlabel('Cases', fontsize=17)\n",
    "\n",
    "ax.set_xticks([10.5, 25.5])\n",
    "ax.set_xticklabels(['HF Only', 'HF and AF'], fontsize=14)\n",
    "\n",
    "ax.set_yticks(np.arange(0.0, 0.35, 0.05))\n",
    "ax.set_yticklabels([0.0, 0.05, 0.10, 0.15, 0.20, 0.25, 0.30], fontsize=14)\n",
    "\n",
    "ax.vlines(x = 21.5, ymin = 0, ymax = 0.6, color = 'black', linewidth=3, ls='--')\n",
    "\n",
    "# Calc mean and std for each patient group\n",
    "mean_AF = round(np.mean(AF_data), 3)\n",
    "std_AF = round(np.std(AF_data), 3)\n",
    "\n",
    "mean_HF = round(np.mean(HF_data), 3)\n",
    "std_HF = round(np.std(HF_data), 3)\n",
    "\n",
    "# Text for Mean and std for each patient group\n",
    "ax.text(7, y_max-0.020, f'$\\mu =$ {mean_HF}', fontsize=14)\n",
    "ax.text(7, y_max-0.040, f'$\\sigma =$ {std_HF}0', fontsize=14)\n",
    "\n",
    "ax.text(23, y_max-0.020, f'$\\mu =$ {mean_AF}', fontsize=14)\n",
    "ax.text(23, y_max-0.040, f'$\\sigma =$ {std_AF}', fontsize=14)\n",
    "\n",
    "# ax.xaxis.set_major_locator(plt.NullLocator())\n",
    "\n",
    "# ax1.set_ylim(0.0, 0.3)\n",
    "\n",
    "# plt.savefig(hrs22_path + f'barplot_thresh_{thresh}-correct-bf-notitle.png', bbox_inches='tight')"
   ]
  },
  {
   "cell_type": "code",
   "execution_count": null,
   "metadata": {},
   "outputs": [],
   "source": [
    "## Visualising Healthy/SR Only cases and HF + AF Cases\n",
    "\n",
    "Healthy_AF_data = Normal_SR_Only_data + AF_data\n",
    "\n",
    "import seaborn as sns\n",
    "\n",
    "sns.barplot(data=Healthy_AF_data)\n",
    "\n",
    "plt.title(f'Thresh {thresh}')\n"
   ]
  },
  {
   "cell_type": "code",
   "execution_count": null,
   "metadata": {},
   "outputs": [],
   "source": [
    "from sklearn.metrics import roc_curve\n",
    "from sklearn.metrics import roc_auc_score"
   ]
  },
  {
   "cell_type": "code",
   "execution_count": null,
   "metadata": {},
   "outputs": [],
   "source": [
    "true_lab = []\n",
    "for i in range(0, 22):\n",
    "    true_lab.append(0)\n",
    "    \n",
    "for i in range(0, 8):\n",
    "    true_lab.append(1)"
   ]
  },
  {
   "cell_type": "code",
   "execution_count": null,
   "metadata": {},
   "outputs": [],
   "source": [
    "AUC = roc_auc_score(y_true = true_lab, y_score=all_data)\n",
    "AUC = round(AUC, 2)\n",
    "AUC"
   ]
  },
  {
   "cell_type": "code",
   "execution_count": null,
   "metadata": {},
   "outputs": [],
   "source": [
    "scaled_data = [data / 0.2 for data in all_data]\n",
    "\n",
    "roc_auc_score(y_true = true_lab, y_score=scaled_data)"
   ]
  },
  {
   "cell_type": "code",
   "execution_count": null,
   "metadata": {},
   "outputs": [],
   "source": [
    "fpr, tpr, _ = roc_curve(y_true=true_lab, y_score=all_data)"
   ]
  },
  {
   "cell_type": "code",
   "execution_count": null,
   "metadata": {},
   "outputs": [],
   "source": [
    "fpr, tpr, thresholds = roc_curve(y_true=true_lab, y_score=all_data)"
   ]
  },
  {
   "cell_type": "code",
   "execution_count": null,
   "metadata": {},
   "outputs": [],
   "source": [
    "ns_probs = [0 for _ in range(len(true_lab))]\n",
    "# ns_probs\n",
    "\n",
    "ns_fpr, ns_tpr, _ = roc_curve(true_lab, ns_probs)\n",
    "ns_auc = roc_auc_score(true_lab, ns_probs)"
   ]
  },
  {
   "cell_type": "code",
   "execution_count": null,
   "metadata": {},
   "outputs": [],
   "source": [
    "plt.plot(fpr, tpr, marker='.', color='tab:orange', lw=3)\n",
    "plt.plot(ns_fpr, ns_tpr, linestyle='--', color='tab:blue', lw=3)\n",
    "\n",
    "custom_params = {\"axes.spines.right\": False, \"axes.spines.top\": False}\n",
    "sns.set_theme(style=\"white\", palette=None)\n",
    "sns.set_theme(style=\"ticks\", rc=custom_params)\n",
    "\n",
    "ax = plt.gca()\n",
    "ax.set_ylim(-0.02, 1.05)\n",
    "ax.set_xlim(-0.02, 1.05)\n",
    "\n",
    "# ax.set_title(f'ROC curve using Threshold = {thresh}')\n",
    "ax.set_ylabel('Sensitivity', fontsize=20)\n",
    "ax.set_xlabel('1 - Specificity', fontsize=20)\n",
    "\n",
    "ax.set_xticks(np.arange(0.0, 1.2, 0.2))\n",
    "ax.set_yticks(np.arange(0.0, 1.2, 0.2))\n",
    "\n",
    "ax.set_xticklabels([0.0, 0.2, 0.4, 0.6, 0.8, 1.0], fontsize=16)\n",
    "ax.set_yticklabels([0.0, 0.2, 0.4, 0.6, 0.8, 1.0], fontsize=16)\n",
    "\n",
    "ax.text(0.65, 0.3, f'AUC = {AUC}', fontsize=23)\n",
    "\n",
    "# plt.savefig(hrs22_path + f'roccurve_thresh_{thresh}-correct-bf-notitle-bigf.png', bbox_inches='tight')"
   ]
  },
  {
   "cell_type": "code",
   "execution_count": null,
   "metadata": {},
   "outputs": [],
   "source": [
    "plt.plot(fpr, tpr, marker='.', color='tab:orange', lw=3)\n",
    "plt.plot(ns_fpr, ns_tpr, linestyle='--', color='tab:blue', lw=3)\n",
    "\n",
    "custom_params = {\"axes.spines.right\": False, \"axes.spines.top\": False}\n",
    "sns.set_theme(style=\"white\", palette=None)\n",
    "sns.set_theme(style=\"ticks\", rc=custom_params)\n",
    "\n",
    "ax = plt.gca()\n",
    "ax.set_ylim(-0.02, 1.05)\n",
    "ax.set_xlim(-0.02, 1.05)\n",
    "\n",
    "# ax.set_title(f'ROC curve using Threshold = {thresh}')\n",
    "ax.set_ylabel('Sensitivity', fontsize=20)\n",
    "ax.set_xlabel('1 - Specificity', fontsize=20)\n",
    "\n",
    "ax.set_xticks(np.arange(0.0, 1.2, 0.2))\n",
    "ax.set_yticks(np.arange(0.0, 1.2, 0.2))\n",
    "\n",
    "ax.set_xticklabels([0.0, 0.2, 0.4, 0.6, 0.8, 1.0], fontsize=16)\n",
    "ax.set_yticklabels([0.0, 0.2, 0.4, 0.6, 0.8, 1.0], fontsize=16)\n",
    "\n",
    "ax.text(0.65, 0.3, f'AUC = 0.83', fontsize=23)\n",
    "\n",
    "# plt.savefig(\"/home/csi20/Dropbox/phd/Documents/HRS22/roccurve_thresh_{thresh}-correct-bf-notitle-bigf-dpi300.png\", bbox_inches='tight', dpi=300)"
   ]
  },
  {
   "cell_type": "code",
   "execution_count": null,
   "metadata": {},
   "outputs": [],
   "source": [
    "tpr[6] # Sensitivity"
   ]
  },
  {
   "cell_type": "code",
   "execution_count": null,
   "metadata": {},
   "outputs": [],
   "source": [
    "1 - fpr[6] # Specificity"
   ]
  },
  {
   "cell_type": "code",
   "execution_count": null,
   "metadata": {},
   "outputs": [],
   "source": [
    "thresholds[6]"
   ]
  },
  {
   "cell_type": "code",
   "execution_count": null,
   "metadata": {},
   "outputs": [],
   "source": [
    "sns.set_style('whitegrid')\n",
    "\n",
    "boxplt_cols = ['tab:blue', 'tab:orange']\n",
    "\n",
    "sns.boxplot(data=[HF_data, AF_data], palette=boxplt_cols)\n",
    "\n",
    "ax = plt.gca()\n",
    "ax.set_ylim(0.0, 0.29)\n",
    "\n",
    "ax.set_xticks([0,1])\n",
    "ax.set_xticklabels(['HF', 'HF + AF'], fontsize=20)\n",
    "\n",
    "ax.set_yticks([0.0, 0.05, 0.10, 0.15, 0.20, 0.25])\n",
    "ax.set_yticklabels([0, 5, 10, 15, 20, 25], fontsize=13)\n",
    "\n",
    "ax.set_ylabel('Akinetic proportion\\nof surface area [%]', fontsize=20)\n",
    "\n",
    "ax.text(0.5, 0.265, \"p value = 0.002\", ha='center', va='bottom', fontsize=16)\n",
    "ax.plot([0, 0, 1, 1], [0.255, 0.265, 0.265, 0.255], lw=1.2, c='black')\n",
    "\n",
    "# plt.savefig(hrs22_path + f'boxplot_thresh_{thresh}.png', bbox_inches='tight')"
   ]
  },
  {
   "cell_type": "code",
   "execution_count": null,
   "metadata": {},
   "outputs": [],
   "source": [
    "sns.set_style('whitegrid')\n",
    "\n",
    "boxplt_cols = ['tab:blue', 'tab:orange']\n",
    "\n",
    "sns.boxplot(data=[HF_data, AF_data], palette=boxplt_cols)\n",
    "\n",
    "ax = plt.gca()\n",
    "ax.set_ylim(0.0, 0.33)\n",
    "\n",
    "ax.set_xticks([0,1])\n",
    "ax.set_xticklabels(['HF Only', 'HF + AF'], fontsize=22)\n",
    "\n",
    "ax.set_yticks([0.0, 0.05, 0.10, 0.15, 0.20, 0.25, 0.30])\n",
    "ax.set_yticklabels([0, 5, 10, 15, 20, 25, 30], fontsize=15)\n",
    "\n",
    "ax.set_ylabel('Akinetic proportion\\nof LA surface area [%]', fontsize=22)\n",
    "\n",
    "ax.text(0.5, 0.295, \"p value = 0.002\", ha='center', va='bottom', fontsize=16)\n",
    "ax.plot([0, 0, 1, 1], [0.285, 0.295, 0.295, 0.285], lw=1.2, c='black')\n",
    "\n",
    "ax.text(0.15, 0.245, \"n = 22\", ha='right', va='bottom', fontsize=16)\n",
    "ax.text(0.87, 0.245, \"n = 8\", ha='left', va='bottom', fontsize=16)\n",
    "\n",
    "# plt.savefig('/home/csi20/Dropbox/phd/Documents/HRS22/boxplot_thresh_{thresh}_dpi300.png', bbox_inches='tight', dpi=300)"
   ]
  },
  {
   "cell_type": "code",
   "execution_count": null,
   "metadata": {},
   "outputs": [],
   "source": [
    "from scipy.stats import ttest_ind"
   ]
  },
  {
   "cell_type": "code",
   "execution_count": null,
   "metadata": {},
   "outputs": [],
   "source": [
    "ttest_ind(HF_data, AF_data)"
   ]
  },
  {
   "cell_type": "code",
   "execution_count": null,
   "metadata": {},
   "outputs": [],
   "source": []
  },
  {
   "cell_type": "markdown",
   "metadata": {},
   "source": [
    "## Mean, median, std of HF, AF + HF population and healthy population"
   ]
  },
  {
   "cell_type": "code",
   "execution_count": null,
   "metadata": {},
   "outputs": [],
   "source": [
    "AF_mean = np.mean(AF_data)\n",
    "HF_mean = np.mean(HF_data)\n",
    "\n",
    "AF_std = np.std(AF_data)\n",
    "HF_std = np.std(HF_data)\n",
    "\n",
    "AF_med = np.median(AF_data)\n",
    "HF_med = np.median(HF_data)"
   ]
  },
  {
   "cell_type": "code",
   "execution_count": null,
   "metadata": {},
   "outputs": [],
   "source": [
    "print('AF mean: ', AF_mean)\n",
    "print('HF mean: ', HF_mean)"
   ]
  },
  {
   "cell_type": "code",
   "execution_count": null,
   "metadata": {},
   "outputs": [],
   "source": [
    "print('AF median: ', AF_med)\n",
    "print('HF median: ', HF_med)"
   ]
  },
  {
   "cell_type": "code",
   "execution_count": null,
   "metadata": {},
   "outputs": [],
   "source": [
    "print('AF std: ', AF_std)\n",
    "print('HF std: ', HF_std)"
   ]
  },
  {
   "cell_type": "code",
   "execution_count": null,
   "metadata": {},
   "outputs": [],
   "source": [
    "f, (ax1, ax2) = plt.subplots(1, 2, sharey=True)\n",
    "\n",
    "sns.barplot(ax=ax1, data=AF_data)\n",
    "# ax1.set_ylim(0.0, 0.3)\n",
    "\n",
    "ax2 = sns.barplot(ax=ax2, data=HF_data)\n",
    "# ax.set_ylim(0.0, 0.3)"
   ]
  },
  {
   "cell_type": "code",
   "execution_count": null,
   "metadata": {},
   "outputs": [],
   "source": [
    "for Case in All_Cases:\n",
    "    \n",
    "    thresh = 0.1\n",
    "    \n",
    "    if Case in TDownsampled_Cases:\n",
    "        proportion = ProportionAkinetic(f'/home/csi20local/Data/RG_CT_Cases/{Case}/MT-HiRes-TDownsampled/SW-0.0-BE-4e-9/area-strains-4.csv',\n",
    "                                       thresh)\n",
    "    \n",
    "    else:\n",
    "        proportion = ProportionAkinetic(f'/home/csi20local/Data/RG_CT_Cases/{Case}/MT-HiRes/SW-0.0-BE-4e-9/area-strains-4.csv',\n",
    "                                       thresh)\n",
    "        \n",
    "    print(Case, proportion)"
   ]
  },
  {
   "cell_type": "code",
   "execution_count": null,
   "metadata": {},
   "outputs": [],
   "source": []
  }
 ],
 "metadata": {
  "kernelspec": {
   "display_name": "Python 3 (ipykernel)",
   "language": "python",
   "name": "python3"
  },
  "language_info": {
   "codemirror_mode": {
    "name": "ipython",
    "version": 3
   },
   "file_extension": ".py",
   "mimetype": "text/x-python",
   "name": "python",
   "nbconvert_exporter": "python",
   "pygments_lexer": "ipython3",
   "version": "3.9.7"
  }
 },
 "nbformat": 4,
 "nbformat_minor": 4
}
