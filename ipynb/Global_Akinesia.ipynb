{
 "cells": [
  {
   "cell_type": "markdown",
   "id": "cc65cdac",
   "metadata": {},
   "source": [
    "## Exploring Global Akinesia"
   ]
  },
  {
   "cell_type": "code",
   "execution_count": 4,
   "id": "d3d896d5",
   "metadata": {},
   "outputs": [
    {
     "ename": "ModuleNotFoundError",
     "evalue": "No module named 'pyvista'",
     "output_type": "error",
     "traceback": [
      "\u001b[0;31m---------------------------------------------------------------------------\u001b[0m",
      "\u001b[0;31mModuleNotFoundError\u001b[0m                       Traceback (most recent call last)",
      "Input \u001b[0;32mIn [4]\u001b[0m, in \u001b[0;36m<module>\u001b[0;34m\u001b[0m\n\u001b[1;32m      2\u001b[0m \u001b[38;5;28;01mimport\u001b[39;00m \u001b[38;5;21;01mpandas\u001b[39;00m \u001b[38;5;28;01mas\u001b[39;00m \u001b[38;5;21;01mpd\u001b[39;00m\n\u001b[1;32m      3\u001b[0m \u001b[38;5;28;01mimport\u001b[39;00m \u001b[38;5;21;01mmatplotlib\u001b[39;00m\u001b[38;5;21;01m.\u001b[39;00m\u001b[38;5;21;01mpyplot\u001b[39;00m \u001b[38;5;28;01mas\u001b[39;00m \u001b[38;5;21;01mplt\u001b[39;00m\n\u001b[0;32m----> 4\u001b[0m \u001b[38;5;28;01mimport\u001b[39;00m \u001b[38;5;21;01mpyvista\u001b[39;00m \u001b[38;5;28;01mas\u001b[39;00m \u001b[38;5;21;01mpv\u001b[39;00m\n",
      "\u001b[0;31mModuleNotFoundError\u001b[0m: No module named 'pyvista'"
     ]
    }
   ],
   "source": [
    "import numpy as np\n",
    "import pandas as pd\n",
    "import matplotlib.pyplot as plt\n",
    "import pyvista as pv"
   ]
  },
  {
   "cell_type": "code",
   "execution_count": 2,
   "id": "0e4125f4",
   "metadata": {},
   "outputs": [],
   "source": [
    "## Read in end-systolic fibre strains \n",
    "\n",
    "## Take ES at t = 40 %\n",
    "\n",
    "fibre_arch='avg'\n",
    "\n",
    "DataPath=\"/home/csi20local/Dropbox/phd/Data/RG_CT_Cases\"\n",
    "\n",
    "df_07 = pd.read_csv(f'{DataPath}/CT-CRT-07/MT-HiRes/SW-0.0-BE-1e-9/endo_{fibre_arch}-strains-t4.txt', \n",
    "                    sep=' ', skiprows=2, names=['f1', 'f2', 'f3'])\n",
    "df_14 = pd.read_csv(f'{DataPath}/CT-CRT-14/MT-HiRes/SW-0.0-BE-1e-9/endo_{fibre_arch}-strains-t4.txt',\n",
    "                    sep=' ', skiprows=2, names=['f1', 'f2', 'f3'])\n",
    "df_19 = pd.read_csv(f'{DataPath}/CT-CRT-19/MT-HiRes/SW-0.0-BE-1e-9/endo_{fibre_arch}-strains-t4.txt',\n",
    "                    sep=' ', skiprows=2, names=['f1', 'f2', 'f3'])\n",
    "df_20 = pd.read_csv(f'{DataPath}/CT-CRT-20/MT-HiRes/SW-0.0-BE-1e-9/endo_{fibre_arch}-strains-t4.txt',\n",
    "                    sep=' ', skiprows=2, names=['f1', 'f2', 'f3'])\n",
    "df_21 = pd.read_csv(f'{DataPath}/CT-CRT-21/MT-HiRes-TDownsampled/SW-0.0-BE-1e-9/endo_{fibre_arch}-strains-t4.txt',\n",
    "                    sep=' ', skiprows=2, names=['f1', 'f2', 'f3'])\n",
    "df_23 = pd.read_csv(f'{DataPath}/CT-CRT-23/MT-HiRes-TDownsampled/SW-0.0-BE-1e-9/endo_{fibre_arch}-strains-t4.txt',\n",
    "                    sep=' ', skiprows=2, names=['f1', 'f2', 'f3'])\n",
    "df_26 = pd.read_csv(f'{DataPath}/CT-CRT-26/MT-HiRes-TDownsampled/SW-0.0-BE-1e-9/endo_{fibre_arch}-strains-t4.txt',\n",
    "                    sep=' ', skiprows=2, names=['f1', 'f2', 'f3'])\n",
    "df_28 = pd.read_csv(f'{DataPath}/CT-CRT-28/MT-HiRes-TDownsampled/SW-0.0-BE-1e-9/endo_{fibre_arch}-strains-t4.txt',\n",
    "                    sep=' ', skiprows=2, names=['f1', 'f2', 'f3'])\n",
    "df_29 = pd.read_csv(f'{DataPath}/CT-CRT-29/MT-HiRes-TDownsampled/SW-0.0-BE-1e-9/endo_{fibre_arch}-strains-t4.txt',\n",
    "                    sep=' ', skiprows=2, names=['f1', 'f2', 'f3'])\n",
    "df_31 = pd.read_csv(f'{DataPath}/CT-CRT-31/MT-HiRes-TDownsampled/SW-0.0-BE-1e-9/endo_{fibre_arch}-strains-t4.txt',\n",
    "                    sep=' ', skiprows=2, names=['f1', 'f2', 'f3'])"
   ]
  },
  {
   "cell_type": "code",
   "execution_count": null,
   "id": "ff188373",
   "metadata": {},
   "outputs": [],
   "source": []
  },
  {
   "cell_type": "code",
   "execution_count": 3,
   "id": "2bf3019e",
   "metadata": {},
   "outputs": [
    {
     "data": {
      "text/html": [
       "<div>\n",
       "<style scoped>\n",
       "    .dataframe tbody tr th:only-of-type {\n",
       "        vertical-align: middle;\n",
       "    }\n",
       "\n",
       "    .dataframe tbody tr th {\n",
       "        vertical-align: top;\n",
       "    }\n",
       "\n",
       "    .dataframe thead th {\n",
       "        text-align: right;\n",
       "    }\n",
       "</style>\n",
       "<table border=\"1\" class=\"dataframe\">\n",
       "  <thead>\n",
       "    <tr style=\"text-align: right;\">\n",
       "      <th></th>\n",
       "      <th>f1</th>\n",
       "      <th>f2</th>\n",
       "      <th>f3</th>\n",
       "    </tr>\n",
       "  </thead>\n",
       "  <tbody>\n",
       "    <tr>\n",
       "      <th>0</th>\n",
       "      <td>-0.111030</td>\n",
       "      <td>0.123270</td>\n",
       "      <td>-8.070590e-17</td>\n",
       "    </tr>\n",
       "    <tr>\n",
       "      <th>1</th>\n",
       "      <td>0.203587</td>\n",
       "      <td>0.293619</td>\n",
       "      <td>2.447280e-16</td>\n",
       "    </tr>\n",
       "    <tr>\n",
       "      <th>2</th>\n",
       "      <td>0.864754</td>\n",
       "      <td>0.029098</td>\n",
       "      <td>2.246570e-16</td>\n",
       "    </tr>\n",
       "    <tr>\n",
       "      <th>3</th>\n",
       "      <td>-0.252276</td>\n",
       "      <td>0.217167</td>\n",
       "      <td>-1.723530e-16</td>\n",
       "    </tr>\n",
       "    <tr>\n",
       "      <th>4</th>\n",
       "      <td>-0.123541</td>\n",
       "      <td>0.091191</td>\n",
       "      <td>-1.100110e-16</td>\n",
       "    </tr>\n",
       "    <tr>\n",
       "      <th>...</th>\n",
       "      <td>...</td>\n",
       "      <td>...</td>\n",
       "      <td>...</td>\n",
       "    </tr>\n",
       "    <tr>\n",
       "      <th>159542</th>\n",
       "      <td>-0.101371</td>\n",
       "      <td>0.068062</td>\n",
       "      <td>1.473970e-17</td>\n",
       "    </tr>\n",
       "    <tr>\n",
       "      <th>159543</th>\n",
       "      <td>0.066898</td>\n",
       "      <td>0.335260</td>\n",
       "      <td>7.272360e-17</td>\n",
       "    </tr>\n",
       "    <tr>\n",
       "      <th>159544</th>\n",
       "      <td>0.181869</td>\n",
       "      <td>0.251274</td>\n",
       "      <td>1.338870e-16</td>\n",
       "    </tr>\n",
       "    <tr>\n",
       "      <th>159545</th>\n",
       "      <td>0.127683</td>\n",
       "      <td>0.294539</td>\n",
       "      <td>-1.778030e-16</td>\n",
       "    </tr>\n",
       "    <tr>\n",
       "      <th>159546</th>\n",
       "      <td>0.200650</td>\n",
       "      <td>0.252066</td>\n",
       "      <td>-1.225100e-17</td>\n",
       "    </tr>\n",
       "  </tbody>\n",
       "</table>\n",
       "<p>159547 rows × 3 columns</p>\n",
       "</div>"
      ],
      "text/plain": [
       "              f1        f2            f3\n",
       "0      -0.111030  0.123270 -8.070590e-17\n",
       "1       0.203587  0.293619  2.447280e-16\n",
       "2       0.864754  0.029098  2.246570e-16\n",
       "3      -0.252276  0.217167 -1.723530e-16\n",
       "4      -0.123541  0.091191 -1.100110e-16\n",
       "...          ...       ...           ...\n",
       "159542 -0.101371  0.068062  1.473970e-17\n",
       "159543  0.066898  0.335260  7.272360e-17\n",
       "159544  0.181869  0.251274  1.338870e-16\n",
       "159545  0.127683  0.294539 -1.778030e-16\n",
       "159546  0.200650  0.252066 -1.225100e-17\n",
       "\n",
       "[159547 rows x 3 columns]"
      ]
     },
     "execution_count": 3,
     "metadata": {},
     "output_type": "execute_result"
    }
   ],
   "source": [
    "df_07"
   ]
  },
  {
   "cell_type": "code",
   "execution_count": null,
   "id": "f4d552be",
   "metadata": {},
   "outputs": [],
   "source": []
  }
 ],
 "metadata": {
  "kernelspec": {
   "display_name": "Python 3 (ipykernel)",
   "language": "python",
   "name": "python3"
  },
  "language_info": {
   "codemirror_mode": {
    "name": "ipython",
    "version": 3
   },
   "file_extension": ".py",
   "mimetype": "text/x-python",
   "name": "python",
   "nbconvert_exporter": "python",
   "pygments_lexer": "ipython3",
   "version": "3.9.7"
  }
 },
 "nbformat": 4,
 "nbformat_minor": 5
}
