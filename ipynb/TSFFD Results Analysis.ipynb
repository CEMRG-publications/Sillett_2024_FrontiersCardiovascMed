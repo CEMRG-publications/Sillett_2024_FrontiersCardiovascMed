{
 "cells": [
  {
   "cell_type": "markdown",
   "metadata": {},
   "source": [
    "Analysis of TSFFD Errors: Mean, Median, Std Deviation of different opimisations for different error metrics"
   ]
  },
  {
   "cell_type": "code",
   "execution_count": 1,
   "metadata": {},
   "outputs": [],
   "source": [
    "import numpy as np\n",
    "import matplotlib.pyplot as plt\n",
    "import pandas as pd"
   ]
  },
  {
   "cell_type": "code",
   "execution_count": 4,
   "metadata": {},
   "outputs": [],
   "source": [
    "# MinDataframe returns dataframe of booleans, where True gives position of minimum value in df.\n",
    "\n",
    "def MinDataframe(df):\n",
    "    \n",
    "    min_ans = df.min().min()\n",
    "    df_bool = df == min_ans\n",
    "    \n",
    "    return df_bool"
   ]
  },
  {
   "cell_type": "code",
   "execution_count": 5,
   "metadata": {},
   "outputs": [],
   "source": [
    "# MaxDataframe returns dataframe of booleans, where True gives position of minimum value in df.\n",
    "\n",
    "def MaxDataframe(df):\n",
    "    \n",
    "    max_ans = df.max().max()\n",
    "    df_bool = df == max_ans\n",
    "    \n",
    "    return df_bool"
   ]
  },
  {
   "cell_type": "code",
   "execution_count": 40,
   "metadata": {},
   "outputs": [],
   "source": [
    "# CaseErrors reads in a dataframe of errors for Case {Case}, at Resolution {Res}, for the error metric {Metric}\n",
    "\n",
    "# Inputs: Res, Case, Metric all as str\n",
    "# Returns: Dataframe\n",
    "\n",
    "def CaseErrors(Res, Case, Metric):\n",
    "    \n",
    "    Res = str(Res)\n",
    "    Case = str(Case)\n",
    "    Metric = str(Metric)\n",
    "    \n",
    "    Path = f'/home/csi20local/Data/RG_CT_Cases/CT-CRT-{Case}/{Res}-{Metric}.csv'\n",
    "    \n",
    "    df = pd.read_csv(Path, sep=' ', index_col = 0)\n",
    "    \n",
    "    return df"
   ]
  },
  {
   "cell_type": "code",
   "execution_count": 15,
   "metadata": {},
   "outputs": [],
   "source": [
    "Res = 'MT-HiRes'\n",
    "Case = '05'\n",
    "Metric = 'Normal-Distance'"
   ]
  },
  {
   "cell_type": "code",
   "execution_count": 10,
   "metadata": {},
   "outputs": [],
   "source": [
    "Path = '/home/csi20local/Data/MarinaData/CT_Charlie/CT-CRT-' + Case + '/' + Res + '/'"
   ]
  },
  {
   "cell_type": "code",
   "execution_count": 97,
   "metadata": {},
   "outputs": [
    {
     "data": {
      "text/html": [
       "<div>\n",
       "<style scoped>\n",
       "    .dataframe tbody tr th:only-of-type {\n",
       "        vertical-align: middle;\n",
       "    }\n",
       "\n",
       "    .dataframe tbody tr th {\n",
       "        vertical-align: top;\n",
       "    }\n",
       "\n",
       "    .dataframe thead th {\n",
       "        text-align: right;\n",
       "    }\n",
       "</style>\n",
       "<table border=\"1\" class=\"dataframe\">\n",
       "  <thead>\n",
       "    <tr style=\"text-align: right;\">\n",
       "      <th></th>\n",
       "      <th>9e-2</th>\n",
       "      <th>3e-2</th>\n",
       "      <th>9e-3</th>\n",
       "      <th>3e-3</th>\n",
       "      <th>9e-4</th>\n",
       "      <th>3e-4</th>\n",
       "      <th>0.0</th>\n",
       "    </tr>\n",
       "  </thead>\n",
       "  <tbody>\n",
       "    <tr>\n",
       "      <th>4.000000e-06</th>\n",
       "      <td>1.58662</td>\n",
       "      <td>1.83472</td>\n",
       "      <td>1.84079</td>\n",
       "      <td>1.65349</td>\n",
       "      <td>1.73772</td>\n",
       "      <td>1.77564</td>\n",
       "      <td>1.49135</td>\n",
       "    </tr>\n",
       "    <tr>\n",
       "      <th>1.000000e-06</th>\n",
       "      <td>1.62943</td>\n",
       "      <td>1.74360</td>\n",
       "      <td>1.62845</td>\n",
       "      <td>1.73779</td>\n",
       "      <td>1.90868</td>\n",
       "      <td>1.80418</td>\n",
       "      <td>1.79107</td>\n",
       "    </tr>\n",
       "    <tr>\n",
       "      <th>4.000000e-07</th>\n",
       "      <td>1.73935</td>\n",
       "      <td>1.65295</td>\n",
       "      <td>1.74384</td>\n",
       "      <td>1.71887</td>\n",
       "      <td>1.64543</td>\n",
       "      <td>1.77765</td>\n",
       "      <td>1.60719</td>\n",
       "    </tr>\n",
       "    <tr>\n",
       "      <th>1.000000e-07</th>\n",
       "      <td>1.80062</td>\n",
       "      <td>1.74207</td>\n",
       "      <td>1.58639</td>\n",
       "      <td>1.79390</td>\n",
       "      <td>1.77246</td>\n",
       "      <td>1.75715</td>\n",
       "      <td>1.58754</td>\n",
       "    </tr>\n",
       "    <tr>\n",
       "      <th>4.000000e-08</th>\n",
       "      <td>1.79349</td>\n",
       "      <td>1.74312</td>\n",
       "      <td>1.81002</td>\n",
       "      <td>1.79387</td>\n",
       "      <td>1.78742</td>\n",
       "      <td>1.77287</td>\n",
       "      <td>1.77389</td>\n",
       "    </tr>\n",
       "    <tr>\n",
       "      <th>1.000000e-08</th>\n",
       "      <td>1.78747</td>\n",
       "      <td>1.81611</td>\n",
       "      <td>1.61527</td>\n",
       "      <td>1.79224</td>\n",
       "      <td>1.77723</td>\n",
       "      <td>1.62963</td>\n",
       "      <td>1.77497</td>\n",
       "    </tr>\n",
       "    <tr>\n",
       "      <th>4.000000e-09</th>\n",
       "      <td>1.59939</td>\n",
       "      <td>1.99398</td>\n",
       "      <td>1.58655</td>\n",
       "      <td>1.80319</td>\n",
       "      <td>1.81235</td>\n",
       "      <td>1.80279</td>\n",
       "      <td>1.81034</td>\n",
       "    </tr>\n",
       "    <tr>\n",
       "      <th>1.000000e-09</th>\n",
       "      <td>1.76130</td>\n",
       "      <td>1.76889</td>\n",
       "      <td>1.77461</td>\n",
       "      <td>1.80114</td>\n",
       "      <td>1.71833</td>\n",
       "      <td>1.82913</td>\n",
       "      <td>1.69665</td>\n",
       "    </tr>\n",
       "    <tr>\n",
       "      <th>4.000000e-10</th>\n",
       "      <td>1.75804</td>\n",
       "      <td>1.76313</td>\n",
       "      <td>1.74919</td>\n",
       "      <td>1.80786</td>\n",
       "      <td>1.86139</td>\n",
       "      <td>1.81999</td>\n",
       "      <td>1.69522</td>\n",
       "    </tr>\n",
       "  </tbody>\n",
       "</table>\n",
       "</div>"
      ],
      "text/plain": [
       "                 9e-2     3e-2     9e-3     3e-3     9e-4     3e-4      0.0\n",
       "4.000000e-06  1.58662  1.83472  1.84079  1.65349  1.73772  1.77564  1.49135\n",
       "1.000000e-06  1.62943  1.74360  1.62845  1.73779  1.90868  1.80418  1.79107\n",
       "4.000000e-07  1.73935  1.65295  1.74384  1.71887  1.64543  1.77765  1.60719\n",
       "1.000000e-07  1.80062  1.74207  1.58639  1.79390  1.77246  1.75715  1.58754\n",
       "4.000000e-08  1.79349  1.74312  1.81002  1.79387  1.78742  1.77287  1.77389\n",
       "1.000000e-08  1.78747  1.81611  1.61527  1.79224  1.77723  1.62963  1.77497\n",
       "4.000000e-09  1.59939  1.99398  1.58655  1.80319  1.81235  1.80279  1.81034\n",
       "1.000000e-09  1.76130  1.76889  1.77461  1.80114  1.71833  1.82913  1.69665\n",
       "4.000000e-10  1.75804  1.76313  1.74919  1.80786  1.86139  1.81999  1.69522"
      ]
     },
     "execution_count": 97,
     "metadata": {},
     "output_type": "execute_result"
    }
   ],
   "source": [
    "CaseErrors('MT', '16', 'RIPV-AbsoluteError')"
   ]
  },
  {
   "cell_type": "code",
   "execution_count": null,
   "metadata": {},
   "outputs": [],
   "source": []
  },
  {
   "cell_type": "code",
   "execution_count": 37,
   "metadata": {},
   "outputs": [
    {
     "ename": "FileNotFoundError",
     "evalue": "[Errno 2] No such file or directory: '/home/csi20local/Data/RG_CT_Cases/CT-CRT-29/MT-HiRes-Normal-Distance-Results.csv'",
     "output_type": "error",
     "traceback": [
      "\u001b[0;31m---------------------------------------------------------------------------\u001b[0m",
      "\u001b[0;31mFileNotFoundError\u001b[0m                         Traceback (most recent call last)",
      "\u001b[0;32m<ipython-input-37-09ef54753bb9>\u001b[0m in \u001b[0;36m<module>\u001b[0;34m\u001b[0m\n\u001b[0;32m----> 1\u001b[0;31m \u001b[0mCaseErrors\u001b[0m\u001b[0;34m(\u001b[0m\u001b[0;34m'MT-HiRes'\u001b[0m\u001b[0;34m,\u001b[0m \u001b[0;34m'29'\u001b[0m\u001b[0;34m,\u001b[0m \u001b[0;34m'Normal-Distance'\u001b[0m\u001b[0;34m)\u001b[0m\u001b[0;34m\u001b[0m\u001b[0;34m\u001b[0m\u001b[0m\n\u001b[0m",
      "\u001b[0;32m<ipython-input-25-7bf10825a6e1>\u001b[0m in \u001b[0;36mCaseErrors\u001b[0;34m(Res, Case, Metric)\u001b[0m\n\u001b[1;32m     10\u001b[0m     \u001b[0mPath\u001b[0m \u001b[0;34m=\u001b[0m \u001b[0;34mf'/home/csi20local/Data/RG_CT_Cases/CT-CRT-{Case}/{Res}-{Metric}-Results.csv'\u001b[0m\u001b[0;34m\u001b[0m\u001b[0;34m\u001b[0m\u001b[0m\n\u001b[1;32m     11\u001b[0m \u001b[0;34m\u001b[0m\u001b[0m\n\u001b[0;32m---> 12\u001b[0;31m     \u001b[0mdf\u001b[0m \u001b[0;34m=\u001b[0m \u001b[0mpd\u001b[0m\u001b[0;34m.\u001b[0m\u001b[0mread_csv\u001b[0m\u001b[0;34m(\u001b[0m\u001b[0mPath\u001b[0m\u001b[0;34m,\u001b[0m \u001b[0msep\u001b[0m\u001b[0;34m=\u001b[0m\u001b[0;34m' '\u001b[0m\u001b[0;34m,\u001b[0m \u001b[0mindex_col\u001b[0m \u001b[0;34m=\u001b[0m \u001b[0;36m0\u001b[0m\u001b[0;34m)\u001b[0m\u001b[0;34m\u001b[0m\u001b[0;34m\u001b[0m\u001b[0m\n\u001b[0m\u001b[1;32m     13\u001b[0m \u001b[0;34m\u001b[0m\u001b[0m\n\u001b[1;32m     14\u001b[0m     \u001b[0;32mreturn\u001b[0m \u001b[0mdf\u001b[0m\u001b[0;34m\u001b[0m\u001b[0;34m\u001b[0m\u001b[0m\n",
      "\u001b[0;32m/home/csi20local/snap/jupyter/common/lib/python3.7/site-packages/pandas/io/parsers.py\u001b[0m in \u001b[0;36mread_csv\u001b[0;34m(filepath_or_buffer, sep, delimiter, header, names, index_col, usecols, squeeze, prefix, mangle_dupe_cols, dtype, engine, converters, true_values, false_values, skipinitialspace, skiprows, skipfooter, nrows, na_values, keep_default_na, na_filter, verbose, skip_blank_lines, parse_dates, infer_datetime_format, keep_date_col, date_parser, dayfirst, cache_dates, iterator, chunksize, compression, thousands, decimal, lineterminator, quotechar, quoting, doublequote, escapechar, comment, encoding, dialect, error_bad_lines, warn_bad_lines, delim_whitespace, low_memory, memory_map, float_precision)\u001b[0m\n\u001b[1;32m    686\u001b[0m     )\n\u001b[1;32m    687\u001b[0m \u001b[0;34m\u001b[0m\u001b[0m\n\u001b[0;32m--> 688\u001b[0;31m     \u001b[0;32mreturn\u001b[0m \u001b[0m_read\u001b[0m\u001b[0;34m(\u001b[0m\u001b[0mfilepath_or_buffer\u001b[0m\u001b[0;34m,\u001b[0m \u001b[0mkwds\u001b[0m\u001b[0;34m)\u001b[0m\u001b[0;34m\u001b[0m\u001b[0;34m\u001b[0m\u001b[0m\n\u001b[0m\u001b[1;32m    689\u001b[0m \u001b[0;34m\u001b[0m\u001b[0m\n\u001b[1;32m    690\u001b[0m \u001b[0;34m\u001b[0m\u001b[0m\n",
      "\u001b[0;32m/home/csi20local/snap/jupyter/common/lib/python3.7/site-packages/pandas/io/parsers.py\u001b[0m in \u001b[0;36m_read\u001b[0;34m(filepath_or_buffer, kwds)\u001b[0m\n\u001b[1;32m    452\u001b[0m \u001b[0;34m\u001b[0m\u001b[0m\n\u001b[1;32m    453\u001b[0m     \u001b[0;31m# Create the parser.\u001b[0m\u001b[0;34m\u001b[0m\u001b[0;34m\u001b[0m\u001b[0;34m\u001b[0m\u001b[0m\n\u001b[0;32m--> 454\u001b[0;31m     \u001b[0mparser\u001b[0m \u001b[0;34m=\u001b[0m \u001b[0mTextFileReader\u001b[0m\u001b[0;34m(\u001b[0m\u001b[0mfp_or_buf\u001b[0m\u001b[0;34m,\u001b[0m \u001b[0;34m**\u001b[0m\u001b[0mkwds\u001b[0m\u001b[0;34m)\u001b[0m\u001b[0;34m\u001b[0m\u001b[0;34m\u001b[0m\u001b[0m\n\u001b[0m\u001b[1;32m    455\u001b[0m \u001b[0;34m\u001b[0m\u001b[0m\n\u001b[1;32m    456\u001b[0m     \u001b[0;32mif\u001b[0m \u001b[0mchunksize\u001b[0m \u001b[0;32mor\u001b[0m \u001b[0miterator\u001b[0m\u001b[0;34m:\u001b[0m\u001b[0;34m\u001b[0m\u001b[0;34m\u001b[0m\u001b[0m\n",
      "\u001b[0;32m/home/csi20local/snap/jupyter/common/lib/python3.7/site-packages/pandas/io/parsers.py\u001b[0m in \u001b[0;36m__init__\u001b[0;34m(self, f, engine, **kwds)\u001b[0m\n\u001b[1;32m    946\u001b[0m             \u001b[0mself\u001b[0m\u001b[0;34m.\u001b[0m\u001b[0moptions\u001b[0m\u001b[0;34m[\u001b[0m\u001b[0;34m\"has_index_names\"\u001b[0m\u001b[0;34m]\u001b[0m \u001b[0;34m=\u001b[0m \u001b[0mkwds\u001b[0m\u001b[0;34m[\u001b[0m\u001b[0;34m\"has_index_names\"\u001b[0m\u001b[0;34m]\u001b[0m\u001b[0;34m\u001b[0m\u001b[0;34m\u001b[0m\u001b[0m\n\u001b[1;32m    947\u001b[0m \u001b[0;34m\u001b[0m\u001b[0m\n\u001b[0;32m--> 948\u001b[0;31m         \u001b[0mself\u001b[0m\u001b[0;34m.\u001b[0m\u001b[0m_make_engine\u001b[0m\u001b[0;34m(\u001b[0m\u001b[0mself\u001b[0m\u001b[0;34m.\u001b[0m\u001b[0mengine\u001b[0m\u001b[0;34m)\u001b[0m\u001b[0;34m\u001b[0m\u001b[0;34m\u001b[0m\u001b[0m\n\u001b[0m\u001b[1;32m    949\u001b[0m \u001b[0;34m\u001b[0m\u001b[0m\n\u001b[1;32m    950\u001b[0m     \u001b[0;32mdef\u001b[0m \u001b[0mclose\u001b[0m\u001b[0;34m(\u001b[0m\u001b[0mself\u001b[0m\u001b[0;34m)\u001b[0m\u001b[0;34m:\u001b[0m\u001b[0;34m\u001b[0m\u001b[0;34m\u001b[0m\u001b[0m\n",
      "\u001b[0;32m/home/csi20local/snap/jupyter/common/lib/python3.7/site-packages/pandas/io/parsers.py\u001b[0m in \u001b[0;36m_make_engine\u001b[0;34m(self, engine)\u001b[0m\n\u001b[1;32m   1178\u001b[0m     \u001b[0;32mdef\u001b[0m \u001b[0m_make_engine\u001b[0m\u001b[0;34m(\u001b[0m\u001b[0mself\u001b[0m\u001b[0;34m,\u001b[0m \u001b[0mengine\u001b[0m\u001b[0;34m=\u001b[0m\u001b[0;34m\"c\"\u001b[0m\u001b[0;34m)\u001b[0m\u001b[0;34m:\u001b[0m\u001b[0;34m\u001b[0m\u001b[0;34m\u001b[0m\u001b[0m\n\u001b[1;32m   1179\u001b[0m         \u001b[0;32mif\u001b[0m \u001b[0mengine\u001b[0m \u001b[0;34m==\u001b[0m \u001b[0;34m\"c\"\u001b[0m\u001b[0;34m:\u001b[0m\u001b[0;34m\u001b[0m\u001b[0;34m\u001b[0m\u001b[0m\n\u001b[0;32m-> 1180\u001b[0;31m             \u001b[0mself\u001b[0m\u001b[0;34m.\u001b[0m\u001b[0m_engine\u001b[0m \u001b[0;34m=\u001b[0m \u001b[0mCParserWrapper\u001b[0m\u001b[0;34m(\u001b[0m\u001b[0mself\u001b[0m\u001b[0;34m.\u001b[0m\u001b[0mf\u001b[0m\u001b[0;34m,\u001b[0m \u001b[0;34m**\u001b[0m\u001b[0mself\u001b[0m\u001b[0;34m.\u001b[0m\u001b[0moptions\u001b[0m\u001b[0;34m)\u001b[0m\u001b[0;34m\u001b[0m\u001b[0;34m\u001b[0m\u001b[0m\n\u001b[0m\u001b[1;32m   1181\u001b[0m         \u001b[0;32melse\u001b[0m\u001b[0;34m:\u001b[0m\u001b[0;34m\u001b[0m\u001b[0;34m\u001b[0m\u001b[0m\n\u001b[1;32m   1182\u001b[0m             \u001b[0;32mif\u001b[0m \u001b[0mengine\u001b[0m \u001b[0;34m==\u001b[0m \u001b[0;34m\"python\"\u001b[0m\u001b[0;34m:\u001b[0m\u001b[0;34m\u001b[0m\u001b[0;34m\u001b[0m\u001b[0m\n",
      "\u001b[0;32m/home/csi20local/snap/jupyter/common/lib/python3.7/site-packages/pandas/io/parsers.py\u001b[0m in \u001b[0;36m__init__\u001b[0;34m(self, src, **kwds)\u001b[0m\n\u001b[1;32m   2008\u001b[0m         \u001b[0mkwds\u001b[0m\u001b[0;34m[\u001b[0m\u001b[0;34m\"usecols\"\u001b[0m\u001b[0;34m]\u001b[0m \u001b[0;34m=\u001b[0m \u001b[0mself\u001b[0m\u001b[0;34m.\u001b[0m\u001b[0musecols\u001b[0m\u001b[0;34m\u001b[0m\u001b[0;34m\u001b[0m\u001b[0m\n\u001b[1;32m   2009\u001b[0m \u001b[0;34m\u001b[0m\u001b[0m\n\u001b[0;32m-> 2010\u001b[0;31m         \u001b[0mself\u001b[0m\u001b[0;34m.\u001b[0m\u001b[0m_reader\u001b[0m \u001b[0;34m=\u001b[0m \u001b[0mparsers\u001b[0m\u001b[0;34m.\u001b[0m\u001b[0mTextReader\u001b[0m\u001b[0;34m(\u001b[0m\u001b[0msrc\u001b[0m\u001b[0;34m,\u001b[0m \u001b[0;34m**\u001b[0m\u001b[0mkwds\u001b[0m\u001b[0;34m)\u001b[0m\u001b[0;34m\u001b[0m\u001b[0;34m\u001b[0m\u001b[0m\n\u001b[0m\u001b[1;32m   2011\u001b[0m         \u001b[0mself\u001b[0m\u001b[0;34m.\u001b[0m\u001b[0munnamed_cols\u001b[0m \u001b[0;34m=\u001b[0m \u001b[0mself\u001b[0m\u001b[0;34m.\u001b[0m\u001b[0m_reader\u001b[0m\u001b[0;34m.\u001b[0m\u001b[0munnamed_cols\u001b[0m\u001b[0;34m\u001b[0m\u001b[0;34m\u001b[0m\u001b[0m\n\u001b[1;32m   2012\u001b[0m \u001b[0;34m\u001b[0m\u001b[0m\n",
      "\u001b[0;32mpandas/_libs/parsers.pyx\u001b[0m in \u001b[0;36mpandas._libs.parsers.TextReader.__cinit__\u001b[0;34m()\u001b[0m\n",
      "\u001b[0;32mpandas/_libs/parsers.pyx\u001b[0m in \u001b[0;36mpandas._libs.parsers.TextReader._setup_parser_source\u001b[0;34m()\u001b[0m\n",
      "\u001b[0;31mFileNotFoundError\u001b[0m: [Errno 2] No such file or directory: '/home/csi20local/Data/RG_CT_Cases/CT-CRT-29/MT-HiRes-Normal-Distance-Results.csv'"
     ]
    }
   ],
   "source": [
    "CaseErrors('MT-HiRes', '29', 'Normal-Distance')"
   ]
  },
  {
   "cell_type": "code",
   "execution_count": null,
   "metadata": {},
   "outputs": [],
   "source": []
  },
  {
   "cell_type": "code",
   "execution_count": null,
   "metadata": {},
   "outputs": [],
   "source": [
    "test_reread = pd.read_csv(f'/home/csi20local/Data/RG_CT_Cases/CT-CRT-{Case}/{Res}-{Metric}-Results.csv',\n",
    "                          sep = ' ', index_col = 0)"
   ]
  },
  {
   "cell_type": "code",
   "execution_count": null,
   "metadata": {},
   "outputs": [],
   "source": [
    "test_reread"
   ]
  },
  {
   "cell_type": "markdown",
   "metadata": {},
   "source": [
    "Calculate differences between case specific errors and LV errors. This corresopnds to finding the improvment in error after optimising the SW and BE hyperparameters."
   ]
  },
  {
   "cell_type": "code",
   "execution_count": 34,
   "metadata": {},
   "outputs": [],
   "source": [
    "Differences = []\n",
    "\n",
    "for i in ['01', '02', '05', '06', '07', '08', '09', '12', '15', '16']:\n",
    "    \n",
    "    test_reread = pd.read_csv('/home/csi20local/Data/MarinaData/CT_Charlie/CT-CRT-' + i + '/' + Res + '-Normal-Distance-Results.csv', \n",
    "           sep = ' ', index_col = 0)\n",
    "    \n",
    "    case = test_reread.min().min()\n",
    "    LV = test_reread.loc[4e-7]['9e-3']\n",
    "    \n",
    "    difference = abs(case - LV)\n",
    "    \n",
    "    Differences.append(difference)"
   ]
  },
  {
   "cell_type": "code",
   "execution_count": 35,
   "metadata": {},
   "outputs": [
    {
     "data": {
      "text/plain": [
       "0.07657709273278512"
      ]
     },
     "execution_count": 35,
     "metadata": {},
     "output_type": "execute_result"
    }
   ],
   "source": [
    "max(Differences)"
   ]
  },
  {
   "cell_type": "code",
   "execution_count": null,
   "metadata": {},
   "outputs": [],
   "source": []
  },
  {
   "cell_type": "code",
   "execution_count": 9,
   "metadata": {},
   "outputs": [],
   "source": [
    "for i in ['12']:\n",
    "    \n",
    "    test_reread = pd.read_csv('/home/csi20local/Data/MarinaData/CT_Charlie/CT-CRT-' + i + '/' + Res + '-PVeinsCropped-Dice-Results.csv', \n",
    "           sep = ' ', index_col = 0)"
   ]
  },
  {
   "cell_type": "code",
   "execution_count": 10,
   "metadata": {},
   "outputs": [
    {
     "data": {
      "text/plain": [
       "0.9599532662004718"
      ]
     },
     "execution_count": 10,
     "metadata": {},
     "output_type": "execute_result"
    }
   ],
   "source": [
    "np.median(test_reread)"
   ]
  },
  {
   "cell_type": "code",
   "execution_count": 34,
   "metadata": {},
   "outputs": [],
   "source": [
    "case_optimal_Dice = []\n",
    "\n",
    "for i in ['01', '02', '05', '06', '07', '08', '09', '12', '15', '16']:\n",
    "    \n",
    "    test_reread = pd.read_csv('/home/csi20local/Data/MarinaData/CT_Charlie/CT-CRT-' + i + '/' + Res + '-Dice-Results.csv', \n",
    "           sep = ' ', index_col = 0)\n",
    "    \n",
    "    optimal = test_reread.max().max()\n",
    "    \n",
    "    case_optimal_Dice.append(optimal)"
   ]
  },
  {
   "cell_type": "code",
   "execution_count": 8,
   "metadata": {},
   "outputs": [],
   "source": [
    "case_optimal_DHD = []\n",
    "\n",
    "for i in ['01', '02', '05', '06', '07', '08', '09', '12', '15', '16']:\n",
    "    \n",
    "    test_reread = pd.read_csv('/home/csi20local/Data/MarinaData/CT_Charlie/CT-CRT-' + i + '/' + Res + '-Hausdorff-Distance-Results.csv', \n",
    "           sep = ' ', index_col = 0)\n",
    "    \n",
    "    optimal = test_reread.min().min()\n",
    "    \n",
    "    case_optimal_DHD.append(optimal)"
   ]
  },
  {
   "cell_type": "code",
   "execution_count": null,
   "metadata": {},
   "outputs": [],
   "source": [
    "case_optimal_ASD = []\n",
    "\n",
    "for i in ['01', '02', '05', '06', '07', '08', '09', '12', '15', '16']:\n",
    "    \n",
    "    test_reread = pd.read_csv('/home/csi20local/Data/MarinaData/CT_Charlie/CT-CRT-' + i + '/' + Res + '-Normal-Distance-Results.csv', \n",
    "           sep = ' ', index_col = 0)\n",
    "    \n",
    "    optimal = test_reread.min().min()\n",
    "    \n",
    "    case_optimal_ASD.append(optimal)"
   ]
  },
  {
   "cell_type": "code",
   "execution_count": 28,
   "metadata": {},
   "outputs": [],
   "source": [
    "pop_optimal_Dice = []\n",
    "\n",
    "for i in ['01', '02', '05', '06', '07', '08', '09', '12', '15', '16']:\n",
    "    \n",
    "    test_reread = pd.read_csv('/home/csi20local/Data/MarinaData/CT_Charlie/CT-CRT-' + i + '/' + Res + '-Dice-Results.csv', \n",
    "           sep = ' ', index_col = 0)\n",
    "    \n",
    "    optimal = test_reread.loc[1e-6]['3e-3']\n",
    "    \n",
    "    pop_optimal_Dice.append(optimal)"
   ]
  },
  {
   "cell_type": "code",
   "execution_count": null,
   "metadata": {},
   "outputs": [],
   "source": [
    "pop_optimal_DHD = []\n",
    "\n",
    "for i in ['01', '02', '05', '06', '07', '08', '09', '12', '15', '16']:\n",
    "    \n",
    "    test_reread = pd.read_csv('/home/csi20local/Data/MarinaData/CT_Charlie/CT-CRT-' + i + '/' + Res + '-Hausdorff-Distance-Results.csv', \n",
    "           sep = ' ', index_col = 0)\n",
    "    \n",
    "    optimal = test_reread.loc[1e-6]['3e-4']\n",
    "    \n",
    "    pop_optimal_DHD.append(optimal)"
   ]
  },
  {
   "cell_type": "code",
   "execution_count": null,
   "metadata": {},
   "outputs": [],
   "source": [
    "pop_optimal_ASD = []\n",
    "\n",
    "for i in ['01', '02', '05', '06', '07', '08', '09', '12', '15', '16']:\n",
    "    \n",
    "    test_reread = pd.read_csv('/home/csi20local/Data/MarinaData/CT_Charlie/CT-CRT-' + i + '/' + Res + '-Normal-Distance-Results.csv', \n",
    "           sep = ' ', index_col = 0)\n",
    "    \n",
    "    optimal = test_reread.loc[1e-6]['3e-3']\n",
    "    \n",
    "    pop_optimal_ASD.append(optimal)"
   ]
  },
  {
   "cell_type": "code",
   "execution_count": 31,
   "metadata": {},
   "outputs": [],
   "source": [
    "LV_optimal_Dice = []\n",
    "\n",
    "for i in ['01', '02', '05', '06', '07', '08', '09', '12', '15', '16']:\n",
    "    \n",
    "    test_reread = pd.read_csv('/home/csi20local/Data/MarinaData/CT_Charlie/CT-CRT-' + i + '/' + Res + '-Dice-Results.csv', \n",
    "           sep = ' ', index_col = 0)\n",
    "    \n",
    "    optimal = test_reread.loc[4e-7]['9e-3']\n",
    "    \n",
    "    LV_optimal_Dice.append(optimal)"
   ]
  },
  {
   "cell_type": "code",
   "execution_count": null,
   "metadata": {},
   "outputs": [],
   "source": [
    "LV_optimal_DHD = []\n",
    "\n",
    "for i in ['01', '02', '05', '06', '07', '08', '09', '12', '15', '16']:\n",
    "    \n",
    "    test_reread = pd.read_csv('/home/csi20local/Data/MarinaData/CT_Charlie/CT-CRT-' + i + '/' + Res + '-Hausdorff-Distance-Results.csv', \n",
    "           sep = ' ', index_col = 0)\n",
    "    \n",
    "    optimal = test_reread.loc[4e-7]['9e-3']\n",
    "    \n",
    "    LV_optimal_DHD.append(optimal)"
   ]
  },
  {
   "cell_type": "code",
   "execution_count": null,
   "metadata": {},
   "outputs": [],
   "source": [
    "LV_optimal_ASD = []\n",
    "\n",
    "for i in ['01', '02', '05', '06', '07', '08', '09', '12', '15', '16']:\n",
    "    \n",
    "    test_reread = pd.read_csv('/home/csi20local/Data/MarinaData/CT_Charlie/CT-CRT-' + i + '/' + Res + '-Normal-Distance-Results.csv', \n",
    "           sep = ' ', index_col = 0)\n",
    "    \n",
    "    optimal = test_reread.loc[4e-7]['9e-3']\n",
    "    \n",
    "    LV_optimal_ASD.append(optimal)"
   ]
  },
  {
   "cell_type": "code",
   "execution_count": null,
   "metadata": {},
   "outputs": [],
   "source": [
    "max(case_optimal_DHD)"
   ]
  },
  {
   "cell_type": "code",
   "execution_count": null,
   "metadata": {},
   "outputs": [],
   "source": [
    "case_optimal_DHD"
   ]
  },
  {
   "cell_type": "code",
   "execution_count": 9,
   "metadata": {},
   "outputs": [
    {
     "data": {
      "text/plain": [
       "2.7394773871866267"
      ]
     },
     "execution_count": 9,
     "metadata": {},
     "output_type": "execute_result"
    }
   ],
   "source": [
    "np.mean(case_optimal_DHD)"
   ]
  },
  {
   "cell_type": "code",
   "execution_count": 10,
   "metadata": {},
   "outputs": [
    {
     "data": {
      "text/plain": [
       "0.8431652090801245"
      ]
     },
     "execution_count": 10,
     "metadata": {},
     "output_type": "execute_result"
    }
   ],
   "source": [
    "np.std(case_optimal_DHD)"
   ]
  },
  {
   "cell_type": "code",
   "execution_count": null,
   "metadata": {},
   "outputs": [],
   "source": [
    "case_optimal_ASD"
   ]
  },
  {
   "cell_type": "code",
   "execution_count": null,
   "metadata": {},
   "outputs": [],
   "source": [
    "min(case_optimal_ASD)"
   ]
  },
  {
   "cell_type": "code",
   "execution_count": null,
   "metadata": {},
   "outputs": [],
   "source": [
    "np.mean(case_optimal_ASD)"
   ]
  },
  {
   "cell_type": "code",
   "execution_count": null,
   "metadata": {},
   "outputs": [],
   "source": [
    "np.std(case_optimal_ASD)"
   ]
  },
  {
   "cell_type": "code",
   "execution_count": null,
   "metadata": {},
   "outputs": [],
   "source": [
    "test_reread.loc[4e-6]['9e-2']"
   ]
  },
  {
   "cell_type": "code",
   "execution_count": null,
   "metadata": {},
   "outputs": [],
   "source": [
    "max(pop_optimal_DHD)"
   ]
  },
  {
   "cell_type": "code",
   "execution_count": null,
   "metadata": {},
   "outputs": [],
   "source": [
    "np.mean(pop_optimal_DHD)"
   ]
  },
  {
   "cell_type": "code",
   "execution_count": null,
   "metadata": {},
   "outputs": [],
   "source": [
    "np.std(pop_optimal_DHD)"
   ]
  },
  {
   "cell_type": "code",
   "execution_count": null,
   "metadata": {
    "scrolled": true
   },
   "outputs": [],
   "source": [
    "min(pop_optimal_ASD)"
   ]
  },
  {
   "cell_type": "code",
   "execution_count": null,
   "metadata": {
    "scrolled": true
   },
   "outputs": [],
   "source": [
    "np.mean(pop_optimal_ASD)"
   ]
  },
  {
   "cell_type": "code",
   "execution_count": null,
   "metadata": {
    "scrolled": true
   },
   "outputs": [],
   "source": [
    "np.std(pop_optimal_ASD)"
   ]
  },
  {
   "cell_type": "code",
   "execution_count": null,
   "metadata": {},
   "outputs": [],
   "source": [
    "max(LV_optimal_DHD)"
   ]
  },
  {
   "cell_type": "code",
   "execution_count": null,
   "metadata": {},
   "outputs": [],
   "source": [
    "np.mean(LV_optimal_DHD)"
   ]
  },
  {
   "cell_type": "code",
   "execution_count": null,
   "metadata": {},
   "outputs": [],
   "source": [
    "np.std(LV_optimal_DHD)"
   ]
  },
  {
   "cell_type": "code",
   "execution_count": null,
   "metadata": {},
   "outputs": [],
   "source": [
    "max(LV_optimal_ASD)"
   ]
  },
  {
   "cell_type": "code",
   "execution_count": null,
   "metadata": {},
   "outputs": [],
   "source": [
    "np.mean(LV_optimal_ASD)"
   ]
  },
  {
   "cell_type": "code",
   "execution_count": null,
   "metadata": {},
   "outputs": [],
   "source": [
    "np.std(LV_optimal_ASD)"
   ]
  },
  {
   "cell_type": "code",
   "execution_count": null,
   "metadata": {},
   "outputs": [],
   "source": [
    "max(case_optimal_Dice)"
   ]
  },
  {
   "cell_type": "code",
   "execution_count": null,
   "metadata": {},
   "outputs": [],
   "source": [
    "case_optimal_Dice"
   ]
  },
  {
   "cell_type": "code",
   "execution_count": 35,
   "metadata": {},
   "outputs": [
    {
     "data": {
      "text/plain": [
       "0.9190463177472967"
      ]
     },
     "execution_count": 35,
     "metadata": {},
     "output_type": "execute_result"
    }
   ],
   "source": [
    "np.mean(case_optimal_Dice)"
   ]
  },
  {
   "cell_type": "code",
   "execution_count": 36,
   "metadata": {},
   "outputs": [
    {
     "data": {
      "text/plain": [
       "0.02901423430795612"
      ]
     },
     "execution_count": 36,
     "metadata": {},
     "output_type": "execute_result"
    }
   ],
   "source": [
    "np.std(case_optimal_Dice)"
   ]
  },
  {
   "cell_type": "code",
   "execution_count": 29,
   "metadata": {
    "scrolled": true
   },
   "outputs": [
    {
     "data": {
      "text/plain": [
       "0.9172506597419803"
      ]
     },
     "execution_count": 29,
     "metadata": {},
     "output_type": "execute_result"
    }
   ],
   "source": [
    "np.mean(pop_optimal_Dice)"
   ]
  },
  {
   "cell_type": "code",
   "execution_count": 30,
   "metadata": {},
   "outputs": [
    {
     "data": {
      "text/plain": [
       "0.028487547515427696"
      ]
     },
     "execution_count": 30,
     "metadata": {},
     "output_type": "execute_result"
    }
   ],
   "source": [
    "np.std(pop_optimal_Dice)"
   ]
  },
  {
   "cell_type": "code",
   "execution_count": null,
   "metadata": {},
   "outputs": [],
   "source": [
    "LV_optimal_Dice"
   ]
  },
  {
   "cell_type": "code",
   "execution_count": 32,
   "metadata": {
    "scrolled": true
   },
   "outputs": [
    {
     "data": {
      "text/plain": [
       "0.9121912327529891"
      ]
     },
     "execution_count": 32,
     "metadata": {},
     "output_type": "execute_result"
    }
   ],
   "source": [
    "np.mean(LV_optimal_Dice)"
   ]
  },
  {
   "cell_type": "code",
   "execution_count": 33,
   "metadata": {},
   "outputs": [
    {
     "data": {
      "text/plain": [
       "0.03297226063483331"
      ]
     },
     "execution_count": 33,
     "metadata": {},
     "output_type": "execute_result"
    }
   ],
   "source": [
    "np.std(LV_optimal_Dice)"
   ]
  },
  {
   "cell_type": "markdown",
   "metadata": {},
   "source": [
    "### High Resolution CP"
   ]
  },
  {
   "cell_type": "code",
   "execution_count": null,
   "metadata": {},
   "outputs": [],
   "source": [
    "#Case = '01'\n",
    "Res = 'MT-HiRes' # 'MT-HiRes'\n",
    "\n",
    "#Path = '/home/csi20local/Data/MarinaData/CT_Charlie/CT-CRT-' + Case + '/' + Res + '/'"
   ]
  },
  {
   "cell_type": "code",
   "execution_count": null,
   "metadata": {},
   "outputs": [],
   "source": [
    "case_optimal_ASD = []\n",
    "\n",
    "for i in ['01', '02', '05', '06', '07', '08', '09', '12', '15', '16']:\n",
    "    \n",
    "    test_reread = pd.read_csv('/home/csi20local/Data/MarinaData/CT_Charlie/CT-CRT-' + i + '/' + Res + '-Normal-Distance-Results.csv', \n",
    "           sep = ' ', index_col = 0)\n",
    "    \n",
    "    optimal = test_reread.min().min()\n",
    "    \n",
    "    case_optimal_ASD.append(optimal)"
   ]
  },
  {
   "cell_type": "code",
   "execution_count": null,
   "metadata": {},
   "outputs": [],
   "source": [
    "case_optimal_DHD = []\n",
    "\n",
    "for i in ['01', '02', '05', '06', '07', '08', '09', '12', '15', '16']:\n",
    "    \n",
    "    test_reread = pd.read_csv('/home/csi20local/Data/MarinaData/CT_Charlie/CT-CRT-' + i + '/' + Res + '-Hausdorff-Distance-Results.csv', \n",
    "           sep = ' ', index_col = 0)\n",
    "    \n",
    "    optimal = test_reread.min().min()\n",
    "    \n",
    "    case_optimal_DHD.append(optimal)"
   ]
  },
  {
   "cell_type": "code",
   "execution_count": null,
   "metadata": {},
   "outputs": [],
   "source": [
    "pop_optimal_ASD = []\n",
    "\n",
    "for i in ['01', '02', '05', '06', '07', '08', '09', '12', '15', '16']:\n",
    "    \n",
    "    test_reread = pd.read_csv('/home/csi20local/Data/MarinaData/CT_Charlie/CT-CRT-' + i + '/' + Res + '-Normal-Distance-Results.csv', \n",
    "           sep = ' ', index_col = 0)\n",
    "    \n",
    "    optimal = test_reread.loc[1e-6]['9e-3']\n",
    "    \n",
    "    pop_optimal_ASD.append(optimal)"
   ]
  },
  {
   "cell_type": "code",
   "execution_count": null,
   "metadata": {},
   "outputs": [],
   "source": [
    "pop_optimal_DHD = []\n",
    "\n",
    "for i in ['01', '02', '05', '06', '07', '08', '09', '12', '15', '16']:\n",
    "    \n",
    "    test_reread = pd.read_csv('/home/csi20local/Data/MarinaData/CT_Charlie/CT-CRT-' + i + '/' + Res + '-Hausdorff-Distance-Results.csv', \n",
    "           sep = ' ', index_col = 0)\n",
    "    \n",
    "    optimal = test_reread.loc[4e-7]['0.0']\n",
    "    \n",
    "    pop_optimal_DHD.append(optimal)"
   ]
  },
  {
   "cell_type": "code",
   "execution_count": null,
   "metadata": {},
   "outputs": [],
   "source": [
    "LV_optimal_ASD = []\n",
    "\n",
    "for i in ['01', '02', '05', '06', '07', '08', '09', '12', '15', '16']:\n",
    "    \n",
    "    test_reread = pd.read_csv('/home/csi20local/Data/MarinaData/CT_Charlie/CT-CRT-' + i + '/' + Res + '-Normal-Distance-Results.csv', \n",
    "           sep = ' ', index_col = 0)\n",
    "    \n",
    "    optimal = test_reread.loc[4e-7]['9e-3']\n",
    "    \n",
    "    LV_optimal_ASD.append(optimal)"
   ]
  },
  {
   "cell_type": "code",
   "execution_count": null,
   "metadata": {},
   "outputs": [],
   "source": [
    "LV_optimal_DHD = []\n",
    "\n",
    "for i in ['01', '02', '05', '06', '07', '08', '09', '12', '15', '16']:\n",
    "    \n",
    "    test_reread = pd.read_csv('/home/csi20local/Data/MarinaData/CT_Charlie/CT-CRT-' + i + '/' + Res + '-Hausdorff-Distance-Results.csv', \n",
    "           sep = ' ', index_col = 0)\n",
    "    \n",
    "    optimal = test_reread.loc[4e-7]['9e-3']\n",
    "    \n",
    "    LV_optimal_DHD.append(optimal)"
   ]
  },
  {
   "cell_type": "code",
   "execution_count": null,
   "metadata": {},
   "outputs": [],
   "source": [
    "np.mean(case_optimal_ASD)"
   ]
  },
  {
   "cell_type": "code",
   "execution_count": null,
   "metadata": {},
   "outputs": [],
   "source": [
    "np.mean(case_optimal_DHD)"
   ]
  },
  {
   "cell_type": "code",
   "execution_count": null,
   "metadata": {},
   "outputs": [],
   "source": [
    "np.std(case_optimal_ASD)"
   ]
  },
  {
   "cell_type": "code",
   "execution_count": null,
   "metadata": {},
   "outputs": [],
   "source": [
    "np.std(case_optimal_DHD)"
   ]
  },
  {
   "cell_type": "code",
   "execution_count": null,
   "metadata": {},
   "outputs": [],
   "source": [
    "np.mean(LV_optimal_ASD)"
   ]
  },
  {
   "cell_type": "code",
   "execution_count": null,
   "metadata": {},
   "outputs": [],
   "source": [
    "np.std(LV_optimal_ASD)"
   ]
  },
  {
   "cell_type": "code",
   "execution_count": null,
   "metadata": {},
   "outputs": [],
   "source": [
    "np.mean(LV_optimal_DHD)"
   ]
  },
  {
   "cell_type": "code",
   "execution_count": null,
   "metadata": {
    "scrolled": true
   },
   "outputs": [],
   "source": [
    "np.std(LV_optimal_DHD)"
   ]
  },
  {
   "cell_type": "markdown",
   "metadata": {},
   "source": [
    "#### Population Optimisations"
   ]
  },
  {
   "cell_type": "code",
   "execution_count": 17,
   "metadata": {},
   "outputs": [],
   "source": [
    "dfs = []\n",
    "\n",
    "Metric = 'Dice' # Hausdorff-Distance\n",
    "\n",
    "for i in ['01', '02', '05', '06', '07', '08', '09', '12', '15', '16']:\n",
    "    \n",
    "    test_reread = pd.read_csv(f'/home/csi20local/Data/MarinaData/CT_Charlie/CT-CRT-{i}/{Res}-{Metric}-Results.csv',\n",
    "                              sep = ' ', index_col = 0)\n",
    "    \n",
    "    dfs.append(test_reread)"
   ]
  },
  {
   "cell_type": "code",
   "execution_count": 18,
   "metadata": {},
   "outputs": [],
   "source": [
    "total = 0\n",
    "\n",
    "for i in dfs:\n",
    "    \n",
    "    total += i"
   ]
  },
  {
   "cell_type": "markdown",
   "metadata": {},
   "source": [
    "Find position of optimal hyperparameter combination for Dice metric across the population."
   ]
  },
  {
   "cell_type": "code",
   "execution_count": 19,
   "metadata": {},
   "outputs": [
    {
     "data": {
      "text/html": [
       "<div>\n",
       "<style scoped>\n",
       "    .dataframe tbody tr th:only-of-type {\n",
       "        vertical-align: middle;\n",
       "    }\n",
       "\n",
       "    .dataframe tbody tr th {\n",
       "        vertical-align: top;\n",
       "    }\n",
       "\n",
       "    .dataframe thead th {\n",
       "        text-align: right;\n",
       "    }\n",
       "</style>\n",
       "<table border=\"1\" class=\"dataframe\">\n",
       "  <thead>\n",
       "    <tr style=\"text-align: right;\">\n",
       "      <th></th>\n",
       "      <th>9e-2</th>\n",
       "      <th>3e-2</th>\n",
       "      <th>9e-3</th>\n",
       "      <th>3e-3</th>\n",
       "      <th>9e-4</th>\n",
       "      <th>3e-4</th>\n",
       "      <th>0.0</th>\n",
       "    </tr>\n",
       "  </thead>\n",
       "  <tbody>\n",
       "    <tr>\n",
       "      <th>4.000000e-06</th>\n",
       "      <td>False</td>\n",
       "      <td>False</td>\n",
       "      <td>False</td>\n",
       "      <td>False</td>\n",
       "      <td>False</td>\n",
       "      <td>False</td>\n",
       "      <td>False</td>\n",
       "    </tr>\n",
       "    <tr>\n",
       "      <th>1.000000e-06</th>\n",
       "      <td>False</td>\n",
       "      <td>False</td>\n",
       "      <td>False</td>\n",
       "      <td>True</td>\n",
       "      <td>False</td>\n",
       "      <td>False</td>\n",
       "      <td>False</td>\n",
       "    </tr>\n",
       "    <tr>\n",
       "      <th>4.000000e-07</th>\n",
       "      <td>False</td>\n",
       "      <td>False</td>\n",
       "      <td>False</td>\n",
       "      <td>False</td>\n",
       "      <td>False</td>\n",
       "      <td>False</td>\n",
       "      <td>False</td>\n",
       "    </tr>\n",
       "    <tr>\n",
       "      <th>1.000000e-07</th>\n",
       "      <td>False</td>\n",
       "      <td>False</td>\n",
       "      <td>False</td>\n",
       "      <td>False</td>\n",
       "      <td>False</td>\n",
       "      <td>False</td>\n",
       "      <td>False</td>\n",
       "    </tr>\n",
       "    <tr>\n",
       "      <th>4.000000e-08</th>\n",
       "      <td>False</td>\n",
       "      <td>False</td>\n",
       "      <td>False</td>\n",
       "      <td>False</td>\n",
       "      <td>False</td>\n",
       "      <td>False</td>\n",
       "      <td>False</td>\n",
       "    </tr>\n",
       "    <tr>\n",
       "      <th>1.000000e-08</th>\n",
       "      <td>False</td>\n",
       "      <td>False</td>\n",
       "      <td>False</td>\n",
       "      <td>False</td>\n",
       "      <td>False</td>\n",
       "      <td>False</td>\n",
       "      <td>False</td>\n",
       "    </tr>\n",
       "    <tr>\n",
       "      <th>4.000000e-09</th>\n",
       "      <td>False</td>\n",
       "      <td>False</td>\n",
       "      <td>False</td>\n",
       "      <td>False</td>\n",
       "      <td>False</td>\n",
       "      <td>False</td>\n",
       "      <td>False</td>\n",
       "    </tr>\n",
       "    <tr>\n",
       "      <th>1.000000e-09</th>\n",
       "      <td>False</td>\n",
       "      <td>False</td>\n",
       "      <td>False</td>\n",
       "      <td>False</td>\n",
       "      <td>False</td>\n",
       "      <td>False</td>\n",
       "      <td>False</td>\n",
       "    </tr>\n",
       "    <tr>\n",
       "      <th>4.000000e-10</th>\n",
       "      <td>False</td>\n",
       "      <td>False</td>\n",
       "      <td>False</td>\n",
       "      <td>False</td>\n",
       "      <td>False</td>\n",
       "      <td>False</td>\n",
       "      <td>False</td>\n",
       "    </tr>\n",
       "  </tbody>\n",
       "</table>\n",
       "</div>"
      ],
      "text/plain": [
       "               9e-2   3e-2   9e-3   3e-3   9e-4   3e-4    0.0\n",
       "4.000000e-06  False  False  False  False  False  False  False\n",
       "1.000000e-06  False  False  False   True  False  False  False\n",
       "4.000000e-07  False  False  False  False  False  False  False\n",
       "1.000000e-07  False  False  False  False  False  False  False\n",
       "4.000000e-08  False  False  False  False  False  False  False\n",
       "1.000000e-08  False  False  False  False  False  False  False\n",
       "4.000000e-09  False  False  False  False  False  False  False\n",
       "1.000000e-09  False  False  False  False  False  False  False\n",
       "4.000000e-10  False  False  False  False  False  False  False"
      ]
     },
     "execution_count": 19,
     "metadata": {},
     "output_type": "execute_result"
    }
   ],
   "source": [
    "MaxDataframe(total) "
   ]
  },
  {
   "cell_type": "code",
   "execution_count": null,
   "metadata": {},
   "outputs": [],
   "source": [
    "total.max()"
   ]
  },
  {
   "cell_type": "code",
   "execution_count": null,
   "metadata": {
    "scrolled": true
   },
   "outputs": [],
   "source": [
    "total.max().max()"
   ]
  },
  {
   "cell_type": "code",
   "execution_count": null,
   "metadata": {},
   "outputs": [],
   "source": [
    "np.mean(pop_optimal_ASD)"
   ]
  },
  {
   "cell_type": "code",
   "execution_count": null,
   "metadata": {},
   "outputs": [],
   "source": [
    "np.std(pop_optimal_ASD)"
   ]
  },
  {
   "cell_type": "code",
   "execution_count": null,
   "metadata": {},
   "outputs": [],
   "source": [
    "np.mean(pop_optimal_DHD)"
   ]
  },
  {
   "cell_type": "code",
   "execution_count": null,
   "metadata": {},
   "outputs": [],
   "source": [
    "np.std(pop_optimal_DHD)"
   ]
  },
  {
   "cell_type": "code",
   "execution_count": null,
   "metadata": {},
   "outputs": [],
   "source": [
    "pop_optimal_Dice"
   ]
  },
  {
   "cell_type": "code",
   "execution_count": null,
   "metadata": {},
   "outputs": [],
   "source": [
    "np.mean(pop_optimal_Dice)"
   ]
  },
  {
   "cell_type": "code",
   "execution_count": null,
   "metadata": {},
   "outputs": [],
   "source": [
    "np.std(pop_optimal_Dice)"
   ]
  },
  {
   "cell_type": "code",
   "execution_count": null,
   "metadata": {},
   "outputs": [],
   "source": []
  }
 ],
 "metadata": {
  "kernelspec": {
   "display_name": "Python 3 (ipykernel)",
   "language": "python",
   "name": "python3"
  },
  "language_info": {
   "codemirror_mode": {
    "name": "ipython",
    "version": 3
   },
   "file_extension": ".py",
   "mimetype": "text/x-python",
   "name": "python",
   "nbconvert_exporter": "python",
   "pygments_lexer": "ipython3",
   "version": "3.9.7"
  }
 },
 "nbformat": 4,
 "nbformat_minor": 4
}
