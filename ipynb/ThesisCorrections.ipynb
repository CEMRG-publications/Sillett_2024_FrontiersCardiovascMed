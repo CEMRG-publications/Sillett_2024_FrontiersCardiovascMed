{
 "cells": [
  {
   "cell_type": "markdown",
   "id": "40b4819e-a739-4da8-94c7-d64685cf5975",
   "metadata": {},
   "source": [
    "### Thesis Corrections Document\n",
    "\n",
    "Get mu pm stddev for HFrEF cohort separted by AF\n",
    "\n",
    "* HFrEF + AF : mu pm stddev\n",
    "* HFrEF - AF : mu pm stddev"
   ]
  },
  {
   "cell_type": "code",
   "execution_count": 1,
   "id": "fa9fe1cc-ce97-4938-ab64-4327a764b32f",
   "metadata": {},
   "outputs": [],
   "source": [
    "import pandas as pd\n",
    "import numpy as np\n",
    "import matplotlib.pyplot as plt"
   ]
  },
  {
   "cell_type": "code",
   "execution_count": 2,
   "id": "3df3fff7-f5f1-47bb-9637-449c8dbbff82",
   "metadata": {},
   "outputs": [],
   "source": [
    "from hrs_23_figures import *"
   ]
  },
  {
   "cell_type": "code",
   "execution_count": 9,
   "id": "f1d003dc-5460-4cb9-a203-5528c24787ee",
   "metadata": {},
   "outputs": [],
   "source": [
    "path2demographics = \"/home/csi20/Dropbox/phd/Data/kiru_demographics_df_omitAFimaging.csv\"\n",
    "df_cases = pd.read_csv(path2demographics)\n",
    "af_df = df_cases[df_cases['af_num']==1]\n",
    "naf_df = df_cases[df_cases['af_num']==0]"
   ]
  },
  {
   "cell_type": "code",
   "execution_count": 32,
   "id": "0e0e337b-ba51-46bf-87a9-a94fc1f5971e",
   "metadata": {},
   "outputs": [],
   "source": [
    "mask = af_df[\"AF\"]==\"paroxysmal\"\n",
    "af_df = af_df.loc[mask]"
   ]
  },
  {
   "cell_type": "code",
   "execution_count": 33,
   "id": "246e78a3-74d1-4f9c-9a48-7c7a08214124",
   "metadata": {},
   "outputs": [],
   "source": [
    "af_cases = list(af_df[\"Case\"])"
   ]
  },
  {
   "cell_type": "code",
   "execution_count": 34,
   "id": "8bd9ee51-b6cd-445b-974e-ffb9f7509c13",
   "metadata": {},
   "outputs": [],
   "source": [
    "naf_cases = list(naf_df[\"Case\"])"
   ]
  },
  {
   "cell_type": "code",
   "execution_count": 37,
   "id": "21080bb0-59d2-4aae-827d-80986980e589",
   "metadata": {},
   "outputs": [],
   "source": [
    "tdownsampled_cases = ['CT-CRT/case21',\n",
    " 'CT-CRT/case23',\n",
    " 'CT-CRT/case26',\n",
    " 'CT-CRT/case27',\n",
    " 'EBR/case01',\n",
    " 'EBR/case02', 'CT-CRT/case24',\n",
    " 'CT-CRT/case28',\n",
    " 'CT-CRT/case29',\n",
    " 'CT-CRT/case30',\n",
    " 'CT-CRT/case32',\n",
    " 'CT-CRT/case34',\n",
    " 'EBR/case04',\n",
    " 'EBR/case05',\n",
    " 'EBR/case06']"
   ]
  },
  {
   "cell_type": "code",
   "execution_count": 38,
   "id": "338bf3d8-95c2-444a-98ee-438895db35e4",
   "metadata": {},
   "outputs": [],
   "source": [
    "af_cases_results = np.zeros((len(af_cases),))\n",
    "naf_cases_results = np.zeros((len(naf_cases),))\n",
    "\n",
    "for i, case in enumerate(af_cases):\n",
    "\n",
    "    if case in tdownsampled_cases:\n",
    "        path2data=f\"/media/cs1623/One Touch/Backup_April2023/Dropbox/phd/Data/RG_CT_Cases/{case}/MT-HiRes-TDownsampled/SW-0.0-BE-1e-9/area_meanstrains_global_excl_PVs_mshqual.txt\"\n",
    "    else:\n",
    "        path2data=f\"/media/cs1623/One Touch/Backup_April2023/Dropbox/phd/Data/RG_CT_Cases/{case}/MT-HiRes/SW-0.0-BE-1e-9/area_meanstrains_global_excl_PVs_mshqual.txt\"\n",
    "    \n",
    "    ans = np.loadtxt(path2data)\n",
    "    res = np.ptp(ans)\n",
    "    # print(ans)\n",
    "    af_cases_results[i]=res\n",
    "\n",
    "for i, case in enumerate(naf_cases):\n",
    "\n",
    "    if case in tdownsampled_cases:\n",
    "        path2data=f\"/media/cs1623/One Touch/Backup_April2023/Dropbox/phd/Data/RG_CT_Cases/{case}/MT-HiRes-TDownsampled/SW-0.0-BE-1e-9/area_meanstrains_global_excl_PVs_mshqual.txt\"\n",
    "    else:\n",
    "        path2data=f\"/media/cs1623/One Touch/Backup_April2023/Dropbox/phd/Data/RG_CT_Cases/{case}/MT-HiRes/SW-0.0-BE-1e-9/area_meanstrains_global_excl_PVs_mshqual.txt\"\n",
    "    \n",
    "    ans = np.loadtxt(path2data)\n",
    "    res = np.ptp(ans)\n",
    "    # print(ans)\n",
    "    naf_cases_results[i]=res"
   ]
  },
  {
   "cell_type": "code",
   "execution_count": 39,
   "id": "bd51813e-85f2-495a-97a0-55edbfd97a01",
   "metadata": {},
   "outputs": [
    {
     "data": {
      "text/plain": [
       "array([10.74928307,  8.76110645,  7.91407443])"
      ]
     },
     "execution_count": 39,
     "metadata": {},
     "output_type": "execute_result"
    }
   ],
   "source": [
    "af_cases_results"
   ]
  },
  {
   "cell_type": "code",
   "execution_count": 40,
   "id": "63aa574b-2be0-4019-adc1-ba8519b72e7c",
   "metadata": {},
   "outputs": [
    {
     "data": {
      "text/plain": [
       "array([14.60061459, 46.57144963, 35.02135678, 42.77006945, 16.39688223,\n",
       "       17.93829246, 25.47987464, 13.27508104,  7.62888602, 22.22563835,\n",
       "       35.91182412, 19.86959004, 33.79972415, 18.36267833, 20.14188767,\n",
       "       25.09910641, 51.80127835,  7.11545021, 62.23197925, 17.70072363,\n",
       "       49.11766965])"
      ]
     },
     "execution_count": 40,
     "metadata": {},
     "output_type": "execute_result"
    }
   ],
   "source": [
    "naf_cases_results"
   ]
  },
  {
   "cell_type": "markdown",
   "id": "930b3a52-2a1b-48d9-9468-c096163d88ec",
   "metadata": {},
   "source": [
    "## Answers"
   ]
  },
  {
   "cell_type": "code",
   "execution_count": 41,
   "id": "cac3f55e-0cc8-4219-974f-85bf4f6a618f",
   "metadata": {},
   "outputs": [],
   "source": [
    "## AF cases\n",
    "\n",
    "mu, std = np.mean(af_cases_results), np.std(af_cases_results)\n",
    "\n",
    "## HFrEF ONLY NO AF\n",
    "mu2, std2 = np.mean(naf_cases_results), np.std(naf_cases_results)"
   ]
  },
  {
   "cell_type": "code",
   "execution_count": 44,
   "id": "97f46109-f3e2-44bf-bea4-2bfb161dd34c",
   "metadata": {},
   "outputs": [
    {
     "data": {
      "text/plain": [
       "3"
      ]
     },
     "execution_count": 44,
     "metadata": {},
     "output_type": "execute_result"
    }
   ],
   "source": [
    "len(af_cases_results)"
   ]
  },
  {
   "cell_type": "code",
   "execution_count": 45,
   "id": "69a60f69-e0ec-44c8-8972-1e7d99bfb7b2",
   "metadata": {},
   "outputs": [
    {
     "data": {
      "text/plain": [
       "21"
      ]
     },
     "execution_count": 45,
     "metadata": {},
     "output_type": "execute_result"
    }
   ],
   "source": [
    "len(naf_cases_results)"
   ]
  },
  {
   "cell_type": "code",
   "execution_count": 46,
   "id": "4fd9ee8c-c959-4ad2-9bc0-3393e474b08f",
   "metadata": {},
   "outputs": [
    {
     "name": "stdout",
     "output_type": "stream",
     "text": [
      "9.141487982798486 1.1883096109928086\n"
     ]
    }
   ],
   "source": [
    "print(mu, std)"
   ]
  },
  {
   "cell_type": "code",
   "execution_count": 47,
   "id": "87e8345d-f394-4d30-bfb8-722c18d84e93",
   "metadata": {},
   "outputs": [
    {
     "name": "stdout",
     "output_type": "stream",
     "text": [
      "27.76476462010706 15.03964582991389\n"
     ]
    }
   ],
   "source": [
    "print(mu2, std2)"
   ]
  },
  {
   "cell_type": "code",
   "execution_count": null,
   "id": "278db15b-03b6-4bef-8688-e8feee2b1185",
   "metadata": {},
   "outputs": [],
   "source": []
  }
 ],
 "metadata": {
  "kernelspec": {
   "display_name": "Python [conda env:vtk]",
   "language": "python",
   "name": "conda-env-vtk-py"
  },
  "language_info": {
   "codemirror_mode": {
    "name": "ipython",
    "version": 3
   },
   "file_extension": ".py",
   "mimetype": "text/x-python",
   "name": "python",
   "nbconvert_exporter": "python",
   "pygments_lexer": "ipython3",
   "version": "3.9.7"
  }
 },
 "nbformat": 4,
 "nbformat_minor": 5
}
