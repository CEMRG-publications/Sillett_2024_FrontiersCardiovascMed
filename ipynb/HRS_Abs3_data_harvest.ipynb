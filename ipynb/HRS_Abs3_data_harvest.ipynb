{
 "cells": [
  {
   "cell_type": "code",
   "execution_count": 2,
   "id": "da973019",
   "metadata": {},
   "outputs": [],
   "source": [
    "import pandas as pd\n",
    "import pyvista as pv\n",
    "import numpy as np\n",
    "from pathlib import Path"
   ]
  },
  {
   "cell_type": "code",
   "execution_count": 3,
   "id": "0d77a231",
   "metadata": {},
   "outputs": [],
   "source": [
    "def distance(x1, y1, z1, x2, y2, z2):\n",
    "\t\"\"\"\n",
    "\tFunction to calculate distance between 2 3-d coordinates\n",
    "\t\"\"\"\n",
    "\n",
    "\tdist_sq = (x1-x2)**2 + (y1-y2)**2 + (z1-z2)**2\n",
    "\tdist = np.sqrt(dist_sq)\n",
    "\n",
    "\treturn dist"
   ]
  },
  {
   "cell_type": "code",
   "execution_count": 6,
   "id": "482d476c",
   "metadata": {},
   "outputs": [],
   "source": [
    "baseDir = \"/home/csi20local/Dropbox/phd/Projects/Stanford/Data/NAVx_Exports/S-0404 NAVx Export/2022_08_26_11_32_10\"\n",
    "\n",
    "## clr of UAC NAVx\n",
    "clrPath=f\"/home/csi20local/Dropbox/phd/Projects/Stanford/Data/DICOM_Gated_CT/S-0404/UAC_NAVx/clean-Labelled-refined-aligned.vtk\"\n",
    "uacPath=\"/home/csi20local/Dropbox/phd/Projects/Stanford/Data/DICOM_Gated_CT/S-0404/UAC_NAVx/Labelled_Coords_2D_Rescaling_v3_C_copy.vtk\"\n",
    "\n",
    "clr_aligned = pv.read(clrPath)\n",
    "uac_msh = pv.read(uacPath)"
   ]
  },
  {
   "cell_type": "markdown",
   "id": "b4a1d436",
   "metadata": {},
   "source": [
    "Pipeline:\n",
    "\n",
    "* read in p2p points\n",
    "* calcualte nearest cell, and omit those which are too far away from the cell\n",
    "* append said cell with p2p voltage\n",
    "* do for all DxL files to make densest possible voltage map"
   ]
  },
  {
   "cell_type": "code",
   "execution_count": 7,
   "id": "e044d362",
   "metadata": {},
   "outputs": [],
   "source": [
    "## voltage point coords and P2P value\n",
    "p2p_df_1 = pd.read_csv(f\"{baseDir}/p2p_LA_DxL_1.txt\")\n",
    "p2p_df_2 = pd.read_csv(f\"{baseDir}/p2p_LA_DxL_2.txt\")\n",
    "p2p_df_3 = pd.read_csv(f\"{baseDir}/p2p_LA_DxL_3.txt\")\n",
    "p2p_df_4 = pd.read_csv(f\"{baseDir}/p2p_LA_DxL_4.txt\")\n",
    "p2p_df_5 = pd.read_csv(f\"{baseDir}/p2p_LA_DxL_5.txt\")\n",
    "p2p_df_6 = pd.read_csv(f\"{baseDir}/p2p_LA_DxL_6.txt\")\n",
    "p2p_df_7 = pd.read_csv(f\"{baseDir}/p2p_LA_DxL_7.txt\")\n",
    "p2p_df_8 = pd.read_csv(f\"{baseDir}/p2p_LA_DxL_8.txt\")\n",
    "p2p_df_9 = pd.read_csv(f\"{baseDir}/p2p_LA_DxL_9.txt\")\n",
    "p2p_df_10 = pd.read_csv(f\"{baseDir}/p2p_LA_DxL_10.txt\")\n",
    "p2p_df_11 = pd.read_csv(f\"{baseDir}/p2p_LA_DxL_11.txt\")\n",
    "p2p_df_12 = pd.read_csv(f\"{baseDir}/p2p_LA_DxL_12.txt\")\n",
    "p2p_df_13 = pd.read_csv(f\"{baseDir}/p2p_LA_DxL_13.txt\")\n",
    "p2p_df_14 = pd.read_csv(f\"{baseDir}/p2p_LA_DxL_14.txt\")\n",
    "p2p_df_15 = pd.read_csv(f\"{baseDir}/p2p_LA_DxL_15.txt\")\n",
    "p2p_df_16 = pd.read_csv(f\"{baseDir}/p2p_LA_DxL_16.txt\")"
   ]
  },
  {
   "cell_type": "code",
   "execution_count": 8,
   "id": "032abb18",
   "metadata": {},
   "outputs": [],
   "source": [
    "num_DxL_files=16\n",
    "p2p_all = np.zeros((num_DxL_files, p2p_df_1.shape[0], p2p_df_1.shape[1]))\n",
    "p2p_all[0, ...] = p2p_df_1.to_numpy()\n",
    "p2p_all[1, ...] = p2p_df_2.to_numpy()\n",
    "p2p_all[2, ...] = p2p_df_3.to_numpy()\n",
    "p2p_all[3, ...] = p2p_df_4.to_numpy()\n",
    "p2p_all[4, ...] = p2p_df_5.to_numpy()\n",
    "p2p_all[5, ...] = p2p_df_6.to_numpy()\n",
    "p2p_all[6, ...] = p2p_df_7.to_numpy()\n",
    "p2p_all[7, ...] = p2p_df_8.to_numpy()\n",
    "p2p_all[8, ...] = p2p_df_9.to_numpy()\n",
    "p2p_all[9, ...] = p2p_df_10.to_numpy()\n",
    "p2p_all[10, ...] = p2p_df_11.to_numpy()\n",
    "p2p_all[11, ...] = p2p_df_12.to_numpy()\n",
    "p2p_all[12, ...] = p2p_df_13.to_numpy()\n",
    "p2p_all[13, ...] = p2p_df_14.to_numpy()\n",
    "p2p_all[14, ...] = p2p_df_15.to_numpy()\n",
    "p2p_all[15, ...] = p2p_df_16.to_numpy()"
   ]
  },
  {
   "cell_type": "code",
   "execution_count": 9,
   "id": "b734be87",
   "metadata": {},
   "outputs": [
    {
     "data": {
      "text/plain": [
       "256"
      ]
     },
     "execution_count": 9,
     "metadata": {},
     "output_type": "execute_result"
    }
   ],
   "source": [
    "p2p_all.shape[1]"
   ]
  },
  {
   "cell_type": "code",
   "execution_count": 10,
   "id": "2f419e7f",
   "metadata": {},
   "outputs": [],
   "source": [
    "## closest point indices of cLr msh for each voltage point\n",
    "msh_pt_IDS = np.zeros((num_DxL_files, p2p_all.shape[1]))"
   ]
  },
  {
   "cell_type": "code",
   "execution_count": 11,
   "id": "97142c0c",
   "metadata": {},
   "outputs": [],
   "source": [
    "## distances to each closest point\n",
    "msh_pt_dist = np.zeros((num_DxL_files, p2p_all.shape[1]))"
   ]
  },
  {
   "cell_type": "code",
   "execution_count": 14,
   "id": "c7a5cf9d",
   "metadata": {},
   "outputs": [
    {
     "name": "stdout",
     "output_type": "stream",
     "text": [
      "dxl_j:  0\n",
      "dxl_j:  1\n",
      "dxl_j:  2\n",
      "dxl_j:  3\n",
      "dxl_j:  4\n",
      "dxl_j:  5\n",
      "dxl_j:  6\n",
      "dxl_j:  7\n",
      "dxl_j:  8\n",
      "dxl_j:  9\n",
      "dxl_j:  10\n",
      "dxl_j:  11\n",
      "dxl_j:  12\n",
      "dxl_j:  13\n",
      "dxl_j:  14\n",
      "dxl_j:  15\n"
     ]
    }
   ],
   "source": [
    "## Get closest msh point IDs for all DxL files\n",
    "\n",
    "for dxl_j in range(0, num_DxL_files):\n",
    "    print(\"dxl_j: \", dxl_j)\n",
    "\n",
    "    for i in range(0, 256):\n",
    "        ## point ID\n",
    "        ans = clr_aligned.find_closest_point((p2p_all[dxl_j, i, 0], p2p_all[dxl_j, i, 1], p2p_all[dxl_j, i, 2]))\n",
    "        msh_pt_IDS[dxl_j, i] = ans\n",
    "\n",
    "        ## Get point coords\n",
    "        point_coords = clr_aligned.points[ans]\n",
    "        point_coords = np.array(point_coords)\n",
    "\n",
    "        ## Distance between closest point snap and voltage coord\n",
    "        dist = distance(point_coords[0], point_coords[1], point_coords[2],\n",
    "                        p2p_all[dxl_j, i, 0], p2p_all[dxl_j, i, 1], p2p_all[dxl_j, i, 2])\n",
    "        msh_pt_dist[dxl_j, i] = dist"
   ]
  },
  {
   "cell_type": "code",
   "execution_count": 18,
   "id": "824c53ac",
   "metadata": {},
   "outputs": [
    {
     "data": {
      "text/plain": [
       "array([[-5.20280e+01, -3.24860e+01,  3.95886e+02,  1.41000e-01],\n",
       "       [-5.20000e+01, -3.55100e+01,  3.97772e+02,  1.42000e-01],\n",
       "       [-5.19640e+01, -3.15830e+01,  3.93974e+02,  2.30000e-02],\n",
       "       ...,\n",
       "       [-5.17700e+01, -5.56020e+01,  4.01971e+02,  6.60000e-02],\n",
       "       [-5.51240e+01, -5.61610e+01,  3.93040e+02,  1.44000e-01],\n",
       "       [-5.99290e+01, -5.21370e+01,  3.94025e+02,  4.21000e-01]])"
      ]
     },
     "execution_count": 18,
     "metadata": {},
     "output_type": "execute_result"
    }
   ],
   "source": [
    "p2p_all[11, ...]"
   ]
  },
  {
   "cell_type": "code",
   "execution_count": 24,
   "id": "31acc563",
   "metadata": {},
   "outputs": [
    {
     "data": {
      "text/plain": [
       "(16, 256)"
      ]
     },
     "execution_count": 24,
     "metadata": {},
     "output_type": "execute_result"
    }
   ],
   "source": [
    "msh_pt_dist.shape"
   ]
  },
  {
   "cell_type": "code",
   "execution_count": 25,
   "id": "0e3c29c7",
   "metadata": {},
   "outputs": [
    {
     "data": {
      "text/plain": [
       "array([[158.73796986,  14.93702509,   9.77071197, ...,   2.33880801,\n",
       "          5.9728224 ,   1.24867407],\n",
       "       [  2.69002654,   0.87531039,   0.46455237, ...,   3.085911  ,\n",
       "          1.30248646,   2.87862181],\n",
       "       [  3.37432947,   0.3147449 ,   0.9598388 , ...,   7.41556083,\n",
       "          2.44503172,   2.35822981],\n",
       "       ...,\n",
       "       [  1.7186923 ,   2.12310055,   2.47366213, ...,   1.55000214,\n",
       "          1.74446324,   1.75802764],\n",
       "       [  1.89645051,   0.3545409 ,   0.2377301 , ...,  16.06083027,\n",
       "         15.07753784,   8.88502422],\n",
       "       [ 12.78670957,  10.43366378,  12.2802715 , ...,   9.66100922,\n",
       "          6.87246582,   1.60973362]])"
      ]
     },
     "execution_count": 25,
     "metadata": {},
     "output_type": "execute_result"
    }
   ],
   "source": [
    "msh_pt_dist"
   ]
  },
  {
   "cell_type": "code",
   "execution_count": 28,
   "id": "789497bd",
   "metadata": {},
   "outputs": [],
   "source": [
    "## Filter out points too far away\n",
    "\n",
    "upper_limit=10.0\n",
    "condition = msh_pt_dist[...] < upper_limit"
   ]
  },
  {
   "cell_type": "code",
   "execution_count": 30,
   "id": "1a719985",
   "metadata": {},
   "outputs": [
    {
     "data": {
      "text/plain": [
       "3406"
      ]
     },
     "execution_count": 30,
     "metadata": {},
     "output_type": "execute_result"
    }
   ],
   "source": [
    "np.sum(condition)"
   ]
  },
  {
   "cell_type": "code",
   "execution_count": 31,
   "id": "cf66454a",
   "metadata": {},
   "outputs": [
    {
     "data": {
      "text/plain": [
       "4096"
      ]
     },
     "execution_count": 31,
     "metadata": {},
     "output_type": "execute_result"
    }
   ],
   "source": [
    "16*256"
   ]
  },
  {
   "cell_type": "code",
   "execution_count": 34,
   "id": "130dc21c",
   "metadata": {},
   "outputs": [
    {
     "data": {
      "text/plain": [
       "(16, 256)"
      ]
     },
     "execution_count": 34,
     "metadata": {},
     "output_type": "execute_result"
    }
   ],
   "source": [
    "condition.shape"
   ]
  },
  {
   "cell_type": "code",
   "execution_count": 35,
   "id": "52285436",
   "metadata": {},
   "outputs": [
    {
     "data": {
      "text/plain": [
       "(16, 256)"
      ]
     },
     "execution_count": 35,
     "metadata": {},
     "output_type": "execute_result"
    }
   ],
   "source": [
    "msh_pt_IDS.shape"
   ]
  },
  {
   "cell_type": "code",
   "execution_count": 38,
   "id": "c4da5f52",
   "metadata": {},
   "outputs": [
    {
     "data": {
      "text/plain": [
       "array([ 38334., 124023., 127515., ...,  36035., 139755.,  16182.])"
      ]
     },
     "execution_count": 38,
     "metadata": {},
     "output_type": "execute_result"
    }
   ],
   "source": [
    "msh_pt_IDS[condition]"
   ]
  },
  {
   "cell_type": "code",
   "execution_count": 39,
   "id": "52c1daf2",
   "metadata": {},
   "outputs": [
    {
     "data": {
      "text/plain": [
       "(16, 256, 4)"
      ]
     },
     "execution_count": 39,
     "metadata": {},
     "output_type": "execute_result"
    }
   ],
   "source": [
    "p2p_all.shape"
   ]
  },
  {
   "cell_type": "code",
   "execution_count": 41,
   "id": "a1db927c",
   "metadata": {},
   "outputs": [],
   "source": [
    "p2p_only = p2p_all[..., -1]"
   ]
  },
  {
   "cell_type": "code",
   "execution_count": 42,
   "id": "26fbe1ea",
   "metadata": {},
   "outputs": [
    {
     "data": {
      "text/plain": [
       "(16, 256)"
      ]
     },
     "execution_count": 42,
     "metadata": {},
     "output_type": "execute_result"
    }
   ],
   "source": [
    "p2p_only.shape"
   ]
  },
  {
   "cell_type": "code",
   "execution_count": 44,
   "id": "f80eacfa",
   "metadata": {},
   "outputs": [
    {
     "data": {
      "text/plain": [
       "(3406,)"
      ]
     },
     "execution_count": 44,
     "metadata": {},
     "output_type": "execute_result"
    }
   ],
   "source": [
    "p2p_only[condition].shape"
   ]
  },
  {
   "cell_type": "code",
   "execution_count": 47,
   "id": "121a6ff7",
   "metadata": {},
   "outputs": [
    {
     "data": {
      "text/plain": [
       "3406"
      ]
     },
     "execution_count": 47,
     "metadata": {},
     "output_type": "execute_result"
    }
   ],
   "source": [
    "msh_pt_IDS[condition].shape[0]"
   ]
  },
  {
   "cell_type": "code",
   "execution_count": null,
   "id": "7ecab2f5",
   "metadata": {},
   "outputs": [],
   "source": []
  }
 ],
 "metadata": {
  "kernelspec": {
   "display_name": "Python [conda env:vtk]",
   "language": "python",
   "name": "conda-env-vtk-py"
  },
  "language_info": {
   "codemirror_mode": {
    "name": "ipython",
    "version": 3
   },
   "file_extension": ".py",
   "mimetype": "text/x-python",
   "name": "python",
   "nbconvert_exporter": "python",
   "pygments_lexer": "ipython3",
   "version": "3.9.7"
  }
 },
 "nbformat": 4,
 "nbformat_minor": 5
}
