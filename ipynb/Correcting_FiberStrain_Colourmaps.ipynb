{
 "cells": [
  {
   "cell_type": "markdown",
   "id": "6b77c886",
   "metadata": {},
   "source": [
    "This notebook is for removing strain colourmaps from the LAA and PVs"
   ]
  },
  {
   "cell_type": "code",
   "execution_count": 13,
   "id": "5a5c0bbc",
   "metadata": {},
   "outputs": [],
   "source": [
    "import pyvista as pv\n",
    "import numpy as np\n",
    "from pathlib import Path"
   ]
  },
  {
   "cell_type": "code",
   "execution_count": 14,
   "id": "4a5080b9",
   "metadata": {},
   "outputs": [],
   "source": [
    "path=\"/home/csi20/Dropbox/phd/Data/RG_CT_Cases/CT-CRT/case19/MT-HiRes/SW-0.0-BE-1e-9/cLr-fibres-aligned-4.vtp\"\n",
    "msh = pv.read(path)\n",
    "\n",
    "##regions\n",
    "path2regions=\"/home/csi20/Dropbox/phd/Data/RG_CT_Cases/CT-CRT/case19/dcm0/Fibres_HaoSeg/cLr-regional_labels.vtk\"\n",
    "msh_region = pv.read(path2regions)"
   ]
  },
  {
   "cell_type": "code",
   "execution_count": 15,
   "id": "fa5d532d",
   "metadata": {},
   "outputs": [],
   "source": [
    "## extract cells which are in PVs and LAA\n",
    "pv_laa_condition = msh_region.cell_data[\"region_label_v2\"] == 0.0"
   ]
  },
  {
   "cell_type": "code",
   "execution_count": 5,
   "id": "eadab04d",
   "metadata": {},
   "outputs": [],
   "source": [
    "## set cells in PVs and LAA fibre directions to zero.\n",
    "\n",
    "msh.cell_data[\"endo_avg\"][pv_laa_condition] = [np.nan, np.nan, np.nan] "
   ]
  },
  {
   "cell_type": "code",
   "execution_count": 6,
   "id": "b4274584",
   "metadata": {},
   "outputs": [
    {
     "data": {
      "text/plain": [
       "pyvista_ndarray([[nan, nan, nan],\n",
       "                 [nan, nan, nan],\n",
       "                 [nan, nan, nan],\n",
       "                 ...,\n",
       "                 [nan, nan, nan],\n",
       "                 [nan, nan, nan],\n",
       "                 [nan, nan, nan]])"
      ]
     },
     "execution_count": 6,
     "metadata": {},
     "output_type": "execute_result"
    }
   ],
   "source": [
    "msh.cell_data[\"endo_avg\"][pv_laa_condition]"
   ]
  },
  {
   "cell_type": "code",
   "execution_count": 7,
   "id": "60bfca78",
   "metadata": {},
   "outputs": [],
   "source": [
    "pl = Path(path)\n",
    "msh.save(f\"{pl.parent}/{pl.stem}-removeVeinsGlyphs.vtp\")"
   ]
  },
  {
   "cell_type": "code",
   "execution_count": 11,
   "id": "3b24edff",
   "metadata": {},
   "outputs": [],
   "source": [
    "msh_test = pv.read(f\"{pl.parent}/cLr-fibres-aligned-4-removeVeinsGlyphs.vtp\")"
   ]
  },
  {
   "cell_type": "code",
   "execution_count": 14,
   "id": "448ad9ae",
   "metadata": {},
   "outputs": [
    {
     "data": {
      "text/plain": [
       "pyvista_ndarray([[0., 0., 0.],\n",
       "                 [0., 0., 0.],\n",
       "                 [0., 0., 0.],\n",
       "                 ...,\n",
       "                 [0., 0., 0.],\n",
       "                 [0., 0., 0.],\n",
       "                 [0., 0., 0.]])"
      ]
     },
     "execution_count": 14,
     "metadata": {},
     "output_type": "execute_result"
    }
   ],
   "source": [
    "msh_test.cell_data[\"endo_avg\"][pv_laa_condition]"
   ]
  },
  {
   "cell_type": "code",
   "execution_count": 16,
   "id": "e4de876b",
   "metadata": {},
   "outputs": [
    {
     "data": {
      "text/plain": [
       "pyvista DataSetAttributes\n",
       "Association     : CELL\n",
       "Active Scalars  : squeez_minus\n",
       "Active Vectors  : None\n",
       "Active Texture  : None\n",
       "Active Normals  : None\n",
       "Contains arrays :\n",
       "    epi_avg                 float64  (336309, 3)\n",
       "    epi_7                   float64  (336309, 3)\n",
       "    epi_6                   float64  (336309, 3)\n",
       "    epi_5                   float64  (336309, 3)\n",
       "    epi_4                   float64  (336309, 3)\n",
       "    epi_3                   float64  (336309, 3)\n",
       "    epi_2                   float64  (336309, 3)\n",
       "    epi_1                   float64  (336309, 3)\n",
       "    elemTag                 int32    (336309,)\n",
       "    endo_1                  float64  (336309, 3)\n",
       "    endo_2                  float64  (336309, 3)\n",
       "    endo_3                  float64  (336309, 3)\n",
       "    endo_4                  float64  (336309, 3)\n",
       "    endo_5                  float64  (336309, 3)\n",
       "    endo_6                  float64  (336309, 3)\n",
       "    endo_7                  float64  (336309, 3)\n",
       "    endo_avg                float64  (336309, 3)\n",
       "    epi_1-f1_strains        float64  (336309,)\n",
       "    epi_1-f2_strains        float64  (336309,)\n",
       "    epi_1-f3_strains        float64  (336309,)\n",
       "    endo_1-f1_strains       float64  (336309,)\n",
       "    endo_1-f2_strains       float64  (336309,)\n",
       "    endo_1-f3_strains       float64  (336309,)\n",
       "    epi_2-f1_strains        float64  (336309,)\n",
       "    epi_2-f2_strains        float64  (336309,)\n",
       "    epi_2-f3_strains        float64  (336309,)\n",
       "    endo_2-f1_strains       float64  (336309,)\n",
       "    endo_2-f2_strains       float64  (336309,)\n",
       "    endo_2-f3_strains       float64  (336309,)\n",
       "    epi_3-f1_strains        float64  (336309,)\n",
       "    epi_3-f2_strains        float64  (336309,)\n",
       "    epi_3-f3_strains        float64  (336309,)\n",
       "    endo_3-f1_strains       float64  (336309,)\n",
       "    endo_3-f2_strains       float64  (336309,)\n",
       "    endo_3-f3_strains       float64  (336309,)\n",
       "    epi_4-f1_strains        float64  (336309,)\n",
       "    epi_4-f2_strains        float64  (336309,)\n",
       "    epi_4-f3_strains        float64  (336309,)\n",
       "    endo_4-f1_strains       float64  (336309,)\n",
       "    endo_4-f2_strains       float64  (336309,)\n",
       "    endo_4-f3_strains       float64  (336309,)\n",
       "    epi_5-f1_strains        float64  (336309,)\n",
       "    epi_5-f2_strains        float64  (336309,)\n",
       "    epi_5-f3_strains        float64  (336309,)\n",
       "    endo_5-f1_strains       float64  (336309,)\n",
       "    endo_5-f2_strains       float64  (336309,)\n",
       "    endo_5-f3_strains       float64  (336309,)\n",
       "    epi_6-f1_strains        float64  (336309,)\n",
       "    epi_6-f2_strains        float64  (336309,)\n",
       "    epi_6-f3_strains        float64  (336309,)\n",
       "    endo_6-f1_strains       float64  (336309,)\n",
       "    endo_6-f2_strains       float64  (336309,)\n",
       "    endo_6-f3_strains       float64  (336309,)\n",
       "    epi_7-f1_strains        float64  (336309,)\n",
       "    epi_7-f2_strains        float64  (336309,)\n",
       "    epi_7-f3_strains        float64  (336309,)\n",
       "    endo_7-f1_strains       float64  (336309,)\n",
       "    endo_7-f2_strains       float64  (336309,)\n",
       "    endo_7-f3_strains       float64  (336309,)\n",
       "    epi_avg-f1_strains      float64  (336309,)\n",
       "    epi_avg-f2_strains      float64  (336309,)\n",
       "    epi_avg-f3_strains      float64  (336309,)\n",
       "    endo_avg-f1_strains     float64  (336309,)\n",
       "    endo_avg-f2_strains     float64  (336309,)\n",
       "    endo_avg-f3_strains     float64  (336309,)\n",
       "    area-strains            float64  (336309,)\n",
       "    squeez                  float64  (336309,)\n",
       "    squeez_minus            float64  (336309,)            SCALARS"
      ]
     },
     "execution_count": 16,
     "metadata": {},
     "output_type": "execute_result"
    }
   ],
   "source": [
    "msh.cell_data"
   ]
  },
  {
   "cell_type": "code",
   "execution_count": 19,
   "id": "6bea3e1b",
   "metadata": {},
   "outputs": [],
   "source": [
    "msh.cell_data[\"area-strains\"][pv_laa_condition] = np.nan"
   ]
  },
  {
   "cell_type": "code",
   "execution_count": 20,
   "id": "58fb0f69",
   "metadata": {},
   "outputs": [],
   "source": [
    "pl = Path(path)\n",
    "msh.save(f\"{pl.parent}/{pl.stem}-removeVeinAreaStrains.vtp\")"
   ]
  },
  {
   "cell_type": "code",
   "execution_count": null,
   "id": "36805ff1",
   "metadata": {},
   "outputs": [],
   "source": []
  }
 ],
 "metadata": {
  "kernelspec": {
   "display_name": "vtk",
   "language": "python",
   "name": "vtk"
  },
  "language_info": {
   "codemirror_mode": {
    "name": "ipython",
    "version": 3
   },
   "file_extension": ".py",
   "mimetype": "text/x-python",
   "name": "python",
   "nbconvert_exporter": "python",
   "pygments_lexer": "ipython3",
   "version": "3.9.7"
  }
 },
 "nbformat": 4,
 "nbformat_minor": 5
}
