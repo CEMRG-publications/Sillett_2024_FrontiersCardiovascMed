{
 "cells": [
  {
   "cell_type": "markdown",
   "id": "1ee9023c",
   "metadata": {},
   "source": [
    "# LA Area Strain Curves : CRT-17\n",
    "\n",
    "## Follow up on TB Case"
   ]
  },
  {
   "cell_type": "code",
   "execution_count": 2,
   "id": "19847a8c",
   "metadata": {},
   "outputs": [],
   "source": [
    "import pandas as pd\n",
    "import numpy as np\n",
    "import matplotlib.pyplot as plt"
   ]
  },
  {
   "cell_type": "code",
   "execution_count": 3,
   "id": "be553306",
   "metadata": {},
   "outputs": [],
   "source": [
    "'''\n",
    "This function drops the column with cell indice from area-strains.csv files\n",
    "'''\n",
    "\n",
    "def clean_areastrains_df(df):\n",
    "    \n",
    "    df = df.drop(labels='Unnamed: 0', axis=1)\n",
    "    \n",
    "    return df"
   ]
  },
  {
   "cell_type": "markdown",
   "id": "af71d95e",
   "metadata": {},
   "source": [
    "# Plotting 10-phase curve\n",
    "\n",
    "Normal tracking using only 1 cardiac cycle"
   ]
  },
  {
   "cell_type": "code",
   "execution_count": 16,
   "id": "16af371e",
   "metadata": {},
   "outputs": [],
   "source": [
    "# Array of DataFrames for 10 frame strain\n",
    "ar_df_10 = np.zeros((9, 142010))"
   ]
  },
  {
   "cell_type": "code",
   "execution_count": 17,
   "id": "f95b0f50",
   "metadata": {
    "scrolled": true
   },
   "outputs": [
    {
     "name": "stdout",
     "output_type": "stream",
     "text": [
      "i = 1\n",
      "i = 2\n",
      "i = 3\n",
      "i = 4\n",
      "i = 5\n",
      "i = 6\n",
      "i = 7\n",
      "i = 8\n",
      "i = 9\n"
     ]
    }
   ],
   "source": [
    "# Read in area strains wrt dcm0/Manual mesh for all 20 time phases\n",
    "for i in range(1, 10):\n",
    "    \n",
    "    print(f'i = {i}')\n",
    "    \n",
    "    df = pd.read_csv(f'/home/csi20local/Dropbox/phd/Data/RG_CT_Cases/CT-CRT-17/MT-HiRes/SW-0.0-BE-4e-9/area-strains-{i}.csv')\n",
    "    df = clean_areastrains_df(df)\n",
    "    \n",
    "    j = i-1\n",
    "    ar_df_10[(j),:] = np.squeeze(df.to_numpy())"
   ]
  },
  {
   "cell_type": "code",
   "execution_count": 20,
   "id": "e9eeb7ee",
   "metadata": {},
   "outputs": [
    {
     "data": {
      "text/plain": [
       "array([0.03017773, 0.10701852, 0.08995928, 0.1384769 , 0.15863388,\n",
       "       0.20875388, 0.19958632, 0.20781194, 0.12134988])"
      ]
     },
     "execution_count": 20,
     "metadata": {},
     "output_type": "execute_result"
    }
   ],
   "source": [
    "# array of mean area change across ALL cells, for every time phase\n",
    "ar_means_10 = ar_df_10.mean(axis=1)\n",
    "ar_means_10"
   ]
  },
  {
   "cell_type": "code",
   "execution_count": 21,
   "id": "88d64ba9",
   "metadata": {},
   "outputs": [
    {
     "data": {
      "text/plain": [
       "[0,\n",
       " 0.03017773051181237,\n",
       " 0.1070185242650921,\n",
       " 0.08995927765152914,\n",
       " 0.13847689788484657,\n",
       " 0.15863388123685407,\n",
       " 0.20875388442533743,\n",
       " 0.19958632484926217,\n",
       " 0.2078119424540299,\n",
       " 0.12134988415816775]"
      ]
     },
     "execution_count": 21,
     "metadata": {},
     "output_type": "execute_result"
    }
   ],
   "source": [
    "# Following code appends 0 for dcm0 area change\n",
    "ar_means_lst = list(ar_means_10)\n",
    "\n",
    "test = [0]\n",
    "test.extend(ar_means_10)\n",
    "\n",
    "test"
   ]
  },
  {
   "cell_type": "code",
   "execution_count": 22,
   "id": "686543e7",
   "metadata": {},
   "outputs": [],
   "source": [
    "ar_means_10 = np.array(test)"
   ]
  },
  {
   "cell_type": "code",
   "execution_count": 23,
   "id": "6e36b888",
   "metadata": {},
   "outputs": [
    {
     "data": {
      "text/plain": [
       "array([0.        , 0.03017773, 0.10701852, 0.08995928, 0.1384769 ,\n",
       "       0.15863388, 0.20875388, 0.19958632, 0.20781194, 0.12134988])"
      ]
     },
     "execution_count": 23,
     "metadata": {},
     "output_type": "execute_result"
    }
   ],
   "source": [
    "ar_means_10"
   ]
  },
  {
   "cell_type": "code",
   "execution_count": 26,
   "id": "dd13243d",
   "metadata": {},
   "outputs": [
    {
     "data": {
      "text/plain": [
       "<matplotlib.collections.LineCollection at 0x7fd7b6395940>"
      ]
     },
     "execution_count": 26,
     "metadata": {},
     "output_type": "execute_result"
    },
    {
     "data": {
      "image/png": "[encoded data removed]",
      "text/plain": [
       "<Figure size 432x288 with 1 Axes>"
      ]
     },
     "metadata": {
      "needs_background": "light"
     },
     "output_type": "display_data"
    }
   ],
   "source": [
    "import matplotlib.pyplot as plt\n",
    "\n",
    "my_colors = ['r', 'b', 'g', 'c', 'y', 'm', 'lime', 'k', 'salmon', 'darkcyan']\n",
    "my_colors = 2*my_colors\n",
    "my_colors = my_colors[0:10]\n",
    "\n",
    "plt.plot(ar_means_10)\n",
    "plt.scatter(np.arange(10), ar_means_10, c=my_colors)\n",
    "\n",
    "plt.xlabel('Time phase', fontsize=15)\n",
    "plt.ylabel('Average Area Strain wrt dcm0 seg', fontsize=15)\n",
    "plt.xticks(np.arange(10))\n",
    "\n",
    "plt.xlim(-0.5, 9.5)\n",
    "# plt.ylim(-0.08, 0.1)\n",
    "\n",
    "plt.title(\"CP Spacing in T = 10\", fontsize=20)\n",
    "\n",
    "plt.hlines(0.0, -0.5, 10.5, linestyles='dotted', color='black')"
   ]
  }
 ],
 "metadata": {
  "kernelspec": {
   "display_name": "Python 3 (ipykernel)",
   "language": "python",
   "name": "python3"
  },
  "language_info": {
   "codemirror_mode": {
    "name": "ipython",
    "version": 3
   },
   "file_extension": ".py",
   "mimetype": "text/x-python",
   "name": "python",
   "nbconvert_exporter": "python",
   "pygments_lexer": "ipython3",
   "version": "3.9.7"
  }
 },
 "nbformat": 4,
 "nbformat_minor": 5
}
