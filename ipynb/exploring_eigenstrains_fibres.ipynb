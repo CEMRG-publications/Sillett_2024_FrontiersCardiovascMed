{
 "cells": [
  {
   "cell_type": "code",
   "execution_count": 33,
   "id": "4741f7ac",
   "metadata": {},
   "outputs": [],
   "source": [
    "import pyvista as pv\n",
    "import numpy as np\n",
    "import pandas as pd\n",
    "from pathlib import Path\n",
    "\n",
    "def remove_open_bracket(df):\n",
    "    # Remove '(' character from every value\n",
    "    df = df.applymap(lambda x: x.replace('(', ''))\n",
    "\n",
    "#     print(df)\n",
    "    return df\n",
    "\n",
    "def remove_empty_strings(lst):\n",
    "    return list(filter(lambda x: x != '', lst))\n",
    "\n",
    "\n",
    "# Split by ' ' for each element in DataFrame\n",
    "def split_by_space(df):\n",
    "    df=df.applymap(lambda x: x.split(' '))\n",
    "    \n",
    "    return df"
   ]
  },
  {
   "cell_type": "code",
   "execution_count": 49,
   "id": "82ada799",
   "metadata": {},
   "outputs": [],
   "source": [
    "def load_post_processed_data(path2evectors):\n",
    "    \n",
    "    # Load original data\n",
    "    df=pd.read_csv(path, names=['v1', 'v2', 'v3'], skiprows=3, sep=')', index_col=False)\n",
    "    print(df.shape)\n",
    "    \n",
    "    # Remove openbracket from all elements\n",
    "    df=remove_open_bracket(df)    \n",
    "    print(df.shape)\n",
    "\n",
    "    # Split all elements by space\n",
    "    df=split_by_space(df)\n",
    "    print(df.shape)\n",
    "\n",
    "    # Remove empty strings in lists in elements\n",
    "    df=df.applymap(remove_empty_strings)\n",
    "    print(df.shape)\n",
    "\n",
    "    # Unpack DataFrame into array\n",
    "    ar=df.values\n",
    "    print(ar.shape)\n",
    "\n",
    "    ar_fl=ar.flatten()\n",
    "    print(ar_fl.shape)\n",
    "    \n",
    "    # Reshape array\n",
    "    unpacked_array = np.array([[float(x) for x in sublist] for sublist in ar_fl])\n",
    "    print(unpacked_array.shape)\n",
    "\n",
    "    # reshape to final desired shape N_cells X 3 X 3\n",
    "\n",
    "    final_ar = unpacked_array.reshape((df.shape[0], 3, 3))\n",
    "    print(final_ar.shape)\n",
    "    \n",
    "#     print(final_ar)\n",
    "    \n",
    "    return final_ar"
   ]
  },
  {
   "cell_type": "code",
   "execution_count": 50,
   "id": "c4b89cfd",
   "metadata": {
    "scrolled": false
   },
   "outputs": [
    {
     "name": "stdout",
     "output_type": "stream",
     "text": [
      "(289521, 3)\n",
      "(289521, 3)\n",
      "(289521, 3)\n",
      "(289521, 3)\n",
      "(289521, 3)\n",
      "(868563,)\n",
      "(868563, 3)\n",
      "(289521, 3, 3)\n"
     ]
    }
   ],
   "source": [
    "evectors = load_post_processed_data(path2evectors=path)"
   ]
  },
  {
   "cell_type": "markdown",
   "id": "107f4296",
   "metadata": {},
   "source": [
    "# Load Fibres Directions"
   ]
  },
  {
   "cell_type": "code",
   "execution_count": 43,
   "id": "b25f6a17",
   "metadata": {},
   "outputs": [],
   "source": [
    "path2fibres=casePath+'/dcm0/Fibres_HaoSeg'+'/Labelled_Endo_avg.lon'"
   ]
  },
  {
   "cell_type": "code",
   "execution_count": 45,
   "id": "40104184",
   "metadata": {},
   "outputs": [],
   "source": [
    "fib_dirs=np.loadtxt(path2fibres)"
   ]
  },
  {
   "cell_type": "code",
   "execution_count": 46,
   "id": "275e2961",
   "metadata": {
    "scrolled": true
   },
   "outputs": [
    {
     "data": {
      "text/plain": [
       "(289521, 3)"
      ]
     },
     "execution_count": 46,
     "metadata": {},
     "output_type": "execute_result"
    }
   ],
   "source": [
    "fib_dirs.shape"
   ]
  },
  {
   "cell_type": "markdown",
   "id": "d6bb10b1",
   "metadata": {},
   "source": [
    "# Load Original Eigenvalue Data"
   ]
  },
  {
   "cell_type": "code",
   "execution_count": 54,
   "id": "92b54ef1",
   "metadata": {},
   "outputs": [],
   "source": [
    "evaluePath=f\"{path_pl.parent}/strain-eigenvalues-t4.txt\""
   ]
  },
  {
   "cell_type": "code",
   "execution_count": 69,
   "id": "26f34cab",
   "metadata": {},
   "outputs": [],
   "source": [
    "df=pd.read_csv(evaluePath, skiprows=3, names=['e1'])"
   ]
  },
  {
   "cell_type": "code",
   "execution_count": 70,
   "id": "45aba717",
   "metadata": {},
   "outputs": [],
   "source": [
    "df=split_by_space(df)\n",
    "df=df.applymap(remove_empty_strings)"
   ]
  },
  {
   "cell_type": "code",
   "execution_count": 76,
   "id": "252b3354",
   "metadata": {},
   "outputs": [
    {
     "name": "stdout",
     "output_type": "stream",
     "text": [
      "(289521, 1)\n",
      "(289521,)\n"
     ]
    }
   ],
   "source": [
    "# Unpack DataFrame into array\n",
    "ar=df.values\n",
    "print(ar.shape)\n",
    "\n",
    "ar_fl=ar.flatten()\n",
    "print(ar_fl.shape)"
   ]
  },
  {
   "cell_type": "code",
   "execution_count": 77,
   "id": "670970fc",
   "metadata": {},
   "outputs": [
    {
     "name": "stdout",
     "output_type": "stream",
     "text": [
      "(289521, 3)\n",
      "(289521, 3)\n"
     ]
    }
   ],
   "source": [
    "# Reshape array\n",
    "unpacked_array = np.array([[float(x) for x in sublist] for sublist in ar_fl])\n",
    "print(unpacked_array.shape)\n",
    "\n",
    "# reshape to final desired shape N_cells X 3 X 3\n",
    "\n",
    "final_ar = unpacked_array.reshape((df.shape[0], 3))\n",
    "print(final_ar.shape)"
   ]
  },
  {
   "cell_type": "code",
   "execution_count": 78,
   "id": "46c45f8f",
   "metadata": {},
   "outputs": [
    {
     "data": {
      "text/plain": [
       "array([[ 2.58441e-01, -1.36040e-01,  3.47408e-10],\n",
       "       [ 2.80601e-01, -9.25817e-02,  7.19853e-10],\n",
       "       [ 2.65797e-01, -1.77578e-01,  7.37359e-10],\n",
       "       ...,\n",
       "       [-5.64121e-09,  4.36079e-02,  2.23319e-01],\n",
       "       [ 6.74711e-02, -8.03650e-10,  2.19923e-01],\n",
       "       [ 2.90418e-09,  4.89952e-02,  1.70844e-01]])"
      ]
     },
     "execution_count": 78,
     "metadata": {},
     "output_type": "execute_result"
    }
   ],
   "source": [
    "final_ar"
   ]
  },
  {
   "cell_type": "code",
   "execution_count": 79,
   "id": "84fd80b9",
   "metadata": {},
   "outputs": [
    {
     "data": {
      "text/html": [
       "<div>\n",
       "<style scoped>\n",
       "    .dataframe tbody tr th:only-of-type {\n",
       "        vertical-align: middle;\n",
       "    }\n",
       "\n",
       "    .dataframe tbody tr th {\n",
       "        vertical-align: top;\n",
       "    }\n",
       "\n",
       "    .dataframe thead th {\n",
       "        text-align: right;\n",
       "    }\n",
       "</style>\n",
       "<table border=\"1\" class=\"dataframe\">\n",
       "  <thead>\n",
       "    <tr style=\"text-align: right;\">\n",
       "      <th></th>\n",
       "      <th>e1</th>\n",
       "    </tr>\n",
       "  </thead>\n",
       "  <tbody>\n",
       "    <tr>\n",
       "      <th>0</th>\n",
       "      <td>[0.258441, -0.13604, 3.47408e-10]</td>\n",
       "    </tr>\n",
       "    <tr>\n",
       "      <th>1</th>\n",
       "      <td>[0.280601, -0.0925817, 7.19853e-10]</td>\n",
       "    </tr>\n",
       "    <tr>\n",
       "      <th>2</th>\n",
       "      <td>[0.265797, -0.177578, 7.37359e-10]</td>\n",
       "    </tr>\n",
       "    <tr>\n",
       "      <th>3</th>\n",
       "      <td>[0.0748082, 3.38454e-10, -0.0847964]</td>\n",
       "    </tr>\n",
       "    <tr>\n",
       "      <th>4</th>\n",
       "      <td>[0.0548211, -6.29629e-09, -0.102557]</td>\n",
       "    </tr>\n",
       "    <tr>\n",
       "      <th>...</th>\n",
       "      <td>...</td>\n",
       "    </tr>\n",
       "    <tr>\n",
       "      <th>289516</th>\n",
       "      <td>[-4.51252e-09, 0.0333084, 0.237808]</td>\n",
       "    </tr>\n",
       "    <tr>\n",
       "      <th>289517</th>\n",
       "      <td>[-1.02411e-08, 0.0587583, 0.258005]</td>\n",
       "    </tr>\n",
       "    <tr>\n",
       "      <th>289518</th>\n",
       "      <td>[-5.64121e-09, 0.0436079, 0.223319]</td>\n",
       "    </tr>\n",
       "    <tr>\n",
       "      <th>289519</th>\n",
       "      <td>[0.0674711, -8.0365e-10, 0.219923]</td>\n",
       "    </tr>\n",
       "    <tr>\n",
       "      <th>289520</th>\n",
       "      <td>[2.90418e-09, 0.0489952, 0.170844]</td>\n",
       "    </tr>\n",
       "  </tbody>\n",
       "</table>\n",
       "<p>289521 rows × 1 columns</p>\n",
       "</div>"
      ],
      "text/plain": [
       "                                          e1\n",
       "0          [0.258441, -0.13604, 3.47408e-10]\n",
       "1        [0.280601, -0.0925817, 7.19853e-10]\n",
       "2         [0.265797, -0.177578, 7.37359e-10]\n",
       "3       [0.0748082, 3.38454e-10, -0.0847964]\n",
       "4       [0.0548211, -6.29629e-09, -0.102557]\n",
       "...                                      ...\n",
       "289516   [-4.51252e-09, 0.0333084, 0.237808]\n",
       "289517   [-1.02411e-08, 0.0587583, 0.258005]\n",
       "289518   [-5.64121e-09, 0.0436079, 0.223319]\n",
       "289519    [0.0674711, -8.0365e-10, 0.219923]\n",
       "289520    [2.90418e-09, 0.0489952, 0.170844]\n",
       "\n",
       "[289521 rows x 1 columns]"
      ]
     },
     "execution_count": 79,
     "metadata": {},
     "output_type": "execute_result"
    }
   ],
   "source": [
    "df"
   ]
  },
  {
   "cell_type": "code",
   "execution_count": 108,
   "id": "3f7335db",
   "metadata": {},
   "outputs": [],
   "source": [
    "max_indices = np.argmax(np.abs(final_ar), axis=1)"
   ]
  },
  {
   "cell_type": "code",
   "execution_count": 109,
   "id": "38d132aa",
   "metadata": {},
   "outputs": [
    {
     "data": {
      "text/plain": [
       "array([0, 0, 0, ..., 2, 2, 2])"
      ]
     },
     "execution_count": 109,
     "metadata": {},
     "output_type": "execute_result"
    }
   ],
   "source": [
    "max_indices"
   ]
  },
  {
   "cell_type": "code",
   "execution_count": 110,
   "id": "dbf307a7",
   "metadata": {},
   "outputs": [
    {
     "data": {
      "text/plain": [
       "(289521,)"
      ]
     },
     "execution_count": 110,
     "metadata": {},
     "output_type": "execute_result"
    }
   ],
   "source": [
    "max_indices.shape"
   ]
  },
  {
   "cell_type": "code",
   "execution_count": 111,
   "id": "728dd688",
   "metadata": {},
   "outputs": [
    {
     "data": {
      "text/plain": [
       "(289521, 3, 3)"
      ]
     },
     "execution_count": 111,
     "metadata": {},
     "output_type": "execute_result"
    }
   ],
   "source": [
    "evectors.shape"
   ]
  },
  {
   "cell_type": "code",
   "execution_count": 113,
   "id": "5dcf069a",
   "metadata": {},
   "outputs": [
    {
     "data": {
      "text/plain": [
       "array([0, 0, 0, 2, 2, 0, 0, 0])"
      ]
     },
     "execution_count": 113,
     "metadata": {},
     "output_type": "execute_result"
    }
   ],
   "source": [
    "max_indices[:8]"
   ]
  },
  {
   "cell_type": "code",
   "execution_count": 114,
   "id": "4f40be65",
   "metadata": {},
   "outputs": [
    {
     "data": {
      "text/plain": [
       "array([[ 0.2584, -0.136 ,  0.    ],\n",
       "       [ 0.2806, -0.0926,  0.    ],\n",
       "       [ 0.2658, -0.1776,  0.    ],\n",
       "       [ 0.0748,  0.    , -0.0848],\n",
       "       [ 0.0548, -0.    , -0.1026],\n",
       "       [ 0.2687, -0.1791, -0.    ],\n",
       "       [ 0.3292, -0.1768, -0.    ],\n",
       "       [ 0.3171, -0.1677,  0.    ]])"
      ]
     },
     "execution_count": 114,
     "metadata": {},
     "output_type": "execute_result"
    }
   ],
   "source": [
    "np.round(final_ar[:8, :], 4)"
   ]
  },
  {
   "cell_type": "code",
   "execution_count": 116,
   "id": "90c289a3",
   "metadata": {},
   "outputs": [
    {
     "data": {
      "text/plain": [
       "(289521, 3)"
      ]
     },
     "execution_count": 116,
     "metadata": {},
     "output_type": "execute_result"
    }
   ],
   "source": [
    "fib_dirs.shape"
   ]
  },
  {
   "cell_type": "code",
   "execution_count": 119,
   "id": "bb4a1d08",
   "metadata": {},
   "outputs": [],
   "source": [
    "# do the dot product between relevant evector component with fibres direction:\n",
    "\n",
    "dot_results = np.zeros((df.shape[0],))\n",
    "\n",
    "for i in range(evectors.shape[0]):\n",
    "    max_idx = max_indices[i]\n",
    "    \n",
    "    princ_dir = evectors[i, max_idx, :]\n",
    "    \n",
    "    ans = np.dot(princ_dir, fib_dirs[i, :])\n",
    "#     print(ans)\n",
    "    dot_results[i]=ans"
   ]
  },
  {
   "cell_type": "code",
   "execution_count": 125,
   "id": "dd633a3d",
   "metadata": {},
   "outputs": [
    {
     "data": {
      "text/plain": [
       "0.6042570714771016"
      ]
     },
     "execution_count": 125,
     "metadata": {},
     "output_type": "execute_result"
    }
   ],
   "source": [
    "dot_results_abs=np.abs(dot_results)\n",
    "dot_results_abs.mean()"
   ]
  },
  {
   "cell_type": "markdown",
   "id": "8f6a8154",
   "metadata": {},
   "source": [
    "# To test:\n",
    "\n",
    "* Are fibre directions more aligned with principle strains than, say, randomly assigned fibre directions?\n",
    "* Difference for phases:\n",
    "    * Reservoir (passive)\n",
    "    * Contractile (active)\n",
    "        * Try first principle strains wrt dcm0?\n",
    "        * Need to do wrt reservoir geometry?"
   ]
  },
  {
   "cell_type": "code",
   "execution_count": null,
   "id": "5bd1feff",
   "metadata": {},
   "outputs": [],
   "source": []
  },
  {
   "cell_type": "markdown",
   "id": "c3108f08",
   "metadata": {},
   "source": [
    "# Load Original Eigenvector Data"
   ]
  },
  {
   "cell_type": "code",
   "execution_count": 15,
   "id": "8acb75e9",
   "metadata": {},
   "outputs": [],
   "source": [
    "# load original eigen vectors.txt path\n",
    "\n",
    "casePath=\"/media/csi20local/One Touch/Backup_April2023/Dropbox/phd/Data/RG_CT_Cases/CT-CRT/case01\"\n",
    "path=f\"{casePath}/MT-HiRes/SW-0.0-BE-1e-9/strain-eigenvectors-t4.txt\"\n",
    "path_pl=Path(path)\n",
    "\n",
    "df=pd.read_csv(path, names=['v1', 'v2', 'v3'], skiprows=3, sep=')', index_col=False)"
   ]
  },
  {
   "cell_type": "code",
   "execution_count": 16,
   "id": "db715f25",
   "metadata": {},
   "outputs": [
    {
     "name": "stdout",
     "output_type": "stream",
     "text": [
      "(289521, 3)\n"
     ]
    },
    {
     "data": {
      "text/html": [
       "<div>\n",
       "<style scoped>\n",
       "    .dataframe tbody tr th:only-of-type {\n",
       "        vertical-align: middle;\n",
       "    }\n",
       "\n",
       "    .dataframe tbody tr th {\n",
       "        vertical-align: top;\n",
       "    }\n",
       "\n",
       "    .dataframe thead th {\n",
       "        text-align: right;\n",
       "    }\n",
       "</style>\n",
       "<table border=\"1\" class=\"dataframe\">\n",
       "  <thead>\n",
       "    <tr style=\"text-align: right;\">\n",
       "      <th></th>\n",
       "      <th>v1</th>\n",
       "      <th>v2</th>\n",
       "      <th>v3</th>\n",
       "    </tr>\n",
       "  </thead>\n",
       "  <tbody>\n",
       "    <tr>\n",
       "      <th>0</th>\n",
       "      <td>( 0.731327 -0.586307  0.348433</td>\n",
       "      <td>(-0.676398 -0.688998  0.260321</td>\n",
       "      <td>(-0.0874416   0.426059    0.90046</td>\n",
       "    </tr>\n",
       "    <tr>\n",
       "      <th>1</th>\n",
       "      <td>(-0.808864  0.418552  -0.41298</td>\n",
       "      <td>(-0.531938 -0.820171  0.210619</td>\n",
       "      <td>( 0.250559 -0.390043 -0.886051</td>\n",
       "    </tr>\n",
       "    <tr>\n",
       "      <th>2</th>\n",
       "      <td>(  0.68376 -0.617386  0.388981</td>\n",
       "      <td>(-0.729447 -0.564085   0.38693</td>\n",
       "      <td>(0.0194665  0.548309   0.83605</td>\n",
       "    </tr>\n",
       "    <tr>\n",
       "      <th>3</th>\n",
       "      <td>(-0.770767 -0.127292 -0.624272</td>\n",
       "      <td>( -0.627478 -0.0181393   0.778423</td>\n",
       "      <td>( 0.110411 -0.991699 0.0658919</td>\n",
       "    </tr>\n",
       "    <tr>\n",
       "      <th>4</th>\n",
       "      <td>(0.693495   0.2807  0.66353</td>\n",
       "      <td>(-0.655229 -0.137211  0.742865</td>\n",
       "      <td>(-0.299566  0.949937 -0.088768</td>\n",
       "    </tr>\n",
       "  </tbody>\n",
       "</table>\n",
       "</div>"
      ],
      "text/plain": [
       "                               v1                                  v2  \\\n",
       "0  ( 0.731327 -0.586307  0.348433      (-0.676398 -0.688998  0.260321   \n",
       "1  (-0.808864  0.418552  -0.41298      (-0.531938 -0.820171  0.210619   \n",
       "2  (  0.68376 -0.617386  0.388981      (-0.729447 -0.564085   0.38693   \n",
       "3  (-0.770767 -0.127292 -0.624272   ( -0.627478 -0.0181393   0.778423   \n",
       "4     (0.693495   0.2807  0.66353      (-0.655229 -0.137211  0.742865   \n",
       "\n",
       "                                   v3  \n",
       "0   (-0.0874416   0.426059    0.90046  \n",
       "1      ( 0.250559 -0.390043 -0.886051  \n",
       "2      (0.0194665  0.548309   0.83605  \n",
       "3      ( 0.110411 -0.991699 0.0658919  \n",
       "4      (-0.299566  0.949937 -0.088768  "
      ]
     },
     "execution_count": 16,
     "metadata": {},
     "output_type": "execute_result"
    }
   ],
   "source": [
    "## print original df\n",
    "print(df.shape)\n",
    "df.head()"
   ]
  },
  {
   "cell_type": "markdown",
   "id": "9ea84678",
   "metadata": {},
   "source": [
    "## Remove OpenBracket from all elements"
   ]
  },
  {
   "cell_type": "code",
   "execution_count": 17,
   "id": "0fe2b573",
   "metadata": {},
   "outputs": [],
   "source": [
    "df=remove_open_bracket(df)"
   ]
  },
  {
   "cell_type": "code",
   "execution_count": 18,
   "id": "5053d703",
   "metadata": {},
   "outputs": [
    {
     "name": "stdout",
     "output_type": "stream",
     "text": [
      "(289521, 3)\n"
     ]
    },
    {
     "data": {
      "text/html": [
       "<div>\n",
       "<style scoped>\n",
       "    .dataframe tbody tr th:only-of-type {\n",
       "        vertical-align: middle;\n",
       "    }\n",
       "\n",
       "    .dataframe tbody tr th {\n",
       "        vertical-align: top;\n",
       "    }\n",
       "\n",
       "    .dataframe thead th {\n",
       "        text-align: right;\n",
       "    }\n",
       "</style>\n",
       "<table border=\"1\" class=\"dataframe\">\n",
       "  <thead>\n",
       "    <tr style=\"text-align: right;\">\n",
       "      <th></th>\n",
       "      <th>v1</th>\n",
       "      <th>v2</th>\n",
       "      <th>v3</th>\n",
       "    </tr>\n",
       "  </thead>\n",
       "  <tbody>\n",
       "    <tr>\n",
       "      <th>0</th>\n",
       "      <td>0.731327 -0.586307  0.348433</td>\n",
       "      <td>-0.676398 -0.688998  0.260321</td>\n",
       "      <td>-0.0874416   0.426059    0.90046</td>\n",
       "    </tr>\n",
       "    <tr>\n",
       "      <th>1</th>\n",
       "      <td>-0.808864  0.418552  -0.41298</td>\n",
       "      <td>-0.531938 -0.820171  0.210619</td>\n",
       "      <td>0.250559 -0.390043 -0.886051</td>\n",
       "    </tr>\n",
       "    <tr>\n",
       "      <th>2</th>\n",
       "      <td>0.68376 -0.617386  0.388981</td>\n",
       "      <td>-0.729447 -0.564085   0.38693</td>\n",
       "      <td>0.0194665  0.548309   0.83605</td>\n",
       "    </tr>\n",
       "    <tr>\n",
       "      <th>3</th>\n",
       "      <td>-0.770767 -0.127292 -0.624272</td>\n",
       "      <td>-0.627478 -0.0181393   0.778423</td>\n",
       "      <td>0.110411 -0.991699 0.0658919</td>\n",
       "    </tr>\n",
       "    <tr>\n",
       "      <th>4</th>\n",
       "      <td>0.693495   0.2807  0.66353</td>\n",
       "      <td>-0.655229 -0.137211  0.742865</td>\n",
       "      <td>-0.299566  0.949937 -0.088768</td>\n",
       "    </tr>\n",
       "  </tbody>\n",
       "</table>\n",
       "</div>"
      ],
      "text/plain": [
       "                              v1                                 v2  \\\n",
       "0   0.731327 -0.586307  0.348433      -0.676398 -0.688998  0.260321   \n",
       "1  -0.808864  0.418552  -0.41298      -0.531938 -0.820171  0.210619   \n",
       "2    0.68376 -0.617386  0.388981      -0.729447 -0.564085   0.38693   \n",
       "3  -0.770767 -0.127292 -0.624272    -0.627478 -0.0181393   0.778423   \n",
       "4     0.693495   0.2807  0.66353      -0.655229 -0.137211  0.742865   \n",
       "\n",
       "                                  v3  \n",
       "0   -0.0874416   0.426059    0.90046  \n",
       "1       0.250559 -0.390043 -0.886051  \n",
       "2      0.0194665  0.548309   0.83605  \n",
       "3       0.110411 -0.991699 0.0658919  \n",
       "4      -0.299566  0.949937 -0.088768  "
      ]
     },
     "execution_count": 18,
     "metadata": {},
     "output_type": "execute_result"
    }
   ],
   "source": [
    "print(df.shape)\n",
    "df.head()"
   ]
  },
  {
   "cell_type": "code",
   "execution_count": null,
   "id": "83a4496e",
   "metadata": {},
   "outputs": [],
   "source": [
    "list_ = df.iloc[0, 0].split(' ')\n",
    "\n",
    "# Remove empty entries using a list comprehension\n",
    "filtered_list = [x for x in list_ if x != \"\"]\n",
    "\n",
    "print(filtered_list)\n",
    "\n",
    "\n",
    "df.shape\n",
    "\n",
    "for i in range(df.shape[0]):\n",
    "    for j in range(df.shape[1]):\n",
    "        \n",
    "        list_ = df.iloc[i, j].split(' ')\n",
    "        # Remove empty entries using a list comprehension\n",
    "        filtered_list = [x for x in list_ if x != \"\"]\n",
    "        print(filtered_list)\n"
   ]
  },
  {
   "cell_type": "code",
   "execution_count": 20,
   "id": "a21b3b59",
   "metadata": {},
   "outputs": [
    {
     "data": {
      "text/plain": [
       "array([[' 0.731327 -0.586307  0.348433',\n",
       "        ' -0.676398 -0.688998  0.260321',\n",
       "        ' -0.0874416   0.426059    0.90046'],\n",
       "       ['-0.808864  0.418552  -0.41298',\n",
       "        ' -0.531938 -0.820171  0.210619',\n",
       "        '  0.250559 -0.390043 -0.886051'],\n",
       "       ['  0.68376 -0.617386  0.388981',\n",
       "        ' -0.729447 -0.564085   0.38693',\n",
       "        ' 0.0194665  0.548309   0.83605'],\n",
       "       ...,\n",
       "       [' 0.737923 -0.592197 -0.323687',\n",
       "        ' -0.648005 -0.487707 -0.585006',\n",
       "        ' -0.188574  -0.64144  0.743636'],\n",
       "       ['0.829509 0.493747 0.261016', '  0.558395 -0.724402 -0.404273',\n",
       "        ' 0.0105285 -0.481098  0.876604'],\n",
       "       ['-0.671199  0.702859  0.235545',\n",
       "        ' -0.678474 -0.454495 -0.577154',\n",
       "        ' -0.298604 -0.547196  0.781929']], dtype=object)"
      ]
     },
     "execution_count": 20,
     "metadata": {},
     "output_type": "execute_result"
    }
   ],
   "source": [
    "df.values"
   ]
  },
  {
   "cell_type": "markdown",
   "id": "5829966e",
   "metadata": {},
   "source": []
  },
  {
   "cell_type": "markdown",
   "id": "f0b334a3",
   "metadata": {},
   "source": [
    "## Split all elements by space"
   ]
  },
  {
   "cell_type": "code",
   "execution_count": 21,
   "id": "7084980a",
   "metadata": {},
   "outputs": [],
   "source": [
    "df=split_by_space(df)"
   ]
  },
  {
   "cell_type": "code",
   "execution_count": 23,
   "id": "89605b4c",
   "metadata": {},
   "outputs": [
    {
     "data": {
      "text/plain": [
       "array([[list(['', '0.731327', '-0.586307', '', '0.348433']),\n",
       "        list(['', '-0.676398', '-0.688998', '', '0.260321']),\n",
       "        list(['', '-0.0874416', '', '', '0.426059', '', '', '', '0.90046'])],\n",
       "       [list(['-0.808864', '', '0.418552', '', '-0.41298']),\n",
       "        list(['', '-0.531938', '-0.820171', '', '0.210619']),\n",
       "        list(['', '', '0.250559', '-0.390043', '-0.886051'])],\n",
       "       [list(['', '', '0.68376', '-0.617386', '', '0.388981']),\n",
       "        list(['', '-0.729447', '-0.564085', '', '', '0.38693']),\n",
       "        list(['', '0.0194665', '', '0.548309', '', '', '0.83605'])],\n",
       "       ...,\n",
       "       [list(['', '0.737923', '-0.592197', '-0.323687']),\n",
       "        list(['', '-0.648005', '-0.487707', '-0.585006']),\n",
       "        list(['', '-0.188574', '', '-0.64144', '', '0.743636'])],\n",
       "       [list(['0.829509', '0.493747', '0.261016']),\n",
       "        list(['', '', '0.558395', '-0.724402', '-0.404273']),\n",
       "        list(['', '0.0105285', '-0.481098', '', '0.876604'])],\n",
       "       [list(['-0.671199', '', '0.702859', '', '0.235545']),\n",
       "        list(['', '-0.678474', '-0.454495', '-0.577154']),\n",
       "        list(['', '-0.298604', '-0.547196', '', '0.781929'])]],\n",
       "      dtype=object)"
      ]
     },
     "execution_count": 23,
     "metadata": {},
     "output_type": "execute_result"
    }
   ],
   "source": [
    "df.values"
   ]
  },
  {
   "cell_type": "markdown",
   "id": "8c22cd45",
   "metadata": {},
   "source": [
    "## Remove empty strings in all elements"
   ]
  },
  {
   "cell_type": "code",
   "execution_count": 24,
   "id": "e0946fb5",
   "metadata": {},
   "outputs": [],
   "source": [
    "df_tmp_f=df.applymap(remove_empty_strings)"
   ]
  },
  {
   "cell_type": "code",
   "execution_count": 25,
   "id": "86544f40",
   "metadata": {},
   "outputs": [
    {
     "name": "stdout",
     "output_type": "stream",
     "text": [
      "(289521, 3)\n"
     ]
    },
    {
     "data": {
      "text/html": [
       "<div>\n",
       "<style scoped>\n",
       "    .dataframe tbody tr th:only-of-type {\n",
       "        vertical-align: middle;\n",
       "    }\n",
       "\n",
       "    .dataframe tbody tr th {\n",
       "        vertical-align: top;\n",
       "    }\n",
       "\n",
       "    .dataframe thead th {\n",
       "        text-align: right;\n",
       "    }\n",
       "</style>\n",
       "<table border=\"1\" class=\"dataframe\">\n",
       "  <thead>\n",
       "    <tr style=\"text-align: right;\">\n",
       "      <th></th>\n",
       "      <th>v1</th>\n",
       "      <th>v2</th>\n",
       "      <th>v3</th>\n",
       "    </tr>\n",
       "  </thead>\n",
       "  <tbody>\n",
       "    <tr>\n",
       "      <th>0</th>\n",
       "      <td>[0.731327, -0.586307, 0.348433]</td>\n",
       "      <td>[-0.676398, -0.688998, 0.260321]</td>\n",
       "      <td>[-0.0874416, 0.426059, 0.90046]</td>\n",
       "    </tr>\n",
       "    <tr>\n",
       "      <th>1</th>\n",
       "      <td>[-0.808864, 0.418552, -0.41298]</td>\n",
       "      <td>[-0.531938, -0.820171, 0.210619]</td>\n",
       "      <td>[0.250559, -0.390043, -0.886051]</td>\n",
       "    </tr>\n",
       "    <tr>\n",
       "      <th>2</th>\n",
       "      <td>[0.68376, -0.617386, 0.388981]</td>\n",
       "      <td>[-0.729447, -0.564085, 0.38693]</td>\n",
       "      <td>[0.0194665, 0.548309, 0.83605]</td>\n",
       "    </tr>\n",
       "    <tr>\n",
       "      <th>3</th>\n",
       "      <td>[-0.770767, -0.127292, -0.624272]</td>\n",
       "      <td>[-0.627478, -0.0181393, 0.778423]</td>\n",
       "      <td>[0.110411, -0.991699, 0.0658919]</td>\n",
       "    </tr>\n",
       "    <tr>\n",
       "      <th>4</th>\n",
       "      <td>[0.693495, 0.2807, 0.66353]</td>\n",
       "      <td>[-0.655229, -0.137211, 0.742865]</td>\n",
       "      <td>[-0.299566, 0.949937, -0.088768]</td>\n",
       "    </tr>\n",
       "  </tbody>\n",
       "</table>\n",
       "</div>"
      ],
      "text/plain": [
       "                                  v1                                 v2  \\\n",
       "0    [0.731327, -0.586307, 0.348433]   [-0.676398, -0.688998, 0.260321]   \n",
       "1    [-0.808864, 0.418552, -0.41298]   [-0.531938, -0.820171, 0.210619]   \n",
       "2     [0.68376, -0.617386, 0.388981]    [-0.729447, -0.564085, 0.38693]   \n",
       "3  [-0.770767, -0.127292, -0.624272]  [-0.627478, -0.0181393, 0.778423]   \n",
       "4        [0.693495, 0.2807, 0.66353]   [-0.655229, -0.137211, 0.742865]   \n",
       "\n",
       "                                 v3  \n",
       "0   [-0.0874416, 0.426059, 0.90046]  \n",
       "1  [0.250559, -0.390043, -0.886051]  \n",
       "2    [0.0194665, 0.548309, 0.83605]  \n",
       "3  [0.110411, -0.991699, 0.0658919]  \n",
       "4  [-0.299566, 0.949937, -0.088768]  "
      ]
     },
     "execution_count": 25,
     "metadata": {},
     "output_type": "execute_result"
    }
   ],
   "source": [
    "print(df_tmp_f.shape)\n",
    "df_tmp_f.head()"
   ]
  },
  {
   "cell_type": "markdown",
   "id": "7295cc31",
   "metadata": {},
   "source": [
    "## Unpack DataFrame values into array and flatten"
   ]
  },
  {
   "cell_type": "code",
   "execution_count": 27,
   "id": "a0f6544b",
   "metadata": {},
   "outputs": [
    {
     "data": {
      "text/plain": [
       "array([list(['0.731327', '-0.586307', '0.348433']),\n",
       "       list(['-0.676398', '-0.688998', '0.260321']),\n",
       "       list(['-0.0874416', '0.426059', '0.90046']), ...,\n",
       "       list(['-0.671199', '0.702859', '0.235545']),\n",
       "       list(['-0.678474', '-0.454495', '-0.577154']),\n",
       "       list(['-0.298604', '-0.547196', '0.781929'])], dtype=object)"
      ]
     },
     "execution_count": 27,
     "metadata": {},
     "output_type": "execute_result"
    }
   ],
   "source": [
    "ar=df_tmp_f.values\n",
    "ar.shape\n",
    "\n",
    "ar_fl=ar.flatten()\n",
    "ar_fl"
   ]
  },
  {
   "cell_type": "code",
   "execution_count": null,
   "id": "633ac063",
   "metadata": {},
   "outputs": [],
   "source": [
    "final_ar = unpacked_array.reshape((df.shape[0], 3, 3))\n",
    "final_ar.shape"
   ]
  },
  {
   "cell_type": "markdown",
   "id": "a85e9dfe",
   "metadata": {},
   "source": [
    "## Reshape array"
   ]
  },
  {
   "cell_type": "code",
   "execution_count": 28,
   "id": "c295fba8",
   "metadata": {},
   "outputs": [
    {
     "name": "stdout",
     "output_type": "stream",
     "text": [
      "(868563, 3)\n"
     ]
    },
    {
     "data": {
      "text/plain": [
       "(289521, 3, 3)"
      ]
     },
     "execution_count": 28,
     "metadata": {},
     "output_type": "execute_result"
    }
   ],
   "source": [
    "# Unpack lists and convert elements to float\n",
    "\n",
    "unpacked_array = np.array([[float(x) for x in sublist] for sublist in ar_fl])\n",
    "print(unpacked_array.shape)\n",
    "\n",
    "# reshape to final desired shape N_cells X 3 X 3\n",
    "\n",
    "final_ar = unpacked_array.reshape((df.shape[0], 3, 3))\n",
    "final_ar.shape"
   ]
  },
  {
   "cell_type": "code",
   "execution_count": 32,
   "id": "3f46287f",
   "metadata": {},
   "outputs": [
    {
     "data": {
      "text/plain": [
       "array([[-0.808864,  0.418552, -0.41298 ],\n",
       "       [-0.531938, -0.820171,  0.210619],\n",
       "       [ 0.250559, -0.390043, -0.886051]])"
      ]
     },
     "execution_count": 32,
     "metadata": {},
     "output_type": "execute_result"
    }
   ],
   "source": [
    "final_ar[1, ...]"
   ]
  },
  {
   "cell_type": "code",
   "execution_count": 30,
   "id": "cb55c2d9",
   "metadata": {},
   "outputs": [
    {
     "data": {
      "text/html": [
       "<div>\n",
       "<style scoped>\n",
       "    .dataframe tbody tr th:only-of-type {\n",
       "        vertical-align: middle;\n",
       "    }\n",
       "\n",
       "    .dataframe tbody tr th {\n",
       "        vertical-align: top;\n",
       "    }\n",
       "\n",
       "    .dataframe thead th {\n",
       "        text-align: right;\n",
       "    }\n",
       "</style>\n",
       "<table border=\"1\" class=\"dataframe\">\n",
       "  <thead>\n",
       "    <tr style=\"text-align: right;\">\n",
       "      <th></th>\n",
       "      <th>v1</th>\n",
       "      <th>v2</th>\n",
       "      <th>v3</th>\n",
       "    </tr>\n",
       "  </thead>\n",
       "  <tbody>\n",
       "    <tr>\n",
       "      <th>0</th>\n",
       "      <td>[, 0.731327, -0.586307, , 0.348433]</td>\n",
       "      <td>[, -0.676398, -0.688998, , 0.260321]</td>\n",
       "      <td>[, -0.0874416, , , 0.426059, , , , 0.90046]</td>\n",
       "    </tr>\n",
       "    <tr>\n",
       "      <th>1</th>\n",
       "      <td>[-0.808864, , 0.418552, , -0.41298]</td>\n",
       "      <td>[, -0.531938, -0.820171, , 0.210619]</td>\n",
       "      <td>[, , 0.250559, -0.390043, -0.886051]</td>\n",
       "    </tr>\n",
       "    <tr>\n",
       "      <th>2</th>\n",
       "      <td>[, , 0.68376, -0.617386, , 0.388981]</td>\n",
       "      <td>[, -0.729447, -0.564085, , , 0.38693]</td>\n",
       "      <td>[, 0.0194665, , 0.548309, , , 0.83605]</td>\n",
       "    </tr>\n",
       "    <tr>\n",
       "      <th>3</th>\n",
       "      <td>[-0.770767, -0.127292, -0.624272]</td>\n",
       "      <td>[, , -0.627478, -0.0181393, , , 0.778423]</td>\n",
       "      <td>[, , 0.110411, -0.991699, 0.0658919]</td>\n",
       "    </tr>\n",
       "    <tr>\n",
       "      <th>4</th>\n",
       "      <td>[0.693495, , , 0.2807, , 0.66353]</td>\n",
       "      <td>[, -0.655229, -0.137211, , 0.742865]</td>\n",
       "      <td>[, -0.299566, , 0.949937, -0.088768]</td>\n",
       "    </tr>\n",
       "    <tr>\n",
       "      <th>...</th>\n",
       "      <td>...</td>\n",
       "      <td>...</td>\n",
       "      <td>...</td>\n",
       "    </tr>\n",
       "    <tr>\n",
       "      <th>289516</th>\n",
       "      <td>[, 0.767785, -0.556575, -0.317381]</td>\n",
       "      <td>[, 0.609396, 0.481406, 0.629988]</td>\n",
       "      <td>[, , 0.197847, , 0.677106, -0.708791]</td>\n",
       "    </tr>\n",
       "    <tr>\n",
       "      <th>289517</th>\n",
       "      <td>[, 0.682642, -0.584871, -0.438094]</td>\n",
       "      <td>[, -0.730017, -0.518917, -0.444747]</td>\n",
       "      <td>[, -0.032785, -0.623419, , , , 0.7812]</td>\n",
       "    </tr>\n",
       "    <tr>\n",
       "      <th>289518</th>\n",
       "      <td>[, 0.737923, -0.592197, -0.323687]</td>\n",
       "      <td>[, -0.648005, -0.487707, -0.585006]</td>\n",
       "      <td>[, -0.188574, , -0.64144, , 0.743636]</td>\n",
       "    </tr>\n",
       "    <tr>\n",
       "      <th>289519</th>\n",
       "      <td>[0.829509, 0.493747, 0.261016]</td>\n",
       "      <td>[, , 0.558395, -0.724402, -0.404273]</td>\n",
       "      <td>[, 0.0105285, -0.481098, , 0.876604]</td>\n",
       "    </tr>\n",
       "    <tr>\n",
       "      <th>289520</th>\n",
       "      <td>[-0.671199, , 0.702859, , 0.235545]</td>\n",
       "      <td>[, -0.678474, -0.454495, -0.577154]</td>\n",
       "      <td>[, -0.298604, -0.547196, , 0.781929]</td>\n",
       "    </tr>\n",
       "  </tbody>\n",
       "</table>\n",
       "<p>289521 rows × 3 columns</p>\n",
       "</div>"
      ],
      "text/plain": [
       "                                          v1  \\\n",
       "0        [, 0.731327, -0.586307, , 0.348433]   \n",
       "1        [-0.808864, , 0.418552, , -0.41298]   \n",
       "2       [, , 0.68376, -0.617386, , 0.388981]   \n",
       "3          [-0.770767, -0.127292, -0.624272]   \n",
       "4          [0.693495, , , 0.2807, , 0.66353]   \n",
       "...                                      ...   \n",
       "289516    [, 0.767785, -0.556575, -0.317381]   \n",
       "289517    [, 0.682642, -0.584871, -0.438094]   \n",
       "289518    [, 0.737923, -0.592197, -0.323687]   \n",
       "289519        [0.829509, 0.493747, 0.261016]   \n",
       "289520   [-0.671199, , 0.702859, , 0.235545]   \n",
       "\n",
       "                                               v2  \\\n",
       "0            [, -0.676398, -0.688998, , 0.260321]   \n",
       "1            [, -0.531938, -0.820171, , 0.210619]   \n",
       "2           [, -0.729447, -0.564085, , , 0.38693]   \n",
       "3       [, , -0.627478, -0.0181393, , , 0.778423]   \n",
       "4            [, -0.655229, -0.137211, , 0.742865]   \n",
       "...                                           ...   \n",
       "289516           [, 0.609396, 0.481406, 0.629988]   \n",
       "289517        [, -0.730017, -0.518917, -0.444747]   \n",
       "289518        [, -0.648005, -0.487707, -0.585006]   \n",
       "289519       [, , 0.558395, -0.724402, -0.404273]   \n",
       "289520        [, -0.678474, -0.454495, -0.577154]   \n",
       "\n",
       "                                                 v3  \n",
       "0       [, -0.0874416, , , 0.426059, , , , 0.90046]  \n",
       "1              [, , 0.250559, -0.390043, -0.886051]  \n",
       "2            [, 0.0194665, , 0.548309, , , 0.83605]  \n",
       "3              [, , 0.110411, -0.991699, 0.0658919]  \n",
       "4              [, -0.299566, , 0.949937, -0.088768]  \n",
       "...                                             ...  \n",
       "289516        [, , 0.197847, , 0.677106, -0.708791]  \n",
       "289517       [, -0.032785, -0.623419, , , , 0.7812]  \n",
       "289518        [, -0.188574, , -0.64144, , 0.743636]  \n",
       "289519         [, 0.0105285, -0.481098, , 0.876604]  \n",
       "289520         [, -0.298604, -0.547196, , 0.781929]  \n",
       "\n",
       "[289521 rows x 3 columns]"
      ]
     },
     "execution_count": 30,
     "metadata": {},
     "output_type": "execute_result"
    }
   ],
   "source": [
    "df"
   ]
  }
 ],
 "metadata": {
  "kernelspec": {
   "display_name": "vtk",
   "language": "python",
   "name": "vtk"
  },
  "language_info": {
   "codemirror_mode": {
    "name": "ipython",
    "version": 3
   },
   "file_extension": ".py",
   "mimetype": "text/x-python",
   "name": "python",
   "nbconvert_exporter": "python",
   "pygments_lexer": "ipython3",
   "version": "3.9.7"
  }
 },
 "nbformat": 4,
 "nbformat_minor": 5
}
