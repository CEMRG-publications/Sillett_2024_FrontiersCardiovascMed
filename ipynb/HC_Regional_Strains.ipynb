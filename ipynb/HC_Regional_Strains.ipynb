{
 "cells": [
  {
   "cell_type": "markdown",
   "id": "a6830b32",
   "metadata": {},
   "source": [
    "# Regional Strain Analysis\n"
   ]
  },
  {
   "cell_type": "code",
   "execution_count": 1,
   "id": "f8a8282b",
   "metadata": {},
   "outputs": [],
   "source": [
    "import pyvista as pv\n",
    "import pandas as pd\n",
    "import numpy as np\n",
    "import matplotlib.pyplot as plt\n",
    "import seaborn as sns\n",
    "\n",
    "from HC_analysis import ReadFibreStrain\n",
    "from HC_analysis import DataPath"
   ]
  },
  {
   "cell_type": "code",
   "execution_count": 2,
   "id": "8b92972f",
   "metadata": {},
   "outputs": [],
   "source": [
    "## Read fibre strain for all cases\n",
    "\n",
    "# nonAF\n",
    "fibrestrain_07 = ReadFibreStrain(\"CT-CRT-07\", 'endo_avg', '4')\n",
    "fibrestrain_14 = ReadFibreStrain(\"CT-CRT-14\", 'endo_avg', '4')\n",
    "fibrestrain_21 = ReadFibreStrain(\"CT-CRT-21\", 'endo_avg', '4')\n",
    "fibrestrain_28 = ReadFibreStrain(\"CT-CRT-28\", 'endo_avg', '4')\n",
    "fibrestrain_29 = ReadFibreStrain(\"CT-CRT-29\", 'endo_avg', '4')\n",
    "\n",
    "# AF\n",
    "fibrestrain_19 = ReadFibreStrain(\"CT-CRT-19\", 'endo_avg', '4')\n",
    "fibrestrain_20 = ReadFibreStrain(\"CT-CRT-20\", 'endo_avg', '4')\n",
    "fibrestrain_23 = ReadFibreStrain(\"CT-CRT-23\", 'endo_avg', '4')\n",
    "fibrestrain_26 = ReadFibreStrain(\"CT-CRT-26\", 'endo_avg', '4')\n",
    "fibrestrain_31 = ReadFibreStrain(\"CT-CRT-31\", 'endo_avg', '4')"
   ]
  },
  {
   "cell_type": "code",
   "execution_count": 3,
   "id": "77ae2ae1",
   "metadata": {},
   "outputs": [],
   "source": [
    "## Read UAC square with region_label for all cases\n",
    "\n",
    "# nonAF\n",
    "uac_07 = pv.read(f'{DataPath}/CT-CRT-07/dcm0/Fibres/LCoords_2D_R_v3_C-regional_labels.vtk')\n",
    "uac_14 = pv.read(f'{DataPath}/CT-CRT-14/dcm0/Fibres/LCoords_2D_R_v3_C-regional_labels.vtk')\n",
    "uac_21 = pv.read(f'{DataPath}/CT-CRT-21/dcm0/Fibres/LCoords_2D_R_v3_C-regional_labels.vtk')\n",
    "uac_28 = pv.read(f'{DataPath}/CT-CRT-28/dcm0/Fibres/LCoords_2D_R_v3_C-regional_labels.vtk')\n",
    "uac_29 = pv.read(f'{DataPath}/CT-CRT-29/dcm0/Fibres/LCoords_2D_R_v3_C-regional_labels.vtk')\n",
    "\n",
    "# AF\n",
    "uac_19 = pv.read(f'{DataPath}/CT-CRT-19/dcm0/Fibres/LCoords_2D_R_v3_C-regional_labels.vtk')\n",
    "uac_20 = pv.read(f'{DataPath}/CT-CRT-20/dcm0/Fibres/LCoords_2D_R_v3_C-regional_labels.vtk')\n",
    "uac_23 = pv.read(f'{DataPath}/CT-CRT-23/dcm0/Fibres/LCoords_2D_R_v3_C-regional_labels.vtk')\n",
    "uac_26 = pv.read(f'{DataPath}/CT-CRT-26/dcm0/Fibres/LCoords_2D_R_v3_C-regional_labels.vtk')\n",
    "uac_31 = pv.read(f'{DataPath}/CT-CRT-31/dcm0/Fibres/LCoords_2D_R_v3_C-regional_labels.vtk')"
   ]
  },
  {
   "cell_type": "code",
   "execution_count": 23,
   "id": "9f4efa7b",
   "metadata": {},
   "outputs": [],
   "source": [
    "## Extract cell ID region labels\n",
    "\n",
    "# nonAF\n",
    "rlabel_Series_07 = pd.Series(uac_07['region_label'])\n",
    "rlabel_Series_14 = pd.Series(uac_14['region_label'])\n",
    "rlabel_Series_21 = pd.Series(uac_21['region_label'])\n",
    "rlabel_Series_28 = pd.Series(uac_28['region_label'])\n",
    "rlabel_Series_29 = pd.Series(uac_29['region_label'])\n",
    "\n",
    "# AF\n",
    "rlabel_Series_19 = pd.Series(uac_19['region_label'])\n",
    "rlabel_Series_20 = pd.Series(uac_20['region_label'])\n",
    "rlabel_Series_23 = pd.Series(uac_23['region_label'])\n",
    "rlabel_Series_26 = pd.Series(uac_26['region_label'])\n",
    "rlabel_Series_31 = pd.Series(uac_31['region_label'])"
   ]
  },
  {
   "cell_type": "code",
   "execution_count": 5,
   "id": "e2cd6169",
   "metadata": {},
   "outputs": [
    {
     "data": {
      "text/plain": [
       "0         False\n",
       "1         False\n",
       "2         False\n",
       "3         False\n",
       "4         False\n",
       "          ...  \n",
       "159542    False\n",
       "159543    False\n",
       "159544    False\n",
       "159545    False\n",
       "159546    False\n",
       "Length: 159547, dtype: bool"
      ]
     },
     "execution_count": 5,
     "metadata": {},
     "output_type": "execute_result"
    }
   ],
   "source": [
    "rlabel_Series_07==1.0"
   ]
  },
  {
   "cell_type": "markdown",
   "id": "a5ab839e",
   "metadata": {},
   "source": [
    "## ct-crt-07"
   ]
  },
  {
   "cell_type": "code",
   "execution_count": 7,
   "id": "a6b98aac",
   "metadata": {},
   "outputs": [
    {
     "data": {
      "text/plain": [
       "<AxesSubplot:>"
      ]
     },
     "execution_count": 7,
     "metadata": {},
     "output_type": "execute_result"
    },
    {
     "data": {
      "image/png": "[encoded data removed]",
      "text/plain": [
       "<Figure size 432x288 with 1 Axes>"
      ]
     },
     "metadata": {
      "needs_background": "light"
     },
     "output_type": "display_data"
    }
   ],
   "source": [
    "## ROOF\n",
    "sns.boxplot(fibrestrain_07[rlabel_Series_07==1.0])"
   ]
  },
  {
   "cell_type": "code",
   "execution_count": 12,
   "id": "c90d4ca0",
   "metadata": {},
   "outputs": [
    {
     "data": {
      "text/plain": [
       "<AxesSubplot:>"
      ]
     },
     "execution_count": 12,
     "metadata": {},
     "output_type": "execute_result"
    },
    {
     "data": {
      "image/png": "[encoded data removed]",
      "text/plain": [
       "<Figure size 432x288 with 1 Axes>"
      ]
     },
     "metadata": {
      "needs_background": "light"
     },
     "output_type": "display_data"
    }
   ],
   "source": [
    "## ROOF\n",
    "sns.boxplot(fibrestrain_07[rlabel_Series_07==2.0])"
   ]
  },
  {
   "cell_type": "code",
   "execution_count": 13,
   "id": "89cfbb7a",
   "metadata": {
    "scrolled": true
   },
   "outputs": [
    {
     "data": {
      "text/plain": [
       "<AxesSubplot:>"
      ]
     },
     "execution_count": 13,
     "metadata": {},
     "output_type": "execute_result"
    },
    {
     "data": {
      "image/png": "[encoded data removed]",
      "text/plain": [
       "<Figure size 432x288 with 1 Axes>"
      ]
     },
     "metadata": {
      "needs_background": "light"
     },
     "output_type": "display_data"
    }
   ],
   "source": [
    "## ROOF\n",
    "sns.boxplot(fibrestrain_07[rlabel_Series_07==3.0])"
   ]
  },
  {
   "cell_type": "code",
   "execution_count": 14,
   "id": "c8074816",
   "metadata": {},
   "outputs": [
    {
     "data": {
      "text/plain": [
       "<AxesSubplot:>"
      ]
     },
     "execution_count": 14,
     "metadata": {},
     "output_type": "execute_result"
    },
    {
     "data": {
      "image/png": "[encoded data removed]",
      "text/plain": [
       "<Figure size 432x288 with 1 Axes>"
      ]
     },
     "metadata": {
      "needs_background": "light"
     },
     "output_type": "display_data"
    }
   ],
   "source": [
    "## ROOF\n",
    "sns.boxplot(fibrestrain_07[rlabel_Series_07==4.0])"
   ]
  },
  {
   "cell_type": "code",
   "execution_count": 15,
   "id": "8006b80e",
   "metadata": {},
   "outputs": [
    {
     "data": {
      "text/plain": [
       "<AxesSubplot:>"
      ]
     },
     "execution_count": 15,
     "metadata": {},
     "output_type": "execute_result"
    },
    {
     "data": {
      "image/png": "[encoded data removed]",
      "text/plain": [
       "<Figure size 432x288 with 1 Axes>"
      ]
     },
     "metadata": {
      "needs_background": "light"
     },
     "output_type": "display_data"
    }
   ],
   "source": [
    "## ROOF\n",
    "sns.boxplot(fibrestrain_07[rlabel_Series_07==5.0])"
   ]
  },
  {
   "cell_type": "code",
   "execution_count": 18,
   "id": "03714e78",
   "metadata": {},
   "outputs": [
    {
     "data": {
      "text/plain": [
       "(-1.0, 5.0)"
      ]
     },
     "execution_count": 18,
     "metadata": {},
     "output_type": "execute_result"
    },
    {
     "data": {
      "image/png": "[encoded data removed]",
      "text/plain": [
       "<Figure size 432x288 with 1 Axes>"
      ]
     },
     "metadata": {
      "needs_background": "light"
     },
     "output_type": "display_data"
    }
   ],
   "source": [
    "## Comparing between areas\n",
    "## f1\n",
    "\n",
    "labels=['roof', 'sept', 'lat', 'ant', 'post']\n",
    "\n",
    "data = [fibrestrain_07[rlabel_Series_07==1.0]['f1'], fibrestrain_07[rlabel_Series_07==2.0]['f1'], \n",
    "        fibrestrain_07[rlabel_Series_07==3.0]['f1'], fibrestrain_07[rlabel_Series_07==4.0]['f1'], \n",
    "       fibrestrain_07[rlabel_Series_07==5.0]['f1']]\n",
    "\n",
    "sns.boxplot(data)\n",
    "plt.xticks(np.arange(0,5), labels)\n",
    "plt.ylim(-1, 5)"
   ]
  },
  {
   "cell_type": "code",
   "execution_count": 77,
   "id": "e1216b14",
   "metadata": {},
   "outputs": [
    {
     "data": {
      "text/plain": [
       "(0.0, 0.5)"
      ]
     },
     "execution_count": 77,
     "metadata": {},
     "output_type": "execute_result"
    },
    {
     "data": {
      "image/png": "[encoded data removed]",
      "text/plain": [
       "<Figure size 842.4x595.44 with 1 Axes>"
      ]
     },
     "metadata": {},
     "output_type": "display_data"
    }
   ],
   "source": [
    "## Taking mean in all regions\n",
    "\n",
    "data = [np.mean(fibrestrain_07[rlabel_Series_07==1.0]['f1']), np.mean(fibrestrain_07[rlabel_Series_07==2.0]['f1']), \n",
    "        np.mean(fibrestrain_07[rlabel_Series_07==3.0]['f1']), np.mean(fibrestrain_07[rlabel_Series_07==4.0]['f1']), \n",
    "       np.mean(fibrestrain_07[rlabel_Series_07==5.0]['f1'])]\n",
    "\n",
    "labels=['roof', 'sept', 'lat', 'ant', 'post']\n",
    "\n",
    "\n",
    "plt.bar(np.arange(0,5), data)\n",
    "plt.xticks(np.arange(0,5), labels)\n",
    "plt.ylim(0.0, 0.5)"
   ]
  },
  {
   "cell_type": "markdown",
   "id": "ae967052",
   "metadata": {},
   "source": [
    "## Across all cases"
   ]
  },
  {
   "cell_type": "code",
   "execution_count": 30,
   "id": "6840a051",
   "metadata": {},
   "outputs": [],
   "source": [
    "## Roof\n",
    "\n",
    "## nonAF\n",
    "roof_nonAF = [np.mean(fibrestrain_07[rlabel_Series_07==1.0]['f1']), np.mean(fibrestrain_14[rlabel_Series_14==1.0]['f1']), \n",
    "              np.mean(fibrestrain_21[rlabel_Series_21==1.0]['f1']), np.mean(fibrestrain_28[rlabel_Series_28==1.0]['f1']), \n",
    "              np.mean(fibrestrain_29[rlabel_Series_29==1.0]['f1'])]"
   ]
  },
  {
   "cell_type": "code",
   "execution_count": 31,
   "id": "4044d3e7",
   "metadata": {},
   "outputs": [],
   "source": [
    "## Sept\n",
    "\n",
    "## nonAF\n",
    "sept_nonAF = [np.mean(fibrestrain_07[rlabel_Series_07==2.0]['f1']), np.mean(fibrestrain_14[rlabel_Series_14==2.0]['f1']), \n",
    "              np.mean(fibrestrain_21[rlabel_Series_21==2.0]['f1']), np.mean(fibrestrain_28[rlabel_Series_28==2.0]['f1']), \n",
    "              np.mean(fibrestrain_29[rlabel_Series_29==2.0]['f1'])]"
   ]
  },
  {
   "cell_type": "code",
   "execution_count": 32,
   "id": "1374f1af",
   "metadata": {},
   "outputs": [],
   "source": [
    "## Lat\n",
    "\n",
    "## nonAF\n",
    "lat_nonAF = [np.mean(fibrestrain_07[rlabel_Series_07==3.0]['f1']), np.mean(fibrestrain_14[rlabel_Series_14==3.0]['f1']), \n",
    "              np.mean(fibrestrain_21[rlabel_Series_21==3.0]['f1']), np.mean(fibrestrain_28[rlabel_Series_28==3.0]['f1']), \n",
    "              np.mean(fibrestrain_29[rlabel_Series_29==3.0]['f1'])]"
   ]
  },
  {
   "cell_type": "code",
   "execution_count": 33,
   "id": "1c7e2dd8",
   "metadata": {},
   "outputs": [],
   "source": [
    "## Ant\n",
    "\n",
    "## nonAF\n",
    "ant_nonAF = [np.mean(fibrestrain_07[rlabel_Series_07==4.0]['f1']), np.mean(fibrestrain_14[rlabel_Series_14==4.0]['f1']), \n",
    "              np.mean(fibrestrain_21[rlabel_Series_21==4.0]['f1']), np.mean(fibrestrain_28[rlabel_Series_28==4.0]['f1']), \n",
    "              np.mean(fibrestrain_29[rlabel_Series_29==4.0]['f1'])]"
   ]
  },
  {
   "cell_type": "code",
   "execution_count": 34,
   "id": "a8333f0a",
   "metadata": {},
   "outputs": [],
   "source": [
    "## Post\n",
    "\n",
    "## nonAF\n",
    "post_nonAF = [np.mean(fibrestrain_07[rlabel_Series_07==5.0]['f1']), np.mean(fibrestrain_14[rlabel_Series_14==5.0]['f1']), \n",
    "              np.mean(fibrestrain_21[rlabel_Series_21==5.0]['f1']), np.mean(fibrestrain_28[rlabel_Series_28==5.0]['f1']), \n",
    "              np.mean(fibrestrain_29[rlabel_Series_29==5.0]['f1'])]"
   ]
  },
  {
   "cell_type": "code",
   "execution_count": 35,
   "id": "1ba07f72",
   "metadata": {},
   "outputs": [],
   "source": [
    "## Roof\n",
    "## AF\n",
    "\n",
    "roof_AF = [np.mean(fibrestrain_19[rlabel_Series_19==1.0]['f1']), np.mean(fibrestrain_20[rlabel_Series_20==1.0]['f1']), \n",
    "              np.mean(fibrestrain_23[rlabel_Series_23==1.0]['f1']), np.mean(fibrestrain_26[rlabel_Series_26==1.0]['f1']), \n",
    "              np.mean(fibrestrain_31[rlabel_Series_31==1.0]['f1'])]"
   ]
  },
  {
   "cell_type": "code",
   "execution_count": 42,
   "id": "d9003dca",
   "metadata": {},
   "outputs": [],
   "source": [
    "## Sept\n",
    "## AF\n",
    "\n",
    "sept_AF = [np.mean(fibrestrain_19[rlabel_Series_19==2.0]['f1']), np.mean(fibrestrain_20[rlabel_Series_20==2.0]['f1']), \n",
    "              np.mean(fibrestrain_23[rlabel_Series_23==2.0]['f1']), np.mean(fibrestrain_26[rlabel_Series_26==2.0]['f1']), \n",
    "              np.mean(fibrestrain_31[rlabel_Series_31==2.0]['f1'])]"
   ]
  },
  {
   "cell_type": "code",
   "execution_count": 43,
   "id": "bd79878c",
   "metadata": {},
   "outputs": [],
   "source": [
    "## Lat\n",
    "## AF\n",
    "\n",
    "lat_AF = [np.mean(fibrestrain_19[rlabel_Series_19==3.0]['f1']), np.mean(fibrestrain_20[rlabel_Series_20==3.0]['f1']), \n",
    "              np.mean(fibrestrain_23[rlabel_Series_23==3.0]['f1']), np.mean(fibrestrain_26[rlabel_Series_26==3.0]['f1']), \n",
    "              np.mean(fibrestrain_31[rlabel_Series_31==3.0]['f1'])]"
   ]
  },
  {
   "cell_type": "code",
   "execution_count": 44,
   "id": "ea02cef3",
   "metadata": {},
   "outputs": [],
   "source": [
    "## Ant\n",
    "## AF\n",
    "\n",
    "ant_AF = [np.mean(fibrestrain_19[rlabel_Series_19==4.0]['f1']), np.mean(fibrestrain_20[rlabel_Series_20==4.0]['f1']), \n",
    "              np.mean(fibrestrain_23[rlabel_Series_23==4.0]['f1']), np.mean(fibrestrain_26[rlabel_Series_26==4.0]['f1']), \n",
    "              np.mean(fibrestrain_31[rlabel_Series_31==4.0]['f1'])]"
   ]
  },
  {
   "cell_type": "code",
   "execution_count": 45,
   "id": "bbf9684d",
   "metadata": {},
   "outputs": [],
   "source": [
    "## Post\n",
    "## AF\n",
    "post_AF = [np.mean(fibrestrain_19[rlabel_Series_19==5.0]['f1']), np.mean(fibrestrain_20[rlabel_Series_20==5.0]['f1']), \n",
    "              np.mean(fibrestrain_23[rlabel_Series_23==5.0]['f1']), np.mean(fibrestrain_26[rlabel_Series_26==5.0]['f1']), \n",
    "              np.mean(fibrestrain_31[rlabel_Series_31==5.0]['f1'])]"
   ]
  },
  {
   "cell_type": "code",
   "execution_count": 79,
   "id": "0b3b8e83",
   "metadata": {},
   "outputs": [
    {
     "data": {
      "image/png": "[encoded data removed]",
      "text/plain": [
       "<Figure size 842.4x595.44 with 1 Axes>"
      ]
     },
     "metadata": {},
     "output_type": "display_data"
    }
   ],
   "source": [
    "## comparison regional strains nonAF vs AF\n",
    "\n",
    "data=[roof_nonAF, roof_AF, sept_nonAF, sept_AF, lat_nonAF, lat_AF, ant_nonAF, ant_AF, post_nonAF, post_AF]\n",
    "\n",
    "sns.boxplot(data)\n",
    "sns.swarmplot(data, color='black')\n",
    "\n",
    "labels = ['roof_nonAF', 'roof_AF', 'sept_nonAF', 'sept_AF', 'lat_nonAF', 'lat_AF', 'ant_nonAF', 'ant_AF', \n",
    "          'post_nonAF', 'post_AF']\n",
    "plt.xticks(ticks=np.arange(0,10), labels=labels)\n",
    "\n",
    "sns.set(rc={'figure.figsize':(11.7,8.27)})"
   ]
  },
  {
   "cell_type": "code",
   "execution_count": 55,
   "id": "12db3fd4",
   "metadata": {},
   "outputs": [
    {
     "data": {
      "text/plain": [
       "<AxesSubplot:>"
      ]
     },
     "execution_count": 55,
     "metadata": {},
     "output_type": "execute_result"
    },
    {
     "data": {
      "image/png": "[encoded data removed]",
      "text/plain": [
       "<Figure size 432x288 with 1 Axes>"
      ]
     },
     "metadata": {
      "needs_background": "light"
     },
     "output_type": "display_data"
    }
   ],
   "source": [
    "## Roof\n",
    "\n",
    "sns.boxplot([roof_nonAF, roof_AF])"
   ]
  },
  {
   "cell_type": "code",
   "execution_count": 56,
   "id": "9b726243",
   "metadata": {},
   "outputs": [
    {
     "data": {
      "text/plain": [
       "<AxesSubplot:>"
      ]
     },
     "execution_count": 56,
     "metadata": {},
     "output_type": "execute_result"
    },
    {
     "data": {
      "image/png": "[encoded data removed]",
      "text/plain": [
       "<Figure size 432x288 with 1 Axes>"
      ]
     },
     "metadata": {
      "needs_background": "light"
     },
     "output_type": "display_data"
    }
   ],
   "source": [
    "## Septum\n",
    "sns.boxplot([sept_nonAF, sept_AF])"
   ]
  },
  {
   "cell_type": "code",
   "execution_count": 57,
   "id": "e15e8385",
   "metadata": {},
   "outputs": [
    {
     "data": {
      "text/plain": [
       "<AxesSubplot:>"
      ]
     },
     "execution_count": 57,
     "metadata": {},
     "output_type": "execute_result"
    },
    {
     "data": {
      "image/png": "[encoded data removed]",
      "text/plain": [
       "<Figure size 432x288 with 1 Axes>"
      ]
     },
     "metadata": {
      "needs_background": "light"
     },
     "output_type": "display_data"
    }
   ],
   "source": [
    "## Lateral wall\n",
    "sns.boxplot([lat_nonAF, lat_AF])"
   ]
  },
  {
   "cell_type": "code",
   "execution_count": 58,
   "id": "0879720a",
   "metadata": {},
   "outputs": [
    {
     "data": {
      "text/plain": [
       "<AxesSubplot:>"
      ]
     },
     "execution_count": 58,
     "metadata": {},
     "output_type": "execute_result"
    },
    {
     "data": {
      "image/png": "[encoded data removed]",
      "text/plain": [
       "<Figure size 432x288 with 1 Axes>"
      ]
     },
     "metadata": {
      "needs_background": "light"
     },
     "output_type": "display_data"
    }
   ],
   "source": [
    "## Ant Wall\n",
    "sns.boxplot([ant_nonAF, ant_AF])"
   ]
  },
  {
   "cell_type": "code",
   "execution_count": 59,
   "id": "2a314c94",
   "metadata": {},
   "outputs": [
    {
     "data": {
      "text/plain": [
       "<AxesSubplot:>"
      ]
     },
     "execution_count": 59,
     "metadata": {},
     "output_type": "execute_result"
    },
    {
     "data": {
      "image/png": "[encoded data removed]",
      "text/plain": [
       "<Figure size 432x288 with 1 Axes>"
      ]
     },
     "metadata": {
      "needs_background": "light"
     },
     "output_type": "display_data"
    }
   ],
   "source": [
    "# Post wall\n",
    "sns.boxplot([post_nonAF, post_AF])"
   ]
  },
  {
   "cell_type": "code",
   "execution_count": null,
   "id": "6b44117e",
   "metadata": {},
   "outputs": [],
   "source": [
    "## testing automation for generating 2D uac region labelling for local strain analysis\n",
    "\n",
    "# from HC_analysis import Generate_Region_Labels\n",
    "\n",
    "# Generate_Region_Labels(\"CT-CRT-07\")\n",
    "\n",
    "# Generate_Region_Labels(\"CT-CRT-14\")\n",
    "\n",
    "# Generate_Region_Labels(\"CT-CRT-19\")\n",
    "# Generate_Region_Labels(\"CT-CRT-20\")\n",
    "# Generate_Region_Labels(\"CT-CRT-21\")\n",
    "# Generate_Region_Labels(\"CT-CRT-23\")\n",
    "# Generate_Region_Labels(\"CT-CRT-26\")\n",
    "# Generate_Region_Labels(\"CT-CRT-28\")\n",
    "# Generate_Region_Labels(\"CT-CRT-29\")\n",
    "# Generate_Region_Labels(\"CT-CRT-31\")"
   ]
  },
  {
   "cell_type": "code",
   "execution_count": null,
   "id": "12d8b868",
   "metadata": {},
   "outputs": [],
   "source": []
  }
 ],
 "metadata": {
  "kernelspec": {
   "display_name": "vtk",
   "language": "python",
   "name": "vtk"
  },
  "language_info": {
   "codemirror_mode": {
    "name": "ipython",
    "version": 3
   },
   "file_extension": ".py",
   "mimetype": "text/x-python",
   "name": "python",
   "nbconvert_exporter": "python",
   "pygments_lexer": "ipython3",
   "version": "3.9.7"
  }
 },
 "nbformat": 4,
 "nbformat_minor": 5
}
