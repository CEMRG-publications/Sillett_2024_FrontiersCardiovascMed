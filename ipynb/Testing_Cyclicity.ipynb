{
 "cells": [
  {
   "cell_type": "markdown",
   "id": "1ee9023c",
   "metadata": {},
   "source": [
    "# LA Area Strain Curves : CRT-01 \n",
    "\n",
    "## Testing Cyclicity & Temporal Smoothing of TSFFD\n",
    "\n",
    "Plotting average area strain from `MT-HiRes/test_cyclicity` directory"
   ]
  },
  {
   "cell_type": "markdown",
   "id": "f7ce0cd2",
   "metadata": {},
   "source": [
    "## Repeated Img Frames (20 total)\n",
    "\n",
    "Tracking was performed with the following images ordering:"
   ]
  },
  {
   "cell_type": "code",
   "execution_count": 1,
   "id": "f2e2d1e9",
   "metadata": {},
   "outputs": [
    {
     "name": "stdout",
     "output_type": "stream",
     "text": [
      "dcm-crop- .nii\r\n",
      "0 0\r\n",
      "1 5\r\n",
      "2 10\r\n",
      "3 15\r\n",
      "4 20\r\n",
      "5 25\r\n",
      "6 30\r\n",
      "7 35\r\n",
      "8 40\r\n",
      "9 45\r\n",
      "0 50\r\n",
      "1 55\r\n",
      "2 60\r\n",
      "3 65\r\n",
      "4 70\r\n",
      "5 75\r\n",
      "6 80\r\n",
      "7 85\r\n",
      "8 90\r\n",
      "9 95\r\n"
     ]
    }
   ],
   "source": [
    "cat /home/csi20/Dropbox/phd/Data/RG_CT_Cases/CT-CRT-01/MT-HiRes/test_cyclicity/imgTimes.lst"
   ]
  },
  {
   "cell_type": "markdown",
   "id": "2aab1204",
   "metadata": {},
   "source": [
    "and config file:"
   ]
  },
  {
   "cell_type": "code",
   "execution_count": 2,
   "id": "502a8bf4",
   "metadata": {},
   "outputs": [
    {
     "name": "stdout",
     "output_type": "stream",
     "text": [
      "[ input ]\r\n",
      "Padding value                      = -1024\r\n",
      "\r\n",
      "[ transformation ]\r\n",
      "Transformation model               = FFD\r\n",
      "Control point spacing in T         = 10\r\n",
      "\r\n",
      "[ optimization ]\r\n",
      "Energy preconditioning             = 0.001\r\n",
      "Divide data terms by initial value = No\r\n",
      "Interpolation mode                 = Linear\r\n",
      "Epsilon                            = -1e-7\r\n",
      "Image (dis-)similarity measure     = NMI\r\n",
      "\r\n",
      "[ Level 1 ]\r\n",
      "Blurring [mm]                      = 1\r\n",
      "Resolution [mm]                    = 2 2 2\r\n",
      "Minimum length of steps            = 0.01\r\n",
      "Maximum length of steps            = 4\r\n",
      "[ Level 2 ]\r\n",
      "Blurring [mm]                      = 3\r\n",
      "Resolution [mm]                    = 5 5 5\r\n",
      "Minimum length of steps            = 0.01\r\n",
      "Maximum length of steps            = 4\r\n",
      "[ Level 3 ]\r\n",
      "Blurring [mm]                      = 6\r\n",
      "Resolution [mm]                    = 10 10 10\r\n",
      "Minimum length of steps            = 0.01\r\n",
      "Maximum length of steps            = 4\r\n",
      "[ Level 4 ]\r\n",
      "Blurring [mm]                      = 12\r\n",
      "Resolution [mm]                    = 20 20 20\r\n",
      "Minimum length of steps            = 0.01\r\n",
      "Maximum length of steps            = 4\r\n",
      "[ Level 5 ]\r\n",
      "Blurring [mm]                      = 24\r\n",
      "Resolution [mm]                    = 40 40 40\r\n",
      "Minimum length of steps            = 0.01\r\n",
      "Maximum length of steps            = 4\r\n",
      "[ Grid Search ]\r\n",
      "Bending energy weight              = 4e-9\r\n",
      "Sparsity weight                    = 0.0\r\n"
     ]
    }
   ],
   "source": [
    "cat /home/csi20/Dropbox/phd/Data/RG_CT_Cases/CT-CRT-01/MT-HiRes/test_cyclicity/Final.cfg"
   ]
  },
  {
   "cell_type": "markdown",
   "id": "5a7259f0",
   "metadata": {},
   "source": [
    "## Area Strains wrt manually segmented dcm0 mesh"
   ]
  },
  {
   "cell_type": "code",
   "execution_count": 3,
   "id": "19847a8c",
   "metadata": {},
   "outputs": [],
   "source": [
    "import pandas as pd\n",
    "import numpy as np\n",
    "import matplotlib.pyplot as plt"
   ]
  },
  {
   "cell_type": "code",
   "execution_count": 4,
   "id": "be553306",
   "metadata": {},
   "outputs": [],
   "source": [
    "'''\n",
    "This function drops the column with cell indice from area-strains.csv files\n",
    "'''\n",
    "\n",
    "def clean_areastrains_df(df):\n",
    "    \n",
    "    df = df.drop(labels='Unnamed: 0', axis=1)\n",
    "    \n",
    "    return df"
   ]
  },
  {
   "cell_type": "code",
   "execution_count": 5,
   "id": "16a281a8",
   "metadata": {},
   "outputs": [],
   "source": [
    "# Array of DataFrames.\n",
    "# Contains area strain of ALL cells across 20 time phases\n",
    "# Dim is No time phases, No of cells\n",
    "ar_df = np.zeros((20, 149195))"
   ]
  },
  {
   "cell_type": "code",
   "execution_count": 6,
   "id": "3cc670d0",
   "metadata": {},
   "outputs": [
    {
     "name": "stdout",
     "output_type": "stream",
     "text": [
      "i = 0\n",
      "i = 1\n",
      "i = 2\n",
      "i = 3\n",
      "i = 4\n",
      "i = 5\n",
      "i = 6\n",
      "i = 7\n",
      "i = 8\n",
      "i = 9\n",
      "i = 10\n",
      "i = 11\n",
      "i = 12\n",
      "i = 13\n",
      "i = 14\n",
      "i = 15\n",
      "i = 16\n",
      "i = 17\n",
      "i = 18\n",
      "i = 19\n"
     ]
    }
   ],
   "source": [
    "# Read in area strains wrt dcm0/Manual mesh for all 20 time phases\n",
    "for i in range(0, 20):\n",
    "    \n",
    "    print(f'i = {i}')\n",
    "    \n",
    "    df = pd.read_csv(f'/home/csi20/Dropbox/phd/Data/RG_CT_Cases/CT-CRT-01/MT-HiRes/test_cyclicity/area-strains-{i}-dcm0.csv')\n",
    "    df = clean_areastrains_df(df)\n",
    "    \n",
    "    ar_df[(i),:] = np.squeeze(df.to_numpy())"
   ]
  },
  {
   "cell_type": "code",
   "execution_count": 7,
   "id": "e1f79320",
   "metadata": {},
   "outputs": [
    {
     "data": {
      "text/plain": [
       "(149195, 1)"
      ]
     },
     "execution_count": 7,
     "metadata": {},
     "output_type": "execute_result"
    }
   ],
   "source": [
    "df.to_numpy().shape"
   ]
  },
  {
   "cell_type": "code",
   "execution_count": 8,
   "id": "56e49870",
   "metadata": {},
   "outputs": [
    {
     "data": {
      "text/plain": [
       "array([-0.13667814])"
      ]
     },
     "execution_count": 8,
     "metadata": {},
     "output_type": "execute_result"
    }
   ],
   "source": [
    "df.to_numpy()[0]"
   ]
  },
  {
   "cell_type": "code",
   "execution_count": 9,
   "id": "897bcfe1",
   "metadata": {},
   "outputs": [
    {
     "data": {
      "text/plain": [
       "(149195,)"
      ]
     },
     "execution_count": 9,
     "metadata": {},
     "output_type": "execute_result"
    }
   ],
   "source": [
    "np.squeeze(df.to_numpy()).shape"
   ]
  },
  {
   "cell_type": "code",
   "execution_count": 10,
   "id": "6524ec0e",
   "metadata": {},
   "outputs": [
    {
     "data": {
      "text/plain": [
       "-0.1366781421689245"
      ]
     },
     "execution_count": 10,
     "metadata": {},
     "output_type": "execute_result"
    }
   ],
   "source": [
    "np.squeeze(df.to_numpy())[0]"
   ]
  },
  {
   "cell_type": "code",
   "execution_count": 11,
   "id": "40c27631",
   "metadata": {},
   "outputs": [
    {
     "data": {
      "text/plain": [
       "0.0809650333626131"
      ]
     },
     "execution_count": 11,
     "metadata": {},
     "output_type": "execute_result"
    }
   ],
   "source": [
    "ar_df[0,0]"
   ]
  },
  {
   "cell_type": "code",
   "execution_count": 12,
   "id": "25410ee0",
   "metadata": {},
   "outputs": [
    {
     "data": {
      "text/plain": [
       "array([-0.00112662,  0.01292354,  0.03970869,  0.07492763,  0.08799694,\n",
       "        0.05156633, -0.00564772, -0.04974252, -0.06110459, -0.03815007,\n",
       "       -0.00375625,  0.016121  ,  0.03885319,  0.07487809,  0.09171309,\n",
       "        0.05674056, -0.00083795, -0.04296408, -0.05810894, -0.05068588])"
      ]
     },
     "execution_count": 12,
     "metadata": {},
     "output_type": "execute_result"
    }
   ],
   "source": [
    "# array of mean area change across ALL cells, for every time phase\n",
    "ar_means = ar_df.mean(axis=1)\n",
    "ar_means"
   ]
  },
  {
   "cell_type": "markdown",
   "id": "2cc73ee9",
   "metadata": {},
   "source": [
    "### Plotting Mean Area Change of ALL cells"
   ]
  },
  {
   "cell_type": "code",
   "execution_count": 13,
   "id": "03d295bb",
   "metadata": {
    "scrolled": false
   },
   "outputs": [
    {
     "data": {
      "text/plain": [
       "Text(0.5, 1.0, 'CP Spacing in T = 10')"
      ]
     },
     "execution_count": 13,
     "metadata": {},
     "output_type": "execute_result"
    },
    {
     "data": {
      "image/png": "[encoded data removed]",
      "text/plain": [
       "<Figure size 432x288 with 1 Axes>"
      ]
     },
     "metadata": {
      "needs_background": "light"
     },
     "output_type": "display_data"
    }
   ],
   "source": [
    "my_colors = ['r', 'b', 'g', 'c', 'y', 'm', 'lime', 'k', 'salmon', 'darkcyan']\n",
    "my_colors = 2*my_colors\n",
    "\n",
    "# Plot ave area strains across 2 cycles\n",
    "plt.plot(ar_means)\n",
    "\n",
    "# Plot data points\n",
    "plt.scatter(np.arange(20), ar_means, c=my_colors)\n",
    "\n",
    "# Plot zero line\n",
    "plt.hlines(0.0, -0.5, 20.5, linestyles='dotted', color='black')\n",
    "\n",
    "plt.xlabel('Time phase', fontsize=15)\n",
    "plt.ylabel('Average Area Strain wrt dcm0 seg', fontsize=15)\n",
    "plt.xticks(np.arange(20))\n",
    "\n",
    "plt.xlim(-0.5, 19.5)\n",
    "plt.ylim(-0.08, 0.1)\n",
    "\n",
    "plt.title(\"CP Spacing in T = 10\", fontsize=20)\n",
    "\n",
    "# for n in range(0,10):\n",
    "#     plt.vlines(n, -0.07, 0.1, linestyles='dotted')\n",
    "#     plt.vlines(n+10, -0.07, 0.1, linestyles='dotted')\n",
    "    \n",
    "# for i in range(0,10):\n",
    "#     plt.hlines(ar_means[i], -0.5, 20.5, linestyles='dotted')\n",
    "\n",
    "# plt.vlines(1.0, -0.07, 0.1, linestyles='dotted')\n",
    "# plt.vlines(11.0, -0.07, 0.1, linestyles='dotted')\n",
    "\n",
    "# plt.vlines(2.0, -0.07, 0.1, linestyles='dotted')\n",
    "# plt.vlines(12.0, -0.07, 0.1, linestyles='dotted')"
   ]
  },
  {
   "cell_type": "markdown",
   "id": "d832c882",
   "metadata": {},
   "source": [
    "__There is a discrepancy in strains at the repeated imgs__. \n",
    "This may be due to:\n",
    "* Drift effects\n",
    "* Previous deformations impacting the current deformation\n",
    "* Temporal Smoothing\n",
    "\n",
    "__NB:__ Cost fn contribution is not replicated exactly in TSFFD optimisation with repeated imgs."
   ]
  },
  {
   "cell_type": "code",
   "execution_count": 14,
   "id": "f0494603",
   "metadata": {},
   "outputs": [
    {
     "name": "stdout",
     "output_type": "stream",
     "text": [
      "Avg area strain of transformed-0: \t -0.0011266218752347338\n",
      "Avg area strain of transformed-10: \t -0.0037562505455137314 \n",
      "\n",
      "Avg area strain of transformed-1: \t 0.01292353729394161\n",
      "Avg area strain of transformed-11: \t 0.016120998448435172 \n",
      "\n",
      "Avg area strain of transformed-2: \t 0.03970868898433687\n",
      "Avg area strain of transformed-12: \t 0.038853191265562775 \n",
      "\n",
      "Avg area strain of transformed-3: \t 0.07492763406024393\n",
      "Avg area strain of transformed-13: \t 0.07487808697299479 \n",
      "\n",
      "Avg area strain of transformed-4: \t 0.08799693778552038\n",
      "Avg area strain of transformed-14: \t 0.09171309168776184 \n",
      "\n",
      "Avg area strain of transformed-5: \t 0.05156633134093877\n",
      "Avg area strain of transformed-15: \t 0.05674056431104709 \n",
      "\n",
      "Avg area strain of transformed-6: \t -0.005647721262355172\n",
      "Avg area strain of transformed-16: \t -0.0008379542983024491 \n",
      "\n",
      "Avg area strain of transformed-7: \t -0.049742524655301934\n",
      "Avg area strain of transformed-17: \t -0.04296407784084518 \n",
      "\n",
      "Avg area strain of transformed-8: \t -0.06110458784967535\n",
      "Avg area strain of transformed-18: \t -0.058108937118577585 \n",
      "\n"
     ]
    }
   ],
   "source": [
    "# Discrepancy in strains of repeated phases \n",
    "\n",
    "for i in range(0, 9):\n",
    "    \n",
    "    j = i+10\n",
    "\n",
    "    print(f\"Avg area strain of transformed-{str(i)}: \\t\", ar_means[i])\n",
    "    print(f\"Avg area strain of transformed-{str(j)}: \\t\", ar_means[j], \"\\n\")"
   ]
  },
  {
   "cell_type": "markdown",
   "id": "24671668",
   "metadata": {},
   "source": [
    "## Area Strain wrt transformed-0.vtu\n",
    "\n",
    "Investigation of area strain wrt dcm0/Manual vs transformed-0"
   ]
  },
  {
   "cell_type": "code",
   "execution_count": 15,
   "id": "66d18a47",
   "metadata": {},
   "outputs": [],
   "source": [
    "# Array of DataFrames for strain wrt transformed-0.vtu\n",
    "ar_df_0 = np.zeros((20, 149195))"
   ]
  },
  {
   "cell_type": "code",
   "execution_count": 16,
   "id": "763c690f",
   "metadata": {},
   "outputs": [
    {
     "name": "stdout",
     "output_type": "stream",
     "text": [
      "i = 0\n",
      "i = 1\n",
      "i = 2\n",
      "i = 3\n",
      "i = 4\n",
      "i = 5\n",
      "i = 6\n",
      "i = 7\n",
      "i = 8\n",
      "i = 9\n",
      "i = 10\n",
      "i = 11\n",
      "i = 12\n",
      "i = 13\n",
      "i = 14\n",
      "i = 15\n",
      "i = 16\n",
      "i = 17\n",
      "i = 18\n",
      "i = 19\n"
     ]
    }
   ],
   "source": [
    "# Read in area strains wrt dcm0/Manual mesh for all 20 time phases\n",
    "for i in range(0, 20):\n",
    "    \n",
    "    print(f'i = {i}')\n",
    "    \n",
    "    df = pd.read_csv(f'/home/csi20/Dropbox/phd/Data/RG_CT_Cases/CT-CRT-01/MT-HiRes/test_cyclicity/area-strains-t10-transformed0-{i}.csv')\n",
    "    df = clean_areastrains_df(df)\n",
    "    \n",
    "    j = i-1\n",
    "    ar_df_0[(i),:] = np.squeeze(df.to_numpy())"
   ]
  },
  {
   "cell_type": "code",
   "execution_count": 17,
   "id": "e23d30b9",
   "metadata": {},
   "outputs": [
    {
     "data": {
      "text/plain": [
       "array([ 0.        ,  0.01313196,  0.03930122,  0.07453115,  0.08783755,\n",
       "        0.05150363, -0.00546529, -0.04893105, -0.05968521, -0.03661205,\n",
       "       -0.00258929,  0.01660166,  0.03870086,  0.07456234,  0.0914528 ,\n",
       "        0.05651279, -0.0007714 , -0.04220775, -0.05690326, -0.04984484])"
      ]
     },
     "execution_count": 17,
     "metadata": {},
     "output_type": "execute_result"
    }
   ],
   "source": [
    "# array of mean area change across ALL cells, for every time phase\n",
    "ar_means_0 = ar_df_0.mean(axis=1)\n",
    "ar_means_0"
   ]
  },
  {
   "cell_type": "code",
   "execution_count": 18,
   "id": "0330714b",
   "metadata": {},
   "outputs": [
    {
     "data": {
      "text/plain": [
       "<matplotlib.collections.LineCollection at 0x7fec326ddca0>"
      ]
     },
     "execution_count": 18,
     "metadata": {},
     "output_type": "execute_result"
    },
    {
     "data": {
      "image/png": "[encoded data removed]",
      "text/plain": [
       "<Figure size 432x288 with 1 Axes>"
      ]
     },
     "metadata": {
      "needs_background": "light"
     },
     "output_type": "display_data"
    }
   ],
   "source": [
    "plt.plot(ar_means_0)\n",
    "plt.scatter(np.arange(20), ar_means_0, c=my_colors)\n",
    "\n",
    "plt.hlines(0.0, -0.5, 20.5, linestyles='solid', color='black')"
   ]
  },
  {
   "cell_type": "code",
   "execution_count": 19,
   "id": "fb90b451",
   "metadata": {},
   "outputs": [
    {
     "data": {
      "text/plain": [
       "0.0"
      ]
     },
     "execution_count": 19,
     "metadata": {},
     "output_type": "execute_result"
    }
   ],
   "source": [
    "ar_means_0[0]"
   ]
  },
  {
   "cell_type": "code",
   "execution_count": 20,
   "id": "a50af1de",
   "metadata": {},
   "outputs": [
    {
     "data": {
      "text/plain": [
       "array([0., 0., 0., ..., 0., 0., 0.])"
      ]
     },
     "execution_count": 20,
     "metadata": {},
     "output_type": "execute_result"
    }
   ],
   "source": [
    "ar_df_0[0, :]"
   ]
  },
  {
   "cell_type": "markdown",
   "id": "4d9fe495",
   "metadata": {},
   "source": [
    "## Findings\n",
    "\n",
    "### Problem TB was having?\n",
    "Did tracking over 20 frames, with 10 frames repeated i.e. 10 frames x 2. Therefore expect to have average area strain close to 0 for dcm0-dcm0 pairing. However TB was seeing 0.05 (5%) average area strain. \n",
    "\n",
    "### My Findings\n",
    "Plotting average area strain wrt dcm0/Manual, I found -0.003 (-0.3%) average area strain for the repeated dcm0 and -0.001 (-0.1%) for first dcm0 (transformed-0.vtu). This roughly makes sense as expect very similar strains for repeated image instances (since same img-img pairing, BE, SW, neighbouring imgs), but don't expect exact same strain since cost fn contribution differs."
   ]
  },
  {
   "cell_type": "markdown",
   "id": "af71d95e",
   "metadata": {},
   "source": [
    "## Plotting 10-phase curve\n",
    "\n",
    "Normal tracking using only 1 cardiac cycle"
   ]
  },
  {
   "cell_type": "code",
   "execution_count": 21,
   "id": "16af371e",
   "metadata": {},
   "outputs": [],
   "source": [
    "# Array of DataFrames for 10 frame strain\n",
    "ar_df_10 = np.zeros((9, 149195))"
   ]
  },
  {
   "cell_type": "code",
   "execution_count": 22,
   "id": "f95b0f50",
   "metadata": {},
   "outputs": [
    {
     "name": "stdout",
     "output_type": "stream",
     "text": [
      "i = 1\n",
      "i = 2\n",
      "i = 3\n",
      "i = 4\n",
      "i = 5\n",
      "i = 6\n",
      "i = 7\n",
      "i = 8\n",
      "i = 9\n"
     ]
    }
   ],
   "source": [
    "# Read in area strains wrt dcm0/Manual mesh for all 20 time phases\n",
    "for i in range(1, 10):\n",
    "    \n",
    "    print(f'i = {i}')\n",
    "    \n",
    "    df = pd.read_csv(f'/home/csi20/Dropbox/phd/Data/RG_CT_Cases/CT-CRT-01/MT-HiRes/SW-0.0-BE-4e-9/area-strains-{i}.csv')\n",
    "    df = clean_areastrains_df(df)\n",
    "    \n",
    "    j = i-1\n",
    "    ar_df_10[(j),:] = np.squeeze(df.to_numpy())"
   ]
  },
  {
   "cell_type": "code",
   "execution_count": 23,
   "id": "e9eeb7ee",
   "metadata": {},
   "outputs": [
    {
     "data": {
      "text/plain": [
       "array([ 0.01812499,  0.03418616,  0.06594102,  0.07055217,  0.0589061 ,\n",
       "        0.01408853, -0.04995209, -0.04699614, -0.04091437])"
      ]
     },
     "execution_count": 23,
     "metadata": {},
     "output_type": "execute_result"
    }
   ],
   "source": [
    "# array of mean area change across ALL cells, for every time phase\n",
    "ar_means_10 = ar_df_10.mean(axis=1)\n",
    "ar_means_10"
   ]
  },
  {
   "cell_type": "code",
   "execution_count": 24,
   "id": "88d64ba9",
   "metadata": {},
   "outputs": [
    {
     "data": {
      "text/plain": [
       "[0,\n",
       " 0.018124992496686847,\n",
       " 0.034186161037796634,\n",
       " 0.06594102167933803,\n",
       " 0.07055216516982497,\n",
       " 0.05890610472733911,\n",
       " 0.014088530358544918,\n",
       " -0.04995208723206507,\n",
       " -0.046996137532331485,\n",
       " -0.040914369402706624]"
      ]
     },
     "execution_count": 24,
     "metadata": {},
     "output_type": "execute_result"
    }
   ],
   "source": [
    "# Following code appends 0 for dcm0 area change\n",
    "ar_means_lst = list(ar_means_10)\n",
    "\n",
    "test = [0]\n",
    "test.extend(ar_means_10)\n",
    "\n",
    "test"
   ]
  },
  {
   "cell_type": "code",
   "execution_count": 25,
   "id": "686543e7",
   "metadata": {},
   "outputs": [],
   "source": [
    "ar_means_10 = np.array(test)"
   ]
  },
  {
   "cell_type": "code",
   "execution_count": 26,
   "id": "6e36b888",
   "metadata": {},
   "outputs": [
    {
     "data": {
      "text/plain": [
       "array([ 0.        ,  0.01812499,  0.03418616,  0.06594102,  0.07055217,\n",
       "        0.0589061 ,  0.01408853, -0.04995209, -0.04699614, -0.04091437])"
      ]
     },
     "execution_count": 26,
     "metadata": {},
     "output_type": "execute_result"
    }
   ],
   "source": [
    "ar_means_10"
   ]
  },
  {
   "cell_type": "code",
   "execution_count": 30,
   "id": "dd13243d",
   "metadata": {},
   "outputs": [
    {
     "data": {
      "text/plain": [
       "<matplotlib.collections.LineCollection at 0x7fec31a8eb50>"
      ]
     },
     "execution_count": 30,
     "metadata": {},
     "output_type": "execute_result"
    },
    {
     "data": {
      "image/png": "[encoded data removed]",
      "text/plain": [
       "<Figure size 432x288 with 1 Axes>"
      ]
     },
     "metadata": {
      "needs_background": "light"
     },
     "output_type": "display_data"
    }
   ],
   "source": [
    "import matplotlib.pyplot as plt\n",
    "\n",
    "my_colors = my_colors[0:10]\n",
    "\n",
    "plt.plot(ar_means_10)\n",
    "plt.scatter(np.arange(10), ar_means_10, c=my_colors)\n",
    "\n",
    "plt.xlabel('Time phase', fontsize=15)\n",
    "plt.ylabel('Average Area Strain wrt dcm0 seg', fontsize=15)\n",
    "plt.xticks(np.arange(10))\n",
    "\n",
    "plt.xlim(-0.5, 9.5)\n",
    "plt.ylim(-0.08, 0.1)\n",
    "\n",
    "plt.title(\"CP Spacing in T = 10\", fontsize=20)\n",
    "\n",
    "plt.hlines(0.0, -0.5, 10.5, linestyles='dotted', color='black')"
   ]
  },
  {
   "cell_type": "markdown",
   "id": "2b81d180",
   "metadata": {},
   "source": [
    "### Plotting 10 and 20 frame curves on same graph\n",
    "\n",
    "Strains wrt dcm0/Manual seg\n",
    "\n",
    "__Conclusion__: Plotting 10 or 20 frame has an effect on the area strain"
   ]
  },
  {
   "cell_type": "code",
   "execution_count": 33,
   "id": "ca87d748",
   "metadata": {},
   "outputs": [
    {
     "data": {
      "text/plain": [
       "<matplotlib.collections.LineCollection at 0x7fec319bdf10>"
      ]
     },
     "execution_count": 33,
     "metadata": {},
     "output_type": "execute_result"
    },
    {
     "data": {
      "image/png": "[encoded data removed]",
      "text/plain": [
       "<Figure size 432x288 with 1 Axes>"
      ]
     },
     "metadata": {
      "needs_background": "light"
     },
     "output_type": "display_data"
    }
   ],
   "source": [
    "plt.plot(ar_means_10)\n",
    "plt.plot(ar_means)\n",
    "\n",
    "plt.title(\"CP Spacing in T = 10\", fontsize=20)\n",
    "plt.xlabel('Time phase', fontsize=15)\n",
    "plt.ylabel('Average Area Strain wrt dcm0 seg', fontsize=15)\n",
    "plt.xticks(np.arange(20))\n",
    "\n",
    "plt.xlim(-0.5, 19.5)\n",
    "plt.ylim(-0.08, 0.1)\n",
    "\n",
    "plt.hlines(0.0, -0.5, 20.5, linestyles='dotted', color='black')"
   ]
  },
  {
   "cell_type": "markdown",
   "id": "c57e0754",
   "metadata": {},
   "source": [
    "__Registering repeated cycles affects area strain values.__ *When using same CP in T*"
   ]
  },
  {
   "cell_type": "markdown",
   "id": "96f234a7",
   "metadata": {},
   "source": [
    "## Plotting T = 20 Curves\n",
    "\n",
    "Spotted issue with original 20 frame repeated tracking: control point spacing in T was = 10. \n",
    "\n",
    "__See difference Control Point Spacing in T makes on strain curves__\n",
    "\n",
    "All strains plotted wrt dcm0 Mesh"
   ]
  },
  {
   "cell_type": "code",
   "execution_count": 34,
   "id": "dd222e05",
   "metadata": {},
   "outputs": [
    {
     "name": "stdout",
     "output_type": "stream",
     "text": [
      "[ input ]\r\n",
      "Padding value                      = -1024\r\n",
      "\r\n",
      "[ transformation ]\r\n",
      "Transformation model               = FFD\r\n",
      "Control point spacing in T         = 20\r\n",
      "\r\n",
      "[ optimization ]\r\n",
      "Energy preconditioning             = 0.001\r\n",
      "Divide data terms by initial value = No\r\n",
      "Interpolation mode                 = Linear\r\n",
      "Epsilon                            = -1e-7\r\n",
      "Image (dis-)similarity measure     = NMI\r\n",
      "\r\n",
      "[ Level 1 ]\r\n",
      "Blurring [mm]                      = 1\r\n",
      "Resolution [mm]                    = 2 2 2\r\n",
      "Minimum length of steps            = 0.01\r\n",
      "Maximum length of steps            = 4\r\n",
      "[ Level 2 ]\r\n",
      "Blurring [mm]                      = 3\r\n",
      "Resolution [mm]                    = 5 5 5\r\n",
      "Minimum length of steps            = 0.01\r\n",
      "Maximum length of steps            = 4\r\n",
      "[ Level 3 ]\r\n",
      "Blurring [mm]                      = 6\r\n",
      "Resolution [mm]                    = 10 10 10\r\n",
      "Minimum length of steps            = 0.01\r\n",
      "Maximum length of steps            = 4\r\n",
      "[ Level 4 ]\r\n",
      "Blurring [mm]                      = 12\r\n",
      "Resolution [mm]                    = 20 20 20\r\n",
      "Minimum length of steps            = 0.01\r\n",
      "Maximum length of steps            = 4\r\n",
      "[ Level 5 ]\r\n",
      "Blurring [mm]                      = 24\r\n",
      "Resolution [mm]                    = 40 40 40\r\n",
      "Minimum length of steps            = 0.01\r\n",
      "Maximum length of steps            = 4\r\n",
      "[ Grid Search ]\r\n",
      "Bending energy weight              = 4e-9\r\n",
      "Sparsity weight                    = 0.0\r\n"
     ]
    }
   ],
   "source": [
    "cat /home/csi20/Dropbox/phd/Data/RG_CT_Cases/CT-CRT-01/MT-HiRes/test_cyclicity/Final_TSpacing.cfg"
   ]
  },
  {
   "cell_type": "code",
   "execution_count": 35,
   "id": "fd32e91e",
   "metadata": {},
   "outputs": [],
   "source": [
    "# Array of DataFrames.\n",
    "# Contains area strain of ALL cells across 20 time phases\n",
    "# Dim is No time phases, No of cells\n",
    "ar_df_t20 = np.zeros((20, 149195))"
   ]
  },
  {
   "cell_type": "code",
   "execution_count": 36,
   "id": "0ac02a66",
   "metadata": {},
   "outputs": [
    {
     "name": "stdout",
     "output_type": "stream",
     "text": [
      "i = 0\n",
      "i = 1\n",
      "i = 2\n",
      "i = 3\n",
      "i = 4\n",
      "i = 5\n",
      "i = 6\n",
      "i = 7\n",
      "i = 8\n",
      "i = 9\n",
      "i = 10\n",
      "i = 11\n",
      "i = 12\n",
      "i = 13\n",
      "i = 14\n",
      "i = 15\n",
      "i = 16\n",
      "i = 17\n",
      "i = 18\n",
      "i = 19\n"
     ]
    }
   ],
   "source": [
    "# Read in area strains wrt dcm0/Manual mesh for all 20 time phases\n",
    "for i in range(0, 20):\n",
    "    \n",
    "    print(f'i = {i}')\n",
    "    \n",
    "    df = pd.read_csv(f'/home/csi20/Dropbox/phd/Data/RG_CT_Cases/CT-CRT-01/MT-HiRes/test_cyclicity/area-strains-{i}.csv')\n",
    "    df = clean_areastrains_df(df)\n",
    "    \n",
    "    ar_df_t20[(i),:] = np.squeeze(df.to_numpy())"
   ]
  },
  {
   "cell_type": "code",
   "execution_count": 37,
   "id": "e234d551",
   "metadata": {},
   "outputs": [
    {
     "data": {
      "text/plain": [
       "array([ 0.00075281,  0.02001047,  0.04763151,  0.07022041,  0.0729994 ,\n",
       "        0.04743742,  0.00890683, -0.02437199, -0.0397851 , -0.03033108,\n",
       "       -0.00271396,  0.03251128,  0.06186595,  0.07188939,  0.06371049,\n",
       "        0.0429071 ,  0.01421548, -0.01726971, -0.04495924, -0.06242264])"
      ]
     },
     "execution_count": 37,
     "metadata": {},
     "output_type": "execute_result"
    }
   ],
   "source": [
    "# array of mean area change across ALL cells, for every time phase\n",
    "ar_means_t20 = ar_df_t20.mean(axis=1)\n",
    "ar_means_t20"
   ]
  },
  {
   "cell_type": "code",
   "execution_count": 39,
   "id": "83ed1da9",
   "metadata": {},
   "outputs": [
    {
     "data": {
      "text/plain": [
       "Text(0.5, 0, 'Time Phase')"
      ]
     },
     "execution_count": 39,
     "metadata": {},
     "output_type": "execute_result"
    },
    {
     "data": {
      "image/png": "[encoded data removed]",
      "text/plain": [
       "<Figure size 432x288 with 1 Axes>"
      ]
     },
     "metadata": {
      "needs_background": "light"
     },
     "output_type": "display_data"
    }
   ],
   "source": [
    "my_colors = ['r', 'b', 'g', 'c', 'y', 'm', 'lime', 'k', 'salmon', 'darkcyan']\n",
    "my_colors = 2*my_colors\n",
    "\n",
    "# Plot CP in T = 20 for 20 frames\n",
    "plt.plot(ar_means_t20, label=\"CP in T = 20\")\n",
    "plt.scatter(np.arange(20), ar_means_t20, c=my_colors)\n",
    "\n",
    "# Plot CP in T = 10 for 20 frames\n",
    "# plt.plot(ar_means, label=\"CP in T = 10\")\n",
    "# plt.scatter(np.arange(20), ar_means, c=my_colors)\n",
    "\n",
    "# Plot CP in T = 10 for 10 frames\n",
    "plt.plot(ar_means_10, label=\"CP in T = 10\")\n",
    "plt.scatter(np.arange(10), ar_means_10, c=my_colors[:10])\n",
    "\n",
    "plt.hlines(0.0, -0.5, 20.5, linestyles='solid', color='black')\n",
    "\n",
    "plt.xticks(np.arange(20))\n",
    "plt.xlim(-0.5, 19.5)\n",
    "plt.ylim(-0.08, 0.1)\n",
    "plt.legend(fontsize=15, loc=(1.04,0.7))\n",
    "\n",
    "plt.xticks(np.arange(20))\n",
    "\n",
    "plt.ylabel(\"Area strains wrt dcm0 Mesh\", fontsize=15)\n",
    "plt.xlabel(\"Time Phase\", fontsize=15)"
   ]
  },
  {
   "cell_type": "markdown",
   "id": "16507076",
   "metadata": {},
   "source": [
    "__When using correct CP in T, area strains are more consistent__."
   ]
  },
  {
   "cell_type": "code",
   "execution_count": 40,
   "id": "69b82617",
   "metadata": {},
   "outputs": [
    {
     "name": "stdout",
     "output_type": "stream",
     "text": [
      "Avg area strain of transformed-0: \t -0.0011266218752347338\n",
      "Avg area strain of transformed-10: \t -0.0037562505455137314 \n",
      "\n",
      "Avg area strain of transformed-1: \t 0.01292353729394161\n",
      "Avg area strain of transformed-11: \t 0.016120998448435172 \n",
      "\n",
      "Avg area strain of transformed-2: \t 0.03970868898433687\n",
      "Avg area strain of transformed-12: \t 0.038853191265562775 \n",
      "\n",
      "Avg area strain of transformed-3: \t 0.07492763406024393\n",
      "Avg area strain of transformed-13: \t 0.07487808697299479 \n",
      "\n",
      "Avg area strain of transformed-4: \t 0.08799693778552038\n",
      "Avg area strain of transformed-14: \t 0.09171309168776184 \n",
      "\n",
      "Avg area strain of transformed-5: \t 0.05156633134093877\n",
      "Avg area strain of transformed-15: \t 0.05674056431104709 \n",
      "\n",
      "Avg area strain of transformed-6: \t -0.005647721262355172\n",
      "Avg area strain of transformed-16: \t -0.0008379542983024491 \n",
      "\n",
      "Avg area strain of transformed-7: \t -0.049742524655301934\n",
      "Avg area strain of transformed-17: \t -0.04296407784084518 \n",
      "\n",
      "Avg area strain of transformed-8: \t -0.06110458784967535\n",
      "Avg area strain of transformed-18: \t -0.058108937118577585 \n",
      "\n",
      "Avg area strain of transformed-9: \t -0.03815006831814597\n",
      "Avg area strain of transformed-19: \t -0.050685875208141704 \n",
      "\n",
      "MSE across repeated img frames:  2.936570998437345e-05\n",
      "MAE across repeated img frames:  0.004274219290274855\n"
     ]
    }
   ],
   "source": [
    "# Errors in area strains of repeated phases with CP in T = 10\n",
    "\n",
    "SqE = 0.0\n",
    "AbsE = 0.0\n",
    "\n",
    "AbsE_list = []\n",
    "\n",
    "for i in range(0, 10):\n",
    "    \n",
    "    j = i+10\n",
    "\n",
    "    print(f\"Avg area strain of transformed-{str(i)}: \\t\", ar_means[i])\n",
    "    print(f\"Avg area strain of transformed-{str(j)}: \\t\", ar_means[j], \"\\n\")\n",
    "    \n",
    "    SqE = SqE + (ar_means[i] - ar_means[j])**2\n",
    "    AbsE = AbsE + np.abs(ar_means[i] - ar_means[j])\n",
    "    AbsE_list.append(np.abs(ar_means[i] - ar_means[j]))\n",
    "    \n",
    "MSE = SqE/10.0\n",
    "MAE = AbsE/10.0\n",
    "print(\"MSE across repeated img frames: \", MSE)\n",
    "print(\"MAE across repeated img frames: \", MAE)"
   ]
  },
  {
   "cell_type": "code",
   "execution_count": 41,
   "id": "77db9dc1",
   "metadata": {},
   "outputs": [
    {
     "name": "stdout",
     "output_type": "stream",
     "text": [
      "Avg area strain of transformed-0: \t 0.0007528082905491304\n",
      "Avg area strain of transformed-10: \t -0.0027139599082007543 \n",
      "\n",
      "Avg area strain of transformed-1: \t 0.0200104737801823\n",
      "Avg area strain of transformed-11: \t 0.032511276131173765 \n",
      "\n",
      "Avg area strain of transformed-2: \t 0.04763151326509522\n",
      "Avg area strain of transformed-12: \t 0.06186594772707965 \n",
      "\n",
      "Avg area strain of transformed-3: \t 0.0702204064193783\n",
      "Avg area strain of transformed-13: \t 0.07188938611877606 \n",
      "\n",
      "Avg area strain of transformed-4: \t 0.07299940084973072\n",
      "Avg area strain of transformed-14: \t 0.06371049414042362 \n",
      "\n",
      "Avg area strain of transformed-5: \t 0.04743741910864474\n",
      "Avg area strain of transformed-15: \t 0.04290710277866218 \n",
      "\n",
      "Avg area strain of transformed-6: \t 0.008906834849988889\n",
      "Avg area strain of transformed-16: \t 0.01421547810638814 \n",
      "\n",
      "Avg area strain of transformed-7: \t -0.024371992025630815\n",
      "Avg area strain of transformed-17: \t -0.017269713519900098 \n",
      "\n",
      "Avg area strain of transformed-8: \t -0.039785101671643654\n",
      "Avg area strain of transformed-18: \t -0.04495924361853529 \n",
      "\n",
      "Avg area strain of transformed-9: \t -0.030331080282367327\n",
      "Avg area strain of transformed-19: \t -0.0624226433708016 \n",
      "\n",
      "MSE across repeated img frames:  0.00016157649322980848\n",
      "MAE across repeated img frames:  0.00953668345478691\n"
     ]
    }
   ],
   "source": [
    "# Errors in strains of repeated phases with CP in T = 20\n",
    "\n",
    "SqE = 0.0\n",
    "AbsE = 0.0\n",
    "\n",
    "AbsE_list_t20 = []\n",
    "\n",
    "for i in range(0, 10):\n",
    "    \n",
    "    j = i+10\n",
    "\n",
    "    print(f\"Avg area strain of transformed-{str(i)}: \\t\", ar_means_t20[i])\n",
    "    print(f\"Avg area strain of transformed-{str(j)}: \\t\", ar_means_t20[j], \"\\n\")\n",
    "    \n",
    "    SqE = SqE + (ar_means_t20[i] - ar_means_t20[j])**2\n",
    "    AbsE = AbsE + np.abs(ar_means_t20[i] - ar_means_t20[j])\n",
    "    AbsE_list_t20.append(np.abs(ar_means_t20[i] - ar_means_t20[j]))\n",
    "    \n",
    "MSE = SqE/10.0\n",
    "MAE = AbsE/10.0\n",
    "\n",
    "print(\"MSE across repeated img frames: \", MSE)\n",
    "print(\"MAE across repeated img frames: \", MAE)"
   ]
  },
  {
   "cell_type": "code",
   "execution_count": 42,
   "id": "613fdf6c",
   "metadata": {},
   "outputs": [
    {
     "data": {
      "text/plain": [
       "Text(0.5, 0, 'Repeated img (dcm-*)')"
      ]
     },
     "execution_count": 42,
     "metadata": {},
     "output_type": "execute_result"
    },
    {
     "data": {
      "image/png": "[encoded data removed]",
      "text/plain": [
       "<Figure size 432x288 with 1 Axes>"
      ]
     },
     "metadata": {
      "needs_background": "light"
     },
     "output_type": "display_data"
    }
   ],
   "source": [
    "plt.bar(np.arange(10), AbsE_list)\n",
    "plt.ylim(0.0, 0.035)\n",
    "plt.ylabel(\"Abs Error\", fontsize=15)\n",
    "plt.xticks(np.arange(10))\n",
    "plt.xlabel(\"Repeated img (dcm-*)\", fontsize=15)"
   ]
  },
  {
   "cell_type": "code",
   "execution_count": 43,
   "id": "3084c2b2",
   "metadata": {},
   "outputs": [
    {
     "data": {
      "text/plain": [
       "Text(0.5, 0, 'Repeated img (dcm-*)')"
      ]
     },
     "execution_count": 43,
     "metadata": {},
     "output_type": "execute_result"
    },
    {
     "data": {
      "image/png": "[encoded data removed]",
      "text/plain": [
       "<Figure size 432x288 with 1 Axes>"
      ]
     },
     "metadata": {
      "needs_background": "light"
     },
     "output_type": "display_data"
    }
   ],
   "source": [
    "plt.bar(np.arange(10), AbsE_list_t20)\n",
    "plt.ylim(0.0, 0.035)\n",
    "plt.ylabel(\"Abs Error\", fontsize=15)\n",
    "plt.xticks(np.arange(10))\n",
    "plt.xlabel(\"Repeated img (dcm-*)\", fontsize=15)"
   ]
  },
  {
   "cell_type": "markdown",
   "id": "38530fc0",
   "metadata": {},
   "source": [
    "## Effect of CP in T\n",
    "\n",
    "* Correct CP in T gives __smoother curve in T__ and __agrees better with 1 cycle tracking in peak strain value__.\n",
    "* Slightly worse replication of area strains at repeated imgs: __MAE, MSE__. See specific image pairing contributions to errors above"
   ]
  },
  {
   "cell_type": "markdown",
   "id": "64484584",
   "metadata": {},
   "source": [
    "## Temporal Smoothing\n",
    "\n",
    "* Printed out default params for TSFFD (below)\n",
    "* No temporal smoothing param. Transformation model of BSplineFFD == FFD, so expect BSplines in time to be inherent."
   ]
  },
  {
   "cell_type": "code",
   "execution_count": 44,
   "id": "14a199bd",
   "metadata": {},
   "outputs": [
    {
     "name": "stdout",
     "output_type": "stream",
     "text": [
      "## Version 1.1.0 (rev 5c899c9, built on Apr 16 2020)\r\n",
      "\r\n",
      "#\r\n",
      "# Registration parameters\r\n",
      "#\r\n",
      "\r\n",
      "Maximum no. of line search iterations    = 20\r\n",
      "Reuse previous step length               = Yes\r\n",
      "Strict step length range                 = Yes\r\n",
      "Maximum streak of rejected steps         = 5\r\n",
      "Transformation model                     = Rigid+Affine+BSplineFFD\r\n",
      "Multi-level transformation               = Default\r\n",
      "Merge global and local transformation    = No\r\n",
      "Optimization method                      = ConjugateGradientDescent\r\n",
      "No. of resolution levels                 = 4\r\n",
      "Interpolation mode                       = Fast linear\r\n",
      "Extrapolation mode                       = Default\r\n",
      "Precompute image derivatives             = No\r\n",
      "Normalize weights of energy terms        = Yes\r\n",
      "Downsample images with padding           = Yes\r\n",
      "Crop/pad images                          = Yes\r\n",
      "Crop/pad FFD lattice                     = Yes\r\n",
      "Adaptive surface remeshing               = No\r\n",
      "Padding value                            = -1025\r\n",
      "Resolution [mm]                          = 0.439453 0.439453 1\r\n",
      "Blurring [mm]                            = -1\r\n",
      "\r\n",
      "#\r\n",
      "# Registration parameters for resolution level 1\r\n",
      "#\r\n",
      "\r\n",
      "Resolution level                         = 1\r\n",
      "Minimum length of steps                  = 0.01\r\n",
      "Maximum length of steps                  = 1\r\n",
      "Resolution [mm]                          = 0.439453 0.439453 1\r\n",
      "Blurring [mm]                            = 0\r\n",
      "\r\n",
      "#\r\n",
      "# Registration parameters for resolution level 2\r\n",
      "#\r\n",
      "\r\n",
      "Resolution level                         = 2\r\n",
      "Minimum length of steps                  = 0.02\r\n",
      "Maximum length of steps                  = 2\r\n",
      "Resolution [mm]                          = 0.878906 0.878906 2\r\n",
      "Blurring [mm]                            = 0\r\n",
      "\r\n",
      "#\r\n",
      "# Registration parameters for resolution level 3\r\n",
      "#\r\n",
      "\r\n",
      "Resolution level                         = 3\r\n",
      "Minimum length of steps                  = 0.04\r\n",
      "Maximum length of steps                  = 4\r\n",
      "Resolution [mm]                          = 1.75781 1.75781 4\r\n",
      "Blurring [mm]                            = 0\r\n",
      "\r\n",
      "#\r\n",
      "# Registration parameters for resolution level 4\r\n",
      "#\r\n",
      "\r\n",
      "Resolution level                         = 4\r\n",
      "Minimum length of steps                  = 0.08\r\n",
      "Maximum length of steps                  = 8\r\n",
      "Resolution [mm]                          = 3.51562 3.51562 8\r\n",
      "Blurring [mm]                            = 0\r\n"
     ]
    }
   ],
   "source": [
    "cat /home/csi20/Dropbox/phd/Data/RG_CT_Cases/CT-CRT-01/MT-HiRes/test_cyclicity/default_register.cfg"
   ]
  },
  {
   "cell_type": "markdown",
   "id": "e5dc029e",
   "metadata": {},
   "source": [
    "## Ideas to try:\n",
    "\n",
    "* Investigate area strains over > 2 cardiac cycles - Does discrepancy in area strains worsen over more cycles (Drift effect)?\n",
    "* Plot area strains over 21 frames - see if additional dcm0 affects last area strain data point. __Essentially tests the cyclic condition in TSFFD paper__"
   ]
  },
  {
   "cell_type": "code",
   "execution_count": null,
   "id": "47d42e7c",
   "metadata": {},
   "outputs": [],
   "source": []
  }
 ],
 "metadata": {
  "kernelspec": {
   "display_name": "Python 3 (ipykernel)",
   "language": "python",
   "name": "python3"
  },
  "language_info": {
   "codemirror_mode": {
    "name": "ipython",
    "version": 3
   },
   "file_extension": ".py",
   "mimetype": "text/x-python",
   "name": "python",
   "nbconvert_exporter": "python",
   "pygments_lexer": "ipython3",
   "version": "3.9.7"
  }
 },
 "nbformat": 4,
 "nbformat_minor": 5
}
