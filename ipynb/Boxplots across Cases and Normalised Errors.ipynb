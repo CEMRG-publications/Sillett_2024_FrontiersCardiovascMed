{
 "cells": [
  {
   "cell_type": "code",
   "execution_count": null,
   "metadata": {},
   "outputs": [],
   "source": [
    "import pandas as pd\n",
    "import numpy as np\n",
    "import matplotlib.pyplot as plt\n",
    "import matplotlib.patches as mpatches\n"
   ]
  },
  {
   "cell_type": "code",
   "execution_count": null,
   "metadata": {},
   "outputs": [],
   "source": [
    "\"\"\"\n",
    "Plot boxplot of global errors for a given (SW, BE) across cases. Gives an idea of stribution \n",
    "of errors across cases.\n",
    "\n",
    "Input: Registration resolution, Erro type, BE (float) and SW (string)\n",
    "\"\"\"\n",
    "\n",
    "def Plot_GlobalError_AcrossCases(Res, Error, BE_Pop, SW_Pop):\n",
    "\n",
    "#     Error = 'Dice'\n",
    "#     Res = 'MT'\n",
    "#     BE_Pop = 4e-6\n",
    "#     SW_Pop = '9e-2'\n",
    "\n",
    "    data = []\n",
    "\n",
    "    for Case in ['01', '02', '05', '06', '07', '08', '09', '12', '15', '16']:\n",
    "\n",
    "        if Error == 'ASD':\n",
    "            csv_name = 'Normal-Distance-Results'\n",
    "\n",
    "        elif Error == 'DHD':\n",
    "            csv_name = 'Hausdorff-Distance-Results'\n",
    "\n",
    "        elif Error == 'Dice':\n",
    "            csv_name = 'Dice-Results'\n",
    "\n",
    "        else:\n",
    "            print(\"Error should be one of: ASD, DHD. Dice.\")\n",
    "\n",
    "        df = pd.read_csv(f'/home/csi20local/Data/RG_CT_Cases/CT-CRT-{Case}/{Res}-{csv_name}.csv', \n",
    "                        sep = ' ', index_col = 0)\n",
    "\n",
    "        data.append(df.loc[BE_Pop].loc[f'{SW_Pop}'])\n",
    "\n",
    "    ErrorUnits = {\n",
    "          \"ASD\": \"[mm]\",\n",
    "          \"DHD\": \"[mm]\",\n",
    "          \"Dice\": \"\"\n",
    "        }\n",
    "\n",
    "    units = ErrorUnits[f'{Error}']\n",
    "    \n",
    "    print(\"Mean: \", np.mean(data))\n",
    "    print(\"Std Error: \", np.std(data))\n",
    "\n",
    "    plt.boxplot(data)\n",
    "    plt.ylabel(f'{Error} {units}')\n",
    "    plt.title(f'{Res}-{Error} Across Cases')"
   ]
  },
  {
   "cell_type": "code",
   "execution_count": null,
   "metadata": {},
   "outputs": [],
   "source": [
    "Plot_GlobalError_AcrossCases('MT-HiRes', 'Dice', 4e-9, '9e-3')"
   ]
  },
  {
   "cell_type": "code",
   "execution_count": null,
   "metadata": {},
   "outputs": [],
   "source": []
  },
  {
   "cell_type": "code",
   "execution_count": null,
   "metadata": {},
   "outputs": [],
   "source": [
    "\"\"\"\n",
    "Plot boxplot of global errors for a given (SW, BE) across cases. Gives an idea of stribution \n",
    "of errors across cases.\n",
    "\n",
    "Input: Registration resolution, Erro type, BE (float) and SW (string)\n",
    "\"\"\"\n",
    "\n",
    "def Plot_GlobalError_AcrossCases_axis(Res, Error, BE_Pop, SW_Pop, ax):\n",
    "\n",
    "#     Error = 'Dice'\n",
    "#     Res = 'MT'\n",
    "#     BE_Pop = 4e-6\n",
    "#     SW_Pop = '9e-2'\n",
    "\n",
    "    data = []\n",
    "\n",
    "    for Case in ['01', '02', '05', '06', '07', '08', '09', '12', '15', '16']:\n",
    "\n",
    "        if Error == 'ASD':\n",
    "            csv_name = 'Normal-Distance-Results'\n",
    "\n",
    "        elif Error == 'DHD':\n",
    "            csv_name = 'Hausdorff-Distance-Results'\n",
    "\n",
    "        elif Error == 'Dice':\n",
    "            csv_name = 'Dice-Results'\n",
    "\n",
    "        else:\n",
    "            print(\"Error should be one of: ASD, DHD. Dice.\")\n",
    "\n",
    "        df = pd.read_csv(f'/home/csi20local/Data/RG_CT_Cases/CT-CRT-{Case}/{Res}-{csv_name}.csv', \n",
    "                        sep = ' ', index_col = 0)\n",
    "\n",
    "        data.append(df.loc[BE_Pop].loc[f'{SW_Pop}'])\n",
    "\n",
    "    ErrorUnits = {\n",
    "          \"ASD\": \"[mm]\",\n",
    "          \"DHD\": \"[mm]\",\n",
    "          \"Dice\": \"\"\n",
    "        }\n",
    "\n",
    "    units = ErrorUnits[f'{Error}']\n",
    "\n",
    "    ax.boxplot(data)\n",
    "    ax.set_ylabel(f'{Error} {units}')\n",
    "    ax.set_title(f'{Res}-{Error} Across Cases')"
   ]
  },
  {
   "cell_type": "code",
   "execution_count": null,
   "metadata": {},
   "outputs": [],
   "source": [
    "\"\"\"\n",
    "Plot boxplot of global errors for a given (SW, BE) across cases. Gives an idea of stribution \n",
    "of errors across cases.\n",
    "\n",
    "Input: Registration resolution, Erro type, BE (float) and SW (string)\n",
    "\"\"\"\n",
    "\n",
    "def Plot_GlobalError_AcrossCases_axis_Report(Res1, Res2, Error, SW_Pop1, BE_Pop1, SW_Pop2, BE_Pop2, ax):\n",
    "\n",
    "    data1 = []\n",
    "    data2 = []\n",
    "\n",
    "    for Case in ['01', '02', '05', '06', '07', '08', '09', '12', '15', '16']:\n",
    "\n",
    "        if Error == 'ASD':\n",
    "            csv_name = 'Normal-Distance-Results'\n",
    "\n",
    "        elif Error == 'DHD':\n",
    "            csv_name = 'Hausdorff-Distance-Results'\n",
    "\n",
    "        elif Error == 'Dice':\n",
    "            csv_name = 'Dice-Results'\n",
    "\n",
    "        else:\n",
    "            print(\"Error should be one of: ASD, DHD. Dice.\")\n",
    "\n",
    "        df1 = pd.read_csv(f'/home/csi20local/Data/RG_CT_Cases/CT-CRT-{Case}/{Res1}-{csv_name}.csv', \n",
    "                        sep = ' ', index_col = 0)\n",
    "        df2 = pd.read_csv(f'/home/csi20local/Data/RG_CT_Cases/CT-CRT-{Case}/{Res2}-{csv_name}.csv', \n",
    "                        sep = ' ', index_col = 0)\n",
    "\n",
    "        data1.append(df1.loc[BE_Pop1].loc[f'{SW_Pop1}'])\n",
    "        data2.append(df2.loc[BE_Pop2].loc[f'{SW_Pop2}'])\n",
    "\n",
    "    ErrorUnits = {\n",
    "          \"ASD\": \"[mm]\",\n",
    "          \"DHD\": \"[mm]\",\n",
    "          \"Dice\": \"\"\n",
    "        }\n",
    "\n",
    "    units = ErrorUnits[f'{Error}']\n",
    "\n",
    "    ax.boxplot([data1, data2], labels=['Baseline', 'Optimised'])\n",
    "    ax.set_ylabel(f'{Error} {units}')\n",
    "#     ax.set_title(f'{Res1}-{Error} Across Cases')"
   ]
  },
  {
   "cell_type": "code",
   "execution_count": null,
   "metadata": {},
   "outputs": [],
   "source": [
    "\"\"\"\n",
    "Plot boxplot of global errors for a given (SW, BE) across cases. Gives an idea of stribution \n",
    "of errors across cases.\n",
    "\n",
    "Input: Registration resolution, Erro type, BE (float) and SW (string)\n",
    "\"\"\"\n",
    "\n",
    "def Plot_GlobalError_AcrossCases_axis_Report_WIP(Res1, Res2, Error, SW_Pop1, BE_Pop1, SW_Pop2, BE_Pop2, ax):\n",
    "\n",
    "    data1 = []\n",
    "    data2 = []\n",
    "\n",
    "    for Case in ['01', '02', '05', '06', '07', '08', '09', '12', '15', '16']:\n",
    "\n",
    "        if Error == 'ASD':\n",
    "            csv_name = 'Normal-Distance-Results'\n",
    "\n",
    "        elif Error == 'DHD':\n",
    "            csv_name = 'Hausdorff-Distance-Results'\n",
    "\n",
    "        elif Error == 'Dice':\n",
    "            csv_name = 'Dice-Results'\n",
    "\n",
    "        else:\n",
    "            print(\"Error should be one of: ASD, DHD. Dice.\")\n",
    "\n",
    "        df1 = pd.read_csv(f'/home/csi20local/Data/RG_CT_Cases/CT-CRT-{Case}/{Res1}-{csv_name}.csv', \n",
    "                        sep = ' ', index_col = 0)\n",
    "        df2 = pd.read_csv(f'/home/csi20local/Data/RG_CT_Cases/CT-CRT-{Case}/{Res2}-{csv_name}.csv', \n",
    "                        sep = ' ', index_col = 0)\n",
    "\n",
    "        data1.append(df1.loc[BE_Pop1].loc[f'{SW_Pop1}'])\n",
    "        data2.append(df2.loc[BE_Pop2].loc[f'{SW_Pop2}'])\n",
    "\n",
    "    ErrorUnits = {\n",
    "          \"ASD\": \"[mm]\",\n",
    "          \"DHD\": \"[mm]\",\n",
    "          \"Dice\": \"\"\n",
    "        }\n",
    "\n",
    "    units = ErrorUnits[f'{Error}']\n",
    "\n",
    "#     ax.boxplot([data1, data2], labels=['Baseline', 'Optimised'])\n",
    "\n",
    "    c = 'red'\n",
    "    c2 = 'blue'\n",
    "    \n",
    "    ax.boxplot(data1, labels=['Baseline'], positions=[0], medianprops=dict(color=c), boxprops=dict(color=c))\n",
    "    ax.boxplot(data2, labels=['Optimised'], positions=[1], medianprops=dict(color=c2), boxprops=dict(color=c2))\n",
    "    \n",
    "    ax.set_ylabel(f'{Error} {units}')\n",
    "#     ax.set_title(f'{Res1}-{Error} Across Cases')"
   ]
  },
  {
   "cell_type": "code",
   "execution_count": null,
   "metadata": {},
   "outputs": [],
   "source": [
    "\"\"\"\n",
    "Plot boxplot of global errors for a given (SW, BE) across cases. Gives an idea of stribution \n",
    "of errors across cases.\n",
    "\n",
    "Input: Registration resolution, Erro type, BE (float) and SW (string)\n",
    "\n",
    "UPDATED 1 OCT: Including 9 new additional cases for ASD, DHD and 8 new cases for DSC boxplots!!!!!!!!!!!!\n",
    "\"\"\"\n",
    "\n",
    "def Plot_GlobalError_AcrossCases_axis_NewCases(Error, SW_Pop1, BE_Pop1, SW_Pop2, BE_Pop2, ax):\n",
    "\n",
    "    data_Baseline = []\n",
    "    data_OG_List = []\n",
    "    data_New_List = []\n",
    "    \n",
    "    OG_CaseList = ['01', '02', '05', '06', '07', '08', '09', '12', '15', '16']\n",
    "    New_CaseList = ['01', '02', '05', '06', '07', '08', '09', '12', '15', '16', '17', '18', '14', '23', '24', '25', '27', '30']\n",
    "\n",
    "    for Case in OG_CaseList:\n",
    "\n",
    "        if Error == 'ASD':\n",
    "            csv_name = 'Normal-Distance-Results'\n",
    "\n",
    "        elif Error == 'DHD':\n",
    "            csv_name = 'Hausdorff-Distance-Results'\n",
    "\n",
    "        elif Error == 'Dice':\n",
    "            csv_name = 'Dice-Results'\n",
    "\n",
    "        else:\n",
    "            print(\"Error should be one of: ASD, DHD. Dice.\")\n",
    "\n",
    "        df1 = pd.read_csv(f'/home/csi20local/Data/RG_CT_Cases/CT-CRT-{Case}/MT-HiRes-{csv_name}.csv', \n",
    "                        sep = ' ', index_col = 0)\n",
    "        df2 = pd.read_csv(f'/home/csi20local/Data/RG_CT_Cases/CT-CRT-{Case}/MT-{csv_name}.csv', \n",
    "                        sep = ' ', index_col = 0)\n",
    "\n",
    "        data_OG_List.append(df1.loc[BE_Pop2].loc[f'{SW_Pop2}'])\n",
    "        data_Baseline.append(df2.loc[BE_Pop1].loc[f'{SW_Pop1}'])\n",
    "\n",
    "    for Case in New_CaseList:\n",
    "        \n",
    "        if Error == 'ASD':\n",
    "            csv_name = 'Normal-Distance-Results'\n",
    "\n",
    "        elif Error == 'DHD':\n",
    "            csv_name = 'Hausdorff-Distance-Results'\n",
    "\n",
    "        elif Error == 'Dice':\n",
    "            csv_name = 'Dice-Results'\n",
    "            \n",
    "        else:\n",
    "            print(\"Error should be one of: ASD, DHD. Dice.\")\n",
    "            \n",
    "        if Case in ['01', '02', '05', '06', '07', '08', '09', '12', '15', '16', '17', '18', '14']:\n",
    "            df1 = pd.read_csv(f'/home/csi20local/Data/RG_CT_Cases/CT-CRT-{Case}/MT-HiRes-{csv_name}.csv', \n",
    "                        sep = ' ', index_col = 0)\n",
    "            data_New_List.append(df1.loc[BE_Pop2].loc[f'{SW_Pop2}'])\n",
    "\n",
    "            \n",
    "        elif Case in ['23', '24', '25', '27', '30']:\n",
    "            df1 = pd.read_csv(f'/home/csi20local/Data/RG_CT_Cases/CT-CRT-{Case}/MT-HiRes-TDownsampled-{csv_name}.csv', \n",
    "                        sep = ' ', index_col = 0)\n",
    "            data_New_List.append(df1.loc[BE_Pop2].loc[f'{SW_Pop2}'])\n",
    "            \n",
    "\n",
    "    ErrorUnits = {\n",
    "          \"ASD\": \"[mm]\",\n",
    "          \"DHD\": \"[mm]\",\n",
    "          \"Dice\": \"\"\n",
    "        }\n",
    "\n",
    "    units = ErrorUnits[f'{Error}']\n",
    "\n",
    "#     ax.boxplot([data1, data2], labels=['Baseline', 'Optimised'])\n",
    "\n",
    "    c = 'red'\n",
    "    c2 = 'blue'\n",
    "    \n",
    "    ax.boxplot(data_Baseline, labels=['Baseline TSFFD'], positions=[0], medianprops=dict(color=c), boxprops=dict(color=c))\n",
    "#     ax.boxplot(data_OG_List, labels=['10 Cases Opt'], positions=[1], medianprops=dict(color=c2), boxprops=dict(color=c2))\n",
    "    ax.boxplot(data_New_List, labels=['Opt. TSFFD'], positions=[1], medianprops=dict(color=c2), boxprops=dict(color=c2))\n",
    "    \n",
    "    ax.set_ylabel(f'{Error} {units}', fontsize=17)\n",
    "#     ax.set_title(f'{Res1}-{Error} Across Cases')"
   ]
  },
  {
   "cell_type": "markdown",
   "metadata": {},
   "source": [
    "#### Updated Global error metric plots across cases using new cases"
   ]
  },
  {
   "cell_type": "code",
   "execution_count": null,
   "metadata": {},
   "outputs": [],
   "source": [
    "fig, ((ax1, ax2, ax3)) = plt.subplots(1, 3, figsize=(14,4), dpi=150)\n",
    "\n",
    "\n",
    "Plot_GlobalError_AcrossCases_axis_NewCases('ASD', '9e-3', 4e-7, '9e-3', 4e-9, ax1)\n",
    "Plot_GlobalError_AcrossCases_axis_NewCases('DHD', '9e-3', 4e-7, '9e-3', 4e-9, ax2)\n",
    "Plot_GlobalError_AcrossCases_axis_NewCases('Dice', '9e-3', 4e-7, '9e-3', 4e-9, ax3)\n",
    "\n",
    "fig.tight_layout() # Or equivalently,  \"plt.tight_layout()\"\n",
    "\n",
    "# plt.savefig('new_cases-Siemens-biggerTXT.png', dpi=150, bbox_inches='tight')"
   ]
  },
  {
   "cell_type": "code",
   "execution_count": null,
   "metadata": {},
   "outputs": [],
   "source": []
  },
  {
   "cell_type": "code",
   "execution_count": null,
   "metadata": {},
   "outputs": [],
   "source": [
    "\"\"\"\n",
    "Plot boxplot of global errors for a given (SW, BE) across cases. Gives an idea of stribution \n",
    "of errors across cases.\n",
    "\n",
    "Input: Registration resolution, Erro type, BE (float) and SW (string)\n",
    "\"\"\"\n",
    "\n",
    "def Plot_LocalError_AcrossCases(Res, Error, BE_Pop, SW_Pop):\n",
    "\n",
    "#     Error = 'Dice'\n",
    "#     Res = 'MT'\n",
    "#     BE_Pop = 4e-6\n",
    "#     SW_Pop = '9e-2'\n",
    "\n",
    "    error_dict = {'ASD': 'Normal-Distance-Results', 'DHD': 'Hausdorff-Distance-Results', 'Dice': 'Dice-Results',\n",
    "                 'LAA': 'LAA-AbsoluteError', 'LSPV': 'LSPV-AbsoluteError', 'LIPV': 'LIPV-AbsoluteError',\n",
    "                 'RSPV': 'RSPV-AbsoluteError', 'RIPV': 'RIPV-AbsoluteError',\n",
    "                 'LAA-LS': 'LAA-LS-PercentageErrors', 'LAA-LI': 'LAA-LI-PercentageErrors', \n",
    "                 'LAA-RS': 'LAA-RS-PercentageErrors', 'LAA-RI': 'LAA-RS-PercentageErrors',\n",
    "                 'LS-LI': 'LS-LI-PercentageErrors', 'LS-RS': 'LS-RS-PercentageErrors', \n",
    "                 'LS-RI': 'LS-RI-PercentageErrors', 'LI-RS': 'LI-RS-PercentageErrors', \n",
    "                 'LI-RI': 'LI-RI-PercentageErrors', 'RS-RI': 'RS-RI-PercentageErrors',\n",
    "                 'MV': 'MV-AbsoluteError'}\n",
    "\n",
    "    data = []\n",
    "    \n",
    "    if Error in ['LAA', 'LAA-LS', 'LAA-LI', 'LAA-RS', 'LAA-RI']:\n",
    "        Cases = ('01', '02', '05', '06', '07', '08', '12', '15', '16')\n",
    "        \n",
    "    else:\n",
    "        Cases = ('01', '02', '05', '06', '07', '08', '09', '12', '15', '16')\n",
    "        \n",
    "    Error = error_dict[Error]\n",
    "\n",
    "    for Case in Cases:\n",
    "\n",
    "        df = pd.read_csv(f'/home/csi20local/Data/RG_CT_Cases/CT-CRT-{Case}/{Res}-{Error}.csv', \n",
    "                        sep = ' ', index_col = 0)\n",
    "\n",
    "        data.append(df.loc[BE_Pop].loc[f'{SW_Pop}'])\n",
    "\n",
    "    ErrorUnits = {\n",
    "          \"ASD\": \"[mm]\",\n",
    "          \"DHD\": \"[mm]\",\n",
    "          \"Dice\": \"\"\n",
    "        }\n",
    "\n",
    "#     units = ErrorUnits[f'{Error}']\n",
    "\n",
    "    plt.boxplot(data)\n",
    "    plt.ylabel(f'{Error} [mm]')\n",
    "    plt.title(f'{Res}-{Error} Across Cases')"
   ]
  },
  {
   "cell_type": "code",
   "execution_count": null,
   "metadata": {},
   "outputs": [],
   "source": [
    "\"\"\"\n",
    "Plot boxplot of global errors for a given (SW, BE) across cases. Gives an idea of stribution \n",
    "of errors across cases.\n",
    "\n",
    "Input: Registration resolution, Erro type, BE (float) and SW (string)\n",
    "\"\"\"\n",
    "\n",
    "def Plot_LocalError_AcrossCases_axis(Res, Error, BE_Pop, SW_Pop, ax):\n",
    "\n",
    "\n",
    "    error_dict = {'ASD': 'Normal-Distance-Results', 'DHD': 'Hausdorff-Distance-Results', 'Dice': 'Dice-Results',\n",
    "                 'LAA': 'LAA-AbsoluteError', 'LSPV': 'LSPV-AbsoluteError', 'LIPV': 'LIPV-AbsoluteError',\n",
    "                 'RSPV': 'RSPV-AbsoluteError', 'RIPV': 'RIPV-AbsoluteError',\n",
    "                 'LAA-LS': 'LAA-LS-PercentageErrors', 'LAA-LI': 'LAA-LI-PercentageErrors', \n",
    "                 'LAA-RS': 'LAA-RS-PercentageErrors', 'LAA-RI': 'LAA-RS-PercentageErrors',\n",
    "                 'LS-LI': 'LS-LI-PercentageErrors', 'LS-RS': 'LS-RS-PercentageErrors', \n",
    "                 'LS-RI': 'LS-RI-PercentageErrors', 'LI-RS': 'LI-RS-PercentageErrors', \n",
    "                 'LI-RI': 'LI-RI-PercentageErrors', 'RS-RI': 'RS-RI-PercentageErrors',\n",
    "                 'MV': 'MV-AbsoluteError'}\n",
    "\n",
    "    data = []\n",
    "    \n",
    "    if Error in ['LAA', 'LAA-LS', 'LAA-LI', 'LAA-RS', 'LAA-RI']:\n",
    "        Cases = ('01', '02', '05', '06', '07', '08', '12', '15', '16')\n",
    "        \n",
    "    else:\n",
    "        Cases = ('01', '02', '05', '06', '07', '08', '09', '12', '15', '16')\n",
    "        \n",
    "    Error = error_dict[Error]\n",
    "\n",
    "    for Case in Cases:\n",
    "\n",
    "        df = pd.read_csv(f'/home/csi20local/Data/RG_CT_Cases/CT-CRT-{Case}/{Res}-{Error}.csv', \n",
    "                        sep = ' ', index_col = 0)\n",
    "\n",
    "        data.append(df.loc[BE_Pop].loc[f'{SW_Pop}'])\n",
    "\n",
    "    ErrorUnits = {\n",
    "          \"ASD\": \"[mm]\",\n",
    "          \"DHD\": \"[mm]\",\n",
    "          \"Dice\": \"\"\n",
    "        }\n",
    "\n",
    "#     units = ErrorUnits[f'{Error}']\n",
    "\n",
    "    ax.boxplot(data)\n",
    "#     ax.set_ylabel(f'{Error} [mm]')\n",
    "#     ax.set_title(f'{Res}-{Error} Across Cases')"
   ]
  },
  {
   "cell_type": "code",
   "execution_count": null,
   "metadata": {},
   "outputs": [],
   "source": [
    "\"\"\"\n",
    "Plot boxplot of global errors for a given (SW, BE) across cases. Gives an idea of stribution \n",
    "of errors across cases.\n",
    "\n",
    "Input: Registration resolution, Erro type, BE (float) and SW (string)\n",
    "\"\"\"\n",
    "\n",
    "def Plot_LocalError_AcrossCases_axis_Report(Res1, Res2, ErrorType, SW_Pop1, BE_Pop1, SW_Pop2, BE_Pop2, ax):\n",
    "\n",
    "\n",
    "    error_dict = {'ASD': 'Normal-Distance-Results', 'DHD': 'Hausdorff-Distance-Results', 'Dice': 'Dice-Results',\n",
    "                 'LAA': 'LAA-AbsoluteError', 'LSPV': 'LSPV-AbsoluteError', 'LIPV': 'LIPV-AbsoluteError',\n",
    "                 'RSPV': 'RSPV-AbsoluteError', 'RIPV': 'RIPV-AbsoluteError',\n",
    "                 'LAA-LS': 'LAA-LS-PercentageErrors', 'LAA-LI': 'LAA-LI-PercentageErrors', \n",
    "                 'LAA-RS': 'LAA-RS-PercentageErrors', 'LAA-RI': 'LAA-RS-PercentageErrors',\n",
    "                 'LS-LI': 'LS-LI-PercentageErrors', 'LS-RS': 'LS-RS-PercentageErrors', \n",
    "                 'LS-RI': 'LS-RI-PercentageErrors', 'LI-RS': 'LI-RS-PercentageErrors', \n",
    "                 'LI-RI': 'LI-RI-PercentageErrors', 'RS-RI': 'RS-RI-PercentageErrors',\n",
    "                 'MV': 'MV-AbsoluteError'}\n",
    "\n",
    "    if ErrorType == \"Absolute\":\n",
    "        Errors = [\"LAA\", \"LSPV\", \"LIPV\", \"RSPV\", \"RIPV\", \"MV\"]\n",
    "        \n",
    "    if ErrorType == \"Percentage\":\n",
    "        Errors = [\"LAA-LS\", \"LAA-LI\", \"LAA-RS\", \"LAA-RI\", \"LS-LI\", \"LS-RS\", \"LS-RI\", \"LI-RS\", \"LI-RI\", \"RS-RI\"]\n",
    "    \n",
    "    data_list = []\n",
    "    \n",
    "    for Error in Errors:\n",
    "        \n",
    "        data1 = []\n",
    "        data2 = []\n",
    "    \n",
    "        if Error in ['LAA', 'LAA-LS', 'LAA-LI', 'LAA-RS', 'LAA-RI']:\n",
    "            Cases = ('01', '02', '05', '06', '07', '08', '12', '15', '16')\n",
    "        \n",
    "        else:\n",
    "            Cases = ('01', '02', '05', '06', '07', '08', '09', '12', '15', '16')\n",
    "        \n",
    "        Error = error_dict[Error]\n",
    "\n",
    "        for Case in Cases:\n",
    "\n",
    "            df1 = pd.read_csv(f'/home/csi20local/Data/RG_CT_Cases/CT-CRT-{Case}/{Res1}-{Error}.csv', \n",
    "                        sep = ' ', index_col = 0)\n",
    "            df2 = pd.read_csv(f'/home/csi20local/Data/RG_CT_Cases/CT-CRT-{Case}/{Res2}-{Error}.csv', \n",
    "                        sep = ' ', index_col = 0)\n",
    "\n",
    "            data1.append(df1.loc[BE_Pop1].loc[f'{SW_Pop1}'])\n",
    "            data2.append(df2.loc[BE_Pop2].loc[f'{SW_Pop2}'])\n",
    "            \n",
    "        data_list.append(data1)\n",
    "        data_list.append(data2)\n",
    "\n",
    "        ErrorUnits = {\n",
    "          \"ASD\": \"[mm]\",\n",
    "          \"DHD\": \"[mm]\",\n",
    "          \"Dice\": \"\"}\n",
    "\n",
    "#     units = ErrorUnits[f'{Error}']\n",
    "\n",
    "    boxplot = ax.boxplot(data_list)\n",
    "    \n",
    "    boxplot['boxes']\n",
    "    \n",
    "#     # fill with colors\n",
    "#     colors = ['pink', 'lightblue']\n",
    "#     for bplot in boxplot:\n",
    "#         for patch, color in zip(bplot['boxes'], colors):\n",
    "#             patch.set_facecolor(color)\n",
    "            \n",
    "    plt.show()\n",
    "            \n",
    "#     ax.set_ylabel(f'{Error} [mm]')\n",
    "#     ax.set_title(f'{Res}-{Error} Across Cases')"
   ]
  },
  {
   "cell_type": "code",
   "execution_count": null,
   "metadata": {},
   "outputs": [],
   "source": [
    "\"\"\"\n",
    "Plot boxplot of global errors for a given (SW, BE) across cases. Gives an idea of stribution \n",
    "of errors across cases.\n",
    "\n",
    "Input: Registration resolution, Erro type, BE (float) and SW (string)\n",
    "\"\"\"\n",
    "\n",
    "def Plot_LocalError_AcrossCases_axis_Report_WIP(Res1, Res2, ErrorType, SW_Pop1, BE_Pop1, SW_Pop2, BE_Pop2, ax):\n",
    "\n",
    "\n",
    "    error_dict = {'ASD': 'Normal-Distance-Results', 'DHD': 'Hausdorff-Distance-Results', 'Dice': 'Dice-Results',\n",
    "                 'LAA': 'LAA-AbsoluteError', 'LSPV': 'LSPV-AbsoluteError', 'LIPV': 'LIPV-AbsoluteError',\n",
    "                 'RSPV': 'RSPV-AbsoluteError', 'RIPV': 'RIPV-AbsoluteError',\n",
    "                 'LAA-LS': 'LAA-LS-PercentageErrors', 'LAA-LI': 'LAA-LI-PercentageErrors', \n",
    "                 'LAA-RS': 'LAA-RS-PercentageErrors', 'LAA-RI': 'LAA-RS-PercentageErrors',\n",
    "                 'LS-LI': 'LS-LI-PercentageErrors', 'LS-RS': 'LS-RS-PercentageErrors', \n",
    "                 'LS-RI': 'LS-RI-PercentageErrors', 'LI-RS': 'LI-RS-PercentageErrors', \n",
    "                 'LI-RI': 'LI-RI-PercentageErrors', 'RS-RI': 'RS-RI-PercentageErrors',\n",
    "                 'MV': 'MV-AbsoluteError'}\n",
    "\n",
    "    if ErrorType == \"Absolute\":\n",
    "        Errors = [\"LAA\", \"LSPV\", \"LIPV\", \"RSPV\", \"RIPV\", \"MV\"]\n",
    "        \n",
    "    if ErrorType == \"Percentage\":\n",
    "        Errors = [\"LAA-LS\", \"LAA-LI\", \"LAA-RS\", \"LAA-RI\", \"LS-LI\", \"LS-RS\", \"LS-RI\", \"LI-RS\", \"LI-RI\", \"RS-RI\"]\n",
    "    \n",
    "    data_list = []\n",
    "    \n",
    "    for Error in Errors:\n",
    "        \n",
    "        data1 = []\n",
    "        data2 = []\n",
    "    \n",
    "        if Error in ['LAA', 'LAA-LS', 'LAA-LI', 'LAA-RS', 'LAA-RI']:\n",
    "            Cases = ('01', '02', '05', '06', '07', '08', '12', '15', '16')\n",
    "        \n",
    "        else:\n",
    "            Cases = ('01', '02', '05', '06', '07', '08', '09', '12', '15', '16')\n",
    "        \n",
    "        Error = error_dict[Error]\n",
    "\n",
    "        for Case in Cases:\n",
    "\n",
    "            df1 = pd.read_csv(f'/home/csi20local/Data/RG_CT_Cases/CT-CRT-{Case}/{Res1}-{Error}.csv', \n",
    "                        sep = ' ', index_col = 0)\n",
    "            df2 = pd.read_csv(f'/home/csi20local/Data/RG_CT_Cases/CT-CRT-{Case}/{Res2}-{Error}.csv', \n",
    "                        sep = ' ', index_col = 0)\n",
    "\n",
    "            data1.append(df1.loc[BE_Pop1].loc[f'{SW_Pop1}'])\n",
    "            data2.append(df2.loc[BE_Pop2].loc[f'{SW_Pop2}'])\n",
    "            \n",
    "        data_list.append(data1)\n",
    "        data_list.append(data2)\n",
    "\n",
    "        ErrorUnits = {\n",
    "          \"ASD\": \"[mm]\",\n",
    "          \"DHD\": \"[mm]\",\n",
    "          \"Dice\": \"\"}\n",
    "\n",
    "#     units = ErrorUnits[f'{Error}']\n",
    "\n",
    "    print(\"len data1\", len(data1))\n",
    "    print(\"len data2\", len(data2))\n",
    "\n",
    "    c = 'red'\n",
    "    c2 = 'blue'\n",
    "    ax.boxplot(data_list[0:len(data_list):2], positions=np.arange(1,(len(data_list)+1),2), medianprops=dict(color=c), boxprops=dict(color=c))\n",
    "    ax.boxplot(data_list[1:len(data_list):2], positions=np.arange(1.5,(len(data_list)+1.5),2), medianprops=dict(color=c2), boxprops=dict(color=c2))\n",
    "    \n",
    "#     boxplot['boxes']\n",
    "    \n",
    "#     # fill with colors\n",
    "#     colors = ['pink', 'lightblue']\n",
    "#     for bplot in boxplot:\n",
    "#         for patch, color in zip(bplot['boxes'], colors):\n",
    "#             patch.set_facecolor(color)\n",
    "                        \n",
    "#     ax.set_ylabel(f'{Error} [mm]')\n",
    "#     ax.set_title(f'{Res}-{Error} Across Cases')"
   ]
  },
  {
   "cell_type": "markdown",
   "metadata": {},
   "source": [
    "### WIP: Creating new boxlpots graph for Local Absolute and Percentage Errors using new cases"
   ]
  },
  {
   "cell_type": "code",
   "execution_count": null,
   "metadata": {},
   "outputs": [],
   "source": [
    "\"\"\"\n",
    "Plot boxplot of local errors for a given (SW, BE) across cases. Gives an idea of distribution \n",
    "of errors across cases.\n",
    "\n",
    "Input: Error type, BE (float) and SW (string)\n",
    "\n",
    "05/10: Want to change this to make ax.boxplot call at end easier.\n",
    "\"\"\"\n",
    "\n",
    "def Plot_LocalError_AcrossCases_axis_Report_NewCases(ErrorType, SW_Pop1, BE_Pop1, SW_Pop2, BE_Pop2, ax):\n",
    "\n",
    "\n",
    "    error_dict = {'LAA': 'LAA-AbsoluteError', 'LSPV': 'LSPV-AbsoluteError', 'LIPV': 'LIPV-AbsoluteError',\n",
    "                 'RSPV': 'RSPV-AbsoluteError', 'RIPV': 'RIPV-AbsoluteError',\n",
    "                 'LAA-LS': 'LAA-LS-PercentageErrors', 'LAA-LI': 'LAA-LI-PercentageErrors', \n",
    "                 'LAA-RS': 'LAA-RS-PercentageErrors', 'LAA-RI': 'LAA-RS-PercentageErrors',\n",
    "                 'LS-LI': 'LS-LI-PercentageErrors', 'LS-RS': 'LS-RS-PercentageErrors', \n",
    "                 'LS-RI': 'LS-RI-PercentageErrors', 'LI-RS': 'LI-RS-PercentageErrors', \n",
    "                 'LI-RI': 'LI-RI-PercentageErrors', 'RS-RI': 'RS-RI-PercentageErrors',\n",
    "                 'MV': 'MV-AbsoluteError'}\n",
    "\n",
    "    if ErrorType == \"Absolute\":\n",
    "        Errors = [\"LAA\", \"LSPV\", \"LIPV\", \"RSPV\", \"RIPV\", \"MV\"]\n",
    "        \n",
    "    if ErrorType == \"Percentage\":\n",
    "        Errors = [\"LAA-LS\", \"LAA-LI\", \"LAA-RS\", \"LAA-RI\", \"LS-LI\", \"LS-RS\", \"LS-RI\", \"LI-RS\", \"LI-RI\", \"RS-RI\"]\n",
    "    \n",
    "    data_list = []\n",
    "    data_opt_new = []\n",
    "    \n",
    "    TDownsampled_Cases = ['CT-CRT-' + x for x in ('23', '24', '25', '27', '30')]\n",
    "    TDownsampled_Cases.append('EBR-01')\n",
    "    \n",
    "    for Error in Errors:\n",
    "        \n",
    "        OG_Cases = ('01', '02', '05', '06', '07', '08', '09', '12', '15', '16')\n",
    "        New_Cases = ('01', '02', '05', '06', '07', '08', '09', '12', '15', '16',\n",
    "                    '17', '18', '23', '24', '25', '27', '30')\n",
    "        New_Cases = ['CT-CRT-' + Case for Case in New_Cases]\n",
    "        New_Cases.append('EBR-01')\n",
    "        \n",
    "        data_base = []\n",
    "        data_opt_OG = []\n",
    "        data_opt_new_PV_error = []\n",
    "        \n",
    "        if 'LAA' in Error:\n",
    "            OG_Cases = list(OG_Cases)\n",
    "            OG_Cases.remove('09')\n",
    "            OG_Cases = tuple(OG_Cases)\n",
    "            \n",
    "            New_Cases = list(New_Cases)\n",
    "            New_Cases.remove('CT-CRT-09')\n",
    "            New_Cases = tuple(New_Cases)\n",
    "        \n",
    "        if 'LI' in Error:\n",
    "            New_Cases = list(New_Cases)\n",
    "            New_Cases.remove('CT-CRT-18')\n",
    "            New_Cases.remove('CT-CRT-23')\n",
    "            New_Cases = tuple(New_Cases)\n",
    "        \n",
    "        Error = error_dict[Error]\n",
    "\n",
    "        for Case in OG_Cases:\n",
    "\n",
    "            df1 = pd.read_csv(f'/home/csi20local/Data/RG_CT_Cases/CT-CRT-{Case}/MT-{Error}.csv', \n",
    "                        sep = ' ', index_col = 0)\n",
    "            df2 = pd.read_csv(f'/home/csi20local/Data/RG_CT_Cases/CT-CRT-{Case}/MT-HiRes-{Error}.csv', \n",
    "                        sep = ' ', index_col = 0)\n",
    "\n",
    "            data_base.append(df1.loc[BE_Pop1].loc[f'{SW_Pop1}'])\n",
    "            data_opt_OG.append(df2.loc[BE_Pop2].loc[f'{SW_Pop2}'])\n",
    "            \n",
    "        for Case in New_Cases:\n",
    "            \n",
    "            if Case in TDownsampled_Cases:\n",
    "                df_new = pd.read_csv(f'/home/csi20local/Data/RG_CT_Cases/{Case}/MT-HiRes-TDownsampled-{Error}.csv',\n",
    "                                     sep = ' ', index_col = 0)\n",
    "            else:\n",
    "                df_new = pd.read_csv(f'/home/csi20local/Data/RG_CT_Cases/{Case}/MT-HiRes-{Error}.csv',\n",
    "                                     sep = ' ', index_col = 0)\n",
    "            \n",
    "            data_opt_new_PV_error.append(df_new.loc[BE_Pop2].loc[f'{SW_Pop2}'])\n",
    "            \n",
    "        data_list.append(data_base)\n",
    "        data_list.append(data_opt_OG)\n",
    "        data_opt_new.append(data_opt_new_PV_error)\n",
    "    \n",
    "        \n",
    "    ErrorUnits = {\n",
    "          \"ASD\": \"[mm]\",\n",
    "          \"DHD\": \"[mm]\",\n",
    "          \"Dice\": \"\"}\n",
    "\n",
    "#     units = ErrorUnits[f'{Error}']\n",
    "\n",
    "    print(\"len data_base\", len(data_base))\n",
    "    print(\"len data_opt_OG\", len(data_opt_OG))\n",
    "    print(\"len data_list\", len(data_list))\n",
    "\n",
    "    c = 'red'\n",
    "    c2 = 'blue'\n",
    "    ax.boxplot(data_list[0:len(data_list):2], positions=np.arange(1,(len(data_list)+1),2), medianprops=dict(color=c), boxprops=dict(color=c))\n",
    "#     ax.boxplot(data_list[1:len(data_list):2], positions=np.arange(1.5,(len(data_list)+1.5),2), medianprops=dict(color=c2), boxprops=dict(color=c2))\n",
    "    ax.boxplot(data_opt_new, positions=np.arange(1.5,(len(data_list)+1.5),2), medianprops=dict(color=c2), boxprops=dict(color=c2))\n",
    "    \n",
    "#     boxplot['boxes']\n",
    "    \n",
    "#     # fill with colors\n",
    "#     colors = ['pink', 'lightblue']\n",
    "#     for bplot in boxplot:\n",
    "#         for patch, color in zip(bplot['boxes'], colors):\n",
    "#             patch.set_facecolor(color)\n",
    "                        \n",
    "#     ax.set_ylabel(f'{Error} [mm]')\n",
    "#     ax.set_title(f'{Res}-{Error} Across Cases')"
   ]
  },
  {
   "cell_type": "code",
   "execution_count": null,
   "metadata": {},
   "outputs": [],
   "source": [
    "mylist = [\"LAA\", \"LSPV\", \"LIPV\", \"RSPV\", \"RIPV\", \"MV\"]\n",
    "mylist2 = [\"LAA-LS\", \"LAA-LI\", \"LAA-RS\", \"LAA-RI\", \"LS-LI\", \"LS-RS\", \"LS-RI\", \"LI-RS\", \"LI-RI\", \"RS-RI\"]"
   ]
  },
  {
   "cell_type": "code",
   "execution_count": null,
   "metadata": {},
   "outputs": [],
   "source": [
    "mytuple = (\"LAA\", \"LSPV\", \"LIPV\", \"RSPV\", \"RIPV\", \"MV\")\n",
    "mytuple2 = (\"LAA-LS\", \"LAA-LI\", \"LAA-RS\", \"LAA-RI\", \"LS-LI\", \"LS-RS\", \"LS-RI\", \"LI-RS\", \"LI-RI\", \"RS-RI\")"
   ]
  },
  {
   "cell_type": "code",
   "execution_count": null,
   "metadata": {},
   "outputs": [],
   "source": [
    "if 'LA' in mylist[0]:\n",
    "    print(True)"
   ]
  },
  {
   "cell_type": "code",
   "execution_count": null,
   "metadata": {},
   "outputs": [],
   "source": [
    "if \"LAA\" in mylist2[0]:\n",
    "    print(True)"
   ]
  },
  {
   "cell_type": "code",
   "execution_count": null,
   "metadata": {},
   "outputs": [],
   "source": [
    "mylist2_joined = '-'.join(mylist2)"
   ]
  },
  {
   "cell_type": "code",
   "execution_count": null,
   "metadata": {},
   "outputs": [],
   "source": [
    "if \"LAA\" in mylist2_joined:\n",
    "    print(True)"
   ]
  },
  {
   "cell_type": "code",
   "execution_count": null,
   "metadata": {},
   "outputs": [],
   "source": [
    "mytuple2_joined = '-'.join(mytuple2)\n",
    "mytuple2_joined"
   ]
  },
  {
   "cell_type": "code",
   "execution_count": null,
   "metadata": {},
   "outputs": [],
   "source": [
    "if \"LAA\" in mytuple2_joined:\n",
    "    print(True)"
   ]
  },
  {
   "cell_type": "code",
   "execution_count": null,
   "metadata": {},
   "outputs": [],
   "source": [
    "cases_t = ('01', '02', '05', '06', '07', '08', '09', '12', '15', '16')\n",
    "cases_l = list(cases_t)"
   ]
  },
  {
   "cell_type": "code",
   "execution_count": null,
   "metadata": {},
   "outputs": [],
   "source": [
    "a = ['CT-CRT-' + case for case in cases_t]\n",
    "b = ['CT-CRT-' + case for case in cases_l]"
   ]
  },
  {
   "cell_type": "code",
   "execution_count": null,
   "metadata": {},
   "outputs": [],
   "source": [
    "a"
   ]
  },
  {
   "cell_type": "code",
   "execution_count": null,
   "metadata": {},
   "outputs": [],
   "source": [
    "b"
   ]
  },
  {
   "cell_type": "code",
   "execution_count": null,
   "metadata": {},
   "outputs": [],
   "source": []
  },
  {
   "cell_type": "code",
   "execution_count": null,
   "metadata": {},
   "outputs": [],
   "source": [
    "Plot_LocalError_AcrossCases('MT', 'MV', 1e-9, '3e-4')"
   ]
  },
  {
   "cell_type": "code",
   "execution_count": null,
   "metadata": {},
   "outputs": [],
   "source": [
    "Plot_LocalError_AcrossCases('MT-HiRes', 'MV', 1e-9, '3e-4')"
   ]
  },
  {
   "cell_type": "code",
   "execution_count": null,
   "metadata": {},
   "outputs": [],
   "source": [
    "Plot_LocalError_AcrossCases('MT', 'LAA-LS', 1e-9, '3e-4')"
   ]
  },
  {
   "cell_type": "code",
   "execution_count": null,
   "metadata": {},
   "outputs": [],
   "source": [
    "Plot_LocalError_AcrossCases('MT-HiRes', 'LAA-LS', 1e-9, '3e-4')"
   ]
  },
  {
   "cell_type": "markdown",
   "metadata": {},
   "source": [
    "## Visualising Distribution across Cases for different types of error\n",
    "\n",
    "### ASD Distributions"
   ]
  },
  {
   "cell_type": "code",
   "execution_count": null,
   "metadata": {
    "scrolled": true
   },
   "outputs": [],
   "source": [
    "Plot_GlobalError_AcrossCases('MT', 'ASD', 4e-10, '3e-4')"
   ]
  },
  {
   "cell_type": "code",
   "execution_count": null,
   "metadata": {
    "scrolled": true
   },
   "outputs": [],
   "source": [
    "Plot_GlobalError_AcrossCases('MT-HiRes', 'ASD', 4e-10, '3e-3')"
   ]
  },
  {
   "cell_type": "code",
   "execution_count": null,
   "metadata": {},
   "outputs": [],
   "source": [
    "for Case in ('01', '02', '05', '06', '07', '08', '09', '12', '15', '16'):\n",
    "    \n",
    "    f = open(f\"/home/csi20local/Data/RG_CT_Cases/CT-CRT-{Case}/Res-1/SW-3e-3-BE-4e-10/hausdorff-distance.txt\", \"r\")\n",
    "    print(f.read(), ',')"
   ]
  },
  {
   "cell_type": "code",
   "execution_count": null,
   "metadata": {},
   "outputs": [],
   "source": []
  },
  {
   "cell_type": "code",
   "execution_count": null,
   "metadata": {},
   "outputs": [],
   "source": [
    "ASD_error = [0.563724162103725, 0.6262463866934652, 0.5233251717879407, 0.8230676061410641, 0.8182264627881154,\n",
    "            0.5731341925846316, 0.5218215438531886, 0.623922487999067, 1.033497049812373, 0.6407693634119647]\n",
    "\n",
    "Dice_error = [0.9184013802805195, 0.8956064481666424, 0.7658765144495999, 0.8117711180600283, 0.8424252105871962,\n",
    "              0.9413246742492722, 0.862689289273645, 0.8691505278674685, 0.7216284899358129, 0.807906020427657]\n",
    "\n",
    "DHD_error = [5.298307021115329\n",
    " ,\n",
    "3.6423160269257386\n",
    " ,\n",
    "2.7182893517799\n",
    " ,\n",
    "7.725102130231039\n",
    " ,\n",
    "5.785035156332228\n",
    " ,\n",
    "2.2815952774319848\n",
    " ,\n",
    "12.86366589297545\n",
    " ,\n",
    "3.452233624771075\n",
    " ,\n",
    "14.264440760506528\n",
    " ,\n",
    "3.2304801516183366]"
   ]
  },
  {
   "cell_type": "code",
   "execution_count": null,
   "metadata": {},
   "outputs": [],
   "source": [
    "f.read()"
   ]
  },
  {
   "cell_type": "code",
   "execution_count": null,
   "metadata": {},
   "outputs": [],
   "source": [
    "plt.boxplot(ASD_error)\n",
    "plt.title('Res-1 ASD')"
   ]
  },
  {
   "cell_type": "code",
   "execution_count": null,
   "metadata": {
    "scrolled": true
   },
   "outputs": [],
   "source": [
    "Plot_GlobalError_AcrossCases('MT-HiRes', 'ASD', 4e-10, '3e-3')"
   ]
  },
  {
   "cell_type": "code",
   "execution_count": null,
   "metadata": {},
   "outputs": [],
   "source": [
    "plt.boxplot(DHD_error)"
   ]
  },
  {
   "cell_type": "code",
   "execution_count": null,
   "metadata": {
    "scrolled": true
   },
   "outputs": [],
   "source": [
    "Plot_GlobalError_AcrossCases('MT-HiRes', 'DHD', 4e-10, '3e-3')"
   ]
  },
  {
   "cell_type": "code",
   "execution_count": null,
   "metadata": {},
   "outputs": [],
   "source": [
    "plt.boxplot(Dice_error)"
   ]
  },
  {
   "cell_type": "code",
   "execution_count": null,
   "metadata": {
    "scrolled": true
   },
   "outputs": [],
   "source": [
    "Plot_GlobalError_AcrossCases('MT-HiRes', 'Dice', 4e-10, '3e-3')"
   ]
  },
  {
   "cell_type": "code",
   "execution_count": null,
   "metadata": {},
   "outputs": [],
   "source": [
    "fig, ((ax1, ax2, ax3)) = plt.subplots(1, 3, figsize=(10,5), dpi=150, sharey=True)\n",
    "\n",
    "Plot_GlobalError_AcrossCases_axis('MT', 'ASD', 4e-10, '3e-3', ax1)\n",
    "Plot_GlobalError_AcrossCases_axis('MT-HiRes', 'ASD', 4e-10, '3e-3', ax2)\n",
    "ax3.boxplot(ASD_error)\n",
    "ax3.set_title('Res-1 Across Cases')"
   ]
  },
  {
   "cell_type": "code",
   "execution_count": null,
   "metadata": {},
   "outputs": [],
   "source": [
    "fig, ((ax1, ax2, ax3)) = plt.subplots(1, 3, figsize=(10,5), dpi=150, sharey=True)\n",
    "\n",
    "Plot_GlobalError_AcrossCases_axis('MT', 'Dice', 4e-10, '3e-3', ax1)\n",
    "Plot_GlobalError_AcrossCases_axis('MT-HiRes', 'Dice', 4e-10, '3e-3', ax2)\n",
    "ax3.boxplot(Dice_error)\n",
    "ax3.set_title('Res-1 Across Cases')"
   ]
  },
  {
   "cell_type": "code",
   "execution_count": null,
   "metadata": {},
   "outputs": [],
   "source": [
    "fig, ((ax1, ax2, ax3)) = plt.subplots(1, 3, figsize=(10,5), dpi=150, sharey=True)\n",
    "\n",
    "Plot_GlobalError_AcrossCases_axis('MT', 'DHD', 4e-10, '3e-3', ax1)\n",
    "Plot_GlobalError_AcrossCases_axis('MT-HiRes', 'DHD', 4e-10, '3e-3', ax2)\n",
    "ax3.boxplot(DHD_error)\n",
    "ax3.set_title('Res-1 Across Cases')"
   ]
  },
  {
   "cell_type": "code",
   "execution_count": null,
   "metadata": {},
   "outputs": [],
   "source": [
    "fig, ((ax1, ax2, ax3, ax4, ax5,\n",
    "      ax6, ax7, ax8, ax9, ax10, ax11, ax12)) = plt.subplots(1, 12, figsize=(10,5), dpi=150, sharey=True)\n",
    "\n",
    "Plot_LocalError_AcrossCases_axis('MT', 'LAA', 4e-10, '3e-3', ax1)\n",
    "Plot_LocalError_AcrossCases_axis('MT-HiRes', 'LAA', 4e-10, '3e-3', ax2)\n",
    "Plot_LocalError_AcrossCases_axis('MT', 'LSPV', 4e-10, '3e-3', ax3)\n",
    "Plot_LocalError_AcrossCases_axis('MT-HiRes', 'LSPV', 4e-10, '3e-3', ax4)\n",
    "Plot_LocalError_AcrossCases_axis('MT', 'LIPV', 4e-10, '3e-3', ax5)\n",
    "Plot_LocalError_AcrossCases_axis('MT-HiRes', 'LIPV', 4e-10, '3e-3', ax6)\n",
    "Plot_LocalError_AcrossCases_axis('MT', 'RSPV', 4e-10, '3e-3', ax7)\n",
    "Plot_LocalError_AcrossCases_axis('MT-HiRes', 'RSPV', 4e-10, '3e-3', ax8)\n",
    "Plot_LocalError_AcrossCases_axis('MT', 'RIPV', 4e-10, '3e-3', ax9)\n",
    "Plot_LocalError_AcrossCases_axis('MT-HiRes', 'RIPV', 4e-10, '3e-3', ax10)\n",
    "Plot_LocalError_AcrossCases_axis('MT', 'MV', 4e-10, '3e-3', ax11)\n",
    "Plot_LocalError_AcrossCases_axis('MT-HiRes', 'MV', 4e-10, '3e-3', ax12)\n",
    "\n"
   ]
  },
  {
   "cell_type": "code",
   "execution_count": null,
   "metadata": {},
   "outputs": [],
   "source": [
    "fig, ((ax1)) = plt.subplots(1, 1, figsize=(10,5), dpi=150, sharey=True)\n",
    "\n",
    "Plot_LocalError_AcrossCases_axis_Report('MT', 'MT-HiRes', 'Absolute', '3e-3', 4e-10, '3e-3', 4e-10, ax1)\n",
    "\n",
    "ax1.set_ylim(0,10)\n",
    "ax1.set_ylabel('Absolute Distance Error [mm]')\n",
    "ax1.set_xticks(np.arange(1.5,13.5,2))\n",
    "ax1.set_xticklabels([\"LAA\", \"LSPV\", \"LIPV\", \"RSPV\", \"RIPV\", \"MV\"])"
   ]
  },
  {
   "cell_type": "code",
   "execution_count": null,
   "metadata": {},
   "outputs": [],
   "source": [
    "fig, ((ax1)) = plt.subplots(1, 1, figsize=(10,5), dpi=150, sharey=True)\n",
    "\n",
    "Plot_LocalError_AcrossCases_axis_Report_WIP('MT', 'MT-HiRes', 'Absolute', '3e-3', 4e-10, '3e-3', 4e-10, ax1)\n",
    "\n",
    "ax1.set_ylim(0,10)\n",
    "ax1.set_ylabel('Absolute Distance Error [mm]')\n",
    "ax1.set_xticks(np.arange(1.25,13.25,2))\n",
    "ax1.set_xticklabels([\"LAA\", \"LSPV\", \"LIPV\", \"RSPV\", \"RIPV\", \"MV\"])\n",
    "\n",
    "\n",
    "red_patch = mpatches.Patch(color='red', ls='-', lw=0.1, label='Baseline')\n",
    "blue_patch = mpatches.Patch(color='blue', ls='-', lw=0.1, label='Optimised')\n",
    "ax1.legend(handles=[red_patch, blue_patch])\n",
    "\n",
    "# plt.savefig('local_asboluteerrors_report_legend', dpi=150, bbox_inches='tight')"
   ]
  },
  {
   "cell_type": "code",
   "execution_count": null,
   "metadata": {},
   "outputs": [],
   "source": [
    "fig, ((ax1)) = plt.subplots(1, 1, figsize=(10,5), dpi=150, sharey=True)\n",
    "\n",
    "Plot_LocalError_AcrossCases_axis_Report_NewCases('Absolute', '3e-3', 4e-10, '3e-3', 4e-10, ax1)\n",
    "\n",
    "# ax1.set_ylim(0,10)\n",
    "ax1.set_ylabel('Absolute Distance Error [mm]')\n",
    "ax1.set_xticks(np.arange(1.25,13.25,2))\n",
    "ax1.set_xticklabels([\"LAA\", \"LSPV\", \"LIPV\", \"RSPV\", \"RIPV\", \"MV\"])\n",
    "\n",
    "\n",
    "red_patch = mpatches.Patch(color='red', ls='-', lw=0.1, label='Baseline')\n",
    "blue_patch = mpatches.Patch(color='blue', ls='-', lw=0.1, label='Optimised')\n",
    "ax1.legend(handles=[red_patch, blue_patch])\n",
    "\n",
    "# plt.savefig('local_asboluteerrors_report_NEWCASES-Siemens.png', dpi=150, bbox_inches='tight')"
   ]
  },
  {
   "cell_type": "code",
   "execution_count": null,
   "metadata": {},
   "outputs": [],
   "source": [
    "fig, ((ax1)) = plt.subplots(1, 1, figsize=(10,5), dpi=150, sharey=True)\n",
    "\n",
    "Plot_LocalError_AcrossCases_axis_Report_NewCases('Absolute', '3e-3', 4e-10, '3e-3', 4e-10, ax1)\n",
    "\n",
    "# ax1.set_ylim(0,10)\n",
    "ax1.set_ylabel('Absolute Distance Error [mm]', fontsize=15)\n",
    "ax1.set_xticks(np.arange(1.25,13.25,2))\n",
    "ax1.set_xticklabels([\"LAA\", \"LSPV\", \"LIPV\", \"RSPV\", \"RIPV\", \"MV\"])\n",
    "\n",
    "\n",
    "red_patch = mpatches.Patch(color='red', ls='-', lw=0.1, label='Baseline')\n",
    "blue_patch = mpatches.Patch(color='blue', ls='-', lw=0.1, label='Optimised')\n",
    "ax1.legend(handles=[red_patch, blue_patch])\n",
    "\n",
    "# plt.savefig('local_asboluteerrors_report_NEWCASES-biggerTXT.png', dpi=150, bbox_inches='tight')"
   ]
  },
  {
   "cell_type": "code",
   "execution_count": null,
   "metadata": {},
   "outputs": [],
   "source": []
  },
  {
   "cell_type": "code",
   "execution_count": null,
   "metadata": {},
   "outputs": [],
   "source": [
    "fig, ((ax1)) = plt.subplots(1, 1, figsize=(10,5), dpi=150, sharey=True)\n",
    "\n",
    "Plot_LocalError_AcrossCases_axis_Report('MT', 'MT-HiRes', 'Percentage', '3e-3', 4e-10, '3e-3', 4e-10, ax1)\n",
    "\n",
    "ax1.set_ylim(0,40)\n",
    "ax1.set_ylabel('Percentage Distance Error [mm]')\n",
    "ax1.set_xticks(np.arange(1.5,21.5,2))\n",
    "ax1.set_xticklabels(['B', 'O']*10)"
   ]
  },
  {
   "cell_type": "code",
   "execution_count": null,
   "metadata": {},
   "outputs": [],
   "source": [
    "fig, ((ax1)) = plt.subplots(1, 1, figsize=(10,5), dpi=150, sharey=True)\n",
    "\n",
    "Plot_LocalError_AcrossCases_axis_Report_WIP('MT', 'MT-HiRes', 'Percentage', '3e-3', 4e-10, '3e-3', 4e-10, ax1)\n",
    "\n",
    "ax1.set_ylim(0,40)\n",
    "ax1.set_ylabel('Percentage Distance Error [%]')\n",
    "ax1.set_xticks(np.arange(1.25,21.25,2))\n",
    "ax1.set_xticklabels([\"LAA-LS\", \"LAA-LI\", \"LAA-RS\", \"LAA-RI\", \"LS-LI\", \"LS-RS\", \"LS-RI\", \"LI-RS\", \"LI-RI\", \"RS-RI\"])\n",
    "\n",
    "red_patch = mpatches.Patch(color='red', ls='-', lw=0.1, label='Baseline')\n",
    "blue_patch = mpatches.Patch(color='blue', ls='-', lw=0.1, label='Optimised')\n",
    "ax1.legend(handles=[red_patch, blue_patch], loc='upper left')\n",
    "\n",
    "# plt.savefig('local_percentageerrors_report_legend', dpi=150, bbox_inches='tight')"
   ]
  },
  {
   "cell_type": "code",
   "execution_count": null,
   "metadata": {},
   "outputs": [],
   "source": [
    "fig, ((ax1)) = plt.subplots(1, 1, figsize=(10,5), dpi=150, sharey=True)\n",
    "\n",
    "Plot_LocalError_AcrossCases_axis_Report_NewCases('Percentage', '3e-3', 4e-10, '3e-3', 4e-10, ax1)\n",
    "\n",
    "ax1.set_ylim(0,40)\n",
    "ax1.set_ylabel('Percentage Distance Error [%]', fontsize=15)\n",
    "ax1.set_xticks(np.arange(1.25,21.25,2))\n",
    "ax1.set_xticklabels([\"LAA-LS\", \"LAA-LI\", \"LAA-RS\", \"LAA-RI\", \"LS-LI\", \"LS-RS\", \"LS-RI\", \"LI-RS\", \"LI-RI\", \"RS-RI\"])\n",
    "\n",
    "red_patch = mpatches.Patch(color='red', ls='-', lw=0.1, label='Baseline')\n",
    "blue_patch = mpatches.Patch(color='blue', ls='-', lw=0.1, label='Optimised')\n",
    "ax1.legend(handles=[red_patch, blue_patch], loc='upper left')\n",
    "\n",
    "# plt.savefig('local_percentageerrors_NEWCASES-Siemens-biggerTXT.png', dpi=150, bbox_inches='tight')"
   ]
  },
  {
   "cell_type": "code",
   "execution_count": null,
   "metadata": {},
   "outputs": [],
   "source": [
    "fig, ((ax1, ax2, ax3, ax4, ax5,\n",
    "      ax6, ax7, ax8, ax9, ax10,\n",
    "      ax11, ax12, ax13, ax14, ax15,\n",
    "      ax16, ax17, ax18, ax19, ax20)) = plt.subplots(1, 20, figsize=(20,5), dpi=150, sharey=True)\n",
    "\n",
    "Plot_LocalError_AcrossCases_axis('MT', 'LAA-LS', 4e-10, '3e-3', ax1)\n",
    "Plot_LocalError_AcrossCases_axis('MT-HiRes', 'LAA-LS', 4e-10, '3e-3', ax2)\n",
    "Plot_LocalError_AcrossCases_axis('MT', 'LAA-LI', 4e-10, '3e-3', ax3)\n",
    "Plot_LocalError_AcrossCases_axis('MT-HiRes', 'LAA-LI', 4e-10, '3e-3', ax4)\n",
    "Plot_LocalError_AcrossCases_axis('MT', 'LAA-RS', 4e-10, '3e-3', ax5)\n",
    "Plot_LocalError_AcrossCases_axis('MT-HiRes', 'LAA-RS', 4e-10, '3e-3', ax6)\n",
    "Plot_LocalError_AcrossCases_axis('MT', 'LAA-RI', 4e-10, '3e-3', ax7)\n",
    "Plot_LocalError_AcrossCases_axis('MT-HiRes', 'LAA-RI', 4e-10, '3e-3', ax8)\n",
    "Plot_LocalError_AcrossCases_axis('MT', 'LS-LI', 4e-10, '3e-3', ax9)\n",
    "Plot_LocalError_AcrossCases_axis('MT-HiRes', 'LS-LI', 4e-10, '3e-3', ax10)\n",
    "Plot_LocalError_AcrossCases_axis('MT', 'LS-RS', 4e-10, '3e-3', ax11)\n",
    "Plot_LocalError_AcrossCases_axis('MT-HiRes', 'LS-RS', 4e-10, '3e-3', ax12)\n",
    "Plot_LocalError_AcrossCases_axis('MT', 'LS-RI', 4e-10, '3e-3', ax13)\n",
    "Plot_LocalError_AcrossCases_axis('MT-HiRes', 'LS-RI', 4e-10, '3e-3', ax14)\n",
    "\n",
    "Plot_LocalError_AcrossCases_axis('MT', 'LI-RS', 4e-10, '3e-3', ax15)\n",
    "Plot_LocalError_AcrossCases_axis('MT-HiRes', 'LI-RS', 4e-10, '3e-3', ax16)\n",
    "Plot_LocalError_AcrossCases_axis('MT', 'LI-RI', 4e-10, '3e-3', ax17)\n",
    "Plot_LocalError_AcrossCases_axis('MT-HiRes', 'LI-RI', 4e-10, '3e-3', ax18)\n",
    "Plot_LocalError_AcrossCases_axis('MT', 'RS-RI', 4e-10, '3e-3', ax19)\n",
    "Plot_LocalError_AcrossCases_axis('MT-HiRes', 'RS-RI', 4e-10, '3e-3', ax20)\n"
   ]
  },
  {
   "cell_type": "code",
   "execution_count": null,
   "metadata": {},
   "outputs": [],
   "source": [
    "fig, ((ax1, ax2, ax3, ax4, ax5, ax6)) = plt.subplots(1, 6, figsize=(10,5), dpi=150)\n",
    "\n",
    "Plot_GlobalError_AcrossCases_axis('MT', 'ASD', 4e-10, '3e-3', ax1)\n",
    "Plot_GlobalError_AcrossCases_axis('MT-HiRes', 'ASD', 4e-10, '3e-3', ax2)\n",
    "Plot_GlobalError_AcrossCases_axis('MT', 'DHD', 4e-10, '3e-3', ax3)\n",
    "Plot_GlobalError_AcrossCases_axis('MT-HiRes', 'DHD', 4e-10, '3e-3', ax4)\n",
    "Plot_GlobalError_AcrossCases_axis('MT', 'Dice', 4e-10, '3e-3', ax5)\n",
    "Plot_GlobalError_AcrossCases_axis('MT-HiRes', 'Dice', 4e-10, '3e-3', ax6)\n"
   ]
  },
  {
   "cell_type": "code",
   "execution_count": null,
   "metadata": {},
   "outputs": [],
   "source": [
    "fig, ((ax1)) = plt.subplots(1, 1, figsize=(10,5), dpi=150)\n",
    "\n",
    "Plot_GlobalError_AcrossCases_axis('MT', 'ASD', 4e-10, '3e-3', ax1)\n",
    "# Plot_GlobalError_AcrossCases_axis('MT-HiRes', 'ASD', 4e-10, '3e-3', ax2)\n",
    "# Plot_GlobalError_AcrossCases_axis('MT', 'DHD', 4e-10, '3e-3', ax3)\n",
    "# Plot_GlobalError_AcrossCases_axis('MT-HiRes', 'DHD', 4e-10, '3e-3', ax4)\n",
    "# Plot_GlobalError_AcrossCases_axis('MT', 'Dice', 4e-10, '3e-3', ax5)\n",
    "# Plot_GlobalError_AcrossCases_axis('MT-HiRes', 'Dice', 4e-10, '3e-3', ax6)\n"
   ]
  },
  {
   "cell_type": "code",
   "execution_count": null,
   "metadata": {},
   "outputs": [],
   "source": [
    "fig, ((ax1, ax2, ax3)) = plt.subplots(1, 3, figsize=(8,5), dpi=150)\n",
    "\n",
    "Plot_GlobalError_AcrossCases_axis_Report('MT', 'MT-HiRes', 'ASD', '9e-3', 4e-7, '9e-3', 4e-9, ax1)\n",
    "Plot_GlobalError_AcrossCases_axis_Report('MT', 'MT-HiRes', 'DHD', '9e-3', 4e-7, '9e-3', 4e-9, ax2)\n",
    "Plot_GlobalError_AcrossCases_axis_Report('MT', 'MT-HiRes', 'Dice', '9e-3', 4e-7, '9e-3', 4e-9, ax3)\n",
    "\n",
    "ax1.set_ylim(0.3, 1.2)\n",
    "ax2.set_ylim(1,10)\n",
    "ax3.set_ylim(0.84, 0.98)\n",
    "\n",
    "fig.tight_layout() # Or equivalently,  \"plt.tight_layout()\"\n",
    "\n",
    "### FINISHED FIG FOR REPORT\n"
   ]
  },
  {
   "cell_type": "code",
   "execution_count": null,
   "metadata": {},
   "outputs": [],
   "source": [
    "fig, ((ax1, ax2, ax3)) = plt.subplots(1, 3, figsize=(8,3), dpi=150)\n",
    "\n",
    "Plot_GlobalError_AcrossCases_axis_Report_WIP('MT', 'MT-HiRes', 'ASD', '9e-3', 4e-7, '9e-3', 4e-9, ax1)\n",
    "Plot_GlobalError_AcrossCases_axis_Report_WIP('MT', 'MT-HiRes', 'DHD', '9e-3', 4e-7, '9e-3', 4e-9, ax2)\n",
    "Plot_GlobalError_AcrossCases_axis_Report_WIP('MT', 'MT-HiRes', 'Dice', '9e-3', 4e-7, '9e-3', 4e-9, ax3)\n",
    "\n",
    "ax1.set_ylim(0.2, 1.2)\n",
    "ax2.set_ylim(0,10)\n",
    "ax3.set_ylim(0.84, 0.98)\n",
    "\n",
    "fig.tight_layout() # Or equivalently,  \"plt.tight_layout()\"\n",
    "\n",
    "### FINISHED FIG FOR REPORT\n",
    "\n",
    "# plt.savefig('global_errors_report', dpi=150, bbox_inches='tight')"
   ]
  },
  {
   "cell_type": "code",
   "execution_count": null,
   "metadata": {},
   "outputs": [],
   "source": [
    "fig, ((ax1, ax2, ax3)) = plt.subplots(1, 3, figsize=(8,3), dpi=150)\n",
    "\n",
    "Plot_GlobalError_AcrossCases_axis_Report_WIP('MT', 'MT-HiRes', 'ASD', '9e-3', 4e-7, '9e-3', 4e-9, ax1)\n",
    "Plot_GlobalError_AcrossCases_axis_Report_WIP('MT', 'MT-HiRes', 'DHD', '9e-3', 4e-7, '9e-3', 4e-9, ax2)\n",
    "Plot_GlobalError_AcrossCases_axis_Report_WIP('MT', 'MT-HiRes', 'Dice', '9e-3', 4e-7, '9e-3', 4e-9, ax3)\n",
    "\n",
    "ax1.set_ylim(0.2, 1.2)\n",
    "ax2.set_ylim(0,10)\n",
    "ax3.set_ylim(0.84, 0.98)\n",
    "\n",
    "fig.tight_layout() # Or equivalently,  \"plt.tight_layout()\"\n",
    "\n",
    "### FINISHED FIG FOR REPORT\n",
    "\n",
    "# plt.savefig('global_errors_report', dpi=150, bbox_inches='tight')"
   ]
  },
  {
   "cell_type": "markdown",
   "metadata": {},
   "source": [
    "### Dice Dist's"
   ]
  },
  {
   "cell_type": "code",
   "execution_count": null,
   "metadata": {
    "scrolled": true
   },
   "outputs": [],
   "source": [
    "Plot_GlobalError_AcrossCases('MT', 'Dice', 4e-10, '3e-4')"
   ]
  },
  {
   "cell_type": "code",
   "execution_count": null,
   "metadata": {
    "scrolled": true
   },
   "outputs": [],
   "source": [
    "Plot_GlobalError_AcrossCases('MT-HiRes', 'Dice', 4e-10, '3e-3')"
   ]
  },
  {
   "cell_type": "markdown",
   "metadata": {},
   "source": [
    "### DHD Dists"
   ]
  },
  {
   "cell_type": "code",
   "execution_count": null,
   "metadata": {
    "scrolled": true
   },
   "outputs": [],
   "source": [
    "Plot_GlobalError_AcrossCases('MT', 'DHD', 4e-10, '3e-4')"
   ]
  },
  {
   "cell_type": "code",
   "execution_count": null,
   "metadata": {},
   "outputs": [],
   "source": [
    "Plot_GlobalError_AcrossCases('MT-HiRes', 'DHD', 4e-10, '3e-3')"
   ]
  },
  {
   "cell_type": "markdown",
   "metadata": {},
   "source": [
    "### LAA Dist"
   ]
  },
  {
   "cell_type": "code",
   "execution_count": null,
   "metadata": {},
   "outputs": [],
   "source": [
    "Plot_LocalError_AcrossCases('MT', 'LAA', 4e-10, '3e-4')"
   ]
  },
  {
   "cell_type": "code",
   "execution_count": null,
   "metadata": {},
   "outputs": [],
   "source": [
    "Plot_LocalError_AcrossCases('MT-HiRes', 'LAA', 4e-10, '3e-3')"
   ]
  },
  {
   "cell_type": "markdown",
   "metadata": {},
   "source": [
    "### LSPV"
   ]
  },
  {
   "cell_type": "code",
   "execution_count": null,
   "metadata": {},
   "outputs": [],
   "source": [
    "Plot_LocalError_AcrossCases('MT', 'LSPV', 4e-10, '3e-4')"
   ]
  },
  {
   "cell_type": "code",
   "execution_count": null,
   "metadata": {},
   "outputs": [],
   "source": [
    "Plot_LocalError_AcrossCases('MT-HiRes', 'LSPV', 4e-10, '3e-3')"
   ]
  },
  {
   "cell_type": "markdown",
   "metadata": {},
   "source": [
    "### LIPV"
   ]
  },
  {
   "cell_type": "code",
   "execution_count": null,
   "metadata": {},
   "outputs": [],
   "source": [
    "Plot_LocalError_AcrossCases('MT', 'LIPV', 4e-10, '3e-4')"
   ]
  },
  {
   "cell_type": "code",
   "execution_count": null,
   "metadata": {},
   "outputs": [],
   "source": [
    "Plot_LocalError_AcrossCases('MT-HiRes', 'LIPV', 4e-10, '3e-3')"
   ]
  },
  {
   "cell_type": "markdown",
   "metadata": {},
   "source": [
    "### RSPV"
   ]
  },
  {
   "cell_type": "code",
   "execution_count": null,
   "metadata": {},
   "outputs": [],
   "source": [
    "Plot_LocalError_AcrossCases('MT', 'RSPV', 4e-10, '3e-4')"
   ]
  },
  {
   "cell_type": "code",
   "execution_count": null,
   "metadata": {
    "scrolled": true
   },
   "outputs": [],
   "source": [
    "Plot_LocalError_AcrossCases('MT-HiRes', 'RSPV', 4e-10, '3e-3')"
   ]
  },
  {
   "cell_type": "markdown",
   "metadata": {},
   "source": [
    "### RIPV"
   ]
  },
  {
   "cell_type": "code",
   "execution_count": null,
   "metadata": {},
   "outputs": [],
   "source": [
    "Plot_LocalError_AcrossCases('MT', 'RIPV', 4e-10, '3e-4')"
   ]
  },
  {
   "cell_type": "code",
   "execution_count": null,
   "metadata": {},
   "outputs": [],
   "source": [
    "Plot_LocalError_AcrossCases('MT-HiRes', 'RIPV', 4e-10, '3e-3')"
   ]
  },
  {
   "cell_type": "markdown",
   "metadata": {},
   "source": [
    "# Normalised Errors Attempt"
   ]
  },
  {
   "cell_type": "code",
   "execution_count": null,
   "metadata": {},
   "outputs": [],
   "source": [
    "string=\"list\"\n",
    "pattern = \"l*st\"\n",
    "match = fnmatch.fnmatch(string, pattern)"
   ]
  },
  {
   "cell_type": "code",
   "execution_count": null,
   "metadata": {},
   "outputs": [],
   "source": [
    "match"
   ]
  },
  {
   "cell_type": "code",
   "execution_count": null,
   "metadata": {},
   "outputs": [],
   "source": [
    "import fnmatch"
   ]
  },
  {
   "cell_type": "code",
   "execution_count": null,
   "metadata": {},
   "outputs": [],
   "source": [
    "fnmatch.fnmatch('LAA-*', 'LAA-LS')"
   ]
  },
  {
   "cell_type": "code",
   "execution_count": null,
   "metadata": {},
   "outputs": [],
   "source": [
    "Error = 'LAA'"
   ]
  },
  {
   "cell_type": "code",
   "execution_count": null,
   "metadata": {},
   "outputs": [],
   "source": [
    "if Error in ['ello', 'there', 'my', 'friend', 'LAA']:\n",
    "    print('In list')"
   ]
  },
  {
   "cell_type": "code",
   "execution_count": null,
   "metadata": {},
   "outputs": [],
   "source": []
  },
  {
   "cell_type": "code",
   "execution_count": null,
   "metadata": {},
   "outputs": [],
   "source": []
  },
  {
   "cell_type": "code",
   "execution_count": null,
   "metadata": {},
   "outputs": [],
   "source": [
    "\"\"\"\n",
    "This function calculates the mean and std deviation of the distribution of medians of participants\n",
    "(the 63 hyperparameter combinations) across cases. It also returns the DataFrames of median error for each\n",
    "participant and z-score of medians.\n",
    "\n",
    "INPUT: The type of error. Defined by the registration resolution and error type.\n",
    "\n",
    "OUTPUT: Mean, std deviation, DataFrame of medians (across cases) of each hyperparameter combination, DataFrame of\n",
    "        z scores of each hyperparameter combination\n",
    "\"\"\"\n",
    "\n",
    "\n",
    "def MedianErrors(Res, Error):\n",
    "        \n",
    "    error_dict = {'ASD': 'Normal-Distance-Results', 'DHD': 'Hausdorff-Distance-Results', 'Dice': 'Dice-Results',\n",
    "                 'LAA': 'LAA-AbsoluteError', 'LSPV': 'LSPV-AbsoluteError', 'LIPV': 'LIPV-AbsoluteError',\n",
    "                 'RSPV': 'RSPV-AbsoluteError', 'RIPV': 'RIPV-AbsoluteError',\n",
    "                 'LAA-LS': 'LAA-LS-PercentageErrors', 'LAA-LI': 'LAA-LI-PercentageErrors', \n",
    "                 'LAA-RS': 'LAA-RS-PercentageErrors', 'LAA-RI': 'LAA-RS-PercentageErrors',\n",
    "                 'LS-LI': 'LS-LI-PercentageErrors', 'LS-RS': 'LS-RS-PercentageErrors', \n",
    "                 'LS-RI': 'LS-RI-PercentageErrors', 'LI-RS': 'LI-RS-PercentageErrors', \n",
    "                 'LI-RI': 'LI-RI-PercentageErrors', 'RS-RI': 'RS-RI-PercentageErrors',\n",
    "                 'MV': 'MV-AbsoluteError'}\n",
    "   \n",
    "    if Error in ['LAA', 'LAA-LS', 'LAA-LI', 'LAA-RS', 'LAA-RI']:\n",
    "        Cases = ('01', '02', '05', '06', '07', '08', '12', '15', '16')\n",
    "        \n",
    "    else:\n",
    "        Cases = ('01', '02', '05', '06', '07', '08', '09', '12', '15', '16')\n",
    "    \n",
    "    Error = error_dict[Error]\n",
    "    \n",
    "    Case_to_RowIndex = {'01' : 0, '02' : 1, '05' : 2, '06' : 3, '07' : 4, '08' : 5, '09' : 6, '12' : 7, '15' : 8, '16' : 9}\n",
    "    \n",
    "    cases_array = np.zeros(shape=(63,10))\n",
    "    \n",
    "    for Case in Cases:\n",
    "    \n",
    "        df_read = pd.read_csv(f'/home/csi20local/Data/RG_CT_Cases/CT-CRT-{Case}/{Res}-{Error}.csv', \n",
    "                        sep = ' ', index_col = 0)\n",
    "        df_array = df_read.to_numpy()\n",
    "        flattened_array = np.reshape(df_array, 63)\n",
    "    \n",
    "        cases_array[:, Case_to_RowIndex[Case]] = flattened_array\n",
    "        \n",
    "    medians = np.zeros(63)\n",
    "\n",
    "    for i in range(0,cases_array.shape[0]):\n",
    "        medians[i] = np.median(cases_array[i, :])\n",
    "    \n",
    "    mean = np.mean(medians)\n",
    "    std = np.std(medians)\n",
    "    \n",
    "    df_medians = np.reshape(medians, (9,7))\n",
    "    \n",
    "    BE_rename = {0: 4e-6, 1: 1e-6, 2: 4e-7, 3: 1e-7, 4: 4e-8, 5: 1e-8, 6: 4e-9, 7: 1e-9, 8: 4e-10}\n",
    "    SW_rename = {0: '9e-2', 1: '3e-2', 2: '9e-3', 3: '3e-3', 4: '9e-4', 5: '3e-4', 6: '0.0'}\n",
    "    \n",
    "    df_medians = pd.DataFrame(df_medians)\n",
    "    df_medians = df_medians.rename(index = BE_rename, columns=SW_rename)\n",
    "    \n",
    "    df_zscore = (df_medians-mean)/std\n",
    "    df_zscore = df_zscore.rename(index = BE_rename, columns=SW_rename)\n",
    "    \n",
    "    if Error == \"Dice-Results\":\n",
    "        mean = 1 - mean\n",
    "        \n",
    "        df_medians = 1 - df_medians\n",
    "        df_zscore = 1 - df_zscore\n",
    "    \n",
    "    return mean, std, df_medians, df_zscore"
   ]
  },
  {
   "cell_type": "code",
   "execution_count": null,
   "metadata": {},
   "outputs": [],
   "source": [
    "MedianErrors('MT-HiRes', 'Dice')[-1]"
   ]
  },
  {
   "cell_type": "code",
   "execution_count": null,
   "metadata": {},
   "outputs": [],
   "source": [
    "MedianErrors('MT-HiRes', 'LAA')[-1]"
   ]
  },
  {
   "cell_type": "code",
   "execution_count": null,
   "metadata": {
    "scrolled": true
   },
   "outputs": [],
   "source": [
    "MedianErrors('MT-HiRes', 'LAA-LS')[-1]"
   ]
  },
  {
   "cell_type": "code",
   "execution_count": null,
   "metadata": {
    "scrolled": true
   },
   "outputs": [],
   "source": [
    "MedianErrors('MT-HiRes', 'MV')[-1]"
   ]
  },
  {
   "cell_type": "code",
   "execution_count": null,
   "metadata": {},
   "outputs": [],
   "source": [
    "df_z = "
   ]
  },
  {
   "cell_type": "code",
   "execution_count": null,
   "metadata": {},
   "outputs": [],
   "source": [
    "df_z = (MedianErrors('MT', 'ASD')[-1] + MedianErrors('MT', 'Dice')[-1] \n",
    "        + MedianErrors('MT', 'LAA')[-1] + MedianErrors('MT', 'LSPV')[-1] + MedianErrors('MT', 'LIPV')[-1]\n",
    "        + MedianErrors('MT', 'RSPV')[-1] + MedianErrors('MT', 'RIPV')[-1])/7\n",
    "df_z"
   ]
  },
  {
   "cell_type": "code",
   "execution_count": null,
   "metadata": {},
   "outputs": [],
   "source": [
    "df_z.min()"
   ]
  },
  {
   "cell_type": "code",
   "execution_count": null,
   "metadata": {},
   "outputs": [],
   "source": [
    "df_z.min().min()"
   ]
  },
  {
   "cell_type": "code",
   "execution_count": null,
   "metadata": {},
   "outputs": [],
   "source": [
    "df_z = (MedianErrors('MT-HiRes', 'ASD')[-1] + MedianErrors('MT-HiRes', 'DHD')[-1] + MedianErrors('MT-HiRes', 'Dice')[-1] \n",
    "        + MedianErrors('MT-HiRes', 'LAA')[-1] + MedianErrors('MT-HiRes', 'LSPV')[-1] + MedianErrors('MT-HiRes', 'LIPV')[-1] + MedianErrors('MT-HiRes', 'RSPV')[-1] + MedianErrors('MT-HiRes', 'RIPV')[-1]\n",
    "        + MedianErrors('MT-HiRes', 'LAA-LS')[-1] + MedianErrors('MT-HiRes', 'LAA-LI')[-1] + MedianErrors('MT-HiRes', 'LAA-RS')[-1] + MedianErrors('MT-HiRes', 'LAA-RI')[-1] \n",
    "        + MedianErrors('MT-HiRes', 'LS-LI')[-1] + MedianErrors('MT-HiRes', 'LS-RS')[-1] + MedianErrors('MT-HiRes', 'LS-RI')[-1] \n",
    "        + MedianErrors('MT-HiRes', 'LI-RS')[-1] + MedianErrors('MT-HiRes', 'LI-RI')[-1] + MedianErrors('MT-HiRes', 'RS-RI')[-1]\n",
    "        + MedianErrors('MT-HiRes', 'MV')[-1])/19\n",
    "df_z"
   ]
  },
  {
   "cell_type": "code",
   "execution_count": null,
   "metadata": {},
   "outputs": [],
   "source": [
    "df_z.min()"
   ]
  },
  {
   "cell_type": "code",
   "execution_count": null,
   "metadata": {},
   "outputs": [],
   "source": [
    "df_z.min().min()"
   ]
  },
  {
   "cell_type": "code",
   "execution_count": null,
   "metadata": {},
   "outputs": [],
   "source": []
  },
  {
   "cell_type": "code",
   "execution_count": null,
   "metadata": {},
   "outputs": [],
   "source": [
    "df_z = (MedianErrors('MT-HiRes', 'ASD')[-1] + MedianErrors('MT-HiRes', 'LAA')[-1] \n",
    "        + MedianErrors('MT-HiRes', 'LSPV')[-1]\n",
    "       + MedianErrors('MT-HiRes', 'LIPV')[-1] + MedianErrors('MT-HiRes', 'RSPV')[-1] + MedianErrors('MT-HiRes', 'RIPV')[-1])/7\n",
    "df_z"
   ]
  },
  {
   "cell_type": "code",
   "execution_count": null,
   "metadata": {},
   "outputs": [],
   "source": []
  },
  {
   "cell_type": "code",
   "execution_count": null,
   "metadata": {},
   "outputs": [],
   "source": []
  },
  {
   "cell_type": "code",
   "execution_count": null,
   "metadata": {},
   "outputs": [],
   "source": [
    "df_z = (MedianErrors('MT-HiRes', 'ASD')[-1] + MedianErrors('MT-HiRes', 'LAA')[-1] \n",
    "        + MedianErrors('MT-HiRes', 'LSPV')[-1]\n",
    "       + MedianErrors('MT-HiRes', 'LIPV')[-1] + MedianErrors('MT-HiRes', 'RSPV')[-1] + MedianErrors('MT-HiRes', 'RIPV')[-1])/7\n",
    "df_z"
   ]
  },
  {
   "cell_type": "code",
   "execution_count": null,
   "metadata": {},
   "outputs": [],
   "source": [
    "df_z.min()"
   ]
  },
  {
   "cell_type": "code",
   "execution_count": null,
   "metadata": {},
   "outputs": [],
   "source": [
    "df_z.min().min()"
   ]
  },
  {
   "cell_type": "code",
   "execution_count": null,
   "metadata": {},
   "outputs": [],
   "source": []
  },
  {
   "cell_type": "code",
   "execution_count": null,
   "metadata": {},
   "outputs": [],
   "source": [
    "mean, std, df, df_z = Error_Distribution_Info('MT-HiRes', 'ASD')"
   ]
  },
  {
   "cell_type": "code",
   "execution_count": null,
   "metadata": {},
   "outputs": [],
   "source": [
    "df"
   ]
  },
  {
   "cell_type": "code",
   "execution_count": null,
   "metadata": {},
   "outputs": [],
   "source": [
    "df_z"
   ]
  },
  {
   "cell_type": "code",
   "execution_count": null,
   "metadata": {},
   "outputs": [],
   "source": [
    "mean"
   ]
  },
  {
   "cell_type": "code",
   "execution_count": null,
   "metadata": {},
   "outputs": [],
   "source": [
    "std"
   ]
  },
  {
   "cell_type": "code",
   "execution_count": null,
   "metadata": {},
   "outputs": [],
   "source": [
    "mean, std, df, df_z = Error_Distribution_Info('MT', 'LAA')"
   ]
  },
  {
   "cell_type": "code",
   "execution_count": null,
   "metadata": {},
   "outputs": [],
   "source": [
    "df"
   ]
  },
  {
   "cell_type": "code",
   "execution_count": null,
   "metadata": {},
   "outputs": [],
   "source": [
    "df_z"
   ]
  },
  {
   "cell_type": "code",
   "execution_count": null,
   "metadata": {},
   "outputs": [],
   "source": [
    "total = (Error_Distribution_Info('MT', 'ASD')[-1] + Error_Distribution_Info('MT', 'DHD')[-1] + Error_Distribution_Info('MT', 'LAA')[-1]\n",
    " + Error_Distribution_Info('MT', 'LSPV')[-1] + Error_Distribution_Info('MT', 'LIPV')[-1] + Error_Distribution_Info('MT', 'RSPV')[-1]\n",
    " + Error_Distribution_Info('MT', 'RIPV')[-1])/7"
   ]
  },
  {
   "cell_type": "code",
   "execution_count": null,
   "metadata": {},
   "outputs": [],
   "source": [
    "total"
   ]
  },
  {
   "cell_type": "code",
   "execution_count": null,
   "metadata": {},
   "outputs": [],
   "source": [
    "total.min()"
   ]
  },
  {
   "cell_type": "code",
   "execution_count": null,
   "metadata": {},
   "outputs": [],
   "source": [
    "total.min().min()"
   ]
  },
  {
   "cell_type": "code",
   "execution_count": null,
   "metadata": {},
   "outputs": [],
   "source": [
    "total = (Error_Distribution_Info('MT', 'ASD')[-1] + Error_Distribution_Info('MT', 'LAA')[-1]\n",
    " + Error_Distribution_Info('MT', 'LSPV')[-1] + Error_Distribution_Info('MT', 'LIPV')[-1] + Error_Distribution_Info('MT', 'RSPV')[-1]\n",
    " + Error_Distribution_Info('MT', 'RIPV')[-1])/7"
   ]
  },
  {
   "cell_type": "code",
   "execution_count": null,
   "metadata": {},
   "outputs": [],
   "source": [
    "total"
   ]
  },
  {
   "cell_type": "code",
   "execution_count": null,
   "metadata": {},
   "outputs": [],
   "source": [
    "total.min()"
   ]
  },
  {
   "cell_type": "code",
   "execution_count": null,
   "metadata": {},
   "outputs": [],
   "source": [
    "total.min().min()"
   ]
  },
  {
   "cell_type": "code",
   "execution_count": null,
   "metadata": {},
   "outputs": [],
   "source": [
    "total = Error_Distribution_Info('MT', 'ASD')[-1]"
   ]
  },
  {
   "cell_type": "code",
   "execution_count": null,
   "metadata": {},
   "outputs": [],
   "source": [
    "total"
   ]
  },
  {
   "cell_type": "code",
   "execution_count": null,
   "metadata": {},
   "outputs": [],
   "source": [
    "total.min()"
   ]
  },
  {
   "cell_type": "code",
   "execution_count": null,
   "metadata": {},
   "outputs": [],
   "source": [
    "total.min().min()"
   ]
  },
  {
   "cell_type": "code",
   "execution_count": null,
   "metadata": {},
   "outputs": [],
   "source": [
    "Error_Distribution_Info('MT-HiRes', 'Dice')"
   ]
  },
  {
   "cell_type": "code",
   "execution_count": null,
   "metadata": {},
   "outputs": [],
   "source": [
    "mean, std = Error_Distribution_Info('MT', 'ASD')"
   ]
  },
  {
   "cell_type": "code",
   "execution_count": null,
   "metadata": {},
   "outputs": [],
   "source": [
    "Case = '01'\n",
    "csv_name = 'Normal-Distance-Results'\n",
    "Res = 'MT'\n",
    "\n",
    "df_read = pd.read_csv(f'/home/csi20local/Data/RG_CT_Cases/CT-CRT-{Case}/{Res}-{csv_name}.csv', \n",
    "                    sep = ' ', index_col = 0)\n",
    "\n",
    "df_array = df_read.to_numpy()"
   ]
  },
  {
   "cell_type": "code",
   "execution_count": null,
   "metadata": {},
   "outputs": [],
   "source": [
    "df_read"
   ]
  },
  {
   "cell_type": "code",
   "execution_count": null,
   "metadata": {},
   "outputs": [],
   "source": [
    "(df_read-mean)/std"
   ]
  },
  {
   "cell_type": "code",
   "execution_count": null,
   "metadata": {},
   "outputs": [],
   "source": [
    "Normalise_Errors('MT-HiRes', 'ASD', '01')[1]"
   ]
  },
  {
   "cell_type": "code",
   "execution_count": null,
   "metadata": {},
   "outputs": [],
   "source": [
    "Normalise_Errors('MT-HiRes', 'ASD', '07')[1]"
   ]
  },
  {
   "cell_type": "code",
   "execution_count": null,
   "metadata": {},
   "outputs": [],
   "source": []
  },
  {
   "cell_type": "code",
   "execution_count": null,
   "metadata": {},
   "outputs": [],
   "source": [
    "def Normalise_Errors(Res, Error, Case):\n",
    "    \n",
    "    if Error == 'ASD':\n",
    "        Error = 'Normal-Distance-Results'\n",
    "\n",
    "    elif Error == 'DHD':\n",
    "        Error = 'Hausdorff-Distance-Results'\n",
    "\n",
    "    elif Error == 'Dice':\n",
    "        Error = 'Dice-Results'\n",
    "    \n",
    "    df_read = pd.read_csv(f'/home/csi20local/Data/RG_CT_Cases/CT-CRT-{Case}/{Res}-{csv_name}.csv', \n",
    "                    sep = ' ', index_col = 0)\n",
    "    \n",
    "    mean, std = Error_Distribution_Info(Res, Error)\n",
    "    \n",
    "    print(mean, std)\n",
    "    \n",
    "    df = (df_read-mean)/std\n",
    "    \n",
    "    return df_read, df"
   ]
  },
  {
   "cell_type": "code",
   "execution_count": null,
   "metadata": {},
   "outputs": [],
   "source": [
    "pwd"
   ]
  },
  {
   "cell_type": "code",
   "execution_count": null,
   "metadata": {},
   "outputs": [],
   "source": [
    "def Median_DataFrame(Res, Error):\n",
    "    \n",
    "    if Error == 'ASD':\n",
    "        Error = 'Normal-Distance-Results'\n",
    "\n",
    "    elif Error == 'DHD':\n",
    "        Error = 'Hausdorff-Distance-Results'\n",
    "\n",
    "    elif Error == 'Dice':\n",
    "        Error = 'Dice-Results'\n",
    "    \n",
    "    Case_to_RowIndex = {'01' : 0, '02' : 1, '05' : 2, '06' : 3, '07' : 4, '08' : 5, '09' : 6, '12' : 7, '15' : 8, '16' : 9}\n",
    "    \n",
    "    cases_array = np.zeros(shape=(63,10))\n",
    "    \n",
    "    for Case in ('01', '02', '05', '06', '07', '08', '09', '12', '15', '16'):\n",
    "    \n",
    "        df_read = pd.read_csv(f'/home/csi20local/Data/RG_CT_Cases/CT-CRT-{Case}/{Res}-{Error}.csv', \n",
    "                        sep = ' ', index_col = 0)\n",
    "        df_array = df_read.to_numpy()\n",
    "        flattened_array = np.reshape(df_array, 63)\n",
    "    \n",
    "        cases_array[:, Case_to_RowIndex[Case]] = flattened_array\n",
    "        \n",
    "    medians = np.zeros(63)\n",
    "\n",
    "    for i in range(0,cases_array.shape[0]):\n",
    "        medians[i] = np.median(cases_array[i, :])\n",
    "    \n",
    "    df_medians = np.reshape(medians, (9,7))\n",
    "    \n",
    "    return mean, std"
   ]
  },
  {
   "cell_type": "code",
   "execution_count": null,
   "metadata": {},
   "outputs": [],
   "source": [
    "a = np.array([[1,2,3],[4,5,6]])"
   ]
  },
  {
   "cell_type": "code",
   "execution_count": null,
   "metadata": {},
   "outputs": [],
   "source": [
    "a"
   ]
  },
  {
   "cell_type": "code",
   "execution_count": null,
   "metadata": {},
   "outputs": [],
   "source": [
    "a_flat = np.reshape(a, 6)"
   ]
  },
  {
   "cell_type": "code",
   "execution_count": null,
   "metadata": {},
   "outputs": [],
   "source": [
    "np.reshape(a_flat, (2,3))"
   ]
  },
  {
   "cell_type": "code",
   "execution_count": null,
   "metadata": {},
   "outputs": [],
   "source": [
    "df_test = Error_Distribution_Info('MT', 'ASD')[2]"
   ]
  },
  {
   "cell_type": "code",
   "execution_count": null,
   "metadata": {},
   "outputs": [],
   "source": [
    "df_test"
   ]
  },
  {
   "cell_type": "code",
   "execution_count": null,
   "metadata": {},
   "outputs": [],
   "source": [
    "BE = {0: '4e-6', 1: '1e-6', 2: '4e-7', 3: '1e-7',\n",
    "      4: '4e-8', 5: '1e-8', 6: '4e-9', 7: '1e-9', 8: '4e-10'}"
   ]
  },
  {
   "cell_type": "code",
   "execution_count": null,
   "metadata": {},
   "outputs": [],
   "source": [
    "df_test.rename(index=BE)"
   ]
  },
  {
   "cell_type": "code",
   "execution_count": null,
   "metadata": {},
   "outputs": [],
   "source": [
    "np.reshape(df_array, 63)"
   ]
  },
  {
   "cell_type": "code",
   "execution_count": null,
   "metadata": {},
   "outputs": [],
   "source": [
    "cases_array[:, 0] = np.reshape(df_array, 63)"
   ]
  },
  {
   "cell_type": "code",
   "execution_count": null,
   "metadata": {},
   "outputs": [],
   "source": [
    "if df_read.loc[1e-6].loc['9e-2'] == cases_array[7,7]:\n",
    "    print(True)\n",
    "    \n",
    "else:\n",
    "    print(False)"
   ]
  },
  {
   "cell_type": "code",
   "execution_count": null,
   "metadata": {},
   "outputs": [],
   "source": [
    "cases_array[:,0]"
   ]
  },
  {
   "cell_type": "code",
   "execution_count": null,
   "metadata": {},
   "outputs": [],
   "source": [
    "total_array = np.zeros(shape=(9,7))\n",
    "\n",
    "Res = 'MT'\n",
    "csv_name = 'Normal-Distance-Results'\n",
    "\n",
    "for Case in ('01', '02', '05', '06', '07', '08', '09', '12', '15', '16'):\n",
    "    \n",
    "        df_read = pd.read_csv(f'/home/csi20local/Data/RG_CT_Cases/CT-CRT-{Case}/{Res}-{csv_name}.csv', \n",
    "                    sep = ' ', index_col = 0)\n",
    "\n",
    "        df_array = df_read.to_numpy()\n",
    "\n",
    "        total_array = total_array + df_array\n",
    "        \n",
    "    total_array = total_array / 10.0\n",
    "    "
   ]
  },
  {
   "cell_type": "code",
   "execution_count": null,
   "metadata": {},
   "outputs": [],
   "source": []
  },
  {
   "cell_type": "code",
   "execution_count": null,
   "metadata": {},
   "outputs": [],
   "source": [
    "Case = '01'\n",
    "Res = 'MT'\n",
    "csv_name = 'Normal-Distance-Results'\n",
    "\n",
    "df_read = pd.read_csv(f'/home/csi20local/Data/RG_CT_Cases/CT-CRT-{Case}/{Res}-{csv_name}.csv',\n",
    "                      sep = ' ', index_col = 0)"
   ]
  },
  {
   "cell_type": "code",
   "execution_count": null,
   "metadata": {},
   "outputs": [],
   "source": [
    "Case = '02'\n",
    "Res = 'MT'\n",
    "csv_name = 'Normal-Distance-Results'\n",
    "\n",
    "df_read2 = pd.read_csv(f'/home/csi20local/Data/RG_CT_Cases/CT-CRT-{Case}/{Res}-{csv_name}.csv',\n",
    "                      sep = ' ', index_col = 0)"
   ]
  },
  {
   "cell_type": "code",
   "execution_count": null,
   "metadata": {},
   "outputs": [],
   "source": [
    "df_read"
   ]
  },
  {
   "cell_type": "code",
   "execution_count": null,
   "metadata": {},
   "outputs": [],
   "source": [
    "df_read2"
   ]
  },
  {
   "cell_type": "code",
   "execution_count": null,
   "metadata": {},
   "outputs": [],
   "source": [
    "df = pd.concat([df_read, df_read2])"
   ]
  },
  {
   "cell_type": "code",
   "execution_count": null,
   "metadata": {},
   "outputs": [],
   "source": [
    "current_index = list(df_read.index)"
   ]
  },
  {
   "cell_type": "code",
   "execution_count": null,
   "metadata": {},
   "outputs": [],
   "source": [
    "iterables = [current_index, ['01']]"
   ]
  },
  {
   "cell_type": "code",
   "execution_count": null,
   "metadata": {},
   "outputs": [],
   "source": [
    "pd.MultiIndex.from_product(iterables)"
   ]
  },
  {
   "cell_type": "code",
   "execution_count": null,
   "metadata": {},
   "outputs": [],
   "source": [
    "df"
   ]
  },
  {
   "cell_type": "code",
   "execution_count": null,
   "metadata": {},
   "outputs": [],
   "source": []
  }
 ],
 "metadata": {
  "kernelspec": {
   "display_name": "Python 3 (ipykernel)",
   "language": "python",
   "name": "python3"
  },
  "language_info": {
   "codemirror_mode": {
    "name": "ipython",
    "version": 3
   },
   "file_extension": ".py",
   "mimetype": "text/x-python",
   "name": "python",
   "nbconvert_exporter": "python",
   "pygments_lexer": "ipython3",
   "version": "3.9.7"
  }
 },
 "nbformat": 4,
 "nbformat_minor": 4
}
