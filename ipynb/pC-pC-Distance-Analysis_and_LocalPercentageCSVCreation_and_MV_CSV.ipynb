{
 "cells": [
  {
   "cell_type": "code",
   "execution_count": 1,
   "metadata": {},
   "outputs": [],
   "source": [
    "import pandas as pd\n",
    "import numpy as np\n",
    "import matplotlib.pyplot as plt"
   ]
  },
  {
   "cell_type": "markdown",
   "metadata": {},
   "source": [
    "## CSV Creation Function: for given SW,BE Combo\n",
    "\n",
    "Creates InterPV-PercentageErrors.csv"
   ]
  },
  {
   "cell_type": "code",
   "execution_count": 2,
   "metadata": {},
   "outputs": [],
   "source": [
    "\"\"\"\n",
    "This function creates a 5x5 csv file of Inter PVs perctange errors for a given (SW, BE) combo.\n",
    "Works for all cases which have ALL 5 CUTTERS\n",
    "\"\"\"\n",
    "\n",
    "def CSV_Creation_SW_BE_pC_pC_distances(Case, Res, SW, BE):\n",
    "            \n",
    "    series_errors = pd.read_csv(f'/home/csi20local/Data/RG_CT_Cases/{Case}/{Res}/SW-{SW}-BE-{BE}/pC-pC-distances.txt', sep = ' ', names=['Error'])\n",
    "            \n",
    "    reshaped_array = np.reshape(series_errors.to_numpy(), (5,5))\n",
    "    reshaped_array = np.abs(reshaped_array)\n",
    "    \n",
    "    SWBE_df_errors = pd.DataFrame(data=reshaped_array, columns=['LAA', 'LS', 'LI', 'RS', 'RI'],\n",
    "                                  index=['LAA', 'LS', 'LI', 'RS', 'RI'])\n",
    "    \n",
    "    SWBE_df_errors.to_csv(f'/home/csi20local/Data/RG_CT_Cases/{Case}/{Res}/SW-{SW}-BE-{BE}/InterPV-PercentageErrors.csv', sep=' ')"
   ]
  },
  {
   "cell_type": "code",
   "execution_count": null,
   "metadata": {},
   "outputs": [],
   "source": [
    "\"\"\"\n",
    "This function creates a 5x5 csv file of Inter PVs perctange errors for a given (SW, BE) combo.\n",
    "Works for all cases which have ALL 5 CUTTERS\n",
    "\"\"\"\n",
    "\n",
    "def CSV_Creation_SW_BE_pC_pC_distances_Dropbox(Case, Res, SW, BE):\n",
    "            \n",
    "    series_errors = pd.read_csv(f'/home/csi20local/Dropbox/RG_CT_Cases/{Case}/{Res}/SW-{SW}-BE-{BE}/pC-pC-distances.txt', sep = ' ', names=['Error'])\n",
    "            \n",
    "    reshaped_array = np.reshape(series_errors.to_numpy(), (5,5))\n",
    "    reshaped_array = np.abs(reshaped_array)\n",
    "    \n",
    "    SWBE_df_errors = pd.DataFrame(data=reshaped_array, columns=['LAA', 'LS', 'LI', 'RS', 'RI'],\n",
    "                                  index=['LAA', 'LS', 'LI', 'RS', 'RI'])\n",
    "    \n",
    "    SWBE_df_errors.to_csv(f'/home/csi20local/Dropbox/RG_CT_Cases/{Case}/{Res}/SW-{SW}-BE-{BE}/InterPV-PercentageErrors.csv', sep=' ')"
   ]
  },
  {
   "cell_type": "code",
   "execution_count": null,
   "metadata": {},
   "outputs": [],
   "source": [
    "# This function creates a 7x7 csv file of Inter PVs perctange errors for a given combo of SW and BE for CRT-01\n",
    "\n",
    "def CSV_Creation_SW_BE_pC_pC_distances_CRT01(Case, Res, SW, BE):\n",
    "            \n",
    "    series_errors = pd.read_csv(f'/home/csi20local/Data/RG_CT_Cases/CT-CRT-{Case}/{Res}/SW-{SW}-BE-{BE}/pC-pC-distances.txt', sep = ' ', names=['Error'])\n",
    "            \n",
    "    reshaped_array = np.reshape(series_errors.to_numpy(), (7,7))\n",
    "    reshaped_array = np.abs(reshaped_array)\n",
    "    \n",
    "    SWBE_df_errors = pd.DataFrame(data=reshaped_array, columns=['LAA', 'LS', 'LI', 'RS', 'RI', 'RI_2', 'RI_3'],\n",
    "                                  index=['LAA', 'LS', 'LI', 'RS', 'RI', 'RI_2', 'RI_3'])\n",
    "    \n",
    "    SWBE_df_errors.to_csv(f'/home/csi20local/Data/RG_CT_Cases/CT-CRT-{Case}/{Res}/SW-{SW}-BE-{BE}/InterPV-PercentageErrors.csv', sep=' ')"
   ]
  },
  {
   "cell_type": "code",
   "execution_count": null,
   "metadata": {},
   "outputs": [],
   "source": [
    "# This function creates a 4x4 csv file of Inter PVs perctange errors for a given combo of SW and BE for CRT-09\n",
    "# This works for a case which has MISSING LAA Cutter\n",
    "\n",
    "def CSV_Creation_SW_BE_pC_pC_distances_CRT09(Case, Res, SW, BE):\n",
    "            \n",
    "    series_errors = pd.read_csv(f'/home/csi20local/Data/RG_CT_Cases/CT-CRT-{Case}/{Res}/SW-{SW}-BE-{BE}/pC-pC-distances.txt', sep = ' ', names=['Error'])\n",
    "            \n",
    "    reshaped_array = np.reshape(series_errors.to_numpy(), (4,4))\n",
    "    reshaped_array = np.abs(reshaped_array)\n",
    "    \n",
    "    SWBE_df_errors = pd.DataFrame(data=reshaped_array, columns=['LS', 'LI', 'RS', 'RI'],\n",
    "                                  index=['LS', 'LI', 'RS', 'RI'])\n",
    "    \n",
    "    SWBE_df_errors.to_csv(f'/home/csi20local/Data/RG_CT_Cases/CT-CRT-{Case}/{Res}/SW-{SW}-BE-{BE}/InterPV-PercentageErrors.csv', sep=' ')"
   ]
  },
  {
   "cell_type": "code",
   "execution_count": 6,
   "metadata": {},
   "outputs": [],
   "source": [
    "\"\"\"\n",
    "This function creates a 4x4 csv file of Inter PVs perctange errors for a given combo of SW and BE for CRT-18 & CRT-23\n",
    "\n",
    "For cases which lack LIPV Cutter at dcm0 and GT\n",
    "\n",
    "CRT-18\n",
    "CRT-23\n",
    "Normal-3\n",
    "\n",
    "Former name: CSV_Creation_SW_BE_pC_pC_distances_CRT18_CRT23\n",
    "\"\"\"\n",
    "\n",
    "def CSV_Creation_SW_BE_pC_pC_distances_NoLIPV(Case, Res, SW, BE):\n",
    "            \n",
    "    series_errors = pd.read_csv(f'/home/csi20local/Data/RG_CT_Cases/{Case}/{Res}/SW-{SW}-BE-{BE}/pC-pC-distances.txt', sep = ' ', names=['Error'])\n",
    "            \n",
    "    reshaped_array = np.reshape(series_errors.to_numpy(), (4,4))\n",
    "    reshaped_array = np.abs(reshaped_array)\n",
    "    \n",
    "    SWBE_df_errors = pd.DataFrame(data=reshaped_array, columns=['LAA', 'LS', 'RS', 'RI'],\n",
    "                                  index=['LAA', 'LS', 'RS', 'RI'])\n",
    "    \n",
    "    SWBE_df_errors.to_csv(f'/home/csi20local/Data/RG_CT_Cases/{Case}/{Res}/SW-{SW}-BE-{BE}/InterPV-PercentageErrors.csv', sep=' ')"
   ]
  },
  {
   "cell_type": "markdown",
   "metadata": {},
   "source": [
    "### Implementing CSV Creation fns"
   ]
  },
  {
   "cell_type": "code",
   "execution_count": 5,
   "metadata": {},
   "outputs": [
    {
     "name": "stdout",
     "output_type": "stream",
     "text": [
      "CSV Created: CT-CRT-21\n",
      "CSV Created: CT-CRT-26\n",
      "CSV Created: CT-CRT-28\n",
      "CSV Created: CT-CRT-29\n",
      "CSV Created: CT-CRT-32\n",
      "CSV Created: EBR-02\n"
     ]
    }
   ],
   "source": [
    "for Case in ('CT-CRT-21', 'CT-CRT-26', 'CT-CRT-28', 'CT-CRT-29', 'CT-CRT-32', 'EBR-02'):\n",
    "\n",
    "    for SW in ('9e-2', '3e-2', '9e-3', '3e-3', '9e-4', '3e-4', '0.0'):\n",
    "            for BE in ('4e-6', '1e-6', '4e-7', '1e-7', '4e-8', '1e-8', '4e-9', '1e-9', '4e-10'):\n",
    "\n",
    "                CSV_Creation_SW_BE_pC_pC_distances(Case, \"MT-HiRes-TDownsampled\", SW, BE)\n",
    "                \n",
    "    print(f'CSV Created: {Case}')"
   ]
  },
  {
   "cell_type": "code",
   "execution_count": null,
   "metadata": {},
   "outputs": [],
   "source": [
    "Case = \"Normal-3\"\n",
    "\n",
    "for SW in ['9e-2', '3e-2', '9e-3', '3e-3', '9e-4', '3e-4', '0.0']:\n",
    "    for BE in ['4e-6', '1e-6', '4e-7', '1e-7', '4e-8', '1e-8', '4e-9', '1e-9', '4e-10']:\n",
    "        CSV_Creation_SW_BE_pC_pC_distances_CRT18_CRT23(Case, \"MT-HiRes\", SW, BE)\n",
    "                \n",
    "print(f'CSV Created: {Case}')"
   ]
  },
  {
   "cell_type": "code",
   "execution_count": null,
   "metadata": {},
   "outputs": [],
   "source": [
    "for Case in ('CT-CRT-10', 'CT-CRT-14', 'CT-CRT-17', 'Normal-1'):\n",
    "    CSV_Creation_SW_BE_pC_pC_distances(Case, \"MT\", '9e-3', '4e-7')\n",
    "                \n",
    "    print(f'CSV Created: {Case}')"
   ]
  },
  {
   "cell_type": "code",
   "execution_count": null,
   "metadata": {},
   "outputs": [],
   "source": [
    "for Case in ('CT-CRT-18', 'Normal-3'):\n",
    "    CSV_Creation_SW_BE_pC_pC_distances_NoLIPV(Case, \"MT\", '9e-3', '4e-7')\n",
    "                \n",
    "    print(f'CSV Created: {Case}')"
   ]
  },
  {
   "cell_type": "code",
   "execution_count": null,
   "metadata": {},
   "outputs": [],
   "source": [
    "for Case in ('CT-CRT-19', 'CT-CRT-20'):\n",
    "    CSV_Creation_SW_BE_pC_pC_distances_Dropbox(Case, \"MT\", '9e-3', '4e-7')\n",
    "                \n",
    "    print(f'CSV Created: {Case}')"
   ]
  },
  {
   "cell_type": "code",
   "execution_count": 3,
   "metadata": {},
   "outputs": [
    {
     "name": "stdout",
     "output_type": "stream",
     "text": [
      "CSV Created: CT-CRT-21\n",
      "CSV Created: CT-CRT-24\n",
      "CSV Created: CT-CRT-25\n",
      "CSV Created: CT-CRT-26\n",
      "CSV Created: CT-CRT-27\n",
      "CSV Created: CT-CRT-28\n",
      "CSV Created: CT-CRT-29\n",
      "CSV Created: CT-CRT-30\n",
      "CSV Created: CT-CRT-32\n",
      "CSV Created: EBR-01\n",
      "CSV Created: EBR-02\n"
     ]
    }
   ],
   "source": [
    "for Case in ('CT-CRT-21', 'CT-CRT-24', 'CT-CRT-25', 'CT-CRT-26', 'CT-CRT-27',\n",
    "             'CT-CRT-28', 'CT-CRT-29', 'CT-CRT-30', 'CT-CRT-32', 'EBR-01', 'EBR-02'):\n",
    "    CSV_Creation_SW_BE_pC_pC_distances(Case, \"MT-TDownsampled\", '9e-3', '4e-7')\n",
    "                \n",
    "    print(f'CSV Created: {Case}')"
   ]
  },
  {
   "cell_type": "code",
   "execution_count": 7,
   "metadata": {},
   "outputs": [
    {
     "name": "stdout",
     "output_type": "stream",
     "text": [
      "CSV Created: CT-CRT-23\n"
     ]
    }
   ],
   "source": [
    "Case = 'CT-CRT-23'\n",
    "\n",
    "CSV_Creation_SW_BE_pC_pC_distances_NoLIPV(Case, \"MT-TDownsampled\", '9e-3', '4e-7')\n",
    "                \n",
    "print(f'CSV Created: {Case}')"
   ]
  },
  {
   "cell_type": "markdown",
   "metadata": {},
   "source": [
    "## Checking InterPV-PercentageErrors.csv created for given SW BE\n"
   ]
  },
  {
   "cell_type": "code",
   "execution_count": 4,
   "metadata": {},
   "outputs": [],
   "source": [
    "# Function to check csv created for InterPV-PercentageErrors.csv for a given (SW,BE) matches pC-pC-distances.txt\n",
    "\n",
    "def CHECK_CSV_Creation_SW_BE_pC_pC_distances(Case, Res, SW, BE):\n",
    "    \n",
    "    test_reread = pd.read_csv(f'/home/csi20local/Data/RG_CT_Cases/{Case}/{Res}/SW-{SW}-BE-{BE}/InterPV-PercentageErrors.csv',\n",
    "                              sep = ' ', index_col = 0)\n",
    "    test_reread = test_reread.fillna(0.0)\n",
    "    test_reread_flatten = test_reread.to_numpy().flatten()\n",
    "\n",
    "    Errors_series = pd.read_csv(f'/home/csi20local/Data/RG_CT_Cases/{Case}/{Res}/SW-{SW}-BE-{BE}/pC-pC-distances.txt',\n",
    "                         sep = ' ', names=['Error'])\n",
    "    Errors_series = Errors_series.fillna(0.0)\n",
    "    \n",
    "    status=True\n",
    "\n",
    "    for i in range(0, Errors_series.shape[0]):\n",
    "                \n",
    "        if np.abs(round(Errors_series.iloc[i][0],6)) != round(test_reread_flatten[i],6):\n",
    "            print(f\"Entry {i} of Case {Case}, SW {SW}, BE {BE} has problem\")\n",
    "            status=False\n",
    "            break\n",
    "        \n",
    "    return print(status)"
   ]
  },
  {
   "cell_type": "code",
   "execution_count": null,
   "metadata": {},
   "outputs": [],
   "source": [
    "# Function to check csv created for InterPV-PercentageErrors.csv for a given (SW,BE) matches pC-pC-distances.txt\n",
    "\n",
    "def CHECK_CSV_Creation_SW_BE_pC_pC_distances_Dropbox(Case, Res, SW, BE):\n",
    "    \n",
    "    test_reread = pd.read_csv(f'/home/csi20local/Dropbox/RG_CT_Cases/{Case}/{Res}/SW-{SW}-BE-{BE}/InterPV-PercentageErrors.csv',\n",
    "                              sep = ' ', index_col = 0)\n",
    "    test_reread = test_reread.fillna(0.0)\n",
    "    test_reread_flatten = test_reread.to_numpy().flatten()\n",
    "\n",
    "    Errors_series = pd.read_csv(f'/home/csi20local/Dropbox/RG_CT_Cases/{Case}/{Res}/SW-{SW}-BE-{BE}/pC-pC-distances.txt',\n",
    "                         sep = ' ', names=['Error'])\n",
    "    Errors_series = Errors_series.fillna(0.0)\n",
    "    \n",
    "    status=True\n",
    "\n",
    "    for i in range(0, Errors_series.shape[0]):\n",
    "                \n",
    "        if np.abs(round(Errors_series.iloc[i][0],6)) != round(test_reread_flatten[i],6):\n",
    "            print(f\"Entry {i} of Case {Case}, SW {SW}, BE {BE} has problem\")\n",
    "            status=False\n",
    "            break\n",
    "        \n",
    "    return print(status)"
   ]
  },
  {
   "cell_type": "markdown",
   "metadata": {},
   "source": [
    "### Implementing CHECK CSV Creation"
   ]
  },
  {
   "cell_type": "code",
   "execution_count": null,
   "metadata": {},
   "outputs": [],
   "source": [
    "for Case in ['CT-CRT-18']:\n",
    "    \n",
    "    for SW in ['9e-2', '3e-2', '9e-3', '3e-3', '9e-4', '3e-4', '0.0']:\n",
    "\n",
    "            for BE in ['4e-6', '1e-6', '4e-7', '1e-7', '4e-8', '1e-8', '4e-9', '1e-9', '4e-10']:\n",
    "\n",
    "                CHECK_CSV_Creation_SW_BE_pC_pC_distances(Case, 'MT-HiRes', SW, BE)\n",
    "                \n",
    "    print(f'Checked CSV for: {Case}')\n"
   ]
  },
  {
   "cell_type": "code",
   "execution_count": null,
   "metadata": {},
   "outputs": [],
   "source": [
    "for Case in ['CT-CRT-21', 'CT-CRT-26', 'CT-CRT-28', 'CT-CRT-29', 'CT-CRT-32', 'EBR-02']:\n",
    "    \n",
    "    for SW in ['9e-2', '3e-2', '9e-3', '3e-3', '9e-4', '3e-4', '0.0']:\n",
    "            for BE in ['4e-6', '1e-6', '4e-7', '1e-7', '4e-8', '1e-8', '4e-9', '1e-9', '4e-10']:\n",
    "\n",
    "                CHECK_CSV_Creation_SW_BE_pC_pC_distances(Case, 'MT-HiRes-TDownsampled', SW, BE)\n",
    "                \n",
    "    print(f'Checked CSV for: {Case}')\n"
   ]
  },
  {
   "cell_type": "code",
   "execution_count": null,
   "metadata": {},
   "outputs": [],
   "source": [
    "for Case in ('CT-CRT-10', 'CT-CRT-14', 'CT-CRT-17', 'Normal-1'):\n",
    "    CHECK_CSV_Creation_SW_BE_pC_pC_distances(Case, \"MT\", '9e-3', '4e-7')\n",
    "                \n",
    "    print(f'CSV Checked: {Case}')"
   ]
  },
  {
   "cell_type": "code",
   "execution_count": null,
   "metadata": {},
   "outputs": [],
   "source": [
    "for Case in ('CT-CRT-18', 'Normal-3'):\n",
    "    CHECK_CSV_Creation_SW_BE_pC_pC_distances(Case, \"MT\", '9e-3', '4e-7')\n",
    "                \n",
    "    print(f'CSV Checked: {Case}')"
   ]
  },
  {
   "cell_type": "code",
   "execution_count": null,
   "metadata": {},
   "outputs": [],
   "source": [
    "for Case in ('CT-CRT-19', 'CT-CRT-20'):\n",
    "    CHECK_CSV_Creation_SW_BE_pC_pC_distances_Dropbox(Case, \"MT\", '9e-3', '4e-7')\n",
    "                \n",
    "    print(f'CSV Checked: {Case}')"
   ]
  },
  {
   "cell_type": "code",
   "execution_count": 5,
   "metadata": {},
   "outputs": [
    {
     "name": "stdout",
     "output_type": "stream",
     "text": [
      "True\n",
      "CSV Created: CT-CRT-21\n",
      "True\n",
      "CSV Created: CT-CRT-24\n",
      "True\n",
      "CSV Created: CT-CRT-25\n",
      "True\n",
      "CSV Created: CT-CRT-26\n",
      "True\n",
      "CSV Created: CT-CRT-27\n",
      "True\n",
      "CSV Created: CT-CRT-28\n",
      "True\n",
      "CSV Created: CT-CRT-29\n",
      "True\n",
      "CSV Created: CT-CRT-30\n",
      "True\n",
      "CSV Created: CT-CRT-32\n",
      "True\n",
      "CSV Created: EBR-01\n",
      "True\n",
      "CSV Created: EBR-02\n"
     ]
    }
   ],
   "source": [
    "for Case in ('CT-CRT-21', 'CT-CRT-24', 'CT-CRT-25', 'CT-CRT-26', 'CT-CRT-27',\n",
    "             'CT-CRT-28', 'CT-CRT-29', 'CT-CRT-30', 'CT-CRT-32', 'EBR-01', 'EBR-02'):\n",
    "    CHECK_CSV_Creation_SW_BE_pC_pC_distances(Case, \"MT-TDownsampled\", '9e-3', '4e-7')\n",
    "                \n",
    "    print(f'CSV Created: {Case}')"
   ]
  },
  {
   "cell_type": "code",
   "execution_count": 8,
   "metadata": {},
   "outputs": [
    {
     "name": "stdout",
     "output_type": "stream",
     "text": [
      "True\n",
      "CSV Created: CT-CRT-23\n"
     ]
    }
   ],
   "source": [
    "Case = 'CT-CRT-23'\n",
    "\n",
    "CHECK_CSV_Creation_SW_BE_pC_pC_distances(Case, \"MT-TDownsampled\", '9e-3', '4e-7')\n",
    "                \n",
    "print(f'CSV Created: {Case}')"
   ]
  },
  {
   "cell_type": "markdown",
   "metadata": {},
   "source": [
    "## PV1-PV2-PercentageErrors.csv Creation, across 63 BE SW combos\n"
   ]
  },
  {
   "cell_type": "markdown",
   "metadata": {},
   "source": [
    "## DO NOT USE BELOW FN"
   ]
  },
  {
   "cell_type": "code",
   "execution_count": null,
   "metadata": {},
   "outputs": [],
   "source": [
    "# This function creates a 9x7 csv table of Inter PVs percentage errors for a given PV1-PV2 combination across\n",
    "# all (SW,BE) combinations\n",
    "\n",
    "\"\"\"\n",
    "My G, this function is Clapped\n",
    "\n",
    "REDUNDANT??????\n",
    "\"\"\"\n",
    "def CSV_Creation_PV1_PV2_pC_pC_distances(Case, Res, PV1, PV2):\n",
    "    \n",
    "    LAA_LS = []\n",
    "    LAA_LI = []\n",
    "    LAA_RS = []\n",
    "    LAA_RI = []\n",
    "\n",
    "    LS_LI = []\n",
    "    LS_RS = []\n",
    "    LS_RI = []\n",
    "\n",
    "    LI_RS = []\n",
    "    LI_RI = []\n",
    "\n",
    "    RS_RI = []\n",
    "    \n",
    "    for BE in ['4e-6', '1e-6', '4e-7', '1e-7', '4e-8', '1e-8', '4e-9', '1e-9', '4e-10']:\n",
    "        for SW in ['9e-2', '3e-2', '9e-3', '3e-3', '9e-4', '3e-4', '0.0']:\n",
    "            \n",
    "            reread = pd.read_csv(f'/home/csi20local/Data/RG_CT_Cases/CT-CRT-{Case}/MT-HiRes/SW-{SW}-BE-{BE}/InterPV-PercentageErrors.csv',\n",
    "                                 sep = ' ', index_col = 0)\n",
    "            \n",
    "            LAA_LS.append(reread.loc[\"LAA\"][\"LS\"])\n",
    "            LAA_LI.append(reread.loc[\"LAA\"][\"LI\"])\n",
    "            LAA_RS.append(reread.loc[\"LAA\"][\"RS\"])\n",
    "            LAA_RI.append(reread.loc[\"LAA\"][\"RI\"])\n",
    "            \n",
    "            LS_LI.append(reread.loc[\"LS\"][\"LI\"])\n",
    "            LS_RS.append(reread.loc[\"LS\"][\"RS\"])\n",
    "            LS_RI.append(reread.loc[\"LS\"][\"RI\"])\n",
    "            \n",
    "            LI_RS.append(reread.loc[\"LI\"][\"RS\"])\n",
    "            LI_RI.append(reread.loc[\"LI\"][\"RI\"])\n",
    "            \n",
    "            RS_RI.append(reread.loc[\"RS\"][\"RI\"])\n",
    "            \n",
    "    reshaped_array = np.reshape(np.array(LAA_LS), (9,7))\n",
    "    reshaped_array = np.abs(reshaped_array)\n",
    "    \n",
    "    df = pd.DataFrame(reshaped_array, columns=['9e-2', '3e-2', '9e-3', '3e-3', '9e-4', '3e-4', '0.0'], \n",
    "             index=['4e-6', '1e-6', '4e-7', '1e-7', '4e-8', '1e-8', '4e-9', '1e-9', '4e-10'])\n",
    "    \n",
    "    df.to_csv(f'/home/csi20local/Data/RG_CT_Cases/CT-CRT-{Case}/{PV1}-{PV2}-PercentageErrors.csv', sep=' ')\n",
    "            \n",
    "#             Take out specific PV1 - PV2 combinations and append them to lists"
   ]
  },
  {
   "cell_type": "markdown",
   "metadata": {},
   "source": [
    "### Most up-to-date Function "
   ]
  },
  {
   "cell_type": "code",
   "execution_count": 16,
   "metadata": {},
   "outputs": [],
   "source": [
    "\"\"\"\n",
    "This function creates a 9x7 csv table of Inter PVs percentage errors for a given PV1-PV2 combination across\n",
    "all (SW,BE) combinations\n",
    "\"\"\"\n",
    "\n",
    "def CSV_Creation_PV1_PV2_pC_pC_distances(Case, Res, PV1, PV2):\n",
    "    \n",
    "    PV1_PV2 = []\n",
    "    \n",
    "    for BE in ['4e-6', '1e-6', '4e-7', '1e-7', '4e-8', '1e-8', '4e-9', '1e-9', '4e-10']:\n",
    "        for SW in ['9e-2', '3e-2', '9e-3', '3e-3', '9e-4', '3e-4', '0.0']:\n",
    "            \n",
    "            reread = pd.read_csv(f'/home/csi20local/Data/RG_CT_Cases/{Case}/{Res}/SW-{SW}-BE-{BE}/InterPV-PercentageErrors.csv',\n",
    "                                 sep = ' ', index_col = 0)\n",
    "            \n",
    "            PV1_PV2.append(reread.loc[f\"{PV1}\"][f\"{PV2}\"])\n",
    "            \n",
    "    reshaped_array = np.reshape(np.array(PV1_PV2), (9,7))\n",
    "    reshaped_array = np.abs(reshaped_array)\n",
    "    \n",
    "    df = pd.DataFrame(reshaped_array, columns=['9e-2', '3e-2', '9e-3', '3e-3', '9e-4', '3e-4', '0.0'], \n",
    "             index=['4e-6', '1e-6', '4e-7', '1e-7', '4e-8', '1e-8', '4e-9', '1e-9', '4e-10'])\n",
    "    \n",
    "    df.to_csv(f'/home/csi20local/Data/RG_CT_Cases/{Case}/{Res}-{PV1}-{PV2}-PercentageErrors.csv', sep=' ')"
   ]
  },
  {
   "cell_type": "code",
   "execution_count": 9,
   "metadata": {},
   "outputs": [],
   "source": [
    "\"\"\"\n",
    "This function creates a 9x7 csv table of Inter PVs percentage errors for a given PV1-PV2 combination across\n",
    "all (SW,BE) combinations\n",
    "\n",
    "SINGLE SW BE COMBO\n",
    "\"\"\"\n",
    "\n",
    "def CSV_Creation_PV1_PV2_pC_pC_distances_SingleSW_BE(Case, Res, PV1, PV2):\n",
    "    \n",
    "    PV1_PV2 = []\n",
    "    \n",
    "    for BE in ['4e-7']:\n",
    "        for SW in ['9e-3']:\n",
    "            \n",
    "            reread = pd.read_csv(f'/home/csi20local/Data/RG_CT_Cases/{Case}/{Res}/SW-{SW}-BE-{BE}/InterPV-PercentageErrors.csv',\n",
    "                                 sep = ' ', index_col = 0)\n",
    "            \n",
    "            PV1_PV2.append(reread.loc[f\"{PV1}\"][f\"{PV2}\"])\n",
    "            \n",
    "    reshaped_array = np.reshape(np.array(PV1_PV2), (1,1))\n",
    "    reshaped_array = np.abs(reshaped_array)\n",
    "    \n",
    "    df = pd.DataFrame(reshaped_array, columns=['9e-3'], \n",
    "             index=['4e-7'])\n",
    "    \n",
    "    df.to_csv(f'/home/csi20local/Data/RG_CT_Cases/{Case}/{Res}-{PV1}-{PV2}-PercentageErrors.csv', sep=' ')"
   ]
  },
  {
   "cell_type": "code",
   "execution_count": null,
   "metadata": {},
   "outputs": [],
   "source": [
    "\"\"\"\n",
    "This function creates a 9x7 csv table of Inter PVs percentage errors for a given PV1-PV2 combination across\n",
    "all (SW,BE) combinations\n",
    "\n",
    "SINGLE SW BE COMBO for Dropbox\n",
    "\"\"\"\n",
    "\n",
    "def CSV_Creation_PV1_PV2_pC_pC_distances_SingleSW_BE_Dropbox(Case, Res, PV1, PV2):\n",
    "    \n",
    "    PV1_PV2 = []\n",
    "    \n",
    "    for BE in ['4e-7']:\n",
    "        for SW in ['9e-3']:\n",
    "            \n",
    "            reread = pd.read_csv(f'/home/csi20local/Dropbox/RG_CT_Cases/{Case}/{Res}/SW-{SW}-BE-{BE}/InterPV-PercentageErrors.csv',\n",
    "                                 sep = ' ', index_col = 0)\n",
    "            \n",
    "            PV1_PV2.append(reread.loc[f\"{PV1}\"][f\"{PV2}\"])\n",
    "            \n",
    "    reshaped_array = np.reshape(np.array(PV1_PV2), (1,1))\n",
    "    reshaped_array = np.abs(reshaped_array)\n",
    "    \n",
    "    df = pd.DataFrame(reshaped_array, columns=['9e-3'], \n",
    "             index=['4e-7'])\n",
    "    \n",
    "    df.to_csv(f'/home/csi20local/Dropbox/RG_CT_Cases/{Case}/{Res}-{PV1}-{PV2}-PercentageErrors.csv', sep=' ')"
   ]
  },
  {
   "cell_type": "markdown",
   "metadata": {},
   "source": [
    "### Implenting function"
   ]
  },
  {
   "cell_type": "code",
   "execution_count": 11,
   "metadata": {},
   "outputs": [
    {
     "name": "stdout",
     "output_type": "stream",
     "text": [
      "Created CSV for CT-CRT-21\n",
      "Created CSV for CT-CRT-26\n",
      "Created CSV for CT-CRT-28\n",
      "Created CSV for CT-CRT-29\n",
      "Created CSV for CT-CRT-32\n",
      "Created CSV for EBR-02\n"
     ]
    }
   ],
   "source": [
    "for Case in ['CT-CRT-21', 'CT-CRT-26', 'CT-CRT-28', 'CT-CRT-29', 'CT-CRT-32', 'EBR-02']:\n",
    "    \n",
    "    for (PV1,PV2) in [('LAA', 'LS'), ('LAA', 'LI'), ('LAA','RS'), ('LAA','RI'),\n",
    "                 ('LS', 'LI'), ('LS', 'RS'), ('LS', 'RI'),\n",
    "                 ('LI', 'RS'), ('LI', 'RI'),\n",
    "                 ('RS', 'RI')]:\n",
    "        \n",
    "        CSV_Creation_PV1_PV2_pC_pC_distances(Case, \"MT-HiRes-TDownsampled\", PV1, PV2)\n",
    "        \n",
    "    print(f'Created CSV for {Case}')"
   ]
  },
  {
   "cell_type": "code",
   "execution_count": 20,
   "metadata": {},
   "outputs": [
    {
     "name": "stdout",
     "output_type": "stream",
     "text": [
      "Created CSV for Normal-3\n"
     ]
    }
   ],
   "source": [
    "Case = \"Normal-3\"\n",
    "\n",
    "for (PV1,PV2) in [('LAA', 'LS'), ('LAA','RS'), ('LAA','RI'),\n",
    "                      ('LS', 'RS'), ('LS', 'RI'),\n",
    "                      ('RS', 'RI')]:\n",
    "    CSV_Creation_PV1_PV2_pC_pC_distances(Case, \"MT-HiRes\", PV1, PV2)\n",
    "        \n",
    "print(f'Created CSV for {Case}')"
   ]
  },
  {
   "cell_type": "code",
   "execution_count": 18,
   "metadata": {},
   "outputs": [
    {
     "name": "stdout",
     "output_type": "stream",
     "text": [
      "Created CSV for CT-CRT-10\n",
      "Created CSV for CT-CRT-14\n",
      "Created CSV for CT-CRT-17\n",
      "Created CSV for Normal-1\n"
     ]
    }
   ],
   "source": [
    "for Case in ['CT-CRT-10', 'CT-CRT-14', 'CT-CRT-17', 'Normal-1']:\n",
    "    \n",
    "    for (PV1,PV2) in [('LAA', 'LS'), ('LAA', 'LI'), ('LAA','RS'), ('LAA','RI'),\n",
    "                 ('LS', 'LI'), ('LS', 'RS'), ('LS', 'RI'),\n",
    "                 ('LI', 'RS'), ('LI', 'RI'),\n",
    "                 ('RS', 'RI')]:\n",
    "        \n",
    "        CSV_Creation_PV1_PV2_pC_pC_distances_SingleSW_BE(Case, \"MT\", PV1, PV2)\n",
    "        \n",
    "    print(f'Created CSV for {Case}')"
   ]
  },
  {
   "cell_type": "code",
   "execution_count": null,
   "metadata": {},
   "outputs": [],
   "source": [
    "for Case in ['CT-CRT-19', 'CT-CRT-20']:\n",
    "    \n",
    "    for (PV1,PV2) in [('LAA', 'LS'), ('LAA', 'LI'), ('LAA','RS'), ('LAA','RI'),\n",
    "                 ('LS', 'LI'), ('LS', 'RS'), ('LS', 'RI'),\n",
    "                 ('LI', 'RS'), ('LI', 'RI'),\n",
    "                 ('RS', 'RI')]:\n",
    "        \n",
    "        CSV_Creation_PV1_PV2_pC_pC_distances_SingleSW_BE_Dropbox(Case, \"MT\", PV1, PV2)\n",
    "        \n",
    "    print(f'Created CSV for {Case}')"
   ]
  },
  {
   "cell_type": "code",
   "execution_count": 10,
   "metadata": {},
   "outputs": [
    {
     "name": "stdout",
     "output_type": "stream",
     "text": [
      "Created CSV for CT-CRT-21\n",
      "Created CSV for CT-CRT-24\n",
      "Created CSV for CT-CRT-25\n",
      "Created CSV for CT-CRT-26\n",
      "Created CSV for CT-CRT-27\n",
      "Created CSV for CT-CRT-28\n",
      "Created CSV for CT-CRT-29\n",
      "Created CSV for CT-CRT-30\n",
      "Created CSV for CT-CRT-32\n",
      "Created CSV for EBR-01\n",
      "Created CSV for EBR-02\n"
     ]
    }
   ],
   "source": [
    "for Case in ('CT-CRT-21', 'CT-CRT-24', 'CT-CRT-25', 'CT-CRT-26', 'CT-CRT-27',\n",
    "             'CT-CRT-28', 'CT-CRT-29', 'CT-CRT-30', 'CT-CRT-32', 'EBR-01', 'EBR-02'):\n",
    "    \n",
    "    for (PV1,PV2) in [('LAA', 'LS'), ('LAA', 'LI'), ('LAA','RS'), ('LAA','RI'),\n",
    "                 ('LS', 'LI'), ('LS', 'RS'), ('LS', 'RI'),\n",
    "                 ('LI', 'RS'), ('LI', 'RI'),\n",
    "                 ('RS', 'RI')]:\n",
    "        \n",
    "        CSV_Creation_PV1_PV2_pC_pC_distances_SingleSW_BE(Case, \"MT-TDownsampled\", PV1, PV2)\n",
    "        \n",
    "    print(f'Created CSV for {Case}')"
   ]
  },
  {
   "cell_type": "code",
   "execution_count": 12,
   "metadata": {},
   "outputs": [
    {
     "name": "stdout",
     "output_type": "stream",
     "text": [
      "Created CSV for CT-CRT-23\n"
     ]
    }
   ],
   "source": [
    "Case = 'CT-CRT-23'\n",
    "\n",
    "for (PV1,PV2) in [('LAA', 'LS'), ('LAA','RS'), ('LAA','RI'),\n",
    "                  ('LS', 'RS'), ('LS', 'RI'),\n",
    "                  ('RS', 'RI')]:\n",
    "        \n",
    "    CSV_Creation_PV1_PV2_pC_pC_distances_SingleSW_BE(Case, \"MT-TDownsampled\", PV1, PV2)\n",
    "        \n",
    "print(f'Created CSV for {Case}')"
   ]
  },
  {
   "cell_type": "markdown",
   "metadata": {},
   "source": [
    "### Checking CSV_Creation_PV1_PV2\n",
    "### 20/08"
   ]
  },
  {
   "cell_type": "code",
   "execution_count": 22,
   "metadata": {},
   "outputs": [],
   "source": [
    "\"\"\"\n",
    "This function checks the CSV file created for InterPV percentage errors \n",
    "\"\"\"\n",
    "\n",
    "def CHECK_CSV_Creation_PV1_PV2_pC_pC_distances(Case, Res, PV1, PV2):\n",
    "    \n",
    "    PV1PV2_csv = pd.read_csv(f\"/home/csi20local/Data/RG_CT_Cases/{Case}/{Res}-{PV1}-{PV2}-PercentageErrors.csv\",\n",
    "                            sep=' ', index_col=0)\n",
    "    \n",
    "    status = True\n",
    "    \n",
    "    for BE in ['4e-6', '1e-6', '4e-7', '1e-7', '4e-8', '1e-8', '4e-9', '1e-9', '4e-10']:\n",
    "        for SW in ['9e-2', '3e-2', '9e-3', '3e-3', '9e-4', '3e-4', '0.0']:\n",
    "            \n",
    "            SWBE_df = pd.read_csv(f\"/home/csi20local/Data/RG_CT_Cases/{Case}/{Res}/SW-{SW}-BE-{BE}/InterPV-PercentageErrors.csv\",\n",
    "                                      sep=' ', index_col=0)\n",
    "                \n",
    "\n",
    "            if (round(PV1PV2_csv[f'{SW}'][float(BE)], 6) == round(SWBE_df[f'{PV1}'][f'{PV2}'], 6)):\n",
    "                status = True\n",
    "                    \n",
    "            else:\n",
    "                print(f\"Problem with Case {Case}, {PV1}-{PV2} Error at BE {BE} SW {SW}\")\n",
    "                status=False\n",
    "                break\n",
    "    \n",
    "\n",
    "    return print(status)"
   ]
  },
  {
   "cell_type": "code",
   "execution_count": 13,
   "metadata": {},
   "outputs": [],
   "source": [
    "\"\"\"\n",
    "This function checks the CSV file created for InterPV percentage errors \n",
    "\n",
    "FOR SINGLE SW BE COMBO\n",
    "\"\"\"\n",
    "\n",
    "def CHECK_CSV_Creation_PV1_PV2_pC_pC_distances_SingleSW_BE(Case, Res, PV1, PV2):\n",
    "    \n",
    "    PV1PV2_csv = pd.read_csv(f\"/home/csi20local/Data/RG_CT_Cases/{Case}/{Res}-{PV1}-{PV2}-PercentageErrors.csv\",\n",
    "                            sep=' ', index_col=0)\n",
    "    \n",
    "    status = True\n",
    "    \n",
    "    for BE in ['4e-7']:\n",
    "        for SW in ['9e-3']:\n",
    "            \n",
    "            SWBE_df = pd.read_csv(f\"/home/csi20local/Data/RG_CT_Cases/{Case}/{Res}/SW-{SW}-BE-{BE}/InterPV-PercentageErrors.csv\",\n",
    "                                      sep=' ', index_col=0)\n",
    "                \n",
    "\n",
    "            if (round(PV1PV2_csv[f'{SW}'][float(BE)], 6) == round(SWBE_df[f'{PV1}'][f'{PV2}'], 6)):\n",
    "                status = True\n",
    "                    \n",
    "            else:\n",
    "                print(f\"Problem with Case {Case}, {PV1}-{PV2} Error at BE {BE} SW {SW}\")\n",
    "                status=False\n",
    "                break\n",
    "    \n",
    "\n",
    "    return print(status)"
   ]
  },
  {
   "cell_type": "code",
   "execution_count": null,
   "metadata": {},
   "outputs": [],
   "source": [
    "\"\"\"\n",
    "This function checks the CSV file created for InterPV percentage errors \n",
    "\n",
    "FOR SINGLE SW BE COMBO\n",
    "\"\"\"\n",
    "\n",
    "def CHECK_CSV_Creation_PV1_PV2_pC_pC_distances_SingleSW_BE_Dropbox(Case, Res, PV1, PV2):\n",
    "    \n",
    "    PV1PV2_csv = pd.read_csv(f\"/home/csi20local/Dropbox/RG_CT_Cases/{Case}/{Res}-{PV1}-{PV2}-PercentageErrors.csv\",\n",
    "                            sep=' ', index_col=0)\n",
    "    \n",
    "    status = True\n",
    "    \n",
    "    for BE in ['4e-7']:\n",
    "        for SW in ['9e-3']:\n",
    "            \n",
    "            SWBE_df = pd.read_csv(f\"/home/csi20local/Dropbox/RG_CT_Cases/{Case}/{Res}/SW-{SW}-BE-{BE}/InterPV-PercentageErrors.csv\",\n",
    "                                      sep=' ', index_col=0)\n",
    "                \n",
    "\n",
    "            if (round(PV1PV2_csv[f'{SW}'][float(BE)], 6) == round(SWBE_df[f'{PV1}'][f'{PV2}'], 6)):\n",
    "                status = True\n",
    "                    \n",
    "            else:\n",
    "                print(f\"Problem with Case {Case}, {PV1}-{PV2} Error at BE {BE} SW {SW}\")\n",
    "                status=False\n",
    "                break\n",
    "    \n",
    "\n",
    "    return print(status)"
   ]
  },
  {
   "cell_type": "markdown",
   "metadata": {},
   "source": [
    "## Implementation"
   ]
  },
  {
   "cell_type": "code",
   "execution_count": null,
   "metadata": {},
   "outputs": [],
   "source": [
    "for Case in ['CT-CRT-23']:\n",
    "    \n",
    "    for (PV1,PV2) in [('LAA', 'LS'), ('LAA','RS'), ('LAA','RI'),\n",
    "                      ('LS', 'RS'), ('LS', 'RI'),\n",
    "                      ('RS', 'RI')]:\n",
    "        \n",
    "        CHECK_CSV_Creation_PV1_PV2_pC_pC_distances(Case, \"MT-HiRes-TDownsampled\", PV1, PV2)\n",
    "        \n",
    "    print(f'Checked CSV Created for: {Case}')"
   ]
  },
  {
   "cell_type": "code",
   "execution_count": null,
   "metadata": {},
   "outputs": [],
   "source": [
    "for Case in ['CT-CRT-10', 'CT-CRT-19', 'CT-CRT-20']:\n",
    "    \n",
    "    for (PV1,PV2) in [('LAA', 'LS'), ('LAA', 'LI'), ('LAA','RS'), ('LAA','RI'),\n",
    "                 ('LS', 'LI'), ('LS', 'RS'), ('LS', 'RI'),\n",
    "                 ('LI', 'RS'), ('LI', 'RI'),\n",
    "                 ('RS', 'RI')]:\n",
    "        \n",
    "        CHECK_CSV_Creation_PV1_PV2_pC_pC_distances(Case, \"MT-HiRes\", PV1, PV2)\n",
    "        \n",
    "    print(f'Checked CSV Created for: {Case}')"
   ]
  },
  {
   "cell_type": "code",
   "execution_count": null,
   "metadata": {},
   "outputs": [],
   "source": [
    "for Case in ['CT-CRT-21', 'CT-CRT-26', 'CT-CRT-28', 'CT-CRT-29', 'CT-CRT-32', 'EBR-02']:\n",
    "    \n",
    "    for (PV1,PV2) in [('LAA', 'LS'), ('LAA', 'LI'), ('LAA','RS'), ('LAA','RI'),\n",
    "                 ('LS', 'LI'), ('LS', 'RS'), ('LS', 'RI'),\n",
    "                 ('LI', 'RS'), ('LI', 'RI'),\n",
    "                 ('RS', 'RI')]:\n",
    "        \n",
    "        CHECK_CSV_Creation_PV1_PV2_pC_pC_distances(Case, \"MT-HiRes-TDownsampled\", PV1, PV2)\n",
    "        \n",
    "    print(f'Checked CSV Created for: {Case}')"
   ]
  },
  {
   "cell_type": "code",
   "execution_count": 10,
   "metadata": {
    "scrolled": true
   },
   "outputs": [
    {
     "name": "stdout",
     "output_type": "stream",
     "text": [
      "True\n",
      "True\n",
      "True\n",
      "True\n",
      "True\n",
      "True\n",
      "True\n",
      "True\n",
      "True\n",
      "True\n",
      "Checked CSV Created for: Normal-1\n"
     ]
    }
   ],
   "source": [
    "Case = \"Normal-1\"\n",
    "\n",
    "for (PV1,PV2) in [('LAA', 'LS'), ('LAA', 'LI'), ('LAA','RS'), ('LAA','RI'),\n",
    "                 ('LS', 'LI'), ('LS', 'RS'), ('LS', 'RI'),\n",
    "                 ('LI', 'RS'), ('LI', 'RI'),\n",
    "                 ('RS', 'RI')]:\n",
    "    CHECK_CSV_Creation_PV1_PV2_pC_pC_distances(Case, \"MT-HiRes\", PV1, PV2)\n",
    "        \n",
    "print(f'Checked CSV Created for: {Case}')"
   ]
  },
  {
   "cell_type": "code",
   "execution_count": 22,
   "metadata": {},
   "outputs": [
    {
     "name": "stdout",
     "output_type": "stream",
     "text": [
      "True\n",
      "True\n",
      "True\n",
      "True\n",
      "True\n",
      "True\n",
      "Checked CSV Created for: Normal-3\n"
     ]
    }
   ],
   "source": [
    "Case = \"Normal-3\"\n",
    "\n",
    "for (PV1,PV2) in [('LAA', 'LS'), ('LAA','RS'), ('LAA','RI'),\n",
    "                      ('LS', 'RS'), ('LS', 'RI'),\n",
    "                      ('RS', 'RI')]:\n",
    "    CHECK_CSV_Creation_PV1_PV2_pC_pC_distances(Case, \"MT-HiRes\", PV1, PV2)\n",
    "        \n",
    "print(f'Checked CSV Created for: {Case}')"
   ]
  },
  {
   "cell_type": "code",
   "execution_count": 25,
   "metadata": {
    "scrolled": true
   },
   "outputs": [
    {
     "name": "stdout",
     "output_type": "stream",
     "text": [
      "True\n",
      "True\n",
      "True\n",
      "True\n",
      "True\n",
      "True\n",
      "True\n",
      "True\n",
      "True\n",
      "True\n",
      "Checked CSV for CT-CRT-10\n",
      "True\n",
      "True\n",
      "True\n",
      "True\n",
      "True\n",
      "True\n",
      "True\n",
      "True\n",
      "True\n",
      "True\n",
      "Checked CSV for CT-CRT-14\n",
      "True\n",
      "True\n",
      "True\n",
      "True\n",
      "True\n",
      "True\n",
      "True\n",
      "True\n",
      "True\n",
      "True\n",
      "Checked CSV for CT-CRT-17\n",
      "True\n",
      "True\n",
      "True\n",
      "True\n",
      "True\n",
      "True\n",
      "True\n",
      "True\n",
      "True\n",
      "True\n",
      "Checked CSV for Normal-1\n"
     ]
    }
   ],
   "source": [
    "for Case in ['CT-CRT-10', 'CT-CRT-14', 'CT-CRT-17', 'Normal-1']:\n",
    "    \n",
    "    for (PV1,PV2) in [('LAA', 'LS'), ('LAA', 'LI'), ('LAA','RS'), ('LAA','RI'),\n",
    "                 ('LS', 'LI'), ('LS', 'RS'), ('LS', 'RI'),\n",
    "                 ('LI', 'RS'), ('LI', 'RI'),\n",
    "                 ('RS', 'RI')]:\n",
    "        \n",
    "        CHECK_CSV_Creation_PV1_PV2_pC_pC_distances_SingleSW_BE(Case, \"MT\", PV1, PV2)\n",
    "        \n",
    "    print(f'Checked CSV for {Case}')"
   ]
  },
  {
   "cell_type": "code",
   "execution_count": 27,
   "metadata": {},
   "outputs": [
    {
     "name": "stdout",
     "output_type": "stream",
     "text": [
      "True\n",
      "True\n",
      "True\n",
      "True\n",
      "True\n",
      "True\n",
      "Checked CSV for CT-CRT-18\n",
      "True\n",
      "True\n",
      "True\n",
      "True\n",
      "True\n",
      "True\n",
      "Checked CSV for Normal-3\n"
     ]
    }
   ],
   "source": [
    "for Case in ['CT-CRT-18', 'Normal-3']:\n",
    "    \n",
    "    for (PV1,PV2) in [('LAA', 'LS'), ('LAA','RS'), ('LAA','RI'),\n",
    "                      ('LS', 'RS'), ('LS', 'RI'),\n",
    "                      ('RS', 'RI')]:\n",
    "        \n",
    "        CHECK_CSV_Creation_PV1_PV2_pC_pC_distances_SingleSW_BE(Case, \"MT\", PV1, PV2)\n",
    "        \n",
    "    print(f'Checked CSV for {Case}')"
   ]
  },
  {
   "cell_type": "code",
   "execution_count": 29,
   "metadata": {},
   "outputs": [
    {
     "name": "stdout",
     "output_type": "stream",
     "text": [
      "True\n",
      "True\n",
      "True\n",
      "True\n",
      "True\n",
      "True\n",
      "True\n",
      "True\n",
      "True\n",
      "True\n",
      "Checked CSV for CT-CRT-19\n",
      "True\n",
      "True\n",
      "True\n",
      "True\n",
      "True\n",
      "True\n",
      "True\n",
      "True\n",
      "True\n",
      "True\n",
      "Checked CSV for CT-CRT-20\n"
     ]
    }
   ],
   "source": [
    "for Case in ['CT-CRT-19', 'CT-CRT-20']:\n",
    "    \n",
    "    for (PV1,PV2) in [('LAA', 'LS'), ('LAA', 'LI'), ('LAA','RS'), ('LAA','RI'),\n",
    "                 ('LS', 'LI'), ('LS', 'RS'), ('LS', 'RI'),\n",
    "                 ('LI', 'RS'), ('LI', 'RI'),\n",
    "                 ('RS', 'RI')]:\n",
    "        \n",
    "        CHECK_CSV_Creation_PV1_PV2_pC_pC_distances_SingleSW_BE_Dropbox(Case, \"MT\", PV1, PV2)\n",
    "        \n",
    "    print(f'Checked CSV for {Case}')"
   ]
  },
  {
   "cell_type": "code",
   "execution_count": 15,
   "metadata": {},
   "outputs": [
    {
     "name": "stdout",
     "output_type": "stream",
     "text": [
      "True\n",
      "True\n",
      "True\n",
      "True\n",
      "True\n",
      "True\n",
      "True\n",
      "True\n",
      "True\n",
      "True\n",
      "Checked CSV Created for: CT-CRT-21\n",
      "True\n",
      "True\n",
      "True\n",
      "True\n",
      "True\n",
      "True\n",
      "True\n",
      "True\n",
      "True\n",
      "True\n",
      "Checked CSV Created for: CT-CRT-24\n",
      "True\n",
      "True\n",
      "True\n",
      "True\n",
      "True\n",
      "True\n",
      "True\n",
      "True\n",
      "True\n",
      "True\n",
      "Checked CSV Created for: CT-CRT-25\n",
      "True\n",
      "True\n",
      "True\n",
      "True\n",
      "True\n",
      "True\n",
      "True\n",
      "True\n",
      "True\n",
      "True\n",
      "Checked CSV Created for: CT-CRT-26\n",
      "True\n",
      "True\n",
      "True\n",
      "True\n",
      "True\n",
      "True\n",
      "True\n",
      "True\n",
      "True\n",
      "True\n",
      "Checked CSV Created for: CT-CRT-27\n",
      "True\n",
      "True\n",
      "True\n",
      "True\n",
      "True\n",
      "True\n",
      "True\n",
      "True\n",
      "True\n",
      "True\n",
      "Checked CSV Created for: CT-CRT-28\n",
      "True\n",
      "True\n",
      "True\n",
      "True\n",
      "True\n",
      "True\n",
      "True\n",
      "True\n",
      "True\n",
      "True\n",
      "Checked CSV Created for: CT-CRT-29\n",
      "True\n",
      "True\n",
      "True\n",
      "True\n",
      "True\n",
      "True\n",
      "True\n",
      "True\n",
      "True\n",
      "True\n",
      "Checked CSV Created for: CT-CRT-30\n",
      "True\n",
      "True\n",
      "True\n",
      "True\n",
      "True\n",
      "True\n",
      "True\n",
      "True\n",
      "True\n",
      "True\n",
      "Checked CSV Created for: CT-CRT-32\n",
      "True\n",
      "True\n",
      "True\n",
      "True\n",
      "True\n",
      "True\n",
      "True\n",
      "True\n",
      "True\n",
      "True\n",
      "Checked CSV Created for: EBR-01\n",
      "True\n",
      "True\n",
      "True\n",
      "True\n",
      "True\n",
      "True\n",
      "True\n",
      "True\n",
      "True\n",
      "True\n",
      "Checked CSV Created for: EBR-02\n"
     ]
    }
   ],
   "source": [
    "for Case in ('CT-CRT-21', 'CT-CRT-24', 'CT-CRT-25', 'CT-CRT-26', 'CT-CRT-27',\n",
    "             'CT-CRT-28', 'CT-CRT-29', 'CT-CRT-30', 'CT-CRT-32', 'EBR-01', 'EBR-02'):\n",
    "    \n",
    "    for (PV1,PV2) in [('LAA', 'LS'), ('LAA', 'LI'), ('LAA','RS'), ('LAA','RI'),\n",
    "                 ('LS', 'LI'), ('LS', 'RS'), ('LS', 'RI'),\n",
    "                 ('LI', 'RS'), ('LI', 'RI'),\n",
    "                 ('RS', 'RI')]:\n",
    "        \n",
    "        CHECK_CSV_Creation_PV1_PV2_pC_pC_distances_SingleSW_BE(Case, \"MT-TDownsampled\", PV1, PV2)\n",
    "        \n",
    "    print(f'Checked CSV Created for: {Case}')"
   ]
  },
  {
   "cell_type": "code",
   "execution_count": 18,
   "metadata": {},
   "outputs": [
    {
     "name": "stdout",
     "output_type": "stream",
     "text": [
      "True\n",
      "True\n",
      "True\n",
      "True\n",
      "True\n",
      "True\n",
      "Checked CSV Created for: CT-CRT-23\n"
     ]
    }
   ],
   "source": [
    "Case = 'CT-CRT-23'\n",
    "\n",
    "for (PV1,PV2) in [('LAA', 'LS'), ('LAA','RS'), ('LAA','RI'),\n",
    "                  ('LS', 'RS'), ('LS', 'RI'),\n",
    "                  ('RS', 'RI')]:\n",
    "        \n",
    "    CHECK_CSV_Creation_PV1_PV2_pC_pC_distances_SingleSW_BE(Case, \"MT-TDownsampled\", PV1, PV2)\n",
    "        \n",
    "print(f'Checked CSV Created for: {Case}')"
   ]
  },
  {
   "cell_type": "markdown",
   "metadata": {},
   "source": [
    "## CSV Creation MV Error"
   ]
  },
  {
   "cell_type": "code",
   "execution_count": null,
   "metadata": {},
   "outputs": [],
   "source": [
    "# This function creates a 9x7 csv table of MV absolute e\n",
    "\n",
    "def CSV_Creation_MV_AbsoluteErrors(Case, Res):\n",
    "    \n",
    "    MV_errors = []\n",
    "    \n",
    "    for BE in ['4e-6', '1e-6', '4e-7', '1e-7', '4e-8', '1e-8', '4e-9', '1e-9', '4e-10']:\n",
    "        for SW in ['9e-2', '3e-2', '9e-3', '3e-3', '9e-4', '3e-4', '0.0']:\n",
    "            MV_error = pd.read_csv(f'/home/csi20local/Data/RG_CT_Cases/{Case}/{Res}/SW-{SW}-BE-{BE}/MV-distance.txt')\n",
    "            MV_error = MV_error.columns[0]\n",
    "            MV_errors.append(MV_error)\n",
    "            \n",
    "    reshaped_array = np.reshape(np.array(MV_errors), (9,7))\n",
    "    \n",
    "    df = pd.DataFrame(reshaped_array, columns=['9e-2', '3e-2', '9e-3', '3e-3', '9e-4', '3e-4', '0.0'], \n",
    "                  index=['4e-6', '1e-6', '4e-7', '1e-7', '4e-8', '1e-8', '4e-9', '1e-9', '4e-10'])\n",
    "    \n",
    "    df.to_csv(f'/home/csi20local/Data/RG_CT_Cases/{Case}/{Res}-MV-AbsoluteError.csv', sep=' ')"
   ]
  },
  {
   "cell_type": "code",
   "execution_count": 19,
   "metadata": {},
   "outputs": [],
   "source": [
    "# This function creates a 9x7 csv table of MV absolute e\n",
    "\n",
    "def CSV_Creation_MV_AbsoluteErrors_SingleSW_BE(Case, Res):\n",
    "    \n",
    "    MV_errors = []\n",
    "    \n",
    "    for BE in ['4e-7']:\n",
    "        for SW in ['9e-3']:\n",
    "            MV_error = pd.read_csv(f'/home/csi20local/Data/RG_CT_Cases/{Case}/{Res}/SW-{SW}-BE-{BE}/MV-distance.txt')\n",
    "            MV_error = MV_error.columns[0]\n",
    "            MV_errors.append(MV_error)\n",
    "            \n",
    "    reshaped_array = np.reshape(np.array(MV_errors), (1,1))\n",
    "    \n",
    "    df = pd.DataFrame(reshaped_array, columns=['9e-3'], \n",
    "                  index=['4e-7'])\n",
    "    \n",
    "    df.to_csv(f'/home/csi20local/Data/RG_CT_Cases/{Case}/{Res}-MV-AbsoluteError.csv', sep=' ')"
   ]
  },
  {
   "cell_type": "code",
   "execution_count": null,
   "metadata": {},
   "outputs": [],
   "source": [
    "# This function creates a 9x7 csv table of MV absolute e\n",
    "\n",
    "def CSV_Creation_MV_AbsoluteErrors_SingleSW_BE_Dropbox(Case, Res):\n",
    "    \n",
    "    MV_errors = []\n",
    "    \n",
    "    for BE in ['4e-7']:\n",
    "        for SW in ['9e-3']:\n",
    "            MV_error = pd.read_csv(f'/home/csi20local/Dropbox/RG_CT_Cases/{Case}/{Res}/SW-{SW}-BE-{BE}/MV-distance.txt')\n",
    "            MV_error = MV_error.columns[0]\n",
    "            MV_errors.append(MV_error)\n",
    "            \n",
    "    reshaped_array = np.reshape(np.array(MV_errors), (1,1))\n",
    "    \n",
    "    df = pd.DataFrame(reshaped_array, columns=['9e-3'], \n",
    "                  index=['4e-7'])\n",
    "    \n",
    "    df.to_csv(f'/home/csi20local/Dropbox/RG_CT_Cases/{Case}/{Res}-MV-AbsoluteError.csv', sep=' ')"
   ]
  },
  {
   "cell_type": "markdown",
   "metadata": {},
   "source": [
    "## Implementation"
   ]
  },
  {
   "cell_type": "code",
   "execution_count": null,
   "metadata": {},
   "outputs": [],
   "source": [
    "Cases = ('17', '18', '14')\n",
    "\n",
    "for Case in Cases:\n",
    "    print(Case)\n",
    "    \n",
    "    CSV_Creation_MV_AbsoluteErrors(Case, \"MT-HiRes\")"
   ]
  },
  {
   "cell_type": "code",
   "execution_count": 12,
   "metadata": {},
   "outputs": [
    {
     "name": "stdout",
     "output_type": "stream",
     "text": [
      "Normal-1\n",
      "Normal-3\n"
     ]
    }
   ],
   "source": [
    "Cases = ('1', '3')\n",
    "Cases = ['Normal-' + i for i in Cases]\n",
    "\n",
    "for Case in Cases:\n",
    "    print(Case)\n",
    "    \n",
    "    CSV_Creation_MV_AbsoluteErrors(Case, \"MT-HiRes\")"
   ]
  },
  {
   "cell_type": "code",
   "execution_count": 38,
   "metadata": {},
   "outputs": [
    {
     "name": "stdout",
     "output_type": "stream",
     "text": [
      "CT-CRT-19\n",
      "CT-CRT-20\n"
     ]
    }
   ],
   "source": [
    "Cases = ('19', '20')\n",
    "Cases = ['CT-CRT-' + i for i in Cases]\n",
    "\n",
    "for Case in Cases:\n",
    "    print(Case)\n",
    "    \n",
    "    CSV_Creation_MV_AbsoluteErrors_SingleSW_BE_Dropbox(Case, \"MT\")"
   ]
  },
  {
   "cell_type": "code",
   "execution_count": 23,
   "metadata": {},
   "outputs": [
    {
     "name": "stdout",
     "output_type": "stream",
     "text": [
      "CT-CRT-21\n",
      "CT-CRT-23\n",
      "CT-CRT-24\n",
      "CT-CRT-25\n",
      "CT-CRT-26\n",
      "CT-CRT-27\n",
      "CT-CRT-28\n",
      "CT-CRT-29\n",
      "CT-CRT-30\n",
      "CT-CRT-32\n",
      "EBR-01\n",
      "EBR-02\n"
     ]
    }
   ],
   "source": [
    "Cases = ('CT-CRT-21', 'CT-CRT-23', 'CT-CRT-24', 'CT-CRT-25', 'CT-CRT-26', 'CT-CRT-27',\n",
    "             'CT-CRT-28', 'CT-CRT-29', 'CT-CRT-30', 'CT-CRT-32', 'EBR-01', 'EBR-02')\n",
    "\n",
    "for Case in Cases:\n",
    "    print(Case)\n",
    "    \n",
    "    CSV_Creation_MV_AbsoluteErrors_SingleSW_BE(Case, \"MT-TDownsampled\")"
   ]
  },
  {
   "cell_type": "markdown",
   "metadata": {},
   "source": [
    "## Check CSV Creation for MV"
   ]
  },
  {
   "cell_type": "code",
   "execution_count": null,
   "metadata": {},
   "outputs": [],
   "source": [
    "## This function checks the CSV file created for MV Absolute errors \n",
    "\n",
    "def CHECK_CSV_Creation_MV_Errors(Case, Res):\n",
    "    \n",
    "    MV_csv = pd.read_csv(f\"/home/csi20local/Data/RG_CT_Cases/{Case}/{Res}-MV-AbsoluteError.csv\",\n",
    "                            sep=' ', index_col=0)\n",
    "    \n",
    "    status = True\n",
    "    \n",
    "    for BE in ['4e-6', '1e-6', '4e-7', '1e-7', '4e-8', '1e-8', '4e-9', '1e-9', '4e-10']:\n",
    "        for SW in ['9e-2', '3e-2', '9e-3', '3e-3', '9e-4', '3e-4', '0.0']:\n",
    "            MV_txt = pd.read_csv(f\"/home/csi20local/Data/RG_CT_Cases/{Case}/{Res}/SW-{SW}-BE-{BE}/MV-distance.txt\")\n",
    "            MV_txt = MV_txt.columns[0]\n",
    "                \n",
    "\n",
    "            if (round(float(MV_txt), 6) == round(MV_csv[f'{SW}'][float(BE)], 6)):\n",
    "                status = True\n",
    "                    \n",
    "            else:\n",
    "                print(f\"Problem with Case {Case}, Error at BE {BE} SW {SW}\")\n",
    "                status=False\n",
    "                break\n",
    "    \n",
    "\n",
    "    return print(status)"
   ]
  },
  {
   "cell_type": "code",
   "execution_count": 22,
   "metadata": {},
   "outputs": [],
   "source": [
    "## This function checks the CSV file created for MV Absolute errors \n",
    "\n",
    "def CHECK_CSV_Creation_MV_Errors_SingleSW_BE(Case, Res):\n",
    "    \n",
    "    MV_csv = pd.read_csv(f\"/home/csi20local/Data/RG_CT_Cases/{Case}/{Res}-MV-AbsoluteError.csv\",\n",
    "                            sep=' ', index_col=0)\n",
    "    \n",
    "    status = True\n",
    "    \n",
    "    for BE in ['4e-7']:\n",
    "        for SW in ['9e-3']:\n",
    "            MV_txt = pd.read_csv(f\"/home/csi20local/Data/RG_CT_Cases/{Case}/{Res}/SW-{SW}-BE-{BE}/MV-distance.txt\")\n",
    "            MV_txt = MV_txt.columns[0]\n",
    "                \n",
    "\n",
    "            if (round(float(MV_txt), 6) == round(MV_csv[f'{SW}'][float(BE)], 6)):\n",
    "                status = True\n",
    "                    \n",
    "            else:\n",
    "                print(f\"Problem with Case {Case}, Error at BE {BE} SW {SW}\")\n",
    "                status=False\n",
    "                break\n",
    "    \n",
    "\n",
    "    return print(status)"
   ]
  },
  {
   "cell_type": "code",
   "execution_count": null,
   "metadata": {},
   "outputs": [],
   "source": [
    "## This function checks the CSV file created for MV Absolute errors \n",
    "\n",
    "def CHECK_CSV_Creation_MV_Errors_SingleSW_BE_Dropbox(Case, Res):\n",
    "    \n",
    "    MV_csv = pd.read_csv(f\"/home/csi20local/Dropbox/RG_CT_Cases/{Case}/{Res}-MV-AbsoluteError.csv\",\n",
    "                            sep=' ', index_col=0)\n",
    "    \n",
    "    status = True\n",
    "    \n",
    "    for BE in ['4e-7']:\n",
    "        for SW in ['9e-3']:\n",
    "            MV_txt = pd.read_csv(f\"/home/csi20local/Dropbox/RG_CT_Cases/{Case}/{Res}/SW-{SW}-BE-{BE}/MV-distance.txt\")\n",
    "            MV_txt = MV_txt.columns[0]\n",
    "                \n",
    "\n",
    "            if (round(float(MV_txt), 6) == round(MV_csv[f'{SW}'][float(BE)], 6)):\n",
    "                status = True\n",
    "                    \n",
    "            else:\n",
    "                print(f\"Problem with Case {Case}, Error at BE {BE} SW {SW}\")\n",
    "                status=False\n",
    "                break\n",
    "    \n",
    "\n",
    "    return print(status)"
   ]
  },
  {
   "cell_type": "markdown",
   "metadata": {},
   "source": [
    "## Implementation"
   ]
  },
  {
   "cell_type": "code",
   "execution_count": 12,
   "metadata": {},
   "outputs": [
    {
     "name": "stdout",
     "output_type": "stream",
     "text": [
      "CT-CRT-21\n",
      "True\n",
      "CT-CRT-26\n",
      "True\n",
      "CT-CRT-28\n",
      "True\n",
      "CT-CRT-29\n",
      "True\n",
      "CT-CRT-32\n",
      "True\n",
      "EBR-02\n",
      "True\n"
     ]
    }
   ],
   "source": [
    "Cases = ('21', '26', '28', '29', '32')\n",
    "Cases = ['CT-CRT-' + i for i in Cases]\n",
    "Cases.append('EBR-02')\n",
    "\n",
    "for Case in Cases:\n",
    "    print(Case)\n",
    "    \n",
    "    CHECK_CSV_Creation_MV_Errors(Case, \"MT-HiRes-TDownsampled\")"
   ]
  },
  {
   "cell_type": "code",
   "execution_count": 41,
   "metadata": {},
   "outputs": [
    {
     "name": "stdout",
     "output_type": "stream",
     "text": [
      "CT-CRT-10\n",
      "True\n",
      "CT-CRT-14\n",
      "True\n",
      "CT-CRT-17\n",
      "True\n",
      "Normal-1\n",
      "True\n",
      "Normal-3\n",
      "True\n"
     ]
    }
   ],
   "source": [
    "Cases = ('10', '14', '17')\n",
    "Cases = ['CT-CRT-' + i for i in Cases]\n",
    "Cases.append('Normal-1')\n",
    "Cases.append('Normal-3')\n",
    "\n",
    "for Case in Cases:\n",
    "    print(Case)\n",
    "    \n",
    "    CHECK_CSV_Creation_MV_Errors_SingleSW_BE(Case, \"MT\")"
   ]
  },
  {
   "cell_type": "code",
   "execution_count": 24,
   "metadata": {},
   "outputs": [
    {
     "name": "stdout",
     "output_type": "stream",
     "text": [
      "CT-CRT-21\n",
      "True\n",
      "CT-CRT-23\n",
      "True\n",
      "CT-CRT-24\n",
      "True\n",
      "CT-CRT-25\n",
      "True\n",
      "CT-CRT-26\n",
      "True\n",
      "CT-CRT-27\n",
      "True\n",
      "CT-CRT-28\n",
      "True\n",
      "CT-CRT-29\n",
      "True\n",
      "CT-CRT-30\n",
      "True\n",
      "CT-CRT-32\n",
      "True\n",
      "EBR-01\n",
      "True\n",
      "EBR-02\n",
      "True\n"
     ]
    }
   ],
   "source": [
    "Cases = ('CT-CRT-21', 'CT-CRT-23', 'CT-CRT-24', 'CT-CRT-25', 'CT-CRT-26', 'CT-CRT-27',\n",
    "             'CT-CRT-28', 'CT-CRT-29', 'CT-CRT-30', 'CT-CRT-32', 'EBR-01', 'EBR-02')\n",
    "\n",
    "for Case in Cases:\n",
    "    print(Case)\n",
    "    \n",
    "    CHECK_CSV_Creation_MV_Errors_SingleSW_BE(Case, \"MT-TDownsampled\")"
   ]
  },
  {
   "cell_type": "code",
   "execution_count": null,
   "metadata": {},
   "outputs": [],
   "source": []
  }
 ],
 "metadata": {
  "kernelspec": {
   "display_name": "Python 3",
   "language": "python",
   "name": "python3"
  },
  "language_info": {
   "codemirror_mode": {
    "name": "ipython",
    "version": 3
   },
   "file_extension": ".py",
   "mimetype": "text/x-python",
   "name": "python",
   "nbconvert_exporter": "python",
   "pygments_lexer": "ipython3",
   "version": "3.7.3"
  }
 },
 "nbformat": 4,
 "nbformat_minor": 2
}
