{
 "cells": [
  {
   "cell_type": "markdown",
   "id": "7614c7c2",
   "metadata": {},
   "source": [
    "Notebook for visualising rmse in vertex position according to motion tracking verification"
   ]
  },
  {
   "cell_type": "code",
   "execution_count": 11,
   "id": "e8b1541f",
   "metadata": {},
   "outputs": [],
   "source": [
    "import numpy as np\n",
    "import pandas as pd\n",
    "import matplotlib.pyplot as plt\n",
    "import seaborn as sns\n",
    "from sklearn.metrics import mean_squared_error\n",
    "from hrs_23_figures import *\n",
    "\n",
    "## All 30 Cases\n",
    "\n",
    "all_cases = ['01', '02', '05', '06', '07', '08', '09', '12', '14',\n",
    "             '15', '16', '17', '18', '21', '24', '27', '28', '29', '30',\n",
    "             '32', '10', '19', '20', '23', '26', '31', '25', '34']\n",
    "all_cases = [f\"CT-CRT/case{case}\" for case in all_cases]\n",
    "\n",
    "ebr=['EBR/case01', 'EBR/case02']\n",
    "\n",
    "all_cases=all_cases+ebr\n",
    "\n",
    "len(all_cases)\n",
    "\n",
    "## 20 frame cases\n",
    "f20_cases = ['21', '23', '24', '25', '26', '27', '28', '29', '30', '31', '32', '34']\n",
    "f20_cases = [f'CT-CRT/case{case_ind}' for case_ind in f20_cases]\n",
    "ebr=['EBR/case01', 'EBR/case02', 'EBR/case04', 'EBR/case05', 'EBR/case06']\n",
    "f20_cases = f20_cases + ebr"
   ]
  },
  {
   "cell_type": "code",
   "execution_count": 5,
   "id": "99dd4ff4",
   "metadata": {},
   "outputs": [
    {
     "data": {
      "text/plain": [
       "21"
      ]
     },
     "execution_count": 5,
     "metadata": {},
     "output_type": "execute_result"
    }
   ],
   "source": [
    "len(nonaf_cases)"
   ]
  },
  {
   "cell_type": "code",
   "execution_count": 4,
   "id": "cd1aa275",
   "metadata": {},
   "outputs": [
    {
     "data": {
      "text/plain": [
       "9"
      ]
     },
     "execution_count": 4,
     "metadata": {},
     "output_type": "execute_result"
    }
   ],
   "source": [
    "len(af_cases)"
   ]
  },
  {
   "cell_type": "markdown",
   "id": "207f0ef9",
   "metadata": {},
   "source": [
    "# Point-by-Point vertex Discordance\n",
    "\n",
    "## Maximal RMSE and RMSE at t=40%\n",
    "\n",
    "RMSE in vertex coordinates"
   ]
  },
  {
   "cell_type": "code",
   "execution_count": 20,
   "id": "7c76a9d7",
   "metadata": {},
   "outputs": [],
   "source": [
    "# Load Vertex RMSE at t=40% per group\n",
    "\n",
    "vertex_rmse_naf = np.zeros((len(nonaf_cases)))\n",
    "vertex_rmse_af = np.zeros((len(af_cases)))\n",
    "\n",
    "for i in range(0, len(nonaf_cases)):\n",
    "    case=nonaf_cases[i]\n",
    "    \n",
    "    if case in f20_cases:\n",
    "        path=f\"/home/csi20/Dropbox/phd/Data/RG_CT_Cases/{case}/MT-HiRes-TDownsampled/SW-0.0-BE-1e-9/veri_TSFFD/rms_verification.txt\"\n",
    "    \n",
    "    else:\n",
    "        path=f\"/home/csi20/Dropbox/phd/Data/RG_CT_Cases/{case}/MT-HiRes/SW-0.0-BE-1e-9/veri_TSFFD/rms_verification.txt\"\n",
    "\n",
    "    data=np.loadtxt(path)\n",
    "    vertex_rmse_naf[i]=data[3]\n",
    "    \n",
    "for i in range(0, len(af_cases)):\n",
    "    case=af_cases[i]\n",
    "    \n",
    "    if case in f20_cases:\n",
    "        path=f\"/home/csi20/Dropbox/phd/Data/RG_CT_Cases/{case}/MT-HiRes-TDownsampled/SW-0.0-BE-1e-9/veri_TSFFD/rms_verification.txt\"\n",
    "    \n",
    "    else:\n",
    "        path=f\"/home/csi20/Dropbox/phd/Data/RG_CT_Cases/{case}/MT-HiRes/SW-0.0-BE-1e-9/veri_TSFFD/rms_verification.txt\"\n",
    "\n",
    "    data=np.loadtxt(path)\n",
    "    vertex_rmse_af[i]=data[3]"
   ]
  },
  {
   "cell_type": "code",
   "execution_count": 21,
   "id": "cae836ef",
   "metadata": {},
   "outputs": [
    {
     "data": {
      "text/plain": [
       "array([0.23688777, 0.66406113, 0.38928413, 0.31256273, 0.31805658,\n",
       "       0.45333898, 0.39395285, 0.3182213 , 0.55145365])"
      ]
     },
     "execution_count": 21,
     "metadata": {},
     "output_type": "execute_result"
    }
   ],
   "source": [
    "vertex_rmse_af"
   ]
  },
  {
   "cell_type": "code",
   "execution_count": 22,
   "id": "b908cec6",
   "metadata": {},
   "outputs": [
    {
     "name": "stdout",
     "output_type": "stream",
     "text": [
      "Non-AF Group:\n",
      "vertex rmse mean: 0.7789040009180704 pm 0.5996043722481046\n",
      "AF Group:\n",
      "vertex rmse mean: 0.4042021251387066 pm 0.12612047455892447\n"
     ]
    }
   ],
   "source": [
    "print(\"Non-AF Group:\")\n",
    "print(\"vertex rmse mean:\", np.mean(vertex_rmse_naf), \"pm\", np.std(vertex_rmse_naf))\n",
    "\n",
    "print(\"AF Group:\")\n",
    "print(\"vertex rmse mean:\", np.mean(vertex_rmse_af), \"pm\", np.std(vertex_rmse_af))"
   ]
  },
  {
   "cell_type": "markdown",
   "id": "518b5648",
   "metadata": {},
   "source": [
    "# Area Strain\n",
    "## Cell-by-Cell RMSE\n",
    "\n",
    "RMSE on a cell-by-cell basis gives high variation in strain"
   ]
  },
  {
   "cell_type": "code",
   "execution_count": 6,
   "id": "36782e93",
   "metadata": {},
   "outputs": [],
   "source": [
    "## area strain\n",
    "\n",
    "strain_rms_max = np.zeros((len(all_cases),))\n",
    "strain_rms_40 = np.zeros((len(all_cases),))\n",
    "\n",
    "for i in range(0,len(all_cases)):\n",
    "    case=all_cases[i]\n",
    "#     print(case)\n",
    "    \n",
    "    if case in f20_cases:\n",
    "        path=f\"/home/csi20local/Data/RG_CT_Cases/{case}/MT-HiRes-TDownsampled/SW-0.0-BE-1e-9/veri/area_strain_rmse.txt\"\n",
    "    \n",
    "    else:\n",
    "        path=f\"/home/csi20local/Data/RG_CT_Cases/{case}/MT-HiRes/SW-0.0-BE-1e-9/veri/area_strain_rmse.txt\"\n",
    "        \n",
    "    data=np.loadtxt(path)\n",
    "    \n",
    "    strain_rms_max[i] = max(data)\n",
    "    strain_rms_40[i] = data[3]"
   ]
  },
  {
   "cell_type": "markdown",
   "id": "25988f3f",
   "metadata": {},
   "source": [
    "## Global Transients RMSE\n",
    "\n",
    "RMSE over the global strain transients"
   ]
  },
  {
   "cell_type": "code",
   "execution_count": 25,
   "id": "ab1c33f2",
   "metadata": {},
   "outputs": [],
   "source": [
    "regions=['global', 'roof', 'sept', 'lat', 'ant', 'post']"
   ]
  },
  {
   "cell_type": "markdown",
   "id": "56cd92e8",
   "metadata": {},
   "source": [
    "### Area Strains"
   ]
  },
  {
   "cell_type": "code",
   "execution_count": 27,
   "id": "6d3efb82",
   "metadata": {},
   "outputs": [],
   "source": [
    "# Load global strain transients per group\n",
    "# Enables RMSE calc\n",
    "\n",
    "## Strain transients\n",
    "area_rmse_naf = np.zeros((len(nonaf_cases), len(regions)))\n",
    "area_rmse_af = np.zeros((len(af_cases), len(regions)))\n",
    "\n",
    "for i in range(0, len(nonaf_cases)):\n",
    "    case=nonaf_cases[i]\n",
    "    \n",
    "    if case in f20_cases:\n",
    "        trackingPath=f\"/home/csi20/Dropbox/phd/Data/RG_CT_Cases/{case}/MT-HiRes-TDownsampled/SW-0.0-BE-1e-9\"\n",
    "        veriTrackingPath=f\"{trackingPath}/veri_TSFFD\"\n",
    "        \n",
    "    else:\n",
    "        trackingPath=f\"/home/csi20/Dropbox/phd/Data/RG_CT_Cases/{case}/MT-HiRes/SW-0.0-BE-1e-9\"\n",
    "        veriTrackingPath=f\"{trackingPath}/veri_TSFFD\"\n",
    "        \n",
    "    for j in range(0, len(regions)):\n",
    "        region=regions[j]\n",
    "        \n",
    "        gtPath = f\"{trackingPath}/area_meanstrains_{region}_excl_PVs.txt\"\n",
    "        simPath = f\"{veriTrackingPath}/area_meanstrains_{region}_excl_PVs.txt\"\n",
    "        \n",
    "        data_gt=np.loadtxt(gtPath)\n",
    "        data_sim=np.loadtxt(simPath)\n",
    "        \n",
    "        rmse=mean_squared_error(data_gt, data_sim, squared=False)\n",
    "        area_rmse_naf[i, j]=rmse\n",
    "        \n",
    "            \n",
    "for i in range(0, len(af_cases)):\n",
    "    case=af_cases[i]\n",
    "    \n",
    "    if case in f20_cases:\n",
    "        trackingPath=f\"/home/csi20/Dropbox/phd/Data/RG_CT_Cases/{case}/MT-HiRes-TDownsampled/SW-0.0-BE-1e-9\"\n",
    "        veriTrackingPath=f\"{trackingPath}/veri_TSFFD\"\n",
    "        \n",
    "    else:\n",
    "        trackingPath=f\"/home/csi20/Dropbox/phd/Data/RG_CT_Cases/{case}/MT-HiRes/SW-0.0-BE-1e-9\"\n",
    "        veriTrackingPath=f\"{trackingPath}/veri_TSFFD\"\n",
    "        \n",
    "    for j in range(0, len(regions)):\n",
    "        region=regions[j]\n",
    "        \n",
    "        gtPath = f\"{trackingPath}/area_meanstrains_{region}_excl_PVs.txt\"\n",
    "        simPath = f\"{veriTrackingPath}/area_meanstrains_{region}_excl_PVs.txt\"\n",
    "        \n",
    "        data_gt=np.loadtxt(gtPath)\n",
    "        data_sim=np.loadtxt(simPath)\n",
    "    \n",
    "        rmse=mean_squared_error(data_gt, data_sim, squared=False)\n",
    "        area_rmse_af[i, j]=rmse"
   ]
  },
  {
   "cell_type": "markdown",
   "id": "ab114c02",
   "metadata": {},
   "source": [
    "#### Print out mean pm std"
   ]
  },
  {
   "cell_type": "code",
   "execution_count": 36,
   "id": "abc40439",
   "metadata": {},
   "outputs": [
    {
     "name": "stdout",
     "output_type": "stream",
     "text": [
      "Area strain RMSE\n",
      "global\t 0.40643451593618835 \tpm\t 0.36664196384588776\n",
      "roof\t 1.0825220243691616 \tpm\t 0.7963115012326146\n",
      "sept\t 1.3089302791657849 \tpm\t 0.634209564524855\n",
      "lat\t 1.4869556139610087 \tpm\t 0.8080345905462923\n",
      "ant\t 1.2332777494909746 \tpm\t 0.6383509183402194\n",
      "post\t 0.7913663470289637 \tpm\t 0.38116256105689245\n"
     ]
    }
   ],
   "source": [
    "area_rmse_af.mean(axis=0)\n",
    "\n",
    "print(\"Area strain RMSE\")\n",
    "\n",
    "for i in range(0, len(regions)):\n",
    "    print(f\"{regions[i]}\\t\", area_rmse_af.mean(axis=0)[i], \"\\tpm\\t\", area_rmse_af.std(axis=0)[i])"
   ]
  },
  {
   "cell_type": "markdown",
   "id": "717a497a",
   "metadata": {},
   "source": [
    "#### Print out median"
   ]
  },
  {
   "cell_type": "code",
   "execution_count": 43,
   "id": "cef04b6e",
   "metadata": {},
   "outputs": [
    {
     "name": "stdout",
     "output_type": "stream",
     "text": [
      "Area strain RMSE\n",
      "global\t 0.49830896442228984\n",
      "roof\t 0.9113520644486193\n",
      "sept\t 1.571949516066055\n",
      "lat\t 3.217307244292312\n",
      "ant\t 1.7402002322440422\n",
      "post\t 1.4908929262042538\n"
     ]
    }
   ],
   "source": [
    "print(\"Area strain RMSE\")\n",
    "\n",
    "for i in range(0, len(regions)):\n",
    "    print(f\"{regions[i]}\\t\", np.median(area_rmse_naf[:, i]))"
   ]
  },
  {
   "cell_type": "code",
   "execution_count": 31,
   "id": "374c6106",
   "metadata": {},
   "outputs": [
    {
     "data": {
      "text/plain": [
       "array([1.54333318, 1.0285508 , 2.05467496, 5.74606997, 1.34638995,\n",
       "       3.61819957])"
      ]
     },
     "execution_count": 31,
     "metadata": {},
     "output_type": "execute_result"
    }
   ],
   "source": [
    "area_rmse_naf.std(axis=0)"
   ]
  },
  {
   "cell_type": "markdown",
   "id": "b205ee7d",
   "metadata": {},
   "source": [
    "### Fiber Strains"
   ]
  },
  {
   "cell_type": "code",
   "execution_count": 56,
   "id": "706d68c9",
   "metadata": {},
   "outputs": [],
   "source": [
    "# Load global strain transients per group\n",
    "# Enables RMSE calc\n",
    "\n",
    "## Strain transients\n",
    "f_rmse_naf = np.zeros((len(nonaf_cases), len(regions)))\n",
    "f_rmse_af = np.zeros((len(af_cases), len(regions)))\n",
    "\n",
    "for i in range(0, len(nonaf_cases)):\n",
    "    case=nonaf_cases[i]\n",
    "    \n",
    "    if case in f20_cases:\n",
    "        trackingPath=f\"/home/csi20/Dropbox/phd/Data/RG_CT_Cases/{case}/MT-HiRes-TDownsampled/SW-0.0-BE-1e-9\"\n",
    "        veriTrackingPath=f\"{trackingPath}/veri_TSFFD\"\n",
    "        \n",
    "    else:\n",
    "        trackingPath=f\"/home/csi20/Dropbox/phd/Data/RG_CT_Cases/{case}/MT-HiRes/SW-0.0-BE-1e-9\"\n",
    "        veriTrackingPath=f\"{trackingPath}/veri_TSFFD\"\n",
    "        \n",
    "    for j in range(0, len(regions)):\n",
    "        region=regions[j]\n",
    "        \n",
    "        gtPath = f\"{trackingPath}/percent_regional_strains/endo_avg_excl_PVs_percent_meanstrains_{region}.txt\"\n",
    "        simPath = f\"{veriTrackingPath}/endo_avg_meanstrains_{region}.txt\"\n",
    "        \n",
    "        data_gt=np.loadtxt(gtPath)[0, :]\n",
    "        data_sim=np.loadtxt(simPath)[0, :]\n",
    "        \n",
    "        rmse=mean_squared_error(data_gt, data_sim, squared=False)\n",
    "        f_rmse_naf[i, j]=rmse\n",
    "        \n",
    "            \n",
    "for i in range(0, len(af_cases)):\n",
    "    case=af_cases[i]\n",
    "    \n",
    "    if case in f20_cases:\n",
    "        trackingPath=f\"/home/csi20/Dropbox/phd/Data/RG_CT_Cases/{case}/MT-HiRes-TDownsampled/SW-0.0-BE-1e-9\"\n",
    "        veriTrackingPath=f\"{trackingPath}/veri_TSFFD\"\n",
    "        \n",
    "    else:\n",
    "        trackingPath=f\"/home/csi20/Dropbox/phd/Data/RG_CT_Cases/{case}/MT-HiRes/SW-0.0-BE-1e-9\"\n",
    "        veriTrackingPath=f\"{trackingPath}/veri_TSFFD\"\n",
    "        \n",
    "    for j in range(0, len(regions)):\n",
    "        region=regions[j]\n",
    "        \n",
    "        gtPath = f\"{trackingPath}/percent_regional_strains/endo_avg_excl_PVs_percent_meanstrains_{region}.txt\"\n",
    "        simPath = f\"{veriTrackingPath}/endo_avg_meanstrains_{region}.txt\"\n",
    "        \n",
    "        data_gt=np.loadtxt(gtPath)[0, :]\n",
    "        data_sim=np.loadtxt(simPath)[0, :]\n",
    "    \n",
    "        rmse=mean_squared_error(data_gt, data_sim, squared=False)\n",
    "        f_rmse_af[i, j]=rmse"
   ]
  },
  {
   "cell_type": "markdown",
   "id": "27e36221",
   "metadata": {},
   "source": [
    "#### Print out mean pm std"
   ]
  },
  {
   "cell_type": "code",
   "execution_count": 63,
   "id": "17ac6ff4",
   "metadata": {
    "scrolled": true
   },
   "outputs": [
    {
     "name": "stdout",
     "output_type": "stream",
     "text": [
      "Fiber strain RMSE\n",
      "global\t 0.9393423581861093 \tpm\t 0.8441742162459303\n",
      "roof\t 1.2247855261214067 \tpm\t 1.159670581709773\n",
      "sept\t 2.1208026319171718 \tpm\t 1.9781928113942675\n",
      "lat\t 3.2163873704050805 \tpm\t 2.643980274377138\n",
      "ant\t 1.6090577057860578 \tpm\t 1.4673589660931534\n",
      "post\t 1.12915668126913 \tpm\t 0.8274999461126685\n"
     ]
    }
   ],
   "source": [
    "print(\"Fiber strain RMSE\")\n",
    "\n",
    "for i in range(0, len(regions)):\n",
    "    print(f\"{regions[i]}\\t\", f_rmse_naf.mean(axis=0)[i], \"\\tpm\\t\", f_rmse_naf.std(axis=0)[i])"
   ]
  },
  {
   "cell_type": "code",
   "execution_count": 64,
   "id": "4cfee362",
   "metadata": {},
   "outputs": [
    {
     "name": "stdout",
     "output_type": "stream",
     "text": [
      "Fiber strain RMSE\n",
      "global\t 0.37482682637774134 \tpm\t 0.20980606595306278\n",
      "roof\t 0.7957371725114949 \tpm\t 0.6392172144853469\n",
      "sept\t 1.170878958773389 \tpm\t 0.4951989249998318\n",
      "lat\t 1.0774600695218148 \tpm\t 0.5758523372562365\n",
      "ant\t 0.8552870430501786 \tpm\t 0.324598049818289\n",
      "post\t 0.5618707784153119 \tpm\t 0.20113642534784842\n"
     ]
    }
   ],
   "source": [
    "print(\"Fiber strain RMSE\")\n",
    "\n",
    "for i in range(0, len(regions)):\n",
    "    print(f\"{regions[i]}\\t\", f_rmse_af.mean(axis=0)[i], \"\\tpm\\t\", f_rmse_af.std(axis=0)[i])"
   ]
  },
  {
   "cell_type": "markdown",
   "id": "1a318396",
   "metadata": {},
   "source": [
    "#### Print out median"
   ]
  },
  {
   "cell_type": "code",
   "execution_count": 67,
   "id": "1b42160f",
   "metadata": {},
   "outputs": [
    {
     "name": "stdout",
     "output_type": "stream",
     "text": [
      "Fiber strain RMSE\n",
      "global\t 0.6026099314350007\n",
      "roof\t 0.7831512217452159\n",
      "sept\t 1.5044810997524303\n",
      "lat\t 2.4976915950446483\n",
      "ant\t 0.9121505772667589\n",
      "post\t 0.8921101218493651\n"
     ]
    }
   ],
   "source": [
    "print(\"Fiber strain RMSE\")\n",
    "\n",
    "for i in range(0, len(regions)):\n",
    "    print(f\"{regions[i]}\\t\", np.median(f_rmse_naf[:, i]))"
   ]
  },
  {
   "cell_type": "code",
   "execution_count": 69,
   "id": "2efec60c",
   "metadata": {},
   "outputs": [
    {
     "name": "stdout",
     "output_type": "stream",
     "text": [
      "Fiber strain RMSE\n",
      "global\t 0.2994803842615658\n",
      "roof\t 0.5691027400704903\n",
      "sept\t 1.0103439240642058\n",
      "lat\t 1.1288810569222005\n",
      "ant\t 0.7721434902188362\n",
      "post\t 0.5636124662301105\n"
     ]
    }
   ],
   "source": [
    "print(\"Fiber strain RMSE\")\n",
    "\n",
    "for i in range(0, len(regions)):\n",
    "    print(f\"{regions[i]}\\t\", np.median(f_rmse_af[:, i]))"
   ]
  },
  {
   "cell_type": "markdown",
   "id": "80387531",
   "metadata": {},
   "source": [
    "## Absolute Differences"
   ]
  },
  {
   "cell_type": "markdown",
   "id": "670fae79",
   "metadata": {},
   "source": [
    "### Area Strains"
   ]
  },
  {
   "cell_type": "code",
   "execution_count": 78,
   "id": "4ee0a50f",
   "metadata": {},
   "outputs": [],
   "source": [
    "# Load global strain transients per group\n",
    "# Enables RMSE calc\n",
    "\n",
    "## Strain transients\n",
    "area_abs_naf = np.zeros((len(nonaf_cases), len(regions)))\n",
    "area_abs_af = np.zeros((len(af_cases), len(regions)))\n",
    "\n",
    "for i in range(0, len(nonaf_cases)):\n",
    "    case=nonaf_cases[i]\n",
    "    \n",
    "    if case in f20_cases:\n",
    "        trackingPath=f\"/home/csi20/Dropbox/phd/Data/RG_CT_Cases/{case}/MT-HiRes-TDownsampled/SW-0.0-BE-1e-9\"\n",
    "        veriTrackingPath=f\"{trackingPath}/veri_TSFFD\"\n",
    "        \n",
    "    else:\n",
    "        trackingPath=f\"/home/csi20/Dropbox/phd/Data/RG_CT_Cases/{case}/MT-HiRes/SW-0.0-BE-1e-9\"\n",
    "        veriTrackingPath=f\"{trackingPath}/veri_TSFFD\"\n",
    "        \n",
    "    for j in range(0, len(regions)):\n",
    "        region=regions[j]\n",
    "        \n",
    "        gtPath = f\"{trackingPath}/area_meanstrains_{region}_excl_PVs.txt\"\n",
    "        simPath = f\"{veriTrackingPath}/area_meanstrains_{region}_excl_PVs.txt\"\n",
    "        \n",
    "        data_gt=np.loadtxt(gtPath)\n",
    "        data_sim=np.loadtxt(simPath)\n",
    "        \n",
    "        ## reservoir strains\n",
    "        data_gt=np.ptp(data_gt)\n",
    "        data_sim=np.ptp(data_sim)\n",
    "        \n",
    "        abs_error=np.abs(data_gt-data_sim)\n",
    "        area_abs_naf[i, j]=abs_error\n",
    "        \n",
    "            \n",
    "for i in range(0, len(af_cases)):\n",
    "    case=af_cases[i]\n",
    "    \n",
    "    if case in f20_cases:\n",
    "        trackingPath=f\"/home/csi20/Dropbox/phd/Data/RG_CT_Cases/{case}/MT-HiRes-TDownsampled/SW-0.0-BE-1e-9\"\n",
    "        veriTrackingPath=f\"{trackingPath}/veri_TSFFD\"\n",
    "        \n",
    "    else:\n",
    "        trackingPath=f\"/home/csi20/Dropbox/phd/Data/RG_CT_Cases/{case}/MT-HiRes/SW-0.0-BE-1e-9\"\n",
    "        veriTrackingPath=f\"{trackingPath}/veri_TSFFD\"\n",
    "        \n",
    "    for j in range(0, len(regions)):\n",
    "        region=regions[j]\n",
    "        \n",
    "        gtPath = f\"{trackingPath}/area_meanstrains_{region}_excl_PVs.txt\"\n",
    "        simPath = f\"{veriTrackingPath}/area_meanstrains_{region}_excl_PVs.txt\"\n",
    "        \n",
    "        data_gt=np.loadtxt(gtPath)\n",
    "        data_sim=np.loadtxt(simPath)\n",
    "        \n",
    "        ## reservoir strains\n",
    "        data_gt=np.ptp(data_gt)\n",
    "        data_sim=np.ptp(data_sim)\n",
    "        \n",
    "        abs_error=np.abs(data_gt-data_sim)\n",
    "        area_abs_af[i, j]=abs_error"
   ]
  },
  {
   "cell_type": "markdown",
   "id": "751da90b",
   "metadata": {},
   "source": [
    "#### Print out mean pm std"
   ]
  },
  {
   "cell_type": "code",
   "execution_count": 81,
   "id": "71a4dbc1",
   "metadata": {},
   "outputs": [
    {
     "name": "stdout",
     "output_type": "stream",
     "text": [
      "Area strain Abs\n",
      "global\t 2.0144719613015147 \tpm\t 2.9190410376363722\n",
      "roof\t 1.4236647102659676 \tpm\t 1.5447163072254098\n",
      "sept\t 2.839042493854084 \tpm\t 3.940241587196691\n",
      "lat\t 5.866462073403499 \tpm\t 7.353434215227187\n",
      "ant\t 2.371184305237856 \tpm\t 1.9777731041687379\n",
      "post\t 4.116675148547706 \tpm\t 6.694993926552194\n"
     ]
    }
   ],
   "source": [
    "print(\"Area strain Abs\")\n",
    "\n",
    "for i in range(0, len(regions)):\n",
    "    print(f\"{regions[i]}\\t\", area_abs_naf.mean(axis=0)[i], \"\\tpm\\t\", area_abs_naf.std(axis=0)[i])"
   ]
  },
  {
   "cell_type": "code",
   "execution_count": 82,
   "id": "458957d1",
   "metadata": {},
   "outputs": [
    {
     "name": "stdout",
     "output_type": "stream",
     "text": [
      "Area strain Abs\n",
      "global\t 0.4103362121857265 \tpm\t 0.507010368786263\n",
      "roof\t 2.0967643194236376 \tpm\t 3.2736447142877605\n",
      "sept\t 1.2288089686757209 \tpm\t 0.7964370681746488\n",
      "lat\t 1.6819049691563166 \tpm\t 1.1917307350736996\n",
      "ant\t 1.088820193076116 \tpm\t 0.9003568608628189\n",
      "post\t 0.8231596438086349 \tpm\t 0.7414902118432778\n"
     ]
    }
   ],
   "source": [
    "print(\"Area strain Abs\")\n",
    "\n",
    "for i in range(0, len(regions)):\n",
    "    print(f\"{regions[i]}\\t\", area_abs_af.mean(axis=0)[i], \"\\tpm\\t\", area_abs_af.std(axis=0)[i])"
   ]
  },
  {
   "cell_type": "markdown",
   "id": "39078d23",
   "metadata": {},
   "source": [
    "#### Print out median"
   ]
  },
  {
   "cell_type": "code",
   "execution_count": 91,
   "id": "59a75a39",
   "metadata": {},
   "outputs": [
    {
     "name": "stdout",
     "output_type": "stream",
     "text": [
      "Area strain Abs\n",
      "global\t 0.7532338965701051\n",
      "roof\t 0.9136028751407643\n",
      "sept\t 1.3075756870808632\n",
      "lat\t 2.5087561498369553\n",
      "ant\t 1.9118883463899046\n",
      "post\t 1.0924404781871004\n"
     ]
    }
   ],
   "source": [
    "print(\"Area strain Abs\")\n",
    "\n",
    "for i in range(0, len(regions)):\n",
    "    print(f\"{regions[i]}\\t\", np.median(area_abs_naf, axis=0)[i])"
   ]
  },
  {
   "cell_type": "code",
   "execution_count": 92,
   "id": "e53ad66f",
   "metadata": {},
   "outputs": [
    {
     "name": "stdout",
     "output_type": "stream",
     "text": [
      "Area strain Abs\n",
      "global\t 0.22184497445651807\n",
      "roof\t 0.892005533457751\n",
      "sept\t 1.291587526822255\n",
      "lat\t 1.569049831376823\n",
      "ant\t 0.8860909409287121\n",
      "post\t 0.6862889076757615\n"
     ]
    }
   ],
   "source": [
    "print(\"Area strain Abs\")\n",
    "\n",
    "for i in range(0, len(regions)):\n",
    "    print(f\"{regions[i]}\\t\", np.median(area_abs_af, axis=0)[i])"
   ]
  },
  {
   "cell_type": "markdown",
   "id": "13c9efd0",
   "metadata": {},
   "source": [
    "## Fiber Strains"
   ]
  },
  {
   "cell_type": "code",
   "execution_count": 93,
   "id": "8d042a06",
   "metadata": {},
   "outputs": [],
   "source": [
    "# Load global strain transients per group\n",
    "# Enables RMSE calc\n",
    "\n",
    "## Strain transients\n",
    "f_abs_naf = np.zeros((len(nonaf_cases), len(regions)))\n",
    "f_abs_af = np.zeros((len(af_cases), len(regions)))\n",
    "\n",
    "for i in range(0, len(nonaf_cases)):\n",
    "    case=nonaf_cases[i]\n",
    "    \n",
    "    if case in f20_cases:\n",
    "        trackingPath=f\"/home/csi20/Dropbox/phd/Data/RG_CT_Cases/{case}/MT-HiRes-TDownsampled/SW-0.0-BE-1e-9\"\n",
    "        veriTrackingPath=f\"{trackingPath}/veri_TSFFD\"\n",
    "        \n",
    "    else:\n",
    "        trackingPath=f\"/home/csi20/Dropbox/phd/Data/RG_CT_Cases/{case}/MT-HiRes/SW-0.0-BE-1e-9\"\n",
    "        veriTrackingPath=f\"{trackingPath}/veri_TSFFD\"\n",
    "        \n",
    "    for j in range(0, len(regions)):\n",
    "        region=regions[j]\n",
    "        \n",
    "        gtPath = f\"{trackingPath}/percent_regional_strains/endo_avg_excl_PVs_percent_meanstrains_{region}.txt\"\n",
    "        simPath = f\"{veriTrackingPath}/endo_avg_meanstrains_{region}.txt\"\n",
    "        \n",
    "        data_gt=np.loadtxt(gtPath)[0, :]\n",
    "        data_sim=np.loadtxt(simPath)[0, :]\n",
    "        \n",
    "        ## reservoir strains\n",
    "        data_gt=np.ptp(data_gt)\n",
    "        data_sim=np.ptp(data_sim)\n",
    "        \n",
    "        abs_error=np.abs(data_gt-data_sim)\n",
    "        f_abs_naf[i, j]=abs_error\n",
    "        \n",
    "            \n",
    "for i in range(0, len(af_cases)):\n",
    "    case=af_cases[i]\n",
    "    \n",
    "    if case in f20_cases:\n",
    "        trackingPath=f\"/home/csi20/Dropbox/phd/Data/RG_CT_Cases/{case}/MT-HiRes-TDownsampled/SW-0.0-BE-1e-9\"\n",
    "        veriTrackingPath=f\"{trackingPath}/veri_TSFFD\"\n",
    "        \n",
    "    else:\n",
    "        trackingPath=f\"/home/csi20/Dropbox/phd/Data/RG_CT_Cases/{case}/MT-HiRes/SW-0.0-BE-1e-9\"\n",
    "        veriTrackingPath=f\"{trackingPath}/veri_TSFFD\"\n",
    "        \n",
    "    for j in range(0, len(regions)):\n",
    "        region=regions[j]\n",
    "        \n",
    "        gtPath = f\"{trackingPath}/percent_regional_strains/endo_avg_excl_PVs_percent_meanstrains_{region}.txt\"\n",
    "        simPath = f\"{veriTrackingPath}/endo_avg_meanstrains_{region}.txt\"\n",
    "        \n",
    "        data_gt=np.loadtxt(gtPath)[0, :]\n",
    "        data_sim=np.loadtxt(simPath)[0, :]\n",
    "        \n",
    "        ## reservoir strains\n",
    "        data_gt=np.ptp(data_gt)\n",
    "        data_sim=np.ptp(data_sim)\n",
    "    \n",
    "        abs_error=np.abs(data_gt-data_sim)\n",
    "        f_abs_af[i, j]=abs_error"
   ]
  },
  {
   "cell_type": "markdown",
   "id": "3178f2c5",
   "metadata": {},
   "source": [
    "#### Print out mean pm std"
   ]
  },
  {
   "cell_type": "code",
   "execution_count": 95,
   "id": "1e99baa5",
   "metadata": {},
   "outputs": [
    {
     "name": "stdout",
     "output_type": "stream",
     "text": [
      "Fiber strain Abs\n",
      "global\t 1.235621401085739 \tpm\t 1.4312573444397358\n",
      "roof\t 1.569971181736658 \tpm\t 1.9390620682641093\n",
      "sept\t 2.597128316094866 \tpm\t 3.1755487404247673\n",
      "lat\t 4.7483296603322405 \tpm\t 5.933387346763713\n",
      "ant\t 2.094783330688241 \tpm\t 1.9604826962907573\n",
      "post\t 1.505120969010614 \tpm\t 1.1721467186313788\n"
     ]
    }
   ],
   "source": [
    "print(\"Fiber strain Abs\")\n",
    "\n",
    "for i in range(0, len(regions)):\n",
    "    print(f\"{regions[i]}\\t\", f_abs_naf.mean(axis=0)[i], \"\\tpm\\t\", f_abs_naf.std(axis=0)[i])"
   ]
  },
  {
   "cell_type": "code",
   "execution_count": 96,
   "id": "698eb4b9",
   "metadata": {},
   "outputs": [
    {
     "name": "stdout",
     "output_type": "stream",
     "text": [
      "Fiber strain Abs\n",
      "global\t 0.5038734487807981 \tpm\t 0.3745247382890958\n",
      "roof\t 1.0560032268955224 \tpm\t 1.2076176414627362\n",
      "sept\t 1.1262794816470587 \tpm\t 1.1151537703319583\n",
      "lat\t 0.8144240731429483 \tpm\t 0.6037262783557226\n",
      "ant\t 0.7268197037942141 \tpm\t 0.6681490581254964\n",
      "post\t 0.6419488144455089 \tpm\t 0.5169728614998876\n"
     ]
    }
   ],
   "source": [
    "print(\"Fiber strain Abs\")\n",
    "\n",
    "for i in range(0, len(regions)):\n",
    "    print(f\"{regions[i]}\\t\", f_abs_af.mean(axis=0)[i], \"\\tpm\\t\", f_abs_af.std(axis=0)[i])"
   ]
  },
  {
   "cell_type": "markdown",
   "id": "9d488add",
   "metadata": {},
   "source": [
    "#### Print out median"
   ]
  },
  {
   "cell_type": "code",
   "execution_count": 97,
   "id": "6485d4d8",
   "metadata": {},
   "outputs": [
    {
     "name": "stdout",
     "output_type": "stream",
     "text": [
      "Fiber strain Abs\n",
      "global\t 0.5097778488379383\n",
      "roof\t 0.6271583864946599\n",
      "sept\t 1.5958103079278025\n",
      "lat\t 1.9156629575766182\n",
      "ant\t 1.5186232729322366\n",
      "post\t 1.0391011438182662\n"
     ]
    }
   ],
   "source": [
    "print(\"Fiber strain Abs\")\n",
    "\n",
    "for i in range(0, len(regions)):\n",
    "    print(f\"{regions[i]}\\t\", np.median(f_abs_naf, axis=0)[i])"
   ]
  },
  {
   "cell_type": "code",
   "execution_count": 98,
   "id": "36929b0f",
   "metadata": {},
   "outputs": [
    {
     "name": "stdout",
     "output_type": "stream",
     "text": [
      "Fiber strain Abs\n",
      "global\t 0.32207944284308354\n",
      "roof\t 0.6535133464344187\n",
      "sept\t 0.40501545474374545\n",
      "lat\t 0.6816029508499621\n",
      "ant\t 0.3137631316740057\n",
      "post\t 0.6464900605967121\n"
     ]
    }
   ],
   "source": [
    "print(\"Fiber strain Abs\")\n",
    "\n",
    "for i in range(0, len(regions)):\n",
    "    print(f\"{regions[i]}\\t\", np.median(f_abs_af, axis=0)[i])"
   ]
  }
 ],
 "metadata": {
  "kernelspec": {
   "display_name": "Python [conda env:vtk]",
   "language": "python",
   "name": "conda-env-vtk-py"
  },
  "language_info": {
   "codemirror_mode": {
    "name": "ipython",
    "version": 3
   },
   "file_extension": ".py",
   "mimetype": "text/x-python",
   "name": "python",
   "nbconvert_exporter": "python",
   "pygments_lexer": "ipython3",
   "version": "3.9.7"
  }
 },
 "nbformat": 4,
 "nbformat_minor": 5
}
