{
 "cells": [
  {
   "cell_type": "markdown",
   "id": "f4e95321",
   "metadata": {},
   "source": [
    "# Initial analysis on 10 Processed Cases\n",
    "\n",
    "For each type of strain, plot:\n",
    "\n",
    "* Distribution of strain over entire LA surface for non-AF vs AF (__global strains__)\n",
    "    * Calculated mean of medians of strain distributions to compare non-AF vs AF\n",
    "    * __Findings__:\n",
    "        * Mean median of strain distribution is generally higher for non-AF patients for all strains\n",
    "        * Squeez strains are comparable to Fibre strains \n",
    "    \n",
    "To follow up:\n",
    "\n",
    "* More accurate defintion of ES?"
   ]
  },
  {
   "cell_type": "markdown",
   "id": "c7841245",
   "metadata": {},
   "source": [
    "## Fibres Strains"
   ]
  },
  {
   "cell_type": "code",
   "execution_count": 2,
   "id": "e8970c20",
   "metadata": {},
   "outputs": [
    {
     "ename": "ModuleNotFoundError",
     "evalue": "No module named 'pyvista'",
     "output_type": "error",
     "traceback": [
      "\u001b[0;31m---------------------------------------------------------------------------\u001b[0m",
      "\u001b[0;31mModuleNotFoundError\u001b[0m                       Traceback (most recent call last)",
      "Input \u001b[0;32mIn [2]\u001b[0m, in \u001b[0;36m<module>\u001b[0;34m\u001b[0m\n\u001b[1;32m      3\u001b[0m \u001b[38;5;28;01mimport\u001b[39;00m \u001b[38;5;21;01mseaborn\u001b[39;00m \u001b[38;5;28;01mas\u001b[39;00m \u001b[38;5;21;01msns\u001b[39;00m\n\u001b[1;32m      4\u001b[0m \u001b[38;5;28;01mimport\u001b[39;00m \u001b[38;5;21;01mpandas\u001b[39;00m \u001b[38;5;28;01mas\u001b[39;00m \u001b[38;5;21;01mpd\u001b[39;00m\n\u001b[0;32m----> 6\u001b[0m \u001b[38;5;28;01mfrom\u001b[39;00m \u001b[38;5;21;01mHC_analysis\u001b[39;00m \u001b[38;5;28;01mimport\u001b[39;00m ReadFibreStrain\n",
      "File \u001b[0;32m~/Dropbox/phd/Projects/LA_Tracking/iPython Notebooks/HC_analysis.py:2\u001b[0m, in \u001b[0;36m<module>\u001b[0;34m\u001b[0m\n\u001b[1;32m      1\u001b[0m \u001b[38;5;28;01mimport\u001b[39;00m \u001b[38;5;21;01mpandas\u001b[39;00m \u001b[38;5;28;01mas\u001b[39;00m \u001b[38;5;21;01mpd\u001b[39;00m\n\u001b[0;32m----> 2\u001b[0m \u001b[38;5;28;01mimport\u001b[39;00m \u001b[38;5;21;01mpyvista\u001b[39;00m \u001b[38;5;28;01mas\u001b[39;00m \u001b[38;5;21;01mpv\u001b[39;00m\n\u001b[1;32m      3\u001b[0m \u001b[38;5;28;01mimport\u001b[39;00m \u001b[38;5;21;01mnumpy\u001b[39;00m \u001b[38;5;28;01mas\u001b[39;00m \u001b[38;5;21;01mnp\u001b[39;00m\n\u001b[1;32m      5\u001b[0m DataPath\u001b[38;5;241m=\u001b[39m\u001b[38;5;124m\"\u001b[39m\u001b[38;5;124m/home/csi20local/Dropbox/phd/Data/RG_CT_Cases\u001b[39m\u001b[38;5;124m\"\u001b[39m\n",
      "\u001b[0;31mModuleNotFoundError\u001b[0m: No module named 'pyvista'"
     ]
    }
   ],
   "source": [
    "import numpy as np\n",
    "import matplotlib.pyplot as plt\n",
    "import seaborn as sns\n",
    "import pandas as pd\n",
    "\n",
    "from HC_analysis import ReadFibreStrain"
   ]
  },
  {
   "cell_type": "code",
   "execution_count": 2,
   "id": "6c59eb68",
   "metadata": {},
   "outputs": [],
   "source": [
    "## Read in strains\n",
    "\n",
    "## Take ES at t = 40 %\n",
    "\n",
    "fibre_arch='avg'\n",
    "\n",
    "DataPath=\"/home/csi20local/Dropbox/phd/Data/RG_CT_Cases\"\n",
    "\n",
    "df_07 = pd.read_csv(f'{DataPath}/CT-CRT-07/MT-HiRes/SW-0.0-BE-1e-9/endo_{fibre_arch}-strains-t4.txt', \n",
    "                    sep=' ', skiprows=2, names=['f1', 'f2', 'f3'])\n",
    "df_14 = pd.read_csv(f'{DataPath}/CT-CRT-14/MT-HiRes/SW-0.0-BE-1e-9/endo_{fibre_arch}-strains-t4.txt',\n",
    "                    sep=' ', skiprows=2, names=['f1', 'f2', 'f3'])\n",
    "df_19 = pd.read_csv(f'{DataPath}/CT-CRT-19/MT-HiRes/SW-0.0-BE-1e-9/endo_{fibre_arch}-strains-t4.txt',\n",
    "                    sep=' ', skiprows=2, names=['f1', 'f2', 'f3'])\n",
    "df_20 = pd.read_csv(f'{DataPath}/CT-CRT-20/MT-HiRes/SW-0.0-BE-1e-9/endo_{fibre_arch}-strains-t4.txt',\n",
    "                    sep=' ', skiprows=2, names=['f1', 'f2', 'f3'])\n",
    "df_21 = pd.read_csv(f'{DataPath}/CT-CRT-21/MT-HiRes-TDownsampled/SW-0.0-BE-1e-9/endo_{fibre_arch}-strains-t4.txt',\n",
    "                    sep=' ', skiprows=2, names=['f1', 'f2', 'f3'])\n",
    "df_23 = pd.read_csv(f'{DataPath}/CT-CRT-23/MT-HiRes-TDownsampled/SW-0.0-BE-1e-9/endo_{fibre_arch}-strains-t4.txt',\n",
    "                    sep=' ', skiprows=2, names=['f1', 'f2', 'f3'])\n",
    "df_26 = pd.read_csv(f'{DataPath}/CT-CRT-26/MT-HiRes-TDownsampled/SW-0.0-BE-1e-9/endo_{fibre_arch}-strains-t4.txt',\n",
    "                    sep=' ', skiprows=2, names=['f1', 'f2', 'f3'])\n",
    "df_28 = pd.read_csv(f'{DataPath}/CT-CRT-28/MT-HiRes-TDownsampled/SW-0.0-BE-1e-9/endo_{fibre_arch}-strains-t4.txt',\n",
    "                    sep=' ', skiprows=2, names=['f1', 'f2', 'f3'])\n",
    "df_29 = pd.read_csv(f'{DataPath}/CT-CRT-29/MT-HiRes-TDownsampled/SW-0.0-BE-1e-9/endo_{fibre_arch}-strains-t4.txt',\n",
    "                    sep=' ', skiprows=2, names=['f1', 'f2', 'f3'])\n",
    "df_31 = pd.read_csv(f'{DataPath}/CT-CRT-31/MT-HiRes-TDownsampled/SW-0.0-BE-1e-9/endo_{fibre_arch}-strains-t4.txt',\n",
    "                    sep=' ', skiprows=2, names=['f1', 'f2', 'f3'])"
   ]
  },
  {
   "cell_type": "code",
   "execution_count": 3,
   "id": "56a413f0",
   "metadata": {},
   "outputs": [
    {
     "data": {
      "text/plain": [
       "0.07208726"
      ]
     },
     "execution_count": 3,
     "metadata": {},
     "output_type": "execute_result"
    }
   ],
   "source": [
    "sum_medians_nonAF = df_07['f1'].median(axis=0) + df_14['f1'].median(axis=0) + df_21['f1'].median(axis=0) + df_28['f1'].median(axis=0) + df_29['f1'].median(axis=0)\n",
    "\n",
    "mean_medians_nonAF = sum_medians_nonAF/5\n",
    "mean_medians_nonAF"
   ]
  },
  {
   "cell_type": "code",
   "execution_count": 4,
   "id": "8fa6b1af",
   "metadata": {},
   "outputs": [
    {
     "data": {
      "text/plain": [
       "0.024402552"
      ]
     },
     "execution_count": 4,
     "metadata": {},
     "output_type": "execute_result"
    }
   ],
   "source": [
    "sum_medians_AF = df_19['f1'].median(axis=0) + df_20['f1'].median(axis=0) + df_23['f1'].median(axis=0) + df_26['f1'].median(axis=0) + df_31['f1'].median(axis=0)\n",
    "\n",
    "mean_medians_AF = sum_medians_AF/5\n",
    "mean_medians_AF"
   ]
  },
  {
   "cell_type": "code",
   "execution_count": 5,
   "id": "2d7c3701",
   "metadata": {},
   "outputs": [
    {
     "data": {
      "text/plain": [
       "<matplotlib.collections.LineCollection at 0x7f47de119e20>"
      ]
     },
     "execution_count": 5,
     "metadata": {},
     "output_type": "execute_result"
    },
    {
     "data": {
      "image/png": "[encoded data removed]",
      "text/plain": [
       "<Figure size 432x288 with 1 Axes>"
      ]
     },
     "metadata": {
      "needs_background": "light"
     },
     "output_type": "display_data"
    }
   ],
   "source": [
    "## PARALLEL TO FIBRES\n",
    "\n",
    "data_list = [df_07['f1'], df_14['f1'], df_21['f1'], df_28['f1'], df_29['f1'], \n",
    "             df_19['f1'], df_20['f1'], df_23['f1'], df_26['f1'], df_31['f1']]\n",
    "\n",
    "sns.boxplot(data=data_list, orient=\"v\")\n",
    "\n",
    "plt.ylim(-1, 2)\n",
    "plt.vlines(x=4.5, ymin=-1, ymax=5, color='black', ls='--')\n",
    "\n",
    "## Plotting mean of medians\n",
    "plt.hlines(y=mean_medians_nonAF, xmin=-0.75, xmax=4.5, color='black', ls='--')\n",
    "plt.hlines(y=mean_medians_AF, xmin=4.5, xmax=10, color='black', ls='--')"
   ]
  },
  {
   "cell_type": "code",
   "execution_count": 6,
   "id": "249ffae6",
   "metadata": {},
   "outputs": [
    {
     "data": {
      "text/plain": [
       "<matplotlib.collections.LineCollection at 0x7f47de067fa0>"
      ]
     },
     "execution_count": 6,
     "metadata": {},
     "output_type": "execute_result"
    },
    {
     "data": {
      "image/png": "[encoded data removed]",
      "text/plain": [
       "<Figure size 432x288 with 1 Axes>"
      ]
     },
     "metadata": {
      "needs_background": "light"
     },
     "output_type": "display_data"
    }
   ],
   "source": [
    "## PERPENDICULAR TO FIBRES\n",
    "\n",
    "data_list = [df_07['f2'], df_14['f2'], df_21['f2'], df_28['f2'], df_29['f2'], \n",
    "             df_19['f2'], df_20['f2'], df_23['f2'], df_26['f2'], df_31['f2']]\n",
    "\n",
    "sns.boxplot(data=data_list, orient=\"v\")\n",
    "\n",
    "plt.ylim(-1, 2)\n",
    "plt.vlines(x=4.5, ymin=-1, ymax=5, color='black', ls='--')"
   ]
  },
  {
   "cell_type": "markdown",
   "id": "22e51e5c",
   "metadata": {},
   "source": [
    "## Area Strains"
   ]
  },
  {
   "cell_type": "code",
   "execution_count": 7,
   "id": "3ebe471f",
   "metadata": {},
   "outputs": [],
   "source": [
    "## Plot mean of ES fibre strains for each patientAF and non-AF\n",
    "\n",
    "## Take ES at t = 40 %\n",
    "\n",
    "DataPath=\"/home/csi20local/Dropbox/phd/Data/RG_CT_Cases\"\n",
    "\n",
    "df_ar_07 = pd.read_csv(f'{DataPath}/CT-CRT-07/MT-HiRes/SW-0.0-BE-1e-9/area-strains-4.csv')\n",
    "df_ar_14 = pd.read_csv(f'{DataPath}/CT-CRT-14/MT-HiRes/SW-0.0-BE-1e-9/area-strains-4.csv')\n",
    "df_ar_19 = pd.read_csv(f'{DataPath}/CT-CRT-19/MT-HiRes/SW-0.0-BE-1e-9/area-strains-4.csv')\n",
    "df_ar_20 = pd.read_csv(f'{DataPath}/CT-CRT-20/MT-HiRes/SW-0.0-BE-1e-9/area-strains-4.csv')\n",
    "df_ar_21 = pd.read_csv(f'{DataPath}/CT-CRT-21/MT-HiRes-TDownsampled/SW-0.0-BE-1e-9/area-strains-4.csv')\n",
    "df_ar_23 = pd.read_csv(f'{DataPath}/CT-CRT-23/MT-HiRes-TDownsampled/SW-0.0-BE-1e-9/area-strains-4.csv')\n",
    "df_ar_26 = pd.read_csv(f'{DataPath}/CT-CRT-26/MT-HiRes-TDownsampled/SW-0.0-BE-1e-9/area-strains-4.csv')\n",
    "df_ar_28 = pd.read_csv(f'{DataPath}/CT-CRT-28/MT-HiRes-TDownsampled/SW-0.0-BE-1e-9/area-strains-4.csv')\n",
    "df_ar_29 = pd.read_csv(f'{DataPath}/CT-CRT-29/MT-HiRes-TDownsampled/SW-0.0-BE-1e-9/area-strains-4.csv')\n",
    "df_ar_31 = pd.read_csv(f'{DataPath}/CT-CRT-31/MT-HiRes-TDownsampled/SW-0.0-BE-1e-9/area-strains-4.csv')"
   ]
  },
  {
   "cell_type": "code",
   "execution_count": 8,
   "id": "faf6b946",
   "metadata": {},
   "outputs": [
    {
     "data": {
      "text/plain": [
       "0.09041893970050013"
      ]
     },
     "execution_count": 8,
     "metadata": {},
     "output_type": "execute_result"
    }
   ],
   "source": [
    "sum_medians_nonAF = df_ar_07['Area'].median(axis=0) + df_ar_14['Area'].median(axis=0) + df_ar_21['Area'].median(axis=0)\\\n",
    "+ df_ar_28['Area'].median(axis=0) + df_ar_29['Area'].median(axis=0)\n",
    "\n",
    "mean_medians_nonAF = sum_medians_nonAF/5\n",
    "mean_medians_nonAF"
   ]
  },
  {
   "cell_type": "code",
   "execution_count": 9,
   "id": "a3a8d127",
   "metadata": {},
   "outputs": [
    {
     "data": {
      "text/plain": [
       "0.03859880188736569"
      ]
     },
     "execution_count": 9,
     "metadata": {},
     "output_type": "execute_result"
    }
   ],
   "source": [
    "sum_medians_AF = df_ar_19['Area'].median(axis=0) + df_ar_20['Area'].median(axis=0)\\\n",
    "+ df_ar_23['Area'].median(axis=0) + df_ar_26['Area'].median(axis=0) + df_ar_31['Area'].median(axis=0)\n",
    "\n",
    "mean_medians_AF = sum_medians_AF/5\n",
    "mean_medians_AF"
   ]
  },
  {
   "cell_type": "code",
   "execution_count": 10,
   "id": "ba643700",
   "metadata": {},
   "outputs": [
    {
     "data": {
      "text/plain": [
       "<matplotlib.collections.LineCollection at 0x7f47ddf3b7f0>"
      ]
     },
     "execution_count": 10,
     "metadata": {},
     "output_type": "execute_result"
    },
    {
     "data": {
      "image/png": "[encoded data removed]",
      "text/plain": [
       "<Figure size 432x288 with 1 Axes>"
      ]
     },
     "metadata": {
      "needs_background": "light"
     },
     "output_type": "display_data"
    }
   ],
   "source": [
    "## Area Strain\n",
    "\n",
    "data_list = [df_ar_07['Area'], df_ar_14['Area'], df_ar_21['Area'], df_ar_28['Area'], df_ar_29['Area'], \n",
    "             df_ar_19['Area'], df_ar_20['Area'], df_ar_23['Area'], df_ar_26['Area'], df_ar_31['Area']]\n",
    "\n",
    "sns.boxplot(data=data_list, orient=\"v\")\n",
    "\n",
    "plt.ylim(-2, 2)\n",
    "plt.vlines(x=4.5, ymin=-1, ymax=5, color='black', ls='--')"
   ]
  },
  {
   "cell_type": "markdown",
   "id": "b43b4181",
   "metadata": {},
   "source": [
    "## Squeez"
   ]
  },
  {
   "cell_type": "code",
   "execution_count": 11,
   "id": "0eb08cb8",
   "metadata": {},
   "outputs": [],
   "source": [
    "## Plot mean of ES fibre strains for each patientAF and non-AF\n",
    "\n",
    "## Take ES at t = 40 %\n",
    "\n",
    "DataPath=\"/home/csi20local/Dropbox/phd/Data/RG_CT_Cases\"\n",
    "\n",
    "df_sq_07 = pd.read_csv(f'{DataPath}/CT-CRT-07/MT-HiRes/SW-0.0-BE-1e-9/squeez-4.csv')\n",
    "df_sq_14 = pd.read_csv(f'{DataPath}/CT-CRT-14/MT-HiRes/SW-0.0-BE-1e-9/squeez-4.csv')\n",
    "df_sq_19 = pd.read_csv(f'{DataPath}/CT-CRT-19/MT-HiRes/SW-0.0-BE-1e-9/squeez-4.csv')\n",
    "df_sq_20 = pd.read_csv(f'{DataPath}/CT-CRT-20/MT-HiRes/SW-0.0-BE-1e-9/squeez-4.csv')\n",
    "df_sq_21 = pd.read_csv(f'{DataPath}/CT-CRT-21/MT-HiRes-TDownsampled/SW-0.0-BE-1e-9/squeez-4.csv')\n",
    "df_sq_23 = pd.read_csv(f'{DataPath}/CT-CRT-23/MT-HiRes-TDownsampled/SW-0.0-BE-1e-9/squeez-4.csv')\n",
    "df_sq_26 = pd.read_csv(f'{DataPath}/CT-CRT-26/MT-HiRes-TDownsampled/SW-0.0-BE-1e-9/squeez-4.csv')\n",
    "df_sq_28 = pd.read_csv(f'{DataPath}/CT-CRT-28/MT-HiRes-TDownsampled/SW-0.0-BE-1e-9/squeez-4.csv')\n",
    "df_sq_29 = pd.read_csv(f'{DataPath}/CT-CRT-29/MT-HiRes-TDownsampled/SW-0.0-BE-1e-9/squeez-4.csv')\n",
    "df_sq_31 = pd.read_csv(f'{DataPath}/CT-CRT-31/MT-HiRes-TDownsampled/SW-0.0-BE-1e-9/squeez-4.csv')"
   ]
  },
  {
   "cell_type": "code",
   "execution_count": 12,
   "id": "11022de4",
   "metadata": {},
   "outputs": [
    {
     "data": {
      "text/plain": [
       "1.0433857783094"
      ]
     },
     "execution_count": 12,
     "metadata": {},
     "output_type": "execute_result"
    }
   ],
   "source": [
    "sum_medians_nonAF = df_sq_07['Area'].median(axis=0) + df_sq_14['Area'].median(axis=0) + df_sq_21['Area'].median(axis=0)\\\n",
    "+ df_sq_28['Area'].median(axis=0) + df_sq_29['Area'].median(axis=0)\n",
    "\n",
    "mean_medians_nonAF = sum_medians_nonAF/5\n",
    "mean_medians_nonAF"
   ]
  },
  {
   "cell_type": "code",
   "execution_count": 13,
   "id": "b1867419",
   "metadata": {},
   "outputs": [
    {
     "data": {
      "text/plain": [
       "1.019082712998543"
      ]
     },
     "execution_count": 13,
     "metadata": {},
     "output_type": "execute_result"
    }
   ],
   "source": [
    "sum_medians_AF = df_sq_19['Area'].median(axis=0) + df_sq_20['Area'].median(axis=0)\\\n",
    "+ df_sq_23['Area'].median(axis=0) + df_sq_26['Area'].median(axis=0) + df_sq_31['Area'].median(axis=0)\n",
    "\n",
    "mean_medians_AF = sum_medians_AF/5\n",
    "mean_medians_AF"
   ]
  },
  {
   "cell_type": "code",
   "execution_count": 14,
   "id": "9a593d89",
   "metadata": {},
   "outputs": [
    {
     "data": {
      "text/plain": [
       "<matplotlib.collections.LineCollection at 0x7f47dde04040>"
      ]
     },
     "execution_count": 14,
     "metadata": {},
     "output_type": "execute_result"
    },
    {
     "data": {
      "image/png": "[encoded data removed]",
      "text/plain": [
       "<Figure size 432x288 with 1 Axes>"
      ]
     },
     "metadata": {
      "needs_background": "light"
     },
     "output_type": "display_data"
    }
   ],
   "source": [
    "## Squeez\n",
    "\n",
    "data_list = [df_sq_07['Area'], df_sq_14['Area'], df_sq_21['Area'], df_sq_28['Area'], df_sq_29['Area'], \n",
    "             df_sq_19['Area'], df_sq_20['Area'], df_sq_23['Area'], df_sq_26['Area'], df_sq_31['Area']]\n",
    "\n",
    "sns.boxplot(data=data_list, orient=\"v\")\n",
    "\n",
    "plt.ylim(0, 2)\n",
    "plt.vlines(x=4.5, ymin=-1, ymax=5, color='black', ls='--')"
   ]
  },
  {
   "cell_type": "markdown",
   "id": "e60516a8",
   "metadata": {},
   "source": [
    "## Squeez minus 1"
   ]
  },
  {
   "cell_type": "code",
   "execution_count": 15,
   "id": "c89498cc",
   "metadata": {},
   "outputs": [],
   "source": [
    "## Plot mean of ES fibre strains for each patientAF and non-AF\n",
    "\n",
    "## Take ES at t = 40 %\n",
    "\n",
    "DataPath=\"/home/csi20local/Dropbox/phd/Data/RG_CT_Cases\"\n",
    "\n",
    "df_sq_m_07 = pd.read_csv(f'{DataPath}/CT-CRT-07/MT-HiRes/SW-0.0-BE-1e-9/squeez-minus-4.csv')\n",
    "df_sq_m_14 = pd.read_csv(f'{DataPath}/CT-CRT-14/MT-HiRes/SW-0.0-BE-1e-9/squeez-minus-4.csv')\n",
    "df_sq_m_19 = pd.read_csv(f'{DataPath}/CT-CRT-19/MT-HiRes/SW-0.0-BE-1e-9/squeez-minus-4.csv')\n",
    "df_sq_m_20 = pd.read_csv(f'{DataPath}/CT-CRT-20/MT-HiRes/SW-0.0-BE-1e-9/squeez-minus-4.csv')\n",
    "df_sq_m_21 = pd.read_csv(f'{DataPath}/CT-CRT-21/MT-HiRes-TDownsampled/SW-0.0-BE-1e-9/squeez-minus-4.csv')\n",
    "df_sq_m_23 = pd.read_csv(f'{DataPath}/CT-CRT-23/MT-HiRes-TDownsampled/SW-0.0-BE-1e-9/squeez-minus-4.csv')\n",
    "df_sq_m_26 = pd.read_csv(f'{DataPath}/CT-CRT-26/MT-HiRes-TDownsampled/SW-0.0-BE-1e-9/squeez-minus-4.csv')\n",
    "df_sq_m_28 = pd.read_csv(f'{DataPath}/CT-CRT-28/MT-HiRes-TDownsampled/SW-0.0-BE-1e-9/squeez-minus-4.csv')\n",
    "df_sq_m_29 = pd.read_csv(f'{DataPath}/CT-CRT-29/MT-HiRes-TDownsampled/SW-0.0-BE-1e-9/squeez-minus-4.csv')\n",
    "df_sq_m_31 = pd.read_csv(f'{DataPath}/CT-CRT-31/MT-HiRes-TDownsampled/SW-0.0-BE-1e-9/squeez-minus-4.csv')"
   ]
  },
  {
   "cell_type": "code",
   "execution_count": 16,
   "id": "a6da9017",
   "metadata": {},
   "outputs": [
    {
     "data": {
      "text/plain": [
       "0.04338577830940009"
      ]
     },
     "execution_count": 16,
     "metadata": {},
     "output_type": "execute_result"
    }
   ],
   "source": [
    "sum_medians_nonAF = df_sq_m_07['Area'].median(axis=0) + df_sq_m_14['Area'].median(axis=0) + df_sq_m_21['Area'].median(axis=0)\\\n",
    "+ df_sq_m_28['Area'].median(axis=0) + df_sq_m_29['Area'].median(axis=0)\n",
    "\n",
    "mean_medians_nonAF = sum_medians_nonAF/5\n",
    "mean_medians_nonAF"
   ]
  },
  {
   "cell_type": "code",
   "execution_count": 17,
   "id": "2fc70dc0",
   "metadata": {},
   "outputs": [
    {
     "data": {
      "text/plain": [
       "0.0190827129985427"
      ]
     },
     "execution_count": 17,
     "metadata": {},
     "output_type": "execute_result"
    }
   ],
   "source": [
    "sum_medians_AF = df_sq_m_19['Area'].median(axis=0) + df_sq_m_20['Area'].median(axis=0)\\\n",
    "+ df_sq_m_23['Area'].median(axis=0) + df_sq_m_26['Area'].median(axis=0) + df_sq_m_31['Area'].median(axis=0)\n",
    "\n",
    "mean_medians_AF = sum_medians_AF/5\n",
    "mean_medians_AF"
   ]
  },
  {
   "cell_type": "code",
   "execution_count": 18,
   "id": "5672594a",
   "metadata": {
    "scrolled": true
   },
   "outputs": [
    {
     "data": {
      "text/plain": [
       "<matplotlib.collections.LineCollection at 0x7f47dd4aee20>"
      ]
     },
     "execution_count": 18,
     "metadata": {},
     "output_type": "execute_result"
    },
    {
     "data": {
      "image/png": "[encoded data removed]",
      "text/plain": [
       "<Figure size 432x288 with 1 Axes>"
      ]
     },
     "metadata": {
      "needs_background": "light"
     },
     "output_type": "display_data"
    }
   ],
   "source": [
    "## Squeez\n",
    "\n",
    "data_list = [df_sq_m_07['Area'], df_sq_m_14['Area'], df_sq_m_21['Area'], df_sq_m_28['Area'], df_sq_m_29['Area'], \n",
    "             df_sq_m_19['Area'], df_sq_m_20['Area'], df_sq_m_23['Area'], df_sq_m_26['Area'], df_sq_m_31['Area']]\n",
    "\n",
    "sns.boxplot(data=data_list, orient=\"v\")\n",
    "\n",
    "plt.ylim(0, 2)\n",
    "plt.vlines(x=4.5, ymin=-1, ymax=5, color='black', ls='--')"
   ]
  },
  {
   "cell_type": "code",
   "execution_count": null,
   "id": "6bdf1060",
   "metadata": {},
   "outputs": [],
   "source": []
  }
 ],
 "metadata": {
  "kernelspec": {
   "display_name": "Python 3 (ipykernel)",
   "language": "python",
   "name": "python3"
  },
  "language_info": {
   "codemirror_mode": {
    "name": "ipython",
    "version": 3
   },
   "file_extension": ".py",
   "mimetype": "text/x-python",
   "name": "python",
   "nbconvert_exporter": "python",
   "pygments_lexer": "ipython3",
   "version": "3.9.7"
  }
 },
 "nbformat": 4,
 "nbformat_minor": 5
}
