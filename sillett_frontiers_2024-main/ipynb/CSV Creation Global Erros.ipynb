{
 "cells": [
  {
   "cell_type": "code",
   "execution_count": 1,
   "metadata": {},
   "outputs": [],
   "source": [
    "import pandas as pd\n",
    "import numpy as np"
   ]
  },
  {
   "cell_type": "markdown",
   "metadata": {},
   "source": [
    "## 08/09 Function for Global Error CSV Creation"
   ]
  },
  {
   "cell_type": "code",
   "execution_count": 2,
   "metadata": {},
   "outputs": [],
   "source": [
    "def CSV_Creation_GlobalErrors_ASD(Case, Res):\n",
    "    \n",
    "    Errors = []\n",
    "    \n",
    "    for BE in ['4e-6', '1e-6', '4e-7', '1e-7', '4e-8', '1e-8', '4e-9', '1e-9', '4e-10']:\n",
    "        for SW in ['9e-2', '3e-2', '9e-3', '3e-3', '9e-4', '3e-4', '0.0']:\n",
    "            ind_error = pd.read_csv(f'/home/csi20/Dropbox/phd/Data/RG_CT_Cases/{Case}/{Res}/SW-{SW}-BE-{BE}/normal-distance.txt')\n",
    "            ind_error = ind_error.columns[0]\n",
    "            Errors.append(ind_error)\n",
    "            \n",
    "    reshaped_array = np.reshape(np.array(Errors), (9,7))\n",
    "    \n",
    "    df = pd.DataFrame(reshaped_array, columns=['9e-2', '3e-2', '9e-3', '3e-3', '9e-4', '3e-4', '0.0'], \n",
    "                  index=['4e-6', '1e-6', '4e-7', '1e-7', '4e-8', '1e-8', '4e-9', '1e-9', '4e-10'])\n",
    "    \n",
    "    df.to_csv(f'/home/csi20/Dropbox/phd/Data/RG_CT_Cases/{Case}/{Res}-Normal-Distance-Results.csv', sep=' ')"
   ]
  },
  {
   "cell_type": "code",
   "execution_count": 2,
   "metadata": {},
   "outputs": [],
   "source": [
    "def CSV_Creation_GlobalErrors_ASD_SingleSW_BE(Case, Res):\n",
    "    \n",
    "    Errors = []\n",
    "    \n",
    "    for BE in ['4e-7']:\n",
    "        for SW in ['9e-3']:\n",
    "            ind_error = pd.read_csv(f'/home/csi20local/Data/RG_CT_Cases/{Case}/{Res}/SW-{SW}-BE-{BE}/normal-distance.txt')\n",
    "            ind_error = ind_error.columns[0]\n",
    "            Errors.append(ind_error)\n",
    "            \n",
    "    reshaped_array = np.reshape(np.array(Errors), (1,1)) # CHNAGE THIS!!!!!!!!!!!!!!!!!!!!!\n",
    "    \n",
    "    df = pd.DataFrame(reshaped_array, columns=['9e-3'], \n",
    "                  index=['4e-7'])\n",
    "    \n",
    "    df.to_csv(f'/home/csi20/Dropbox/phd/Data/RG_CT_Cases/{Case}/{Res}-Normal-Distance-Results.csv', sep=' ')"
   ]
  },
  {
   "cell_type": "code",
   "execution_count": 3,
   "metadata": {},
   "outputs": [],
   "source": [
    "def CSV_Creation_GlobalErrors_DHD(Case, Res):\n",
    "    \n",
    "    Errors = []\n",
    "    \n",
    "    for BE in ['4e-6', '1e-6', '4e-7', '1e-7', '4e-8', '1e-8', '4e-9', '1e-9', '4e-10']:\n",
    "        for SW in ['9e-2', '3e-2', '9e-3', '3e-3', '9e-4', '3e-4', '0.0']:\n",
    "            ind_error = pd.read_csv(f'/home/csi20/Dropbox/phd/Data/RG_CT_Cases/{Case}/{Res}/SW-{SW}-BE-{BE}/hausdorff-distance.txt')\n",
    "            ind_error = ind_error.columns[0]\n",
    "            Errors.append(ind_error)\n",
    "            \n",
    "    reshaped_array = np.reshape(np.array(Errors), (9,7))\n",
    "    \n",
    "    df = pd.DataFrame(reshaped_array, columns=['9e-2', '3e-2', '9e-3', '3e-3', '9e-4', '3e-4', '0.0'], \n",
    "                  index=['4e-6', '1e-6', '4e-7', '1e-7', '4e-8', '1e-8', '4e-9', '1e-9', '4e-10'])\n",
    "    \n",
    "    df.to_csv(f'/home/csi20/Dropbox/phd/Data/RG_CT_Cases/{Case}/{Res}-Hausdorff-Distance-Results.csv', sep=' ')"
   ]
  },
  {
   "cell_type": "code",
   "execution_count": 3,
   "metadata": {},
   "outputs": [],
   "source": [
    "def CSV_Creation_GlobalErrors_DHD_SingleSW_BE(Case, Res):\n",
    "    \n",
    "    Errors = []\n",
    "    \n",
    "    for BE in ['4e-7']:\n",
    "        for SW in ['9e-3']:\n",
    "            ind_error = pd.read_csv(f'/home/csi20local/Data/RG_CT_Cases/{Case}/{Res}/SW-{SW}-BE-{BE}/hausdorff-distance.txt')\n",
    "            ind_error = ind_error.columns[0]\n",
    "            Errors.append(ind_error)\n",
    "            \n",
    "    reshaped_array = np.reshape(np.array(Errors), (1,1))  \n",
    "    \n",
    "    df = pd.DataFrame(reshaped_array, columns=['9e-3'], \n",
    "                  index=['4e-7'])\n",
    "    \n",
    "    df.to_csv(f'/home/csi20/Dropbox/phd/Data/RG_CT_Cases/{Case}/{Res}-Hausdorff-Distance-Results.csv', sep=' ')"
   ]
  },
  {
   "cell_type": "code",
   "execution_count": 6,
   "metadata": {},
   "outputs": [],
   "source": [
    "def CSV_Creation_GlobalErrors_DSC(Case, Res):\n",
    "    \n",
    "    Errors = []\n",
    "    \n",
    "    for BE in ['4e-6', '1e-6', '4e-7', '1e-7', '4e-8', '1e-8', '4e-9', '1e-9', '4e-10']:\n",
    "        for SW in ['9e-2', '3e-2', '9e-3', '3e-3', '9e-4', '3e-4', '0.0']:\n",
    "#             ind_error = pd.read_csv(f'/home/csi20/Dropbox/phd/Data/RG_CT_Cases/{Case}/{Res}/SW-{SW}-BE-{BE}/dice-PVeinsCropped.txt')\n",
    "            ind_error = pd.read_csv(f'/home/csi20/Dropbox/phd/Data/RG_CT_Cases/{Case}/{Res}/SW-{SW}-BE-{BE}/dice-LA_chamber.txt')\n",
    "            ind_error = ind_error.columns[0]\n",
    "            Errors.append(ind_error)\n",
    "            \n",
    "    reshaped_array = np.reshape(np.array(Errors), (9,7)) \n",
    "    \n",
    "    df = pd.DataFrame(reshaped_array, columns=['9e-2', '3e-2', '9e-3', '3e-3', '9e-4', '3e-4', '0.0'], \n",
    "                  index=['4e-6', '1e-6', '4e-7', '1e-7', '4e-8', '1e-8', '4e-9', '1e-9', '4e-10'])\n",
    "    \n",
    "    df.to_csv(f'/home/csi20/Dropbox/phd/Data/RG_CT_Cases/{Case}/{Res}-Dice-Results.csv', sep=' ')"
   ]
  },
  {
   "cell_type": "code",
   "execution_count": 4,
   "metadata": {},
   "outputs": [],
   "source": [
    "def CSV_Creation_GlobalErrors_DSC_SingleSW_BE(Case, Res):\n",
    "    \n",
    "    Errors = []\n",
    "    \n",
    "    for BE in ['4e-7']:\n",
    "        for SW in ['9e-3']:\n",
    "            ind_error = pd.read_csv(f'/home/csi20local/Data/RG_CT_Cases/{Case}/{Res}/SW-{SW}-BE-{BE}/dice-PVeinsCropped.txt')\n",
    "            ind_error = ind_error.columns[0]\n",
    "            Errors.append(ind_error)\n",
    "            \n",
    "    reshaped_array = np.reshape(np.array(Errors), (1,1))\n",
    "    \n",
    "    df = pd.DataFrame(reshaped_array, columns=['9e-3'], \n",
    "                  index=['4e-7'])\n",
    "    \n",
    "    df.to_csv(f'/home/csi20/Dropbox/phd/Data/RG_CT_Cases/{Case}/{Res}-Dice-Results.csv', sep=' ')"
   ]
  },
  {
   "cell_type": "markdown",
   "metadata": {},
   "source": [
    "## Function Implementation"
   ]
  },
  {
   "cell_type": "code",
   "execution_count": null,
   "metadata": {},
   "outputs": [],
   "source": [
    "for Case in ('CT-CRT-10', 'CT-CRT-19', 'CT-CRT-20'):\n",
    "    CSV_Creation_GlobalErrors_DSC(Case, 'MT-HiRes')\n",
    "    CSV_Creation_GlobalErrors_DHD(Case, 'MT-HiRes')\n",
    "    CSV_Creation_GlobalErrors_ASD(Case, 'MT-HiRes')"
   ]
  },
  {
   "cell_type": "code",
   "execution_count": 5,
   "metadata": {},
   "outputs": [],
   "source": [
    "for Case in ('CT-CRT-21', 'CT-CRT-23', 'CT-CRT-24', 'CT-CRT-25', 'CT-CRT-26',\n",
    "             'CT-CRT-27', 'CT-CRT-28', 'CT-CRT-29', 'CT-CRT-30', 'CT-CRT-32',\n",
    "            'EBR-01', 'EBR-02'):\n",
    "    CSV_Creation_GlobalErrors_DSC_SingleSW_BE(Case, 'MT-TDownsampled')\n",
    "    CSV_Creation_GlobalErrors_DHD_SingleSW_BE(Case, 'MT-TDownsampled')\n",
    "    CSV_Creation_GlobalErrors_ASD_SingleSW_BE(Case, 'MT-TDownsampled')"
   ]
  },
  {
   "cell_type": "code",
   "execution_count": 7,
   "metadata": {},
   "outputs": [],
   "source": [
    "for Case in ('CT-CRT-31', 'CT-CRT-34'):\n",
    "    CSV_Creation_GlobalErrors_DSC(Case, 'MT-HiRes-TDownsampled')\n",
    "    CSV_Creation_GlobalErrors_DHD(Case, 'MT-HiRes-TDownsampled')\n",
    "    CSV_Creation_GlobalErrors_ASD(Case, 'MT-HiRes-TDownsampled')"
   ]
  },
  {
   "cell_type": "markdown",
   "metadata": {},
   "source": [
    "## 08/09 Function for Checking CSV Created"
   ]
  },
  {
   "cell_type": "code",
   "execution_count": 12,
   "metadata": {},
   "outputs": [],
   "source": [
    "## This function checks the CSV file created for MV Absolute errors \n",
    "\n",
    "def CHECK_CSV_Creation_GlobalErrors_ASD(Case, Res):\n",
    "    \n",
    "    ASD_csv = pd.read_csv(f\"/home/csi20/Dropbox/phd/Data/RG_CT_Cases/{Case}/{Res}-Normal-Distance-Results.csv\",\n",
    "                            sep=' ', index_col=0)\n",
    "    \n",
    "    status = True\n",
    "    \n",
    "    for BE in ['4e-6', '1e-6', '4e-7', '1e-7', '4e-8', '1e-8', '4e-9', '1e-9', '4e-10']:\n",
    "        for SW in ['9e-2', '3e-2', '9e-3', '3e-3', '9e-4', '3e-4', '0.0']:\n",
    "            ASD_txt = pd.read_csv(f\"/home/csi20/Dropbox/phd/Data/RG_CT_Cases/{Case}/{Res}/SW-{SW}-BE-{BE}/normal-distance.txt\")\n",
    "            ASD_txt = ASD_txt.columns[0]\n",
    "                \n",
    "\n",
    "            if (round(float(ASD_txt), 6) == round(ASD_csv[f'{SW}'][float(BE)], 6)):\n",
    "                status = True\n",
    "                    \n",
    "            else:\n",
    "                print(f\"Problem with Case {Case}, Error at BE {BE} SW {SW}\")\n",
    "                status=False\n",
    "                break\n",
    "    \n",
    "\n",
    "    return print(status)"
   ]
  },
  {
   "cell_type": "code",
   "execution_count": 13,
   "metadata": {},
   "outputs": [],
   "source": [
    "## This function checks the CSV file created for MV Absolute errors \n",
    "\n",
    "def CHECK_CSV_Creation_GlobalErrors_ASD_SingleSW_BE(Case, Res):\n",
    "    \n",
    "    ASD_csv = pd.read_csv(f\"/home/csi20/Dropbox/phd/Data/RG_CT_Cases/{Case}/{Res}-Normal-Distance-Results.csv\",\n",
    "                            sep=' ', index_col=0)\n",
    "    \n",
    "    status = True\n",
    "    \n",
    "    for BE in ['4e-7']:\n",
    "        for SW in ['9e-3']:\n",
    "            ASD_txt = pd.read_csv(f\"/home/csi20/Dropbox/phd/Data/RG_CT_Cases/{Case}/{Res}/SW-{SW}-BE-{BE}/normal-distance.txt\")\n",
    "            ASD_txt = ASD_txt.columns[0]\n",
    "                \n",
    "\n",
    "            if (round(float(ASD_txt), 6) == round(ASD_csv[f'{SW}'][float(BE)], 6)):\n",
    "                status = True\n",
    "                    \n",
    "            else:\n",
    "                print(f\"Problem with Case {Case}, Error at BE {BE} SW {SW}\")\n",
    "                status=False\n",
    "                break\n",
    "    \n",
    "\n",
    "    return print(status)"
   ]
  },
  {
   "cell_type": "code",
   "execution_count": 14,
   "metadata": {},
   "outputs": [],
   "source": [
    "## This function checks the CSV file created for MV Absolute errors \n",
    "\n",
    "def CHECK_CSV_Creation_GlobalErrors_DHD(Case, Res):\n",
    "    \n",
    "    ASD_csv = pd.read_csv(f\"/home/csi20/Dropbox/phd/Data/RG_CT_Cases/{Case}/{Res}-Hausdorff-Distance-Results.csv\",\n",
    "                            sep=' ', index_col=0)\n",
    "    \n",
    "    status = True\n",
    "    \n",
    "    for BE in ['4e-6', '1e-6', '4e-7', '1e-7', '4e-8', '1e-8', '4e-9', '1e-9', '4e-10']:\n",
    "        for SW in ['9e-2', '3e-2', '9e-3', '3e-3', '9e-4', '3e-4', '0.0']:\n",
    "            ASD_txt = pd.read_csv(f\"/home/csi20/Dropbox/phd/Data/RG_CT_Cases/{Case}/{Res}/SW-{SW}-BE-{BE}/hausdorff-distance.txt\")\n",
    "            ASD_txt = ASD_txt.columns[0]\n",
    "                \n",
    "\n",
    "            if (round(float(ASD_txt), 6) == round(ASD_csv[f'{SW}'][float(BE)], 6)):\n",
    "                status = True\n",
    "                    \n",
    "            else:\n",
    "                print(f\"Problem with Case {Case}, Error at BE {BE} SW {SW}\")\n",
    "                status=False\n",
    "                break\n",
    "    \n",
    "\n",
    "    return print(status)"
   ]
  },
  {
   "cell_type": "code",
   "execution_count": 7,
   "metadata": {},
   "outputs": [],
   "source": [
    "## This function checks the CSV file created for MV Absolute errors \n",
    "\n",
    "def CHECK_CSV_Creation_GlobalErrors_DHD_SingleSW_BE(Case, Res):\n",
    "    \n",
    "    ASD_csv = pd.read_csv(f\"/home/csi20local/Data/RG_CT_Cases/{Case}/{Res}-Hausdorff-Distance-Results.csv\",\n",
    "                            sep=' ', index_col=0)\n",
    "    \n",
    "    status = True\n",
    "    \n",
    "    for BE in ['4e-7']:\n",
    "        for SW in ['9e-3']:\n",
    "            ASD_txt = pd.read_csv(f\"/home/csi20local/Data/RG_CT_Cases/{Case}/{Res}/SW-{SW}-BE-{BE}/hausdorff-distance.txt\")\n",
    "            ASD_txt = ASD_txt.columns[0]\n",
    "                \n",
    "\n",
    "            if (round(float(ASD_txt), 6) == round(ASD_csv[f'{SW}'][float(BE)], 6)):\n",
    "                status = True\n",
    "                    \n",
    "            else:\n",
    "                print(f\"Problem with Case {Case}, Error at BE {BE} SW {SW}\")\n",
    "                status=False\n",
    "                break\n",
    "    \n",
    "\n",
    "    return print(status)"
   ]
  },
  {
   "cell_type": "code",
   "execution_count": 17,
   "metadata": {},
   "outputs": [],
   "source": [
    "## This function checks the CSV file created for MV Absolute errors \n",
    "\n",
    "def CHECK_CSV_Creation_GlobalErrors_DSC(Case, Res):\n",
    "    \n",
    "    DSC_csv = pd.read_csv(f\"/home/csi20/Dropbox/phd/Data/RG_CT_Cases/{Case}/{Res}-Dice-Results.csv\",\n",
    "                            sep=' ', index_col=0)\n",
    "    \n",
    "    status = True\n",
    "    \n",
    "    for BE in ['4e-6', '1e-6', '4e-7', '1e-7', '4e-8', '1e-8', '4e-9', '1e-9', '4e-10']:\n",
    "        for SW in ['9e-2', '3e-2', '9e-3', '3e-3', '9e-4', '3e-4', '0.0']:\n",
    "#             DSC_txt = pd.read_csv(f\"/home/csi20/Dropbox/phd/Data/RG_CT_Cases/{Case}/{Res}/SW-{SW}-BE-{BE}/dice-PVeinsCropped.txt\")\n",
    "            DSC_txt = pd.read_csv(f\"/home/csi20/Dropbox/phd/Data/RG_CT_Cases/{Case}/{Res}/SW-{SW}-BE-{BE}/dice-LA_chamber.txt\")\n",
    "            DSC_txt = DSC_txt.columns[0]\n",
    "                \n",
    "\n",
    "            if (round(float(DSC_txt), 6) == round(DSC_csv[f'{SW}'][float(BE)], 6)):\n",
    "                status = True\n",
    "                    \n",
    "            else:\n",
    "                print(f\"Problem with Case {Case}, Error at BE {BE} SW {SW}\")\n",
    "                status=False\n",
    "                break\n",
    "    \n",
    "\n",
    "    return print(status)"
   ]
  },
  {
   "cell_type": "code",
   "execution_count": 8,
   "metadata": {},
   "outputs": [],
   "source": [
    "## This function checks the CSV file created for MV Absolute errors \n",
    "\n",
    "def CHECK_CSV_Creation_GlobalErrors_DSC_SingleSW_BE(Case, Res):\n",
    "    \n",
    "    DSC_csv = pd.read_csv(f\"/home/csi20local/Data/RG_CT_Cases/{Case}/{Res}-Dice-Results.csv\",\n",
    "                            sep=' ', index_col=0)\n",
    "    \n",
    "    status = True\n",
    "    \n",
    "    for BE in ['4e-7']:\n",
    "        for SW in ['9e-3']:\n",
    "            DSC_txt = pd.read_csv(f\"/home/csi20local/Data/RG_CT_Cases/{Case}/{Res}/SW-{SW}-BE-{BE}/dice-PVeinsCropped.txt\")\n",
    "            DSC_txt = DSC_txt.columns[0]\n",
    "                \n",
    "\n",
    "            if (round(float(DSC_txt), 6) == round(DSC_csv[f'{SW}'][float(BE)], 6)):\n",
    "                status = True\n",
    "                    \n",
    "            else:\n",
    "                print(f\"Problem with Case {Case}, Error at BE {BE} SW {SW}\")\n",
    "                status=False\n",
    "                break\n",
    "    \n",
    "\n",
    "    return print(status)"
   ]
  },
  {
   "cell_type": "markdown",
   "metadata": {},
   "source": [
    "## CHECKING Functions Implementation"
   ]
  },
  {
   "cell_type": "code",
   "execution_count": null,
   "metadata": {},
   "outputs": [],
   "source": [
    "for Case in ('CT-CRT-10', 'CT-CRT-14', 'CT-CRT-17', 'CT-CRT-18', 'CT-CRT-19', 'CT-CRT-20', 'Normal-1', 'Normal-3'):\n",
    "    CHECK_CSV_Creation_GlobalErrors_DSC_MT(Case, 'MT')\n",
    "    CHECK_CSV_Creation_GlobalErrors_DHD_MT(Case, 'MT')\n",
    "    CHECK_CSV_Creation_GlobalErrors_ASD_MT(Case, 'MT')"
   ]
  },
  {
   "cell_type": "code",
   "execution_count": 9,
   "metadata": {
    "scrolled": true
   },
   "outputs": [
    {
     "name": "stdout",
     "output_type": "stream",
     "text": [
      "True\n",
      "True\n",
      "True\n",
      "True\n",
      "True\n",
      "True\n",
      "True\n",
      "True\n",
      "True\n",
      "True\n",
      "True\n",
      "True\n",
      "True\n",
      "True\n",
      "True\n",
      "True\n",
      "True\n",
      "True\n",
      "True\n",
      "True\n",
      "True\n",
      "True\n",
      "True\n",
      "True\n",
      "True\n",
      "True\n",
      "True\n",
      "True\n",
      "True\n",
      "True\n",
      "True\n",
      "True\n",
      "True\n",
      "True\n",
      "True\n",
      "True\n"
     ]
    }
   ],
   "source": [
    "for Case in ('CT-CRT-21', 'CT-CRT-23', 'CT-CRT-24', 'CT-CRT-25', 'CT-CRT-26',\n",
    "             'CT-CRT-27', 'CT-CRT-28', 'CT-CRT-29', 'CT-CRT-30', 'CT-CRT-32',\n",
    "            'EBR-01', 'EBR-02'):\n",
    "    CHECK_CSV_Creation_GlobalErrors_ASD_SingleSW_BE(Case, 'MT-TDownsampled')\n",
    "    CHECK_CSV_Creation_GlobalErrors_DHD_SingleSW_BE(Case, 'MT-TDownsampled')\n",
    "    CHECK_CSV_Creation_GlobalErrors_DSC_SingleSW_BE(Case, 'MT-TDownsampled')"
   ]
  },
  {
   "cell_type": "code",
   "execution_count": 18,
   "metadata": {
    "scrolled": true
   },
   "outputs": [
    {
     "name": "stdout",
     "output_type": "stream",
     "text": [
      "True\n",
      "True\n",
      "True\n",
      "True\n",
      "True\n",
      "True\n"
     ]
    }
   ],
   "source": [
    "for Case in ('CT-CRT-31', 'CT-CRT-34'):\n",
    "    CHECK_CSV_Creation_GlobalErrors_ASD(Case, 'MT-HiRes-TDownsampled')\n",
    "    CHECK_CSV_Creation_GlobalErrors_DHD(Case, 'MT-HiRes-TDownsampled')\n",
    "    CHECK_CSV_Creation_GlobalErrors_DSC(Case, 'MT-HiRes-TDownsampled')"
   ]
  },
  {
   "cell_type": "code",
   "execution_count": null,
   "metadata": {},
   "outputs": [],
   "source": []
  }
 ],
 "metadata": {
  "kernelspec": {
   "display_name": "Python 3 (ipykernel)",
   "language": "python",
   "name": "python3"
  },
  "language_info": {
   "codemirror_mode": {
    "name": "ipython",
    "version": 3
   },
   "file_extension": ".py",
   "mimetype": "text/x-python",
   "name": "python",
   "nbconvert_exporter": "python",
   "pygments_lexer": "ipython3",
   "version": "3.9.7"
  }
 },
 "nbformat": 4,
 "nbformat_minor": 2
}
