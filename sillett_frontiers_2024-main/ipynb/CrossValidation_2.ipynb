{
 "cells": [
  {
   "cell_type": "markdown",
   "metadata": {},
   "source": [
    "Finding optimal (BE, SW) using 5-fold stratified cross validation"
   ]
  },
  {
   "cell_type": "code",
   "execution_count": 1,
   "metadata": {},
   "outputs": [],
   "source": [
    "# Import python modules\n",
    "\n",
    "import pandas as pd\n",
    "import numpy as np\n",
    "import matplotlib.pyplot as plt\n",
    "import matplotlib.patches as mpatches\n",
    "from scipy.stats import ttest_ind\n",
    "from sklearn.model_selection import train_test_split\n",
    "from sklearn.model_selection import KFold\n",
    "\n",
    "from optimisation import S_unified\n",
    "from optimisation import S_unified_local"
   ]
  },
  {
   "cell_type": "code",
   "execution_count": 2,
   "metadata": {},
   "outputs": [
    {
     "name": "stdout",
     "output_type": "stream",
     "text": [
      "1\n",
      "2\n",
      "3\n",
      "4\n",
      "5\n"
     ]
    }
   ],
   "source": [
    "## Read in validation cases\n",
    "## Will be 25 for each fold for TSFFD\n",
    "## Therefore 125 for 25 cases for 5 folds\n",
    "\n",
    "val_cases = np.chararray(shape=(125,), itemsize=9)\n",
    "\n",
    "for i in range(1, 6):\n",
    "    \n",
    "    print(i)\n",
    "    \n",
    "    f = open(f\"/home/csi20/Dropbox/phd/Data/RG_CT_Cases/Vxm_train/val_f{i}_strat.txt\", \"r\")\n",
    "    # list(f)\n",
    "    f_list = [case[:-1] for case in list(f)]\n",
    "    \n",
    "    g = open(f\"/home/csi20/Dropbox/phd/Data/RG_CT_Cases/Vxm_train/train_f{i}_strat.txt\", \"r\")\n",
    "    g_list = [case[:-1] for case in list(g)]\n",
    "    \n",
    "    start_index=25*(i-1)\n",
    "    end_index=25*(i-1)+5\n",
    "    end_train_index=25*(i-1)+25\n",
    "    \n",
    "    val_cases[start_index:end_index] = f_list\n",
    "    val_cases[end_index:end_train_index] = g_list"
   ]
  },
  {
   "cell_type": "code",
   "execution_count": 3,
   "metadata": {},
   "outputs": [],
   "source": [
    "val_cases_list = [case.decode(\"utf-8\") for case in val_cases]"
   ]
  },
  {
   "cell_type": "code",
   "execution_count": 4,
   "metadata": {},
   "outputs": [],
   "source": [
    "val_cases_list_new = [i.replace(\"CT-CRT-\", \"CT-CRT/case\") for i in val_cases_list]"
   ]
  },
  {
   "cell_type": "code",
   "execution_count": 5,
   "metadata": {},
   "outputs": [],
   "source": [
    "val_cases_list_new = [i.replace(\"EBR-\", \"EBR/case\") for i in val_cases_list_new]"
   ]
  },
  {
   "cell_type": "markdown",
   "metadata": {},
   "source": [
    "## Fold1"
   ]
  },
  {
   "cell_type": "code",
   "execution_count": 6,
   "metadata": {},
   "outputs": [
    {
     "ename": "FileNotFoundError",
     "evalue": "[Errno 2] No such file or directory: '/home/csi20/Dropbox/phd/Data/RG_CT_Cases/CT-CRT/case07/csv_results/MT-HiRes-Normal-Distance-Results.csv'",
     "output_type": "error",
     "traceback": [
      "\u001b[0;31m---------------------------------------------------------------------------\u001b[0m",
      "\u001b[0;31mFileNotFoundError\u001b[0m                         Traceback (most recent call last)",
      "Cell \u001b[0;32mIn[6], line 1\u001b[0m\n\u001b[0;32m----> 1\u001b[0m df_f1 \u001b[38;5;241m=\u001b[39m \u001b[43mS_unified\u001b[49m\u001b[43m(\u001b[49m\u001b[43mval_cases_list_new\u001b[49m\u001b[43m[\u001b[49m\u001b[38;5;241;43m5\u001b[39;49m\u001b[43m:\u001b[49m\u001b[38;5;241;43m25\u001b[39;49m\u001b[43m]\u001b[49m\u001b[43m,\u001b[49m\u001b[43m \u001b[49m\u001b[38;5;124;43m'\u001b[39;49m\u001b[38;5;124;43mASD\u001b[39;49m\u001b[38;5;124;43m'\u001b[39;49m\u001b[43m)\u001b[49m[\u001b[38;5;241m-\u001b[39m\u001b[38;5;241m1\u001b[39m] \u001b[38;5;241m+\u001b[39m S_unified(val_cases_list_new[\u001b[38;5;241m5\u001b[39m:\u001b[38;5;241m25\u001b[39m], \u001b[38;5;124m'\u001b[39m\u001b[38;5;124mDice\u001b[39m\u001b[38;5;124m'\u001b[39m)[\u001b[38;5;241m-\u001b[39m\u001b[38;5;241m1\u001b[39m] \u001b[38;5;241m+\u001b[39m S_unified(val_cases_list_new[\u001b[38;5;241m5\u001b[39m:\u001b[38;5;241m25\u001b[39m], \u001b[38;5;124m'\u001b[39m\u001b[38;5;124mDHD\u001b[39m\u001b[38;5;124m'\u001b[39m)[\u001b[38;5;241m-\u001b[39m\u001b[38;5;241m1\u001b[39m]\n\u001b[1;32m      2\u001b[0m df_f1 \u001b[38;5;241m=\u001b[39m df_f1\u001b[38;5;241m/\u001b[39m\u001b[38;5;241m3\u001b[39m\n\u001b[1;32m      3\u001b[0m df_f1\n",
      "File \u001b[0;32m/home/csi20/Dropbox/phd/Projects/LA_Tracking/iPython Notebooks/optimisation.py:39\u001b[0m, in \u001b[0;36mS_unified\u001b[0;34m(case_list, Error)\u001b[0m\n\u001b[1;32m     36\u001b[0m     cases_array[:, case_list\u001b[38;5;241m.\u001b[39mindex(Case)] \u001b[38;5;241m=\u001b[39m flattened_array \u001b[38;5;66;03m# assign flattened array to corresponding case col.\u001b[39;00m\n\u001b[1;32m     38\u001b[0m \u001b[38;5;28;01melse\u001b[39;00m:\n\u001b[0;32m---> 39\u001b[0m     df_read \u001b[38;5;241m=\u001b[39m \u001b[43mpd\u001b[49m\u001b[38;5;241;43m.\u001b[39;49m\u001b[43mread_csv\u001b[49m\u001b[43m(\u001b[49m\u001b[38;5;124;43mf\u001b[39;49m\u001b[38;5;124;43m'\u001b[39;49m\u001b[38;5;124;43m/home/csi20/Dropbox/phd/Data/RG_CT_Cases/\u001b[39;49m\u001b[38;5;132;43;01m{\u001b[39;49;00m\u001b[43mCase\u001b[49m\u001b[38;5;132;43;01m}\u001b[39;49;00m\u001b[38;5;124;43m/csv_results/MT-HiRes-\u001b[39;49m\u001b[38;5;132;43;01m{\u001b[39;49;00m\u001b[43mError\u001b[49m\u001b[38;5;132;43;01m}\u001b[39;49;00m\u001b[38;5;124;43m.csv\u001b[39;49m\u001b[38;5;124;43m'\u001b[39;49m\u001b[43m,\u001b[49m\u001b[43m \u001b[49m\n\u001b[1;32m     40\u001b[0m \u001b[43m                \u001b[49m\u001b[43msep\u001b[49m\u001b[43m \u001b[49m\u001b[38;5;241;43m=\u001b[39;49m\u001b[43m \u001b[49m\u001b[38;5;124;43m'\u001b[39;49m\u001b[38;5;124;43m \u001b[39;49m\u001b[38;5;124;43m'\u001b[39;49m\u001b[43m,\u001b[49m\u001b[43m \u001b[49m\u001b[43mindex_col\u001b[49m\u001b[43m \u001b[49m\u001b[38;5;241;43m=\u001b[39;49m\u001b[43m \u001b[49m\u001b[38;5;241;43m0\u001b[39;49m\u001b[43m)\u001b[49m\n\u001b[1;32m     41\u001b[0m     df_array \u001b[38;5;241m=\u001b[39m df_read\u001b[38;5;241m.\u001b[39mto_numpy()\n\u001b[1;32m     42\u001b[0m     flattened_array \u001b[38;5;241m=\u001b[39m np\u001b[38;5;241m.\u001b[39mreshape(df_array, \u001b[38;5;241m63\u001b[39m)\n",
      "File \u001b[0;32m/home/csi20/anaconda3/lib/python3.9/site-packages/pandas/util/_decorators.py:311\u001b[0m, in \u001b[0;36mdeprecate_nonkeyword_arguments.<locals>.decorate.<locals>.wrapper\u001b[0;34m(*args, **kwargs)\u001b[0m\n\u001b[1;32m    305\u001b[0m \u001b[38;5;28;01mif\u001b[39;00m \u001b[38;5;28mlen\u001b[39m(args) \u001b[38;5;241m>\u001b[39m num_allow_args:\n\u001b[1;32m    306\u001b[0m     warnings\u001b[38;5;241m.\u001b[39mwarn(\n\u001b[1;32m    307\u001b[0m         msg\u001b[38;5;241m.\u001b[39mformat(arguments\u001b[38;5;241m=\u001b[39marguments),\n\u001b[1;32m    308\u001b[0m         \u001b[38;5;167;01mFutureWarning\u001b[39;00m,\n\u001b[1;32m    309\u001b[0m         stacklevel\u001b[38;5;241m=\u001b[39mstacklevel,\n\u001b[1;32m    310\u001b[0m     )\n\u001b[0;32m--> 311\u001b[0m \u001b[38;5;28;01mreturn\u001b[39;00m \u001b[43mfunc\u001b[49m\u001b[43m(\u001b[49m\u001b[38;5;241;43m*\u001b[39;49m\u001b[43margs\u001b[49m\u001b[43m,\u001b[49m\u001b[43m \u001b[49m\u001b[38;5;241;43m*\u001b[39;49m\u001b[38;5;241;43m*\u001b[39;49m\u001b[43mkwargs\u001b[49m\u001b[43m)\u001b[49m\n",
      "File \u001b[0;32m/home/csi20/anaconda3/lib/python3.9/site-packages/pandas/io/parsers/readers.py:586\u001b[0m, in \u001b[0;36mread_csv\u001b[0;34m(filepath_or_buffer, sep, delimiter, header, names, index_col, usecols, squeeze, prefix, mangle_dupe_cols, dtype, engine, converters, true_values, false_values, skipinitialspace, skiprows, skipfooter, nrows, na_values, keep_default_na, na_filter, verbose, skip_blank_lines, parse_dates, infer_datetime_format, keep_date_col, date_parser, dayfirst, cache_dates, iterator, chunksize, compression, thousands, decimal, lineterminator, quotechar, quoting, doublequote, escapechar, comment, encoding, encoding_errors, dialect, error_bad_lines, warn_bad_lines, on_bad_lines, delim_whitespace, low_memory, memory_map, float_precision, storage_options)\u001b[0m\n\u001b[1;32m    571\u001b[0m kwds_defaults \u001b[38;5;241m=\u001b[39m _refine_defaults_read(\n\u001b[1;32m    572\u001b[0m     dialect,\n\u001b[1;32m    573\u001b[0m     delimiter,\n\u001b[0;32m   (...)\u001b[0m\n\u001b[1;32m    582\u001b[0m     defaults\u001b[38;5;241m=\u001b[39m{\u001b[38;5;124m\"\u001b[39m\u001b[38;5;124mdelimiter\u001b[39m\u001b[38;5;124m\"\u001b[39m: \u001b[38;5;124m\"\u001b[39m\u001b[38;5;124m,\u001b[39m\u001b[38;5;124m\"\u001b[39m},\n\u001b[1;32m    583\u001b[0m )\n\u001b[1;32m    584\u001b[0m kwds\u001b[38;5;241m.\u001b[39mupdate(kwds_defaults)\n\u001b[0;32m--> 586\u001b[0m \u001b[38;5;28;01mreturn\u001b[39;00m \u001b[43m_read\u001b[49m\u001b[43m(\u001b[49m\u001b[43mfilepath_or_buffer\u001b[49m\u001b[43m,\u001b[49m\u001b[43m \u001b[49m\u001b[43mkwds\u001b[49m\u001b[43m)\u001b[49m\n",
      "File \u001b[0;32m/home/csi20/anaconda3/lib/python3.9/site-packages/pandas/io/parsers/readers.py:482\u001b[0m, in \u001b[0;36m_read\u001b[0;34m(filepath_or_buffer, kwds)\u001b[0m\n\u001b[1;32m    479\u001b[0m _validate_names(kwds\u001b[38;5;241m.\u001b[39mget(\u001b[38;5;124m\"\u001b[39m\u001b[38;5;124mnames\u001b[39m\u001b[38;5;124m\"\u001b[39m, \u001b[38;5;28;01mNone\u001b[39;00m))\n\u001b[1;32m    481\u001b[0m \u001b[38;5;66;03m# Create the parser.\u001b[39;00m\n\u001b[0;32m--> 482\u001b[0m parser \u001b[38;5;241m=\u001b[39m \u001b[43mTextFileReader\u001b[49m\u001b[43m(\u001b[49m\u001b[43mfilepath_or_buffer\u001b[49m\u001b[43m,\u001b[49m\u001b[43m \u001b[49m\u001b[38;5;241;43m*\u001b[39;49m\u001b[38;5;241;43m*\u001b[39;49m\u001b[43mkwds\u001b[49m\u001b[43m)\u001b[49m\n\u001b[1;32m    484\u001b[0m \u001b[38;5;28;01mif\u001b[39;00m chunksize \u001b[38;5;129;01mor\u001b[39;00m iterator:\n\u001b[1;32m    485\u001b[0m     \u001b[38;5;28;01mreturn\u001b[39;00m parser\n",
      "File \u001b[0;32m/home/csi20/anaconda3/lib/python3.9/site-packages/pandas/io/parsers/readers.py:811\u001b[0m, in \u001b[0;36mTextFileReader.__init__\u001b[0;34m(self, f, engine, **kwds)\u001b[0m\n\u001b[1;32m    808\u001b[0m \u001b[38;5;28;01mif\u001b[39;00m \u001b[38;5;124m\"\u001b[39m\u001b[38;5;124mhas_index_names\u001b[39m\u001b[38;5;124m\"\u001b[39m \u001b[38;5;129;01min\u001b[39;00m kwds:\n\u001b[1;32m    809\u001b[0m     \u001b[38;5;28mself\u001b[39m\u001b[38;5;241m.\u001b[39moptions[\u001b[38;5;124m\"\u001b[39m\u001b[38;5;124mhas_index_names\u001b[39m\u001b[38;5;124m\"\u001b[39m] \u001b[38;5;241m=\u001b[39m kwds[\u001b[38;5;124m\"\u001b[39m\u001b[38;5;124mhas_index_names\u001b[39m\u001b[38;5;124m\"\u001b[39m]\n\u001b[0;32m--> 811\u001b[0m \u001b[38;5;28mself\u001b[39m\u001b[38;5;241m.\u001b[39m_engine \u001b[38;5;241m=\u001b[39m \u001b[38;5;28;43mself\u001b[39;49m\u001b[38;5;241;43m.\u001b[39;49m\u001b[43m_make_engine\u001b[49m\u001b[43m(\u001b[49m\u001b[38;5;28;43mself\u001b[39;49m\u001b[38;5;241;43m.\u001b[39;49m\u001b[43mengine\u001b[49m\u001b[43m)\u001b[49m\n",
      "File \u001b[0;32m/home/csi20/anaconda3/lib/python3.9/site-packages/pandas/io/parsers/readers.py:1040\u001b[0m, in \u001b[0;36mTextFileReader._make_engine\u001b[0;34m(self, engine)\u001b[0m\n\u001b[1;32m   1036\u001b[0m     \u001b[38;5;28;01mraise\u001b[39;00m \u001b[38;5;167;01mValueError\u001b[39;00m(\n\u001b[1;32m   1037\u001b[0m         \u001b[38;5;124mf\u001b[39m\u001b[38;5;124m\"\u001b[39m\u001b[38;5;124mUnknown engine: \u001b[39m\u001b[38;5;132;01m{\u001b[39;00mengine\u001b[38;5;132;01m}\u001b[39;00m\u001b[38;5;124m (valid options are \u001b[39m\u001b[38;5;132;01m{\u001b[39;00mmapping\u001b[38;5;241m.\u001b[39mkeys()\u001b[38;5;132;01m}\u001b[39;00m\u001b[38;5;124m)\u001b[39m\u001b[38;5;124m\"\u001b[39m\n\u001b[1;32m   1038\u001b[0m     )\n\u001b[1;32m   1039\u001b[0m \u001b[38;5;66;03m# error: Too many arguments for \"ParserBase\"\u001b[39;00m\n\u001b[0;32m-> 1040\u001b[0m \u001b[38;5;28;01mreturn\u001b[39;00m \u001b[43mmapping\u001b[49m\u001b[43m[\u001b[49m\u001b[43mengine\u001b[49m\u001b[43m]\u001b[49m\u001b[43m(\u001b[49m\u001b[38;5;28;43mself\u001b[39;49m\u001b[38;5;241;43m.\u001b[39;49m\u001b[43mf\u001b[49m\u001b[43m,\u001b[49m\u001b[43m \u001b[49m\u001b[38;5;241;43m*\u001b[39;49m\u001b[38;5;241;43m*\u001b[39;49m\u001b[38;5;28;43mself\u001b[39;49m\u001b[38;5;241;43m.\u001b[39;49m\u001b[43moptions\u001b[49m\u001b[43m)\u001b[49m\n",
      "File \u001b[0;32m/home/csi20/anaconda3/lib/python3.9/site-packages/pandas/io/parsers/c_parser_wrapper.py:51\u001b[0m, in \u001b[0;36mCParserWrapper.__init__\u001b[0;34m(self, src, **kwds)\u001b[0m\n\u001b[1;32m     48\u001b[0m kwds[\u001b[38;5;124m\"\u001b[39m\u001b[38;5;124musecols\u001b[39m\u001b[38;5;124m\"\u001b[39m] \u001b[38;5;241m=\u001b[39m \u001b[38;5;28mself\u001b[39m\u001b[38;5;241m.\u001b[39musecols\n\u001b[1;32m     50\u001b[0m \u001b[38;5;66;03m# open handles\u001b[39;00m\n\u001b[0;32m---> 51\u001b[0m \u001b[38;5;28;43mself\u001b[39;49m\u001b[38;5;241;43m.\u001b[39;49m\u001b[43m_open_handles\u001b[49m\u001b[43m(\u001b[49m\u001b[43msrc\u001b[49m\u001b[43m,\u001b[49m\u001b[43m \u001b[49m\u001b[43mkwds\u001b[49m\u001b[43m)\u001b[49m\n\u001b[1;32m     52\u001b[0m \u001b[38;5;28;01massert\u001b[39;00m \u001b[38;5;28mself\u001b[39m\u001b[38;5;241m.\u001b[39mhandles \u001b[38;5;129;01mis\u001b[39;00m \u001b[38;5;129;01mnot\u001b[39;00m \u001b[38;5;28;01mNone\u001b[39;00m\n\u001b[1;32m     54\u001b[0m \u001b[38;5;66;03m# Have to pass int, would break tests using TextReader directly otherwise :(\u001b[39;00m\n",
      "File \u001b[0;32m/home/csi20/anaconda3/lib/python3.9/site-packages/pandas/io/parsers/base_parser.py:222\u001b[0m, in \u001b[0;36mParserBase._open_handles\u001b[0;34m(self, src, kwds)\u001b[0m\n\u001b[1;32m    218\u001b[0m \u001b[38;5;28;01mdef\u001b[39;00m \u001b[38;5;21m_open_handles\u001b[39m(\u001b[38;5;28mself\u001b[39m, src: FilePathOrBuffer, kwds: \u001b[38;5;28mdict\u001b[39m[\u001b[38;5;28mstr\u001b[39m, Any]) \u001b[38;5;241m-\u001b[39m\u001b[38;5;241m>\u001b[39m \u001b[38;5;28;01mNone\u001b[39;00m:\n\u001b[1;32m    219\u001b[0m \u001b[38;5;250m    \u001b[39m\u001b[38;5;124;03m\"\"\"\u001b[39;00m\n\u001b[1;32m    220\u001b[0m \u001b[38;5;124;03m    Let the readers open IOHandles after they are done with their potential raises.\u001b[39;00m\n\u001b[1;32m    221\u001b[0m \u001b[38;5;124;03m    \"\"\"\u001b[39;00m\n\u001b[0;32m--> 222\u001b[0m     \u001b[38;5;28mself\u001b[39m\u001b[38;5;241m.\u001b[39mhandles \u001b[38;5;241m=\u001b[39m \u001b[43mget_handle\u001b[49m\u001b[43m(\u001b[49m\n\u001b[1;32m    223\u001b[0m \u001b[43m        \u001b[49m\u001b[43msrc\u001b[49m\u001b[43m,\u001b[49m\n\u001b[1;32m    224\u001b[0m \u001b[43m        \u001b[49m\u001b[38;5;124;43m\"\u001b[39;49m\u001b[38;5;124;43mr\u001b[39;49m\u001b[38;5;124;43m\"\u001b[39;49m\u001b[43m,\u001b[49m\n\u001b[1;32m    225\u001b[0m \u001b[43m        \u001b[49m\u001b[43mencoding\u001b[49m\u001b[38;5;241;43m=\u001b[39;49m\u001b[43mkwds\u001b[49m\u001b[38;5;241;43m.\u001b[39;49m\u001b[43mget\u001b[49m\u001b[43m(\u001b[49m\u001b[38;5;124;43m\"\u001b[39;49m\u001b[38;5;124;43mencoding\u001b[39;49m\u001b[38;5;124;43m\"\u001b[39;49m\u001b[43m,\u001b[49m\u001b[43m \u001b[49m\u001b[38;5;28;43;01mNone\u001b[39;49;00m\u001b[43m)\u001b[49m\u001b[43m,\u001b[49m\n\u001b[1;32m    226\u001b[0m \u001b[43m        \u001b[49m\u001b[43mcompression\u001b[49m\u001b[38;5;241;43m=\u001b[39;49m\u001b[43mkwds\u001b[49m\u001b[38;5;241;43m.\u001b[39;49m\u001b[43mget\u001b[49m\u001b[43m(\u001b[49m\u001b[38;5;124;43m\"\u001b[39;49m\u001b[38;5;124;43mcompression\u001b[39;49m\u001b[38;5;124;43m\"\u001b[39;49m\u001b[43m,\u001b[49m\u001b[43m \u001b[49m\u001b[38;5;28;43;01mNone\u001b[39;49;00m\u001b[43m)\u001b[49m\u001b[43m,\u001b[49m\n\u001b[1;32m    227\u001b[0m \u001b[43m        \u001b[49m\u001b[43mmemory_map\u001b[49m\u001b[38;5;241;43m=\u001b[39;49m\u001b[43mkwds\u001b[49m\u001b[38;5;241;43m.\u001b[39;49m\u001b[43mget\u001b[49m\u001b[43m(\u001b[49m\u001b[38;5;124;43m\"\u001b[39;49m\u001b[38;5;124;43mmemory_map\u001b[39;49m\u001b[38;5;124;43m\"\u001b[39;49m\u001b[43m,\u001b[49m\u001b[43m \u001b[49m\u001b[38;5;28;43;01mFalse\u001b[39;49;00m\u001b[43m)\u001b[49m\u001b[43m,\u001b[49m\n\u001b[1;32m    228\u001b[0m \u001b[43m        \u001b[49m\u001b[43mstorage_options\u001b[49m\u001b[38;5;241;43m=\u001b[39;49m\u001b[43mkwds\u001b[49m\u001b[38;5;241;43m.\u001b[39;49m\u001b[43mget\u001b[49m\u001b[43m(\u001b[49m\u001b[38;5;124;43m\"\u001b[39;49m\u001b[38;5;124;43mstorage_options\u001b[39;49m\u001b[38;5;124;43m\"\u001b[39;49m\u001b[43m,\u001b[49m\u001b[43m \u001b[49m\u001b[38;5;28;43;01mNone\u001b[39;49;00m\u001b[43m)\u001b[49m\u001b[43m,\u001b[49m\n\u001b[1;32m    229\u001b[0m \u001b[43m        \u001b[49m\u001b[43merrors\u001b[49m\u001b[38;5;241;43m=\u001b[39;49m\u001b[43mkwds\u001b[49m\u001b[38;5;241;43m.\u001b[39;49m\u001b[43mget\u001b[49m\u001b[43m(\u001b[49m\u001b[38;5;124;43m\"\u001b[39;49m\u001b[38;5;124;43mencoding_errors\u001b[39;49m\u001b[38;5;124;43m\"\u001b[39;49m\u001b[43m,\u001b[49m\u001b[43m \u001b[49m\u001b[38;5;124;43m\"\u001b[39;49m\u001b[38;5;124;43mstrict\u001b[39;49m\u001b[38;5;124;43m\"\u001b[39;49m\u001b[43m)\u001b[49m\u001b[43m,\u001b[49m\n\u001b[1;32m    230\u001b[0m \u001b[43m    \u001b[49m\u001b[43m)\u001b[49m\n",
      "File \u001b[0;32m/home/csi20/anaconda3/lib/python3.9/site-packages/pandas/io/common.py:702\u001b[0m, in \u001b[0;36mget_handle\u001b[0;34m(path_or_buf, mode, encoding, compression, memory_map, is_text, errors, storage_options)\u001b[0m\n\u001b[1;32m    697\u001b[0m \u001b[38;5;28;01melif\u001b[39;00m \u001b[38;5;28misinstance\u001b[39m(handle, \u001b[38;5;28mstr\u001b[39m):\n\u001b[1;32m    698\u001b[0m     \u001b[38;5;66;03m# Check whether the filename is to be opened in binary mode.\u001b[39;00m\n\u001b[1;32m    699\u001b[0m     \u001b[38;5;66;03m# Binary mode does not support 'encoding' and 'newline'.\u001b[39;00m\n\u001b[1;32m    700\u001b[0m     \u001b[38;5;28;01mif\u001b[39;00m ioargs\u001b[38;5;241m.\u001b[39mencoding \u001b[38;5;129;01mand\u001b[39;00m \u001b[38;5;124m\"\u001b[39m\u001b[38;5;124mb\u001b[39m\u001b[38;5;124m\"\u001b[39m \u001b[38;5;129;01mnot\u001b[39;00m \u001b[38;5;129;01min\u001b[39;00m ioargs\u001b[38;5;241m.\u001b[39mmode:\n\u001b[1;32m    701\u001b[0m         \u001b[38;5;66;03m# Encoding\u001b[39;00m\n\u001b[0;32m--> 702\u001b[0m         handle \u001b[38;5;241m=\u001b[39m \u001b[38;5;28;43mopen\u001b[39;49m\u001b[43m(\u001b[49m\n\u001b[1;32m    703\u001b[0m \u001b[43m            \u001b[49m\u001b[43mhandle\u001b[49m\u001b[43m,\u001b[49m\n\u001b[1;32m    704\u001b[0m \u001b[43m            \u001b[49m\u001b[43mioargs\u001b[49m\u001b[38;5;241;43m.\u001b[39;49m\u001b[43mmode\u001b[49m\u001b[43m,\u001b[49m\n\u001b[1;32m    705\u001b[0m \u001b[43m            \u001b[49m\u001b[43mencoding\u001b[49m\u001b[38;5;241;43m=\u001b[39;49m\u001b[43mioargs\u001b[49m\u001b[38;5;241;43m.\u001b[39;49m\u001b[43mencoding\u001b[49m\u001b[43m,\u001b[49m\n\u001b[1;32m    706\u001b[0m \u001b[43m            \u001b[49m\u001b[43merrors\u001b[49m\u001b[38;5;241;43m=\u001b[39;49m\u001b[43merrors\u001b[49m\u001b[43m,\u001b[49m\n\u001b[1;32m    707\u001b[0m \u001b[43m            \u001b[49m\u001b[43mnewline\u001b[49m\u001b[38;5;241;43m=\u001b[39;49m\u001b[38;5;124;43m\"\u001b[39;49m\u001b[38;5;124;43m\"\u001b[39;49m\u001b[43m,\u001b[49m\n\u001b[1;32m    708\u001b[0m \u001b[43m        \u001b[49m\u001b[43m)\u001b[49m\n\u001b[1;32m    709\u001b[0m     \u001b[38;5;28;01melse\u001b[39;00m:\n\u001b[1;32m    710\u001b[0m         \u001b[38;5;66;03m# Binary mode\u001b[39;00m\n\u001b[1;32m    711\u001b[0m         handle \u001b[38;5;241m=\u001b[39m \u001b[38;5;28mopen\u001b[39m(handle, ioargs\u001b[38;5;241m.\u001b[39mmode)\n",
      "\u001b[0;31mFileNotFoundError\u001b[0m: [Errno 2] No such file or directory: '/home/csi20/Dropbox/phd/Data/RG_CT_Cases/CT-CRT/case07/csv_results/MT-HiRes-Normal-Distance-Results.csv'"
     ]
    }
   ],
   "source": [
    "df_f1 = S_unified(val_cases_list_new[5:25], 'ASD')[-1] + S_unified(val_cases_list_new[5:25], 'Dice')[-1] + S_unified(val_cases_list_new[5:25], 'DHD')[-1]\n",
    "df_f1 = df_f1/3\n",
    "df_f1"
   ]
  },
  {
   "cell_type": "code",
   "execution_count": 6,
   "metadata": {},
   "outputs": [
    {
     "data": {
      "text/html": [
       "<div>\n",
       "<style scoped>\n",
       "    .dataframe tbody tr th:only-of-type {\n",
       "        vertical-align: middle;\n",
       "    }\n",
       "\n",
       "    .dataframe tbody tr th {\n",
       "        vertical-align: top;\n",
       "    }\n",
       "\n",
       "    .dataframe thead th {\n",
       "        text-align: right;\n",
       "    }\n",
       "</style>\n",
       "<table border=\"1\" class=\"dataframe\">\n",
       "  <thead>\n",
       "    <tr style=\"text-align: right;\">\n",
       "      <th></th>\n",
       "      <th>9e-2</th>\n",
       "      <th>3e-2</th>\n",
       "      <th>9e-3</th>\n",
       "      <th>3e-3</th>\n",
       "      <th>9e-4</th>\n",
       "      <th>3e-4</th>\n",
       "      <th>0.0</th>\n",
       "    </tr>\n",
       "  </thead>\n",
       "  <tbody>\n",
       "    <tr>\n",
       "      <th>4.000000e-06</th>\n",
       "      <td>0.847673</td>\n",
       "      <td>-0.635762</td>\n",
       "      <td>-0.881902</td>\n",
       "      <td>0.410297</td>\n",
       "      <td>-1.136593</td>\n",
       "      <td>-0.621844</td>\n",
       "      <td>0.067791</td>\n",
       "    </tr>\n",
       "    <tr>\n",
       "      <th>1.000000e-06</th>\n",
       "      <td>0.271622</td>\n",
       "      <td>0.843611</td>\n",
       "      <td>-0.031574</td>\n",
       "      <td>-0.602268</td>\n",
       "      <td>0.634301</td>\n",
       "      <td>-0.096458</td>\n",
       "      <td>-0.713691</td>\n",
       "    </tr>\n",
       "    <tr>\n",
       "      <th>4.000000e-07</th>\n",
       "      <td>-0.925889</td>\n",
       "      <td>-0.348715</td>\n",
       "      <td>0.833401</td>\n",
       "      <td>-0.128243</td>\n",
       "      <td>-0.391873</td>\n",
       "      <td>0.120192</td>\n",
       "      <td>-0.262168</td>\n",
       "    </tr>\n",
       "    <tr>\n",
       "      <th>1.000000e-07</th>\n",
       "      <td>-0.450439</td>\n",
       "      <td>0.324501</td>\n",
       "      <td>0.244567</td>\n",
       "      <td>0.934252</td>\n",
       "      <td>-0.445656</td>\n",
       "      <td>1.645141</td>\n",
       "      <td>0.473852</td>\n",
       "    </tr>\n",
       "    <tr>\n",
       "      <th>4.000000e-08</th>\n",
       "      <td>-0.088107</td>\n",
       "      <td>-0.752166</td>\n",
       "      <td>0.731765</td>\n",
       "      <td>0.541218</td>\n",
       "      <td>0.062618</td>\n",
       "      <td>-0.600954</td>\n",
       "      <td>-0.690664</td>\n",
       "    </tr>\n",
       "    <tr>\n",
       "      <th>1.000000e-08</th>\n",
       "      <td>0.325763</td>\n",
       "      <td>0.786694</td>\n",
       "      <td>-0.084889</td>\n",
       "      <td>-0.365029</td>\n",
       "      <td>-0.432879</td>\n",
       "      <td>-0.072705</td>\n",
       "      <td>-0.272836</td>\n",
       "    </tr>\n",
       "    <tr>\n",
       "      <th>4.000000e-09</th>\n",
       "      <td>0.683401</td>\n",
       "      <td>0.963720</td>\n",
       "      <td>1.114046</td>\n",
       "      <td>0.778827</td>\n",
       "      <td>-1.057923</td>\n",
       "      <td>0.593594</td>\n",
       "      <td>-1.088642</td>\n",
       "    </tr>\n",
       "    <tr>\n",
       "      <th>1.000000e-09</th>\n",
       "      <td>-0.141337</td>\n",
       "      <td>0.230529</td>\n",
       "      <td>0.228668</td>\n",
       "      <td>-0.255142</td>\n",
       "      <td>1.220726</td>\n",
       "      <td>-0.584292</td>\n",
       "      <td>-1.629572</td>\n",
       "    </tr>\n",
       "    <tr>\n",
       "      <th>4.000000e-10</th>\n",
       "      <td>-0.110223</td>\n",
       "      <td>0.179508</td>\n",
       "      <td>0.377472</td>\n",
       "      <td>0.199828</td>\n",
       "      <td>0.105837</td>\n",
       "      <td>0.112357</td>\n",
       "      <td>-0.987337</td>\n",
       "    </tr>\n",
       "  </tbody>\n",
       "</table>\n",
       "</div>"
      ],
      "text/plain": [
       "                  9e-2      3e-2      9e-3      3e-3      9e-4      3e-4  \\\n",
       "4.000000e-06  0.847673 -0.635762 -0.881902  0.410297 -1.136593 -0.621844   \n",
       "1.000000e-06  0.271622  0.843611 -0.031574 -0.602268  0.634301 -0.096458   \n",
       "4.000000e-07 -0.925889 -0.348715  0.833401 -0.128243 -0.391873  0.120192   \n",
       "1.000000e-07 -0.450439  0.324501  0.244567  0.934252 -0.445656  1.645141   \n",
       "4.000000e-08 -0.088107 -0.752166  0.731765  0.541218  0.062618 -0.600954   \n",
       "1.000000e-08  0.325763  0.786694 -0.084889 -0.365029 -0.432879 -0.072705   \n",
       "4.000000e-09  0.683401  0.963720  1.114046  0.778827 -1.057923  0.593594   \n",
       "1.000000e-09 -0.141337  0.230529  0.228668 -0.255142  1.220726 -0.584292   \n",
       "4.000000e-10 -0.110223  0.179508  0.377472  0.199828  0.105837  0.112357   \n",
       "\n",
       "                   0.0  \n",
       "4.000000e-06  0.067791  \n",
       "1.000000e-06 -0.713691  \n",
       "4.000000e-07 -0.262168  \n",
       "1.000000e-07  0.473852  \n",
       "4.000000e-08 -0.690664  \n",
       "1.000000e-08 -0.272836  \n",
       "4.000000e-09 -1.088642  \n",
       "1.000000e-09 -1.629572  \n",
       "4.000000e-10 -0.987337  "
      ]
     },
     "execution_count": 6,
     "metadata": {},
     "output_type": "execute_result"
    }
   ],
   "source": [
    "df_f1 = S_unified(val_cases_list_new[5:25], 'ASD')[-1] + S_unified(val_cases_list_new[5:25], 'Dice')[-1] + S_unified(val_cases_list_new[5:25], 'DHD')[-1]\n",
    "df_f1 = df_f1/3\n",
    "df_f1"
   ]
  },
  {
   "cell_type": "code",
   "execution_count": 7,
   "metadata": {},
   "outputs": [
    {
     "data": {
      "text/plain": [
       "9e-2   -0.925889\n",
       "3e-2   -0.752166\n",
       "9e-3   -0.881902\n",
       "3e-3   -0.602268\n",
       "9e-4   -1.136593\n",
       "3e-4   -0.621844\n",
       "0.0    -1.629572\n",
       "dtype: float64"
      ]
     },
     "execution_count": 7,
     "metadata": {},
     "output_type": "execute_result"
    }
   ],
   "source": [
    "df_f1.min()"
   ]
  },
  {
   "cell_type": "code",
   "execution_count": 8,
   "metadata": {},
   "outputs": [
    {
     "data": {
      "text/plain": [
       "-1.6295720106869276"
      ]
     },
     "execution_count": 8,
     "metadata": {},
     "output_type": "execute_result"
    }
   ],
   "source": [
    "df_f1.min().min()"
   ]
  },
  {
   "cell_type": "markdown",
   "metadata": {},
   "source": [
    "## Fold2"
   ]
  },
  {
   "cell_type": "code",
   "execution_count": 9,
   "metadata": {},
   "outputs": [
    {
     "data": {
      "text/html": [
       "<div>\n",
       "<style scoped>\n",
       "    .dataframe tbody tr th:only-of-type {\n",
       "        vertical-align: middle;\n",
       "    }\n",
       "\n",
       "    .dataframe tbody tr th {\n",
       "        vertical-align: top;\n",
       "    }\n",
       "\n",
       "    .dataframe thead th {\n",
       "        text-align: right;\n",
       "    }\n",
       "</style>\n",
       "<table border=\"1\" class=\"dataframe\">\n",
       "  <thead>\n",
       "    <tr style=\"text-align: right;\">\n",
       "      <th></th>\n",
       "      <th>9e-2</th>\n",
       "      <th>3e-2</th>\n",
       "      <th>9e-3</th>\n",
       "      <th>3e-3</th>\n",
       "      <th>9e-4</th>\n",
       "      <th>3e-4</th>\n",
       "      <th>0.0</th>\n",
       "    </tr>\n",
       "  </thead>\n",
       "  <tbody>\n",
       "    <tr>\n",
       "      <th>4.000000e-06</th>\n",
       "      <td>0.171922</td>\n",
       "      <td>-0.510682</td>\n",
       "      <td>-0.136854</td>\n",
       "      <td>-0.042058</td>\n",
       "      <td>-0.396576</td>\n",
       "      <td>-0.226479</td>\n",
       "      <td>-1.160155</td>\n",
       "    </tr>\n",
       "    <tr>\n",
       "      <th>1.000000e-06</th>\n",
       "      <td>-0.360027</td>\n",
       "      <td>0.655172</td>\n",
       "      <td>0.390802</td>\n",
       "      <td>-0.715329</td>\n",
       "      <td>0.690080</td>\n",
       "      <td>0.450301</td>\n",
       "      <td>-1.094470</td>\n",
       "    </tr>\n",
       "    <tr>\n",
       "      <th>4.000000e-07</th>\n",
       "      <td>-0.622837</td>\n",
       "      <td>-0.672061</td>\n",
       "      <td>0.614314</td>\n",
       "      <td>1.198189</td>\n",
       "      <td>-0.189636</td>\n",
       "      <td>-0.075029</td>\n",
       "      <td>-0.905550</td>\n",
       "    </tr>\n",
       "    <tr>\n",
       "      <th>1.000000e-07</th>\n",
       "      <td>-0.669386</td>\n",
       "      <td>0.418021</td>\n",
       "      <td>0.198366</td>\n",
       "      <td>0.790811</td>\n",
       "      <td>0.077661</td>\n",
       "      <td>1.223005</td>\n",
       "      <td>-0.405570</td>\n",
       "    </tr>\n",
       "    <tr>\n",
       "      <th>4.000000e-08</th>\n",
       "      <td>0.240970</td>\n",
       "      <td>0.361785</td>\n",
       "      <td>0.352191</td>\n",
       "      <td>0.449209</td>\n",
       "      <td>-0.487547</td>\n",
       "      <td>-1.085319</td>\n",
       "      <td>-0.293236</td>\n",
       "    </tr>\n",
       "    <tr>\n",
       "      <th>1.000000e-08</th>\n",
       "      <td>0.396677</td>\n",
       "      <td>0.876368</td>\n",
       "      <td>0.511114</td>\n",
       "      <td>0.243589</td>\n",
       "      <td>-0.194244</td>\n",
       "      <td>0.026422</td>\n",
       "      <td>-1.476276</td>\n",
       "    </tr>\n",
       "    <tr>\n",
       "      <th>4.000000e-09</th>\n",
       "      <td>0.785661</td>\n",
       "      <td>0.019348</td>\n",
       "      <td>1.911273</td>\n",
       "      <td>-0.136775</td>\n",
       "      <td>-0.462490</td>\n",
       "      <td>0.537984</td>\n",
       "      <td>0.035155</td>\n",
       "    </tr>\n",
       "    <tr>\n",
       "      <th>1.000000e-09</th>\n",
       "      <td>0.653214</td>\n",
       "      <td>0.410974</td>\n",
       "      <td>-0.334324</td>\n",
       "      <td>-0.472985</td>\n",
       "      <td>0.686431</td>\n",
       "      <td>-0.755917</td>\n",
       "      <td>-1.898697</td>\n",
       "    </tr>\n",
       "    <tr>\n",
       "      <th>4.000000e-10</th>\n",
       "      <td>0.255140</td>\n",
       "      <td>-0.172212</td>\n",
       "      <td>0.457549</td>\n",
       "      <td>0.211874</td>\n",
       "      <td>0.863636</td>\n",
       "      <td>0.289600</td>\n",
       "      <td>-1.502085</td>\n",
       "    </tr>\n",
       "  </tbody>\n",
       "</table>\n",
       "</div>"
      ],
      "text/plain": [
       "                  9e-2      3e-2      9e-3      3e-3      9e-4      3e-4  \\\n",
       "4.000000e-06  0.171922 -0.510682 -0.136854 -0.042058 -0.396576 -0.226479   \n",
       "1.000000e-06 -0.360027  0.655172  0.390802 -0.715329  0.690080  0.450301   \n",
       "4.000000e-07 -0.622837 -0.672061  0.614314  1.198189 -0.189636 -0.075029   \n",
       "1.000000e-07 -0.669386  0.418021  0.198366  0.790811  0.077661  1.223005   \n",
       "4.000000e-08  0.240970  0.361785  0.352191  0.449209 -0.487547 -1.085319   \n",
       "1.000000e-08  0.396677  0.876368  0.511114  0.243589 -0.194244  0.026422   \n",
       "4.000000e-09  0.785661  0.019348  1.911273 -0.136775 -0.462490  0.537984   \n",
       "1.000000e-09  0.653214  0.410974 -0.334324 -0.472985  0.686431 -0.755917   \n",
       "4.000000e-10  0.255140 -0.172212  0.457549  0.211874  0.863636  0.289600   \n",
       "\n",
       "                   0.0  \n",
       "4.000000e-06 -1.160155  \n",
       "1.000000e-06 -1.094470  \n",
       "4.000000e-07 -0.905550  \n",
       "1.000000e-07 -0.405570  \n",
       "4.000000e-08 -0.293236  \n",
       "1.000000e-08 -1.476276  \n",
       "4.000000e-09  0.035155  \n",
       "1.000000e-09 -1.898697  \n",
       "4.000000e-10 -1.502085  "
      ]
     },
     "execution_count": 9,
     "metadata": {},
     "output_type": "execute_result"
    }
   ],
   "source": [
    "df_f2 = S_unified(val_cases_list_new[30:50], 'ASD')[-1] + S_unified(val_cases_list_new[30:50], 'Dice')[-1] + S_unified(val_cases_list_new[30:50], 'DHD')[-1]\n",
    "df_f2 = df_f2/3\n",
    "df_f2"
   ]
  },
  {
   "cell_type": "code",
   "execution_count": 10,
   "metadata": {},
   "outputs": [
    {
     "data": {
      "text/plain": [
       "9e-2   -0.669386\n",
       "3e-2   -0.672061\n",
       "9e-3   -0.334324\n",
       "3e-3   -0.715329\n",
       "9e-4   -0.487547\n",
       "3e-4   -1.085319\n",
       "0.0    -1.898697\n",
       "dtype: float64"
      ]
     },
     "execution_count": 10,
     "metadata": {},
     "output_type": "execute_result"
    }
   ],
   "source": [
    "df_f2.min()"
   ]
  },
  {
   "cell_type": "code",
   "execution_count": 11,
   "metadata": {},
   "outputs": [
    {
     "data": {
      "text/plain": [
       "-1.8986970518616608"
      ]
     },
     "execution_count": 11,
     "metadata": {},
     "output_type": "execute_result"
    }
   ],
   "source": [
    "df_f2.min().min()"
   ]
  },
  {
   "cell_type": "markdown",
   "metadata": {},
   "source": [
    "## Fold3"
   ]
  },
  {
   "cell_type": "code",
   "execution_count": 12,
   "metadata": {},
   "outputs": [
    {
     "data": {
      "text/html": [
       "<div>\n",
       "<style scoped>\n",
       "    .dataframe tbody tr th:only-of-type {\n",
       "        vertical-align: middle;\n",
       "    }\n",
       "\n",
       "    .dataframe tbody tr th {\n",
       "        vertical-align: top;\n",
       "    }\n",
       "\n",
       "    .dataframe thead th {\n",
       "        text-align: right;\n",
       "    }\n",
       "</style>\n",
       "<table border=\"1\" class=\"dataframe\">\n",
       "  <thead>\n",
       "    <tr style=\"text-align: right;\">\n",
       "      <th></th>\n",
       "      <th>9e-2</th>\n",
       "      <th>3e-2</th>\n",
       "      <th>9e-3</th>\n",
       "      <th>3e-3</th>\n",
       "      <th>9e-4</th>\n",
       "      <th>3e-4</th>\n",
       "      <th>0.0</th>\n",
       "    </tr>\n",
       "  </thead>\n",
       "  <tbody>\n",
       "    <tr>\n",
       "      <th>4.000000e-06</th>\n",
       "      <td>1.008907</td>\n",
       "      <td>-0.257822</td>\n",
       "      <td>-0.686507</td>\n",
       "      <td>0.113959</td>\n",
       "      <td>0.019858</td>\n",
       "      <td>0.466225</td>\n",
       "      <td>-1.432832</td>\n",
       "    </tr>\n",
       "    <tr>\n",
       "      <th>1.000000e-06</th>\n",
       "      <td>-0.690480</td>\n",
       "      <td>0.565089</td>\n",
       "      <td>-0.161146</td>\n",
       "      <td>0.314006</td>\n",
       "      <td>1.039769</td>\n",
       "      <td>-0.251390</td>\n",
       "      <td>-1.578729</td>\n",
       "    </tr>\n",
       "    <tr>\n",
       "      <th>4.000000e-07</th>\n",
       "      <td>0.016137</td>\n",
       "      <td>-0.759554</td>\n",
       "      <td>0.395515</td>\n",
       "      <td>0.200291</td>\n",
       "      <td>-1.620842</td>\n",
       "      <td>0.434003</td>\n",
       "      <td>-0.417457</td>\n",
       "    </tr>\n",
       "    <tr>\n",
       "      <th>1.000000e-07</th>\n",
       "      <td>-0.515653</td>\n",
       "      <td>-0.176430</td>\n",
       "      <td>0.683344</td>\n",
       "      <td>1.358126</td>\n",
       "      <td>0.118818</td>\n",
       "      <td>0.840653</td>\n",
       "      <td>-0.383219</td>\n",
       "    </tr>\n",
       "    <tr>\n",
       "      <th>4.000000e-08</th>\n",
       "      <td>0.477897</td>\n",
       "      <td>-0.383268</td>\n",
       "      <td>-0.218790</td>\n",
       "      <td>-0.291130</td>\n",
       "      <td>1.124004</td>\n",
       "      <td>0.229851</td>\n",
       "      <td>-1.383899</td>\n",
       "    </tr>\n",
       "    <tr>\n",
       "      <th>1.000000e-08</th>\n",
       "      <td>0.505483</td>\n",
       "      <td>1.136377</td>\n",
       "      <td>0.590504</td>\n",
       "      <td>0.358472</td>\n",
       "      <td>-0.454746</td>\n",
       "      <td>-0.354519</td>\n",
       "      <td>-1.721715</td>\n",
       "    </tr>\n",
       "    <tr>\n",
       "      <th>4.000000e-09</th>\n",
       "      <td>0.689762</td>\n",
       "      <td>0.681051</td>\n",
       "      <td>1.264265</td>\n",
       "      <td>0.461659</td>\n",
       "      <td>-0.338848</td>\n",
       "      <td>0.456703</td>\n",
       "      <td>-0.226296</td>\n",
       "    </tr>\n",
       "    <tr>\n",
       "      <th>1.000000e-09</th>\n",
       "      <td>0.359288</td>\n",
       "      <td>-0.002130</td>\n",
       "      <td>0.448470</td>\n",
       "      <td>-0.686529</td>\n",
       "      <td>0.100339</td>\n",
       "      <td>-0.214278</td>\n",
       "      <td>-1.071755</td>\n",
       "    </tr>\n",
       "    <tr>\n",
       "      <th>4.000000e-10</th>\n",
       "      <td>-0.455877</td>\n",
       "      <td>-0.465311</td>\n",
       "      <td>1.006715</td>\n",
       "      <td>-0.507946</td>\n",
       "      <td>0.477384</td>\n",
       "      <td>0.308884</td>\n",
       "      <td>-0.542711</td>\n",
       "    </tr>\n",
       "  </tbody>\n",
       "</table>\n",
       "</div>"
      ],
      "text/plain": [
       "                  9e-2      3e-2      9e-3      3e-3      9e-4      3e-4  \\\n",
       "4.000000e-06  1.008907 -0.257822 -0.686507  0.113959  0.019858  0.466225   \n",
       "1.000000e-06 -0.690480  0.565089 -0.161146  0.314006  1.039769 -0.251390   \n",
       "4.000000e-07  0.016137 -0.759554  0.395515  0.200291 -1.620842  0.434003   \n",
       "1.000000e-07 -0.515653 -0.176430  0.683344  1.358126  0.118818  0.840653   \n",
       "4.000000e-08  0.477897 -0.383268 -0.218790 -0.291130  1.124004  0.229851   \n",
       "1.000000e-08  0.505483  1.136377  0.590504  0.358472 -0.454746 -0.354519   \n",
       "4.000000e-09  0.689762  0.681051  1.264265  0.461659 -0.338848  0.456703   \n",
       "1.000000e-09  0.359288 -0.002130  0.448470 -0.686529  0.100339 -0.214278   \n",
       "4.000000e-10 -0.455877 -0.465311  1.006715 -0.507946  0.477384  0.308884   \n",
       "\n",
       "                   0.0  \n",
       "4.000000e-06 -1.432832  \n",
       "1.000000e-06 -1.578729  \n",
       "4.000000e-07 -0.417457  \n",
       "1.000000e-07 -0.383219  \n",
       "4.000000e-08 -1.383899  \n",
       "1.000000e-08 -1.721715  \n",
       "4.000000e-09 -0.226296  \n",
       "1.000000e-09 -1.071755  \n",
       "4.000000e-10 -0.542711  "
      ]
     },
     "execution_count": 12,
     "metadata": {},
     "output_type": "execute_result"
    }
   ],
   "source": [
    "df_f3 = S_unified(val_cases_list_new[55:75], 'ASD')[-1] + S_unified(val_cases_list_new[55:75], 'Dice')[-1] + S_unified(val_cases_list_new[55:75], 'DHD')[-1]\n",
    "df_f3 = df_f3/3\n",
    "df_f3"
   ]
  },
  {
   "cell_type": "code",
   "execution_count": 13,
   "metadata": {},
   "outputs": [
    {
     "data": {
      "text/plain": [
       "9e-2   -0.690480\n",
       "3e-2   -0.759554\n",
       "9e-3   -0.686507\n",
       "3e-3   -0.686529\n",
       "9e-4   -1.620842\n",
       "3e-4   -0.354519\n",
       "0.0    -1.721715\n",
       "dtype: float64"
      ]
     },
     "execution_count": 13,
     "metadata": {},
     "output_type": "execute_result"
    }
   ],
   "source": [
    "df_f3.min()"
   ]
  },
  {
   "cell_type": "code",
   "execution_count": 14,
   "metadata": {},
   "outputs": [
    {
     "data": {
      "text/plain": [
       "-1.7217148740533184"
      ]
     },
     "execution_count": 14,
     "metadata": {},
     "output_type": "execute_result"
    }
   ],
   "source": [
    "df_f3.min().min()"
   ]
  },
  {
   "cell_type": "markdown",
   "metadata": {},
   "source": [
    "## Fold4"
   ]
  },
  {
   "cell_type": "code",
   "execution_count": 15,
   "metadata": {},
   "outputs": [
    {
     "data": {
      "text/html": [
       "<div>\n",
       "<style scoped>\n",
       "    .dataframe tbody tr th:only-of-type {\n",
       "        vertical-align: middle;\n",
       "    }\n",
       "\n",
       "    .dataframe tbody tr th {\n",
       "        vertical-align: top;\n",
       "    }\n",
       "\n",
       "    .dataframe thead th {\n",
       "        text-align: right;\n",
       "    }\n",
       "</style>\n",
       "<table border=\"1\" class=\"dataframe\">\n",
       "  <thead>\n",
       "    <tr style=\"text-align: right;\">\n",
       "      <th></th>\n",
       "      <th>9e-2</th>\n",
       "      <th>3e-2</th>\n",
       "      <th>9e-3</th>\n",
       "      <th>3e-3</th>\n",
       "      <th>9e-4</th>\n",
       "      <th>3e-4</th>\n",
       "      <th>0.0</th>\n",
       "    </tr>\n",
       "  </thead>\n",
       "  <tbody>\n",
       "    <tr>\n",
       "      <th>4.000000e-06</th>\n",
       "      <td>-0.128513</td>\n",
       "      <td>-0.325998</td>\n",
       "      <td>-0.676573</td>\n",
       "      <td>0.097845</td>\n",
       "      <td>0.156034</td>\n",
       "      <td>0.217819</td>\n",
       "      <td>-0.939019</td>\n",
       "    </tr>\n",
       "    <tr>\n",
       "      <th>1.000000e-06</th>\n",
       "      <td>-0.994583</td>\n",
       "      <td>1.229818</td>\n",
       "      <td>-0.029080</td>\n",
       "      <td>-0.420978</td>\n",
       "      <td>1.317655</td>\n",
       "      <td>0.528932</td>\n",
       "      <td>-0.894984</td>\n",
       "    </tr>\n",
       "    <tr>\n",
       "      <th>4.000000e-07</th>\n",
       "      <td>-0.819449</td>\n",
       "      <td>0.129373</td>\n",
       "      <td>1.702669</td>\n",
       "      <td>0.725382</td>\n",
       "      <td>0.456491</td>\n",
       "      <td>-0.371038</td>\n",
       "      <td>-0.295595</td>\n",
       "    </tr>\n",
       "    <tr>\n",
       "      <th>1.000000e-07</th>\n",
       "      <td>-0.066512</td>\n",
       "      <td>0.658317</td>\n",
       "      <td>0.643284</td>\n",
       "      <td>0.797899</td>\n",
       "      <td>-0.782404</td>\n",
       "      <td>2.049128</td>\n",
       "      <td>-0.537895</td>\n",
       "    </tr>\n",
       "    <tr>\n",
       "      <th>4.000000e-08</th>\n",
       "      <td>0.175002</td>\n",
       "      <td>-0.023391</td>\n",
       "      <td>-0.208055</td>\n",
       "      <td>-0.053383</td>\n",
       "      <td>-0.522518</td>\n",
       "      <td>-0.696539</td>\n",
       "      <td>-1.091473</td>\n",
       "    </tr>\n",
       "    <tr>\n",
       "      <th>1.000000e-08</th>\n",
       "      <td>-0.346036</td>\n",
       "      <td>0.605546</td>\n",
       "      <td>0.747151</td>\n",
       "      <td>0.026594</td>\n",
       "      <td>-0.705343</td>\n",
       "      <td>-0.174659</td>\n",
       "      <td>-1.381926</td>\n",
       "    </tr>\n",
       "    <tr>\n",
       "      <th>4.000000e-09</th>\n",
       "      <td>0.070587</td>\n",
       "      <td>-0.029305</td>\n",
       "      <td>0.906950</td>\n",
       "      <td>0.112984</td>\n",
       "      <td>-0.103393</td>\n",
       "      <td>0.688183</td>\n",
       "      <td>-0.457683</td>\n",
       "    </tr>\n",
       "    <tr>\n",
       "      <th>1.000000e-09</th>\n",
       "      <td>-0.001600</td>\n",
       "      <td>0.595215</td>\n",
       "      <td>-0.533034</td>\n",
       "      <td>0.431767</td>\n",
       "      <td>0.723594</td>\n",
       "      <td>-1.531915</td>\n",
       "      <td>-1.428255</td>\n",
       "    </tr>\n",
       "    <tr>\n",
       "      <th>4.000000e-10</th>\n",
       "      <td>-0.143317</td>\n",
       "      <td>0.683592</td>\n",
       "      <td>-0.655595</td>\n",
       "      <td>0.809752</td>\n",
       "      <td>1.061976</td>\n",
       "      <td>0.145308</td>\n",
       "      <td>-1.124804</td>\n",
       "    </tr>\n",
       "  </tbody>\n",
       "</table>\n",
       "</div>"
      ],
      "text/plain": [
       "                  9e-2      3e-2      9e-3      3e-3      9e-4      3e-4  \\\n",
       "4.000000e-06 -0.128513 -0.325998 -0.676573  0.097845  0.156034  0.217819   \n",
       "1.000000e-06 -0.994583  1.229818 -0.029080 -0.420978  1.317655  0.528932   \n",
       "4.000000e-07 -0.819449  0.129373  1.702669  0.725382  0.456491 -0.371038   \n",
       "1.000000e-07 -0.066512  0.658317  0.643284  0.797899 -0.782404  2.049128   \n",
       "4.000000e-08  0.175002 -0.023391 -0.208055 -0.053383 -0.522518 -0.696539   \n",
       "1.000000e-08 -0.346036  0.605546  0.747151  0.026594 -0.705343 -0.174659   \n",
       "4.000000e-09  0.070587 -0.029305  0.906950  0.112984 -0.103393  0.688183   \n",
       "1.000000e-09 -0.001600  0.595215 -0.533034  0.431767  0.723594 -1.531915   \n",
       "4.000000e-10 -0.143317  0.683592 -0.655595  0.809752  1.061976  0.145308   \n",
       "\n",
       "                   0.0  \n",
       "4.000000e-06 -0.939019  \n",
       "1.000000e-06 -0.894984  \n",
       "4.000000e-07 -0.295595  \n",
       "1.000000e-07 -0.537895  \n",
       "4.000000e-08 -1.091473  \n",
       "1.000000e-08 -1.381926  \n",
       "4.000000e-09 -0.457683  \n",
       "1.000000e-09 -1.428255  \n",
       "4.000000e-10 -1.124804  "
      ]
     },
     "execution_count": 15,
     "metadata": {},
     "output_type": "execute_result"
    }
   ],
   "source": [
    "df_f4 = S_unified(val_cases_list_new[80:100], 'ASD')[-1] + S_unified(val_cases_list_new[80:100], 'Dice')[-1] + S_unified(val_cases_list_new[80:100], 'DHD')[-1]\n",
    "df_f4 = df_f4/3\n",
    "df_f4"
   ]
  },
  {
   "cell_type": "code",
   "execution_count": 16,
   "metadata": {},
   "outputs": [
    {
     "data": {
      "text/plain": [
       "9e-2   -0.994583\n",
       "3e-2   -0.325998\n",
       "9e-3   -0.676573\n",
       "3e-3   -0.420978\n",
       "9e-4   -0.782404\n",
       "3e-4   -1.531915\n",
       "0.0    -1.428255\n",
       "dtype: float64"
      ]
     },
     "execution_count": 16,
     "metadata": {},
     "output_type": "execute_result"
    }
   ],
   "source": [
    "df_f4.min()"
   ]
  },
  {
   "cell_type": "code",
   "execution_count": 17,
   "metadata": {},
   "outputs": [
    {
     "data": {
      "text/plain": [
       "-1.5319152302562278"
      ]
     },
     "execution_count": 17,
     "metadata": {},
     "output_type": "execute_result"
    }
   ],
   "source": [
    "df_f4.min().min()"
   ]
  },
  {
   "cell_type": "markdown",
   "metadata": {},
   "source": [
    "## Fold5"
   ]
  },
  {
   "cell_type": "code",
   "execution_count": 18,
   "metadata": {},
   "outputs": [
    {
     "data": {
      "text/html": [
       "<div>\n",
       "<style scoped>\n",
       "    .dataframe tbody tr th:only-of-type {\n",
       "        vertical-align: middle;\n",
       "    }\n",
       "\n",
       "    .dataframe tbody tr th {\n",
       "        vertical-align: top;\n",
       "    }\n",
       "\n",
       "    .dataframe thead th {\n",
       "        text-align: right;\n",
       "    }\n",
       "</style>\n",
       "<table border=\"1\" class=\"dataframe\">\n",
       "  <thead>\n",
       "    <tr style=\"text-align: right;\">\n",
       "      <th></th>\n",
       "      <th>9e-2</th>\n",
       "      <th>3e-2</th>\n",
       "      <th>9e-3</th>\n",
       "      <th>3e-3</th>\n",
       "      <th>9e-4</th>\n",
       "      <th>3e-4</th>\n",
       "      <th>0.0</th>\n",
       "    </tr>\n",
       "  </thead>\n",
       "  <tbody>\n",
       "    <tr>\n",
       "      <th>4.000000e-06</th>\n",
       "      <td>0.097669</td>\n",
       "      <td>-0.650015</td>\n",
       "      <td>-0.264047</td>\n",
       "      <td>0.101949</td>\n",
       "      <td>0.087174</td>\n",
       "      <td>-0.484496</td>\n",
       "      <td>0.336858</td>\n",
       "    </tr>\n",
       "    <tr>\n",
       "      <th>1.000000e-06</th>\n",
       "      <td>0.451260</td>\n",
       "      <td>0.980874</td>\n",
       "      <td>0.194018</td>\n",
       "      <td>-1.188110</td>\n",
       "      <td>0.524805</td>\n",
       "      <td>0.483733</td>\n",
       "      <td>0.012328</td>\n",
       "    </tr>\n",
       "    <tr>\n",
       "      <th>4.000000e-07</th>\n",
       "      <td>-0.540641</td>\n",
       "      <td>-0.666524</td>\n",
       "      <td>0.804032</td>\n",
       "      <td>0.894571</td>\n",
       "      <td>-0.219449</td>\n",
       "      <td>-0.579743</td>\n",
       "      <td>-1.027351</td>\n",
       "    </tr>\n",
       "    <tr>\n",
       "      <th>1.000000e-07</th>\n",
       "      <td>-0.325968</td>\n",
       "      <td>-0.226222</td>\n",
       "      <td>0.614139</td>\n",
       "      <td>0.834515</td>\n",
       "      <td>0.341168</td>\n",
       "      <td>0.952932</td>\n",
       "      <td>0.326809</td>\n",
       "    </tr>\n",
       "    <tr>\n",
       "      <th>4.000000e-08</th>\n",
       "      <td>-0.360394</td>\n",
       "      <td>-0.231916</td>\n",
       "      <td>0.844833</td>\n",
       "      <td>0.423673</td>\n",
       "      <td>-0.290468</td>\n",
       "      <td>-1.322244</td>\n",
       "      <td>0.197862</td>\n",
       "    </tr>\n",
       "    <tr>\n",
       "      <th>1.000000e-08</th>\n",
       "      <td>0.468217</td>\n",
       "      <td>0.317240</td>\n",
       "      <td>0.564284</td>\n",
       "      <td>0.059244</td>\n",
       "      <td>-1.524865</td>\n",
       "      <td>-0.842702</td>\n",
       "      <td>-1.472268</td>\n",
       "    </tr>\n",
       "    <tr>\n",
       "      <th>4.000000e-09</th>\n",
       "      <td>0.540433</td>\n",
       "      <td>0.397291</td>\n",
       "      <td>1.252280</td>\n",
       "      <td>-0.497147</td>\n",
       "      <td>-0.453030</td>\n",
       "      <td>0.460476</td>\n",
       "      <td>0.586218</td>\n",
       "    </tr>\n",
       "    <tr>\n",
       "      <th>1.000000e-09</th>\n",
       "      <td>0.355867</td>\n",
       "      <td>0.474644</td>\n",
       "      <td>0.098438</td>\n",
       "      <td>-0.195431</td>\n",
       "      <td>0.516378</td>\n",
       "      <td>-0.942903</td>\n",
       "      <td>-1.326801</td>\n",
       "    </tr>\n",
       "    <tr>\n",
       "      <th>4.000000e-10</th>\n",
       "      <td>0.572753</td>\n",
       "      <td>-0.232220</td>\n",
       "      <td>-0.741421</td>\n",
       "      <td>0.538082</td>\n",
       "      <td>0.248542</td>\n",
       "      <td>0.699371</td>\n",
       "      <td>-1.048583</td>\n",
       "    </tr>\n",
       "  </tbody>\n",
       "</table>\n",
       "</div>"
      ],
      "text/plain": [
       "                  9e-2      3e-2      9e-3      3e-3      9e-4      3e-4  \\\n",
       "4.000000e-06  0.097669 -0.650015 -0.264047  0.101949  0.087174 -0.484496   \n",
       "1.000000e-06  0.451260  0.980874  0.194018 -1.188110  0.524805  0.483733   \n",
       "4.000000e-07 -0.540641 -0.666524  0.804032  0.894571 -0.219449 -0.579743   \n",
       "1.000000e-07 -0.325968 -0.226222  0.614139  0.834515  0.341168  0.952932   \n",
       "4.000000e-08 -0.360394 -0.231916  0.844833  0.423673 -0.290468 -1.322244   \n",
       "1.000000e-08  0.468217  0.317240  0.564284  0.059244 -1.524865 -0.842702   \n",
       "4.000000e-09  0.540433  0.397291  1.252280 -0.497147 -0.453030  0.460476   \n",
       "1.000000e-09  0.355867  0.474644  0.098438 -0.195431  0.516378 -0.942903   \n",
       "4.000000e-10  0.572753 -0.232220 -0.741421  0.538082  0.248542  0.699371   \n",
       "\n",
       "                   0.0  \n",
       "4.000000e-06  0.336858  \n",
       "1.000000e-06  0.012328  \n",
       "4.000000e-07 -1.027351  \n",
       "1.000000e-07  0.326809  \n",
       "4.000000e-08  0.197862  \n",
       "1.000000e-08 -1.472268  \n",
       "4.000000e-09  0.586218  \n",
       "1.000000e-09 -1.326801  \n",
       "4.000000e-10 -1.048583  "
      ]
     },
     "execution_count": 18,
     "metadata": {},
     "output_type": "execute_result"
    }
   ],
   "source": [
    "df_f5 = S_unified(val_cases_list_new[105:125], 'ASD')[-1] + S_unified(val_cases_list_new[105:125], 'Dice')[-1] + S_unified(val_cases_list_new[105:125], 'DHD')[-1]\n",
    "df_f5 = df_f5/3\n",
    "df_f5"
   ]
  },
  {
   "cell_type": "code",
   "execution_count": 19,
   "metadata": {},
   "outputs": [
    {
     "data": {
      "text/plain": [
       "9e-2   -0.540641\n",
       "3e-2   -0.666524\n",
       "9e-3   -0.741421\n",
       "3e-3   -1.188110\n",
       "9e-4   -1.524865\n",
       "3e-4   -1.322244\n",
       "0.0    -1.472268\n",
       "dtype: float64"
      ]
     },
     "execution_count": 19,
     "metadata": {},
     "output_type": "execute_result"
    }
   ],
   "source": [
    "df_f5.min()"
   ]
  },
  {
   "cell_type": "code",
   "execution_count": 20,
   "metadata": {},
   "outputs": [
    {
     "data": {
      "text/plain": [
       "-1.5248654259127365"
      ]
     },
     "execution_count": 20,
     "metadata": {},
     "output_type": "execute_result"
    }
   ],
   "source": [
    "df_f5.min().min()"
   ]
  },
  {
   "cell_type": "markdown",
   "metadata": {},
   "source": [
    "## Averaging over folds"
   ]
  },
  {
   "cell_type": "code",
   "execution_count": 21,
   "metadata": {},
   "outputs": [],
   "source": [
    "df_avg = df_f1 + df_f2 + df_f3 + df_f4 + df_f5"
   ]
  },
  {
   "cell_type": "code",
   "execution_count": 22,
   "metadata": {},
   "outputs": [],
   "source": [
    "df_avg = df_avg/5"
   ]
  },
  {
   "cell_type": "code",
   "execution_count": 23,
   "metadata": {},
   "outputs": [
    {
     "data": {
      "text/html": [
       "<div>\n",
       "<style scoped>\n",
       "    .dataframe tbody tr th:only-of-type {\n",
       "        vertical-align: middle;\n",
       "    }\n",
       "\n",
       "    .dataframe tbody tr th {\n",
       "        vertical-align: top;\n",
       "    }\n",
       "\n",
       "    .dataframe thead th {\n",
       "        text-align: right;\n",
       "    }\n",
       "</style>\n",
       "<table border=\"1\" class=\"dataframe\">\n",
       "  <thead>\n",
       "    <tr style=\"text-align: right;\">\n",
       "      <th></th>\n",
       "      <th>9e-2</th>\n",
       "      <th>3e-2</th>\n",
       "      <th>9e-3</th>\n",
       "      <th>3e-3</th>\n",
       "      <th>9e-4</th>\n",
       "      <th>3e-4</th>\n",
       "      <th>0.0</th>\n",
       "    </tr>\n",
       "  </thead>\n",
       "  <tbody>\n",
       "    <tr>\n",
       "      <th>4.000000e-06</th>\n",
       "      <td>0.399532</td>\n",
       "      <td>-0.476056</td>\n",
       "      <td>-0.529176</td>\n",
       "      <td>0.136399</td>\n",
       "      <td>-0.254021</td>\n",
       "      <td>-0.129755</td>\n",
       "      <td>-0.625472</td>\n",
       "    </tr>\n",
       "    <tr>\n",
       "      <th>1.000000e-06</th>\n",
       "      <td>-0.264442</td>\n",
       "      <td>0.854913</td>\n",
       "      <td>0.072604</td>\n",
       "      <td>-0.522536</td>\n",
       "      <td>0.841322</td>\n",
       "      <td>0.223023</td>\n",
       "      <td>-0.853909</td>\n",
       "    </tr>\n",
       "    <tr>\n",
       "      <th>4.000000e-07</th>\n",
       "      <td>-0.578536</td>\n",
       "      <td>-0.463496</td>\n",
       "      <td>0.869986</td>\n",
       "      <td>0.578038</td>\n",
       "      <td>-0.393062</td>\n",
       "      <td>-0.094323</td>\n",
       "      <td>-0.581624</td>\n",
       "    </tr>\n",
       "    <tr>\n",
       "      <th>1.000000e-07</th>\n",
       "      <td>-0.405591</td>\n",
       "      <td>0.199637</td>\n",
       "      <td>0.476740</td>\n",
       "      <td>0.943121</td>\n",
       "      <td>-0.138083</td>\n",
       "      <td>1.342172</td>\n",
       "      <td>-0.105204</td>\n",
       "    </tr>\n",
       "    <tr>\n",
       "      <th>4.000000e-08</th>\n",
       "      <td>0.089074</td>\n",
       "      <td>-0.205791</td>\n",
       "      <td>0.300389</td>\n",
       "      <td>0.213917</td>\n",
       "      <td>-0.022782</td>\n",
       "      <td>-0.695041</td>\n",
       "      <td>-0.652282</td>\n",
       "    </tr>\n",
       "    <tr>\n",
       "      <th>1.000000e-08</th>\n",
       "      <td>0.270021</td>\n",
       "      <td>0.744445</td>\n",
       "      <td>0.465633</td>\n",
       "      <td>0.064574</td>\n",
       "      <td>-0.662416</td>\n",
       "      <td>-0.283633</td>\n",
       "      <td>-1.265004</td>\n",
       "    </tr>\n",
       "    <tr>\n",
       "      <th>4.000000e-09</th>\n",
       "      <td>0.553969</td>\n",
       "      <td>0.406421</td>\n",
       "      <td>1.289763</td>\n",
       "      <td>0.143910</td>\n",
       "      <td>-0.483137</td>\n",
       "      <td>0.547388</td>\n",
       "      <td>-0.230250</td>\n",
       "    </tr>\n",
       "    <tr>\n",
       "      <th>1.000000e-09</th>\n",
       "      <td>0.245086</td>\n",
       "      <td>0.341846</td>\n",
       "      <td>-0.018356</td>\n",
       "      <td>-0.235664</td>\n",
       "      <td>0.649493</td>\n",
       "      <td>-0.805861</td>\n",
       "      <td>-1.471016</td>\n",
       "    </tr>\n",
       "    <tr>\n",
       "      <th>4.000000e-10</th>\n",
       "      <td>0.023695</td>\n",
       "      <td>-0.001328</td>\n",
       "      <td>0.088944</td>\n",
       "      <td>0.250318</td>\n",
       "      <td>0.551475</td>\n",
       "      <td>0.311104</td>\n",
       "      <td>-1.041104</td>\n",
       "    </tr>\n",
       "  </tbody>\n",
       "</table>\n",
       "</div>"
      ],
      "text/plain": [
       "                  9e-2      3e-2      9e-3      3e-3      9e-4      3e-4  \\\n",
       "4.000000e-06  0.399532 -0.476056 -0.529176  0.136399 -0.254021 -0.129755   \n",
       "1.000000e-06 -0.264442  0.854913  0.072604 -0.522536  0.841322  0.223023   \n",
       "4.000000e-07 -0.578536 -0.463496  0.869986  0.578038 -0.393062 -0.094323   \n",
       "1.000000e-07 -0.405591  0.199637  0.476740  0.943121 -0.138083  1.342172   \n",
       "4.000000e-08  0.089074 -0.205791  0.300389  0.213917 -0.022782 -0.695041   \n",
       "1.000000e-08  0.270021  0.744445  0.465633  0.064574 -0.662416 -0.283633   \n",
       "4.000000e-09  0.553969  0.406421  1.289763  0.143910 -0.483137  0.547388   \n",
       "1.000000e-09  0.245086  0.341846 -0.018356 -0.235664  0.649493 -0.805861   \n",
       "4.000000e-10  0.023695 -0.001328  0.088944  0.250318  0.551475  0.311104   \n",
       "\n",
       "                   0.0  \n",
       "4.000000e-06 -0.625472  \n",
       "1.000000e-06 -0.853909  \n",
       "4.000000e-07 -0.581624  \n",
       "1.000000e-07 -0.105204  \n",
       "4.000000e-08 -0.652282  \n",
       "1.000000e-08 -1.265004  \n",
       "4.000000e-09 -0.230250  \n",
       "1.000000e-09 -1.471016  \n",
       "4.000000e-10 -1.041104  "
      ]
     },
     "execution_count": 23,
     "metadata": {},
     "output_type": "execute_result"
    }
   ],
   "source": [
    "df_avg"
   ]
  },
  {
   "cell_type": "code",
   "execution_count": 24,
   "metadata": {},
   "outputs": [
    {
     "data": {
      "text/plain": [
       "9e-2   -0.578536\n",
       "3e-2   -0.476056\n",
       "9e-3   -0.529176\n",
       "3e-3   -0.522536\n",
       "9e-4   -0.662416\n",
       "3e-4   -0.805861\n",
       "0.0    -1.471016\n",
       "dtype: float64"
      ]
     },
     "execution_count": 24,
     "metadata": {},
     "output_type": "execute_result"
    }
   ],
   "source": [
    "df_avg.min()"
   ]
  },
  {
   "cell_type": "code",
   "execution_count": 25,
   "metadata": {},
   "outputs": [
    {
     "data": {
      "text/plain": [
       "-1.4710160164863204"
      ]
     },
     "execution_count": 25,
     "metadata": {},
     "output_type": "execute_result"
    }
   ],
   "source": [
    "df_avg.min().min()"
   ]
  },
  {
   "cell_type": "markdown",
   "metadata": {},
   "source": [
    "Final configuration:\n",
    "* (BE, SW) = (1e-9, 0.0)"
   ]
  },
  {
   "cell_type": "code",
   "execution_count": 57,
   "metadata": {},
   "outputs": [
    {
     "name": "stderr",
     "output_type": "stream",
     "text": [
      "/tmp/ipykernel_2025/4154089098.py:15: UserWarning: FixedFormatter should only be used together with FixedLocator\n",
      "  cbar.ax.set_yticklabels(np.arange(-1.5, 2.0, 0.5), fontsize=18)\n"
     ]
    },
    {
     "data": {
      "image/png": "[encoded data removed]",
      "text/plain": [
       "<Figure size 576x576 with 2 Axes>"
      ]
     },
     "metadata": {
      "needs_background": "light"
     },
     "output_type": "display_data"
    }
   ],
   "source": [
    "plt.subplots(1, 1, figsize=(8, 8))\n",
    "\n",
    "plt.pcolor(df_avg, vmin=-1.5, vmax=1.5)\n",
    "\n",
    "# set y-axis as indices\n",
    "plt.yticks(np.arange(0.5, len(df_avg.index), 1), df_avg.index, fontsize=15)\n",
    "plt.ylabel(\"Bending Energy\", fontsize=18)\n",
    "\n",
    "# set x-axis as columns\n",
    "plt.xticks(np.arange(0.5, len(df_avg.columns), 1), df_avg.columns, fontsize=15)\n",
    "plt.xlabel(\"Sparsity Weight\", fontsize=18)\n",
    "\n",
    "cbar = plt.colorbar()\n",
    "plt.gca().invert_yaxis()\n",
    "cbar.ax.set_yticklabels(np.arange(-1.5, 2.0, 0.5), fontsize=18)\n",
    "cbar.set_label('$S_{unified}$', rotation=90, fontsize=25)\n",
    "\n",
    "# plt.savefig(\"/home/csi20local/Dropbox/phd/Documents/P1/suppl_figs/SW_BE_opt_grid.pdf\", dpi=200, bbox_inches=\"tight\")"
   ]
  },
  {
   "cell_type": "markdown",
   "metadata": {},
   "source": [
    "## Retrying using val cases only in each fold"
   ]
  },
  {
   "cell_type": "code",
   "execution_count": 112,
   "metadata": {},
   "outputs": [],
   "source": [
    "f1 = S_unified(val_cases_list[:5], 'ASD')[-1] + S_unified(val_cases_list[:5], 'Dice')[-1] + S_unified(val_cases_list[:5], 'DHD')[-1]\n",
    "f1 = f1/3"
   ]
  },
  {
   "cell_type": "code",
   "execution_count": 113,
   "metadata": {},
   "outputs": [],
   "source": [
    "f2 = S_unified(val_cases_list[25:30], 'ASD')[-1] + S_unified(val_cases_list[25:30], 'Dice')[-1] + S_unified(val_cases_list[25:30], 'DHD')[-1]\n",
    "f2 = f2/3"
   ]
  },
  {
   "cell_type": "code",
   "execution_count": 114,
   "metadata": {},
   "outputs": [],
   "source": [
    "f3 = S_unified(val_cases_list[50:55], 'ASD')[-1] + S_unified(val_cases_list[50:55], 'Dice')[-1] + S_unified(val_cases_list[50:55], 'DHD')[-1]\n",
    "f3 = f3/3"
   ]
  },
  {
   "cell_type": "code",
   "execution_count": 115,
   "metadata": {},
   "outputs": [],
   "source": [
    "f4 = S_unified(val_cases_list[75:80], 'ASD')[-1] + S_unified(val_cases_list[75:80], 'Dice')[-1] + S_unified(val_cases_list[75:80], 'DHD')[-1]\n",
    "f4 = f4/3"
   ]
  },
  {
   "cell_type": "code",
   "execution_count": 116,
   "metadata": {},
   "outputs": [],
   "source": [
    "f5 = S_unified(val_cases_list[100:105], 'ASD')[-1] + S_unified(val_cases_list[100:105], 'Dice')[-1] + S_unified(val_cases_list[100:105], 'DHD')[-1]\n",
    "f5 = f5/3"
   ]
  },
  {
   "cell_type": "code",
   "execution_count": 117,
   "metadata": {},
   "outputs": [],
   "source": [
    "avg = f1 + f2 + f3 + f4 + f5\n",
    "avg = avg/5"
   ]
  },
  {
   "cell_type": "code",
   "execution_count": 118,
   "metadata": {},
   "outputs": [
    {
     "data": {
      "text/html": [
       "<div>\n",
       "<style scoped>\n",
       "    .dataframe tbody tr th:only-of-type {\n",
       "        vertical-align: middle;\n",
       "    }\n",
       "\n",
       "    .dataframe tbody tr th {\n",
       "        vertical-align: top;\n",
       "    }\n",
       "\n",
       "    .dataframe thead th {\n",
       "        text-align: right;\n",
       "    }\n",
       "</style>\n",
       "<table border=\"1\" class=\"dataframe\">\n",
       "  <thead>\n",
       "    <tr style=\"text-align: right;\">\n",
       "      <th></th>\n",
       "      <th>9e-2</th>\n",
       "      <th>3e-2</th>\n",
       "      <th>9e-3</th>\n",
       "      <th>3e-3</th>\n",
       "      <th>9e-4</th>\n",
       "      <th>3e-4</th>\n",
       "      <th>0.0</th>\n",
       "    </tr>\n",
       "  </thead>\n",
       "  <tbody>\n",
       "    <tr>\n",
       "      <th>4.000000e-06</th>\n",
       "      <td>0.299006</td>\n",
       "      <td>-0.088805</td>\n",
       "      <td>-0.068391</td>\n",
       "      <td>0.184774</td>\n",
       "      <td>0.149288</td>\n",
       "      <td>0.016203</td>\n",
       "      <td>-0.449229</td>\n",
       "    </tr>\n",
       "    <tr>\n",
       "      <th>1.000000e-06</th>\n",
       "      <td>-0.604922</td>\n",
       "      <td>0.221472</td>\n",
       "      <td>-0.294189</td>\n",
       "      <td>-0.068212</td>\n",
       "      <td>0.534823</td>\n",
       "      <td>-0.117895</td>\n",
       "      <td>-0.822249</td>\n",
       "    </tr>\n",
       "    <tr>\n",
       "      <th>4.000000e-07</th>\n",
       "      <td>-0.661412</td>\n",
       "      <td>-0.435428</td>\n",
       "      <td>0.396341</td>\n",
       "      <td>0.281882</td>\n",
       "      <td>-0.142196</td>\n",
       "      <td>0.114032</td>\n",
       "      <td>-0.366452</td>\n",
       "    </tr>\n",
       "    <tr>\n",
       "      <th>1.000000e-07</th>\n",
       "      <td>-0.004638</td>\n",
       "      <td>-0.179576</td>\n",
       "      <td>0.622469</td>\n",
       "      <td>0.107288</td>\n",
       "      <td>-0.108830</td>\n",
       "      <td>0.503721</td>\n",
       "      <td>-0.068344</td>\n",
       "    </tr>\n",
       "    <tr>\n",
       "      <th>4.000000e-08</th>\n",
       "      <td>0.239616</td>\n",
       "      <td>0.330395</td>\n",
       "      <td>-0.302341</td>\n",
       "      <td>-0.174686</td>\n",
       "      <td>-0.095774</td>\n",
       "      <td>-0.387986</td>\n",
       "      <td>-0.294109</td>\n",
       "    </tr>\n",
       "    <tr>\n",
       "      <th>1.000000e-08</th>\n",
       "      <td>-0.038475</td>\n",
       "      <td>0.268861</td>\n",
       "      <td>0.113825</td>\n",
       "      <td>0.099088</td>\n",
       "      <td>-0.335961</td>\n",
       "      <td>0.129341</td>\n",
       "      <td>-0.738595</td>\n",
       "    </tr>\n",
       "    <tr>\n",
       "      <th>4.000000e-09</th>\n",
       "      <td>0.360874</td>\n",
       "      <td>0.651565</td>\n",
       "      <td>0.647154</td>\n",
       "      <td>0.270330</td>\n",
       "      <td>-0.421134</td>\n",
       "      <td>0.224822</td>\n",
       "      <td>-0.148519</td>\n",
       "    </tr>\n",
       "    <tr>\n",
       "      <th>1.000000e-09</th>\n",
       "      <td>0.314725</td>\n",
       "      <td>0.280782</td>\n",
       "      <td>0.055301</td>\n",
       "      <td>-0.194275</td>\n",
       "      <td>0.263312</td>\n",
       "      <td>-0.123097</td>\n",
       "      <td>-0.254444</td>\n",
       "    </tr>\n",
       "    <tr>\n",
       "      <th>4.000000e-10</th>\n",
       "      <td>-0.044555</td>\n",
       "      <td>0.471448</td>\n",
       "      <td>-0.167297</td>\n",
       "      <td>-0.103603</td>\n",
       "      <td>0.322126</td>\n",
       "      <td>-0.053998</td>\n",
       "      <td>-0.115251</td>\n",
       "    </tr>\n",
       "  </tbody>\n",
       "</table>\n",
       "</div>"
      ],
      "text/plain": [
       "                  9e-2      3e-2      9e-3      3e-3      9e-4      3e-4  \\\n",
       "4.000000e-06  0.299006 -0.088805 -0.068391  0.184774  0.149288  0.016203   \n",
       "1.000000e-06 -0.604922  0.221472 -0.294189 -0.068212  0.534823 -0.117895   \n",
       "4.000000e-07 -0.661412 -0.435428  0.396341  0.281882 -0.142196  0.114032   \n",
       "1.000000e-07 -0.004638 -0.179576  0.622469  0.107288 -0.108830  0.503721   \n",
       "4.000000e-08  0.239616  0.330395 -0.302341 -0.174686 -0.095774 -0.387986   \n",
       "1.000000e-08 -0.038475  0.268861  0.113825  0.099088 -0.335961  0.129341   \n",
       "4.000000e-09  0.360874  0.651565  0.647154  0.270330 -0.421134  0.224822   \n",
       "1.000000e-09  0.314725  0.280782  0.055301 -0.194275  0.263312 -0.123097   \n",
       "4.000000e-10 -0.044555  0.471448 -0.167297 -0.103603  0.322126 -0.053998   \n",
       "\n",
       "                   0.0  \n",
       "4.000000e-06 -0.449229  \n",
       "1.000000e-06 -0.822249  \n",
       "4.000000e-07 -0.366452  \n",
       "1.000000e-07 -0.068344  \n",
       "4.000000e-08 -0.294109  \n",
       "1.000000e-08 -0.738595  \n",
       "4.000000e-09 -0.148519  \n",
       "1.000000e-09 -0.254444  \n",
       "4.000000e-10 -0.115251  "
      ]
     },
     "execution_count": 118,
     "metadata": {},
     "output_type": "execute_result"
    }
   ],
   "source": [
    "avg"
   ]
  },
  {
   "cell_type": "code",
   "execution_count": 119,
   "metadata": {},
   "outputs": [
    {
     "data": {
      "text/plain": [
       "9e-2   -0.661412\n",
       "3e-2   -0.435428\n",
       "9e-3   -0.302341\n",
       "3e-3   -0.194275\n",
       "9e-4   -0.421134\n",
       "3e-4   -0.387986\n",
       "0.0    -0.822249\n",
       "dtype: float64"
      ]
     },
     "execution_count": 119,
     "metadata": {},
     "output_type": "execute_result"
    }
   ],
   "source": [
    "avg.min()"
   ]
  },
  {
   "cell_type": "code",
   "execution_count": 120,
   "metadata": {},
   "outputs": [
    {
     "data": {
      "text/plain": [
       "-0.8222490959548617"
      ]
     },
     "execution_count": 120,
     "metadata": {},
     "output_type": "execute_result"
    }
   ],
   "source": [
    "avg.min().min()"
   ]
  },
  {
   "cell_type": "markdown",
   "metadata": {},
   "source": [
    "Get a different answer: BE, SW = 1e-6, 0.0"
   ]
  },
  {
   "cell_type": "markdown",
   "metadata": {},
   "source": [
    "## Retrying using all training data"
   ]
  },
  {
   "cell_type": "code",
   "execution_count": 121,
   "metadata": {},
   "outputs": [],
   "source": [
    "df_all = S_unified(val_cases_list[:25], 'ASD')[-1] + S_unified(val_cases_list[:25], 'DHD')[-1] + S_unified(val_cases_list[:25], 'Dice')[-1]"
   ]
  },
  {
   "cell_type": "code",
   "execution_count": 122,
   "metadata": {
    "scrolled": true
   },
   "outputs": [
    {
     "data": {
      "text/html": [
       "<div>\n",
       "<style scoped>\n",
       "    .dataframe tbody tr th:only-of-type {\n",
       "        vertical-align: middle;\n",
       "    }\n",
       "\n",
       "    .dataframe tbody tr th {\n",
       "        vertical-align: top;\n",
       "    }\n",
       "\n",
       "    .dataframe thead th {\n",
       "        text-align: right;\n",
       "    }\n",
       "</style>\n",
       "<table border=\"1\" class=\"dataframe\">\n",
       "  <thead>\n",
       "    <tr style=\"text-align: right;\">\n",
       "      <th></th>\n",
       "      <th>9e-2</th>\n",
       "      <th>3e-2</th>\n",
       "      <th>9e-3</th>\n",
       "      <th>3e-3</th>\n",
       "      <th>9e-4</th>\n",
       "      <th>3e-4</th>\n",
       "      <th>0.0</th>\n",
       "    </tr>\n",
       "  </thead>\n",
       "  <tbody>\n",
       "    <tr>\n",
       "      <th>4.000000e-06</th>\n",
       "      <td>-0.743800</td>\n",
       "      <td>-1.347636</td>\n",
       "      <td>0.804420</td>\n",
       "      <td>-0.182784</td>\n",
       "      <td>0.784936</td>\n",
       "      <td>-0.438844</td>\n",
       "      <td>-2.828800</td>\n",
       "    </tr>\n",
       "    <tr>\n",
       "      <th>1.000000e-06</th>\n",
       "      <td>-1.883056</td>\n",
       "      <td>3.185838</td>\n",
       "      <td>0.432046</td>\n",
       "      <td>-3.205666</td>\n",
       "      <td>3.066556</td>\n",
       "      <td>1.210294</td>\n",
       "      <td>-1.945752</td>\n",
       "    </tr>\n",
       "    <tr>\n",
       "      <th>4.000000e-07</th>\n",
       "      <td>-1.503122</td>\n",
       "      <td>-1.551858</td>\n",
       "      <td>3.075041</td>\n",
       "      <td>3.121538</td>\n",
       "      <td>-1.109236</td>\n",
       "      <td>-1.195488</td>\n",
       "      <td>-2.142097</td>\n",
       "    </tr>\n",
       "    <tr>\n",
       "      <th>1.000000e-07</th>\n",
       "      <td>-2.169344</td>\n",
       "      <td>1.700849</td>\n",
       "      <td>-0.009399</td>\n",
       "      <td>0.849442</td>\n",
       "      <td>1.359858</td>\n",
       "      <td>3.725711</td>\n",
       "      <td>-0.267426</td>\n",
       "    </tr>\n",
       "    <tr>\n",
       "      <th>4.000000e-08</th>\n",
       "      <td>-0.419879</td>\n",
       "      <td>-0.415052</td>\n",
       "      <td>2.720520</td>\n",
       "      <td>0.054960</td>\n",
       "      <td>-1.076453</td>\n",
       "      <td>-2.471065</td>\n",
       "      <td>-1.029376</td>\n",
       "    </tr>\n",
       "    <tr>\n",
       "      <th>1.000000e-08</th>\n",
       "      <td>2.455282</td>\n",
       "      <td>1.092440</td>\n",
       "      <td>1.360654</td>\n",
       "      <td>0.973014</td>\n",
       "      <td>-0.944276</td>\n",
       "      <td>-0.764864</td>\n",
       "      <td>-4.505583</td>\n",
       "    </tr>\n",
       "    <tr>\n",
       "      <th>4.000000e-09</th>\n",
       "      <td>1.140788</td>\n",
       "      <td>-0.243399</td>\n",
       "      <td>5.831983</td>\n",
       "      <td>-0.995870</td>\n",
       "      <td>-1.188477</td>\n",
       "      <td>1.335201</td>\n",
       "      <td>-0.808445</td>\n",
       "    </tr>\n",
       "    <tr>\n",
       "      <th>1.000000e-09</th>\n",
       "      <td>1.599529</td>\n",
       "      <td>2.433515</td>\n",
       "      <td>-1.053681</td>\n",
       "      <td>-1.923259</td>\n",
       "      <td>1.439434</td>\n",
       "      <td>-2.685115</td>\n",
       "      <td>-4.675994</td>\n",
       "    </tr>\n",
       "    <tr>\n",
       "      <th>4.000000e-10</th>\n",
       "      <td>2.383286</td>\n",
       "      <td>-0.932301</td>\n",
       "      <td>0.947203</td>\n",
       "      <td>1.004976</td>\n",
       "      <td>1.595966</td>\n",
       "      <td>1.323553</td>\n",
       "      <td>-4.351434</td>\n",
       "    </tr>\n",
       "  </tbody>\n",
       "</table>\n",
       "</div>"
      ],
      "text/plain": [
       "                  9e-2      3e-2      9e-3      3e-3      9e-4      3e-4  \\\n",
       "4.000000e-06 -0.743800 -1.347636  0.804420 -0.182784  0.784936 -0.438844   \n",
       "1.000000e-06 -1.883056  3.185838  0.432046 -3.205666  3.066556  1.210294   \n",
       "4.000000e-07 -1.503122 -1.551858  3.075041  3.121538 -1.109236 -1.195488   \n",
       "1.000000e-07 -2.169344  1.700849 -0.009399  0.849442  1.359858  3.725711   \n",
       "4.000000e-08 -0.419879 -0.415052  2.720520  0.054960 -1.076453 -2.471065   \n",
       "1.000000e-08  2.455282  1.092440  1.360654  0.973014 -0.944276 -0.764864   \n",
       "4.000000e-09  1.140788 -0.243399  5.831983 -0.995870 -1.188477  1.335201   \n",
       "1.000000e-09  1.599529  2.433515 -1.053681 -1.923259  1.439434 -2.685115   \n",
       "4.000000e-10  2.383286 -0.932301  0.947203  1.004976  1.595966  1.323553   \n",
       "\n",
       "                   0.0  \n",
       "4.000000e-06 -2.828800  \n",
       "1.000000e-06 -1.945752  \n",
       "4.000000e-07 -2.142097  \n",
       "1.000000e-07 -0.267426  \n",
       "4.000000e-08 -1.029376  \n",
       "1.000000e-08 -4.505583  \n",
       "4.000000e-09 -0.808445  \n",
       "1.000000e-09 -4.675994  \n",
       "4.000000e-10 -4.351434  "
      ]
     },
     "execution_count": 122,
     "metadata": {},
     "output_type": "execute_result"
    }
   ],
   "source": [
    "df_all"
   ]
  },
  {
   "cell_type": "code",
   "execution_count": 123,
   "metadata": {},
   "outputs": [
    {
     "data": {
      "text/plain": [
       "9e-2   -2.169344\n",
       "3e-2   -1.551858\n",
       "9e-3   -1.053681\n",
       "3e-3   -3.205666\n",
       "9e-4   -1.188477\n",
       "3e-4   -2.685115\n",
       "0.0    -4.675994\n",
       "dtype: float64"
      ]
     },
     "execution_count": 123,
     "metadata": {},
     "output_type": "execute_result"
    }
   ],
   "source": [
    "df_all.min(\n",
    ")"
   ]
  },
  {
   "cell_type": "code",
   "execution_count": null,
   "metadata": {},
   "outputs": [],
   "source": []
  }
 ],
 "metadata": {
  "kernelspec": {
   "display_name": "Python 3 (ipykernel)",
   "language": "python",
   "name": "python3"
  },
  "language_info": {
   "codemirror_mode": {
    "name": "ipython",
    "version": 3
   },
   "file_extension": ".py",
   "mimetype": "text/x-python",
   "name": "python",
   "nbconvert_exporter": "python",
   "pygments_lexer": "ipython3",
   "version": "3.9.7"
  }
 },
 "nbformat": 4,
 "nbformat_minor": 4
}
