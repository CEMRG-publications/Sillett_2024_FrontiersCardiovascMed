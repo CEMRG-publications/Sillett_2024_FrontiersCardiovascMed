{
 "cells": [
  {
   "cell_type": "markdown",
   "id": "bd6336a0",
   "metadata": {},
   "source": [
    "This notebook explores the eigen analysis of the strains, specifically how they compare to the fiber directions.\n",
    "\n",
    "*  Do the fiber directions align with the principal strain directions?\n",
    "*  Are the deformation isotropic or anisotropic? "
   ]
  },
  {
   "cell_type": "code",
   "execution_count": 1,
   "id": "f2aefc2b",
   "metadata": {},
   "outputs": [],
   "source": [
    "import pyvista as pv\n",
    "import numpy as np\n",
    "import matplotlib.pyplot as plt\n",
    "import pandas as pd"
   ]
  },
  {
   "cell_type": "code",
   "execution_count": 2,
   "id": "6b0b35d6",
   "metadata": {},
   "outputs": [],
   "source": [
    "## Define paths for reading in eigennalaysis\n",
    "basePath = \"/home/csi20/Dropbox/phd/Data/RG_CT_Cases/CT-CRT/case18\"\n",
    "trackingPath = f\"{basePath}/MT-HiRes/SW-0.0-BE-1e-9\"\n",
    "\n",
    "## Read in tracked mesh for fiber directions\n",
    "msh=pv.read(f\"{trackingPath}/cLr-fibres-aligned-4.vtp\")"
   ]
  },
  {
   "cell_type": "code",
   "execution_count": 3,
   "id": "2433f1c2",
   "metadata": {},
   "outputs": [],
   "source": [
    "## Read in eigenanalysis resutls\n",
    "evectors_df = pd.read_csv(f\"{trackingPath}/strain-eigenvectors-t4.txt\", skiprows=3, names=['eigenvectors'])\n",
    "evalues_df = pd.read_csv(f\"{trackingPath}/strain-eigenvalues-t4.txt\", skiprows=3, names=['eigenvalues'])"
   ]
  },
  {
   "cell_type": "code",
   "execution_count": 4,
   "id": "3b12ae85",
   "metadata": {},
   "outputs": [],
   "source": [
    "## Store \n",
    "result = np.zeros((1, 3, 3))\n",
    "\n",
    "for i in range(0, 1):\n",
    "    \n",
    "    evectors_df.iloc[i][0]\n",
    "    my_list = evectors_df.iloc[0][0].split(\" \")\n",
    "    my_list_2 = [i.replace('[','').replace(']','').replace('(','').replace(')','') for i in my_list]\n",
    "    my_list_3 = [s for s in my_list_2 if s]\n",
    "    \n",
    "    # Convert the list to a numpy array of floats\n",
    "    my_array = np.array(my_list_3, dtype=float)\n",
    "\n",
    "    # Reshape the array into a 3x3 matrix\n",
    "    my_matrix = my_array.reshape(3, 3)\n",
    "\n",
    "    # Transpose the matrix to get three 3-dimensional column vectors\n",
    "    my_vectors = my_matrix\n",
    "\n",
    "    result[i, :, :] = my_vectors"
   ]
  },
  {
   "cell_type": "code",
   "execution_count": 5,
   "id": "cb6a0df1",
   "metadata": {},
   "outputs": [
    {
     "data": {
      "text/plain": [
       "array([[[-0.886398, -0.184316, -0.424647],\n",
       "        [ 0.451781, -0.144383, -0.880368],\n",
       "        [-0.100954,  0.972204, -0.211252]]])"
      ]
     },
     "execution_count": 5,
     "metadata": {},
     "output_type": "execute_result"
    }
   ],
   "source": [
    "result"
   ]
  },
  {
   "cell_type": "code",
   "execution_count": 6,
   "id": "de2a96e1",
   "metadata": {},
   "outputs": [],
   "source": [
    "evalue_list = evalues_df.iloc[0][0].split(\" \")\n",
    "evalue_list_2 = [s for s in evalue_list if s]\n",
    "evalue_list_2\n",
    "\n",
    "evalue_array = np.array(evalue_list_2, dtype=float)"
   ]
  },
  {
   "cell_type": "code",
   "execution_count": 7,
   "id": "b59692d5",
   "metadata": {},
   "outputs": [
    {
     "data": {
      "text/plain": [
       "array([5.61845e-02, 2.37437e-09, 1.39939e-01])"
      ]
     },
     "execution_count": 7,
     "metadata": {},
     "output_type": "execute_result"
    }
   ],
   "source": [
    "evalue_array"
   ]
  },
  {
   "cell_type": "code",
   "execution_count": 14,
   "id": "44534869",
   "metadata": {},
   "outputs": [
    {
     "ename": "ValueError",
     "evalue": "all the input arrays must have same number of dimensions, but the array at index 0 has 3 dimension(s) and the array at index 1 has 2 dimension(s)",
     "output_type": "error",
     "traceback": [
      "\u001b[0;31m---------------------------------------------------------------------------\u001b[0m",
      "\u001b[0;31mValueError\u001b[0m                                Traceback (most recent call last)",
      "Input \u001b[0;32mIn [14]\u001b[0m, in \u001b[0;36m<module>\u001b[0;34m\u001b[0m\n\u001b[1;32m      1\u001b[0m \u001b[38;5;66;03m# Add the eigenvalues as a new column to the result array\u001b[39;00m\n\u001b[0;32m----> 2\u001b[0m eig_data \u001b[38;5;241m=\u001b[39m \u001b[43mnp\u001b[49m\u001b[38;5;241;43m.\u001b[39;49m\u001b[43mcolumn_stack\u001b[49m\u001b[43m(\u001b[49m\u001b[43m(\u001b[49m\u001b[43mresult\u001b[49m\u001b[43m,\u001b[49m\u001b[43m \u001b[49m\u001b[43mevalue_array\u001b[49m\u001b[43m)\u001b[49m\u001b[43m)\u001b[49m\n\u001b[1;32m      4\u001b[0m \u001b[38;5;66;03m# Print the combined data\u001b[39;00m\n\u001b[1;32m      5\u001b[0m \u001b[38;5;28mprint\u001b[39m(eig_data)\n",
      "File \u001b[0;32m<__array_function__ internals>:180\u001b[0m, in \u001b[0;36mcolumn_stack\u001b[0;34m(*args, **kwargs)\u001b[0m\n",
      "File \u001b[0;32m~/anaconda3/envs/vtk/lib/python3.9/site-packages/numpy/lib/shape_base.py:656\u001b[0m, in \u001b[0;36mcolumn_stack\u001b[0;34m(tup)\u001b[0m\n\u001b[1;32m    654\u001b[0m         arr \u001b[38;5;241m=\u001b[39m array(arr, copy\u001b[38;5;241m=\u001b[39m\u001b[38;5;28;01mFalse\u001b[39;00m, subok\u001b[38;5;241m=\u001b[39m\u001b[38;5;28;01mTrue\u001b[39;00m, ndmin\u001b[38;5;241m=\u001b[39m\u001b[38;5;241m2\u001b[39m)\u001b[38;5;241m.\u001b[39mT\n\u001b[1;32m    655\u001b[0m     arrays\u001b[38;5;241m.\u001b[39mappend(arr)\n\u001b[0;32m--> 656\u001b[0m \u001b[38;5;28;01mreturn\u001b[39;00m \u001b[43m_nx\u001b[49m\u001b[38;5;241;43m.\u001b[39;49m\u001b[43mconcatenate\u001b[49m\u001b[43m(\u001b[49m\u001b[43marrays\u001b[49m\u001b[43m,\u001b[49m\u001b[43m \u001b[49m\u001b[38;5;241;43m1\u001b[39;49m\u001b[43m)\u001b[49m\n",
      "File \u001b[0;32m<__array_function__ internals>:180\u001b[0m, in \u001b[0;36mconcatenate\u001b[0;34m(*args, **kwargs)\u001b[0m\n",
      "\u001b[0;31mValueError\u001b[0m: all the input arrays must have same number of dimensions, but the array at index 0 has 3 dimension(s) and the array at index 1 has 2 dimension(s)"
     ]
    }
   ],
   "source": [
    "# Add the eigenvalues as a new column to the result array\n",
    "eig_data = np.column_stack((result, evalue_array))\n",
    "\n",
    "# Print the combined data\n",
    "print(eig_data)"
   ]
  },
  {
   "cell_type": "code",
   "execution_count": 15,
   "id": "0d444616",
   "metadata": {},
   "outputs": [
    {
     "name": "stdout",
     "output_type": "stream",
     "text": [
      "[[-8.86398e-01 -1.84316e-01 -4.24647e-01  5.61845e-02]\n",
      " [ 4.51781e-01 -1.44383e-01 -8.80368e-01  2.37437e-09]\n",
      " [-1.00954e-01  9.72204e-01 -2.11252e-01  1.39939e-01]]\n"
     ]
    }
   ],
   "source": [
    "import numpy as np\n",
    "\n",
    "# Define the eigenvectors and eigenvalues\n",
    "eigenvectors = np.array([[-0.886398, -0.184316, -0.424647],\n",
    "                         [ 0.451781, -0.144383, -0.880368],\n",
    "                         [-0.100954,  0.972204, -0.211252]])\n",
    "\n",
    "eigenvalues = np.array([5.61845e-02, 2.37437e-09, 1.39939e-01])\n",
    "\n",
    "# Add the eigenvalues as a new column to the eigenvectors array\n",
    "eig_data = np.column_stack((eigenvectors, eigenvalues))\n",
    "\n",
    "# Print the combined data\n",
    "print(eig_data)"
   ]
  },
  {
   "cell_type": "code",
   "execution_count": null,
   "id": "945f83a9",
   "metadata": {},
   "outputs": [],
   "source": []
  },
  {
   "cell_type": "code",
   "execution_count": 13,
   "id": "235324f3",
   "metadata": {},
   "outputs": [
    {
     "name": "stdout",
     "output_type": "stream",
     "text": [
      "[[-8.86398e-01 -1.84316e-01 -4.24647e-01  5.61845e-02]\n",
      " [ 4.51781e-01 -1.44383e-01 -8.80368e-01  2.37437e-09]\n",
      " [-1.00954e-01  9.72204e-01 -2.11252e-01  1.39939e-01]]\n"
     ]
    }
   ],
   "source": [
    "import numpy as np\n",
    "\n",
    "# Define the eigenvectors and eigenvalues\n",
    "eigenvectors = np.array([[-0.886398, -0.184316, -0.424647],\n",
    "                         [ 0.451781, -0.144383, -0.880368],\n",
    "                         [-0.100954,  0.972204, -0.211252]])\n",
    "\n",
    "eigenvalues = np.array([5.61845e-02, 2.37437e-09, 1.39939e-01])\n",
    "\n",
    "# Add the eigenvalues as a new column to the eigenvectors array\n",
    "eig_data = np.column_stack((eigenvectors, eigenvalues))\n",
    "\n",
    "# Print the combined data\n",
    "print(eig_data)"
   ]
  },
  {
   "cell_type": "code",
   "execution_count": null,
   "id": "a7750324",
   "metadata": {},
   "outputs": [],
   "source": []
  },
  {
   "cell_type": "code",
   "execution_count": null,
   "id": "c420f9d0",
   "metadata": {},
   "outputs": [],
   "source": []
  },
  {
   "cell_type": "code",
   "execution_count": 11,
   "id": "94c27c60",
   "metadata": {},
   "outputs": [],
   "source": [
    "## Store \n",
    "result = np.zeros((df.shape[0], 3, 3))\n",
    "\n",
    "for i in range(0, df.shape[0]):\n",
    "    \n",
    "    df.iloc[i][0]\n",
    "    my_list = df.iloc[0][0].split(\" \")\n",
    "    my_list_2 = [i.replace('[','').replace(']','').replace('(','').replace(')','') for i in my_list]\n",
    "    my_list_3 = [s for s in my_list_2 if s]\n",
    "    \n",
    "    # Convert the list to a numpy array of floats\n",
    "    my_array = np.array(my_list_3, dtype=float)\n",
    "\n",
    "    # Reshape the array into a 3x3 matrix\n",
    "    my_matrix = my_array.reshape(3, 3)\n",
    "\n",
    "    # Transpose the matrix to get three 3-dimensional column vectors\n",
    "    my_vectors = my_matrix.T\n",
    "\n",
    "    result[i, :, :] = my_vectors"
   ]
  },
  {
   "cell_type": "code",
   "execution_count": 12,
   "id": "66e08464",
   "metadata": {},
   "outputs": [
    {
     "data": {
      "text/plain": [
       "array([[[-0.886398,  0.451781, -0.100954],\n",
       "        [-0.184316, -0.144383,  0.972204],\n",
       "        [-0.424647, -0.880368, -0.211252]],\n",
       "\n",
       "       [[-0.886398,  0.451781, -0.100954],\n",
       "        [-0.184316, -0.144383,  0.972204],\n",
       "        [-0.424647, -0.880368, -0.211252]],\n",
       "\n",
       "       [[-0.886398,  0.451781, -0.100954],\n",
       "        [-0.184316, -0.144383,  0.972204],\n",
       "        [-0.424647, -0.880368, -0.211252]],\n",
       "\n",
       "       ...,\n",
       "\n",
       "       [[-0.886398,  0.451781, -0.100954],\n",
       "        [-0.184316, -0.144383,  0.972204],\n",
       "        [-0.424647, -0.880368, -0.211252]],\n",
       "\n",
       "       [[-0.886398,  0.451781, -0.100954],\n",
       "        [-0.184316, -0.144383,  0.972204],\n",
       "        [-0.424647, -0.880368, -0.211252]],\n",
       "\n",
       "       [[-0.886398,  0.451781, -0.100954],\n",
       "        [-0.184316, -0.144383,  0.972204],\n",
       "        [-0.424647, -0.880368, -0.211252]]])"
      ]
     },
     "execution_count": 12,
     "metadata": {},
     "output_type": "execute_result"
    }
   ],
   "source": [
    "result"
   ]
  },
  {
   "cell_type": "code",
   "execution_count": 13,
   "id": "489d6c6b",
   "metadata": {},
   "outputs": [
    {
     "data": {
      "text/plain": [
       "(302616, 3, 3)"
      ]
     },
     "execution_count": 13,
     "metadata": {},
     "output_type": "execute_result"
    }
   ],
   "source": [
    "result.shape"
   ]
  },
  {
   "cell_type": "code",
   "execution_count": 18,
   "id": "000dfddd",
   "metadata": {},
   "outputs": [
    {
     "data": {
      "text/plain": [
       "pyvista_ndarray([-0.04255443, -0.98918335,  0.14037603])"
      ]
     },
     "execution_count": 18,
     "metadata": {},
     "output_type": "execute_result"
    }
   ],
   "source": [
    "msh.cell_data[\"endo_avg\"][0, :]"
   ]
  },
  {
   "cell_type": "code",
   "execution_count": 22,
   "id": "2d7fe7a1",
   "metadata": {},
   "outputs": [
    {
     "data": {
      "text/plain": [
       "array([-0.886398, -0.184316, -0.424647])"
      ]
     },
     "execution_count": 22,
     "metadata": {},
     "output_type": "execute_result"
    }
   ],
   "source": [
    "result[0, :, 0]"
   ]
  },
  {
   "cell_type": "code",
   "execution_count": 23,
   "id": "16ff558c",
   "metadata": {},
   "outputs": [
    {
     "data": {
      "text/plain": [
       "0.1604322155954618"
      ]
     },
     "execution_count": 23,
     "metadata": {},
     "output_type": "execute_result"
    }
   ],
   "source": [
    "np.dot(msh.cell_data[\"endo_avg\"][0, :], result[0, :, 0])"
   ]
  },
  {
   "cell_type": "code",
   "execution_count": null,
   "id": "074d4c3f",
   "metadata": {},
   "outputs": [],
   "source": []
  },
  {
   "cell_type": "code",
   "execution_count": null,
   "id": "abdd8aa4",
   "metadata": {},
   "outputs": [],
   "source": []
  }
 ],
 "metadata": {
  "kernelspec": {
   "display_name": "vtk",
   "language": "python",
   "name": "vtk"
  },
  "language_info": {
   "codemirror_mode": {
    "name": "ipython",
    "version": 3
   },
   "file_extension": ".py",
   "mimetype": "text/x-python",
   "name": "python",
   "nbconvert_exporter": "python",
   "pygments_lexer": "ipython3",
   "version": "3.9.7"
  }
 },
 "nbformat": 4,
 "nbformat_minor": 5
}
