{
 "cells": [
  {
   "cell_type": "code",
   "execution_count": 1,
   "metadata": {},
   "outputs": [],
   "source": [
    "import pandas as pd\n",
    "import numpy as np\n",
    "import matplotlib.pyplot as plt\n",
    "import matplotlib.patches as mpatches\n",
    "from scipy.stats import ttest_ind"
   ]
  },
  {
   "cell_type": "markdown",
   "metadata": {},
   "source": [
    "# Normalised Errors / Unified Score"
   ]
  },
  {
   "cell_type": "code",
   "execution_count": 6,
   "metadata": {},
   "outputs": [],
   "source": [
    "\"\"\"\n",
    "USE Updated Function in CrossValidation.ipynb\n",
    "\n",
    "This function calculates the mean and std deviation of the distribution of medians of participants\n",
    "(the 63 hyperparameter combinations) across cases. It also returns the DataFrames of median error for each\n",
    "participant and z-score of medians.\n",
    "\n",
    "INPUT: The type of error. Defined by the registration resolution and error type.\n",
    "\n",
    "OUTPUT: Mean, std deviation, DataFrame of medians (across cases) of each hyperparameter combination, DataFrame of\n",
    "        z scores of each hyperparameter combination\n",
    "\"\"\"\n",
    "\n",
    "\n",
    "def MedianErrors(Res, Error):\n",
    "        \n",
    "    error_dict = {'ASD': 'Normal-Distance-Results', 'DHD': 'Hausdorff-Distance-Results', 'Dice': 'Dice-Results',\n",
    "                 'LAA': 'LAA-AbsoluteError', 'LSPV': 'LSPV-AbsoluteError', 'LIPV': 'LIPV-AbsoluteError',\n",
    "                 'RSPV': 'RSPV-AbsoluteError', 'RIPV': 'RIPV-AbsoluteError',\n",
    "                 'LAA-LS': 'LAA-LS-PercentageErrors', 'LAA-LI': 'LAA-LI-PercentageErrors', \n",
    "                 'LAA-RS': 'LAA-RS-PercentageErrors', 'LAA-RI': 'LAA-RS-PercentageErrors',\n",
    "                 'LS-LI': 'LS-LI-PercentageErrors', 'LS-RS': 'LS-RS-PercentageErrors', \n",
    "                 'LS-RI': 'LS-RI-PercentageErrors', 'LI-RS': 'LI-RS-PercentageErrors', \n",
    "                 'LI-RI': 'LI-RI-PercentageErrors', 'RS-RI': 'RS-RI-PercentageErrors',\n",
    "                 'MV': 'MV-AbsoluteError'}\n",
    "   \n",
    "    if Error in ['LAA', 'LAA-LS', 'LAA-LI', 'LAA-RS', 'LAA-RI']:\n",
    "        Cases = ('01', '02', '05', '06', '07', '08', '12', '15', '16')\n",
    "        \n",
    "    else:\n",
    "        Cases = ('01', '02', '05', '06', '07', '08', '09', '12', '15', '16')\n",
    "    \n",
    "    Error = error_dict[Error]\n",
    "    \n",
    "    Case_to_RowIndex = {'01' : 0, '02' : 1, '05' : 2, '06' : 3, '07' : 4, '08' : 5, '09' : 6, '12' : 7, '15' : 8, '16' : 9}\n",
    "    \n",
    "    cases_array = np.zeros(shape=(63,10))\n",
    "    \n",
    "    for Case in Cases:\n",
    "    \n",
    "        df_read = pd.read_csv(f'/home/csi20local/Data/RG_CT_Cases/CT-CRT-{Case}/{Res}-{Error}.csv', \n",
    "                        sep = ' ', index_col = 0)\n",
    "        df_array = df_read.to_numpy()\n",
    "        flattened_array = np.reshape(df_array, 63)\n",
    "    \n",
    "        cases_array[:, Case_to_RowIndex[Case]] = flattened_array\n",
    "        \n",
    "    medians = np.zeros(63)\n",
    "\n",
    "    for i in range(0,cases_array.shape[0]):\n",
    "        medians[i] = np.median(cases_array[i, :])\n",
    "    \n",
    "    mean = np.mean(medians)\n",
    "    std = np.std(medians)\n",
    "    \n",
    "    df_medians = np.reshape(medians, (9,7))\n",
    "    \n",
    "    BE_rename = {0: 4e-6, 1: 1e-6, 2: 4e-7, 3: 1e-7, 4: 4e-8, 5: 1e-8, 6: 4e-9, 7: 1e-9, 8: 4e-10}\n",
    "    SW_rename = {0: '9e-2', 1: '3e-2', 2: '9e-3', 3: '3e-3', 4: '9e-4', 5: '3e-4', 6: '0.0'}\n",
    "    \n",
    "    df_medians = pd.DataFrame(df_medians)\n",
    "    df_medians = df_medians.rename(index = BE_rename, columns=SW_rename)\n",
    "    \n",
    "    df_zscore = (df_medians-mean)/std\n",
    "    df_zscore = df_zscore.rename(index = BE_rename, columns=SW_rename)\n",
    "    \n",
    "    if Error == \"Dice-Results\":\n",
    "        mean = 1 - mean\n",
    "        \n",
    "        df_medians = 1 - df_medians\n",
    "        df_zscore = 1 - df_zscore\n",
    "    \n",
    "    return mean, std, df_medians, df_zscore"
   ]
  },
  {
   "cell_type": "code",
   "execution_count": null,
   "metadata": {},
   "outputs": [],
   "source": [
    "\"\"\"\n",
    "This function calculates the mean and std deviation of the distribution of medians of participants\n",
    "(the 63 hyperparameter combinations) across cases. It also returns the DataFrames of median error for each\n",
    "participant and z-score of medians.\n",
    "\n",
    "INPUT: The type of error. Defined by the registration resolution and error type.\n",
    "\n",
    "OUTPUT: Mean, std deviation, DataFrame of medians (across cases) of each hyperparameter combination, DataFrame of\n",
    "        z scores of each hyperparameter combination\n",
    "\"\"\"\n",
    "\n",
    "\n",
    "def MedianErrors_WIP(Res, Error):\n",
    "        \n",
    "    error_dict = {'ASD': 'Normal-Distance-Results', 'DHD': 'Hausdorff-Distance-Results', 'Dice': 'Dice-Results',\n",
    "                 'LAA': 'LAA-AbsoluteError', 'LSPV': 'LSPV-AbsoluteError', 'LIPV': 'LIPV-AbsoluteError',\n",
    "                 'RSPV': 'RSPV-AbsoluteError', 'RIPV': 'RIPV-AbsoluteError',\n",
    "                 'LAA-LS': 'LAA-LS-PercentageErrors', 'LAA-LI': 'LAA-LI-PercentageErrors', \n",
    "                 'LAA-RS': 'LAA-RS-PercentageErrors', 'LAA-RI': 'LAA-RS-PercentageErrors',\n",
    "                 'LS-LI': 'LS-LI-PercentageErrors', 'LS-RS': 'LS-RS-PercentageErrors', \n",
    "                 'LS-RI': 'LS-RI-PercentageErrors', 'LI-RS': 'LI-RS-PercentageErrors', \n",
    "                 'LI-RI': 'LI-RI-PercentageErrors', 'RS-RI': 'RS-RI-PercentageErrors',\n",
    "                 'MV': 'MV-AbsoluteError'}\n",
    "   \n",
    "    if Error in ['LAA', 'LAA-LS', 'LAA-LI', 'LAA-RS', 'LAA-RI']:\n",
    "        Cases = ('01', '02', '05', '06', '07', '08', '12', '15', '16')\n",
    "        \n",
    "    else:\n",
    "        Cases = ('01', '02', '05', '06', '07', '08', '09', '12', '15', '16')\n",
    "    \n",
    "    Error = error_dict[Error]\n",
    "    \n",
    "    Case_to_RowIndex = {'01' : 0, '02' : 1, '05' : 2, '06' : 3, '07' : 4, '08' : 5, '09' : 6, '12' : 7, '15' : 8, '16' : 9}\n",
    "    \n",
    "    cases_array = np.zeros(shape=(10,63))\n",
    "    \n",
    "    for Case in Cases:\n",
    "    \n",
    "        df_read = pd.read_csv(f'/home/csi20local/Data/RG_CT_Cases/CT-CRT-{Case}/{Res}-{Error}.csv', \n",
    "                        sep = ' ', index_col = 0)\n",
    "        df_array = df_read.to_numpy()\n",
    "        flattened_array = np.reshape(df_array, 63)\n",
    "    \n",
    "        cases_array[Case_to_RowIndex[Case], :] = flattened_array\n",
    "        \n",
    "    medians = np.zeros(63)\n",
    "\n",
    "    for i in range(0,cases_array.shape[1]):\n",
    "        medians[i] = np.median(cases_array[:, i])\n",
    "    \n",
    "    mean = np.mean(medians)\n",
    "    std = np.std(medians)\n",
    "    \n",
    "    df_medians = np.reshape(medians, (9,7))\n",
    "    \n",
    "    BE_rename = {0: 4e-6, 1: 1e-6, 2: 4e-7, 3: 1e-7, 4: 4e-8, 5: 1e-8, 6: 4e-9, 7: 1e-9, 8: 4e-10}\n",
    "    SW_rename = {0: '9e-2', 1: '3e-2', 2: '9e-3', 3: '3e-3', 4: '9e-4', 5: '3e-4', 6: '0.0'}\n",
    "    \n",
    "    df_medians = pd.DataFrame(df_medians)\n",
    "    df_medians = df_medians.rename(index = BE_rename, columns=SW_rename)\n",
    "    \n",
    "    df_zscore = (df_medians-mean)/std\n",
    "    df_zscore = df_zscore.rename(index = BE_rename, columns=SW_rename)\n",
    "    \n",
    "    if Error == \"Dice-Results\":\n",
    "        mean = 1 - mean\n",
    "        \n",
    "        df_medians = 1 - df_medians\n",
    "        df_zscore = 1 - df_zscore\n",
    "    \n",
    "    return mean, std, df_medians, df_zscore"
   ]
  },
  {
   "cell_type": "code",
   "execution_count": null,
   "metadata": {},
   "outputs": [],
   "source": [
    "MedianErrors('MT-HiRes', 'Dice')[-1]"
   ]
  },
  {
   "cell_type": "code",
   "execution_count": null,
   "metadata": {},
   "outputs": [],
   "source": [
    "MedianErrors('MT-HiRes', 'LAA')[-1]"
   ]
  },
  {
   "cell_type": "code",
   "execution_count": null,
   "metadata": {
    "scrolled": true
   },
   "outputs": [],
   "source": [
    "MedianErrors('MT-HiRes', 'LAA-LS')[-1]"
   ]
  },
  {
   "cell_type": "code",
   "execution_count": null,
   "metadata": {
    "scrolled": true
   },
   "outputs": [],
   "source": [
    "MedianErrors('MT-HiRes', 'MV')[-1]"
   ]
  },
  {
   "cell_type": "code",
   "execution_count": null,
   "metadata": {},
   "outputs": [],
   "source": [
    "df_z = "
   ]
  },
  {
   "cell_type": "code",
   "execution_count": null,
   "metadata": {},
   "outputs": [],
   "source": [
    "df_z = (MedianErrors('MT', 'ASD')[-1] + MedianErrors('MT', 'Dice')[-1] \n",
    "        + MedianErrors('MT', 'LAA')[-1] + MedianErrors('MT', 'LSPV')[-1] + MedianErrors('MT', 'LIPV')[-1]\n",
    "        + MedianErrors('MT', 'RSPV')[-1] + MedianErrors('MT', 'RIPV')[-1])/7\n",
    "df_z"
   ]
  },
  {
   "cell_type": "code",
   "execution_count": null,
   "metadata": {},
   "outputs": [],
   "source": [
    "df_z.min()"
   ]
  },
  {
   "cell_type": "code",
   "execution_count": null,
   "metadata": {},
   "outputs": [],
   "source": [
    "df_z.min().min()"
   ]
  },
  {
   "cell_type": "code",
   "execution_count": 3,
   "metadata": {},
   "outputs": [
    {
     "data": {
      "text/html": [
       "<div>\n",
       "<style scoped>\n",
       "    .dataframe tbody tr th:only-of-type {\n",
       "        vertical-align: middle;\n",
       "    }\n",
       "\n",
       "    .dataframe tbody tr th {\n",
       "        vertical-align: top;\n",
       "    }\n",
       "\n",
       "    .dataframe thead th {\n",
       "        text-align: right;\n",
       "    }\n",
       "</style>\n",
       "<table border=\"1\" class=\"dataframe\">\n",
       "  <thead>\n",
       "    <tr style=\"text-align: right;\">\n",
       "      <th></th>\n",
       "      <th>9e-2</th>\n",
       "      <th>3e-2</th>\n",
       "      <th>9e-3</th>\n",
       "      <th>3e-3</th>\n",
       "      <th>9e-4</th>\n",
       "      <th>3e-4</th>\n",
       "      <th>0.0</th>\n",
       "    </tr>\n",
       "  </thead>\n",
       "  <tbody>\n",
       "    <tr>\n",
       "      <th>4.000000e-06</th>\n",
       "      <td>0.075290</td>\n",
       "      <td>0.430752</td>\n",
       "      <td>0.234746</td>\n",
       "      <td>0.450127</td>\n",
       "      <td>0.231279</td>\n",
       "      <td>0.095913</td>\n",
       "      <td>-0.175633</td>\n",
       "    </tr>\n",
       "    <tr>\n",
       "      <th>1.000000e-06</th>\n",
       "      <td>-0.264883</td>\n",
       "      <td>0.197126</td>\n",
       "      <td>0.446580</td>\n",
       "      <td>0.081655</td>\n",
       "      <td>0.209601</td>\n",
       "      <td>-0.415711</td>\n",
       "      <td>-0.047089</td>\n",
       "    </tr>\n",
       "    <tr>\n",
       "      <th>4.000000e-07</th>\n",
       "      <td>-0.384284</td>\n",
       "      <td>0.598719</td>\n",
       "      <td>0.497367</td>\n",
       "      <td>-0.103501</td>\n",
       "      <td>-0.054864</td>\n",
       "      <td>0.232389</td>\n",
       "      <td>-0.140571</td>\n",
       "    </tr>\n",
       "    <tr>\n",
       "      <th>1.000000e-07</th>\n",
       "      <td>0.495654</td>\n",
       "      <td>0.452287</td>\n",
       "      <td>-0.356036</td>\n",
       "      <td>0.196055</td>\n",
       "      <td>-0.058506</td>\n",
       "      <td>0.517797</td>\n",
       "      <td>-0.538512</td>\n",
       "    </tr>\n",
       "    <tr>\n",
       "      <th>4.000000e-08</th>\n",
       "      <td>-0.177638</td>\n",
       "      <td>-0.076705</td>\n",
       "      <td>-0.586958</td>\n",
       "      <td>0.461380</td>\n",
       "      <td>-0.423603</td>\n",
       "      <td>-0.206264</td>\n",
       "      <td>0.177925</td>\n",
       "    </tr>\n",
       "    <tr>\n",
       "      <th>1.000000e-08</th>\n",
       "      <td>0.037000</td>\n",
       "      <td>0.545133</td>\n",
       "      <td>0.032918</td>\n",
       "      <td>0.113276</td>\n",
       "      <td>0.115320</td>\n",
       "      <td>-0.264176</td>\n",
       "      <td>-0.235912</td>\n",
       "    </tr>\n",
       "    <tr>\n",
       "      <th>4.000000e-09</th>\n",
       "      <td>0.128986</td>\n",
       "      <td>0.252886</td>\n",
       "      <td>-0.692384</td>\n",
       "      <td>0.007402</td>\n",
       "      <td>0.065298</td>\n",
       "      <td>0.210662</td>\n",
       "      <td>-0.416127</td>\n",
       "    </tr>\n",
       "    <tr>\n",
       "      <th>1.000000e-09</th>\n",
       "      <td>0.244225</td>\n",
       "      <td>0.279949</td>\n",
       "      <td>-0.175111</td>\n",
       "      <td>0.275558</td>\n",
       "      <td>0.554705</td>\n",
       "      <td>0.169314</td>\n",
       "      <td>-0.007147</td>\n",
       "    </tr>\n",
       "    <tr>\n",
       "      <th>4.000000e-10</th>\n",
       "      <td>-0.273317</td>\n",
       "      <td>0.173108</td>\n",
       "      <td>-0.217934</td>\n",
       "      <td>-0.164724</td>\n",
       "      <td>0.235111</td>\n",
       "      <td>0.158698</td>\n",
       "      <td>0.091190</td>\n",
       "    </tr>\n",
       "  </tbody>\n",
       "</table>\n",
       "</div>"
      ],
      "text/plain": [
       "                  9e-2      3e-2      9e-3      3e-3      9e-4      3e-4  \\\n",
       "4.000000e-06  0.075290  0.430752  0.234746  0.450127  0.231279  0.095913   \n",
       "1.000000e-06 -0.264883  0.197126  0.446580  0.081655  0.209601 -0.415711   \n",
       "4.000000e-07 -0.384284  0.598719  0.497367 -0.103501 -0.054864  0.232389   \n",
       "1.000000e-07  0.495654  0.452287 -0.356036  0.196055 -0.058506  0.517797   \n",
       "4.000000e-08 -0.177638 -0.076705 -0.586958  0.461380 -0.423603 -0.206264   \n",
       "1.000000e-08  0.037000  0.545133  0.032918  0.113276  0.115320 -0.264176   \n",
       "4.000000e-09  0.128986  0.252886 -0.692384  0.007402  0.065298  0.210662   \n",
       "1.000000e-09  0.244225  0.279949 -0.175111  0.275558  0.554705  0.169314   \n",
       "4.000000e-10 -0.273317  0.173108 -0.217934 -0.164724  0.235111  0.158698   \n",
       "\n",
       "                   0.0  \n",
       "4.000000e-06 -0.175633  \n",
       "1.000000e-06 -0.047089  \n",
       "4.000000e-07 -0.140571  \n",
       "1.000000e-07 -0.538512  \n",
       "4.000000e-08  0.177925  \n",
       "1.000000e-08 -0.235912  \n",
       "4.000000e-09 -0.416127  \n",
       "1.000000e-09 -0.007147  \n",
       "4.000000e-10  0.091190  "
      ]
     },
     "execution_count": 3,
     "metadata": {},
     "output_type": "execute_result"
    }
   ],
   "source": [
    "df_z = (MedianErrors('MT-HiRes', 'ASD')[-1] + MedianErrors('MT-HiRes', 'DHD')[-1] + MedianErrors('MT-HiRes', 'Dice')[-1] \n",
    "        + MedianErrors('MT-HiRes', 'LAA')[-1] + MedianErrors('MT-HiRes', 'LSPV')[-1] + MedianErrors('MT-HiRes', 'LIPV')[-1] + MedianErrors('MT-HiRes', 'RSPV')[-1] + MedianErrors('MT-HiRes', 'RIPV')[-1]\n",
    "        + MedianErrors('MT-HiRes', 'LAA-LS')[-1] + MedianErrors('MT-HiRes', 'LAA-LI')[-1] + MedianErrors('MT-HiRes', 'LAA-RS')[-1] + MedianErrors('MT-HiRes', 'LAA-RI')[-1] \n",
    "        + MedianErrors('MT-HiRes', 'LS-LI')[-1] + MedianErrors('MT-HiRes', 'LS-RS')[-1] + MedianErrors('MT-HiRes', 'LS-RI')[-1] \n",
    "        + MedianErrors('MT-HiRes', 'LI-RS')[-1] + MedianErrors('MT-HiRes', 'LI-RI')[-1] + MedianErrors('MT-HiRes', 'RS-RI')[-1]\n",
    "        + MedianErrors('MT-HiRes', 'MV')[-1])/19\n",
    "df_z"
   ]
  },
  {
   "cell_type": "code",
   "execution_count": 4,
   "metadata": {},
   "outputs": [
    {
     "data": {
      "text/plain": [
       "9e-2   -0.384284\n",
       "3e-2   -0.076705\n",
       "9e-3   -0.692384\n",
       "3e-3   -0.164724\n",
       "9e-4   -0.423603\n",
       "3e-4   -0.415711\n",
       "0.0    -0.538512\n",
       "dtype: float64"
      ]
     },
     "execution_count": 4,
     "metadata": {},
     "output_type": "execute_result"
    }
   ],
   "source": [
    "df_z.min()"
   ]
  },
  {
   "cell_type": "code",
   "execution_count": 5,
   "metadata": {},
   "outputs": [
    {
     "data": {
      "text/plain": [
       "-0.6923839761772786"
      ]
     },
     "execution_count": 5,
     "metadata": {},
     "output_type": "execute_result"
    }
   ],
   "source": [
    "df_z.min().min()"
   ]
  },
  {
   "cell_type": "code",
   "execution_count": null,
   "metadata": {},
   "outputs": [],
   "source": [
    "df_z = (MedianErrors_WIP('MT-HiRes', 'ASD')[-1] + MedianErrors_WIP('MT-HiRes', 'DHD')[-1] + MedianErrors_WIP('MT-HiRes', 'Dice')[-1] \n",
    "        + MedianErrors_WIP('MT-HiRes', 'LAA')[-1] + MedianErrors_WIP('MT-HiRes', 'LSPV')[-1] + MedianErrors_WIP('MT-HiRes', 'LIPV')[-1] + MedianErrors_WIP('MT-HiRes', 'RSPV')[-1] + MedianErrors_WIP('MT-HiRes', 'RIPV')[-1]\n",
    "        + MedianErrors_WIP('MT-HiRes', 'LAA-LS')[-1] + MedianErrors_WIP('MT-HiRes', 'LAA-LI')[-1] + MedianErrors_WIP('MT-HiRes', 'LAA-RS')[-1] + MedianErrors_WIP('MT-HiRes', 'LAA-RI')[-1] \n",
    "        + MedianErrors_WIP('MT-HiRes', 'LS-LI')[-1] + MedianErrors_WIP('MT-HiRes', 'LS-RS')[-1] + MedianErrors_WIP('MT-HiRes', 'LS-RI')[-1] \n",
    "        + MedianErrors_WIP('MT-HiRes', 'LI-RS')[-1] + MedianErrors_WIP('MT-HiRes', 'LI-RI')[-1] + MedianErrors_WIP('MT-HiRes', 'RS-RI')[-1]\n",
    "        + MedianErrors_WIP('MT-HiRes', 'MV')[-1])/19\n",
    "df_z"
   ]
  },
  {
   "cell_type": "code",
   "execution_count": null,
   "metadata": {},
   "outputs": [],
   "source": [
    "df_z.min()"
   ]
  },
  {
   "cell_type": "code",
   "execution_count": null,
   "metadata": {},
   "outputs": [],
   "source": [
    "df_z.min().min()"
   ]
  },
  {
   "cell_type": "code",
   "execution_count": null,
   "metadata": {},
   "outputs": [],
   "source": []
  },
  {
   "cell_type": "code",
   "execution_count": null,
   "metadata": {},
   "outputs": [],
   "source": [
    "df_z = (MedianErrors('MT-HiRes', 'ASD')[-1] + MedianErrors('MT-HiRes', 'LAA')[-1] \n",
    "        + MedianErrors('MT-HiRes', 'LSPV')[-1]\n",
    "       + MedianErrors('MT-HiRes', 'LIPV')[-1] + MedianErrors('MT-HiRes', 'RSPV')[-1] + MedianErrors('MT-HiRes', 'RIPV')[-1])/7\n",
    "df_z"
   ]
  },
  {
   "cell_type": "code",
   "execution_count": null,
   "metadata": {},
   "outputs": [],
   "source": []
  },
  {
   "cell_type": "code",
   "execution_count": null,
   "metadata": {},
   "outputs": [],
   "source": []
  },
  {
   "cell_type": "code",
   "execution_count": null,
   "metadata": {},
   "outputs": [],
   "source": [
    "df_z = (MedianErrors('MT-HiRes', 'ASD')[-1] + MedianErrors('MT-HiRes', 'LAA')[-1] \n",
    "        + MedianErrors('MT-HiRes', 'LSPV')[-1]\n",
    "       + MedianErrors('MT-HiRes', 'LIPV')[-1] + MedianErrors('MT-HiRes', 'RSPV')[-1] + MedianErrors('MT-HiRes', 'RIPV')[-1])/7\n",
    "df_z"
   ]
  },
  {
   "cell_type": "code",
   "execution_count": null,
   "metadata": {},
   "outputs": [],
   "source": [
    "df_z.min()"
   ]
  },
  {
   "cell_type": "code",
   "execution_count": null,
   "metadata": {},
   "outputs": [],
   "source": [
    "df_z.min().min()"
   ]
  },
  {
   "cell_type": "code",
   "execution_count": null,
   "metadata": {},
   "outputs": [],
   "source": []
  },
  {
   "cell_type": "code",
   "execution_count": null,
   "metadata": {},
   "outputs": [],
   "source": [
    "mean, std, df, df_z = Error_Distribution_Info('MT-HiRes', 'ASD')"
   ]
  },
  {
   "cell_type": "code",
   "execution_count": null,
   "metadata": {},
   "outputs": [],
   "source": [
    "df"
   ]
  },
  {
   "cell_type": "code",
   "execution_count": null,
   "metadata": {},
   "outputs": [],
   "source": [
    "df_z"
   ]
  },
  {
   "cell_type": "code",
   "execution_count": null,
   "metadata": {},
   "outputs": [],
   "source": [
    "mean"
   ]
  },
  {
   "cell_type": "code",
   "execution_count": null,
   "metadata": {},
   "outputs": [],
   "source": [
    "std"
   ]
  },
  {
   "cell_type": "code",
   "execution_count": null,
   "metadata": {},
   "outputs": [],
   "source": [
    "mean, std, df, df_z = Error_Distribution_Info('MT', 'LAA')"
   ]
  },
  {
   "cell_type": "code",
   "execution_count": null,
   "metadata": {},
   "outputs": [],
   "source": [
    "df"
   ]
  },
  {
   "cell_type": "code",
   "execution_count": null,
   "metadata": {},
   "outputs": [],
   "source": [
    "df_z"
   ]
  },
  {
   "cell_type": "code",
   "execution_count": null,
   "metadata": {},
   "outputs": [],
   "source": [
    "total = (Error_Distribution_Info('MT', 'ASD')[-1] + Error_Distribution_Info('MT', 'DHD')[-1] + Error_Distribution_Info('MT', 'LAA')[-1]\n",
    " + Error_Distribution_Info('MT', 'LSPV')[-1] + Error_Distribution_Info('MT', 'LIPV')[-1] + Error_Distribution_Info('MT', 'RSPV')[-1]\n",
    " + Error_Distribution_Info('MT', 'RIPV')[-1])/7"
   ]
  },
  {
   "cell_type": "code",
   "execution_count": null,
   "metadata": {},
   "outputs": [],
   "source": [
    "total"
   ]
  },
  {
   "cell_type": "code",
   "execution_count": null,
   "metadata": {},
   "outputs": [],
   "source": [
    "total.min()"
   ]
  },
  {
   "cell_type": "code",
   "execution_count": null,
   "metadata": {},
   "outputs": [],
   "source": [
    "total.min().min()"
   ]
  },
  {
   "cell_type": "code",
   "execution_count": null,
   "metadata": {},
   "outputs": [],
   "source": [
    "total = (Error_Distribution_Info('MT', 'ASD')[-1] + Error_Distribution_Info('MT', 'LAA')[-1]\n",
    " + Error_Distribution_Info('MT', 'LSPV')[-1] + Error_Distribution_Info('MT', 'LIPV')[-1] + Error_Distribution_Info('MT', 'RSPV')[-1]\n",
    " + Error_Distribution_Info('MT', 'RIPV')[-1])/7"
   ]
  },
  {
   "cell_type": "code",
   "execution_count": null,
   "metadata": {},
   "outputs": [],
   "source": [
    "total"
   ]
  },
  {
   "cell_type": "code",
   "execution_count": null,
   "metadata": {},
   "outputs": [],
   "source": [
    "total.min()"
   ]
  },
  {
   "cell_type": "code",
   "execution_count": null,
   "metadata": {},
   "outputs": [],
   "source": [
    "total.min().min()"
   ]
  },
  {
   "cell_type": "code",
   "execution_count": null,
   "metadata": {},
   "outputs": [],
   "source": [
    "total = Error_Distribution_Info('MT', 'ASD')[-1]"
   ]
  },
  {
   "cell_type": "code",
   "execution_count": null,
   "metadata": {},
   "outputs": [],
   "source": [
    "total"
   ]
  },
  {
   "cell_type": "code",
   "execution_count": null,
   "metadata": {},
   "outputs": [],
   "source": [
    "total.min()"
   ]
  },
  {
   "cell_type": "code",
   "execution_count": null,
   "metadata": {},
   "outputs": [],
   "source": [
    "total.min().min()"
   ]
  },
  {
   "cell_type": "code",
   "execution_count": null,
   "metadata": {},
   "outputs": [],
   "source": [
    "Error_Distribution_Info('MT-HiRes', 'Dice')"
   ]
  },
  {
   "cell_type": "code",
   "execution_count": null,
   "metadata": {},
   "outputs": [],
   "source": [
    "mean, std = Error_Distribution_Info('MT', 'ASD')"
   ]
  },
  {
   "cell_type": "code",
   "execution_count": null,
   "metadata": {},
   "outputs": [],
   "source": [
    "Case = '01'\n",
    "csv_name = 'Normal-Distance-Results'\n",
    "Res = 'MT'\n",
    "\n",
    "df_read = pd.read_csv(f'/home/csi20local/Data/RG_CT_Cases/CT-CRT-{Case}/{Res}-{csv_name}.csv', \n",
    "                    sep = ' ', index_col = 0)\n",
    "\n",
    "df_array = df_read.to_numpy()"
   ]
  },
  {
   "cell_type": "code",
   "execution_count": null,
   "metadata": {},
   "outputs": [],
   "source": [
    "df_read"
   ]
  },
  {
   "cell_type": "code",
   "execution_count": null,
   "metadata": {},
   "outputs": [],
   "source": [
    "(df_read-mean)/std"
   ]
  },
  {
   "cell_type": "code",
   "execution_count": null,
   "metadata": {},
   "outputs": [],
   "source": [
    "Normalise_Errors('MT-HiRes', 'ASD', '01')[1]"
   ]
  },
  {
   "cell_type": "code",
   "execution_count": null,
   "metadata": {},
   "outputs": [],
   "source": [
    "Normalise_Errors('MT-HiRes', 'ASD', '07')[1]"
   ]
  },
  {
   "cell_type": "code",
   "execution_count": null,
   "metadata": {},
   "outputs": [],
   "source": []
  },
  {
   "cell_type": "code",
   "execution_count": null,
   "metadata": {},
   "outputs": [],
   "source": [
    "def Normalise_Errors(Res, Error, Case):\n",
    "    \n",
    "    if Error == 'ASD':\n",
    "        Error = 'Normal-Distance-Results'\n",
    "\n",
    "    elif Error == 'DHD':\n",
    "        Error = 'Hausdorff-Distance-Results'\n",
    "\n",
    "    elif Error == 'Dice':\n",
    "        Error = 'Dice-Results'\n",
    "    \n",
    "    df_read = pd.read_csv(f'/home/csi20local/Data/RG_CT_Cases/CT-CRT-{Case}/{Res}-{csv_name}.csv', \n",
    "                    sep = ' ', index_col = 0)\n",
    "    \n",
    "    mean, std = Error_Distribution_Info(Res, Error)\n",
    "    \n",
    "    print(mean, std)\n",
    "    \n",
    "    df = (df_read-mean)/std\n",
    "    \n",
    "    return df_read, df"
   ]
  },
  {
   "cell_type": "code",
   "execution_count": null,
   "metadata": {},
   "outputs": [],
   "source": [
    "pwd"
   ]
  },
  {
   "cell_type": "code",
   "execution_count": null,
   "metadata": {},
   "outputs": [],
   "source": [
    "def Median_DataFrame(Res, Error):\n",
    "    \n",
    "    if Error == 'ASD':\n",
    "        Error = 'Normal-Distance-Results'\n",
    "\n",
    "    elif Error == 'DHD':\n",
    "        Error = 'Hausdorff-Distance-Results'\n",
    "\n",
    "    elif Error == 'Dice':\n",
    "        Error = 'Dice-Results'\n",
    "    \n",
    "    Case_to_RowIndex = {'01' : 0, '02' : 1, '05' : 2, '06' : 3, '07' : 4, '08' : 5, '09' : 6, '12' : 7, '15' : 8, '16' : 9}\n",
    "    \n",
    "    cases_array = np.zeros(shape=(63,10))\n",
    "    \n",
    "    for Case in ('01', '02', '05', '06', '07', '08', '09', '12', '15', '16'):\n",
    "    \n",
    "        df_read = pd.read_csv(f'/home/csi20local/Data/RG_CT_Cases/CT-CRT-{Case}/{Res}-{Error}.csv', \n",
    "                        sep = ' ', index_col = 0)\n",
    "        df_array = df_read.to_numpy()\n",
    "        flattened_array = np.reshape(df_array, 63)\n",
    "    \n",
    "        cases_array[:, Case_to_RowIndex[Case]] = flattened_array\n",
    "        \n",
    "    medians = np.zeros(63)\n",
    "\n",
    "    for i in range(0,cases_array.shape[0]):\n",
    "        medians[i] = np.median(cases_array[i, :])\n",
    "    \n",
    "    df_medians = np.reshape(medians, (9,7))\n",
    "    \n",
    "    return mean, std"
   ]
  },
  {
   "cell_type": "code",
   "execution_count": null,
   "metadata": {},
   "outputs": [],
   "source": [
    "a = np.array([[1,2,3],[4,5,6]])"
   ]
  },
  {
   "cell_type": "code",
   "execution_count": null,
   "metadata": {},
   "outputs": [],
   "source": [
    "a"
   ]
  },
  {
   "cell_type": "code",
   "execution_count": null,
   "metadata": {},
   "outputs": [],
   "source": [
    "a_flat = np.reshape(a, 6)"
   ]
  },
  {
   "cell_type": "code",
   "execution_count": null,
   "metadata": {},
   "outputs": [],
   "source": [
    "np.reshape(a_flat, (2,3))"
   ]
  },
  {
   "cell_type": "code",
   "execution_count": null,
   "metadata": {},
   "outputs": [],
   "source": [
    "df_test = Error_Distribution_Info('MT', 'ASD')[2]"
   ]
  },
  {
   "cell_type": "code",
   "execution_count": null,
   "metadata": {},
   "outputs": [],
   "source": [
    "df_test"
   ]
  },
  {
   "cell_type": "code",
   "execution_count": null,
   "metadata": {},
   "outputs": [],
   "source": [
    "BE = {0: '4e-6', 1: '1e-6', 2: '4e-7', 3: '1e-7',\n",
    "      4: '4e-8', 5: '1e-8', 6: '4e-9', 7: '1e-9', 8: '4e-10'}"
   ]
  },
  {
   "cell_type": "code",
   "execution_count": null,
   "metadata": {},
   "outputs": [],
   "source": [
    "df_test.rename(index=BE)"
   ]
  },
  {
   "cell_type": "code",
   "execution_count": null,
   "metadata": {},
   "outputs": [],
   "source": [
    "np.reshape(df_array, 63)"
   ]
  },
  {
   "cell_type": "code",
   "execution_count": null,
   "metadata": {},
   "outputs": [],
   "source": [
    "cases_array[:, 0] = np.reshape(df_array, 63)"
   ]
  },
  {
   "cell_type": "code",
   "execution_count": null,
   "metadata": {},
   "outputs": [],
   "source": [
    "if df_read.loc[1e-6].loc['9e-2'] == cases_array[7,7]:\n",
    "    print(True)\n",
    "    \n",
    "else:\n",
    "    print(False)"
   ]
  },
  {
   "cell_type": "code",
   "execution_count": null,
   "metadata": {},
   "outputs": [],
   "source": [
    "cases_array[:,0]"
   ]
  }
 ],
 "metadata": {
  "kernelspec": {
   "display_name": "Python 3",
   "language": "python",
   "name": "python3"
  },
  "language_info": {
   "codemirror_mode": {
    "name": "ipython",
    "version": 3
   },
   "file_extension": ".py",
   "mimetype": "text/x-python",
   "name": "python",
   "nbconvert_exporter": "python",
   "pygments_lexer": "ipython3",
   "version": "3.7.3"
  }
 },
 "nbformat": 4,
 "nbformat_minor": 2
}
