{
 "cells": [
  {
   "cell_type": "markdown",
   "id": "cb3326a6",
   "metadata": {},
   "source": [
    "This notebook is for investigating correlation between resevoir strains and global measures of LA function and structure (LAEF, LA ed vol).\n",
    "\n",
    "This bolsters the idea that we are indeed measuring LA mechanics.\n",
    "\n",
    "For regional correlations: allows us to investigate which regional motion has biggest effect on ejection fraction. "
   ]
  },
  {
   "cell_type": "code",
   "execution_count": 30,
   "id": "88299975",
   "metadata": {},
   "outputs": [],
   "source": [
    "import numpy as np\n",
    "import matplotlib.pyplot as plt\n",
    "from scipy import stats"
   ]
  },
  {
   "cell_type": "code",
   "execution_count": 9,
   "id": "f0b4b8b5",
   "metadata": {},
   "outputs": [],
   "source": [
    "numTimes = 10\n",
    "\n",
    "nTime=np.arange(0, numTimes)/numTimes\n",
    "\n",
    "DataPath=\"/home/csi20/Dropbox/phd/Data/RG_CT_Cases\"\n",
    "# DataPath=\"/media/csi20local/Seagate Portable Drive/Master/Data/RG_CT_Cases\"\n",
    "\n",
    "f20_cases = ['21', '23', '24', '25', '26', '27', '28', '29', '30', '31', '32', '34']\n",
    "f20_cases = [f'CT-CRT/case{case_ind}' for case_ind in f20_cases]\n",
    "ebr=['EBR/case01', 'EBR/case02']\n",
    "f20_cases = f20_cases + ebr\n",
    "\n",
    "## All 30 Cases\n",
    "# nonAF\n",
    "nonaf_cases = ['01', '02', '05', '06', '07', '08', '09', '12', '14',\n",
    "             '15', '16', '17', '18', '24', '27', '28', '29', '30',\n",
    "             '32']\n",
    "nonaf_cases = [f\"CT-CRT/case{case}\" for case in nonaf_cases]\n",
    "\n",
    "# AF\n",
    "af_cases = ['10', '19', '20', '23', '26', '31', '25', '34']\n",
    "af_cases = [f'CT-CRT/case{case}' for case in af_cases]\n",
    "af_cases = af_cases + ebr\n",
    "\n",
    "def plot_strain(ax, case, label, strain_type, region):\n",
    "    \n",
    "    \"\"\"\n",
    "    Use to plot area and squeez strains.\n",
    "    Usage:\n",
    "        * ax: axis to plot on\n",
    "        * case: case\n",
    "        * label: label for curve\n",
    "        * strain_type: either area or squeez\n",
    "        * region: global, roof, lat, sept, ant, post\n",
    "    \"\"\"\n",
    "    \n",
    "    if case in f20_cases:\n",
    "        filepath=f'{DataPath}/{case}/MT-HiRes-TDownsampled/SW-0.0-BE-1e-9'\n",
    "    \n",
    "    else:\n",
    "        filepath=f'{DataPath}/{case}/MT-HiRes/SW-0.0-BE-1e-9'\n",
    "    \n",
    "    ## load and plot data\n",
    "    data = np.loadtxt(f'{filepath}/{strain_type}_meanstrains_{region}_excl_PVs.txt')\n",
    "    ax.plot(nTime, data, label=label)\n",
    "\n",
    "def data_range(case, strain_type, region):\n",
    "    \"\"\"\n",
    "    Use this function to retrieve range of area meanstrains_{region} transients\n",
    "    Usage:\n",
    "        * strain_type: area, squeez\n",
    "        * region: global, ant, lat, post, roof, sept\n",
    "    \"\"\"\n",
    "    \n",
    "    if case in f20_cases:\n",
    "        filepath=f'{DataPath}/{case}/MT-HiRes-TDownsampled/SW-0.0-BE-1e-9'\n",
    "    \n",
    "    else:\n",
    "        filepath=f'{DataPath}/{case}/MT-HiRes/SW-0.0-BE-1e-9'\n",
    "        \n",
    "#     data = np.loadtxt(f'{filepath}/{strain_type}_meanstrains_{region}.txt')\n",
    "    data = np.loadtxt(f'{filepath}/{strain_type}_meanstrains_{region}_excl_PVs.txt')\n",
    "    \n",
    "    data_range = np.ptp(data)\n",
    "    \n",
    "    return data_range"
   ]
  },
  {
   "cell_type": "code",
   "execution_count": 12,
   "id": "b1d482aa",
   "metadata": {},
   "outputs": [
    {
     "name": "stdout",
     "output_type": "stream",
     "text": [
      "nonAF_ranges len:  19\n",
      "AF_ranges len:  10\n"
     ]
    }
   ],
   "source": [
    "## Global reservoir strains \n",
    "\n",
    "nonAF_ranges = np.zeros(len(nonaf_cases), 6)\n",
    "AF_ranges = np.zeros(len(af_cases), 6)\n",
    "\n",
    "nonAF_ranges = []\n",
    "AF_ranges=[]\n",
    "\n",
    "for case in nonaf_cases:\n",
    "    for region in ['global', '']\n",
    "    nonAF_ranges.append(data_range(case, 'area', 'global'))\n",
    "    \n",
    "for case in af_cases:\n",
    "    AF_ranges.append(data_range(case, 'area', 'global'))\n",
    "    \n",
    "print(\"nonAF_ranges len: \", len(nonAF_ranges))\n",
    "print(\"AF_ranges len: \", len(AF_ranges))\n",
    "\n",
    "all_ranges = nonAF_ranges + AF_ranges"
   ]
  },
  {
   "cell_type": "code",
   "execution_count": 26,
   "id": "51d40d36",
   "metadata": {},
   "outputs": [],
   "source": [
    "## Retrieve LAEF and LAvolume\n",
    "\n",
    "nonAF_LAEF = []\n",
    "nonAF_LA_vol = []\n",
    "\n",
    "AF_LAEF = []\n",
    "AF_LA_vol = []\n",
    "\n",
    "for case in nonaf_cases:\n",
    "    filepath = f'{DataPath}/{case}/multilabel_seg_analysis/LA_EF.txt'\n",
    "    laef_data = np.loadtxt(filepath)\n",
    "    \n",
    "    nonAF_LAEF.append(laef_data)\n",
    "\n",
    "for case in af_cases:\n",
    "    filepath = f'{DataPath}/{case}/multilabel_seg_analysis/LA_EF.txt'\n",
    "    laef_data = np.loadtxt(filepath)\n",
    "    \n",
    "    AF_LAEF.append(laef_data)\n",
    "    \n",
    "all_LAEF = nonAF_LAEF + AF_LAEF"
   ]
  },
  {
   "cell_type": "code",
   "execution_count": 27,
   "id": "7714908f",
   "metadata": {},
   "outputs": [
    {
     "data": {
      "text/plain": [
       "29"
      ]
     },
     "execution_count": 27,
     "metadata": {},
     "output_type": "execute_result"
    }
   ],
   "source": [
    "len(all_LAEF)"
   ]
  },
  {
   "cell_type": "code",
   "execution_count": 42,
   "id": "63fbd69a",
   "metadata": {},
   "outputs": [
    {
     "name": "stdout",
     "output_type": "stream",
     "text": [
      "r:  0.8901864106809357 p:  1.0246668373748265e-10\n"
     ]
    },
    {
     "data": {
      "image/png": "[encoded data removed]",
      "text/plain": [
       "<Figure size 432x288 with 1 Axes>"
      ]
     },
     "metadata": {
      "needs_background": "light"
     },
     "output_type": "display_data"
    }
   ],
   "source": [
    "a, b = np.polyfit(all_LAEF, all_ranges, 1)\n",
    "\n",
    "plt.scatter(all_LAEF, all_ranges)\n",
    "\n",
    "x = np.arange(0, 60)\n",
    "plt.plot(x, a*x+b, c='black', ls='dotted')\n",
    "\n",
    "plt.xlabel(\"LAEF\")\n",
    "plt.ylabel(\"Reservoir Area Strain\")\n",
    "\n",
    "plt.ylim(0, 60)\n",
    "result = stats.pearsonr(all_LAEF, all_ranges)\n",
    "print(\"r: \", result[0], \"p: \", result[1])"
   ]
  },
  {
   "cell_type": "code",
   "execution_count": 36,
   "id": "6faf8276",
   "metadata": {},
   "outputs": [
    {
     "data": {
      "text/plain": [
       "tuple"
      ]
     },
     "execution_count": 36,
     "metadata": {},
     "output_type": "execute_result"
    }
   ],
   "source": [
    "type(result)"
   ]
  }
 ],
 "metadata": {
  "kernelspec": {
   "display_name": "Python 3 (ipykernel)",
   "language": "python",
   "name": "python3"
  },
  "language_info": {
   "codemirror_mode": {
    "name": "ipython",
    "version": 3
   },
   "file_extension": ".py",
   "mimetype": "text/x-python",
   "name": "python",
   "nbconvert_exporter": "python",
   "pygments_lexer": "ipython3",
   "version": "3.9.7"
  }
 },
 "nbformat": 4,
 "nbformat_minor": 5
}
