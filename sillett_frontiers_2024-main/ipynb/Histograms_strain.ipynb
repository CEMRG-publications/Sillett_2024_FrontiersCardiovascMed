{
 "cells": [
  {
   "cell_type": "markdown",
   "id": "a3ee37d7",
   "metadata": {},
   "source": [
    "This notebook visualises strain distributions as histograms to try to spot obvious outlying cells with extreme values of positive strain that skew global & regional mean strain results."
   ]
  },
  {
   "cell_type": "code",
   "execution_count": 1,
   "id": "8a4b1cb4",
   "metadata": {},
   "outputs": [],
   "source": [
    "import numpy as np\n",
    "import pandas as pd\n",
    "import matplotlib.pyplot as plt\n",
    "from pathlib import Path"
   ]
  },
  {
   "cell_type": "code",
   "execution_count": 2,
   "id": "a084990f",
   "metadata": {},
   "outputs": [],
   "source": [
    "f20_cases = ['21', '23', '24', '25', '26', '27', '28', '29', '30', '31', '32', '34']\n",
    "f20_cases = [f'CT-CRT-{case_ind}' for case_ind in f20_cases]\n",
    "ebr=['EBR-01', 'EBR-02']\n",
    "f20_cases = f20_cases + ebr\n",
    "\n",
    "case_list = ['01', '02', '05', '06', '07', '08', '09', '10', '12', '14', '15', '16', '17', '18', '19', '20',\n",
    "             '21', '23', '24', '25', '26', '27', '28', '29', '30', '31', '32', '34']\n",
    "case_list = [f'CT-CRT-{case}' for case in case_list]\n",
    "case_list = case_list + ebr"
   ]
  },
  {
   "cell_type": "code",
   "execution_count": 5,
   "id": "c3961fe0",
   "metadata": {
    "scrolled": false
   },
   "outputs": [
    {
     "name": "stdout",
     "output_type": "stream",
     "text": [
      "CT-CRT-01 percentiles:\n",
      "        f1: [-0.357911   0.2497648]\n",
      "        f2: [-0.397964   0.3340138]\n",
      "        f3: [-3.928770e-15  3.512932e-16]\n",
      "CT-CRT-02 percentiles:\n",
      "        f1: [-0.310759    0.43149751]\n",
      "        f2: [-0.31504     0.39714002]\n",
      "        f3: [-1.1734200e-15  3.8139877e-16]\n",
      "CT-CRT-05 percentiles:\n",
      "        f1: [-0.41311     0.37089935]\n",
      "        f2: [-0.429123    0.41462671]\n",
      "        f3: [-3.7772500e-15  3.7347914e-16]\n",
      "CT-CRT-06 percentiles:\n",
      "        f1: [-0.450992    0.48878024]\n",
      "        f2: [-0.448049   0.5071063]\n",
      "        f3: [-1.8231600e-15  3.7339594e-16]\n",
      "CT-CRT-07 percentiles:\n",
      "        f1: [-0.499866   1.2203524]\n",
      "        f2: [-0.499295  1.199621]\n",
      "        f3: [-9.557970e-16  6.567697e-16]\n",
      "CT-CRT-08 percentiles:\n",
      "        f1: [-0.101447   0.0545806]\n",
      "        f2: [-0.0874185   0.05347635]\n",
      "        f3: [-6.11134e-15  3.41801e-16]\n",
      "CT-CRT-09 percentiles:\n",
      "        f1: [-0.334854    0.29626124]\n",
      "        f2: [-0.381294    0.34134216]\n",
      "        f3: [-3.2760400e-15  3.5055216e-16]\n",
      "CT-CRT-10 percentiles:\n",
      "        f1: [-0.479784    0.90882092]\n",
      "        f2: [-0.487622    0.93820064]\n",
      "        f3: [-1.863600e-15  5.096202e-16]\n",
      "CT-CRT-12 percentiles:\n",
      "        f1: [-0.448665    0.90400574]\n",
      "        f2: [-0.430314  0.554903]\n",
      "        f3: [-2.3845400e-15  3.8077846e-16]\n",
      "CT-CRT-14 percentiles:\n",
      "        f1: [-0.499573   1.3402051]\n",
      "        f2: [-0.499819   1.4827296]\n",
      "        f3: [-2.5295900e-15  6.7938096e-16]\n",
      "CT-CRT-15 percentiles:\n",
      "        f1: [-0.379426    0.51902765]\n",
      "        f2: [-0.431633    0.43982928]\n",
      "        f3: [-1.6417400e-15  3.7675287e-16]\n",
      "CT-CRT-16 percentiles:\n",
      "        f1: [-0.385953    0.28920903]\n",
      "        f2: [-0.362202    0.34607963]\n",
      "        f3: [-2.4732900e-15  3.4699685e-16]\n",
      "CT-CRT-17 percentiles:\n",
      "        f1: [-0.356047    0.54809833]\n",
      "        f2: [-0.361611    0.86349717]\n",
      "        f3: [-1.4464700e-15  4.2715247e-16]\n",
      "CT-CRT-18 percentiles:\n",
      "        f1: [-0.499847    0.89024285]\n",
      "        f2: [-0.499591  0.86099 ]\n",
      "        f3: [-1.339460e-15  4.180944e-16]\n",
      "CT-CRT-19 percentiles:\n",
      "        f1: [-0.334094    0.30517456]\n",
      "        f2: [-0.288011    0.21518068]\n",
      "        f3: [-2.6777100e-15  3.4492804e-16]\n",
      "CT-CRT-20 percentiles:\n",
      "        f1: [-0.210616    0.21022977]\n",
      "        f2: [-0.214131  0.154323]\n",
      "        f3: [-3.6306000e-15  3.4178185e-16]\n",
      "CT-CRT-21 percentiles:\n",
      "        f1: [-0.230939    0.18884612]\n",
      "        f2: [-0.231561    0.17697606]\n",
      "        f3: [-1.3097900e-15  3.3681085e-16]\n",
      "CT-CRT-23 percentiles:\n",
      "        f1: [-0.299416    0.30747489]\n",
      "        f2: [-0.359872    0.29642226]\n",
      "        f3: [-5.0513700e-15  3.5760585e-16]\n",
      "CT-CRT-24 percentiles:\n",
      "        f1: [-0.470573    0.44558026]\n",
      "        f2: [-0.469844    0.43822244]\n",
      "        f3: [-1.6538200e-15  3.6935714e-16]\n",
      "CT-CRT-25 percentiles:\n",
      "        f1: [-0.221621    0.11132944]\n",
      "        f2: [-0.210108    0.13636024]\n",
      "        f3: [-2.7306400e-15  3.4697396e-16]\n",
      "CT-CRT-26 percentiles:\n",
      "        f1: [-0.433304    0.35078336]\n",
      "        f2: [-0.434151    0.47676278]\n",
      "        f3: [-2.4847900e-15  3.7274322e-16]\n",
      "CT-CRT-27 percentiles:\n",
      "        f1: [-0.211322    0.21521204]\n",
      "        f2: [-0.202079    0.17788438]\n",
      "        f3: [-9.9983700e-16  3.3697074e-16]\n",
      "CT-CRT-28 percentiles:\n",
      "        f1: [-0.492217   0.3409704]\n",
      "        f2: [-0.491432    0.28975622]\n",
      "        f3: [-4.6325400e-15  3.5665356e-16]\n",
      "CT-CRT-29 percentiles:\n",
      "        f1: [-0.297021   0.3192308]\n",
      "        f2: [-0.30954     0.49071168]\n",
      "        f3: [-2.4871900e-15  3.6614758e-16]\n",
      "CT-CRT-30 percentiles:\n",
      "        f1: [-0.498039   0.2067338]\n",
      "        f2: [-0.32267    0.2145396]\n",
      "        f3: [-1.63274e-15  3.38336e-16]\n",
      "CT-CRT-31 percentiles:\n",
      "        f1: [-0.316286    0.21705921]\n",
      "        f2: [-0.329567    0.30807917]\n",
      "        f3: [-1.2465300e-15  3.5050227e-16]\n",
      "CT-CRT-32 percentiles:\n",
      "        f1: [-0.447269    0.72361308]\n",
      "        f2: [-0.469988    0.72957446]\n",
      "        f3: [-2.3712100e-15  4.2871228e-16]\n",
      "CT-CRT-34 percentiles:\n",
      "        f1: [-0.243012  0.131677]\n",
      "        f2: [-0.305169   0.1086451]\n",
      "        f3: [-6.6828700e-15  3.3322861e-16]\n",
      "EBR-01 percentiles:\n",
      "        f1: [-0.425994    0.34444964]\n",
      "        f2: [-0.414449    0.29678308]\n",
      "        f3: [-1.1999500e-15  3.4822984e-16]\n",
      "EBR-02 percentiles:\n",
      "        f1: [-0.326029    0.33992608]\n",
      "        f2: [-0.403244    0.37891038]\n",
      "        f3: [-1.4032700e-15  3.7014136e-16]\n"
     ]
    }
   ],
   "source": [
    "## checking percentile ranges for all cases\n",
    "\n",
    "arch='endo_avg'\n",
    "time_frame='9'\n",
    "\n",
    "lower=0\n",
    "upper=99\n",
    "\n",
    "\n",
    "for case in case_list:\n",
    "    if case in f20_cases:\n",
    "        filepath=f'~/Dropbox/phd/Data/RG_CT_Cases/{case}/MT-HiRes-TDownsampled/SW-0.0-BE-1e-9/{arch}-strains-t{time_frame}.txt'\n",
    "    else:\n",
    "        filepath=f'~/Dropbox/phd/Data/RG_CT_Cases/{case}/MT-HiRes/SW-0.0-BE-1e-9/{arch}-strains-t{time_frame}.txt'\n",
    "        \n",
    "    df = pd.read_csv(filepath, skiprows=2, names=['f1', 'f2', 'f3'], sep=' ')\n",
    "    \n",
    "    percentile=np.zeros((3,2))\n",
    "    percentile[0, :] = np.percentile(df['f1'], [lower, upper])\n",
    "    percentile[1, :] = np.percentile(df['f2'], [lower, upper])\n",
    "    percentile[2, :] = np.percentile(df['f3'], [lower, upper])\n",
    "    \n",
    "    print(f\"\"\"{case} percentiles:\n",
    "        f1: {percentile[0,:]}\n",
    "        f2: {percentile[1,:]}\n",
    "        f3: {percentile[2,:]}\"\"\")"
   ]
  },
  {
   "cell_type": "markdown",
   "id": "54d865cf",
   "metadata": {},
   "source": [
    "For both endo_avg and epi_avg, time frame 4, for all cases the 0th - 99th percentile of all fibre strain componeonts is between -0.5 and 3."
   ]
  },
  {
   "cell_type": "code",
   "execution_count": null,
   "id": "7acca219",
   "metadata": {},
   "outputs": [],
   "source": []
  },
  {
   "cell_type": "code",
   "execution_count": 3,
   "id": "f76eb2ac",
   "metadata": {},
   "outputs": [
    {
     "data": {
      "text/plain": [
       "array([ 0.        , 46.14050653, 55.97530437, 58.95931692, 51.56445266,\n",
       "       46.92507736, 38.67950651, 40.38054588, 36.12013792, 40.4833648 ])"
      ]
     },
     "execution_count": 3,
     "metadata": {},
     "output_type": "execute_result"
    }
   ],
   "source": [
    "path2strain_txt='/media/csi20local/Seagate Portable Drive/Master/Data/RG_CT_Cases/CT-CRT-26/MT-HiRes-TDownsampled/SW-0.0-BE-1e-9/endo_avg_excl_PVs_meanstrains_post_excl_PVs.txt'\n",
    "\n",
    "file = np.loadtxt(path2strain_txt)\n",
    "\n",
    "file[1]"
   ]
  },
  {
   "cell_type": "code",
   "execution_count": 4,
   "id": "a07d3180",
   "metadata": {},
   "outputs": [
    {
     "data": {
      "text/plain": [
       "<AxesSubplot:ylabel='Frequency'>"
      ]
     },
     "execution_count": 4,
     "metadata": {},
     "output_type": "execute_result"
    },
    {
     "data": {
      "image/png": "[encoded data removed]",
      "text/plain": [
       "<Figure size 432x288 with 1 Axes>"
      ]
     },
     "metadata": {
      "needs_background": "light"
     },
     "output_type": "display_data"
    }
   ],
   "source": [
    "path2strain_txt_pl = Path(path2strain_txt)\n",
    "\n",
    "df = pd.read_csv(f'{path2strain_txt_pl.parent}/endo_avg-strains-t4.txt', skiprows=2, names=['f1', 'f2', 'f3'], sep=' ')\n",
    "\n",
    "df['f1'].plot.hist(bins=10)"
   ]
  },
  {
   "cell_type": "code",
   "execution_count": 5,
   "id": "af0c6f72",
   "metadata": {},
   "outputs": [
    {
     "data": {
      "text/plain": [
       "(-1.0, 1.0)"
      ]
     },
     "execution_count": 5,
     "metadata": {},
     "output_type": "execute_result"
    },
    {
     "data": {
      "image/png": "[encoded data removed]",
      "text/plain": [
       "<Figure size 432x288 with 1 Axes>"
      ]
     },
     "metadata": {
      "needs_background": "light"
     },
     "output_type": "display_data"
    }
   ],
   "source": [
    "df.boxplot(whis=[5,95])\n",
    "plt.ylim(-1,1)"
   ]
  },
  {
   "cell_type": "code",
   "execution_count": 12,
   "id": "3cb257e5",
   "metadata": {},
   "outputs": [
    {
     "data": {
      "text/plain": [
       "array([-0.435779  ,  0.48577992])"
      ]
     },
     "execution_count": 12,
     "metadata": {},
     "output_type": "execute_result"
    }
   ],
   "source": [
    "percentile = np.percentile(df['f2'], [0, 99])\n",
    "percentile"
   ]
  },
  {
   "cell_type": "code",
   "execution_count": 75,
   "id": "bd3d28b1",
   "metadata": {},
   "outputs": [
    {
     "data": {
      "text/plain": [
       "0.1350452"
      ]
     },
     "execution_count": 75,
     "metadata": {},
     "output_type": "execute_result"
    }
   ],
   "source": [
    "quartiles = np.percentile(df['f1'], [25, 75])\n",
    "q1 = quartiles[0]\n",
    "q3 = quartiles[1]\n",
    "iqr = q3 - q1\n",
    "iqr"
   ]
  },
  {
   "cell_type": "code",
   "execution_count": 77,
   "id": "bbbdae14",
   "metadata": {},
   "outputs": [
    {
     "data": {
      "text/plain": [
       "(-1.0, 2.0)"
      ]
     },
     "execution_count": 77,
     "metadata": {},
     "output_type": "execute_result"
    },
    {
     "data": {
      "image/png": "[encoded data removed]",
      "text/plain": [
       "<Figure size 432x288 with 1 Axes>"
      ]
     },
     "metadata": {
      "needs_background": "light"
     },
     "output_type": "display_data"
    }
   ],
   "source": [
    "plt.boxplot(df['f1'])\n",
    "plt.scatter(1.3,percentile[0],s=500)\n",
    "plt.scatter(1.3,percentile[1],s=500)\n",
    "plt.ylim(-1,2)"
   ]
  },
  {
   "cell_type": "code",
   "execution_count": 38,
   "id": "e8e623de",
   "metadata": {},
   "outputs": [
    {
     "data": {
      "text/plain": [
       "<AxesSubplot:ylabel='Frequency'>"
      ]
     },
     "execution_count": 38,
     "metadata": {},
     "output_type": "execute_result"
    },
    {
     "data": {
      "image/png": "[encoded data removed]",
      "text/plain": [
       "<Figure size 432x288 with 1 Axes>"
      ]
     },
     "metadata": {
      "needs_background": "light"
     },
     "output_type": "display_data"
    }
   ],
   "source": [
    "df['f3'].plot.hist(bins=10)"
   ]
  },
  {
   "cell_type": "code",
   "execution_count": 41,
   "id": "cd2958b4",
   "metadata": {},
   "outputs": [
    {
     "data": {
      "text/plain": [
       "f1    5.535050e+02\n",
       "f2    2.467170e+04\n",
       "f3    1.777000e-12\n",
       "dtype: float64"
      ]
     },
     "execution_count": 41,
     "metadata": {},
     "output_type": "execute_result"
    }
   ],
   "source": [
    "df.max()"
   ]
  },
  {
   "cell_type": "code",
   "execution_count": 87,
   "id": "74704364",
   "metadata": {},
   "outputs": [
    {
     "data": {
      "text/plain": [
       "f1   -3.900990e-01\n",
       "f2   -4.357790e-01\n",
       "f3   -1.531910e-15\n",
       "dtype: float64"
      ]
     },
     "execution_count": 87,
     "metadata": {},
     "output_type": "execute_result"
    }
   ],
   "source": [
    "df.min()"
   ]
  },
  {
   "cell_type": "code",
   "execution_count": 44,
   "id": "4921682b",
   "metadata": {},
   "outputs": [
    {
     "data": {
      "text/plain": [
       "f1    4.775639e-02\n",
       "f2    1.277084e-01\n",
       "f3    1.775332e-17\n",
       "dtype: float64"
      ]
     },
     "execution_count": 44,
     "metadata": {},
     "output_type": "execute_result"
    }
   ],
   "source": [
    "df.mean()"
   ]
  },
  {
   "cell_type": "code",
   "execution_count": 43,
   "id": "8b9beb25",
   "metadata": {},
   "outputs": [
    {
     "data": {
      "text/plain": [
       "f1    2.837940e-02\n",
       "f2    3.283200e-02\n",
       "f3    9.404580e-18\n",
       "dtype: float64"
      ]
     },
     "execution_count": 43,
     "metadata": {},
     "output_type": "execute_result"
    }
   ],
   "source": [
    "df.median()"
   ]
  },
  {
   "cell_type": "code",
   "execution_count": 90,
   "id": "d77404c5",
   "metadata": {},
   "outputs": [
    {
     "data": {
      "text/plain": [
       "array([-0.435779,  0.244885])"
      ]
     },
     "execution_count": 90,
     "metadata": {},
     "output_type": "execute_result"
    }
   ],
   "source": [
    "np.percentile(df.to_numpy(), [0,95])"
   ]
  },
  {
   "cell_type": "code",
   "execution_count": 92,
   "id": "99f3abe5",
   "metadata": {},
   "outputs": [
    {
     "data": {
      "text/plain": [
       "array([-0.390099 ,  0.2706505])"
      ]
     },
     "execution_count": 92,
     "metadata": {},
     "output_type": "execute_result"
    }
   ],
   "source": [
    "np.percentile(df['f1'].to_numpy(), [0,95])"
   ]
  },
  {
   "cell_type": "code",
   "execution_count": 93,
   "id": "d959d708",
   "metadata": {},
   "outputs": [
    {
     "data": {
      "text/plain": [
       "array([-0.390099 ,  0.2706505])"
      ]
     },
     "execution_count": 93,
     "metadata": {},
     "output_type": "execute_result"
    }
   ],
   "source": [
    "np.percentile(df['f1'], [0,95])"
   ]
  },
  {
   "cell_type": "code",
   "execution_count": 86,
   "id": "4c137e4e",
   "metadata": {},
   "outputs": [
    {
     "data": {
      "text/html": [
       "<div>\n",
       "<style scoped>\n",
       "    .dataframe tbody tr th:only-of-type {\n",
       "        vertical-align: middle;\n",
       "    }\n",
       "\n",
       "    .dataframe tbody tr th {\n",
       "        vertical-align: top;\n",
       "    }\n",
       "\n",
       "    .dataframe thead th {\n",
       "        text-align: right;\n",
       "    }\n",
       "</style>\n",
       "<table border=\"1\" class=\"dataframe\">\n",
       "  <thead>\n",
       "    <tr style=\"text-align: right;\">\n",
       "      <th></th>\n",
       "      <th>f1</th>\n",
       "      <th>f2</th>\n",
       "      <th>f3</th>\n",
       "    </tr>\n",
       "  </thead>\n",
       "  <tbody>\n",
       "    <tr>\n",
       "      <th>0</th>\n",
       "      <td>0.009533</td>\n",
       "      <td>-0.286684</td>\n",
       "      <td>7.182390e-17</td>\n",
       "    </tr>\n",
       "    <tr>\n",
       "      <th>1</th>\n",
       "      <td>0.034689</td>\n",
       "      <td>-0.299358</td>\n",
       "      <td>-2.712550e-16</td>\n",
       "    </tr>\n",
       "    <tr>\n",
       "      <th>2</th>\n",
       "      <td>0.010430</td>\n",
       "      <td>-0.280518</td>\n",
       "      <td>-1.686670e-16</td>\n",
       "    </tr>\n",
       "    <tr>\n",
       "      <th>3</th>\n",
       "      <td>-0.140422</td>\n",
       "      <td>-0.126699</td>\n",
       "      <td>8.270150e-17</td>\n",
       "    </tr>\n",
       "    <tr>\n",
       "      <th>4</th>\n",
       "      <td>-0.113569</td>\n",
       "      <td>-0.134268</td>\n",
       "      <td>3.014850e-17</td>\n",
       "    </tr>\n",
       "    <tr>\n",
       "      <th>...</th>\n",
       "      <td>...</td>\n",
       "      <td>...</td>\n",
       "      <td>...</td>\n",
       "    </tr>\n",
       "    <tr>\n",
       "      <th>321030</th>\n",
       "      <td>0.028658</td>\n",
       "      <td>0.058677</td>\n",
       "      <td>-3.775820e-17</td>\n",
       "    </tr>\n",
       "    <tr>\n",
       "      <th>321031</th>\n",
       "      <td>-0.034155</td>\n",
       "      <td>0.109449</td>\n",
       "      <td>-1.694770e-16</td>\n",
       "    </tr>\n",
       "    <tr>\n",
       "      <th>321032</th>\n",
       "      <td>-0.014577</td>\n",
       "      <td>0.108659</td>\n",
       "      <td>1.881690e-16</td>\n",
       "    </tr>\n",
       "    <tr>\n",
       "      <th>321033</th>\n",
       "      <td>-0.036727</td>\n",
       "      <td>0.096210</td>\n",
       "      <td>1.387810e-16</td>\n",
       "    </tr>\n",
       "    <tr>\n",
       "      <th>321034</th>\n",
       "      <td>-0.022556</td>\n",
       "      <td>0.100192</td>\n",
       "      <td>4.667910e-17</td>\n",
       "    </tr>\n",
       "  </tbody>\n",
       "</table>\n",
       "<p>314614 rows × 3 columns</p>\n",
       "</div>"
      ],
      "text/plain": [
       "              f1        f2            f3\n",
       "0       0.009533 -0.286684  7.182390e-17\n",
       "1       0.034689 -0.299358 -2.712550e-16\n",
       "2       0.010430 -0.280518 -1.686670e-16\n",
       "3      -0.140422 -0.126699  8.270150e-17\n",
       "4      -0.113569 -0.134268  3.014850e-17\n",
       "...          ...       ...           ...\n",
       "321030  0.028658  0.058677 -3.775820e-17\n",
       "321031 -0.034155  0.109449 -1.694770e-16\n",
       "321032 -0.014577  0.108659  1.881690e-16\n",
       "321033 -0.036727  0.096210  1.387810e-16\n",
       "321034 -0.022556  0.100192  4.667910e-17\n",
       "\n",
       "[314614 rows x 3 columns]"
      ]
     },
     "execution_count": 86,
     "metadata": {},
     "output_type": "execute_result"
    }
   ],
   "source": [
    "df[df['f1'] < percentile[1]]"
   ]
  },
  {
   "cell_type": "code",
   "execution_count": null,
   "id": "ebb70553",
   "metadata": {},
   "outputs": [],
   "source": []
  }
 ],
 "metadata": {
  "kernelspec": {
   "display_name": "Python 3 (ipykernel)",
   "language": "python",
   "name": "python3"
  },
  "language_info": {
   "codemirror_mode": {
    "name": "ipython",
    "version": 3
   },
   "file_extension": ".py",
   "mimetype": "text/x-python",
   "name": "python",
   "nbconvert_exporter": "python",
   "pygments_lexer": "ipython3",
   "version": "3.9.7"
  }
 },
 "nbformat": 4,
 "nbformat_minor": 5
}
