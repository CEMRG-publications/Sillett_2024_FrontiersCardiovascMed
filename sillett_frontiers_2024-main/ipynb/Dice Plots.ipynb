{
 "cells": [
  {
   "cell_type": "markdown",
   "metadata": {},
   "source": [
    "Creating plots for motion trakcing optimisation"
   ]
  },
  {
   "cell_type": "code",
   "execution_count": 1,
   "metadata": {},
   "outputs": [],
   "source": [
    "import pandas as pd\n",
    "import numpy as np\n",
    "import matplotlib.pyplot as plt"
   ]
  },
  {
   "cell_type": "code",
   "execution_count": 2,
   "metadata": {},
   "outputs": [],
   "source": [
    "Case = '16'\n",
    "Res = 'MT-HiRes' # 'MT-HiRes'"
   ]
  },
  {
   "cell_type": "code",
   "execution_count": 4,
   "metadata": {},
   "outputs": [],
   "source": [
    "test_reread = pd.read_csv('/home/csi20local/Data/MarinaData/CT_Charlie/CT-CRT-' + Case + '/' + Res + '-Dice-Results.csv', \n",
    "           sep = ' ', index_col = 0)"
   ]
  },
  {
   "cell_type": "code",
   "execution_count": 5,
   "metadata": {},
   "outputs": [
    {
     "data": {
      "text/html": [
       "<div>\n",
       "<style scoped>\n",
       "    .dataframe tbody tr th:only-of-type {\n",
       "        vertical-align: middle;\n",
       "    }\n",
       "\n",
       "    .dataframe tbody tr th {\n",
       "        vertical-align: top;\n",
       "    }\n",
       "\n",
       "    .dataframe thead th {\n",
       "        text-align: right;\n",
       "    }\n",
       "</style>\n",
       "<table border=\"1\" class=\"dataframe\">\n",
       "  <thead>\n",
       "    <tr style=\"text-align: right;\">\n",
       "      <th></th>\n",
       "      <th>9e-2</th>\n",
       "      <th>9e-3</th>\n",
       "      <th>9e-4</th>\n",
       "      <th>0.0</th>\n",
       "    </tr>\n",
       "  </thead>\n",
       "  <tbody>\n",
       "    <tr>\n",
       "      <th>4.000000e-06</th>\n",
       "      <td>0.960700</td>\n",
       "      <td>0.960145</td>\n",
       "      <td>0.959724</td>\n",
       "      <td>0.958550</td>\n",
       "    </tr>\n",
       "    <tr>\n",
       "      <th>4.000000e-07</th>\n",
       "      <td>0.960706</td>\n",
       "      <td>0.960437</td>\n",
       "      <td>0.960208</td>\n",
       "      <td>0.957965</td>\n",
       "    </tr>\n",
       "    <tr>\n",
       "      <th>4.000000e-08</th>\n",
       "      <td>0.960642</td>\n",
       "      <td>0.957749</td>\n",
       "      <td>0.958167</td>\n",
       "      <td>0.960367</td>\n",
       "    </tr>\n",
       "    <tr>\n",
       "      <th>4.000000e-09</th>\n",
       "      <td>0.959641</td>\n",
       "      <td>0.960388</td>\n",
       "      <td>0.957181</td>\n",
       "      <td>0.958518</td>\n",
       "    </tr>\n",
       "    <tr>\n",
       "      <th>4.000000e-10</th>\n",
       "      <td>0.960942</td>\n",
       "      <td>0.960196</td>\n",
       "      <td>0.960406</td>\n",
       "      <td>0.956830</td>\n",
       "    </tr>\n",
       "  </tbody>\n",
       "</table>\n",
       "</div>"
      ],
      "text/plain": [
       "                  9e-2      9e-3      9e-4       0.0\n",
       "4.000000e-06  0.960700  0.960145  0.959724  0.958550\n",
       "4.000000e-07  0.960706  0.960437  0.960208  0.957965\n",
       "4.000000e-08  0.960642  0.957749  0.958167  0.960367\n",
       "4.000000e-09  0.959641  0.960388  0.957181  0.958518\n",
       "4.000000e-10  0.960942  0.960196  0.960406  0.956830"
      ]
     },
     "execution_count": 5,
     "metadata": {},
     "output_type": "execute_result"
    }
   ],
   "source": [
    "test_reread"
   ]
  },
  {
   "cell_type": "code",
   "execution_count": 9,
   "metadata": {},
   "outputs": [],
   "source": [
    "def ReadDataFrame(Case, Res):\n",
    "    \n",
    "    df = pd.read_csv('/home/csi20local/Data/MarinaData/CT_Charlie/CT-CRT-' + Case + '/' + Res + '-Dice-Results.csv', \n",
    "                     sep = ' ', index_col = 0)\n",
    "    \n",
    "    return df"
   ]
  },
  {
   "cell_type": "code",
   "execution_count": null,
   "metadata": {},
   "outputs": [],
   "source": [
    "for Case in ['02', '05', '06', '07', '08',\n",
    "            '09', '12', '15', '16']:\n",
    "    \n",
    "    ReadDataFrame(Case)"
   ]
  },
  {
   "cell_type": "code",
   "execution_count": 17,
   "metadata": {},
   "outputs": [
    {
     "data": {
      "text/html": [
       "<div>\n",
       "<style scoped>\n",
       "    .dataframe tbody tr th:only-of-type {\n",
       "        vertical-align: middle;\n",
       "    }\n",
       "\n",
       "    .dataframe tbody tr th {\n",
       "        vertical-align: top;\n",
       "    }\n",
       "\n",
       "    .dataframe thead th {\n",
       "        text-align: right;\n",
       "    }\n",
       "</style>\n",
       "<table border=\"1\" class=\"dataframe\">\n",
       "  <thead>\n",
       "    <tr style=\"text-align: right;\">\n",
       "      <th></th>\n",
       "      <th>9e-2</th>\n",
       "      <th>3e-2</th>\n",
       "      <th>9e-3</th>\n",
       "      <th>3e-3</th>\n",
       "      <th>9e-4</th>\n",
       "      <th>3e-4</th>\n",
       "      <th>0.0</th>\n",
       "    </tr>\n",
       "  </thead>\n",
       "  <tbody>\n",
       "    <tr>\n",
       "      <th>4.000000e-06</th>\n",
       "      <td>0.865915</td>\n",
       "      <td>0.838152</td>\n",
       "      <td>0.846986</td>\n",
       "      <td>0.867614</td>\n",
       "      <td>0.866999</td>\n",
       "      <td>0.862863</td>\n",
       "      <td>0.864699</td>\n",
       "    </tr>\n",
       "    <tr>\n",
       "      <th>1.000000e-06</th>\n",
       "      <td>0.838415</td>\n",
       "      <td>0.839649</td>\n",
       "      <td>0.835673</td>\n",
       "      <td>0.875159</td>\n",
       "      <td>0.861876</td>\n",
       "      <td>0.872679</td>\n",
       "      <td>0.869927</td>\n",
       "    </tr>\n",
       "    <tr>\n",
       "      <th>4.000000e-07</th>\n",
       "      <td>0.849094</td>\n",
       "      <td>0.859120</td>\n",
       "      <td>0.849826</td>\n",
       "      <td>0.835399</td>\n",
       "      <td>0.844557</td>\n",
       "      <td>0.838179</td>\n",
       "      <td>0.873852</td>\n",
       "    </tr>\n",
       "    <tr>\n",
       "      <th>1.000000e-07</th>\n",
       "      <td>0.838528</td>\n",
       "      <td>0.847476</td>\n",
       "      <td>0.861647</td>\n",
       "      <td>0.866315</td>\n",
       "      <td>0.873181</td>\n",
       "      <td>0.871031</td>\n",
       "      <td>0.858745</td>\n",
       "    </tr>\n",
       "    <tr>\n",
       "      <th>4.000000e-08</th>\n",
       "      <td>0.876503</td>\n",
       "      <td>0.867658</td>\n",
       "      <td>0.837893</td>\n",
       "      <td>0.874876</td>\n",
       "      <td>0.842160</td>\n",
       "      <td>0.840943</td>\n",
       "      <td>0.853840</td>\n",
       "    </tr>\n",
       "    <tr>\n",
       "      <th>1.000000e-08</th>\n",
       "      <td>0.859315</td>\n",
       "      <td>0.865005</td>\n",
       "      <td>0.841558</td>\n",
       "      <td>0.862742</td>\n",
       "      <td>0.869040</td>\n",
       "      <td>0.859746</td>\n",
       "      <td>0.865814</td>\n",
       "    </tr>\n",
       "    <tr>\n",
       "      <th>4.000000e-09</th>\n",
       "      <td>0.869022</td>\n",
       "      <td>0.853140</td>\n",
       "      <td>0.841543</td>\n",
       "      <td>0.843744</td>\n",
       "      <td>0.869184</td>\n",
       "      <td>0.860079</td>\n",
       "      <td>0.855357</td>\n",
       "    </tr>\n",
       "    <tr>\n",
       "      <th>1.000000e-09</th>\n",
       "      <td>0.836936</td>\n",
       "      <td>0.855497</td>\n",
       "      <td>0.865020</td>\n",
       "      <td>0.865494</td>\n",
       "      <td>0.871263</td>\n",
       "      <td>0.863981</td>\n",
       "      <td>0.845972</td>\n",
       "    </tr>\n",
       "    <tr>\n",
       "      <th>4.000000e-10</th>\n",
       "      <td>0.836211</td>\n",
       "      <td>0.864159</td>\n",
       "      <td>0.872309</td>\n",
       "      <td>0.852606</td>\n",
       "      <td>0.857287</td>\n",
       "      <td>0.862042</td>\n",
       "      <td>0.855210</td>\n",
       "    </tr>\n",
       "  </tbody>\n",
       "</table>\n",
       "</div>"
      ],
      "text/plain": [
       "                  9e-2      3e-2      9e-3      3e-3      9e-4      3e-4  \\\n",
       "4.000000e-06  0.865915  0.838152  0.846986  0.867614  0.866999  0.862863   \n",
       "1.000000e-06  0.838415  0.839649  0.835673  0.875159  0.861876  0.872679   \n",
       "4.000000e-07  0.849094  0.859120  0.849826  0.835399  0.844557  0.838179   \n",
       "1.000000e-07  0.838528  0.847476  0.861647  0.866315  0.873181  0.871031   \n",
       "4.000000e-08  0.876503  0.867658  0.837893  0.874876  0.842160  0.840943   \n",
       "1.000000e-08  0.859315  0.865005  0.841558  0.862742  0.869040  0.859746   \n",
       "4.000000e-09  0.869022  0.853140  0.841543  0.843744  0.869184  0.860079   \n",
       "1.000000e-09  0.836936  0.855497  0.865020  0.865494  0.871263  0.863981   \n",
       "4.000000e-10  0.836211  0.864159  0.872309  0.852606  0.857287  0.862042   \n",
       "\n",
       "                   0.0  \n",
       "4.000000e-06  0.864699  \n",
       "1.000000e-06  0.869927  \n",
       "4.000000e-07  0.873852  \n",
       "1.000000e-07  0.858745  \n",
       "4.000000e-08  0.853840  \n",
       "1.000000e-08  0.865814  \n",
       "4.000000e-09  0.855357  \n",
       "1.000000e-09  0.845972  \n",
       "4.000000e-10  0.855210  "
      ]
     },
     "execution_count": 17,
     "metadata": {},
     "output_type": "execute_result"
    }
   ],
   "source": [
    "ReadDataFrame('07', 'MT')"
   ]
  },
  {
   "cell_type": "code",
   "execution_count": 39,
   "metadata": {},
   "outputs": [
    {
     "name": "stderr",
     "output_type": "stream",
     "text": [
      "/snap/jupyter/6/lib/python3.7/site-packages/ipykernel_launcher.py:37: UserWarning: Matplotlib is currently using module://ipykernel.pylab.backend_inline, which is a non-GUI backend, so cannot show the figure.\n"
     ]
    },
    {
     "data": {
      "image/png": "[encoded data removed]",
      "text/plain": [
       "<Figure size 2700x900 with 2 Axes>"
      ]
     },
     "metadata": {
      "needs_background": "light"
     },
     "output_type": "display_data"
    }
   ],
   "source": [
    "fig, (ax, ax2) = plt.subplots(1, 2, figsize=(18,6), dpi=150)\n",
    "\n",
    "data = []\n",
    "data2 = []\n",
    "\n",
    "for Case in ['01', '02', '05', '06', '07', '08', '09', '12', '15', '16']:\n",
    "    \n",
    "    df = ReadDataFrame(Case, 'MT')\n",
    "    array = df.to_numpy()\n",
    "    array = array.flatten()\n",
    "    \n",
    "    data.append(array)\n",
    "\n",
    "ax.boxplot(data, whis=(0,100))\n",
    "ax.set_xlabel('Case', fontsize=20)\n",
    "ax.tick_params(labelsize=15)\n",
    "ax.set_ylim(0.82, 0.98)\n",
    "ax.set_title('MT', fontsize=20)\n",
    "\n",
    "for Case in ['02', '05', '06', '07', '08', '09', '12', '15', '16']:\n",
    "    \n",
    "    df = ReadDataFrame(Case, 'MT-HiRes')\n",
    "    array = df.to_numpy()\n",
    "    array = array.flatten()\n",
    "    \n",
    "    data2.append(array)\n",
    "\n",
    "ax2.boxplot(data2, whis=(0,100))\n",
    "\n",
    "ax2.set_xticks(ticks=[1,2,3,4,5,6,7,8,9])\n",
    "ax2.set_xticklabels([2,3,4,5,6,7,8,9,10])\n",
    "ax2.set_xlabel('Case', fontsize=20)\n",
    "ax2.tick_params(labelsize=15)\n",
    "ax2.set_ylim(0.82, 0.98)\n",
    "ax2.set_title('MT-HiRes', fontsize=20)\n",
    "\n",
    "fig.show()"
   ]
  },
  {
   "cell_type": "code",
   "execution_count": 34,
   "metadata": {
    "scrolled": true
   },
   "outputs": [
    {
     "data": {
      "text/plain": [
       "0.937099466022827"
      ]
     },
     "execution_count": 34,
     "metadata": {},
     "output_type": "execute_result"
    }
   ],
   "source": [
    "ReadDataFrame('12', 'MT').to_numpy().max()"
   ]
  },
  {
   "cell_type": "code",
   "execution_count": 35,
   "metadata": {},
   "outputs": [
    {
     "data": {
      "text/plain": [
       "0.9510677024175852"
      ]
     },
     "execution_count": 35,
     "metadata": {},
     "output_type": "execute_result"
    }
   ],
   "source": [
    "ReadDataFrame('12', 'MT-HiRes').to_numpy().max()"
   ]
  },
  {
   "cell_type": "code",
   "execution_count": null,
   "metadata": {},
   "outputs": [],
   "source": []
  }
 ],
 "metadata": {
  "kernelspec": {
   "display_name": "Python 3 (ipykernel)",
   "language": "python",
   "name": "python3"
  },
  "language_info": {
   "codemirror_mode": {
    "name": "ipython",
    "version": 3
   },
   "file_extension": ".py",
   "mimetype": "text/x-python",
   "name": "python",
   "nbconvert_exporter": "python",
   "pygments_lexer": "ipython3",
   "version": "3.9.7"
  }
 },
 "nbformat": 4,
 "nbformat_minor": 4
}
