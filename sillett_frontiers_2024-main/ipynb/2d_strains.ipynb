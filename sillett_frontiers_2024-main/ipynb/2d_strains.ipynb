{
 "cells": [
  {
   "cell_type": "markdown",
   "id": "c69ef2aa",
   "metadata": {},
   "source": [
    "This notebook is for preliminary anlaysis of the 2d strains"
   ]
  },
  {
   "cell_type": "code",
   "execution_count": 1,
   "id": "e7c7ec79",
   "metadata": {},
   "outputs": [
    {
     "data": {
      "text/plain": [
       "array(16.8717)"
      ]
     },
     "execution_count": 1,
     "metadata": {},
     "output_type": "execute_result"
    }
   ],
   "source": [
    "import pandas as pd\n",
    "import seaborn as sns\n",
    "import matplotlib.pyplot as plt\n",
    "import numpy as np\n",
    "from scipy import stats\n",
    "from matplotlib.patches import Patch\n",
    "from matplotlib.lines import Line2D\n",
    "\n",
    "from hrs_23_figures import *\n",
    "\n",
    "from sklearn import metrics\n",
    "\n",
    "data=np.loadtxt(\"/home/csi20/Dropbox/phd/Data/RG_CT_Cases/CT-CRT/case01/MT-2D/4CH/4chamber_reservoir_strain.txt\")\n",
    "data"
   ]
  },
  {
   "cell_type": "code",
   "execution_count": 2,
   "id": "5e004069",
   "metadata": {},
   "outputs": [],
   "source": [
    "## Loading 2d strains\n",
    "\n",
    "nonAF_strains_4ch = np.zeros((len(nonaf_cases),))\n",
    "AF_strains_4ch = np.zeros((len(af_cases),))\n",
    "\n",
    "nonAF_strains_2ch = np.zeros((len(nonaf_cases),))\n",
    "AF_strains_2ch = np.zeros((len(af_cases),))\n",
    "\n",
    "nonAF_mean = np.zeros((len(nonaf_cases),))\n",
    "AF_mean = np.zeros((len(af_cases),))\n",
    "\n",
    "for j, case in enumerate(nonaf_cases):\n",
    "\n",
    "    filepath=f'{DataPath}/{case}/MT-2D/4CH/4chamber_reservoir_strain.txt'\n",
    "    data=np.loadtxt(filepath)\n",
    "\n",
    "    nonAF_strains_4ch[j] = data\n",
    "    \n",
    "    filepath=f'{DataPath}/{case}/MT-2D/2CH/4chamber_reservoir_strain-clip.txt'\n",
    "    data=np.loadtxt(filepath)\n",
    "\n",
    "    nonAF_strains_2ch[j] = data\n",
    "    \n",
    "    mean = np.mean([nonAF_strains_4ch[j], nonAF_strains_2ch[j]])\n",
    "    nonAF_mean[j] = mean\n",
    "    \n",
    "for j, case in enumerate(af_cases):\n",
    "\n",
    "    filepath=f'{DataPath}/{case}/MT-2D/4CH/4chamber_reservoir_strain.txt'\n",
    "    data=np.loadtxt(filepath)\n",
    "\n",
    "    AF_strains_4ch[j] = data\n",
    "    \n",
    "    filepath=f'{DataPath}/{case}/MT-2D/2CH/4chamber_reservoir_strain-clip.txt'\n",
    "    data=np.loadtxt(filepath)\n",
    "\n",
    "    AF_strains_2ch[j] = data\n",
    "    \n",
    "    mean = np.mean([AF_strains_4ch[j], AF_strains_2ch[j]])\n",
    "    AF_mean[j] = mean"
   ]
  },
  {
   "cell_type": "code",
   "execution_count": 8,
   "id": "ff0a373f",
   "metadata": {},
   "outputs": [
    {
     "data": {
      "text/plain": [
       "['CT-CRT/case02',\n",
       " 'CT-CRT/case05',\n",
       " 'CT-CRT/case06',\n",
       " 'CT-CRT/case07',\n",
       " 'CT-CRT/case08',\n",
       " 'CT-CRT/case09',\n",
       " 'CT-CRT/case10',\n",
       " 'CT-CRT/case12',\n",
       " 'CT-CRT/case14',\n",
       " 'CT-CRT/case15',\n",
       " 'CT-CRT/case16',\n",
       " 'CT-CRT/case17',\n",
       " 'CT-CRT/case24',\n",
       " 'CT-CRT/case28',\n",
       " 'CT-CRT/case29',\n",
       " 'CT-CRT/case30',\n",
       " 'CT-CRT/case32',\n",
       " 'CT-CRT/case34',\n",
       " 'EBR/case04',\n",
       " 'EBR/case05',\n",
       " 'EBR/case06']"
      ]
     },
     "execution_count": 8,
     "metadata": {},
     "output_type": "execute_result"
    }
   ],
   "source": [
    "nonaf_cases"
   ]
  },
  {
   "cell_type": "code",
   "execution_count": 9,
   "id": "b2b54df6",
   "metadata": {},
   "outputs": [
    {
     "data": {
      "text/plain": [
       "['CT-CRT/case01',\n",
       " 'CT-CRT/case19',\n",
       " 'CT-CRT/case20',\n",
       " 'CT-CRT/case23',\n",
       " 'CT-CRT/case26',\n",
       " 'CT-CRT/case27',\n",
       " 'CT-CRT/case31',\n",
       " 'EBR/case01',\n",
       " 'EBR/case02']"
      ]
     },
     "execution_count": 9,
     "metadata": {},
     "output_type": "execute_result"
    }
   ],
   "source": [
    "af_cases"
   ]
  },
  {
   "cell_type": "code",
   "execution_count": 6,
   "id": "d407d23a",
   "metadata": {
    "scrolled": true
   },
   "outputs": [
    {
     "data": {
      "text/plain": [
       "21"
      ]
     },
     "execution_count": 6,
     "metadata": {},
     "output_type": "execute_result"
    }
   ],
   "source": [
    "len(nonaf_cases)"
   ]
  },
  {
   "cell_type": "code",
   "execution_count": 7,
   "id": "b3298c8c",
   "metadata": {},
   "outputs": [
    {
     "data": {
      "text/plain": [
       "9"
      ]
     },
     "execution_count": 7,
     "metadata": {},
     "output_type": "execute_result"
    }
   ],
   "source": [
    "len(af_cases)"
   ]
  },
  {
   "cell_type": "code",
   "execution_count": null,
   "id": "5d068216",
   "metadata": {},
   "outputs": [],
   "source": []
  },
  {
   "cell_type": "code",
   "execution_count": 3,
   "id": "ab91f721",
   "metadata": {
    "scrolled": false
   },
   "outputs": [
    {
     "data": {
      "text/plain": [
       "18.150181904761904"
      ]
     },
     "execution_count": 3,
     "metadata": {},
     "output_type": "execute_result"
    }
   ],
   "source": [
    "np.nanmean(nonAF_strains_4ch)"
   ]
  },
  {
   "cell_type": "code",
   "execution_count": 4,
   "id": "b76ea89f",
   "metadata": {},
   "outputs": [
    {
     "data": {
      "text/plain": [
       "9.392975555555557"
      ]
     },
     "execution_count": 4,
     "metadata": {},
     "output_type": "execute_result"
    }
   ],
   "source": [
    "np.nanmean(AF_strains_4ch)"
   ]
  },
  {
   "cell_type": "code",
   "execution_count": 5,
   "id": "ddca5780",
   "metadata": {
    "scrolled": false
   },
   "outputs": [
    {
     "data": {
      "text/plain": [
       "19.646831428571424"
      ]
     },
     "execution_count": 5,
     "metadata": {},
     "output_type": "execute_result"
    }
   ],
   "source": [
    "np.nanmean(nonAF_strains_2ch)"
   ]
  },
  {
   "cell_type": "code",
   "execution_count": 6,
   "id": "1f720938",
   "metadata": {},
   "outputs": [
    {
     "data": {
      "text/plain": [
       "6.9370988888888885"
      ]
     },
     "execution_count": 6,
     "metadata": {},
     "output_type": "execute_result"
    }
   ],
   "source": [
    "np.nanmean(AF_strains_2ch)"
   ]
  },
  {
   "cell_type": "code",
   "execution_count": 7,
   "id": "8081991b",
   "metadata": {},
   "outputs": [
    {
     "data": {
      "text/plain": [
       "18.89850666666667"
      ]
     },
     "execution_count": 7,
     "metadata": {},
     "output_type": "execute_result"
    }
   ],
   "source": [
    "np.nanmean(nonAF_mean)"
   ]
  },
  {
   "cell_type": "code",
   "execution_count": 8,
   "id": "b3ffba35",
   "metadata": {},
   "outputs": [
    {
     "data": {
      "text/plain": [
       "8.165037222222223"
      ]
     },
     "execution_count": 8,
     "metadata": {},
     "output_type": "execute_result"
    }
   ],
   "source": [
    "np.nanmean(AF_mean)"
   ]
  },
  {
   "cell_type": "code",
   "execution_count": null,
   "id": "d6685a39",
   "metadata": {},
   "outputs": [],
   "source": []
  },
  {
   "cell_type": "code",
   "execution_count": 11,
   "id": "68b0a239",
   "metadata": {},
   "outputs": [
    {
     "data": {
      "text/plain": [
       "array([False, False, False, False, False, False, False, False, False])"
      ]
     },
     "execution_count": 11,
     "metadata": {},
     "output_type": "execute_result"
    }
   ],
   "source": [
    "mask1=np.isnan(nonAF_mean)\n",
    "mask1\n",
    "\n",
    "mask2=np.isnan(AF_mean)\n",
    "mask2"
   ]
  },
  {
   "cell_type": "code",
   "execution_count": 12,
   "id": "e468c7af",
   "metadata": {},
   "outputs": [],
   "source": [
    "mask_total=np.concatenate((mask1, mask2))"
   ]
  },
  {
   "cell_type": "code",
   "execution_count": 13,
   "id": "57edacbd",
   "metadata": {},
   "outputs": [],
   "source": [
    "strains_4ch=np.concatenate((nonAF_strains_4ch, AF_strains_4ch))"
   ]
  },
  {
   "cell_type": "code",
   "execution_count": 14,
   "id": "98f7765b",
   "metadata": {},
   "outputs": [],
   "source": [
    "strains_2ch=np.concatenate((nonAF_strains_2ch, AF_strains_2ch))"
   ]
  },
  {
   "cell_type": "code",
   "execution_count": 15,
   "id": "3c5c475d",
   "metadata": {},
   "outputs": [],
   "source": [
    "strains_mean=np.concatenate((nonAF_mean, AF_mean))"
   ]
  },
  {
   "cell_type": "code",
   "execution_count": 16,
   "id": "b2aa041a",
   "metadata": {},
   "outputs": [
    {
     "data": {
      "text/plain": [
       "(30,)"
      ]
     },
     "execution_count": 16,
     "metadata": {},
     "output_type": "execute_result"
    }
   ],
   "source": [
    "strains_mean[~mask_total].shape"
   ]
  },
  {
   "cell_type": "code",
   "execution_count": 17,
   "id": "56459edb",
   "metadata": {},
   "outputs": [],
   "source": [
    "total_cases = len(af_cases)+len(nonaf_cases)\n",
    "\n",
    "y_true = np.zeros((total_cases))\n",
    "y_true[:len(nonaf_cases)] = 1.0\n",
    "y_true[len(nonaf_cases):] = 0.0"
   ]
  },
  {
   "cell_type": "code",
   "execution_count": 18,
   "id": "bff9b569",
   "metadata": {},
   "outputs": [
    {
     "data": {
      "text/plain": [
       "(9,)"
      ]
     },
     "execution_count": 18,
     "metadata": {},
     "output_type": "execute_result"
    }
   ],
   "source": [
    "AF_mean.shape"
   ]
  },
  {
   "cell_type": "code",
   "execution_count": 19,
   "id": "ba04a1ee",
   "metadata": {},
   "outputs": [],
   "source": [
    "y_probs = np.zeros((total_cases,))\n",
    "y_probs[:len(nonaf_cases)] = nonAF_mean[:]\n",
    "y_probs[len(nonaf_cases):] = AF_mean[:] "
   ]
  },
  {
   "cell_type": "code",
   "execution_count": 20,
   "id": "c6281f93",
   "metadata": {},
   "outputs": [
    {
     "data": {
      "text/plain": [
       "0.8677248677248677"
      ]
     },
     "execution_count": 20,
     "metadata": {},
     "output_type": "execute_result"
    }
   ],
   "source": [
    "metrics.roc_auc_score(y_true[~mask_total], y_probs[~mask_total])"
   ]
  },
  {
   "cell_type": "code",
   "execution_count": 21,
   "id": "5c858f0c",
   "metadata": {},
   "outputs": [
    {
     "data": {
      "text/plain": [
       "0.798941798941799"
      ]
     },
     "execution_count": 21,
     "metadata": {},
     "output_type": "execute_result"
    }
   ],
   "source": [
    "metrics.roc_auc_score(y_true[~mask_total], strains_4ch[~mask_total])"
   ]
  },
  {
   "cell_type": "code",
   "execution_count": 22,
   "id": "5dccf9af",
   "metadata": {},
   "outputs": [
    {
     "data": {
      "text/plain": [
       "0.8888888888888888"
      ]
     },
     "execution_count": 22,
     "metadata": {},
     "output_type": "execute_result"
    }
   ],
   "source": [
    "metrics.roc_auc_score(y_true[~mask_total], strains_2ch[~mask_total])"
   ]
  },
  {
   "cell_type": "code",
   "execution_count": null,
   "id": "b1b73e7a",
   "metadata": {},
   "outputs": [],
   "source": []
  },
  {
   "cell_type": "code",
   "execution_count": null,
   "id": "3f583285",
   "metadata": {},
   "outputs": [],
   "source": []
  },
  {
   "cell_type": "code",
   "execution_count": 44,
   "id": "b8941a35",
   "metadata": {},
   "outputs": [
    {
     "data": {
      "text/plain": [
       "16.500419411764707"
      ]
     },
     "execution_count": 44,
     "metadata": {},
     "output_type": "execute_result"
    }
   ],
   "source": [
    "np.nanmean(nonAF_strains_2ch)"
   ]
  },
  {
   "cell_type": "code",
   "execution_count": 41,
   "id": "3f6ecd7b",
   "metadata": {},
   "outputs": [
    {
     "data": {
      "text/plain": [
       "6.7457988888888885"
      ]
     },
     "execution_count": 41,
     "metadata": {},
     "output_type": "execute_result"
    }
   ],
   "source": [
    "AF_strains_2ch.mean()"
   ]
  },
  {
   "cell_type": "code",
   "execution_count": 45,
   "id": "c3a2085b",
   "metadata": {},
   "outputs": [
    {
     "data": {
      "text/plain": [
       "array([ 8.26654,      nan, 13.424  , 31.5778 , 14.585  ,  7.08901,\n",
       "       24.6949 , 17.4386 , 12.3048 , 17.3763 , 24.4463 , 21.9082 ,\n",
       "       26.3378 , 17.715  ,  5.95412, 11.8973 , 16.2549 ,  9.23656,\n",
       "            nan,      nan,      nan])"
      ]
     },
     "execution_count": 45,
     "metadata": {},
     "output_type": "execute_result"
    }
   ],
   "source": [
    "nonAF_strains_2ch"
   ]
  },
  {
   "cell_type": "code",
   "execution_count": 47,
   "id": "5c04cadb",
   "metadata": {},
   "outputs": [
    {
     "data": {
      "text/plain": [
       "['EBR/case04', 'EBR/case05', 'EBR/case06']"
      ]
     },
     "execution_count": 47,
     "metadata": {},
     "output_type": "execute_result"
    }
   ],
   "source": [
    "nonaf_cases[-3:]"
   ]
  },
  {
   "cell_type": "code",
   "execution_count": null,
   "id": "55ab0e75",
   "metadata": {},
   "outputs": [],
   "source": []
  },
  {
   "cell_type": "code",
   "execution_count": null,
   "id": "6a637805",
   "metadata": {},
   "outputs": [],
   "source": []
  },
  {
   "cell_type": "code",
   "execution_count": 28,
   "id": "0ccaf8d4",
   "metadata": {},
   "outputs": [],
   "source": [
    "total_cases = len(af_cases)+len(nonaf_cases)\n",
    "\n",
    "y_true = np.zeros((total_cases))\n",
    "y_true[:len(nonaf_cases)] = 1.0\n",
    "y_true[len(nonaf_cases):] = 0.0"
   ]
  },
  {
   "cell_type": "code",
   "execution_count": 29,
   "id": "2bd5139f",
   "metadata": {},
   "outputs": [],
   "source": [
    "y_probs = np.zeros((total_cases,))\n",
    "y_probs[:len(nonaf_cases)] = nonAF_strains[:] \n",
    "y_probs[len(nonaf_cases):] = AF_strains[:] "
   ]
  },
  {
   "cell_type": "code",
   "execution_count": 30,
   "id": "66ade7ac",
   "metadata": {},
   "outputs": [
    {
     "data": {
      "text/plain": [
       "0.9215686274509803"
      ]
     },
     "execution_count": 30,
     "metadata": {},
     "output_type": "execute_result"
    }
   ],
   "source": [
    "metrics.roc_auc_score(y_true[~mask_total], y_probs[~mask_total])"
   ]
  },
  {
   "cell_type": "code",
   "execution_count": null,
   "id": "db5b7f61",
   "metadata": {},
   "outputs": [],
   "source": []
  },
  {
   "cell_type": "code",
   "execution_count": null,
   "id": "93380882",
   "metadata": {},
   "outputs": [],
   "source": []
  },
  {
   "cell_type": "code",
   "execution_count": 22,
   "id": "d86eab0f",
   "metadata": {},
   "outputs": [
    {
     "ename": "ValueError",
     "evalue": "multilabel-indicator format is not supported",
     "output_type": "error",
     "traceback": [
      "\u001b[0;31m---------------------------------------------------------------------------\u001b[0m",
      "\u001b[0;31mValueError\u001b[0m                                Traceback (most recent call last)",
      "\u001b[0;32m/tmp/ipykernel_26361/765993289.py\u001b[0m in \u001b[0;36m<module>\u001b[0;34m\u001b[0m\n\u001b[0;32m----> 1\u001b[0;31m \u001b[0mfpr_f1\u001b[0m\u001b[0;34m,\u001b[0m \u001b[0mtpr_f1\u001b[0m\u001b[0;34m,\u001b[0m \u001b[0mthresholds_f1\u001b[0m \u001b[0;34m=\u001b[0m \u001b[0mmetrics\u001b[0m\u001b[0;34m.\u001b[0m\u001b[0mroc_curve\u001b[0m\u001b[0;34m(\u001b[0m\u001b[0my_true\u001b[0m\u001b[0;34m[\u001b[0m\u001b[0;34m:\u001b[0m\u001b[0;34m]\u001b[0m\u001b[0;34m,\u001b[0m \u001b[0my_probs\u001b[0m\u001b[0;34m[\u001b[0m\u001b[0;34m:\u001b[0m\u001b[0;34m]\u001b[0m\u001b[0;34m)\u001b[0m\u001b[0;34m\u001b[0m\u001b[0;34m\u001b[0m\u001b[0m\n\u001b[0m\u001b[1;32m      2\u001b[0m \u001b[0mauc_f1\u001b[0m \u001b[0;34m=\u001b[0m \u001b[0mmetrics\u001b[0m\u001b[0;34m.\u001b[0m\u001b[0mroc_auc_score\u001b[0m\u001b[0;34m(\u001b[0m\u001b[0my_true\u001b[0m\u001b[0;34m[\u001b[0m\u001b[0;34m:\u001b[0m\u001b[0;34m]\u001b[0m\u001b[0;34m,\u001b[0m \u001b[0my_probs\u001b[0m\u001b[0;34m[\u001b[0m\u001b[0;34m:\u001b[0m\u001b[0;34m]\u001b[0m\u001b[0;34m)\u001b[0m\u001b[0;34m\u001b[0m\u001b[0;34m\u001b[0m\u001b[0m\n",
      "\u001b[0;32m/home/csi20/anaconda3/envs/vtk/lib/python3.9/site-packages/sklearn/metrics/_ranking.py\u001b[0m in \u001b[0;36mroc_curve\u001b[0;34m(y_true, y_score, pos_label, sample_weight, drop_intermediate)\u001b[0m\n\u001b[1;32m    960\u001b[0m \u001b[0;34m\u001b[0m\u001b[0m\n\u001b[1;32m    961\u001b[0m     \"\"\"\n\u001b[0;32m--> 962\u001b[0;31m     fps, tps, thresholds = _binary_clf_curve(\n\u001b[0m\u001b[1;32m    963\u001b[0m         \u001b[0my_true\u001b[0m\u001b[0;34m,\u001b[0m \u001b[0my_score\u001b[0m\u001b[0;34m,\u001b[0m \u001b[0mpos_label\u001b[0m\u001b[0;34m=\u001b[0m\u001b[0mpos_label\u001b[0m\u001b[0;34m,\u001b[0m \u001b[0msample_weight\u001b[0m\u001b[0;34m=\u001b[0m\u001b[0msample_weight\u001b[0m\u001b[0;34m\u001b[0m\u001b[0;34m\u001b[0m\u001b[0m\n\u001b[1;32m    964\u001b[0m     )\n",
      "\u001b[0;32m/home/csi20/anaconda3/envs/vtk/lib/python3.9/site-packages/sklearn/metrics/_ranking.py\u001b[0m in \u001b[0;36m_binary_clf_curve\u001b[0;34m(y_true, y_score, pos_label, sample_weight)\u001b[0m\n\u001b[1;32m    729\u001b[0m     \u001b[0my_type\u001b[0m \u001b[0;34m=\u001b[0m \u001b[0mtype_of_target\u001b[0m\u001b[0;34m(\u001b[0m\u001b[0my_true\u001b[0m\u001b[0;34m)\u001b[0m\u001b[0;34m\u001b[0m\u001b[0;34m\u001b[0m\u001b[0m\n\u001b[1;32m    730\u001b[0m     \u001b[0;32mif\u001b[0m \u001b[0;32mnot\u001b[0m \u001b[0;34m(\u001b[0m\u001b[0my_type\u001b[0m \u001b[0;34m==\u001b[0m \u001b[0;34m\"binary\"\u001b[0m \u001b[0;32mor\u001b[0m \u001b[0;34m(\u001b[0m\u001b[0my_type\u001b[0m \u001b[0;34m==\u001b[0m \u001b[0;34m\"multiclass\"\u001b[0m \u001b[0;32mand\u001b[0m \u001b[0mpos_label\u001b[0m \u001b[0;32mis\u001b[0m \u001b[0;32mnot\u001b[0m \u001b[0;32mNone\u001b[0m\u001b[0;34m)\u001b[0m\u001b[0;34m)\u001b[0m\u001b[0;34m:\u001b[0m\u001b[0;34m\u001b[0m\u001b[0;34m\u001b[0m\u001b[0m\n\u001b[0;32m--> 731\u001b[0;31m         \u001b[0;32mraise\u001b[0m \u001b[0mValueError\u001b[0m\u001b[0;34m(\u001b[0m\u001b[0;34m\"{0} format is not supported\"\u001b[0m\u001b[0;34m.\u001b[0m\u001b[0mformat\u001b[0m\u001b[0;34m(\u001b[0m\u001b[0my_type\u001b[0m\u001b[0;34m)\u001b[0m\u001b[0;34m)\u001b[0m\u001b[0;34m\u001b[0m\u001b[0;34m\u001b[0m\u001b[0m\n\u001b[0m\u001b[1;32m    732\u001b[0m \u001b[0;34m\u001b[0m\u001b[0m\n\u001b[1;32m    733\u001b[0m     \u001b[0mcheck_consistent_length\u001b[0m\u001b[0;34m(\u001b[0m\u001b[0my_true\u001b[0m\u001b[0;34m,\u001b[0m \u001b[0my_score\u001b[0m\u001b[0;34m,\u001b[0m \u001b[0msample_weight\u001b[0m\u001b[0;34m)\u001b[0m\u001b[0;34m\u001b[0m\u001b[0;34m\u001b[0m\u001b[0m\n",
      "\u001b[0;31mValueError\u001b[0m: multilabel-indicator format is not supported"
     ]
    }
   ],
   "source": [
    "fpr_f1, tpr_f1, thresholds_f1 = metrics.roc_curve(y_true[:], y_probs[:])\n",
    "auc_f1 = metrics.roc_auc_score(y_true[:], y_probs[:])"
   ]
  },
  {
   "cell_type": "code",
   "execution_count": null,
   "id": "ac86aa4d",
   "metadata": {},
   "outputs": [],
   "source": [
    "total_cases = len(af_cases)+len(nonaf_cases)\n",
    "\n",
    "y_true = np.zeros((total_cases, 6))\n",
    "y_true[:len(nonaf_cases), :] = 1.0\n",
    "y_true[len(nonaf_cases):, :] = 0.0\n",
    "\n",
    "y_probs_fibres = np.zeros((total_cases, 6, 2))\n",
    "y_probs_fibres[:len(nonaf_cases), :, 0] = nonAF_fibre_ranges[:, :, 0] \n",
    "y_probs_fibres[len(nonaf_cases):, :, 0] = AF_fibre_ranges[:, :, 0]\n",
    "y_probs_fibres[:len(nonaf_cases), :, 1] = nonAF_fibre_ranges[:, :, 1] \n",
    "y_probs_fibres[len(nonaf_cases):, :, 1] = AF_fibre_ranges[:, :, 1]\n",
    "\n",
    "y_probs_area = np.zeros((total_cases, 6))\n",
    "y_probs_area[:len(nonaf_cases), :] = nonAF_area_ranges[:, :] \n",
    "y_probs_area[len(nonaf_cases):, :] = AF_area_ranges[:, :] \n",
    "\n",
    "# y_probs_LAEF = np.zeros((total_cases,))\n",
    "# y_probs_LAEF[:len(nonaf_cases)] = nonAF_LAEF[:] \n",
    "# y_probs_LAEF[len(nonaf_cases):] = AF_LAEF[:] \n",
    "\n",
    "# y_probs_LAvol = np.zeros((total_cases,))\n",
    "# y_probs_LAvol[:len(nonaf_cases)] = nonAF_LAvol[:] \n",
    "# y_probs_LAvol[len(nonaf_cases):] = AF_LAvol[:] \n",
    "\n",
    "fpr_f1, tpr_f1, thresholds_f1 = metrics.roc_curve(y_true[:, 0], y_probs_fibres[:, 0, 0])\n",
    "auc_f1 = metrics.roc_auc_score(y_true[:, 0], y_probs_fibres[:, 0, 0])\n",
    "\n",
    "fpr_f2, tpr_f2, thresholds_f2 = metrics.roc_curve(y_true[:, 0], y_probs_fibres[:, 0, 1])\n",
    "auc_f2 = metrics.roc_auc_score(y_true[:, 0], y_probs_fibres[:, 0, 1])\n",
    "\n",
    "fpr_a, tpr_a, thresholds_a = metrics.roc_curve(y_true[:, 0], y_probs_area[:, 0])\n",
    "auc_a = metrics.roc_auc_score(y_true[:, 0], y_probs_area[:, 0])\n",
    "\n",
    "# fpr_LAEF, tpr_LAEF, thresholds_LAEF = metrics.roc_curve(y_true[:, 0], y_probs_LAEF[:])\n",
    "# auc_LAEF = metrics.roc_auc_score(y_true[:, 0], y_probs_LAEF[:])\n",
    "\n",
    "# fpr_LAvol, tpr_LAvol, thresholds_LAvol = metrics.roc_curve(y_true[:, 0], y_probs_LAvol[:])\n",
    "# auc_LAvol = metrics.roc_auc_score(y_true[:, 0], y_probs_LAvol[:])\n",
    "\n",
    "print(\"AUC fibres f1: \", auc_f1)\n",
    "print(\"AUC fibres f2: \", auc_f2)\n",
    "\n",
    "print(\"AUC area: \", auc_a)\n",
    "print(\"AUC LAEF: \", auc_LAEF)\n",
    "print(\"AUC LAvol: \", auc_LAvol)"
   ]
  }
 ],
 "metadata": {
  "kernelspec": {
   "display_name": "Python [conda env:vtk]",
   "language": "python",
   "name": "conda-env-vtk-py"
  },
  "language_info": {
   "codemirror_mode": {
    "name": "ipython",
    "version": 3
   },
   "file_extension": ".py",
   "mimetype": "text/x-python",
   "name": "python",
   "nbconvert_exporter": "python",
   "pygments_lexer": "ipython3",
   "version": "3.9.7"
  }
 },
 "nbformat": 4,
 "nbformat_minor": 5
}
