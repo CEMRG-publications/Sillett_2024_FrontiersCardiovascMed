{
 "cells": [
  {
   "cell_type": "code",
   "execution_count": 1,
   "metadata": {},
   "outputs": [],
   "source": [
    "from scipy.spatial.distance import directed_hausdorff\n",
    "import numpy as np"
   ]
  },
  {
   "cell_type": "code",
   "execution_count": 3,
   "metadata": {},
   "outputs": [],
   "source": [
    "np.genfromtxt?"
   ]
  },
  {
   "cell_type": "code",
   "execution_count": 4,
   "metadata": {},
   "outputs": [],
   "source": [
    "Path2RefMesh = '/home/csi20local/Documents/MeshSimilarityScripts/PrintMeshPoints/build/Case1_dcm4_ClippedMesh.txt'\n",
    "Path2TrkMesh = '/home/csi20local/Documents/MeshSimilarityScripts/PrintMeshPoints/build/MQ3_ClippedMesh_4.txt'"
   ]
  },
  {
   "cell_type": "code",
   "execution_count": 5,
   "metadata": {},
   "outputs": [],
   "source": [
    "RefMeshPoints = np.genfromtxt(Path2RefMesh, delimiter=' ', usecols = (2,3,4))\n",
    "TrkMeshPoints = np.genfromtxt(Path2TrkMesh, delimiter=' ', usecols = (2,3,4))"
   ]
  },
  {
   "cell_type": "code",
   "execution_count": 6,
   "metadata": {},
   "outputs": [
    {
     "data": {
      "text/plain": [
       "array([[   7.66706, -139.369  ,  183.907  ],\n",
       "       [   7.82954, -139.096  ,  183.951  ],\n",
       "       [   7.84213, -139.118  ,  183.943  ],\n",
       "       ...,\n",
       "       [ -30.85   , -144.28   ,  228.34   ],\n",
       "       [ -31.0485 , -144.25   ,  228.367  ],\n",
       "       [ -31.2532 , -144.2    ,  228.408  ]])"
      ]
     },
     "execution_count": 6,
     "metadata": {},
     "output_type": "execute_result"
    }
   ],
   "source": [
    "TrkMeshPoints"
   ]
  },
  {
   "cell_type": "code",
   "execution_count": 11,
   "metadata": {},
   "outputs": [],
   "source": [
    "forward_hausdorff = directed_hausdorff(RefMeshPoints, TrkMeshPoints)"
   ]
  },
  {
   "cell_type": "code",
   "execution_count": 12,
   "metadata": {},
   "outputs": [],
   "source": [
    "backward_hausdorff = directed_hausdorff(TrkMeshPoints, RefMeshPoints)"
   ]
  },
  {
   "cell_type": "code",
   "execution_count": 15,
   "metadata": {
    "scrolled": true
   },
   "outputs": [
    {
     "data": {
      "text/plain": [
       "48.20169020231552"
      ]
     },
     "execution_count": 15,
     "metadata": {},
     "output_type": "execute_result"
    }
   ],
   "source": [
    "general_hausdorff = max(forward_hausdorff[0], backward_hausdorff[0])\n",
    "general_hausdorff"
   ]
  },
  {
   "cell_type": "code",
   "execution_count": 2,
   "metadata": {},
   "outputs": [],
   "source": [
    "def hausdorff_distance(Path2MshA_Points, Path2MshB_Points):\n",
    "    MshAPoints = np.genfromtxt(Path2MshA_Points, delimiter=' ', usecols = (2,3,4))\n",
    "    MshBPoints = np.genfromtxt(Path2MshB_Points, delimiter=' ', usecols = (2,3,4))\n",
    "    \n",
    "    forward_hausdorff = directed_hausdorff(MshAPoints, MshBPoints)\n",
    "    backward_hausdorff = directed_hausdorff(MshBPoints, MshAPoints)\n",
    "    \n",
    "    general = max(forward_hausdorff[0], backward_hausdorff[0])\n",
    "    directed = forward_hausdorff[0]\n",
    "    \n",
    "    return general, directed"
   ]
  },
  {
   "cell_type": "code",
   "execution_count": 5,
   "metadata": {},
   "outputs": [
    {
     "data": {
      "text/plain": [
       "(48.20169020231552, 48.20169020231552)"
      ]
     },
     "execution_count": 5,
     "metadata": {},
     "output_type": "execute_result"
    }
   ],
   "source": [
    "hausdorff_distance(Path2RefMesh, Path2TrkMesh)"
   ]
  },
  {
   "cell_type": "code",
   "execution_count": 6,
   "metadata": {},
   "outputs": [
    {
     "data": {
      "text/plain": [
       "(24.930189729594915, 13.676659769841466)"
      ]
     },
     "execution_count": 6,
     "metadata": {},
     "output_type": "execute_result"
    }
   ],
   "source": [
    "hausdorff_distance(Path2RefMesh, \n",
    "                   '/home/csi20local/Documents/MeshSimilarityScripts/PrintMeshPoints/build/Case1_MT_Dof1_transformed-4.txt')"
   ]
  },
  {
   "cell_type": "markdown",
   "metadata": {},
   "source": [
    "### CT-CRT-01"
   ]
  },
  {
   "cell_type": "markdown",
   "metadata": {},
   "source": [
    "##### LV"
   ]
  },
  {
   "cell_type": "code",
   "execution_count": 8,
   "metadata": {},
   "outputs": [
    {
     "data": {
      "text/plain": [
       "(3.4185937883872612, 3.4185937883872612)"
      ]
     },
     "execution_count": 8,
     "metadata": {},
     "output_type": "execute_result"
    }
   ],
   "source": [
    "hausdorff_distance(Path2MshA_Points='/home/csi20local/Documents/MeshSimilarityScripts/PrintMeshPoints/build/CT-CRT-01/LV/transformed-4-clip.txt',\n",
    "                  Path2MshB_Points='/home/csi20local/Documents/MeshSimilarityScripts/PrintMeshPoints/build/CT-CRT-01/dcm4/smth-resample-clip.txt')"
   ]
  },
  {
   "cell_type": "markdown",
   "metadata": {},
   "source": [
    "##### LV Params, Using automated bash script Feb 10th"
   ]
  },
  {
   "cell_type": "code",
   "execution_count": 5,
   "metadata": {},
   "outputs": [
    {
     "data": {
      "text/plain": [
       "(26.888991765404676, 4.351577226707583)"
      ]
     },
     "execution_count": 5,
     "metadata": {},
     "output_type": "execute_result"
    }
   ],
   "source": [
    "hausdorff_distance(Path2MshA_Points='/home/csi20local/Data/MarinaData/CT_Charlie/CT-CRT-01/MT/SW-9e-3-BE-4e-7/transformed-4-clip-Points.txt',\n",
    "                  Path2MshB_Points='/home/csi20local/Data/MarinaData/CT_Charlie/CT-CRT-01/dcm4/seg-smth-resample-Points.txt')"
   ]
  },
  {
   "cell_type": "code",
   "execution_count": null,
   "metadata": {},
   "outputs": [],
   "source": []
  },
  {
   "cell_type": "code",
   "execution_count": null,
   "metadata": {},
   "outputs": [],
   "source": []
  },
  {
   "cell_type": "markdown",
   "metadata": {},
   "source": [
    "##### SW 9e-3\n",
    "##### BE 1e-6"
   ]
  },
  {
   "cell_type": "code",
   "execution_count": 9,
   "metadata": {},
   "outputs": [
    {
     "data": {
      "text/plain": [
       "(3.573053226583641, 3.344127270320351)"
      ]
     },
     "execution_count": 9,
     "metadata": {},
     "output_type": "execute_result"
    }
   ],
   "source": [
    "hausdorff_distance(Path2MshA_Points='/home/csi20local/Documents/MeshSimilarityScripts/PrintMeshPoints/build/CT-CRT-01/SW9e-3_BE1e-6/transformed-4-clip.txt',\n",
    "                  Path2MshB_Points='/home/csi20local/Documents/MeshSimilarityScripts/PrintMeshPoints/build/CT-CRT-01/dcm4/smth-resample-clip.txt')"
   ]
  },
  {
   "cell_type": "markdown",
   "metadata": {},
   "source": [
    "##### SW 9e-3\n",
    "##### BE 1e-7"
   ]
  },
  {
   "cell_type": "code",
   "execution_count": 10,
   "metadata": {},
   "outputs": [
    {
     "data": {
      "text/plain": [
       "(3.502679647584131, 3.502679647584131)"
      ]
     },
     "execution_count": 10,
     "metadata": {},
     "output_type": "execute_result"
    }
   ],
   "source": [
    "hausdorff_distance(Path2MshA_Points='/home/csi20local/Documents/MeshSimilarityScripts/PrintMeshPoints/build/CT-CRT-01/SW9e-3_BE1e-7/transformed-4-clip.txt',\n",
    "                  Path2MshB_Points='/home/csi20local/Documents/MeshSimilarityScripts/PrintMeshPoints/build/CT-CRT-01/dcm4/smth-resample-clip.txt')"
   ]
  },
  {
   "cell_type": "markdown",
   "metadata": {},
   "source": [
    "##### SW 9e-3\n",
    "##### BE 1e-8"
   ]
  },
  {
   "cell_type": "code",
   "execution_count": 11,
   "metadata": {},
   "outputs": [
    {
     "data": {
      "text/plain": [
       "(3.5444944097713216, 3.5444944097713216)"
      ]
     },
     "execution_count": 11,
     "metadata": {},
     "output_type": "execute_result"
    }
   ],
   "source": [
    "hausdorff_distance(Path2MshA_Points='/home/csi20local/Documents/MeshSimilarityScripts/PrintMeshPoints/build/CT-CRT-01/SW9e-3_BE1e-8/transformed-4-clip.txt',\n",
    "                  Path2MshB_Points='/home/csi20local/Documents/MeshSimilarityScripts/PrintMeshPoints/build/CT-CRT-01/dcm4/smth-resample-clip.txt')"
   ]
  },
  {
   "cell_type": "markdown",
   "metadata": {},
   "source": [
    "##### SW 9e-3\n",
    "##### BE 4e-8"
   ]
  },
  {
   "cell_type": "code",
   "execution_count": 12,
   "metadata": {},
   "outputs": [
    {
     "data": {
      "text/plain": [
       "(3.5481557048134187, 3.5481557048134187)"
      ]
     },
     "execution_count": 12,
     "metadata": {},
     "output_type": "execute_result"
    }
   ],
   "source": [
    "hausdorff_distance(Path2MshA_Points='/home/csi20local/Documents/MeshSimilarityScripts/PrintMeshPoints/build/CT-CRT-01/SW9e-3_BE4e-8/transformed-4-clip.txt',\n",
    "                  Path2MshB_Points='/home/csi20local/Documents/MeshSimilarityScripts/PrintMeshPoints/build/CT-CRT-01/dcm4/smth-resample-clip.txt')"
   ]
  },
  {
   "cell_type": "code",
   "execution_count": null,
   "metadata": {},
   "outputs": [],
   "source": []
  }
 ],
 "metadata": {
  "kernelspec": {
   "display_name": "Python 3 (ipykernel)",
   "language": "python",
   "name": "python3"
  },
  "language_info": {
   "codemirror_mode": {
    "name": "ipython",
    "version": 3
   },
   "file_extension": ".py",
   "mimetype": "text/x-python",
   "name": "python",
   "nbconvert_exporter": "python",
   "pygments_lexer": "ipython3",
   "version": "3.9.7"
  }
 },
 "nbformat": 4,
 "nbformat_minor": 4
}
