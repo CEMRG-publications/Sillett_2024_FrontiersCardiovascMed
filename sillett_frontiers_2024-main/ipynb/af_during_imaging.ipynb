{
 "cells": [
  {
   "cell_type": "markdown",
   "id": "16a7b232",
   "metadata": {},
   "source": [
    "This notebook is for checking if being in AF during imaging makes a difference to the strains"
   ]
  },
  {
   "cell_type": "code",
   "execution_count": 1,
   "id": "67695867",
   "metadata": {},
   "outputs": [],
   "source": [
    "from hrs_23_figures import *\n",
    "\n",
    "import numpy as np\n",
    "import matplotlib.pyplot as plt"
   ]
  },
  {
   "cell_type": "code",
   "execution_count": 10,
   "id": "21050931",
   "metadata": {},
   "outputs": [],
   "source": [
    "from scipy import stats"
   ]
  },
  {
   "cell_type": "code",
   "execution_count": 4,
   "id": "d5225a5a",
   "metadata": {},
   "outputs": [],
   "source": [
    "af_during = [\"CT-CRT/case18\", \"CT-CRT/case25\", \"CT-CRT/case31\"]\n",
    "\n",
    "naf_during = af_cases + nonaf_cases"
   ]
  },
  {
   "cell_type": "code",
   "execution_count": 5,
   "id": "5ca55c2b",
   "metadata": {},
   "outputs": [],
   "source": [
    "naf_during.remove(\"CT-CRT/case18\")\n",
    "naf_during.remove(\"CT-CRT/case25\")\n",
    "naf_during.remove(\"CT-CRT/case31\")"
   ]
  },
  {
   "cell_type": "code",
   "execution_count": 6,
   "id": "9bf6ce9a",
   "metadata": {},
   "outputs": [
    {
     "data": {
      "text/plain": [
       "26"
      ]
     },
     "execution_count": 6,
     "metadata": {},
     "output_type": "execute_result"
    }
   ],
   "source": [
    "len(naf_during)"
   ]
  },
  {
   "cell_type": "code",
   "execution_count": 7,
   "id": "b4f12668",
   "metadata": {},
   "outputs": [
    {
     "data": {
      "text/plain": [
       "3"
      ]
     },
     "execution_count": 7,
     "metadata": {},
     "output_type": "execute_result"
    }
   ],
   "source": [
    "len(af_during)"
   ]
  },
  {
   "cell_type": "code",
   "execution_count": 14,
   "id": "a38f8868",
   "metadata": {},
   "outputs": [],
   "source": [
    "regions = ['global', 'roof', 'sept', 'lat', 'ant', 'post']"
   ]
  },
  {
   "cell_type": "code",
   "execution_count": 23,
   "id": "65fcf22d",
   "metadata": {},
   "outputs": [],
   "source": [
    "area_strain_range?"
   ]
  },
  {
   "cell_type": "code",
   "execution_count": 25,
   "id": "b7411737",
   "metadata": {},
   "outputs": [],
   "source": [
    "## shape: N_cases X N_region X strain_metric\n",
    "\n",
    "af_during_strains = np.zeros((len(af_during),6,2))\n",
    "\n",
    "for i in range(0, len(af_during)):\n",
    "    case = af_during[i]\n",
    "    \n",
    "    for j in range(0, len(regions)):\n",
    "        region = regions[j]\n",
    "    \n",
    "        af_during_strains[i, j, 0] = fibre_strain_range(case=case, fibre_arch='endo_avg', component=0, region=region)\n",
    "        af_during_strains[i, j, 1] = area_strain_range(case=case, strain_type='area', region=region)"
   ]
  },
  {
   "cell_type": "code",
   "execution_count": 26,
   "id": "010a1b26",
   "metadata": {},
   "outputs": [],
   "source": [
    "naf_during_strains = np.zeros((len(naf_during),6,2))\n",
    "\n",
    "for i in range(0, len(naf_during)):\n",
    "    case = naf_during[i]\n",
    "    \n",
    "    for j in range(0, len(regions)):\n",
    "        region = regions[j]\n",
    "    \n",
    "        naf_during_strains[i, j, 0] = fibre_strain_range(case=case, fibre_arch='endo_avg', component=0, region=region)\n",
    "        naf_during_strains[i, j, 1] = area_strain_range(case=case, strain_type='area', region=region)"
   ]
  },
  {
   "cell_type": "code",
   "execution_count": 27,
   "id": "a952111e",
   "metadata": {},
   "outputs": [
    {
     "data": {
      "text/plain": [
       "array([[0.31051305, 0.24718303],\n",
       "       [0.25765103, 0.35475117],\n",
       "       [0.96256753, 0.68898057],\n",
       "       [0.54987134, 0.15660377],\n",
       "       [0.21771551, 0.23337724],\n",
       "       [0.30112705, 0.1705627 ]])"
      ]
     },
     "execution_count": 27,
     "metadata": {},
     "output_type": "execute_result"
    }
   ],
   "source": [
    "stats.ttest_ind(af_during_strains, naf_during_strains)[-1]"
   ]
  },
  {
   "cell_type": "markdown",
   "id": "d1126285",
   "metadata": {},
   "source": [
    "This shows therefore that being in AF during imaging makes __no significant difference__ to global or regional fiber or area strains. In our cohhort.\n",
    "\n",
    "Outstanding issue following up on Ronak's updated cohort information: for cases without reference of AF in pre ECG rhythm, but mention of AF during imaging, change to AF patient group? This affects:\n",
    "* case18\n",
    "* case27"
   ]
  }
 ],
 "metadata": {
  "kernelspec": {
   "display_name": "vtk",
   "language": "python",
   "name": "vtk"
  },
  "language_info": {
   "codemirror_mode": {
    "name": "ipython",
    "version": 3
   },
   "file_extension": ".py",
   "mimetype": "text/x-python",
   "name": "python",
   "nbconvert_exporter": "python",
   "pygments_lexer": "ipython3",
   "version": "3.9.7"
  }
 },
 "nbformat": 4,
 "nbformat_minor": 5
}
