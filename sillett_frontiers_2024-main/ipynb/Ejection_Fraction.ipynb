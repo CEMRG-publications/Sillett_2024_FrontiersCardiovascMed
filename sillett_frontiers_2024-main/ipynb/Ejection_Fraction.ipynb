{
 "cells": [
  {
   "cell_type": "markdown",
   "id": "0508d45f",
   "metadata": {},
   "source": [
    "This notebook is used to investigate pvalues with LA and LV EF.\n",
    "\n",
    "Jan 2023: Corrected formula used for calculating LA emptying fraction (LAEF)"
   ]
  },
  {
   "cell_type": "code",
   "execution_count": 1,
   "id": "b1f614a7",
   "metadata": {},
   "outputs": [],
   "source": [
    "import numpy as np\n",
    "import pandas as pd\n",
    "import matplotlib.pyplot as plt\n",
    "import seaborn as sns\n",
    "from scipy import stats"
   ]
  },
  {
   "cell_type": "code",
   "execution_count": 7,
   "id": "029e2414",
   "metadata": {},
   "outputs": [],
   "source": [
    "numTimes = 10\n",
    "nTime=np.arange(0, numTimes)/numTimes\n",
    "\n",
    "# DataPath=\"/home/csi20local/Dropbox/phd/Data/RG_CT_Cases\"\n",
    "# DataPath=\"/media/csi20local/Seagate Portable Drive/Master/Data/RG_CT_Cases\"\n",
    "DataPath=\"/home/csi20/Dropbox/phd/Data/RG_CT_Cases\"\n",
    "\n",
    "f20_cases = ['21', '23', '24', '25', '26', '27', '28', '29', '30', '31', '32', '34']\n",
    "f20_cases = [f'CT-CRT/case{case_ind}' for case_ind in f20_cases]\n",
    "ebr=['EBR/case01', 'EBR/case02']\n",
    "f20_cases = f20_cases + ebr\n",
    "\n",
    "## All 30 Cases\n",
    "\n",
    "# nonAF\n",
    "nonaf_cases = ['01', '02', '05', '06', '07', '08', '09', '12', '14',\n",
    "             '15', '16', '17', '18', '24', '27', '28', '29', '30', '32', '21']\n",
    "nonaf_cases = [f\"CT-CRT/case{case}\" for case in nonaf_cases]\n",
    "\n",
    "\n",
    "# AF\n",
    "af_cases = ['10', '19', '20', '23', '25', '26', '31', '34']\n",
    "af_cases = [f'CT-CRT/case{case}' for case in af_cases]\n",
    "af_cases = af_cases + ebr\n",
    "\n",
    "## 07 and 10 failed with haonet"
   ]
  },
  {
   "cell_type": "code",
   "execution_count": 8,
   "id": "f3c7ae8f",
   "metadata": {},
   "outputs": [
    {
     "data": {
      "text/plain": [
       "10"
      ]
     },
     "execution_count": 8,
     "metadata": {},
     "output_type": "execute_result"
    }
   ],
   "source": [
    "len(af_cases)"
   ]
  },
  {
   "cell_type": "code",
   "execution_count": 9,
   "id": "778a02b6",
   "metadata": {},
   "outputs": [
    {
     "data": {
      "text/plain": [
       "20"
      ]
     },
     "execution_count": 9,
     "metadata": {},
     "output_type": "execute_result"
    }
   ],
   "source": [
    "len(nonaf_cases)"
   ]
  },
  {
   "cell_type": "markdown",
   "id": "39dca7d8",
   "metadata": {},
   "source": [
    "# LV EF"
   ]
  },
  {
   "cell_type": "code",
   "execution_count": 10,
   "id": "ab3fa686",
   "metadata": {},
   "outputs": [
    {
     "data": {
      "text/plain": [
       "10"
      ]
     },
     "execution_count": 10,
     "metadata": {},
     "output_type": "execute_result"
    }
   ],
   "source": [
    "len(af_cases)"
   ]
  },
  {
   "cell_type": "code",
   "execution_count": 11,
   "id": "a489dd39",
   "metadata": {},
   "outputs": [
    {
     "data": {
      "text/plain": [
       "20"
      ]
     },
     "execution_count": 11,
     "metadata": {},
     "output_type": "execute_result"
    }
   ],
   "source": [
    "len(nonaf_cases)"
   ]
  },
  {
   "cell_type": "code",
   "execution_count": 12,
   "id": "e9ec8532",
   "metadata": {},
   "outputs": [],
   "source": [
    "nAF_LV_EF = np.zeros((len(nonaf_cases),))\n",
    "AF_LV_EF = np.zeros((len(af_cases),))\n",
    "\n",
    "## append data\n",
    "\n",
    "basePath=\"/media/csi20local/Seagate Portable Drive/Master/Data/RG_CT_Cases\"\n",
    "basePath=\"/home/csi20/Dropbox/phd/Data/RG_CT_Cases\"\n",
    "# basePath=\"/home/csi20local/Data/RG_CT_Cases\"\n",
    "\n",
    "for i in range(0, len(nonaf_cases)):\n",
    "    nAF_LV_EF[i] = np.loadtxt(f\"{basePath}/{nonaf_cases[i]}/multilabel_seg_analysis/LV_EF.txt\")\n",
    "    \n",
    "for i in range(0, len(af_cases)):\n",
    "    AF_LV_EF[i] = np.loadtxt(f\"{basePath}/{af_cases[i]}/multilabel_seg_analysis/LV_EF.txt\")"
   ]
  },
  {
   "cell_type": "code",
   "execution_count": 13,
   "id": "b4b98906",
   "metadata": {},
   "outputs": [
    {
     "name": "stdout",
     "output_type": "stream",
     "text": [
      "Ttest_indResult(statistic=-0.5365370722053941, pvalue=0.5958250868510321)\n"
     ]
    },
    {
     "data": {
      "text/plain": [
       "(0.0, 60.0)"
      ]
     },
     "execution_count": 13,
     "metadata": {},
     "output_type": "execute_result"
    },
    {
     "data": {
      "image/png": "[encoded data removed]",
      "text/plain": [
       "<Figure size 288x504 with 1 Axes>"
      ]
     },
     "metadata": {},
     "output_type": "display_data"
    }
   ],
   "source": [
    "fig, (ax1) = plt.subplots(1,1,figsize=(4,7), facecolor='white', sharey=True)\n",
    "\n",
    "sns.boxplot(data=[nAF_LV_EF, AF_LV_EF], orient='v')\n",
    "plt.ylabel(\"LVEF [%]\", fontsize=20)\n",
    "plt.xticks(np.arange(2), ['nonAF', 'AF'], fontsize=20)\n",
    "# plt.ylim(0,45)\n",
    "\n",
    "print(stats.ttest_ind(nAF_LV_EF, AF_LV_EF))\n",
    "pval = stats.ttest_ind(nAF_LV_EF, AF_LV_EF)[-1]\n",
    "plt.text(0.20, 53, f'p = {str(np.round(pval,3))}', size=15)\n",
    "\n",
    "plt.yticks(fontsize=15)\n",
    "plt.ylim(0,60.0)\n",
    "\n",
    "# plt.savefig(\"//home/csi20/Dropbox/phd/Documents/SAN_stanford_talk/lv_ef.png\",\n",
    "#            dpi=200, facecolor=fig.get_facecolor(), bbox_inches='tight')"
   ]
  },
  {
   "cell_type": "code",
   "execution_count": 14,
   "id": "a235b3dd",
   "metadata": {},
   "outputs": [
    {
     "data": {
      "text/plain": [
       "array([34.71011652, 20.37883672, 49.40513572, 37.16208162, 25.94764398,\n",
       "       27.33669615, 38.35047409, 19.9814908 , 14.27587638, 40.30716863,\n",
       "       45.26133863, 47.31052604, 15.58736167, 43.13982042, 34.20750248,\n",
       "       21.68166059, 35.43828113, 26.02546106, 44.06479957, 23.43062183])"
      ]
     },
     "execution_count": 14,
     "metadata": {},
     "output_type": "execute_result"
    }
   ],
   "source": [
    "nAF_LV_EF"
   ]
  },
  {
   "cell_type": "code",
   "execution_count": 15,
   "id": "52d57f91",
   "metadata": {},
   "outputs": [
    {
     "data": {
      "text/plain": [
       "array([47.5189197 , 30.80619455, 19.75959995, 29.41155264, 38.1898271 ,\n",
       "       35.76014523, 40.08425199, 33.87064302, 25.47208814, 42.25202219])"
      ]
     },
     "execution_count": 15,
     "metadata": {},
     "output_type": "execute_result"
    }
   ],
   "source": [
    "AF_LV_EF"
   ]
  },
  {
   "cell_type": "markdown",
   "id": "95caf1be",
   "metadata": {},
   "source": [
    "# LA EF"
   ]
  },
  {
   "cell_type": "code",
   "execution_count": 27,
   "id": "bbd0ab13",
   "metadata": {},
   "outputs": [],
   "source": [
    "nAF_LA_EF = np.zeros((len(nonaf_cases),))\n",
    "AF_LA_EF = np.zeros((len(af_cases),))\n",
    "\n",
    "basePath=\"/media/csi20local/Seagate Portable Drive/Master/Data/RG_CT_Cases\"\n",
    "basePath=\"/home/csi20/Dropbox/phd/Data/RG_CT_Cases\"\n",
    "basePath=\"/home/csi20local/Data/RG_CT_Cases\"\n",
    "\n",
    "for i in range(0, len(nonaf_cases)):\n",
    "    nAF_LA_EF[i] = np.loadtxt(f\"{basePath}/{nonaf_cases[i]}/multilabel_seg_analysis/LA_EF.txt\")\n",
    "    \n",
    "for i in range(0, len(af_cases)):\n",
    "    AF_LA_EF[i] = np.loadtxt(f\"{basePath}/{af_cases[i]}/multilabel_seg_analysis/LA_EF.txt\")"
   ]
  },
  {
   "cell_type": "code",
   "execution_count": 28,
   "id": "9c8718fc",
   "metadata": {},
   "outputs": [
    {
     "name": "stdout",
     "output_type": "stream",
     "text": [
      "Ttest_indResult(statistic=3.772067885857517, pvalue=0.0008062899275664676)\n"
     ]
    },
    {
     "data": {
      "text/plain": [
       "(0.0, 60.0)"
      ]
     },
     "execution_count": 28,
     "metadata": {},
     "output_type": "execute_result"
    },
    {
     "data": {
      "image/png": "[encoded data removed]",
      "text/plain": [
       "<Figure size 288x504 with 1 Axes>"
      ]
     },
     "metadata": {},
     "output_type": "display_data"
    }
   ],
   "source": [
    "fig, (ax1) = plt.subplots(1,1,figsize=(4,7), facecolor='white', sharey=True)\n",
    "\n",
    "sns.boxplot(data=[nAF_LA_EF, AF_LA_EF], orient='v')\n",
    "plt.ylabel(\"LAEF [%]\", fontsize=20)\n",
    "plt.xticks(np.arange(2), ['nonAF', 'AF'], fontsize=20)\n",
    "# plt.ylim(0,45)\n",
    "\n",
    "print(stats.ttest_ind(nAF_LA_EF, AF_LA_EF))\n",
    "pval = stats.ttest_ind(nAF_LA_EF, AF_LA_EF)[-1]\n",
    "plt.text(0.26, 55, f'p = {str(np.round(pval,3))}', size=15)\n",
    "\n",
    "plt.yticks(fontsize=15)\n",
    "plt.ylim(0.0, 60)\n",
    "# plt.savefig(\"/home/csi20/Dropbox/phd/Documents/SAN_stanford_talk/la_ef.png\",\n",
    "#            dpi=200, facecolor=fig.get_facecolor(), bbox_inches='tight')"
   ]
  },
  {
   "cell_type": "code",
   "execution_count": 59,
   "id": "33cd1342",
   "metadata": {},
   "outputs": [
    {
     "data": {
      "image/png": "[encoded data removed]",
      "text/plain": [
       "<Figure size 360x504 with 2 Axes>"
      ]
     },
     "metadata": {},
     "output_type": "display_data"
    }
   ],
   "source": [
    "## FINISH ME\n",
    "fig, (ax1, ax2) = plt.subplots(1,2,figsize=(5,7), facecolor='white', sharey=True)\n",
    "\n",
    "sns.boxplot(data=[nAF_LV_EF, AF_LV_EF], orient='v', ax=ax1)\n",
    "sns.boxplot(data=[nAF_LA_EF, AF_LA_EF], orient='v', ax=ax2)\n",
    "\n",
    "ax1.set_ylabel(\"LVEF [%]\", fontsize=20)\n",
    "ax2.set_ylabel(\"LAEF [%]\", fontsize=20)\n",
    "ax1.set_xticks(np.arange(2))\n",
    "ax2.set_xticks(np.arange(2))\n",
    "\n",
    "ax1.set_xticklabels(['nonAF', 'AF'], fontsize=20)\n",
    "ax2.set_xticklabels(['nonAF', 'AF'], fontsize=20)\n",
    "ax1.tick_params(axis='y', which='major', labelsize=15)\n",
    "\n",
    "## p values\n",
    "\n",
    "pval1 = stats.ttest_ind(nAF_LV_EF, AF_LV_EF)[-1]\n",
    "ax1.text(0, 55, f'p = {str(np.round(pval1,3))}', size=15)\n",
    "\n",
    "pval2 = stats.ttest_ind(nAF_LA_EF, AF_LA_EF)[-1]\n",
    "ax2.text(0, 55, f'p = {str(np.round(pval2,3))}', size=15)\n",
    "\n",
    "# ax1.yticks(fontsize=15)\n",
    "# ax1.set_ylim(0.0, 60)\n",
    "ax2.set_ylim(0.0, 60)\n",
    "\n",
    "# plt.tight_layout()\n",
    "plt.tight_layout()\n",
    "\n",
    "# plt.savefig(\"/home/csi20local/Dropbox/phd/Documents/SAN_stanford_talk/la_lv_ef.png\",\n",
    "#            dpi=200, facecolor=fig.get_facecolor(), bbox_inches='tight')"
   ]
  },
  {
   "cell_type": "markdown",
   "id": "ad366cba",
   "metadata": {},
   "source": [
    "# LA ED Volume"
   ]
  },
  {
   "cell_type": "code",
   "execution_count": null,
   "id": "8bcf2e9d",
   "metadata": {},
   "outputs": [],
   "source": []
  },
  {
   "cell_type": "code",
   "execution_count": 30,
   "id": "3ef2f9a2",
   "metadata": {},
   "outputs": [
    {
     "data": {
      "text/plain": [
       "['CT-CRT/case01',\n",
       " 'CT-CRT/case02',\n",
       " 'CT-CRT/case05',\n",
       " 'CT-CRT/case06',\n",
       " 'CT-CRT/case08',\n",
       " 'CT-CRT/case09',\n",
       " 'CT-CRT/case12',\n",
       " 'CT-CRT/case14',\n",
       " 'CT-CRT/case15',\n",
       " 'CT-CRT/case16',\n",
       " 'CT-CRT/case17',\n",
       " 'CT-CRT/case18',\n",
       " 'CT-CRT/case24',\n",
       " 'CT-CRT/case28',\n",
       " 'CT-CRT/case29',\n",
       " 'CT-CRT/case30']"
      ]
     },
     "execution_count": 30,
     "metadata": {},
     "output_type": "execute_result"
    }
   ],
   "source": [
    "nonaf_cases_alt"
   ]
  },
  {
   "cell_type": "code",
   "execution_count": 32,
   "id": "8d285375",
   "metadata": {},
   "outputs": [],
   "source": [
    "nAF_LA_vol = np.zeros((len(nonaf_cases),))\n",
    "AF_LA_vol = np.zeros((len(af_cases),))\n",
    "\n",
    "basePath=\"/media/csi20local/Seagate Portable Drive/Master/Data/RG_CT_Cases\"\n",
    "basePath=\"/home/csi20/Dropbox/phd/Data/RG_CT_Cases\"\n",
    "\n",
    "nonaf_cases_alt = [a for a in nonaf_cases if a not in [\"CT-CRT/case07\", \"CT-CRT/case27\", \"CT-CRT/case32\"]]\n",
    "af_cases_alt = [a for a in af_cases if a not in [\"CT-CRT/case10\", \"EBR/case02\"]]\n",
    "\n",
    "for i in range(0, len(nonaf_cases_alt)):\n",
    "    nAF_LA_vol[i] = np.loadtxt(f\"{basePath}/{nonaf_cases_alt[i]}/multilabel_seg_analysis/la_volumes.txt\")[0]\n",
    "    \n",
    "for i in range(0, len(af_cases_alt)):\n",
    "    AF_LA_vol[i] = np.loadtxt(f\"{basePath}/{af_cases_alt[i]}/multilabel_seg_analysis/la_volumes.txt\")[0]"
   ]
  },
  {
   "cell_type": "code",
   "execution_count": 34,
   "id": "776f1e42",
   "metadata": {},
   "outputs": [
    {
     "data": {
      "text/plain": [
       "array([113.0252409 , 123.11901521,  58.76441069,  43.06444671,\n",
       "       135.00148667, 129.49272678, 117.87286138, 142.9745158 ,\n",
       "        59.74418503,  69.18637305,  79.00631606, 119.61238132,\n",
       "        77.26941488, 127.16264877,  74.21955156,  91.56072922,\n",
       "         0.        ,   0.        ,   0.        ])"
      ]
     },
     "execution_count": 34,
     "metadata": {},
     "output_type": "execute_result"
    }
   ],
   "source": [
    "nAF_LA_vol"
   ]
  },
  {
   "cell_type": "code",
   "execution_count": 38,
   "id": "d0fbaa0e",
   "metadata": {},
   "outputs": [],
   "source": [
    "nAF_LA_vol[-3] = np.loadtxt(f\"{basePath}/CT-CRT/case07/multilabel_seg_analysis/LA_t0_volume.txt\")\n",
    "nAF_LA_vol[-2] = np.loadtxt(f\"{basePath}/CT-CRT/case27/multilabel_seg_analysis/la_ed_volume.txt\")\n",
    "nAF_LA_vol[-1] = np.loadtxt(f\"{basePath}/CT-CRT/case32/multilabel_seg_analysis/LA_t0_volume.txt\")\n",
    "\n",
    "AF_LA_vol[-2] = np.loadtxt(f\"{basePath}/CT-CRT/case10/multilabel_seg_analysis/LA_t0_volume.txt\")\n",
    "AF_LA_vol[-1] = np.loadtxt(f\"{basePath}/EBR/case02/multilabel_seg_analysis/LA_t0_volume.txt\")"
   ]
  },
  {
   "cell_type": "code",
   "execution_count": 39,
   "id": "c12da726",
   "metadata": {},
   "outputs": [
    {
     "name": "stdout",
     "output_type": "stream",
     "text": [
      "Ttest_indResult(statistic=-3.459168579233727, pvalue=0.0018140166209256359)\n"
     ]
    },
    {
     "data": {
      "text/plain": [
       "Text(0.28, 190, 'p = 0.002')"
      ]
     },
     "execution_count": 39,
     "metadata": {},
     "output_type": "execute_result"
    },
    {
     "data": {
      "image/png": "[encoded data removed]",
      "text/plain": [
       "<Figure size 288x504 with 1 Axes>"
      ]
     },
     "metadata": {},
     "output_type": "display_data"
    }
   ],
   "source": [
    "fig, (ax1) = plt.subplots(1,1,figsize=(4,7), facecolor='white', sharey=True)\n",
    "\n",
    "sns.boxplot(data=[nAF_LA_vol, AF_LA_vol], orient='v')\n",
    "plt.ylabel(\"LA ED Vol [ml]\", fontsize=20)\n",
    "plt.xticks(np.arange(2), ['nonAF', 'AF'], fontsize=20)\n",
    "# plt.ylim(0,45)\n",
    "\n",
    "print(stats.ttest_ind(nAF_LA_vol, AF_LA_vol))\n",
    "pval = stats.ttest_ind(nAF_LA_vol, AF_LA_vol)[-1]\n",
    "plt.text(0.28, 190, f'p = {str(np.round(pval,3))}', size=15)\n",
    "\n",
    "## NOT SAVED!\n",
    "# plt.savefig(\"/home/csi20local/Dropbox/phd/Documents/HC_analysis/global/nonAF_AF/30_cases/area_strain_boxplot_excl_PVs\",\n",
    "#            dpi=200, facecolor=fig.get_facecolor(), bbox_inches='tight')"
   ]
  },
  {
   "cell_type": "markdown",
   "id": "11991297",
   "metadata": {},
   "source": [
    "# LV ED Volume"
   ]
  },
  {
   "cell_type": "code",
   "execution_count": 40,
   "id": "f6665368",
   "metadata": {},
   "outputs": [],
   "source": [
    "nAF_LV_vol = np.zeros((len(nonaf_cases),))\n",
    "AF_LV_vol = np.zeros((len(af_cases),))\n",
    "\n",
    "basePath=\"/media/csi20local/Seagate Portable Drive/Master/Data/RG_CT_Cases\"\n",
    "basePath=\"/home/csi20/Dropbox/phd/Data/RG_CT_Cases\"\n",
    "\n",
    "for i in range(0, len(nonaf_cases_alt)):\n",
    "    nAF_LV_vol[i] = np.loadtxt(f\"{basePath}/{nonaf_cases_alt[i]}/multilabel_seg_analysis/lv_volumes.txt\")[0]\n",
    "    \n",
    "for i in range(0, len(af_cases_alt)):\n",
    "    AF_LV_vol[i] = np.loadtxt(f\"{basePath}/{af_cases_alt[i]}/multilabel_seg_analysis/lv_volumes.txt\")[0]"
   ]
  },
  {
   "cell_type": "code",
   "execution_count": 41,
   "id": "695ab7b6",
   "metadata": {},
   "outputs": [],
   "source": [
    "nAF_LV_vol[-3] = np.loadtxt(f\"{basePath}/CT-CRT/case07/multilabel_seg_analysis/LV_t0_volume.txt\")\n",
    "nAF_LV_vol[-2] = np.loadtxt(f\"{basePath}/CT-CRT/case27/multilabel_seg_analysis/lv_ed_volume.txt\")\n",
    "nAF_LV_vol[-1] = np.loadtxt(f\"{basePath}/CT-CRT/case32/multilabel_seg_analysis/LV_t0_volume.txt\")\n",
    "\n",
    "AF_LV_vol[-2] = np.loadtxt(f\"{basePath}/CT-CRT/case10/multilabel_seg_analysis/LV_t0_volume.txt\")\n",
    "AF_LV_vol[-1] = np.loadtxt(f\"{basePath}/EBR/case02/multilabel_seg_analysis/LV_t0_volume.txt\")"
   ]
  },
  {
   "cell_type": "code",
   "execution_count": 42,
   "id": "54308c45",
   "metadata": {},
   "outputs": [
    {
     "name": "stdout",
     "output_type": "stream",
     "text": [
      "Ttest_indResult(statistic=0.5704057774371488, pvalue=0.5731192681335173)\n"
     ]
    },
    {
     "data": {
      "text/plain": [
       "Text(0.28, 400, 'p = 0.573')"
      ]
     },
     "execution_count": 42,
     "metadata": {},
     "output_type": "execute_result"
    },
    {
     "data": {
      "image/png": "[encoded data removed]",
      "text/plain": [
       "<Figure size 288x504 with 1 Axes>"
      ]
     },
     "metadata": {},
     "output_type": "display_data"
    }
   ],
   "source": [
    "fig, (ax1) = plt.subplots(1,1,figsize=(4,7), facecolor='white', sharey=True)\n",
    "\n",
    "sns.boxplot(data=[nAF_LV_vol, AF_LV_vol], orient='v')\n",
    "plt.ylabel(\"LV ED Vol [ml]\", fontsize=20)\n",
    "plt.xticks(np.arange(2), ['nonAF', 'AF'], fontsize=20)\n",
    "# plt.ylim(0,45)\n",
    "\n",
    "print(stats.ttest_ind(nAF_LV_vol, AF_LV_vol))\n",
    "pval = stats.ttest_ind(nAF_LV_vol, AF_LV_vol)[-1]\n",
    "plt.text(0.28, 400, f'p = {str(np.round(pval,3))}', size=15)\n",
    "\n",
    "## NOT SAVED!!\n",
    "# plt.savefig(\"/home/csi20local/Dropbox/phd/Documents/HC_analysis/global/nonAF_AF/30_cases/area_strain_boxplot_excl_PVs\",\n",
    "#            dpi=200, facecolor=fig.get_facecolor(), bbox_inches='tight')"
   ]
  },
  {
   "cell_type": "code",
   "execution_count": null,
   "id": "d2fb1670",
   "metadata": {},
   "outputs": [],
   "source": []
  }
 ],
 "metadata": {
  "kernelspec": {
   "display_name": "Python 3 (ipykernel)",
   "language": "python",
   "name": "python3"
  },
  "language_info": {
   "codemirror_mode": {
    "name": "ipython",
    "version": 3
   },
   "file_extension": ".py",
   "mimetype": "text/x-python",
   "name": "python",
   "nbconvert_exporter": "python",
   "pygments_lexer": "ipython3",
   "version": "3.9.7"
  }
 },
 "nbformat": 4,
 "nbformat_minor": 5
}
