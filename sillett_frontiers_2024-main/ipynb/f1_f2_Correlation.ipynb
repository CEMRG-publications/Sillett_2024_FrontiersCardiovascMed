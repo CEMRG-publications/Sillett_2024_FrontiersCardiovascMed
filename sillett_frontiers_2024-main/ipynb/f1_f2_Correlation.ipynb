{
 "cells": [
  {
   "cell_type": "code",
   "execution_count": 1,
   "id": "4c8802f7",
   "metadata": {},
   "outputs": [],
   "source": [
    "from scipy import stats\n",
    "from sklearn.metrics import r2_score\n",
    "import numpy as np\n",
    "import pandas as pd\n",
    "import matplotlib.pyplot as plt\n",
    "from HC_analysis import ReadFibreStrain\n",
    "from HC_analysis import DataPath\n",
    "from HC_analysis import f20_cases\n",
    "from HC_analysis import ReadMeanStrainCurves"
   ]
  },
  {
   "cell_type": "markdown",
   "id": "3f53c258",
   "metadata": {},
   "source": [
    "# Cell by cell correlation"
   ]
  },
  {
   "cell_type": "markdown",
   "id": "35943e81",
   "metadata": {},
   "source": [
    "## All LA"
   ]
  },
  {
   "cell_type": "code",
   "execution_count": null,
   "id": "20afc38f",
   "metadata": {},
   "outputs": [],
   "source": [
    "for case in ['07', '14', '19', '20', '21', '23', '26', '28', '29', '31']:\n",
    "    df = ReadFibreStrain(case=f'CT-CRT-{case}', fibre_arch='endo_avg', frame='4')\n",
    "    print(f'case {case} cell by cell correlation: ', r2_score(df['f1'], df['f2']))"
   ]
  },
  {
   "cell_type": "code",
   "execution_count": null,
   "id": "91b214fe",
   "metadata": {},
   "outputs": [],
   "source": [
    "case = '23'\n",
    "\n",
    "df = ReadFibreStrain(case=f'CT-CRT-{case}', fibre_arch='endo_avg', frame='1')\n",
    "ar = np.zeros((df.shape[0], 3, 9))\n",
    "\n",
    "plt_ar = np.zeros((9,))\n",
    "\n",
    "for frame in range(1, 10):\n",
    "    df = ReadFibreStrain(case=f'CT-CRT-{case}', fibre_arch='endo_avg', frame=f'{frame}')\n",
    "    \n",
    "    ar[:, :, frame-1] = df.to_numpy()\n",
    "    \n",
    "    plt_ar[frame-1] = r2_score(ar[:, 0, frame-1], ar[:, 1, frame-1])"
   ]
  },
  {
   "cell_type": "code",
   "execution_count": null,
   "id": "79f100ba",
   "metadata": {
    "scrolled": true
   },
   "outputs": [],
   "source": [
    "plt_ar"
   ]
  },
  {
   "cell_type": "code",
   "execution_count": null,
   "id": "1eb1f22b",
   "metadata": {},
   "outputs": [],
   "source": [
    "plt.plot(plt_ar)"
   ]
  },
  {
   "cell_type": "code",
   "execution_count": null,
   "id": "2fbb9c92",
   "metadata": {},
   "outputs": [],
   "source": []
  },
  {
   "cell_type": "code",
   "execution_count": null,
   "id": "138fc5fc",
   "metadata": {},
   "outputs": [],
   "source": [
    "fig=plt.Figure(figsize=(25,25))\n",
    "\n",
    "plt.scatter(df['f1'], df['f2'], s=0.001)\n",
    "plt.xlim(-1, 2)\n",
    "plt.ylim(-1, 2)"
   ]
  },
  {
   "cell_type": "markdown",
   "id": "3d93f287",
   "metadata": {},
   "source": [
    "## By Region"
   ]
  },
  {
   "cell_type": "markdown",
   "id": "fa1cea03",
   "metadata": {},
   "source": [
    "# Mean Fibre Strain correlation"
   ]
  },
  {
   "cell_type": "markdown",
   "id": "05ccd19d",
   "metadata": {},
   "source": [
    "## All LA"
   ]
  },
  {
   "cell_type": "code",
   "execution_count": 3,
   "id": "0b6718fe",
   "metadata": {},
   "outputs": [
    {
     "name": "stdout",
     "output_type": "stream",
     "text": [
      "CT-CRT-07\n"
     ]
    },
    {
     "ename": "NameError",
     "evalue": "name 'Case' is not defined",
     "output_type": "error",
     "traceback": [
      "\u001b[0;31m---------------------------------------------------------------------------\u001b[0m",
      "\u001b[0;31mNameError\u001b[0m                                 Traceback (most recent call last)",
      "Input \u001b[0;32mIn [3]\u001b[0m, in \u001b[0;36m<module>\u001b[0;34m\u001b[0m\n\u001b[1;32m      1\u001b[0m \u001b[38;5;28;01mfor\u001b[39;00m Case \u001b[38;5;129;01min\u001b[39;00m [\u001b[38;5;124m'\u001b[39m\u001b[38;5;124mCT-CRT-07\u001b[39m\u001b[38;5;124m'\u001b[39m, \u001b[38;5;124m'\u001b[39m\u001b[38;5;124mCT-CRT-14\u001b[39m\u001b[38;5;124m'\u001b[39m, \u001b[38;5;124m'\u001b[39m\u001b[38;5;124mCT-CRT-19\u001b[39m\u001b[38;5;124m'\u001b[39m, \u001b[38;5;124m'\u001b[39m\u001b[38;5;124mCT-CRT-20\u001b[39m\u001b[38;5;124m'\u001b[39m, \u001b[38;5;124m'\u001b[39m\u001b[38;5;124mCT-CRT-21\u001b[39m\u001b[38;5;124m'\u001b[39m, \u001b[38;5;124m'\u001b[39m\u001b[38;5;124mCT-CRT-23\u001b[39m\u001b[38;5;124m'\u001b[39m, \n\u001b[1;32m      2\u001b[0m              \u001b[38;5;124m'\u001b[39m\u001b[38;5;124mCT-CRT-26\u001b[39m\u001b[38;5;124m'\u001b[39m, \u001b[38;5;124m'\u001b[39m\u001b[38;5;124mCT-CRT-28\u001b[39m\u001b[38;5;124m'\u001b[39m, \u001b[38;5;124m'\u001b[39m\u001b[38;5;124mCT-CRT-29\u001b[39m\u001b[38;5;124m'\u001b[39m, \u001b[38;5;124m'\u001b[39m\u001b[38;5;124mCT-CRT-31\u001b[39m\u001b[38;5;124m'\u001b[39m]:\n\u001b[1;32m      3\u001b[0m     \u001b[38;5;28mprint\u001b[39m(Case)\n\u001b[0;32m----> 5\u001b[0m     fibre_strains \u001b[38;5;241m=\u001b[39m \u001b[43mReadMeanStrainCurves\u001b[49m\u001b[43m(\u001b[49m\u001b[43mcase\u001b[49m\u001b[38;5;241;43m=\u001b[39;49m\u001b[43mCase\u001b[49m\u001b[43m,\u001b[49m\u001b[43m \u001b[49m\u001b[43mstrain_type\u001b[49m\u001b[38;5;241;43m=\u001b[39;49m\u001b[38;5;124;43m'\u001b[39;49m\u001b[38;5;124;43mendo_avg\u001b[39;49m\u001b[38;5;124;43m'\u001b[39;49m\u001b[43m,\u001b[49m\u001b[43m \u001b[49m\u001b[43mregion\u001b[49m\u001b[38;5;241;43m=\u001b[39;49m\u001b[38;5;124;43m'\u001b[39;49m\u001b[38;5;124;43mglobal\u001b[39;49m\u001b[38;5;124;43m'\u001b[39;49m\u001b[43m)\u001b[49m\n\u001b[1;32m      7\u001b[0m     \u001b[38;5;28mprint\u001b[39m(Case)\n\u001b[1;32m      8\u001b[0m     \u001b[38;5;28mprint\u001b[39m(\u001b[38;5;124m\"\u001b[39m\u001b[38;5;124mR^2 score: \u001b[39m\u001b[38;5;130;01m\\t\u001b[39;00m\u001b[38;5;130;01m\\t\u001b[39;00m\u001b[38;5;130;01m\\t\u001b[39;00m\u001b[38;5;124m\"\u001b[39m, r2_score(fibre_strains[\u001b[38;5;241m0\u001b[39m], fibre_strains[\u001b[38;5;241m1\u001b[39m]))\n",
      "File \u001b[0;32m~/Dropbox/phd/Projects/LA_Tracking/iPython Notebooks/HC_analysis.py:84\u001b[0m, in \u001b[0;36mReadMeanStrainCurves\u001b[0;34m(case, strain_type, region)\u001b[0m\n\u001b[1;32m     82\u001b[0m \ttrackingPath \u001b[38;5;241m=\u001b[39m \u001b[38;5;124mf\u001b[39m\u001b[38;5;124m'\u001b[39m\u001b[38;5;132;01m{\u001b[39;00mDataPath\u001b[38;5;132;01m}\u001b[39;00m\u001b[38;5;124m/\u001b[39m\u001b[38;5;132;01m{\u001b[39;00mCase\u001b[38;5;132;01m}\u001b[39;00m\u001b[38;5;124m/MT-HiRes-TDownsampled/SW-0.0-BE-1e-9\u001b[39m\u001b[38;5;124m'\u001b[39m\n\u001b[1;32m     83\u001b[0m \u001b[38;5;28;01melse\u001b[39;00m:\n\u001b[0;32m---> 84\u001b[0m \ttrackingPath \u001b[38;5;241m=\u001b[39m \u001b[38;5;124mf\u001b[39m\u001b[38;5;124m'\u001b[39m\u001b[38;5;132;01m{\u001b[39;00mDataPath\u001b[38;5;132;01m}\u001b[39;00m\u001b[38;5;124m/\u001b[39m\u001b[38;5;132;01m{\u001b[39;00mCase\u001b[38;5;132;01m}\u001b[39;00m\u001b[38;5;124m/MT-HiRes/SW-0.0-BE-1e-9\u001b[39m\u001b[38;5;124m'\u001b[39m\n\u001b[1;32m     86\u001b[0m ans \u001b[38;5;241m=\u001b[39m np\u001b[38;5;241m.\u001b[39mloadtxt(\u001b[38;5;124mf\u001b[39m\u001b[38;5;124m'\u001b[39m\u001b[38;5;132;01m{\u001b[39;00mtrackingPath\u001b[38;5;132;01m}\u001b[39;00m\u001b[38;5;124m/\u001b[39m\u001b[38;5;132;01m{\u001b[39;00mstrain_type\u001b[38;5;132;01m}\u001b[39;00m\u001b[38;5;124m_meanstrains_\u001b[39m\u001b[38;5;132;01m{\u001b[39;00mregion\u001b[38;5;132;01m}\u001b[39;00m\u001b[38;5;124m.txt\u001b[39m\u001b[38;5;124m'\u001b[39m)\n\u001b[1;32m     87\u001b[0m \u001b[38;5;28;01mreturn\u001b[39;00m ans\n",
      "\u001b[0;31mNameError\u001b[0m: name 'Case' is not defined"
     ]
    }
   ],
   "source": [
    "for Case in ['CT-CRT-07', 'CT-CRT-14', 'CT-CRT-19', 'CT-CRT-20', 'CT-CRT-21', 'CT-CRT-23', \n",
    "             'CT-CRT-26', 'CT-CRT-28', 'CT-CRT-29', 'CT-CRT-31']:\n",
    "    print(Case)\n",
    "\n",
    "    fibre_strains = ReadMeanStrainCurves(case=Case, strain_type='endo_avg', region='global')\n",
    "    \n",
    "    print(Case)\n",
    "    print(\"R^2 score: \\t\\t\\t\", r2_score(fibre_strains[0], fibre_strains[1]))\n",
    "    print(\"Spearman correlation: \\t\\t\", stats.spearmanr(fibre_strains[0], fibre_strains[1])[0])\n",
    "    print(\"Pearson's correlation (r): \\t\", stats.pearsonr(fibre_strains[0], fibre_strains[1])[0])\n",
    "    print()"
   ]
  },
  {
   "cell_type": "code",
   "execution_count": null,
   "id": "2a88ab66",
   "metadata": {},
   "outputs": [],
   "source": [
    "for Case in ['CT-CRT-07', 'CT-CRT-14', 'CT-CRT-19', 'CT-CRT-20', 'CT-CRT-21', 'CT-CRT-23', \n",
    "             'CT-CRT-26', 'CT-CRT-28', 'CT-CRT-29', 'CT-CRT-31']:\n",
    "    \n",
    "    ## Read in Fibre Strains\n",
    "    if Case in f20_cases:\n",
    "\n",
    "        trackingPath = f'{DataPath}/{Case}/MT-HiRes-TDownsampled/SW-0.0-BE-1e-9'\n",
    "\n",
    "    else:\n",
    "        trackingPath = f'{DataPath}/{Case}/MT-HiRes/SW-0.0-BE-1e-9'\n",
    "\n",
    "    fibre_strains = np.loadtxt(f'{trackingPath}/endo_avg_meanstrains_global.txt')\n",
    "    \n",
    "    print(Case)\n",
    "    print(\"R^2 score: \\t\\t\\t\", r2_score(fibre_strains[0], fibre_strains[1]))\n",
    "    print(\"Spearman correlation: \\t\\t\", stats.spearmanr(fibre_strains[0], fibre_strains[1])[0])\n",
    "    print(\"Pearson's correlation (r): \\t\", stats.pearsonr(fibre_strains[0], fibre_strains[1])[0])\n",
    "    print()"
   ]
  },
  {
   "cell_type": "code",
   "execution_count": null,
   "id": "4ae1161d",
   "metadata": {},
   "outputs": [],
   "source": []
  },
  {
   "cell_type": "markdown",
   "id": "f8357760",
   "metadata": {},
   "source": [
    "## By Region"
   ]
  },
  {
   "cell_type": "code",
   "execution_count": null,
   "id": "92eb4bcc",
   "metadata": {},
   "outputs": [],
   "source": []
  }
 ],
 "metadata": {
  "kernelspec": {
   "display_name": "vtk",
   "language": "python",
   "name": "vtk"
  },
  "language_info": {
   "codemirror_mode": {
    "name": "ipython",
    "version": 3
   },
   "file_extension": ".py",
   "mimetype": "text/x-python",
   "name": "python",
   "nbconvert_exporter": "python",
   "pygments_lexer": "ipython3",
   "version": "3.9.7"
  }
 },
 "nbformat": 4,
 "nbformat_minor": 5
}
