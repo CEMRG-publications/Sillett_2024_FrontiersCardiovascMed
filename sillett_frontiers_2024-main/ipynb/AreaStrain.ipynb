{
 "cells": [
  {
   "cell_type": "code",
   "execution_count": 3,
   "metadata": {},
   "outputs": [],
   "source": [
    "import numpy as np\n",
    "import pandas as pd\n",
    "import matplotlib.pyplot as plt\n",
    "import os"
   ]
  },
  {
   "cell_type": "code",
   "execution_count": 6,
   "metadata": {},
   "outputs": [],
   "source": [
    "def AreaStrain(Path2dcm0Areas, Path2trackedAreas):\n",
    "    \n",
    "    df_dcm0 = pd.read_csv(Path2dcm0Areas, delim_whitespace=True, skiprows=1, \n",
    "                          names = ['Cell', 'Cell Number', 'Area_label', 'Area'])\n",
    "    \n",
    "    df_tracked = pd.read_csv(Path2trackedAreas, delim_whitespace=True, skiprows=1, \n",
    "                             names = ['Cell', 'Cell Number', 'Area_label', 'Area'])\n",
    "    \n",
    "    ans = (df_tracked['Area'] - df_dcm0['Area'])/df_dcm0['Area']\n",
    "    \n",
    "    ans.to_csv(os.path.dirname(Path2trackedAreas) + '/area-strains.csv', header=True)\n",
    "    \n",
    "    return ans"
   ]
  },
  {
   "cell_type": "code",
   "execution_count": 7,
   "metadata": {},
   "outputs": [],
   "source": [
    "def AbsoluteAreaStrain(Path2dcm0Areas, Path2trackedAreas):\n",
    "    \n",
    "    df_dcm0 = pd.read_csv(Path2dcm0Areas, delim_whitespace=True, skiprows=1, \n",
    "                          names = ['Cell', 'Cell Number', 'Area_label', 'Area'])\n",
    "    \n",
    "    df_tracked = pd.read_csv(Path2trackedAreas, delim_whitespace=True, skiprows=1, \n",
    "                             names = ['Cell', 'Cell Number', 'Area_label', 'Area'])\n",
    "    \n",
    "    ans = (df_tracked['Area'] - df_dcm0['Area'])/df_dcm0['Area']\n",
    "    \n",
    "    ans = ans.abs()\n",
    "    \n",
    "    ans.to_csv(os.path.dirname(Path2trackedAreas) + '/absolute-area-strains.csv', header=True)\n",
    "    \n",
    "    return ans"
   ]
  },
  {
   "cell_type": "code",
   "execution_count": 8,
   "metadata": {},
   "outputs": [],
   "source": [
    "dcm0_areas_path = \"/home/csi20local/Data/RG_CT_Cases/CT-CRT-05/dcm0/Manual/seg-smth-resample-clip-areas.txt\"\n",
    "tracked_areas_path = \"/home/csi20local/Data/RG_CT_Cases/CT-CRT-05/MT-HiRes/SW-3e-4-BE-1e-9/transformed-4-clip-areas.txt\""
   ]
  },
  {
   "cell_type": "code",
   "execution_count": 9,
   "metadata": {},
   "outputs": [
    {
     "data": {
      "text/plain": [
       "0         0.637069\n",
       "1         0.631657\n",
       "2         0.820300\n",
       "3         0.745185\n",
       "4         0.761539\n",
       "            ...   \n",
       "157152   -0.178764\n",
       "157153   -0.187529\n",
       "157154   -0.195500\n",
       "157155   -0.191010\n",
       "157156   -0.201515\n",
       "Name: Area, Length: 157157, dtype: float64"
      ]
     },
     "execution_count": 9,
     "metadata": {},
     "output_type": "execute_result"
    }
   ],
   "source": [
    "AreaStrain(dcm0_areas_path, tracked_areas_path)"
   ]
  },
  {
   "cell_type": "code",
   "execution_count": 10,
   "metadata": {},
   "outputs": [
    {
     "data": {
      "text/plain": [
       "0         0.637069\n",
       "1         0.631657\n",
       "2         0.820300\n",
       "3         0.745185\n",
       "4         0.761539\n",
       "            ...   \n",
       "157152    0.178764\n",
       "157153    0.187529\n",
       "157154    0.195500\n",
       "157155    0.191010\n",
       "157156    0.201515\n",
       "Name: Area, Length: 157157, dtype: float64"
      ]
     },
     "execution_count": 10,
     "metadata": {},
     "output_type": "execute_result"
    }
   ],
   "source": [
    "AbsoluteAreaStrain(dcm0_areas_path, tracked_areas_path)"
   ]
  },
  {
   "cell_type": "code",
   "execution_count": 12,
   "metadata": {},
   "outputs": [],
   "source": [
    "dcm0_areas_path_CRT06 = \"/home/csi20local/Data/RG_CT_Cases/CT-CRT-06/dcm0/Manual/seg-smth-resample-clip-areas.txt\"\n",
    "tracked_areas_path_CRT06 = \"/home/csi20local/Data/RG_CT_Cases/CT-CRT-06/MT-HiRes/SW-3e-4-BE-1e-9/transformed-4-clip-areas.txt\""
   ]
  },
  {
   "cell_type": "code",
   "execution_count": 15,
   "metadata": {},
   "outputs": [],
   "source": [
    "dcm0_areas_path_CRT07 = \"/home/csi20local/Data/RG_CT_Cases/CT-CRT-07/dcm0/Manual/seg-smth-resample-clip-areas.txt\"\n",
    "tracked_areas_path_CRT07 = \"/home/csi20local/Data/RG_CT_Cases/CT-CRT-07/MT-HiRes/SW-3e-4-BE-1e-9/transformed-4-clip-areas.txt\""
   ]
  },
  {
   "cell_type": "code",
   "execution_count": 13,
   "metadata": {},
   "outputs": [
    {
     "data": {
      "text/plain": [
       "0        0.109683\n",
       "1        0.110281\n",
       "2        0.101966\n",
       "3        0.103046\n",
       "4        0.115698\n",
       "           ...   \n",
       "96784    0.591388\n",
       "96785    0.135575\n",
       "96786    0.129859\n",
       "96787    0.165584\n",
       "96788    0.155546\n",
       "Name: Area, Length: 96789, dtype: float64"
      ]
     },
     "execution_count": 13,
     "metadata": {},
     "output_type": "execute_result"
    }
   ],
   "source": [
    "AreaStrain(dcm0_areas_path_CRT06, tracked_areas_path_CRT06)"
   ]
  },
  {
   "cell_type": "code",
   "execution_count": 16,
   "metadata": {},
   "outputs": [
    {
     "data": {
      "text/plain": [
       "0        0.421619\n",
       "1        0.329670\n",
       "2        0.362901\n",
       "3        0.290575\n",
       "4        0.440908\n",
       "           ...   \n",
       "85532    1.254572\n",
       "85533    0.149971\n",
       "85534    0.161250\n",
       "85535    0.141741\n",
       "85536    0.153422\n",
       "Name: Area, Length: 85537, dtype: float64"
      ]
     },
     "execution_count": 16,
     "metadata": {},
     "output_type": "execute_result"
    }
   ],
   "source": [
    "AreaStrain(dcm0_areas_path_CRT07, tracked_areas_path_CRT07)"
   ]
  },
  {
   "cell_type": "code",
   "execution_count": 14,
   "metadata": {},
   "outputs": [
    {
     "data": {
      "text/plain": [
       "0        0.109683\n",
       "1        0.110281\n",
       "2        0.101966\n",
       "3        0.103046\n",
       "4        0.115698\n",
       "           ...   \n",
       "96784    0.591388\n",
       "96785    0.135575\n",
       "96786    0.129859\n",
       "96787    0.165584\n",
       "96788    0.155546\n",
       "Name: Area, Length: 96789, dtype: float64"
      ]
     },
     "execution_count": 14,
     "metadata": {},
     "output_type": "execute_result"
    }
   ],
   "source": [
    "AbsoluteAreaStrain(dcm0_areas_path_CRT06, tracked_areas_path_CRT06)"
   ]
  },
  {
   "cell_type": "code",
   "execution_count": 17,
   "metadata": {},
   "outputs": [
    {
     "data": {
      "text/plain": [
       "0        0.421619\n",
       "1        0.329670\n",
       "2        0.362901\n",
       "3        0.290575\n",
       "4        0.440908\n",
       "           ...   \n",
       "85532    1.254572\n",
       "85533    0.149971\n",
       "85534    0.161250\n",
       "85535    0.141741\n",
       "85536    0.153422\n",
       "Name: Area, Length: 85537, dtype: float64"
      ]
     },
     "execution_count": 17,
     "metadata": {},
     "output_type": "execute_result"
    }
   ],
   "source": [
    "AbsoluteAreaStrain(dcm0_areas_path_CRT07, tracked_areas_path_CRT07)"
   ]
  },
  {
   "cell_type": "code",
   "execution_count": null,
   "metadata": {},
   "outputs": [],
   "source": []
  },
  {
   "cell_type": "code",
   "execution_count": 2,
   "metadata": {},
   "outputs": [],
   "source": [
    "Path2dcm0Areas = '/home/csi20local/Data/MarinaData/CT_Charlie/CT-CRT-02/dcm0/seg-smth-resample-clip-Area-Strain.txt'\n",
    "Path2trackedAreas = '/home/csi20local/Data/MarinaData/CT_Charlie/CT-CRT-02/MT/SW-0.0-BE-4e-7/transformed-4-clip-Area-Strain.txt'"
   ]
  },
  {
   "cell_type": "code",
   "execution_count": 5,
   "metadata": {},
   "outputs": [],
   "source": [
    "df_dcm0 = pd.read_csv(Path2dcm0Areas, delim_whitespace=True, skiprows=1, names = ['Cell', 'Cell Number', 'Ar', 'Area'])"
   ]
  },
  {
   "cell_type": "code",
   "execution_count": 6,
   "metadata": {},
   "outputs": [
    {
     "data": {
      "text/html": [
       "<div>\n",
       "<style scoped>\n",
       "    .dataframe tbody tr th:only-of-type {\n",
       "        vertical-align: middle;\n",
       "    }\n",
       "\n",
       "    .dataframe tbody tr th {\n",
       "        vertical-align: top;\n",
       "    }\n",
       "\n",
       "    .dataframe thead th {\n",
       "        text-align: right;\n",
       "    }\n",
       "</style>\n",
       "<table border=\"1\" class=\"dataframe\">\n",
       "  <thead>\n",
       "    <tr style=\"text-align: right;\">\n",
       "      <th></th>\n",
       "      <th>Cell</th>\n",
       "      <th>Cell Number</th>\n",
       "      <th>Ar</th>\n",
       "      <th>Area</th>\n",
       "    </tr>\n",
       "  </thead>\n",
       "  <tbody>\n",
       "    <tr>\n",
       "      <th>0</th>\n",
       "      <td>Cell</td>\n",
       "      <td>0</td>\n",
       "      <td>Area</td>\n",
       "      <td>0.052207</td>\n",
       "    </tr>\n",
       "    <tr>\n",
       "      <th>1</th>\n",
       "      <td>Cell</td>\n",
       "      <td>1</td>\n",
       "      <td>Area</td>\n",
       "      <td>0.055065</td>\n",
       "    </tr>\n",
       "    <tr>\n",
       "      <th>2</th>\n",
       "      <td>Cell</td>\n",
       "      <td>2</td>\n",
       "      <td>Area</td>\n",
       "      <td>0.063309</td>\n",
       "    </tr>\n",
       "    <tr>\n",
       "      <th>3</th>\n",
       "      <td>Cell</td>\n",
       "      <td>3</td>\n",
       "      <td>Area</td>\n",
       "      <td>0.105385</td>\n",
       "    </tr>\n",
       "    <tr>\n",
       "      <th>4</th>\n",
       "      <td>Cell</td>\n",
       "      <td>4</td>\n",
       "      <td>Area</td>\n",
       "      <td>0.077453</td>\n",
       "    </tr>\n",
       "    <tr>\n",
       "      <th>...</th>\n",
       "      <td>...</td>\n",
       "      <td>...</td>\n",
       "      <td>...</td>\n",
       "      <td>...</td>\n",
       "    </tr>\n",
       "    <tr>\n",
       "      <th>171913</th>\n",
       "      <td>Cell</td>\n",
       "      <td>171913</td>\n",
       "      <td>Area</td>\n",
       "      <td>0.057014</td>\n",
       "    </tr>\n",
       "    <tr>\n",
       "      <th>171914</th>\n",
       "      <td>Cell</td>\n",
       "      <td>171914</td>\n",
       "      <td>Area</td>\n",
       "      <td>0.048518</td>\n",
       "    </tr>\n",
       "    <tr>\n",
       "      <th>171915</th>\n",
       "      <td>Cell</td>\n",
       "      <td>171915</td>\n",
       "      <td>Area</td>\n",
       "      <td>0.049272</td>\n",
       "    </tr>\n",
       "    <tr>\n",
       "      <th>171916</th>\n",
       "      <td>Cell</td>\n",
       "      <td>171916</td>\n",
       "      <td>Area</td>\n",
       "      <td>0.047007</td>\n",
       "    </tr>\n",
       "    <tr>\n",
       "      <th>171917</th>\n",
       "      <td>Cell</td>\n",
       "      <td>171917</td>\n",
       "      <td>Area</td>\n",
       "      <td>0.047583</td>\n",
       "    </tr>\n",
       "  </tbody>\n",
       "</table>\n",
       "<p>171918 rows × 4 columns</p>\n",
       "</div>"
      ],
      "text/plain": [
       "        Cell  Cell Number    Ar      Area\n",
       "0       Cell            0  Area  0.052207\n",
       "1       Cell            1  Area  0.055065\n",
       "2       Cell            2  Area  0.063309\n",
       "3       Cell            3  Area  0.105385\n",
       "4       Cell            4  Area  0.077453\n",
       "...      ...          ...   ...       ...\n",
       "171913  Cell       171913  Area  0.057014\n",
       "171914  Cell       171914  Area  0.048518\n",
       "171915  Cell       171915  Area  0.049272\n",
       "171916  Cell       171916  Area  0.047007\n",
       "171917  Cell       171917  Area  0.047583\n",
       "\n",
       "[171918 rows x 4 columns]"
      ]
     },
     "execution_count": 6,
     "metadata": {},
     "output_type": "execute_result"
    }
   ],
   "source": [
    "df_dcm0"
   ]
  },
  {
   "cell_type": "code",
   "execution_count": 7,
   "metadata": {},
   "outputs": [],
   "source": [
    "df_tracked = pd.read_csv(Path2trackedAreas, delim_whitespace=True, skiprows=1, names = ['Cell', 'Cell Number', 'Ar', 'Area'])"
   ]
  },
  {
   "cell_type": "code",
   "execution_count": 8,
   "metadata": {},
   "outputs": [
    {
     "data": {
      "text/html": [
       "<div>\n",
       "<style scoped>\n",
       "    .dataframe tbody tr th:only-of-type {\n",
       "        vertical-align: middle;\n",
       "    }\n",
       "\n",
       "    .dataframe tbody tr th {\n",
       "        vertical-align: top;\n",
       "    }\n",
       "\n",
       "    .dataframe thead th {\n",
       "        text-align: right;\n",
       "    }\n",
       "</style>\n",
       "<table border=\"1\" class=\"dataframe\">\n",
       "  <thead>\n",
       "    <tr style=\"text-align: right;\">\n",
       "      <th></th>\n",
       "      <th>Cell</th>\n",
       "      <th>Cell Number</th>\n",
       "      <th>Ar</th>\n",
       "      <th>Area</th>\n",
       "    </tr>\n",
       "  </thead>\n",
       "  <tbody>\n",
       "    <tr>\n",
       "      <th>0</th>\n",
       "      <td>Cell</td>\n",
       "      <td>0</td>\n",
       "      <td>Area</td>\n",
       "      <td>0.064456</td>\n",
       "    </tr>\n",
       "    <tr>\n",
       "      <th>1</th>\n",
       "      <td>Cell</td>\n",
       "      <td>1</td>\n",
       "      <td>Area</td>\n",
       "      <td>0.068032</td>\n",
       "    </tr>\n",
       "    <tr>\n",
       "      <th>2</th>\n",
       "      <td>Cell</td>\n",
       "      <td>2</td>\n",
       "      <td>Area</td>\n",
       "      <td>0.077553</td>\n",
       "    </tr>\n",
       "    <tr>\n",
       "      <th>3</th>\n",
       "      <td>Cell</td>\n",
       "      <td>3</td>\n",
       "      <td>Area</td>\n",
       "      <td>0.128332</td>\n",
       "    </tr>\n",
       "    <tr>\n",
       "      <th>4</th>\n",
       "      <td>Cell</td>\n",
       "      <td>4</td>\n",
       "      <td>Area</td>\n",
       "      <td>0.095056</td>\n",
       "    </tr>\n",
       "    <tr>\n",
       "      <th>...</th>\n",
       "      <td>...</td>\n",
       "      <td>...</td>\n",
       "      <td>...</td>\n",
       "      <td>...</td>\n",
       "    </tr>\n",
       "    <tr>\n",
       "      <th>171913</th>\n",
       "      <td>Cell</td>\n",
       "      <td>171913</td>\n",
       "      <td>Area</td>\n",
       "      <td>0.083062</td>\n",
       "    </tr>\n",
       "    <tr>\n",
       "      <th>171914</th>\n",
       "      <td>Cell</td>\n",
       "      <td>171914</td>\n",
       "      <td>Area</td>\n",
       "      <td>0.047192</td>\n",
       "    </tr>\n",
       "    <tr>\n",
       "      <th>171915</th>\n",
       "      <td>Cell</td>\n",
       "      <td>171915</td>\n",
       "      <td>Area</td>\n",
       "      <td>0.047739</td>\n",
       "    </tr>\n",
       "    <tr>\n",
       "      <th>171916</th>\n",
       "      <td>Cell</td>\n",
       "      <td>171916</td>\n",
       "      <td>Area</td>\n",
       "      <td>0.045664</td>\n",
       "    </tr>\n",
       "    <tr>\n",
       "      <th>171917</th>\n",
       "      <td>Cell</td>\n",
       "      <td>171917</td>\n",
       "      <td>Area</td>\n",
       "      <td>0.046049</td>\n",
       "    </tr>\n",
       "  </tbody>\n",
       "</table>\n",
       "<p>171918 rows × 4 columns</p>\n",
       "</div>"
      ],
      "text/plain": [
       "        Cell  Cell Number    Ar      Area\n",
       "0       Cell            0  Area  0.064456\n",
       "1       Cell            1  Area  0.068032\n",
       "2       Cell            2  Area  0.077553\n",
       "3       Cell            3  Area  0.128332\n",
       "4       Cell            4  Area  0.095056\n",
       "...      ...          ...   ...       ...\n",
       "171913  Cell       171913  Area  0.083062\n",
       "171914  Cell       171914  Area  0.047192\n",
       "171915  Cell       171915  Area  0.047739\n",
       "171916  Cell       171916  Area  0.045664\n",
       "171917  Cell       171917  Area  0.046049\n",
       "\n",
       "[171918 rows x 4 columns]"
      ]
     },
     "execution_count": 8,
     "metadata": {},
     "output_type": "execute_result"
    }
   ],
   "source": [
    "df_tracked"
   ]
  },
  {
   "cell_type": "code",
   "execution_count": 15,
   "metadata": {},
   "outputs": [],
   "source": [
    "ans = (df_tracked['Area'] - df_dcm0['Area'])/df_dcm0['Area'] * 100"
   ]
  },
  {
   "cell_type": "code",
   "execution_count": 17,
   "metadata": {},
   "outputs": [
    {
     "data": {
      "text/plain": [
       "pandas.core.series.Series"
      ]
     },
     "execution_count": 17,
     "metadata": {},
     "output_type": "execute_result"
    }
   ],
   "source": [
    "type(ans)"
   ]
  },
  {
   "cell_type": "code",
   "execution_count": 21,
   "metadata": {},
   "outputs": [
    {
     "name": "stdout",
     "output_type": "stream",
     "text": [
      "0         23.461042\n",
      "1         23.548352\n",
      "2         22.499961\n",
      "3         21.774446\n",
      "4         22.728353\n",
      "            ...    \n",
      "171913    45.686243\n",
      "171914    -2.734014\n",
      "171915    -3.109899\n",
      "171916    -2.858273\n",
      "171917    -3.222796\n",
      "Name: Area, Length: 171918, dtype: float64\n"
     ]
    }
   ],
   "source": [
    "print(ans)"
   ]
  },
  {
   "cell_type": "code",
   "execution_count": 22,
   "metadata": {},
   "outputs": [],
   "source": [
    "def PercentageAreaChange(Path2OriginalMesh, Path2TrackedMesh):\n",
    "    \n",
    "    df_dcm0 = pd.read_csv(Path2OriginalMesh, delim_whitespace=True, skiprows=1, \n",
    "                          names = ['Cell', 'Cell Number', 'Ar', 'Area'])\n",
    "    \n",
    "    df_tracked = pd.read_csv(Path2TrackedMesh, delim_whitespace=True, skiprows=1, \n",
    "                             names = ['Cell', 'Cell Number', 'Ar', 'Area'])\n",
    "    \n",
    "    ans = (df_tracked['Area'] - df_dcm0['Area'])/df_dcm0['Area'] * 100\n",
    "    \n",
    "    return ans"
   ]
  },
  {
   "cell_type": "code",
   "execution_count": 37,
   "metadata": {},
   "outputs": [
    {
     "data": {
      "text/plain": [
       "array([23.46104192, 23.54835195, 22.49996051, ..., -3.10989879,\n",
       "       -2.85827338, -3.22279642])"
      ]
     },
     "execution_count": 37,
     "metadata": {},
     "output_type": "execute_result"
    }
   ],
   "source": [
    "PercentageAreaChange(Path2dcm0Areas, Path2trackedAreas).to_numpy()"
   ]
  },
  {
   "cell_type": "code",
   "execution_count": 36,
   "metadata": {},
   "outputs": [],
   "source": [
    "SW0_0BE4_8 = PercentageAreaChange(Path2dcm0Areas, \n",
    "                                '/home/csi20local/Data/MarinaData/CT_Charlie/CT-CRT-02/MT/SW-0.0-BE-4e-8/transformed-4-clip-Area-Strain.txt')\n",
    "\n",
    "SW9_2BE4_8 = PercentageAreaChange(Path2dcm0Areas, \n",
    "                                '/home/csi20local/Data/MarinaData/CT_Charlie/CT-CRT-02/MT/SW-9e-2-BE-4e-8/transformed-4-clip-Area-Strain.txt')\n",
    "\n",
    "SW9_3BE4_8 = PercentageAreaChange(Path2dcm0Areas, \n",
    "                                '/home/csi20local/Data/MarinaData/CT_Charlie/CT-CRT-02/MT/SW-9e-3-BE-4e-8/transformed-4-clip-Area-Strain.txt')\n",
    "\n",
    "SW9_4BE4_8 = PercentageAreaChange(Path2dcm0Areas, \n",
    "                                '/home/csi20local/Data/MarinaData/CT_Charlie/CT-CRT-02/MT/SW-9e-4-BE-4e-8/transformed-4-clip-Area-Strain.txt')"
   ]
  },
  {
   "cell_type": "code",
   "execution_count": 49,
   "metadata": {},
   "outputs": [],
   "source": [
    "a = PercentageAreaChange(Path2dcm0Areas, \n",
    "                                '/home/csi20local/Data/MarinaData/CT_Charlie/CT-CRT-02/MT/SW-9e-2-BE-4e-6/transformed-4-clip-Area-Strain.txt')\n",
    "\n",
    "b = PercentageAreaChange(Path2dcm0Areas, \n",
    "                                '/home/csi20local/Data/MarinaData/CT_Charlie/CT-CRT-02/MT/SW-9e-2-BE-1e-6/transformed-4-clip-Area-Strain.txt')\n",
    "\n",
    "c = PercentageAreaChange(Path2dcm0Areas, \n",
    "                                '/home/csi20local/Data/MarinaData/CT_Charlie/CT-CRT-02/MT/SW-9e-2-BE-4e-7/transformed-4-clip-Area-Strain.txt')\n",
    "\n",
    "d = PercentageAreaChange(Path2dcm0Areas, \n",
    "                                '/home/csi20local/Data/MarinaData/CT_Charlie/CT-CRT-02/MT/SW-9e-2-BE-1e-7/transformed-4-clip-Area-Strain.txt')"
   ]
  },
  {
   "cell_type": "code",
   "execution_count": 50,
   "metadata": {},
   "outputs": [
    {
     "ename": "AttributeError",
     "evalue": "'numpy.ndarray' object has no attribute 'to_numpy'",
     "output_type": "error",
     "traceback": [
      "\u001b[0;31m---------------------------------------------------------------------------\u001b[0m",
      "\u001b[0;31mAttributeError\u001b[0m                            Traceback (most recent call last)",
      "\u001b[0;32m<ipython-input-50-2d0cb8eb5420>\u001b[0m in \u001b[0;36m<module>\u001b[0;34m\u001b[0m\n\u001b[0;32m----> 1\u001b[0;31m \u001b[0mSW0_0BE4_8\u001b[0m \u001b[0;34m=\u001b[0m \u001b[0mSW0_0BE4_8\u001b[0m\u001b[0;34m.\u001b[0m\u001b[0mto_numpy\u001b[0m\u001b[0;34m(\u001b[0m\u001b[0;34m)\u001b[0m\u001b[0;34m\u001b[0m\u001b[0;34m\u001b[0m\u001b[0m\n\u001b[0m\u001b[1;32m      2\u001b[0m \u001b[0mSW9_2BE4_8\u001b[0m \u001b[0;34m=\u001b[0m \u001b[0mSW9_2BE4_8\u001b[0m\u001b[0;34m.\u001b[0m\u001b[0mto_numpy\u001b[0m\u001b[0;34m(\u001b[0m\u001b[0;34m)\u001b[0m\u001b[0;34m\u001b[0m\u001b[0;34m\u001b[0m\u001b[0m\n\u001b[1;32m      3\u001b[0m \u001b[0mSW9_3BE4_8\u001b[0m \u001b[0;34m=\u001b[0m \u001b[0mSW9_3BE4_8\u001b[0m\u001b[0;34m.\u001b[0m\u001b[0mto_numpy\u001b[0m\u001b[0;34m(\u001b[0m\u001b[0;34m)\u001b[0m\u001b[0;34m\u001b[0m\u001b[0;34m\u001b[0m\u001b[0m\n\u001b[1;32m      4\u001b[0m \u001b[0mSW9_4BE4_8\u001b[0m \u001b[0;34m=\u001b[0m \u001b[0mSW9_4BE4_8\u001b[0m\u001b[0;34m.\u001b[0m\u001b[0mto_numpy\u001b[0m\u001b[0;34m(\u001b[0m\u001b[0;34m)\u001b[0m\u001b[0;34m\u001b[0m\u001b[0;34m\u001b[0m\u001b[0m\n\u001b[1;32m      5\u001b[0m \u001b[0;34m\u001b[0m\u001b[0m\n",
      "\u001b[0;31mAttributeError\u001b[0m: 'numpy.ndarray' object has no attribute 'to_numpy'"
     ]
    }
   ],
   "source": [
    "SW0_0BE4_8 = SW0_0BE4_8.to_numpy()\n",
    "SW9_2BE4_8 = SW9_2BE4_8.to_numpy()\n",
    "SW9_3BE4_8 = SW9_3BE4_8.to_numpy()\n",
    "SW9_4BE4_8 = SW9_4BE4_8.to_numpy()\n",
    "\n"
   ]
  },
  {
   "cell_type": "code",
   "execution_count": 51,
   "metadata": {},
   "outputs": [],
   "source": [
    "a = a.to_numpy() \n",
    "b = b.to_numpy()\n",
    "c = c.to_numpy()\n",
    "d = d.to_numpy()"
   ]
  },
  {
   "cell_type": "code",
   "execution_count": 52,
   "metadata": {},
   "outputs": [
    {
     "data": {
      "text/plain": [
       "[Text(1, 0, 'SW 0.0 BE 4e-8'),\n",
       " Text(2, 0, 'SW 9e-4 BE 4e-8'),\n",
       " Text(3, 0, 'SW 9e-3 BE 4e-8'),\n",
       " Text(4, 0, 'SW 9e-2 BE 4e-8'),\n",
       " Text(5, 0, 'a'),\n",
       " Text(6, 0, 'b'),\n",
       " Text(7, 0, 'c'),\n",
       " Text(8, 0, 'd')]"
      ]
     },
     "execution_count": 52,
     "metadata": {},
     "output_type": "execute_result"
    },
    {
     "data": {
      "image/png": "[encoded data removed]",
      "text/plain": [
       "<Figure size 2700x900 with 1 Axes>"
      ]
     },
     "metadata": {
      "needs_background": "light"
     },
     "output_type": "display_data"
    }
   ],
   "source": [
    "fig, (ax) = plt.subplots(1, 1, figsize=(18,6), dpi=150)\n",
    "\n",
    "data = [SW0_0BE4_8, SW9_4BE4_8, SW9_3BE4_8, SW9_2BE4_8,\n",
    "       a, b, c, d]\n",
    "\n",
    "ax.boxplot(data, whis=(0,100))\n",
    "\n",
    "ax.set_xticks([1,2,3,4,5,6,7,8])\n",
    "ax.set_xticklabels(['SW 0.0 BE 4e-8', 'SW 9e-4 BE 4e-8', 'SW 9e-3 BE 4e-8', 'SW 9e-2 BE 4e-8',\n",
    "                   'a', 'b', 'c', 'd'])\n",
    "\n"
   ]
  },
  {
   "cell_type": "code",
   "execution_count": null,
   "metadata": {},
   "outputs": [],
   "source": [
    "## Make horizontal boxplots, 1st top half is 1st CP resolutions with different BE and SWs\n",
    "\n",
    "## Bottom half is 2nd CP resolutions with different BE and SWs\n",
    "\n"
   ]
  }
 ],
 "metadata": {
  "kernelspec": {
   "display_name": "Python 3 (ipykernel)",
   "language": "python",
   "name": "python3"
  },
  "language_info": {
   "codemirror_mode": {
    "name": "ipython",
    "version": 3
   },
   "file_extension": ".py",
   "mimetype": "text/x-python",
   "name": "python",
   "nbconvert_exporter": "python",
   "pygments_lexer": "ipython3",
   "version": "3.9.7"
  }
 },
 "nbformat": 4,
 "nbformat_minor": 2
}
