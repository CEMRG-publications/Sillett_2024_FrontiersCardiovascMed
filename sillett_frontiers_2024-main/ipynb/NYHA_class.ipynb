{
 "cells": [
  {
   "cell_type": "markdown",
   "id": "4c62375b",
   "metadata": {},
   "source": [
    "This notebook is for exploring the indication LA strain could give NYHA class\n",
    "\n",
    "LA strains were not significantly associated with NYHA class in our dataset, where the cases had NYHA labels"
   ]
  },
  {
   "cell_type": "code",
   "execution_count": 2,
   "id": "c7421cd6",
   "metadata": {},
   "outputs": [],
   "source": [
    "import numpy as np\n",
    "import matplotlib.pyplot as plt\n",
    "from scipy import stats\n",
    "from hrs_23_figures import *"
   ]
  },
  {
   "cell_type": "code",
   "execution_count": 3,
   "id": "1d08cb1b",
   "metadata": {},
   "outputs": [],
   "source": [
    "class2_cases = [\"01\", \"09\", \"12\", \"14\", \"16\", \"19\", \"23\"]\n",
    "class2_cases = [f\"CT-CRT/case{i}\" for i in class2_cases]"
   ]
  },
  {
   "cell_type": "code",
   "execution_count": 7,
   "id": "e117b0e2",
   "metadata": {},
   "outputs": [],
   "source": [
    "class3_cases = [\"02\", \"05\", \"06\", \"07\", \"08\", \"10\", \"15\", \"17\", \"18\", \"20\", \"25\", \"29\"]\n",
    "class3_cases = [f\"CT-CRT/case{i}\" for i in class3_cases]\n",
    "class3_cases = class3_cases + ebr"
   ]
  },
  {
   "cell_type": "code",
   "execution_count": 8,
   "id": "6f26d4b6",
   "metadata": {},
   "outputs": [],
   "source": [
    "## N_cases X regions X strain_type\n",
    "class2_strains = np.zeros((len(class2_cases), 6, 2))\n",
    "class3_strains = np.zeros((len(class3_cases), 6, 2))"
   ]
  },
  {
   "cell_type": "code",
   "execution_count": 10,
   "id": "b0b32b26",
   "metadata": {},
   "outputs": [],
   "source": [
    "regions = [\"global\", \"roof\", \"sept\", \"lat\", \"ant\", \"post\"]"
   ]
  },
  {
   "cell_type": "code",
   "execution_count": 13,
   "id": "6335ad7f",
   "metadata": {},
   "outputs": [],
   "source": [
    "for i in range(0, len(class2_cases)):\n",
    "    case = class2_cases[i]\n",
    "    \n",
    "    for j in range(0, len(regions)):\n",
    "        region = regions[j]\n",
    "        \n",
    "        class2_strains[i, j, 0] = area_strain_range(case=case, strain_type='area', region=region)\n",
    "        class2_strains[i, j, 1] = fibre_strain_range(case=case, fibre_arch='endo_avg', region=region, component=0)"
   ]
  },
  {
   "cell_type": "code",
   "execution_count": 14,
   "id": "b064f556",
   "metadata": {},
   "outputs": [],
   "source": [
    "for i in range(0, len(class3_cases)):\n",
    "    case = class3_cases[i]\n",
    "    \n",
    "    for j in range(0, len(regions)):\n",
    "        region = regions[j]\n",
    "        \n",
    "        class3_strains[i, j, 0] = area_strain_range(case=case, strain_type='area', region=region)\n",
    "        class3_strains[i, j, 1] = fibre_strain_range(case=case, fibre_arch='endo_avg', region=region, component=0)"
   ]
  },
  {
   "cell_type": "code",
   "execution_count": 18,
   "id": "6c3c6456",
   "metadata": {},
   "outputs": [
    {
     "name": "stdout",
     "output_type": "stream",
     "text": [
      "global\n",
      "Ttest_indResult(statistic=-1.289727923658014, pvalue=0.21262380204053533)\n",
      "roof\n",
      "Ttest_indResult(statistic=-0.5714881525368609, pvalue=0.5743677855306766)\n",
      "sept\n",
      "Ttest_indResult(statistic=-1.4841271582666733, pvalue=0.1541760688324738)\n",
      "lat\n",
      "Ttest_indResult(statistic=-0.19309699794088703, pvalue=0.848932179044064)\n",
      "ant\n",
      "Ttest_indResult(statistic=-1.4092112568405593, pvalue=0.17492994172176)\n",
      "post\n",
      "Ttest_indResult(statistic=-1.1256574941510158, pvalue=0.2743290382485149)\n"
     ]
    }
   ],
   "source": [
    "## p values\n",
    "\n",
    "for i in range(0, len(regions)):\n",
    "    print(regions[i])\n",
    "    result = stats.ttest_ind(class2_strains[:, i, 0], class3_strains[:, i, 0])\n",
    "    \n",
    "    print(result)"
   ]
  },
  {
   "cell_type": "code",
   "execution_count": 19,
   "id": "078c63e7",
   "metadata": {},
   "outputs": [
    {
     "name": "stdout",
     "output_type": "stream",
     "text": [
      "global\n",
      "Ttest_indResult(statistic=-0.8416146478573884, pvalue=0.4104719440463347)\n",
      "roof\n",
      "Ttest_indResult(statistic=-0.03686038449986252, pvalue=0.9709808530315849)\n",
      "sept\n",
      "Ttest_indResult(statistic=-0.7587071783362941, pvalue=0.4573371307920099)\n",
      "lat\n",
      "Ttest_indResult(statistic=-0.6483961854909877, pvalue=0.5244884129925147)\n",
      "ant\n",
      "Ttest_indResult(statistic=-0.9377776404448699, pvalue=0.3601274690856674)\n",
      "post\n",
      "Ttest_indResult(statistic=-0.9699681431659382, pvalue=0.34424905388449634)\n"
     ]
    }
   ],
   "source": [
    "## p values\n",
    "\n",
    "for i in range(0, len(regions)):\n",
    "    print(regions[i])\n",
    "    result = stats.ttest_ind(class2_strains[:, i, 1], class3_strains[:, i, 1])\n",
    "    \n",
    "    print(result)"
   ]
  }
 ],
 "metadata": {
  "kernelspec": {
   "display_name": "vtk",
   "language": "python",
   "name": "vtk"
  },
  "language_info": {
   "codemirror_mode": {
    "name": "ipython",
    "version": 3
   },
   "file_extension": ".py",
   "mimetype": "text/x-python",
   "name": "python",
   "nbconvert_exporter": "python",
   "pygments_lexer": "ipython3",
   "version": "3.9.7"
  }
 },
 "nbformat": 4,
 "nbformat_minor": 5
}
