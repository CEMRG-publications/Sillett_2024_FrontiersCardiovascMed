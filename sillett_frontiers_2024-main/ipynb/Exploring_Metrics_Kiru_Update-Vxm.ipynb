{
 "cells": [
  {
   "cell_type": "markdown",
   "id": "b1093fb9",
   "metadata": {},
   "source": [
    "# Update: 3rd July using VoxelMorph with Kiru Demographics\n",
    "\n",
    "## Exploring Biomarkers for Paper 1\n",
    "    \n",
    " * __Time Dysnchrony__: over how many time frames does the peak regional reservoir strain spread?\n",
    " * __Normalised Regional Reservoir Strain wrt Global average__:\n",
    "     * Each regional reservoir strain is given as percentage wrt global average "
   ]
  },
  {
   "cell_type": "code",
   "execution_count": null,
   "id": "80dc7d83",
   "metadata": {},
   "outputs": [],
   "source": [
    "import numpy as np\n",
    "import matplotlib.pyplot as plt\n",
    "from scipy import stats\n",
    "import seaborn as sns\n",
    "from matplotlib.patches import Patch\n",
    "\n",
    "from hrs_23_figures import *"
   ]
  },
  {
   "cell_type": "code",
   "execution_count": null,
   "id": "611eeb58",
   "metadata": {},
   "outputs": [],
   "source": [
    "regions = [\"Global\", \"Post\", \"Septum\", \"Lat\", \"Ant\", \"Inf\"]\n",
    "regions = ['global', 'roof', 'sept', 'lat', 'ant', 'post']\n",
    "\n",
    "regions_v2 = ['global', 'post', 'sept', 'lat', 'ant', 'inf']"
   ]
  },
  {
   "cell_type": "code",
   "execution_count": null,
   "id": "44575a7d",
   "metadata": {},
   "outputs": [],
   "source": [
    "len(nonaf_cases)"
   ]
  },
  {
   "cell_type": "code",
   "execution_count": null,
   "id": "72e87fa1",
   "metadata": {},
   "outputs": [],
   "source": [
    "len(af_cases)"
   ]
  },
  {
   "cell_type": "markdown",
   "id": "939847dc",
   "metadata": {},
   "source": [
    "# Time Desynchrony"
   ]
  },
  {
   "cell_type": "code",
   "execution_count": null,
   "id": "4fe6c20f",
   "metadata": {},
   "outputs": [],
   "source": [
    "path=\"/home/csi20/Dropbox/phd/Data/kiru_demographics_df_omitAFimaging.csv\""
   ]
  },
  {
   "cell_type": "code",
   "execution_count": null,
   "id": "a115fa2f",
   "metadata": {},
   "outputs": [],
   "source": [
    "cases_df = pd.read_csv(path)\n",
    "cases_df.shape"
   ]
  },
  {
   "cell_type": "code",
   "execution_count": null,
   "id": "dda7906c",
   "metadata": {},
   "outputs": [],
   "source": [
    "cases_df.loc[cases_df['Case'] == \"CT-CRT/case05\"].iloc[0]['area_global']"
   ]
  },
  {
   "cell_type": "code",
   "execution_count": null,
   "id": "e1db9dbd",
   "metadata": {},
   "outputs": [],
   "source": [
    "regions"
   ]
  },
  {
   "cell_type": "code",
   "execution_count": null,
   "id": "ca927ec8",
   "metadata": {},
   "outputs": [],
   "source": [
    "## Load area strains for nonAF cases\n",
    "\n",
    "dataPath = \"/home/csi20local/Data/RG_CT_Cases\"\n",
    "dataPath = \"/home/csi20/Dropbox/phd/Data/RG_CT_Cases\"\n",
    "\n",
    "## N_strain_type, N_cases, N_regions, N_time_frames\n",
    "## The below contains strain transients over 10 frames for area, fibre and cross-fibre strains (1st index)\n",
    "## Each of cases (2nd ind)\n",
    "## Each region (3rd ind)\n",
    "## Each time frame (4th ind)\n",
    "nonaf_strains = np.zeros((3, len(nonaf_cases), 6, 10))\n",
    "\n",
    "for j in range(0, len(nonaf_cases)):\n",
    "    case = nonaf_cases[j]\n",
    "    \n",
    "    if case in test_fold1:\n",
    "        filepath=f'{DataPath}/{case}/Vxm/30_case/opt_train/train_fold1/lambda_20e-2_lr3e-4'\n",
    "    \n",
    "    elif case in test_fold2:\n",
    "        filepath=f'{DataPath}/{case}/Vxm/30_case/opt_train/train_fold2/lambda_20e-2_lr3e-4'\n",
    "\n",
    "    elif case in test_fold3:\n",
    "        filepath=f'{DataPath}/{case}/Vxm/30_case/opt_train/train_fold3/lambda_20e-2_lr3e-4'\n",
    "\n",
    "    elif case in test_fold4:\n",
    "        filepath=f'{DataPath}/{case}/Vxm/30_case/opt_train/train_fold4/lambda_20e-2_lr3e-4'\n",
    "\n",
    "    elif case in test_fold5:\n",
    "        filepath=f'{DataPath}/{case}/Vxm/30_case/opt_train/train_fold5/lambda_20e-2_lr3e-4'\n",
    "\n",
    "    elif case in test_fold6:\n",
    "        filepath=f'{DataPath}/{case}/Vxm/30_case/opt_train/train_fold6/lambda_20e-2_lr3e-4'\n",
    "\n",
    "    elif case in new_cases:\n",
    "        filepath=f'{DataPath}/{case}/Vxm'\n",
    "        \n",
    "    for i in range(0, len(regions)):\n",
    "        region=regions[i]\n",
    "\n",
    "        nonaf_strains[0, j, i, :] = np.loadtxt(f\"{filepath}/area_meanstrains_{region}_excl_PVs.txt\")\n",
    "        nonaf_strains[1, j, i, :] = np.loadtxt(f\"{filepath}/endo_avg_excl_PVs_meanstrains_{region}.txt\")[0]\n",
    "        nonaf_strains[2, j, i, :] = np.loadtxt(f\"{filepath}/endo_avg_excl_PVs_meanstrains_{region}.txt\")[1]\n",
    "        "
   ]
  },
  {
   "cell_type": "code",
   "execution_count": null,
   "id": "529295de",
   "metadata": {},
   "outputs": [],
   "source": [
    "## Load area strains for AF cases\n",
    "\n",
    "dataPath = \"/home/csi20local/Data/RG_CT_Cases\"\n",
    "dataPath = \"/home/csi20/Dropbox/phd/Data/RG_CT_Cases\"\n",
    "\n",
    "af_strains = np.zeros((3, len(af_cases), 6, 10))\n",
    "\n",
    "for j in range(0, len(af_cases)):\n",
    "    case = af_cases[j]\n",
    "    \n",
    "    if case in test_fold1:\n",
    "        filepath=f'{DataPath}/{case}/Vxm/30_case/opt_train/train_fold1/lambda_20e-2_lr3e-4'\n",
    "    \n",
    "    elif case in test_fold2:\n",
    "        filepath=f'{DataPath}/{case}/Vxm/30_case/opt_train/train_fold2/lambda_20e-2_lr3e-4'\n",
    "\n",
    "    elif case in test_fold3:\n",
    "        filepath=f'{DataPath}/{case}/Vxm/30_case/opt_train/train_fold3/lambda_20e-2_lr3e-4'\n",
    "\n",
    "    elif case in test_fold4:\n",
    "        filepath=f'{DataPath}/{case}/Vxm/30_case/opt_train/train_fold4/lambda_20e-2_lr3e-4'\n",
    "\n",
    "    elif case in test_fold5:\n",
    "        filepath=f'{DataPath}/{case}/Vxm/30_case/opt_train/train_fold5/lambda_20e-2_lr3e-4'\n",
    "\n",
    "    elif case in test_fold6:\n",
    "        filepath=f'{DataPath}/{case}/Vxm/30_case/opt_train/train_fold6/lambda_20e-2_lr3e-4'\n",
    "\n",
    "    elif case in new_cases:\n",
    "        filepath=f'{DataPath}/{case}/Vxm'\n",
    "    \n",
    "    for i in range(0, len(regions)):\n",
    "        region = regions[i]\n",
    "        \n",
    "        af_strains[0, j, i, :] = np.loadtxt(f\"{filepath}/area_meanstrains_{region}_excl_PVs.txt\")\n",
    "        af_strains[1, j, i, :] = np.loadtxt(f\"{filepath}/endo_avg_excl_PVs_meanstrains_{region}.txt\")[0]\n",
    "        af_strains[2, j, i, :] = np.loadtxt(f\"{filepath}/endo_avg_excl_PVs_meanstrains_{region}.txt\")[1]\n",
    "        "
   ]
  },
  {
   "cell_type": "code",
   "execution_count": null,
   "id": "4528d48e",
   "metadata": {},
   "outputs": [],
   "source": [
    "## the below gives delta T\n",
    "t_dys_nonaf = nonaf_strains[:, :, 1:, :].argmax(axis=3).ptp(axis=2)\n",
    "t_dys_nonaf"
   ]
  },
  {
   "cell_type": "code",
   "execution_count": null,
   "id": "4b67ef29",
   "metadata": {},
   "outputs": [],
   "source": [
    "## the below gives delta T\n",
    "t_dys_af = af_strains[:, :, 1:, :].argmax(axis=3).ptp(axis=2)\n",
    "t_dys_af"
   ]
  },
  {
   "cell_type": "code",
   "execution_count": null,
   "id": "e41ebff6",
   "metadata": {},
   "outputs": [],
   "source": [
    "## Testing for statistical significance for each of three strain metrics DELTA T\n",
    "\n",
    "result_area = stats.ttest_ind(t_dys_af[0, :], t_dys_nonaf[0, :])\n",
    "result_f1 = stats.ttest_ind(t_dys_af[1, :], t_dys_nonaf[1, :])\n",
    "result_f2 = stats.ttest_ind(t_dys_af[2, :], t_dys_nonaf[2, :])\n",
    "\n",
    "print(\"Area strain: \", result_area)\n",
    "print(\"f1 strain: \", result_f1)\n",
    "print(\"f2 strain: \", result_f2)"
   ]
  },
  {
   "cell_type": "code",
   "execution_count": null,
   "id": "0d58746d",
   "metadata": {},
   "outputs": [],
   "source": [
    "print(\"non-AF delta T\\t\", f\"{t_dys_nonaf[0, :].mean()} pm {t_dys_nonaf[0, :].std()}\")\n",
    "print(\"AF delta T\\t\", f\"{t_dys_af[0, :].mean()} pm {t_dys_af[0, :].std()}\")"
   ]
  },
  {
   "cell_type": "code",
   "execution_count": null,
   "id": "dbb86a36",
   "metadata": {},
   "outputs": [],
   "source": [
    "print(\"area delta T\")\n",
    "print(\"non-AF median: \", np.median(t_dys_nonaf[0, :]))\n",
    "print(\"AF median: \", np.median(t_dys_af[0, :]))\n",
    "\n",
    "print(\"\\nf1 delta T\")\n",
    "print(\"non-AF median: \", np.median(t_dys_nonaf[1, :]))\n",
    "print(\"AF median: \", np.median(t_dys_af[1, :]))\n",
    "\n",
    "print(\"\\nf2 delta T\")\n",
    "print(\"non-AF median: \", np.median(t_dys_nonaf[2, :]))\n",
    "print(\"AF median: \", np.median(t_dys_af[2, :]))"
   ]
  },
  {
   "cell_type": "code",
   "execution_count": null,
   "id": "c2ca9f17",
   "metadata": {},
   "outputs": [],
   "source": [
    "np.percentile(t_dys_af[0], 25)"
   ]
  },
  {
   "cell_type": "code",
   "execution_count": null,
   "id": "a13e6a93",
   "metadata": {
    "scrolled": true
   },
   "outputs": [],
   "source": [
    "t_dys_non"
   ]
  },
  {
   "cell_type": "code",
   "execution_count": null,
   "id": "0781d9d8",
   "metadata": {},
   "outputs": [],
   "source": [
    "nonaf_cases[-4]"
   ]
  },
  {
   "cell_type": "code",
   "execution_count": null,
   "id": "14c337ef",
   "metadata": {},
   "outputs": [],
   "source": [
    "# ## Plot showing:\n",
    "# a) Sample strain transient\n",
    "# b) Copmarisons of DELTA T for all strain metrics\n",
    "\n",
    "fig, (ax1, ax2, ax3, ax4) = plt.subplots(1,4, figsize=(16,6), gridspec_kw={'width_ratios': [2, 1, 1, 1]})\n",
    "\n",
    "case_ind = 1\n",
    "for i in range(0, len(regions)-1):\n",
    "    y = list(nonaf_strains[0, case_ind, i+1, :])\n",
    "    y.append(0)\n",
    "    ax1.plot(np.arange(0, 1.1, 0.1), y, lw=3, label=regions_v2[i+1])\n",
    "    \n",
    "ax1.tick_params(axis='both', labelsize=15)\n",
    "ax1.set_ylim(-10, 70)\n",
    "ax1.set_xlim(0, 1)\n",
    "ax1.legend(fontsize=15, bbox_to_anchor=(0.72, .65))\n",
    "ax1.set_xlabel(\"time (normalised)\", fontsize=15)\n",
    "ax1.set_ylabel(\"Area Strain [%]\", fontsize=18)\n",
    "ax1.plot(np.arange(0, 1.1, 0.1), [0]*11, ls='--', c='black')\n",
    "\n",
    "sns.boxplot(data=[t_dys_nonaf[0,:]/10., t_dys_af[0,:]/10.], ax=ax2, whis=(0,100))\n",
    "sns.boxplot(data=[t_dys_nonaf[1,:]/10., t_dys_af[1,:]/10.], ax=ax3, whis=(0,100))\n",
    "sns.boxplot(data=[t_dys_nonaf[2,:]/10., t_dys_af[2,:]/10.], ax=ax4, whis=(0,100))\n",
    "\n",
    "ax2.set_xticks(np.arange(2))\n",
    "ax2.set_yticks(np.arange(0, 0.9, 0.1))\n",
    "# ax2.set_ylim(-0.05, 0.8)\n",
    "ax3.set_ylim(-0.05, 0.8)\n",
    "ax4.set_ylim(-0.05, 0.8)\n",
    "\n",
    "ax2.set_title(\"Area Strain\", fontsize=18)\n",
    "ax3.set_title(\"Fibre Strain\", fontsize=18)\n",
    "ax4.set_title(\"Cross-Fibre Strain\", fontsize=18)\n",
    "\n",
    "for i in range(1, len(fig.axes)):\n",
    "    fig.axes[i].tick_params(axis='both', labelsize=15)\n",
    "    fig.axes[i].set_xticklabels([\"HF Only\", \"HF + AF\"], fontsize=18)\n",
    "    fig.axes[i].set_ylabel(\"$\\Delta$ T (normalised)\", fontsize=20)\n",
    "\n",
    "plt.tight_layout()\n",
    "\n",
    "ax2.set_yticks(np.arange(0.0, 1.0, 0.2))\n",
    "ax3.set_yticks(np.arange(0.0, 1.0, 0.2))\n",
    "ax4.set_yticks(np.arange(0.0, 1.0, 0.2))\n",
    "\n",
    "# plt.savefig(\"/home/csi20/Dropbox/phd/Documents/P1/EHJ_CI/delta_t_vxm.png\", dpi=200, bbox_inches=\"tight\")"
   ]
  },
  {
   "cell_type": "markdown",
   "id": "1b414e22",
   "metadata": {},
   "source": [
    "## Which regions peak latest?"
   ]
  },
  {
   "cell_type": "code",
   "execution_count": null,
   "id": "5d362e40",
   "metadata": {},
   "outputs": [],
   "source": [
    "## region_max_strain_time shows:\n",
    "## Each row: a new case\n",
    "## Each col: region\n",
    "## Values: time frame for which each region has maximal strain (i.e. when reservoir strain peaks)\n",
    "\n",
    "region_max_strain_time = np.argmax(nonaf_strains[0, :, :, :], axis=2)\n",
    "\n",
    "max_strain_time_percase = region_max_strain_time.max(axis=1)\n",
    "\n",
    "for i in range(0, len(nonaf_cases)):\n",
    "    case=nonaf_cases[i]\n",
    "    \n",
    "    condition = region_max_strain_time[i, :] == max_strain_time_percase[i]\n",
    "    latest_regions_v2 = [regions_v2[i] for i, val in enumerate(condition) if val]\n",
    "    \n",
    "    ## Remove global if is one of the latest peak strians\n",
    "    if \"global\" in latest_regions_v2:\n",
    "        latest_regions_v2.remove(\"global\")\n",
    "    \n",
    "    ## Only print out cases which have a single region as latest peak\n",
    "    if len(latest_regions_v2) == 1:\n",
    "        print(case, latest_regions_v2)"
   ]
  },
  {
   "cell_type": "code",
   "execution_count": null,
   "id": "7ad8a19b",
   "metadata": {},
   "outputs": [],
   "source": [
    "## AF cases\n",
    "\n",
    "region_max_strain_time = np.argmax(af_strains[0, :, :, :], axis=2)\n",
    "\n",
    "max_strain_time_percase = region_max_strain_time.max(axis=1)\n",
    "\n",
    "for i in range(0, len(af_cases)):\n",
    "    case=af_cases[i]\n",
    "    \n",
    "    condition = region_max_strain_time[i, :] == max_strain_time_percase[i]\n",
    "    latest_regions_v2 = [regions_v2[i] for i, val in enumerate(condition) if val]\n",
    "    \n",
    "    ## Remove global if is one of the latest peak strians\n",
    "    if \"global\" in latest_regions_v2:\n",
    "        latest_regions_v2.remove(\"global\")\n",
    "    \n",
    "    ## Only print out cases which have a single region as latest peak\n",
    "    if len(latest_regions_v2) == 1:\n",
    "        print(case, latest_regions_v2)"
   ]
  },
  {
   "cell_type": "code",
   "execution_count": null,
   "id": "913cea85",
   "metadata": {},
   "outputs": [],
   "source": [
    "nonaf_strains.shape"
   ]
  },
  {
   "cell_type": "code",
   "execution_count": null,
   "id": "bf4a6a1d",
   "metadata": {},
   "outputs": [],
   "source": [
    "## Strain curve for Gordon slides\n",
    "\n",
    "fig, ((ax1), (ax2)) = plt.subplots(2,1, figsize=(7,6))\n",
    "\n",
    "case_ind = 0\n",
    "\n",
    "## Plot Global strain transient\n",
    "y = list(nonaf_strains[0, case_ind, 0, :])\n",
    "y.append(0)\n",
    "ax1.plot(np.arange(0, 1.1, 0.1), y, lw=3)\n",
    "\n",
    "## Plot regional transients\n",
    "for i in range(0, len(regions)-1):\n",
    "    y = list(nonaf_strains[0, case_ind, i+1, :])\n",
    "    y.append(0)\n",
    "    ax2.plot(np.arange(0, 1.1, 0.1), y, lw=3, label=regions_v2[i+1])\n",
    "    \n",
    "ax2.legend(fontsize=15, bbox_to_anchor=(1.0, 1.05))\n",
    "ax2.set_xlabel(\"time (normalised)\", fontsize=15)\n",
    "\n",
    "ax1.set_xlim(-0.0, 1.0)\n",
    "ax2.set_xlim(-0.0, 1.0)\n",
    "ax1.set_ylim(-5, 25)\n",
    "ax2.set_ylim(-5, 25)\n",
    "\n",
    "for i in range(0, len(fig.axes)):\n",
    "    fig.axes[i].tick_params(axis='both', labelsize=15)\n",
    "    fig.axes[i].plot(np.arange(0, 1.1, 0.1), [0]*11, ls='--', c='black')\n",
    "    fig.axes[i].set_ylabel(\"Area Strain [%]\", fontsize=15)\n",
    "\n",
    "ax1.grid()\n",
    "ax2.grid()\n",
    "\n",
    "ax1.set_title(\"Global Strain\", fontsize=15)\n",
    "ax2.set_title(\"Regional Strain\", fontsize=15)\n",
    "\n",
    "plt.tight_layout()\n",
    "\n",
    "\n",
    "# plt.savefig(\"/home/csi20/Dropbox/phd/Documents/GOLDEN_slides/strain_curves_crt02_2.png\", dpi=200, bbox_inches=\"tight\")"
   ]
  },
  {
   "cell_type": "markdown",
   "id": "5ea10463",
   "metadata": {},
   "source": [
    "## Normlaised Reservoir Strain\n",
    "\n",
    "We've already seen that globally and regionally, AF cases have reduced strains.\n",
    "However, when normalising with respect to average global strain, do AF cases have reduced regional strains?"
   ]
  },
  {
   "cell_type": "code",
   "execution_count": null,
   "id": "23c149d3",
   "metadata": {},
   "outputs": [],
   "source": [
    "non_af_ranges = nonaf_strains.ptp(axis=3)\n",
    "af_ranges = af_strains.ptp(axis=3)"
   ]
  },
  {
   "cell_type": "code",
   "execution_count": null,
   "id": "dcbe42e5",
   "metadata": {},
   "outputs": [],
   "source": [
    "non_af_ranges[0, 0, :]/non_af_ranges[0, 0, 0] - 1"
   ]
  },
  {
   "cell_type": "code",
   "execution_count": null,
   "id": "e57d14e2",
   "metadata": {},
   "outputs": [],
   "source": [
    "## N_strain_metric, N_case, N_regions\n",
    "res_strain_norm_nonaf = np.zeros((3, len(nonaf_cases), 6))\n",
    "\n",
    "for i in range(0, len(nonaf_cases)):\n",
    "    ans = non_af_ranges[0, i, :]/non_af_ranges[0, i, 0] - 1    \n",
    "    res_strain_norm_nonaf[0, i, :] = ans\n",
    "    \n",
    "for i in range(0, len(nonaf_cases)):\n",
    "    ans = non_af_ranges[1, i, :]/non_af_ranges[1, i, 0] - 1    \n",
    "    res_strain_norm_nonaf[1, i, :] = ans\n",
    "    \n",
    "for i in range(0, len(nonaf_cases)):\n",
    "    ans = non_af_ranges[2, i, :]/non_af_ranges[2, i, 0] - 1    \n",
    "    res_strain_norm_nonaf[2, i, :] = ans"
   ]
  },
  {
   "cell_type": "code",
   "execution_count": null,
   "id": "62306a3e",
   "metadata": {},
   "outputs": [],
   "source": [
    "res_strain_norm_af = np.zeros((3, len(af_cases), 6))\n",
    "\n",
    "for i in range(0, len(af_cases)):\n",
    "    ans = af_ranges[0, i, :]/af_ranges[0, i, 0] - 1\n",
    "    res_strain_norm_af[0, i, :] = ans\n",
    "    \n",
    "for i in range(0, len(af_cases)):\n",
    "    ans = af_ranges[1, i, :]/af_ranges[1, i, 0] - 1\n",
    "    res_strain_norm_af[1, i, :] = ans\n",
    "    \n",
    "for i in range(0, len(af_cases)):\n",
    "    ans = af_ranges[2, i, :]/af_ranges[2, i, 0] - 1\n",
    "    res_strain_norm_af[2, i, :] = ans"
   ]
  },
  {
   "cell_type": "code",
   "execution_count": null,
   "id": "b3bb07a0",
   "metadata": {},
   "outputs": [],
   "source": [
    "res_strain_norm_nonaf.shape"
   ]
  },
  {
   "cell_type": "code",
   "execution_count": null,
   "id": "22386a64",
   "metadata": {},
   "outputs": [],
   "source": [
    "fig, ((ax1, ax2), (ax3, ax4), (ax5, ax6)) = plt.subplots(3,2, figsize=(16,10), gridspec_kw={'width_ratios': [1, 2]})\n",
    "\n",
    "strain_metric_ind=0\n",
    "sns.boxplot(data=[res_strain_norm_nonaf[strain_metric_ind, :, 0], res_strain_norm_af[strain_metric_ind, :, 0]], ax=ax1)\n",
    "sns.boxplot(data=[res_strain_norm_nonaf[strain_metric_ind, :, 1], res_strain_norm_af[strain_metric_ind, :, 1],\n",
    "                 res_strain_norm_nonaf[strain_metric_ind, :, 2], res_strain_norm_af[strain_metric_ind, :, 2],\n",
    "                 res_strain_norm_nonaf[strain_metric_ind, :, 3], res_strain_norm_af[strain_metric_ind, :, 3],\n",
    "                 res_strain_norm_nonaf[strain_metric_ind, :, 4], res_strain_norm_af[strain_metric_ind, :, 4],\n",
    "                 res_strain_norm_nonaf[strain_metric_ind, :, 5], res_strain_norm_af[strain_metric_ind, :, 5]], ax=ax2)\n",
    "\n",
    "strain_metric_ind=1\n",
    "sns.boxplot(data=[res_strain_norm_nonaf[strain_metric_ind, :, 0], res_strain_norm_af[strain_metric_ind, :, 0]], ax=ax3)\n",
    "sns.boxplot(data=[res_strain_norm_nonaf[strain_metric_ind, :, 1], res_strain_norm_af[strain_metric_ind, :, 1],\n",
    "                 res_strain_norm_nonaf[strain_metric_ind, :, 1], res_strain_norm_af[strain_metric_ind, :, 1],\n",
    "                 res_strain_norm_nonaf[strain_metric_ind, :, 3], res_strain_norm_af[strain_metric_ind, :, 3],\n",
    "                 res_strain_norm_nonaf[strain_metric_ind, :, 4], res_strain_norm_af[strain_metric_ind, :, 4],\n",
    "                 res_strain_norm_nonaf[strain_metric_ind, :, 5], res_strain_norm_af[strain_metric_ind, :, 5]], ax=ax4)\n",
    "\n",
    "strain_metric_ind=2\n",
    "sns.boxplot(data=[res_strain_norm_nonaf[strain_metric_ind, :, 0], res_strain_norm_af[strain_metric_ind, :, 0]], ax=ax5)\n",
    "sns.boxplot(data=[res_strain_norm_nonaf[strain_metric_ind, :, 1], res_strain_norm_af[strain_metric_ind, :, 1],\n",
    "                 res_strain_norm_nonaf[strain_metric_ind, :, 1], res_strain_norm_af[strain_metric_ind, :, 1],\n",
    "                 res_strain_norm_nonaf[strain_metric_ind, :, 3], res_strain_norm_af[strain_metric_ind, :, 3],\n",
    "                 res_strain_norm_nonaf[strain_metric_ind, :, 4], res_strain_norm_af[strain_metric_ind, :, 4],\n",
    "                 res_strain_norm_nonaf[strain_metric_ind, :, 5], res_strain_norm_af[strain_metric_ind, :, 5]], ax=ax6)"
   ]
  },
  {
   "cell_type": "code",
   "execution_count": null,
   "id": "b2744e87",
   "metadata": {},
   "outputs": [],
   "source": [
    "fig, ((ax1, ax2, ax3)) = plt.subplots(3,1, figsize=(8,10), facecolor='white')\n",
    "\n",
    "for i in range(0, len(fig.axes)):\n",
    "    fig.axes[i].plot(np.arange(-2,11,1), [0.0]*13, ls='--', c='black', lw=2)\n",
    "\n",
    "strain_metric_ind=0\n",
    "data_to_plot = [res_strain_norm_nonaf[strain_metric_ind, :, 1], res_strain_norm_af[strain_metric_ind, :, 1],\n",
    "                 res_strain_norm_nonaf[strain_metric_ind, :, 2], res_strain_norm_af[strain_metric_ind, :, 2],\n",
    "                 res_strain_norm_nonaf[strain_metric_ind, :, 3], res_strain_norm_af[strain_metric_ind, :, 3],\n",
    "                 res_strain_norm_nonaf[strain_metric_ind, :, 4], res_strain_norm_af[strain_metric_ind, :, 4],\n",
    "                 res_strain_norm_nonaf[strain_metric_ind, :, 5], res_strain_norm_af[strain_metric_ind, :, 5]]\n",
    "box1 = sns.boxplot(data=data_to_plot, ax=ax1)\n",
    "\n",
    "strain_metric_ind=1\n",
    "sns.boxplot(data=[res_strain_norm_nonaf[strain_metric_ind, :, 1], res_strain_norm_af[strain_metric_ind, :, 1],\n",
    "                 res_strain_norm_nonaf[strain_metric_ind, :, 1], res_strain_norm_af[strain_metric_ind, :, 1],\n",
    "                 res_strain_norm_nonaf[strain_metric_ind, :, 3], res_strain_norm_af[strain_metric_ind, :, 3],\n",
    "                 res_strain_norm_nonaf[strain_metric_ind, :, 4], res_strain_norm_af[strain_metric_ind, :, 4],\n",
    "                 res_strain_norm_nonaf[strain_metric_ind, :, 5], res_strain_norm_af[strain_metric_ind, :, 5]],\n",
    "            ax=ax2)\n",
    "\n",
    "strain_metric_ind=2\n",
    "sns.boxplot(data=[res_strain_norm_nonaf[strain_metric_ind, :, 1], res_strain_norm_af[strain_metric_ind, :, 1],\n",
    "                 res_strain_norm_nonaf[strain_metric_ind, :, 1], res_strain_norm_af[strain_metric_ind, :, 1],\n",
    "                 res_strain_norm_nonaf[strain_metric_ind, :, 3], res_strain_norm_af[strain_metric_ind, :, 3],\n",
    "                 res_strain_norm_nonaf[strain_metric_ind, :, 4], res_strain_norm_af[strain_metric_ind, :, 4],\n",
    "                 res_strain_norm_nonaf[strain_metric_ind, :, 5], res_strain_norm_af[strain_metric_ind, :, 5]],\n",
    "            ax=ax3)\n",
    "\n",
    "print(fig.axes[0])\n",
    "\n",
    "for j in range(0, len(fig.axes)):\n",
    "    \n",
    "    for i in range(0, 10, 2):\n",
    "        mybox = fig.axes[j].patches[i]\n",
    "        mybox.set_facecolor('tab:blue')\n",
    "\n",
    "    for i in range(1, 11, 2):\n",
    "        mybox = fig.axes[j].patches[i]\n",
    "        mybox.set_facecolor('tab:orange')\n",
    "\n",
    "regions_axis=['Posterior\\nwall', 'Septum', 'Lateral\\nwall', 'Anterior\\nwall', 'Inferior\\nwall']\n",
    "\n",
    "ax1.set_ylabel(\"Area Strain [%]\", fontsize=20)\n",
    "ax2.set_ylabel(\"Fiber Strain [%]\", fontsize=20)\n",
    "ax3.set_ylabel(\"Cross-Fiber Strain [%]\", fontsize=20)\n",
    "\n",
    "# print(box1.patches[0])\n",
    "# plt.setp(box1[\"boxes\"], facecolor=c2)\n",
    "\n",
    "for i in range(0, len(fig.axes)):\n",
    "    fig.axes[i].tick_params(axis='both', labelsize=15)\n",
    "    fig.axes[i].set_xticks(np.arange(0.5, 10.5, 2))\n",
    "    fig.axes[i].set_xticklabels(regions_axis[:])\n",
    "    fig.axes[i].set_ylim(-1.0, 3.0)\n",
    "    fig.axes[i].set_xlim(-0.5, 9.5)\n",
    "#     fig.axes[i].plot(np.arange(-2,11,1), [0.0]*13, ls='--', c='black', lw=2)\n",
    "    \n",
    "# fig.text(0.5, 0.08, \"Region\", \n",
    "#          ha='center', fontsize=18)\n",
    "\n",
    "fig.text(0.55, 1.0, \"Normalised Regional Strain\", \n",
    "         ha='center', fontsize=18)\n",
    "\n",
    "legend_elements = [Patch(facecolor='tab:blue', edgecolor='black',\n",
    "                         label='HF Only'),\n",
    "                   Patch(facecolor='tab:orange', edgecolor='black',\n",
    "                         label='HF + AF')]\n",
    "ax1.legend(handles=legend_elements, loc='upper left', fontsize=14)\n",
    "\n",
    "for i in [0, 1]:\n",
    "#     fig.axes[i].xaxis.set_ticks_position('none') \n",
    "    fig.axes[i].set_xticklabels([\" \", \" \", \" \", \" \", \" \"])\n",
    "\n",
    "plt.tight_layout()\n",
    "    \n",
    "# plt.savefig(\"/home/csi20local/Dropbox/phd/Documents/P1/normalised_regional_strain_SAN.png\", dpi=200, bbox_inches=\"tight\")"
   ]
  },
  {
   "cell_type": "code",
   "execution_count": null,
   "id": "f99e8ae8",
   "metadata": {},
   "outputs": [],
   "source": [
    "fig, ((ax1, ax2, ax3)) = plt.subplots(3,1, figsize=(8,10), facecolor='white')\n",
    "\n",
    "for i in range(0, len(fig.axes)):\n",
    "    fig.axes[i].plot(np.arange(-2,11,1), [0.0]*13, ls='--', c='black', lw=2)\n",
    "\n",
    "strain_metric_ind=0\n",
    "data_to_plot = [res_strain_norm_nonaf[strain_metric_ind, :, 1], res_strain_norm_af[strain_metric_ind, :, 1],\n",
    "                 res_strain_norm_nonaf[strain_metric_ind, :, 2], res_strain_norm_af[strain_metric_ind, :, 2],\n",
    "                 res_strain_norm_nonaf[strain_metric_ind, :, 3], res_strain_norm_af[strain_metric_ind, :, 3],\n",
    "                 res_strain_norm_nonaf[strain_metric_ind, :, 4], res_strain_norm_af[strain_metric_ind, :, 4],\n",
    "                 res_strain_norm_nonaf[strain_metric_ind, :, 5], res_strain_norm_af[strain_metric_ind, :, 5]]\n",
    "box1 = sns.boxplot(data=data_to_plot, ax=ax1, whis=(0, 100))\n",
    "\n",
    "strain_metric_ind=1\n",
    "sns.boxplot(data=[res_strain_norm_nonaf[strain_metric_ind, :, 1], res_strain_norm_af[strain_metric_ind, :, 1],\n",
    "                 res_strain_norm_nonaf[strain_metric_ind, :, 1], res_strain_norm_af[strain_metric_ind, :, 1],\n",
    "                 res_strain_norm_nonaf[strain_metric_ind, :, 3], res_strain_norm_af[strain_metric_ind, :, 3],\n",
    "                 res_strain_norm_nonaf[strain_metric_ind, :, 4], res_strain_norm_af[strain_metric_ind, :, 4],\n",
    "                 res_strain_norm_nonaf[strain_metric_ind, :, 5], res_strain_norm_af[strain_metric_ind, :, 5]],\n",
    "            ax=ax2, whis=(0, 100))\n",
    "\n",
    "strain_metric_ind=2\n",
    "sns.boxplot(data=[res_strain_norm_nonaf[strain_metric_ind, :, 1], res_strain_norm_af[strain_metric_ind, :, 1],\n",
    "                 res_strain_norm_nonaf[strain_metric_ind, :, 1], res_strain_norm_af[strain_metric_ind, :, 1],\n",
    "                 res_strain_norm_nonaf[strain_metric_ind, :, 3], res_strain_norm_af[strain_metric_ind, :, 3],\n",
    "                 res_strain_norm_nonaf[strain_metric_ind, :, 4], res_strain_norm_af[strain_metric_ind, :, 4],\n",
    "                 res_strain_norm_nonaf[strain_metric_ind, :, 5], res_strain_norm_af[strain_metric_ind, :, 5]],\n",
    "            ax=ax3, whis=(0, 100))\n",
    "\n",
    "print(fig.axes[0])\n",
    "\n",
    "for j in range(0, len(fig.axes)):\n",
    "    \n",
    "    for i in range(0, 10, 2):\n",
    "        mybox = fig.axes[j].patches[i]\n",
    "        mybox.set_facecolor('tab:blue')\n",
    "\n",
    "    for i in range(1, 11, 2):\n",
    "        mybox = fig.axes[j].patches[i]\n",
    "        mybox.set_facecolor('tab:orange')\n",
    "\n",
    "regions_axis=['Posterior\\nwall', 'Septum', 'Lateral\\nwall', 'Anterior\\nwall', 'Inferior\\nwall']\n",
    "\n",
    "ax1.set_ylabel(\"Area Strain [%]\", fontsize=20)\n",
    "ax2.set_ylabel(\"Fiber Strain [%]\", fontsize=20)\n",
    "ax3.set_ylabel(\"Cross-Fiber Strain [%]\", fontsize=20)\n",
    "\n",
    "# print(box1.patches[0])\n",
    "# plt.setp(box1[\"boxes\"], facecolor=c2)\n",
    "\n",
    "for i in range(0, len(fig.axes)):\n",
    "    fig.axes[i].tick_params(axis='both', labelsize=15)\n",
    "    fig.axes[i].set_xticks(np.arange(0.5, 10.5, 2))\n",
    "    fig.axes[i].set_xticklabels(regions_axis[:])\n",
    "    fig.axes[i].set_ylim(-1.0, 3.0)\n",
    "    fig.axes[i].set_xlim(-0.5, 9.5)\n",
    "#     fig.axes[i].plot(np.arange(-2,11,1), [0.0]*13, ls='--', c='black', lw=2)\n",
    "    \n",
    "# fig.text(0.5, 0.08, \"Region\", \n",
    "#          ha='center', fontsize=18)\n",
    "\n",
    "fig.text(0.55, 1.0, \"Normalised Regional Strain\", \n",
    "         ha='center', fontsize=18)\n",
    "\n",
    "legend_elements = [Patch(facecolor='tab:blue', edgecolor='black',\n",
    "                         label='HF Only'),\n",
    "                   Patch(facecolor='tab:orange', edgecolor='black',\n",
    "                         label='HF + AF')]\n",
    "ax1.legend(handles=legend_elements, loc='upper right', fontsize=14)\n",
    "\n",
    "for i in [0, 1]:\n",
    "#     fig.axes[i].xaxis.set_ticks_position('none') \n",
    "    fig.axes[i].set_xticklabels([\" \", \" \", \" \", \" \", \" \"])\n",
    "\n",
    "plt.tight_layout()\n",
    "    \n",
    "# plt.savefig(\"/home/csi20local/Dropbox/phd/Documents/P1/normalised_regional_strain_SAN_2.png\", dpi=200, bbox_inches=\"tight\")"
   ]
  },
  {
   "cell_type": "code",
   "execution_count": null,
   "id": "bd91ca47",
   "metadata": {},
   "outputs": [],
   "source": [
    "strain_metric_ind=2\n",
    "regino_ind = 5\n",
    "np.round(stats.ttest_ind(res_strain_norm_nonaf[strain_metric_ind, :, regino_ind], res_strain_norm_af[strain_metric_ind, :, regino_ind]), 30)"
   ]
  },
  {
   "cell_type": "code",
   "execution_count": null,
   "id": "a55d78f4",
   "metadata": {},
   "outputs": [],
   "source": [
    "strain_metric_ind = 2\n",
    "region_ind = 5\n",
    "\n",
    "stats.ttest_ind(res_strain_norm_nonaf[strain_metric_ind, :, region_ind], \n",
    "                res_strain_norm_af[strain_metric_ind, :, region_ind])"
   ]
  },
  {
   "cell_type": "code",
   "execution_count": null,
   "id": "97bd37d3",
   "metadata": {},
   "outputs": [],
   "source": [
    "stats.ttest_ind(res_strain_norm_nonaf[1, :, 1], res_strain_norm_af[1, :, 1])"
   ]
  },
  {
   "cell_type": "code",
   "execution_count": null,
   "id": "b0cdf311",
   "metadata": {},
   "outputs": [],
   "source": [
    "strain_metric_ind=0\n",
    "\n",
    "for i in range(0, 6):\n",
    "    p_val = stats.ttest_ind(res_strain_norm_nonaf[strain_metric_ind, :, i], res_strain_norm_af[strain_metric_ind, :, i])[-1]\n",
    "    \n",
    "    print(f\"i: {regions[i]}: \", p_val)\n"
   ]
  },
  {
   "cell_type": "markdown",
   "id": "8856c081",
   "metadata": {},
   "source": [
    "Therefore, it looks like there is little difference btween AF and non-AF patients when looking at normalised regional strains. I.e. if we had patients with same given global strains, we wouldn't be able to find a discernible difference between AF and non-AF"
   ]
  },
  {
   "cell_type": "markdown",
   "id": "ed1cbeee",
   "metadata": {},
   "source": [
    "# Fiber and Cross-Fiber Strains\n",
    "## Testing deformation isotropy"
   ]
  },
  {
   "cell_type": "code",
   "execution_count": null,
   "id": "b2b7f7e5",
   "metadata": {},
   "outputs": [],
   "source": [
    "af_ranges.shape"
   ]
  },
  {
   "cell_type": "code",
   "execution_count": null,
   "id": "ae68fe1d",
   "metadata": {},
   "outputs": [],
   "source": [
    "af_ranges[1, 0, :]"
   ]
  },
  {
   "cell_type": "code",
   "execution_count": null,
   "id": "9d18ccc1",
   "metadata": {},
   "outputs": [],
   "source": [
    "fig, ((ax1, ax2, ax3), (ax4, ax5, ax6)) = plt.subplots(2, 3, figsize=(15,10))\n",
    "\n",
    "## AF vs nAF, Region, ax + b\n",
    "coeffs=np.zeros((2,6,2))\n",
    "\n",
    "for i in range(0, len(regions)):\n",
    "\n",
    "    ## Scatter plot data points\n",
    "    fig.axes[i].scatter(non_af_ranges[1, :, i], non_af_ranges[2, :, i], label=\"HF Only\")\n",
    "    fig.axes[i].scatter(af_ranges[1, :, i], af_ranges[2, :, i], label=\"HF + AF\")\n",
    "    \n",
    "    ## Fit lines of best fit\n",
    "    coeffs[0, i, 0], coeffs[0, i, 1] = np.polyfit(non_af_ranges[1, :, i], non_af_ranges[2, :, i], 1)\n",
    "    coeffs[1, i, 0], coeffs[1, i, 1] = np.polyfit(af_ranges[1, :, i], af_ranges[2, :, i], 1)\n",
    "    \n",
    "    ## Plots lines of best fit\n",
    "    x = np.arange(-12, 60)\n",
    "    fig.axes[i].plot(x, coeffs[0, i, 0]*x + coeffs[0, i, 1], ls='--', c='tab:blue')\n",
    "    fig.axes[i].plot(x, coeffs[1, i, 0]*x + coeffs[1, i, 1], ls='--', c='tab:orange')\n",
    "\n",
    "    ## Plot y=x\n",
    "    fig.axes[i].plot(np.arange(-11,70,10), np.arange(-11,70,10), ls='--', c='black')\n",
    "    fig.axes[i].set_title(regions[i], fontsize=15)\n",
    "    \n",
    "    fig.axes[i].tick_params(axis='both', labelsize=15)\n",
    "    \n",
    "    fig.axes[i].set_ylim(-10, 60)\n",
    "    fig.axes[i].set_xlim(-10, 60)\n",
    "\n",
    "    fig.axes[i].set_yticks(np.arange(0, 70, 20))\n",
    "    fig.axes[i].set_xticks(np.arange(0, 70, 20))\n",
    "    \n",
    "    \n",
    "ax1.legend(fontsize=15)\n",
    "    \n",
    "fig.text(0.5, 0.95, f\"Investigating Deformation Isotropy:\\nComparison of Fiber and Cross Fiber Strains\", \n",
    "             ha='center', fontsize=20)\n",
    "fig.text(0.08, 0.5, \"Cross-Fiber Reservoir Strain [%]\",\n",
    "             va='center', rotation='vertical', fontsize=18)\n",
    "fig.text(0.5, 0.06, \"Fiber Reservoir Strain [%]\", \n",
    "         ha='center', fontsize=18)\n",
    "\n",
    "# plt.savefig(\"/home/csi20local/Dropbox/phd/Documents/GOLDEN_slides/isotropy_1.png\", dpi=200, bbox_inches=\"tight\")"
   ]
  },
  {
   "cell_type": "markdown",
   "id": "d5c93480",
   "metadata": {},
   "source": [
    "## Coefficient of Determination Analysis"
   ]
  },
  {
   "cell_type": "code",
   "execution_count": null,
   "id": "d917bd16",
   "metadata": {},
   "outputs": [],
   "source": [
    "## R2 anslysi\n",
    "\n",
    "from sklearn.metrics import r2_score\n",
    "\n",
    "for i in range(0, len(regions)):\n",
    "    \n",
    "    nonAF_R2 = r2_score(non_af_ranges[1, :, i], non_af_ranges[2, :, i])\n",
    "    AF_R2 = r2_score(af_ranges[1, :, i], af_ranges[2, :, i])\n",
    "    \n",
    "    print(regions[i])\n",
    "    print(\"nonAF R2:\\t\", nonAF_R2)\n",
    "    print(\"AF R2:\\t\\t\", AF_R2)"
   ]
  },
  {
   "cell_type": "code",
   "execution_count": null,
   "id": "eb5ea4c8",
   "metadata": {},
   "outputs": [],
   "source": [
    "plt.scatter(af_ranges[1, :, 0], af_ranges[2, :, 0])\n",
    "plt.plot(np.arange(0,60), np.arange(0,60))\n",
    "\n",
    "# plt.xlim(0,20)\n",
    "# plt.ylim(0,20)"
   ]
  },
  {
   "cell_type": "code",
   "execution_count": null,
   "id": "1b1594c5",
   "metadata": {},
   "outputs": [],
   "source": [
    "non_af_ranges.shape"
   ]
  },
  {
   "cell_type": "code",
   "execution_count": null,
   "id": "d512e485",
   "metadata": {},
   "outputs": [],
   "source": [
    "non_af_ranges[1, :, 0]"
   ]
  }
 ],
 "metadata": {
  "kernelspec": {
   "display_name": "Python [conda env:vtk]",
   "language": "python",
   "name": "conda-env-vtk-py"
  },
  "language_info": {
   "codemirror_mode": {
    "name": "ipython",
    "version": 3
   },
   "file_extension": ".py",
   "mimetype": "text/x-python",
   "name": "python",
   "nbconvert_exporter": "python",
   "pygments_lexer": "ipython3",
   "version": "3.9.7"
  }
 },
 "nbformat": 4,
 "nbformat_minor": 5
}
