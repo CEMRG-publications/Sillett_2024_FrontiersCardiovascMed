{
 "cells": [
  {
   "cell_type": "code",
   "execution_count": 1,
   "metadata": {},
   "outputs": [],
   "source": [
    "import pandas as pd\n",
    "import numpy as np"
   ]
  },
  {
   "cell_type": "markdown",
   "metadata": {},
   "source": [
    "### Working Out Function "
   ]
  },
  {
   "cell_type": "code",
   "execution_count": null,
   "metadata": {},
   "outputs": [],
   "source": [
    "Path2RefMshCells = '/home/csi20local/Documents/MeshSimilarityScripts/PrintMeshCellCentres/build/Case1_dcm4_Clipped.txt'\n",
    "#Path2TrkMshCells = '/home/csi20local/Documents/MeshSimilarityScripts/PrintMeshCellCentres/build/MQ3_Clipped_transformed-4.txt'"
   ]
  },
  {
   "cell_type": "code",
   "execution_count": null,
   "metadata": {},
   "outputs": [],
   "source": [
    "Path2Intersections = '/home/csi20local/Documents/MeshSimilarityScripts/PrintNormalIntersections/build/Feb2_IntersectPoints-take2.txt'"
   ]
  },
  {
   "cell_type": "code",
   "execution_count": null,
   "metadata": {},
   "outputs": [],
   "source": [
    "RefCells = pd.read_csv(Path2RefMshCells, delim_whitespace=True, skiprows=2, \n",
    "                       names = ['P', 'Cell Number', 'X', 'Y', 'Z'])\n",
    "RefCells = RefCells.drop(['P', 'Cell Number'], axis=1)\n",
    "\n",
    "TrkCells = pd.read_csv(Path2TrkMshCells, delim_whitespace=True, skiprows=2, \n",
    "                       names = ['P', 'Cell Number', 'X', 'Y', 'Z'])\n",
    "TrkCells = TrkCells.drop(['P', 'Cell Number'], axis=1)"
   ]
  },
  {
   "cell_type": "code",
   "execution_count": null,
   "metadata": {},
   "outputs": [],
   "source": [
    "Intersections = pd.read_csv(Path2Intersections, delim_whitespace=True, skiprows=5,\n",
    "                           names = ['Inter', 'for', 'C', 'Cell Number', 'X', 'Y', 'Z'])\n",
    "Intersections = Intersections.drop(['Inter', 'for', 'C', 'Cell Number'], axis=1)"
   ]
  },
  {
   "cell_type": "code",
   "execution_count": null,
   "metadata": {},
   "outputs": [],
   "source": [
    "Intersections.head()"
   ]
  },
  {
   "cell_type": "code",
   "execution_count": null,
   "metadata": {},
   "outputs": [],
   "source": [
    "Intersections.shape"
   ]
  },
  {
   "cell_type": "code",
   "execution_count": null,
   "metadata": {},
   "outputs": [],
   "source": [
    "TrkCells.shape"
   ]
  },
  {
   "cell_type": "code",
   "execution_count": null,
   "metadata": {},
   "outputs": [],
   "source": [
    "Intersections[Intersections['X'] == 0.0]['Z'].value_counts()"
   ]
  },
  {
   "cell_type": "code",
   "execution_count": null,
   "metadata": {},
   "outputs": [],
   "source": []
  },
  {
   "cell_type": "code",
   "execution_count": null,
   "metadata": {},
   "outputs": [],
   "source": [
    "TrkCells['X']"
   ]
  },
  {
   "cell_type": "code",
   "execution_count": null,
   "metadata": {},
   "outputs": [],
   "source": [
    "Intersections['X']"
   ]
  },
  {
   "cell_type": "code",
   "execution_count": null,
   "metadata": {},
   "outputs": [],
   "source": [
    "type(Intersections['X']-TrkCells['X'])"
   ]
  },
  {
   "cell_type": "code",
   "execution_count": null,
   "metadata": {},
   "outputs": [],
   "source": [
    "deltaX = (Intersections['X']-TrkCells['X'])"
   ]
  },
  {
   "cell_type": "code",
   "execution_count": null,
   "metadata": {},
   "outputs": [],
   "source": [
    "deltaY = Intersections['Y']-TrkCells['Y']"
   ]
  },
  {
   "cell_type": "code",
   "execution_count": null,
   "metadata": {},
   "outputs": [],
   "source": [
    "deltaZ = Intersections['Z']-TrkCells['Z']"
   ]
  },
  {
   "cell_type": "code",
   "execution_count": null,
   "metadata": {},
   "outputs": [],
   "source": [
    "distance = (deltaX**2 + deltaY**2 + deltaZ**2)**0.5"
   ]
  },
  {
   "cell_type": "code",
   "execution_count": null,
   "metadata": {},
   "outputs": [],
   "source": [
    "distance.value_counts()"
   ]
  },
  {
   "cell_type": "code",
   "execution_count": null,
   "metadata": {},
   "outputs": [],
   "source": [
    "distance[Intersections['X'] != 0.0].value_counts()"
   ]
  },
  {
   "cell_type": "code",
   "execution_count": null,
   "metadata": {},
   "outputs": [],
   "source": [
    "distance = distance[Intersections['X'] != 0.0]"
   ]
  },
  {
   "cell_type": "code",
   "execution_count": null,
   "metadata": {},
   "outputs": [],
   "source": [
    "np.mean(distance)"
   ]
  },
  {
   "cell_type": "code",
   "execution_count": null,
   "metadata": {},
   "outputs": [],
   "source": []
  },
  {
   "cell_type": "code",
   "execution_count": null,
   "metadata": {},
   "outputs": [],
   "source": [
    "Intersections[Intersections['X']==0.0].shape"
   ]
  },
  {
   "cell_type": "code",
   "execution_count": null,
   "metadata": {},
   "outputs": [],
   "source": [
    "distance[Intersections['X']]"
   ]
  },
  {
   "cell_type": "markdown",
   "metadata": {},
   "source": [
    "### Distance along normals in pixel units"
   ]
  },
  {
   "cell_type": "code",
   "execution_count": 2,
   "metadata": {},
   "outputs": [],
   "source": [
    "def distance_along_normals(Path2CellPoints, Path2Intersections):\n",
    "    \n",
    "    # Read in Cell points from the mesh where tracking starts\n",
    "    dfCellPts = pd.read_csv(Path2CellPoints, delim_whitespace=True, skiprows=2, \n",
    "                       names = ['P', 'Cell Number', 'X', 'Y', 'Z'])\n",
    "    dfCellPts = dfCellPts.drop(['P', 'Cell Number'], axis=1)\n",
    "    \n",
    "    # Read in Points of Intersections\n",
    "    dfInters = pd.read_csv(Path2Intersections, delim_whitespace=True, skiprows=5,\n",
    "                           names = ['Inter', 'for', 'C', 'Cell Number', 'X', 'Y', 'Z'])\n",
    "    dfInters = dfInters.drop(['Inter', 'for', 'C', 'Cell Number'], axis=1)\n",
    "\n",
    "    # Calculate distance\n",
    "    deltaX = dfInters['X']-dfCellPts['X']\n",
    "    deltaY = dfInters['Y']-dfCellPts['Y']\n",
    "    deltaZ = dfInters['Z']-dfCellPts['Z']\n",
    "    distance_sq = deltaX**2 + deltaY**2 + deltaZ**2\n",
    "    distance = distance_sq**0.5\n",
    "    \n",
    "    # Drop points which intersect more than once\n",
    "    distance = distance[dfInters['X'] != 0.0]\n",
    "    \n",
    "    ans = np.mean(distance)\n",
    "    \n",
    "    return ans"
   ]
  },
  {
   "cell_type": "markdown",
   "metadata": {},
   "source": [
    "#### 1st Try: Using mistake in PrintNormalIntersects\n",
    "\n",
    "Used same mesh in normal intersect, hence why the mean distance is roughly equal to 0"
   ]
  },
  {
   "cell_type": "code",
   "execution_count": 78,
   "metadata": {},
   "outputs": [
    {
     "data": {
      "text/plain": [
       "2.0156357356859517e-07"
      ]
     },
     "execution_count": 78,
     "metadata": {},
     "output_type": "execute_result"
    }
   ],
   "source": [
    "distance_along_normals('/home/csi20local/Documents/MeshSimilarityScripts/PrintMeshCellCentres/build/MQ3_Clipped_transformed-4.txt', \n",
    "                      '/home/csi20local/Documents/MeshSimilarityScripts/PrintNormalIntersections/build/Feb2_IntersectPoints-take2.txt')"
   ]
  },
  {
   "cell_type": "code",
   "execution_count": 79,
   "metadata": {},
   "outputs": [],
   "source": [
    "MarinaCellPoints = '/home/csi20local/Documents/MeshSimilarityScripts/PrintMeshCellCentres/build/MarinaCellCentres.txt'\n",
    "MarinaIntersPoints = '/home/csi20local/Documents/MeshSimilarityScripts/PrintNormalIntersections/build/MarinaSInters.txt'"
   ]
  },
  {
   "cell_type": "code",
   "execution_count": 80,
   "metadata": {},
   "outputs": [
    {
     "data": {
      "text/plain": [
       "1.3392403129127492e-07"
      ]
     },
     "execution_count": 80,
     "metadata": {},
     "output_type": "execute_result"
    }
   ],
   "source": [
    "distance_along_normals(MarinaCellPoints, MarinaIntersPoints)"
   ]
  },
  {
   "cell_type": "markdown",
   "metadata": {},
   "source": [
    "### Distance along normals in mm"
   ]
  },
  {
   "cell_type": "code",
   "execution_count": 3,
   "metadata": {},
   "outputs": [],
   "source": [
    "def distance_along_normals_mm(Path2CellPoints, Path2Intersections, Xres, Yres, Zres):\n",
    "    \n",
    "    # Image Resolutions [mm]\n",
    "    #Xres = 1.25391\n",
    "    #Yres = 1.25391\n",
    "    #Zres = 1.34999\n",
    "    \n",
    "    # Read in Cell points from the mesh where tracking starts\n",
    "    dfCellPts = pd.read_csv(Path2CellPoints, delim_whitespace=True, skiprows=2, \n",
    "                       names = ['P', 'Cell Number', 'X', 'Y', 'Z'])\n",
    "    dfCellPts = dfCellPts.drop(['P', 'Cell Number'], axis=1)\n",
    "    \n",
    "    # Read in Points of Intersections\n",
    "    dfInters = pd.read_csv(Path2Intersections, delim_whitespace=True, skiprows=5,\n",
    "                           names = ['Inter', 'for', 'C', 'Cell Number', 'X', 'Y', 'Z'])\n",
    "    dfInters = dfInters.drop(['Inter', 'for', 'C', 'Cell Number'], axis=1)\n",
    "\n",
    "    # Calculate distance\n",
    "    deltaX = dfInters['X']-dfCellPts['X']\n",
    "    deltaX = deltaX*Xres\n",
    "    deltaY = dfInters['Y']-dfCellPts['Y']\n",
    "    deltaY = deltaY*Yres\n",
    "    deltaZ = dfInters['Z']-dfCellPts['Z']\n",
    "    deltaZ = deltaZ*Zres\n",
    "    distance_sq = deltaX**2 + deltaY**2 + deltaZ**2\n",
    "    distance = distance_sq**0.5\n",
    "    \n",
    "    # Drop points which intersect more than once\n",
    "    distance = distance[dfInters['X'] != 0.0]\n",
    "    \n",
    "    ans = np.mean(distance)\n",
    "    \n",
    "    return ans"
   ]
  },
  {
   "cell_type": "markdown",
   "metadata": {},
   "source": [
    "#### 1st Try: Using buggy PrintNormalIntersects\n",
    "\n",
    "Same reason as above."
   ]
  },
  {
   "cell_type": "code",
   "execution_count": 83,
   "metadata": {},
   "outputs": [
    {
     "data": {
      "text/plain": [
       "2.5434796196110707e-07"
      ]
     },
     "execution_count": 83,
     "metadata": {},
     "output_type": "execute_result"
    }
   ],
   "source": [
    "distance_along_normals_mm('/home/csi20local/Documents/MeshSimilarityScripts/PrintMeshCellCentres/build/MQ3_Clipped_transformed-4.txt', \n",
    "                      '/home/csi20local/Documents/MeshSimilarityScripts/PrintNormalIntersections/build/Feb2_IntersectPoints-take2.txt')"
   ]
  },
  {
   "cell_type": "code",
   "execution_count": 82,
   "metadata": {},
   "outputs": [
    {
     "data": {
      "text/plain": [
       "1.6792868207644256e-07"
      ]
     },
     "execution_count": 82,
     "metadata": {},
     "output_type": "execute_result"
    }
   ],
   "source": [
    "distance_along_normals_mm(MarinaCellPoints, MarinaIntersPoints)"
   ]
  },
  {
   "cell_type": "markdown",
   "metadata": {},
   "source": [
    "### Unit Test 1: Identity Intersection"
   ]
  },
  {
   "cell_type": "code",
   "execution_count": 4,
   "metadata": {},
   "outputs": [
    {
     "data": {
      "text/plain": [
       "2.0189454427195622e-07"
      ]
     },
     "execution_count": 4,
     "metadata": {},
     "output_type": "execute_result"
    }
   ],
   "source": [
    "distance_along_normals('/home/csi20local/Documents/MeshSimilarityScripts/PrintMeshCellCentres/build/MQ3_Clipped_transformed-4.txt',\n",
    "                      '/home/csi20local/Documents/MeshSimilarityScripts/PrintNormalIntersections/build/Test1.txt')"
   ]
  },
  {
   "cell_type": "markdown",
   "metadata": {},
   "source": [
    "#### Feb 4"
   ]
  },
  {
   "cell_type": "code",
   "execution_count": 65,
   "metadata": {},
   "outputs": [
    {
     "data": {
      "text/plain": [
       "0.0021351781116371207"
      ]
     },
     "execution_count": 65,
     "metadata": {},
     "output_type": "execute_result"
    }
   ],
   "source": [
    "distance_along_normals('/home/csi20local/Documents/MeshSimilarityScripts/PrintMeshCellCentres/build/MQ3_Clipped_transformed-4.txt',\n",
    "                      '/home/csi20local/Documents/MeshSimilarityScripts/PrintNormalIntersections/build/Test1-Feb4.txt')"
   ]
  },
  {
   "cell_type": "markdown",
   "metadata": {},
   "source": [
    "### Unit Test 2: Two concentric cylinders of radii 1 and 4"
   ]
  },
  {
   "cell_type": "code",
   "execution_count": 5,
   "metadata": {},
   "outputs": [
    {
     "data": {
      "text/plain": [
       "2.998519036750858"
      ]
     },
     "execution_count": 5,
     "metadata": {},
     "output_type": "execute_result"
    }
   ],
   "source": [
    "distance_along_normals('/home/csi20local/Documents/MeshSimilarityScripts/PrintMeshCellCentres/build/Test2.txt',\n",
    "                      '/home/csi20local/Documents/MeshSimilarityScripts/PrintNormalIntersections/build/Test2.txt')"
   ]
  },
  {
   "cell_type": "markdown",
   "metadata": {},
   "source": [
    "#### Feb4"
   ]
  },
  {
   "cell_type": "code",
   "execution_count": 67,
   "metadata": {},
   "outputs": [
    {
     "data": {
      "text/plain": [
       "2.998519036750858"
      ]
     },
     "execution_count": 67,
     "metadata": {},
     "output_type": "execute_result"
    }
   ],
   "source": [
    "distance_along_normals('/home/csi20local/Documents/MeshSimilarityScripts/PrintMeshCellCentres/build/Test2.txt',\n",
    "                      '/home/csi20local/Documents/MeshSimilarityScripts/PrintNormalIntersections/build/Test2-Feb4.txt')"
   ]
  },
  {
   "cell_type": "markdown",
   "metadata": {},
   "source": [
    "### Unit Test 3: Slice Sphere radius 4 by XY plane\n",
    "\n",
    "Res of SPhere:\n",
    "\n",
    "Theta Res: 20\n",
    "Phi Res: 20\n",
    "\n",
    "Res of Plane:\n",
    "20 x 20"
   ]
  },
  {
   "cell_type": "code",
   "execution_count": 6,
   "metadata": {},
   "outputs": [
    {
     "data": {
      "text/plain": [
       "2.5381630961538466"
      ]
     },
     "execution_count": 6,
     "metadata": {},
     "output_type": "execute_result"
    }
   ],
   "source": [
    "distance_along_normals('/home/csi20local/Documents/MeshSimilarityScripts/PrintMeshCellCentres/build/Test3.txt',\n",
    "                      '/home/csi20local/Documents/MeshSimilarityScripts/PrintNormalIntersections/build/Test3.txt')"
   ]
  },
  {
   "cell_type": "code",
   "execution_count": 7,
   "metadata": {},
   "outputs": [
    {
     "data": {
      "text/plain": [
       "3.80724464423077"
      ]
     },
     "execution_count": 7,
     "metadata": {},
     "output_type": "execute_result"
    }
   ],
   "source": [
    "2.5381630961538466*3/2.0"
   ]
  },
  {
   "cell_type": "markdown",
   "metadata": {},
   "source": [
    "#### Medium Resolution of Sphere\n",
    "\n",
    "Theta Res: 100. Phi Res: 100"
   ]
  },
  {
   "cell_type": "code",
   "execution_count": 8,
   "metadata": {},
   "outputs": [
    {
     "data": {
      "text/plain": [
       "2.6001823269230764"
      ]
     },
     "execution_count": 8,
     "metadata": {},
     "output_type": "execute_result"
    }
   ],
   "source": [
    "distance_along_normals('/home/csi20local/Documents/MeshSimilarityScripts/PrintMeshCellCentres/build/Test3.txt',\n",
    "                      '/home/csi20local/Documents/MeshSimilarityScripts/PrintNormalIntersections/build/Test3-HiRes.txt')"
   ]
  },
  {
   "cell_type": "code",
   "execution_count": 9,
   "metadata": {},
   "outputs": [
    {
     "data": {
      "text/plain": [
       "3.9002734903846146"
      ]
     },
     "execution_count": 9,
     "metadata": {},
     "output_type": "execute_result"
    }
   ],
   "source": [
    "2.6001823269230764 * 3/2.0"
   ]
  },
  {
   "cell_type": "markdown",
   "metadata": {},
   "source": [
    "#### High Res Sphere\n",
    "\n",
    "Theta res: 500\n",
    "Phi Res: 500"
   ]
  },
  {
   "cell_type": "code",
   "execution_count": 10,
   "metadata": {},
   "outputs": [
    {
     "data": {
      "text/plain": [
       "2.6091704615384614"
      ]
     },
     "execution_count": 10,
     "metadata": {},
     "output_type": "execute_result"
    }
   ],
   "source": [
    "distance_along_normals('/home/csi20local/Documents/MeshSimilarityScripts/PrintMeshCellCentres/build/Test3.txt',\n",
    "                      '/home/csi20local/Documents/MeshSimilarityScripts/PrintNormalIntersections/build/Test3-HiHiRes.txt')"
   ]
  },
  {
   "cell_type": "code",
   "execution_count": 11,
   "metadata": {},
   "outputs": [
    {
     "data": {
      "text/plain": [
       "3.913755692307692"
      ]
     },
     "execution_count": 11,
     "metadata": {},
     "output_type": "execute_result"
    }
   ],
   "source": [
    "2.6091704615384614 * 3/2.0"
   ]
  },
  {
   "cell_type": "markdown",
   "metadata": {},
   "source": [
    "#### High Res Sphere and High Res Plane Normals\n",
    "\n",
    "Res of Plane:\n",
    "100 X 100"
   ]
  },
  {
   "cell_type": "code",
   "execution_count": 12,
   "metadata": {},
   "outputs": [
    {
     "data": {
      "text/plain": [
       "2.665876590332805"
      ]
     },
     "execution_count": 12,
     "metadata": {},
     "output_type": "execute_result"
    }
   ],
   "source": [
    "distance_along_normals('/home/csi20local/Documents/MeshSimilarityScripts/PrintMeshCellCentres/build/Test3-HiResPlane.txt',\n",
    "                      '/home/csi20local/Documents/MeshSimilarityScripts/PrintNormalIntersections/build/Test3-HiHiResSph-HiResPlane.txt')"
   ]
  },
  {
   "cell_type": "code",
   "execution_count": 13,
   "metadata": {},
   "outputs": [
    {
     "data": {
      "text/plain": [
       "3.9988148854992076"
      ]
     },
     "execution_count": 13,
     "metadata": {},
     "output_type": "execute_result"
    }
   ],
   "source": [
    "2.665876590332805 * 3/2.0"
   ]
  },
  {
   "cell_type": "markdown",
   "metadata": {},
   "source": [
    "Double lenght of normals to 8"
   ]
  },
  {
   "cell_type": "code",
   "execution_count": 14,
   "metadata": {},
   "outputs": [
    {
     "data": {
      "text/plain": [
       "2.665876590332805"
      ]
     },
     "execution_count": 14,
     "metadata": {},
     "output_type": "execute_result"
    }
   ],
   "source": [
    "distance_along_normals('/home/csi20local/Documents/MeshSimilarityScripts/PrintMeshCellCentres/build/Test3-HiResPlane.txt',\n",
    "                      '/home/csi20local/Documents/MeshSimilarityScripts/PrintNormalIntersections/build/Test3-HiHiResSph-HiResPlane-long.txt')"
   ]
  },
  {
   "cell_type": "code",
   "execution_count": 15,
   "metadata": {},
   "outputs": [
    {
     "data": {
      "text/plain": [
       "3.9988148854992076"
      ]
     },
     "execution_count": 15,
     "metadata": {},
     "output_type": "execute_result"
    }
   ],
   "source": [
    "2.665876590332805 * 3/2.0"
   ]
  },
  {
   "cell_type": "markdown",
   "metadata": {},
   "source": [
    "#### Feb 4"
   ]
  },
  {
   "cell_type": "code",
   "execution_count": 69,
   "metadata": {},
   "outputs": [
    {
     "data": {
      "text/plain": [
       "2.6455947068145798"
      ]
     },
     "execution_count": 69,
     "metadata": {},
     "output_type": "execute_result"
    }
   ],
   "source": [
    "distance_along_normals('/home/csi20local/Documents/MeshSimilarityScripts/PrintMeshCellCentres/build/Test3-HiResPlane.txt',\n",
    "                      '/home/csi20local/Documents/MeshSimilarityScripts/PrintNormalIntersections/build/Test3-Feb4.txt')"
   ]
  },
  {
   "cell_type": "code",
   "execution_count": 70,
   "metadata": {},
   "outputs": [
    {
     "data": {
      "text/plain": [
       "3.96839206022187"
      ]
     },
     "execution_count": 70,
     "metadata": {},
     "output_type": "execute_result"
    }
   ],
   "source": [
    "2.6455947068145798 * 3/2.0"
   ]
  },
  {
   "cell_type": "code",
   "execution_count": null,
   "metadata": {},
   "outputs": [],
   "source": []
  },
  {
   "cell_type": "markdown",
   "metadata": {},
   "source": [
    "### Unit Test 4: Sphere above and tangential to Plane\n",
    "\n",
    "Sphere Res: 500 X 500\n",
    "Plane Res: 100 X 100"
   ]
  },
  {
   "cell_type": "code",
   "execution_count": 16,
   "metadata": {},
   "outputs": [
    {
     "data": {
      "text/plain": [
       "1.3301714789476191"
      ]
     },
     "execution_count": 16,
     "metadata": {},
     "output_type": "execute_result"
    }
   ],
   "source": [
    "distance_along_normals('/home/csi20local/Documents/MeshSimilarityScripts/PrintMeshCellCentres/build/Test4.txt',\n",
    "                      '/home/csi20local/Documents/MeshSimilarityScripts/PrintNormalIntersections/build/Test4.txt')"
   ]
  },
  {
   "cell_type": "code",
   "execution_count": 17,
   "metadata": {},
   "outputs": [
    {
     "data": {
      "text/plain": [
       "3.990514436842857"
      ]
     },
     "execution_count": 17,
     "metadata": {},
     "output_type": "execute_result"
    }
   ],
   "source": [
    "1.3301714789476191 * 3"
   ]
  },
  {
   "cell_type": "markdown",
   "metadata": {},
   "source": [
    "Double length of normals to 8"
   ]
  },
  {
   "cell_type": "code",
   "execution_count": 18,
   "metadata": {},
   "outputs": [
    {
     "data": {
      "text/plain": [
       "1.3341234734342313"
      ]
     },
     "execution_count": 18,
     "metadata": {},
     "output_type": "execute_result"
    }
   ],
   "source": [
    "distance_along_normals('/home/csi20local/Documents/MeshSimilarityScripts/PrintMeshCellCentres/build/Test4.txt',\n",
    "                      '/home/csi20local/Documents/MeshSimilarityScripts/PrintNormalIntersections/build/Test4-long.txt')"
   ]
  },
  {
   "cell_type": "code",
   "execution_count": 19,
   "metadata": {},
   "outputs": [
    {
     "data": {
      "text/plain": [
       "4.002370420302694"
      ]
     },
     "execution_count": 19,
     "metadata": {},
     "output_type": "execute_result"
    }
   ],
   "source": [
    "1.3341234734342313 * 3"
   ]
  },
  {
   "cell_type": "markdown",
   "metadata": {},
   "source": [
    "#### Feb 4"
   ]
  },
  {
   "cell_type": "code",
   "execution_count": 71,
   "metadata": {},
   "outputs": [
    {
     "data": {
      "text/plain": [
       "1.3424562230380348"
      ]
     },
     "execution_count": 71,
     "metadata": {},
     "output_type": "execute_result"
    }
   ],
   "source": [
    "distance_along_normals('/home/csi20local/Documents/MeshSimilarityScripts/PrintMeshCellCentres/build/Test4.txt',\n",
    "                      '/home/csi20local/Documents/MeshSimilarityScripts/PrintNormalIntersections/build/Test4-Feb4.txt')"
   ]
  },
  {
   "cell_type": "code",
   "execution_count": 72,
   "metadata": {},
   "outputs": [
    {
     "data": {
      "text/plain": [
       "4.027368669114105"
      ]
     },
     "execution_count": 72,
     "metadata": {},
     "output_type": "execute_result"
    }
   ],
   "source": [
    "1.3424562230380348 * 3"
   ]
  },
  {
   "cell_type": "code",
   "execution_count": null,
   "metadata": {},
   "outputs": [],
   "source": []
  },
  {
   "cell_type": "code",
   "execution_count": null,
   "metadata": {},
   "outputs": [],
   "source": []
  },
  {
   "cell_type": "markdown",
   "metadata": {},
   "source": [
    "### Unit Test 5: Sliced Cone halfway through Height\n",
    "\n",
    "Cone Radius: 4 \n",
    "Cone height: 10"
   ]
  },
  {
   "cell_type": "code",
   "execution_count": 20,
   "metadata": {},
   "outputs": [
    {
     "data": {
      "text/plain": [
       "5.0"
      ]
     },
     "execution_count": 20,
     "metadata": {},
     "output_type": "execute_result"
    }
   ],
   "source": [
    "distance_along_normals('/home/csi20local/Documents/MeshSimilarityScripts/PrintMeshCellCentres/build/Test5.txt',\n",
    "                      '/home/csi20local/Documents/MeshSimilarityScripts/PrintNormalIntersections/build/Test5.txt')"
   ]
  },
  {
   "cell_type": "markdown",
   "metadata": {},
   "source": [
    "Reason for 5.0: ALL normals intersect the cone twice, and it takes the 0th intersection point (entrance point). NEXT: Shorten normal lines such that they only intersect cone once. Length 4.8:"
   ]
  },
  {
   "cell_type": "code",
   "execution_count": 21,
   "metadata": {},
   "outputs": [
    {
     "data": {
      "text/plain": [
       "2.3973050686639"
      ]
     },
     "execution_count": 21,
     "metadata": {},
     "output_type": "execute_result"
    }
   ],
   "source": [
    "distance_along_normals('/home/csi20local/Documents/MeshSimilarityScripts/PrintMeshCellCentres/build/Test5.txt',\n",
    "                      '/home/csi20local/Documents/MeshSimilarityScripts/PrintNormalIntersections/build/Test5-short.txt')"
   ]
  },
  {
   "cell_type": "code",
   "execution_count": 22,
   "metadata": {},
   "outputs": [
    {
     "data": {
      "text/plain": [
       "3.59595760299585"
      ]
     },
     "execution_count": 22,
     "metadata": {},
     "output_type": "execute_result"
    }
   ],
   "source": [
    "2.3973050686639 * 3/2.0"
   ]
  },
  {
   "cell_type": "markdown",
   "metadata": {},
   "source": [
    "Length 4.98:"
   ]
  },
  {
   "cell_type": "code",
   "execution_count": 23,
   "metadata": {},
   "outputs": [
    {
     "data": {
      "text/plain": [
       "2.4987477768630573"
      ]
     },
     "execution_count": 23,
     "metadata": {},
     "output_type": "execute_result"
    }
   ],
   "source": [
    "distance_along_normals('/home/csi20local/Documents/MeshSimilarityScripts/PrintMeshCellCentres/build/Test5.txt',\n",
    "                      '/home/csi20local/Documents/MeshSimilarityScripts/PrintNormalIntersections/build/Test5-length498.txt')"
   ]
  },
  {
   "cell_type": "code",
   "execution_count": 24,
   "metadata": {},
   "outputs": [
    {
     "data": {
      "text/plain": [
       "3.748121665294586"
      ]
     },
     "execution_count": 24,
     "metadata": {},
     "output_type": "execute_result"
    }
   ],
   "source": [
    "2.4987477768630573 * 3/2.0"
   ]
  },
  {
   "cell_type": "markdown",
   "metadata": {},
   "source": [
    "Still intersecting cone at 2 points, although not at its base."
   ]
  },
  {
   "cell_type": "code",
   "execution_count": 25,
   "metadata": {},
   "outputs": [
    {
     "data": {
      "text/plain": [
       "1153.575792238675"
      ]
     },
     "execution_count": 25,
     "metadata": {},
     "output_type": "execute_result"
    }
   ],
   "source": [
    "distance_along_normals('/home/csi20local/Documents/MeshSimilarityScripts/PrintMeshCellCentres/build/Test5.txt',\n",
    "                      '/home/csi20local/Documents/MeshSimilarityScripts/PrintNormalIntersections/build/Test5-length498-mod.txt')"
   ]
  },
  {
   "cell_type": "markdown",
   "metadata": {},
   "source": [
    "Modify code to make it such that if it intersects twice, take the 2nd point (exit point)"
   ]
  },
  {
   "cell_type": "code",
   "execution_count": null,
   "metadata": {},
   "outputs": [],
   "source": []
  },
  {
   "cell_type": "code",
   "execution_count": 26,
   "metadata": {},
   "outputs": [
    {
     "data": {
      "text/plain": [
       "5.651215246077548"
      ]
     },
     "execution_count": 26,
     "metadata": {},
     "output_type": "execute_result"
    }
   ],
   "source": [
    "distance_along_normals('/home/csi20local/Documents/MeshSimilarityScripts/PrintMeshCellCentres/build/Test5.txt',\n",
    "                      '/home/csi20local/Documents/MeshSimilarityScripts/PrintNormalIntersections/build/Test5-length498-mod-take2.txt')"
   ]
  },
  {
   "cell_type": "code",
   "execution_count": 27,
   "metadata": {},
   "outputs": [
    {
     "data": {
      "text/plain": [
       "2.4987477768630573"
      ]
     },
     "execution_count": 27,
     "metadata": {},
     "output_type": "execute_result"
    }
   ],
   "source": [
    "distance_along_normals('/home/csi20local/Documents/MeshSimilarityScripts/PrintMeshCellCentres/build/Test5.txt',\n",
    "                      '/home/csi20local/Documents/MeshSimilarityScripts/PrintNormalIntersections/build/Test5-length498-mod-take3.txt')"
   ]
  },
  {
   "cell_type": "code",
   "execution_count": 28,
   "metadata": {},
   "outputs": [
    {
     "data": {
      "text/plain": [
       "3.748121665294586"
      ]
     },
     "execution_count": 28,
     "metadata": {},
     "output_type": "execute_result"
    }
   ],
   "source": [
    "2.4987477768630573 * 3/2.0"
   ]
  },
  {
   "cell_type": "code",
   "execution_count": 29,
   "metadata": {},
   "outputs": [
    {
     "data": {
      "text/plain": [
       "3.666666666666667"
      ]
     },
     "execution_count": 29,
     "metadata": {},
     "output_type": "execute_result"
    }
   ],
   "source": [
    "10/2.0 - 2/3.0 * 4 + 2/3.0 * 2"
   ]
  },
  {
   "cell_type": "markdown",
   "metadata": {},
   "source": [
    "### Retry Mesh distances with Corrected Code"
   ]
  },
  {
   "cell_type": "code",
   "execution_count": 30,
   "metadata": {},
   "outputs": [
    {
     "data": {
      "text/plain": [
       "33.537044977022354"
      ]
     },
     "execution_count": 30,
     "metadata": {},
     "output_type": "execute_result"
    }
   ],
   "source": [
    "distance_along_normals('/home/csi20local/Documents/MeshSimilarityScripts/PrintMeshCellCentres/build/Feb3-1.txt',\n",
    "                      '/home/csi20local/Documents/MeshSimilarityScripts/PrintNormalIntersections/build/Feb3-1.txt')"
   ]
  },
  {
   "cell_type": "code",
   "execution_count": 31,
   "metadata": {},
   "outputs": [
    {
     "data": {
      "text/plain": [
       "42.86574359925652"
      ]
     },
     "execution_count": 31,
     "metadata": {},
     "output_type": "execute_result"
    }
   ],
   "source": [
    "distance_along_normals_mm('/home/csi20local/Documents/MeshSimilarityScripts/PrintMeshCellCentres/build/Feb3-1.txt',\n",
    "                      '/home/csi20local/Documents/MeshSimilarityScripts/PrintNormalIntersections/build/Feb3-1.txt')"
   ]
  },
  {
   "cell_type": "code",
   "execution_count": 4,
   "metadata": {},
   "outputs": [],
   "source": [
    "def distance_along_normals_debug(Path2CellPoints, Path2Intersections):\n",
    "    \n",
    "    # Read in Cell points from the mesh where tracking starts\n",
    "    dfCellPts = pd.read_csv(Path2CellPoints, delim_whitespace=True, skiprows=2, \n",
    "                       names = ['P', 'Cell Number', 'X', 'Y', 'Z'])\n",
    "    dfCellPts = dfCellPts.drop(['P', 'Cell Number'], axis=1)\n",
    "    \n",
    "    # Read in Points of Intersections\n",
    "    dfInters = pd.read_csv(Path2Intersections, delim_whitespace=True, skiprows=5,\n",
    "                           names = ['Inter', 'for', 'C', 'Cell Number', 'X', 'Y', 'Z'])\n",
    "    dfInters = dfInters.drop(['Inter', 'for', 'C', 'Cell Number'], axis=1)\n",
    "    \n",
    "    print('CellPoints shape ', dfCellPts.shape)\n",
    "    print('IntersectionPoints shape ' ,dfInters.shape)\n",
    "\n",
    "    # Calculate distance\n",
    "    deltaX = dfInters['X']-dfCellPts['X']\n",
    "    deltaY = dfInters['Y']-dfCellPts['Y']\n",
    "    deltaZ = dfInters['Z']-dfCellPts['Z']\n",
    "    distance_sq = deltaX**2 + deltaY**2 + deltaZ**2\n",
    "    distance = distance_sq**0.5\n",
    "    \n",
    "    print('Distance shape before cull of zeros ', distance.shape)\n",
    "    \n",
    "    # Drop points which intersect more than once\n",
    "    distance = distance[dfInters['X'] != 0.0]\n",
    "    \n",
    "    print('Distance shape after cull of zeros ', distance.shape)\n",
    "    \n",
    "    #ans = np.mean(distance)\n",
    "    \n",
    "    return deltaX, deltaY, dfInters, distance"
   ]
  },
  {
   "cell_type": "code",
   "execution_count": 47,
   "metadata": {},
   "outputs": [
    {
     "name": "stdout",
     "output_type": "stream",
     "text": [
      "CellPoints shape  (250451, 3)\n",
      "IntersectionPoints shape  (499860, 3)\n",
      "Distance shape before cull of zeros  (499860,)\n",
      "Distance shape after cull of zeros  (229194,)\n"
     ]
    }
   ],
   "source": [
    "deltaXdf, deltaYdf, dfIntersections, d = distance_along_normals_debug('/home/csi20local/Documents/MeshSimilarityScripts/PrintMeshCellCentres/build/Feb3-1.txt',\n",
    "                                                                                         '/home/csi20local/Documents/MeshSimilarityScripts/PrintNormalIntersections/build/Feb3-1.txt')\n"
   ]
  },
  {
   "cell_type": "markdown",
   "metadata": {},
   "source": [
    "### Feb 4 Revise Normal Intersections Code"
   ]
  },
  {
   "cell_type": "code",
   "execution_count": 49,
   "metadata": {},
   "outputs": [
    {
     "data": {
      "text/plain": [
       "1.4082264073387178"
      ]
     },
     "execution_count": 49,
     "metadata": {},
     "output_type": "execute_result"
    }
   ],
   "source": [
    "distance_along_normals('/home/csi20local/Documents/MeshSimilarityScripts/PrintMeshCellCentres/build/Feb3-1.txt',\n",
    "                       '/home/csi20local/Documents/MeshSimilarityScripts/PrintNormalIntersections/build/Feb4-1.txt')\n"
   ]
  },
  {
   "cell_type": "code",
   "execution_count": 50,
   "metadata": {},
   "outputs": [
    {
     "name": "stdout",
     "output_type": "stream",
     "text": [
      "CellPoints shape  (250451, 3)\n",
      "IntersectionPoints shape  (250451, 3)\n",
      "Distance shape before cull of zeros  (250451,)\n",
      "Distance shape after cull of zeros  (229194,)\n"
     ]
    }
   ],
   "source": [
    "deltaXdf, deltaYdf, dfIntersections, d = distance_along_normals_debug('/home/csi20local/Documents/MeshSimilarityScripts/PrintMeshCellCentres/build/Feb3-1.txt',\n",
    "                                                                      '/home/csi20local/Documents/MeshSimilarityScripts/PrintNormalIntersections/build/Feb4-1.txt')\n"
   ]
  },
  {
   "cell_type": "code",
   "execution_count": 53,
   "metadata": {},
   "outputs": [
    {
     "data": {
      "text/plain": [
       "0.0"
      ]
     },
     "execution_count": 53,
     "metadata": {},
     "output_type": "execute_result"
    }
   ],
   "source": [
    "d.min()"
   ]
  },
  {
   "cell_type": "code",
   "execution_count": 54,
   "metadata": {},
   "outputs": [],
   "source": [
    "testd = {'X': [1, 2], 'Y': [3, 4], 'Z': [3,12]}\n",
    "testdf = pd.DataFrame(data=testd)"
   ]
  },
  {
   "cell_type": "code",
   "execution_count": 55,
   "metadata": {},
   "outputs": [],
   "source": [
    "testd2 = {'X': [456, 223], 'Y': [3.12, 432], 'Z': [68,64]}\n",
    "testdf2 = pd.DataFrame(data=testd2)"
   ]
  },
  {
   "cell_type": "code",
   "execution_count": 56,
   "metadata": {},
   "outputs": [
    {
     "data": {
      "text/html": [
       "<div>\n",
       "<style scoped>\n",
       "    .dataframe tbody tr th:only-of-type {\n",
       "        vertical-align: middle;\n",
       "    }\n",
       "\n",
       "    .dataframe tbody tr th {\n",
       "        vertical-align: top;\n",
       "    }\n",
       "\n",
       "    .dataframe thead th {\n",
       "        text-align: right;\n",
       "    }\n",
       "</style>\n",
       "<table border=\"1\" class=\"dataframe\">\n",
       "  <thead>\n",
       "    <tr style=\"text-align: right;\">\n",
       "      <th></th>\n",
       "      <th>X</th>\n",
       "      <th>Y</th>\n",
       "      <th>Z</th>\n",
       "    </tr>\n",
       "  </thead>\n",
       "  <tbody>\n",
       "    <tr>\n",
       "      <th>0</th>\n",
       "      <td>1</td>\n",
       "      <td>3</td>\n",
       "      <td>3</td>\n",
       "    </tr>\n",
       "    <tr>\n",
       "      <th>1</th>\n",
       "      <td>2</td>\n",
       "      <td>4</td>\n",
       "      <td>12</td>\n",
       "    </tr>\n",
       "  </tbody>\n",
       "</table>\n",
       "</div>"
      ],
      "text/plain": [
       "   X  Y   Z\n",
       "0  1  3   3\n",
       "1  2  4  12"
      ]
     },
     "execution_count": 56,
     "metadata": {},
     "output_type": "execute_result"
    }
   ],
   "source": [
    "testdf"
   ]
  },
  {
   "cell_type": "code",
   "execution_count": 57,
   "metadata": {},
   "outputs": [
    {
     "data": {
      "text/html": [
       "<div>\n",
       "<style scoped>\n",
       "    .dataframe tbody tr th:only-of-type {\n",
       "        vertical-align: middle;\n",
       "    }\n",
       "\n",
       "    .dataframe tbody tr th {\n",
       "        vertical-align: top;\n",
       "    }\n",
       "\n",
       "    .dataframe thead th {\n",
       "        text-align: right;\n",
       "    }\n",
       "</style>\n",
       "<table border=\"1\" class=\"dataframe\">\n",
       "  <thead>\n",
       "    <tr style=\"text-align: right;\">\n",
       "      <th></th>\n",
       "      <th>X</th>\n",
       "      <th>Y</th>\n",
       "      <th>Z</th>\n",
       "    </tr>\n",
       "  </thead>\n",
       "  <tbody>\n",
       "    <tr>\n",
       "      <th>0</th>\n",
       "      <td>456</td>\n",
       "      <td>3.12</td>\n",
       "      <td>68</td>\n",
       "    </tr>\n",
       "    <tr>\n",
       "      <th>1</th>\n",
       "      <td>223</td>\n",
       "      <td>432.00</td>\n",
       "      <td>64</td>\n",
       "    </tr>\n",
       "  </tbody>\n",
       "</table>\n",
       "</div>"
      ],
      "text/plain": [
       "     X       Y   Z\n",
       "0  456    3.12  68\n",
       "1  223  432.00  64"
      ]
     },
     "execution_count": 57,
     "metadata": {},
     "output_type": "execute_result"
    }
   ],
   "source": [
    "testdf2"
   ]
  },
  {
   "cell_type": "code",
   "execution_count": 59,
   "metadata": {},
   "outputs": [],
   "source": [
    "a = testdf['X']-testdf2['X']"
   ]
  },
  {
   "cell_type": "code",
   "execution_count": 60,
   "metadata": {},
   "outputs": [
    {
     "data": {
      "text/plain": [
       "0    207025\n",
       "1     48841\n",
       "Name: X, dtype: int64"
      ]
     },
     "execution_count": 60,
     "metadata": {},
     "output_type": "execute_result"
    }
   ],
   "source": [
    "a**2"
   ]
  },
  {
   "cell_type": "code",
   "execution_count": 62,
   "metadata": {},
   "outputs": [
    {
     "data": {
      "text/plain": [
       "455.0"
      ]
     },
     "execution_count": 62,
     "metadata": {},
     "output_type": "execute_result"
    }
   ],
   "source": [
    "np.sqrt(207025)"
   ]
  },
  {
   "cell_type": "code",
   "execution_count": null,
   "metadata": {},
   "outputs": [],
   "source": [
    "testdf['X']"
   ]
  },
  {
   "cell_type": "code",
   "execution_count": 38,
   "metadata": {},
   "outputs": [
    {
     "data": {
      "text/plain": [
       "249930.0"
      ]
     },
     "execution_count": 38,
     "metadata": {},
     "output_type": "execute_result"
    }
   ],
   "source": [
    "499860 / 2.0"
   ]
  },
  {
   "cell_type": "code",
   "execution_count": 37,
   "metadata": {},
   "outputs": [
    {
     "data": {
      "text/plain": [
       "X    0.0\n",
       "Y    0.0\n",
       "Z    0.0\n",
       "Name: 78, dtype: float64"
      ]
     },
     "execution_count": 37,
     "metadata": {},
     "output_type": "execute_result"
    }
   ],
   "source": [
    "dfIntersections.iloc[]"
   ]
  },
  {
   "cell_type": "code",
   "execution_count": 64,
   "metadata": {},
   "outputs": [
    {
     "name": "stdout",
     "output_type": "stream",
     "text": [
      "0   -455\n",
      "1   -221\n",
      "Name: X, dtype: int64\n"
     ]
    }
   ],
   "source": [
    "print(a)"
   ]
  },
  {
   "cell_type": "code",
   "execution_count": null,
   "metadata": {},
   "outputs": [],
   "source": [
    "deltaXdf"
   ]
  },
  {
   "cell_type": "code",
   "execution_count": null,
   "metadata": {},
   "outputs": [],
   "source": [
    "dfIntersections.head()"
   ]
  },
  {
   "cell_type": "code",
   "execution_count": null,
   "metadata": {},
   "outputs": [],
   "source": []
  },
  {
   "cell_type": "code",
   "execution_count": null,
   "metadata": {},
   "outputs": [],
   "source": [
    "# Read in Cell points from the mesh where tracking starts\n",
    "dfCellPts = pd.read_csv('/home/csi20local/Documents/MeshSimilarityScripts/PrintMeshCellCentres/build/Feb3-1.txt',\n",
    "                            delim_whitespace=True, skiprows=2, \n",
    "                       names = ['P', 'Cell Number', 'X', 'Y', 'Z'])\n",
    "dfCellPts = dfCellPts.drop(['P', 'Cell Number'], axis=1)\n",
    "    \n",
    "# Read in Points of Intersections\n",
    "dfInters = pd.read_csv('/home/csi20local/Documents/MeshSimilarityScripts/PrintNormalIntersections/build/Feb3-1.txt',\n",
    "                           delim_whitespace=True, skiprows=5,\n",
    "                           names = ['Inter', 'for', 'C', 'Cell Number', 'X', 'Y', 'Z'])\n",
    "dfInters = dfInters.drop(['Inter', 'for', 'C', 'Cell Number'], axis=1)\n"
   ]
  },
  {
   "cell_type": "code",
   "execution_count": null,
   "metadata": {},
   "outputs": [],
   "source": [
    "dfInters.shape[0]"
   ]
  },
  {
   "cell_type": "code",
   "execution_count": null,
   "metadata": {},
   "outputs": [],
   "source": [
    "dfCellPts.shape[0]"
   ]
  },
  {
   "cell_type": "code",
   "execution_count": null,
   "metadata": {},
   "outputs": [],
   "source": [
    "\n",
    "# Calculate distance\n",
    "deltaX = dfInters['X']-dfCellPts['X']\n",
    "deltaY = dfInters['Y']-dfCellPts['Y']\n",
    "deltaZ = dfInters['Z']-dfCellPts['Z']\n",
    "distance_sq = deltaX**2 + deltaY**2 + deltaZ**2\n",
    "distance = distance_sq**0.5\n",
    "\n",
    "     # Drop points which intersect more than once\n",
    "distance = distance[dfInters['X'] != 0.0]\n",
    "    \n",
    "ans = np.mean(distancreturn ans"
   ]
  },
  {
   "cell_type": "markdown",
   "metadata": {},
   "source": [
    "### CT-CRT-01"
   ]
  },
  {
   "cell_type": "markdown",
   "metadata": {},
   "source": [
    "##### LV Parameters\n",
    "\n",
    "##### SW 9 e-3\n",
    "##### BE 4 e-7"
   ]
  },
  {
   "cell_type": "code",
   "execution_count": 5,
   "metadata": {},
   "outputs": [
    {
     "data": {
      "text/plain": [
       "0.6885403871655434"
      ]
     },
     "execution_count": 5,
     "metadata": {},
     "output_type": "execute_result"
    }
   ],
   "source": [
    "distance_along_normals('/home/csi20local/Documents/MeshSimilarityScripts/PrintMeshCellCentres/build/CT-CRT-01/LV/RefCellCentres.txt',\n",
    "                      '/home/csi20local/Documents/MeshSimilarityScripts/PrintNormalIntersections/build/CT-CRT-01/LV/Feb5.txt')"
   ]
  },
  {
   "cell_type": "code",
   "execution_count": 6,
   "metadata": {},
   "outputs": [
    {
     "data": {
      "text/plain": [
       "0.42495752972764944"
      ]
     },
     "execution_count": 6,
     "metadata": {},
     "output_type": "execute_result"
    }
   ],
   "source": [
    "distance_along_normals_mm('/home/csi20local/Documents/MeshSimilarityScripts/PrintMeshCellCentres/build/CT-CRT-01/LV/RefCellCentres.txt',\n",
    "                      '/home/csi20local/Documents/MeshSimilarityScripts/PrintNormalIntersections/build/CT-CRT-01/LV/Feb5.txt',\n",
    "                         0.439453, 0.439453, 1.0)"
   ]
  },
  {
   "cell_type": "code",
   "execution_count": 6,
   "metadata": {
    "collapsed": true
   },
   "outputs": [
    {
     "name": "stdout",
     "output_type": "stream",
     "text": [
      "CellPoints shape  (150765, 3)\n",
      "IntersectionPoints shape  (150765, 3)\n",
      "Distance shape before cull of zeros  (150765,)\n",
      "Distance shape after cull of zeros  (150317,)\n"
     ]
    },
    {
     "data": {
      "text/plain": [
       "(0         0.56157\n",
       " 1         1.99528\n",
       " 2         0.55559\n",
       " 3         0.58554\n",
       " 4         0.56850\n",
       "            ...   \n",
       " 150760   -0.04210\n",
       " 150761    0.00817\n",
       " 150762    0.00979\n",
       " 150763    0.00428\n",
       " 150764    0.00576\n",
       " Name: X, Length: 150765, dtype: float64, 0           0.064\n",
       " 1         142.625\n",
       " 2           0.071\n",
       " 3           0.074\n",
       " 4           0.049\n",
       "            ...   \n",
       " 150760      0.110\n",
       " 150761      0.061\n",
       " 150762      0.068\n",
       " 150763      0.032\n",
       " 150764      0.040\n",
       " Name: Y, Length: 150765, dtype: float64,                X        Y        Z\n",
       " 0       -1.36086 -142.740  366.119\n",
       " 1        0.00000    0.000    0.000\n",
       " 2       -1.49221 -142.937  366.036\n",
       " 3       -1.33307 -143.133  366.058\n",
       " 4       -1.48735 -143.387  365.965\n",
       " ...          ...      ...      ...\n",
       " 150760  16.29700 -175.631  418.112\n",
       " 150761  -8.83688 -163.253  412.644\n",
       " 150762  -8.96498 -163.323  412.466\n",
       " 150763  -8.61886 -163.383  412.530\n",
       " 150764  -8.74711 -163.452  412.350\n",
       " \n",
       " [150765 rows x 3 columns], 0         1.032450\n",
       " 2         1.017115\n",
       " 3         1.072081\n",
       " 4         1.051324\n",
       " 5         1.094603\n",
       "             ...   \n",
       " 150760    0.134046\n",
       " 150761    0.069834\n",
       " 150762    0.077103\n",
       " 150763    0.036487\n",
       " 150764    0.045543\n",
       " Length: 150317, dtype: float64)"
      ]
     },
     "execution_count": 6,
     "metadata": {},
     "output_type": "execute_result"
    }
   ],
   "source": [
    "distance_along_normals_debug('/home/csi20local/Documents/MeshSimilarityScripts/PrintMeshCellCentres/build/CT-CRT-01/LV/RefCellCentres.txt',\n",
    "                      '/home/csi20local/Documents/MeshSimilarityScripts/PrintNormalIntersections/build/CT-CRT-01/LV/Feb5.txt')"
   ]
  },
  {
   "cell_type": "code",
   "execution_count": 25,
   "metadata": {},
   "outputs": [
    {
     "data": {
      "text/plain": [
       "0.6885403871655434"
      ]
     },
     "execution_count": 25,
     "metadata": {},
     "output_type": "execute_result"
    }
   ],
   "source": [
    "distance_along_normals(Path2CellPoints='/home/csi20local/Documents/MeshSimilarityScripts/PrintMeshCellCentres/build/CT-CRT-01/LV/transformed-4-clip.txt',\n",
    "                       Path2Intersections='/home/csi20local/Documents/MeshSimilarityScripts/PrintNormalIntersections/build/CT-CRT-01/LV/intersections-4-clip.txt')\n"
   ]
  },
  {
   "cell_type": "markdown",
   "metadata": {},
   "source": [
    "##### Feb 10: automated produced data using Deform.sh"
   ]
  },
  {
   "cell_type": "code",
   "execution_count": 5,
   "metadata": {},
   "outputs": [
    {
     "data": {
      "text/plain": [
       "0.7472549844379646"
      ]
     },
     "execution_count": 5,
     "metadata": {},
     "output_type": "execute_result"
    }
   ],
   "source": [
    "distance_along_normals(Path2CellPoints='/home/csi20local/Data/MarinaData/CT_Charlie/CT-CRT-01/MT/SW-9e-3-BE-4e-7/transformed-4-clip-Cell-Centres.txt',\n",
    "                      Path2Intersections='/home/csi20local/Data/MarinaData/CT_Charlie/CT-CRT-01/MT/SW-9e-3-BE-4e-7/normal-intersections-4.txt')"
   ]
  },
  {
   "cell_type": "code",
   "execution_count": 6,
   "metadata": {},
   "outputs": [
    {
     "data": {
      "text/plain": [
       "0.4537238888400876"
      ]
     },
     "execution_count": 6,
     "metadata": {},
     "output_type": "execute_result"
    }
   ],
   "source": [
    "distance_along_normals_mm('/home/csi20local/Data/MarinaData/CT_Charlie/CT-CRT-01/MT/SW-9e-3-BE-4e-7/transformed-4-clip-Cell-Centres.txt',\n",
    "                          '/home/csi20local/Data/MarinaData/CT_Charlie/CT-CRT-01/MT/SW-9e-3-BE-4e-7/normal-intersections-4.txt',\n",
    "                         0.439453, 0.439453, 1.0)"
   ]
  },
  {
   "cell_type": "code",
   "execution_count": null,
   "metadata": {},
   "outputs": [],
   "source": []
  },
  {
   "cell_type": "markdown",
   "metadata": {},
   "source": [
    "##### SW 9 e-3 \n",
    "##### BE 1 e-6"
   ]
  },
  {
   "cell_type": "code",
   "execution_count": 7,
   "metadata": {},
   "outputs": [
    {
     "data": {
      "text/plain": [
       "0.7659915108280771"
      ]
     },
     "execution_count": 7,
     "metadata": {},
     "output_type": "execute_result"
    }
   ],
   "source": [
    "distance_along_normals(Path2CellPoints='/home/csi20local/Documents/MeshSimilarityScripts/PrintMeshCellCentres/build/CT-CRT-01/SW9e-3_BE1e-6/transformed-4-clip.txt',\n",
    "                       Path2Intersections='/home/csi20local/Documents/MeshSimilarityScripts/PrintNormalIntersections/build/CT-CRT-01/SW9e-3_BE1e-6/intersections-4-clip.txt')\n"
   ]
  },
  {
   "cell_type": "code",
   "execution_count": 15,
   "metadata": {},
   "outputs": [
    {
     "data": {
      "text/plain": [
       "0.47197250748148917"
      ]
     },
     "execution_count": 15,
     "metadata": {},
     "output_type": "execute_result"
    }
   ],
   "source": [
    "distance_along_normals_mm('/home/csi20local/Documents/MeshSimilarityScripts/PrintMeshCellCentres/build/CT-CRT-01/SW9e-3_BE1e-6/transformed-4-clip.txt',\n",
    "                       '/home/csi20local/Documents/MeshSimilarityScripts/PrintNormalIntersections/build/CT-CRT-01/SW9e-3_BE1e-6/intersections-4-clip.txt',\n",
    "                          0.439453, 0.439453, 1.0)\n"
   ]
  },
  {
   "cell_type": "code",
   "execution_count": 16,
   "metadata": {
    "collapsed": true
   },
   "outputs": [
    {
     "name": "stdout",
     "output_type": "stream",
     "text": [
      "CellPoints shape  (148145, 3)\n",
      "IntersectionPoints shape  (148145, 3)\n",
      "Distance shape before cull of zeros  (148145,)\n",
      "Distance shape after cull of zeros  (147859,)\n"
     ]
    },
    {
     "data": {
      "text/plain": [
       "(0         0.36847\n",
       " 1         0.36136\n",
       " 2         0.37953\n",
       " 3         2.00529\n",
       " 4         0.38293\n",
       "            ...   \n",
       " 148140   -0.03150\n",
       " 148141    0.04064\n",
       " 148142    0.04611\n",
       " 148143    0.03573\n",
       " 148144    0.04079\n",
       " Name: X, Length: 148145, dtype: float64, 0           0.072\n",
       " 1           0.063\n",
       " 2           0.068\n",
       " 3         143.712\n",
       " 4           0.062\n",
       "            ...   \n",
       " 148140      0.083\n",
       " 148141      0.310\n",
       " 148142      0.314\n",
       " 148143      0.281\n",
       " 148144      0.286\n",
       " Name: Y, Length: 148145, dtype: float64,                X        Y        Z\n",
       " 0       -1.54671 -142.896  366.024\n",
       " 1       -1.66391 -143.169  365.933\n",
       " 2       -1.51790 -143.374  365.955\n",
       " 3        0.00000    0.000    0.000\n",
       " 4       -1.48662 -143.862  365.907\n",
       " ...          ...      ...      ...\n",
       " 148140  16.00880 -175.559  418.390\n",
       " 148141  -8.78678 -163.183  412.781\n",
       " 148142  -8.90401 -163.257  412.608\n",
       " 148143  -8.57360 -163.310  412.668\n",
       " 148144  -8.69125 -163.383  412.493\n",
       " \n",
       " [148145 rows x 3 columns], 0         0.711175\n",
       " 1         0.701537\n",
       " 2         0.739478\n",
       " 4         0.755237\n",
       " 5         0.730961\n",
       "             ...   \n",
       " 148140    0.103394\n",
       " 148141    0.355405\n",
       " 148142    0.356323\n",
       " 148143    0.321468\n",
       " 148144    0.324143\n",
       " Length: 147859, dtype: float64)"
      ]
     },
     "execution_count": 16,
     "metadata": {},
     "output_type": "execute_result"
    }
   ],
   "source": [
    "distance_along_normals_debug(Path2CellPoints='/home/csi20local/Documents/MeshSimilarityScripts/PrintMeshCellCentres/build/CT-CRT-01/SW9e-3_BE1e-6/transformed-4-clip.txt',\n",
    "                       Path2Intersections='/home/csi20local/Documents/MeshSimilarityScripts/PrintNormalIntersections/build/CT-CRT-01/SW9e-3_BE1e-6/intersections-4-clip.txt')\n"
   ]
  },
  {
   "cell_type": "markdown",
   "metadata": {},
   "source": [
    "##### SW 9 e-3 \n",
    "##### BE 1 e-7"
   ]
  },
  {
   "cell_type": "code",
   "execution_count": 17,
   "metadata": {},
   "outputs": [
    {
     "data": {
      "text/plain": [
       "0.695056729734825"
      ]
     },
     "execution_count": 17,
     "metadata": {},
     "output_type": "execute_result"
    }
   ],
   "source": [
    "distance_along_normals(Path2CellPoints='/home/csi20local/Documents/MeshSimilarityScripts/PrintMeshCellCentres/build/CT-CRT-01/SW9e-3_BE1e-7/transformed-4-clip.txt',\n",
    "                       Path2Intersections='/home/csi20local/Documents/MeshSimilarityScripts/PrintNormalIntersections/build/CT-CRT-01/SW9e-3_BE1e-7/intersections-4-clip.txt')\n"
   ]
  },
  {
   "cell_type": "code",
   "execution_count": 20,
   "metadata": {},
   "outputs": [
    {
     "data": {
      "text/plain": [
       "0.432240558652489"
      ]
     },
     "execution_count": 20,
     "metadata": {},
     "output_type": "execute_result"
    }
   ],
   "source": [
    "distance_along_normals_mm('/home/csi20local/Documents/MeshSimilarityScripts/PrintMeshCellCentres/build/CT-CRT-01/SW9e-3_BE1e-7/transformed-4-clip.txt',\n",
    "                       '/home/csi20local/Documents/MeshSimilarityScripts/PrintNormalIntersections/build/CT-CRT-01/SW9e-3_BE1e-7/intersections-4-clip.txt',\n",
    "                      0.439453, 0.439453, 1.0)\n"
   ]
  },
  {
   "cell_type": "markdown",
   "metadata": {},
   "source": [
    "##### SW 9 e-3 \n",
    "##### BE 1 e-8"
   ]
  },
  {
   "cell_type": "code",
   "execution_count": 21,
   "metadata": {},
   "outputs": [
    {
     "data": {
      "text/plain": [
       "0.7249762240173288"
      ]
     },
     "execution_count": 21,
     "metadata": {},
     "output_type": "execute_result"
    }
   ],
   "source": [
    "distance_along_normals(Path2CellPoints='/home/csi20local/Documents/MeshSimilarityScripts/PrintMeshCellCentres/build/CT-CRT-01/SW9e-3_BE1e-8/transformed-4-clip.txt',\n",
    "                       Path2Intersections='/home/csi20local/Documents/MeshSimilarityScripts/PrintNormalIntersections/build/CT-CRT-01/SW9e-3_BE1e-8/intersections-4-clip.txt')\n"
   ]
  },
  {
   "cell_type": "code",
   "execution_count": 22,
   "metadata": {},
   "outputs": [
    {
     "data": {
      "text/plain": [
       "0.45074833460469954"
      ]
     },
     "execution_count": 22,
     "metadata": {},
     "output_type": "execute_result"
    }
   ],
   "source": [
    "distance_along_normals_mm('/home/csi20local/Documents/MeshSimilarityScripts/PrintMeshCellCentres/build/CT-CRT-01/SW9e-3_BE1e-8/transformed-4-clip.txt',\n",
    "                       '/home/csi20local/Documents/MeshSimilarityScripts/PrintNormalIntersections/build/CT-CRT-01/SW9e-3_BE1e-8/intersections-4-clip.txt',\n",
    "                         0.439453, 0.439453, 1.0)\n"
   ]
  },
  {
   "cell_type": "markdown",
   "metadata": {},
   "source": [
    "##### SW 9 e-3 \n",
    "##### BE 4 e-8"
   ]
  },
  {
   "cell_type": "code",
   "execution_count": 23,
   "metadata": {},
   "outputs": [
    {
     "data": {
      "text/plain": [
       "0.7445629222868263"
      ]
     },
     "execution_count": 23,
     "metadata": {},
     "output_type": "execute_result"
    }
   ],
   "source": [
    "distance_along_normals(Path2CellPoints='/home/csi20local/Documents/MeshSimilarityScripts/PrintMeshCellCentres/build/CT-CRT-01/SW9e-3_BE4e-8/transformed-4-clip.txt',\n",
    "                       Path2Intersections='/home/csi20local/Documents/MeshSimilarityScripts/PrintNormalIntersections/build/CT-CRT-01/SW9e-3_BE4e-8/intersections-4-clip.txt')\n"
   ]
  },
  {
   "cell_type": "code",
   "execution_count": 24,
   "metadata": {},
   "outputs": [
    {
     "data": {
      "text/plain": [
       "0.4609521722370545"
      ]
     },
     "execution_count": 24,
     "metadata": {},
     "output_type": "execute_result"
    }
   ],
   "source": [
    "distance_along_normals_mm('/home/csi20local/Documents/MeshSimilarityScripts/PrintMeshCellCentres/build/CT-CRT-01/SW9e-3_BE4e-8/transformed-4-clip.txt',\n",
    "                       '/home/csi20local/Documents/MeshSimilarityScripts/PrintNormalIntersections/build/CT-CRT-01/SW9e-3_BE4e-8/intersections-4-clip.txt',\n",
    "                         0.439453, 0.439453, 1.0)\n"
   ]
  },
  {
   "cell_type": "code",
   "execution_count": null,
   "metadata": {},
   "outputs": [],
   "source": []
  }
 ],
 "metadata": {
  "kernelspec": {
   "display_name": "Python 3",
   "language": "python",
   "name": "python3"
  },
  "language_info": {
   "codemirror_mode": {
    "name": "ipython",
    "version": 3
   },
   "file_extension": ".py",
   "mimetype": "text/x-python",
   "name": "python",
   "nbconvert_exporter": "python",
   "pygments_lexer": "ipython3",
   "version": "3.7.3"
  }
 },
 "nbformat": 4,
 "nbformat_minor": 2
}
