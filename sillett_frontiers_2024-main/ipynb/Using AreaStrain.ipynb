{
 "cells": [
  {
   "cell_type": "code",
   "execution_count": 1,
   "metadata": {},
   "outputs": [],
   "source": [
    "from areastrain import AreaStrain"
   ]
  },
  {
   "cell_type": "code",
   "execution_count": 2,
   "metadata": {},
   "outputs": [],
   "source": [
    "path2dcm0areas = '/home/csi20local/Data/MRI-MT-Challenge/dcm0/seg-latest-meshtool-smth-1000-area.txt'\n",
    "path2trkareas = '/home/csi20local/Data/MRI-MT-Challenge/TSFFD/MT-HHHRes/meshtool-smth-1000-transformed-50-area.txt'"
   ]
  },
  {
   "cell_type": "code",
   "execution_count": 3,
   "metadata": {},
   "outputs": [
    {
     "data": {
      "text/plain": [
       "0      -0.021968\n",
       "1      -0.170209\n",
       "2      -0.101850\n",
       "3      -0.293985\n",
       "4       0.101000\n",
       "          ...   \n",
       "4527    0.251678\n",
       "4528    0.333482\n",
       "4529    0.417795\n",
       "4530    0.512375\n",
       "4531    0.588185\n",
       "Name: Area, Length: 4532, dtype: float64"
      ]
     },
     "execution_count": 3,
     "metadata": {},
     "output_type": "execute_result"
    }
   ],
   "source": [
    "AreaStrain(path2dcm0areas, path2trkareas)"
   ]
  }
 ],
 "metadata": {
  "kernelspec": {
   "display_name": "Python 3 (ipykernel)",
   "language": "python",
   "name": "python3"
  },
  "language_info": {
   "codemirror_mode": {
    "name": "ipython",
    "version": 3
   },
   "file_extension": ".py",
   "mimetype": "text/x-python",
   "name": "python",
   "nbconvert_exporter": "python",
   "pygments_lexer": "ipython3",
   "version": "3.9.7"
  }
 },
 "nbformat": 4,
 "nbformat_minor": 2
}
