{
 "cells": [
  {
   "cell_type": "markdown",
   "id": "d21bc1ea",
   "metadata": {},
   "source": [
    "This notebook is for re-doing the analysis for Abstract 2 using area strains instead of longitudinal strains\n",
    "\n",
    "Using pyvista"
   ]
  },
  {
   "cell_type": "code",
   "execution_count": 1,
   "id": "c32a844d",
   "metadata": {},
   "outputs": [
    {
     "data": {
      "text/plain": [
       "29"
      ]
     },
     "execution_count": 1,
     "metadata": {},
     "output_type": "execute_result"
    }
   ],
   "source": [
    "import matplotlib.pyplot as plt\n",
    "import seaborn as sns\n",
    "import numpy as np\n",
    "from hrs_23_figures import *\n",
    "import pyvista as pv\n",
    "from scipy import stats\n",
    "from scipy.stats import pearsonr\n",
    "\n",
    "all_cases = af_cases + nonaf_cases\n",
    "\n",
    "len(all_cases)"
   ]
  },
  {
   "cell_type": "code",
   "execution_count": 16,
   "id": "43d9c773",
   "metadata": {},
   "outputs": [
    {
     "name": "stdout",
     "output_type": "stream",
     "text": [
      "2.116925557672909e-05\n"
     ]
    },
    {
     "data": {
      "text/plain": [
       "Text(0, 0.5, 'Strain Standard Deviatio')"
      ]
     },
     "execution_count": 16,
     "metadata": {},
     "output_type": "execute_result"
    },
    {
     "data": {
      "image/png": "[encoded data removed]",
      "text/plain": [
       "<Figure size 432x288 with 1 Axes>"
      ]
     },
     "metadata": {
      "needs_background": "light"
     },
     "output_type": "display_data"
    }
   ],
   "source": [
    "## Using percentiles filters\n",
    "\n",
    "frame=4\n",
    "upper_percent=99\n",
    "fibre_arch=\"endo_avg\"\n",
    "\n",
    "endo_avg=np.zeros((len(all_cases),))\n",
    "area=np.zeros((len(all_cases),))\n",
    "\n",
    "for i in range(0, len(all_cases)):\n",
    "#     print(case)\n",
    "    case=all_cases[i]\n",
    "    \n",
    "    data = retrieve_fibres_all_data(case, fibre_arch, frame)['f1']\n",
    "    data_bounds = np.percentile(data, [0, upper_percent])\n",
    "    condition = data[:] > data_bounds[1]\n",
    "    data[condition]=np.nan\n",
    "    \n",
    "    area_data = retrieve_area_strain_all_data(case, 'area', frame)['Area']\n",
    "#     long_data_bounds = np.percentile(long_data, [0, upper_percent])\n",
    "#     condition_l = long_data[:] > long_data_bounds[1]\n",
    "#     long_data[condition_l]=np.nan\n",
    "    \n",
    "#     area_data = area_data.apply(np.sqrt)\n",
    "    \n",
    "    std = np.nanstd(data)\n",
    "    std_a = np.nanstd(area_data)\n",
    "    \n",
    "    endo_avg[i]=std\n",
    "    area[i]=std_a\n",
    "    \n",
    "#     print(case, \"\\t\", std, \"\\t\", std_l)\n",
    "\n",
    "data_to_plot = [endo_avg, area]\n",
    "\n",
    "sns.boxplot(data=data_to_plot)\n",
    "\n",
    "p_val = stats.ttest_ind(endo_avg, area)[-1]\n",
    "print(p_val)\n",
    "\n",
    "# plt.ylim(0, 0.5)\n",
    "plt.ylabel(\"Strain Standard Deviatio\")\n",
    "## Comment: little difference in global stddev between long and fib"
   ]
  },
  {
   "cell_type": "code",
   "execution_count": 17,
   "id": "82dbb73c",
   "metadata": {},
   "outputs": [
    {
     "name": "stdout",
     "output_type": "stream",
     "text": [
      "0.003587077487487608\n"
     ]
    },
    {
     "data": {
      "text/plain": [
       "Text(0, 0.5, 'Strain Standard Deviatio')"
      ]
     },
     "execution_count": 17,
     "metadata": {},
     "output_type": "execute_result"
    },
    {
     "data": {
      "image/png": "[encoded data removed]",
      "text/plain": [
       "<Figure size 432x288 with 1 Axes>"
      ]
     },
     "metadata": {
      "needs_background": "light"
     },
     "output_type": "display_data"
    }
   ],
   "source": [
    "## Using percentiles filters\n",
    "\n",
    "frame=4\n",
    "upper_percent=99\n",
    "fibre_arch=\"endo_avg\"\n",
    "\n",
    "endo_avg=np.zeros((len(all_cases),))\n",
    "area=np.zeros((len(all_cases),))\n",
    "\n",
    "for i in range(0, len(all_cases)):\n",
    "#     print(case)\n",
    "    case=all_cases[i]\n",
    "    \n",
    "    data = retrieve_fibres_all_data(case, fibre_arch, frame)['f1']\n",
    "    data_bounds = np.percentile(data, [0, upper_percent])\n",
    "    condition = data[:] > data_bounds[1]\n",
    "    data[condition]=np.nan\n",
    "    \n",
    "    area_data = retrieve_area_strain_all_data(case, 'squeez', frame)['Area']\n",
    "#     long_data_bounds = np.percentile(long_data, [0, upper_percent])\n",
    "#     condition_l = long_data[:] > long_data_bounds[1]\n",
    "#     long_data[condition_l]=np.nan\n",
    "    \n",
    "    std = np.nanstd(data)\n",
    "    std_a = np.nanstd(area_data)\n",
    "    \n",
    "    endo_avg[i]=std\n",
    "    area[i]=std_a\n",
    "    \n",
    "#     print(case, \"\\t\", std, \"\\t\", std_l)\n",
    "\n",
    "data_to_plot = [endo_avg, area]\n",
    "\n",
    "sns.boxplot(data=data_to_plot)\n",
    "\n",
    "p_val = stats.ttest_ind(endo_avg, area)[-1]\n",
    "print(p_val)\n",
    "\n",
    "# plt.ylim(0, 0.5)\n",
    "plt.ylabel(\"Strain Standard Deviatio\")\n",
    "\n",
    "## Comment: little difference in global stddev between long and fib"
   ]
  },
  {
   "cell_type": "code",
   "execution_count": 6,
   "id": "9e64b6e3",
   "metadata": {},
   "outputs": [
    {
     "name": "stdout",
     "output_type": "stream",
     "text": [
      "0.0115574804752141\n",
      "0.03915107322691764\n",
      "0.06140278582688843\n",
      "0.057350036612365644\n",
      "0.3133744392957542\n"
     ]
    }
   ],
   "source": [
    "## Regionally \n",
    "\n",
    "frame=4\n",
    "upper_percent=99\n",
    "fib_arch=\"epi_avg\"\n",
    "\n",
    "## N_cases, N_regions\n",
    "\n",
    "fib_std=np.zeros((len(all_cases),5))\n",
    "long_std=np.zeros((len(all_cases),5))\n",
    "fib_mean=np.zeros((len(all_cases),5))\n",
    "long_mean=np.zeros((len(all_cases),5))\n",
    "\n",
    "p_val_std=np.zeros((5,))\n",
    "\n",
    "regions = [\"roof\", \"sept\", \"lat\", \"ant\", \"post\"]\n",
    "\n",
    "for i in range(0, len(all_cases)):\n",
    "    case=all_cases[i]\n",
    "    \n",
    "    for region_j in range(0,len(regions)):\n",
    "        region = regions[region_j]\n",
    "    \n",
    "        ## All regional cell data\n",
    "        ## Fibres\n",
    "        data = extract_region(case, fib_arch, frame, region_j+1)['f1']\n",
    "        data_bounds = np.percentile(data, [0, upper_percent])\n",
    "        condition = data[:] > data_bounds[1]\n",
    "        data[condition]=np.nan\n",
    "\n",
    "        ## All regional cell data\n",
    "        ## Longitudinal\n",
    "        long_data = extract_region(case, fib_arch, frame, region_j+1, True)['f1']\n",
    "        long_data_bounds = np.percentile(long_data, [0, upper_percent])\n",
    "        condition_l = long_data[:] > long_data_bounds[1]\n",
    "        long_data[condition_l]=np.nan\n",
    "\n",
    "        std = np.nanstd(data)\n",
    "        std_l = np.nanstd(long_data)\n",
    "        \n",
    "        mean = np.nanmean(data)\n",
    "        mean_l = np.nanmean(long_data)\n",
    "        \n",
    "        fib_std[i, region_j]=std\n",
    "        long_std[i, region_j]=std_l\n",
    "        \n",
    "        fib_mean[i, region_j]=mean\n",
    "        long_mean[i, region_j]=mean_l\n",
    "\n",
    "#         print(case, \"\\t\", std, \"\\t\", std_l)\n",
    "\n",
    "for i in range(0, len(regions)):\n",
    "    p_val_std[i] = stats.ttest_ind(fib_std[:, i], long_std[:, i])[-1]\n",
    "\n",
    "    print(p_val_std[i])\n",
    "    \n",
    "## More pronounced differences between spread of strain values\n",
    "## Long seems to have more homogeneous strains except for the lateral wall"
   ]
  },
  {
   "cell_type": "code",
   "execution_count": 7,
   "id": "9a78df09",
   "metadata": {
    "scrolled": false
   },
   "outputs": [
    {
     "data": {
      "text/plain": [
       "([<matplotlib.axis.XTick at 0x7f4a5f4b8880>,\n",
       "  <matplotlib.axis.XTick at 0x7f4a5f4b87f0>,\n",
       "  <matplotlib.axis.XTick at 0x7f4a5eb94a60>,\n",
       "  <matplotlib.axis.XTick at 0x7f4a5f2b3b50>,\n",
       "  <matplotlib.axis.XTick at 0x7f4a5f2cb2e0>],\n",
       " [Text(0.5, 0, 'roof'),\n",
       "  Text(2.5, 0, 'sept'),\n",
       "  Text(4.5, 0, 'lat'),\n",
       "  Text(6.5, 0, 'ant'),\n",
       "  Text(8.5, 0, 'post')])"
      ]
     },
     "execution_count": 7,
     "metadata": {},
     "output_type": "execute_result"
    },
    {
     "data": {
      "image/png": "[encoded data removed]",
      "text/plain": [
       "<Figure size 360x360 with 1 Axes>"
      ]
     },
     "metadata": {},
     "output_type": "display_data"
    }
   ],
   "source": [
    "## boxplot \n",
    "fig, ((ax1)) = plt.subplots(1,1,figsize=(5,5), \n",
    "                            facecolor='white', sharey=True)\n",
    "\n",
    "data_to_plot = [fib_std[:, 0], long_std[:, 0],\n",
    "               fib_std[:, 1], long_std[:, 1],\n",
    "               fib_std[:, 2], long_std[:, 2],\n",
    "               fib_std[:, 3], long_std[:, 3],\n",
    "               fib_std[:, 4], long_std[:, 4]]\n",
    "\n",
    "\n",
    "sns.boxplot(data=data_to_plot, ax=ax1)\n",
    "\n",
    "# for i in range(0, 10, 2):\n",
    "#     mybox = ax1.artists[0]\n",
    "#     mybox.set_facecolor('tab:blue')\n",
    "\n",
    "# for i in range(1, 13, 2):\n",
    "#     mybox = ax1.artists[i]\n",
    "#     mybox.set_facecolor('tab:orange')\n",
    "\n",
    "plt.ylabel(\"Strain $\\sigma$\")\n",
    "plt.xticks(np.arange(0.5, 9.5, 2), regions)"
   ]
  },
  {
   "cell_type": "code",
   "execution_count": 11,
   "id": "da2d183f",
   "metadata": {},
   "outputs": [
    {
     "data": {
      "text/plain": [
       "([<matplotlib.axis.XTick at 0x7f4a5f712520>,\n",
       "  <matplotlib.axis.XTick at 0x7f4a5f712250>,\n",
       "  <matplotlib.axis.XTick at 0x7f4a5f7dbbb0>,\n",
       "  <matplotlib.axis.XTick at 0x7f4a5e989460>,\n",
       "  <matplotlib.axis.XTick at 0x7f4a5e989bb0>],\n",
       " [Text(0.5, 0, 'roof'),\n",
       "  Text(2.5, 0, 'sept'),\n",
       "  Text(4.5, 0, 'lat'),\n",
       "  Text(6.5, 0, 'ant'),\n",
       "  Text(8.5, 0, 'post')])"
      ]
     },
     "execution_count": 11,
     "metadata": {},
     "output_type": "execute_result"
    },
    {
     "data": {
      "image/png": "[encoded data removed]",
      "text/plain": [
       "<Figure size 432x288 with 1 Axes>"
      ]
     },
     "metadata": {
      "needs_background": "light"
     },
     "output_type": "display_data"
    }
   ],
   "source": [
    "data_to_plot = [fib_mean[:, 0], long_mean[:, 0],\n",
    "               fib_mean[:, 1], long_mean[:, 1],\n",
    "               fib_mean[:, 2], long_mean[:, 2],\n",
    "               fib_mean[:, 3], long_mean[:, 3],\n",
    "               fib_mean[:, 4], long_mean[:, 4]]\n",
    "\n",
    "\n",
    "sns.boxplot(data=data_to_plot)\n",
    "\n",
    "plt.ylabel(\"Strain $\\mu$\")\n",
    "plt.xticks(np.arange(0.5, 9.5, 2), regions)"
   ]
  },
  {
   "cell_type": "code",
   "execution_count": 15,
   "id": "e87a90f5",
   "metadata": {},
   "outputs": [
    {
     "data": {
      "text/plain": [
       "Text(0, 0.5, 'longitudinal strain $\\\\sigma$')"
      ]
     },
     "execution_count": 15,
     "metadata": {},
     "output_type": "execute_result"
    },
    {
     "data": {
      "image/png": "[encoded data removed]",
      "text/plain": [
       "<Figure size 432x288 with 1 Axes>"
      ]
     },
     "metadata": {
      "needs_background": "light"
     },
     "output_type": "display_data"
    }
   ],
   "source": [
    "## Scatter plot enables one to look on a case by case basis\n",
    "region=3\n",
    "\n",
    "plt.scatter(fib_std[:, region], long_std[:, region])\n",
    "plt.plot(np.arange(0,1,0.1), np.arange(0,1,0.1), ls='--', c='black')\n",
    "\n",
    "plt.xlabel(\"Fibre strain $\\sigma$\", fontsize=15)\n",
    "plt.ylabel(\"longitudinal strain $\\sigma$\", fontsize=15)"
   ]
  },
  {
   "cell_type": "code",
   "execution_count": 16,
   "id": "9c73576d",
   "metadata": {},
   "outputs": [
    {
     "data": {
      "text/plain": [
       "Text(0, 0.5, 'longitudinal strain $\\\\mu$')"
      ]
     },
     "execution_count": 16,
     "metadata": {},
     "output_type": "execute_result"
    },
    {
     "data": {
      "image/png": "[encoded data removed]",
      "text/plain": [
       "<Figure size 432x288 with 1 Axes>"
      ]
     },
     "metadata": {
      "needs_background": "light"
     },
     "output_type": "display_data"
    }
   ],
   "source": [
    "region=3\n",
    "\n",
    "plt.scatter(fib_mean[:, region], long_mean[:, region])\n",
    "plt.plot(np.arange(0,1,0.1), np.arange(0,1,0.1), ls='--', c='black')\n",
    "\n",
    "plt.xlabel(\"Fibre strain $\\mu$\", fontsize=15)\n",
    "plt.ylabel(\"longitudinal strain $\\mu$\", fontsize=15)"
   ]
  },
  {
   "cell_type": "markdown",
   "id": "932f92ab",
   "metadata": {},
   "source": [
    "## Given Case\n",
    "\n",
    "Look at entire strain distrbiution for a given case, e.g. case01"
   ]
  },
  {
   "cell_type": "code",
   "execution_count": 27,
   "id": "27ac571a",
   "metadata": {},
   "outputs": [],
   "source": [
    "\n",
    "sample_df = retrieve_fibres_all_data(\"CT-CRT/case01\", \"endo_avg\", 4)\n",
    "sample_df.shape\n",
    "df_ar = np.zeros((9, sample_df.shape[0], sample_df.shape[1]))\n",
    "\n",
    "fib_archs = [\"endo_1\", \"endo_2\", \"endo_3\", \"endo_4\",\n",
    "             \"endo_5\", \"endo_6\", \"endo_7\", \"endo_avg\"]\n",
    "\n",
    "for i in range(0, len(fib_archs)):\n",
    "    \n",
    "    df_ar[i, ...] = retrieve_fibres_all_data(\"CT-CRT/case01\", fib_archs[i], 4).to_numpy()"
   ]
  },
  {
   "cell_type": "code",
   "execution_count": 29,
   "id": "f67267a1",
   "metadata": {},
   "outputs": [],
   "source": [
    "df_ar[-1, ...] = retrieve_fibres_all_data(\"CT-CRT/case01\", fib_archs[i], 4, True).to_numpy()"
   ]
  },
  {
   "cell_type": "code",
   "execution_count": 30,
   "id": "799a9bb7",
   "metadata": {},
   "outputs": [
    {
     "data": {
      "text/plain": [
       "(289521, 3)"
      ]
     },
     "execution_count": 30,
     "metadata": {},
     "output_type": "execute_result"
    }
   ],
   "source": [
    "sample_df.shape"
   ]
  },
  {
   "cell_type": "code",
   "execution_count": 31,
   "id": "3a095779",
   "metadata": {},
   "outputs": [],
   "source": [
    "data_to_plot = [df_ar[i, :, 0] for i in range(0, 9)]"
   ]
  },
  {
   "cell_type": "code",
   "execution_count": 32,
   "id": "0d584b4f",
   "metadata": {},
   "outputs": [
    {
     "data": {
      "text/plain": [
       "<AxesSubplot:>"
      ]
     },
     "execution_count": 32,
     "metadata": {},
     "output_type": "execute_result"
    },
    {
     "data": {
      "image/png": "[encoded data removed]",
      "text/plain": [
       "<Figure size 432x288 with 1 Axes>"
      ]
     },
     "metadata": {
      "needs_background": "light"
     },
     "output_type": "display_data"
    }
   ],
   "source": [
    "sns.boxplot(data=data_to_plot)\n",
    "\n",
    "## For a given case, the global distrbiution of fiber strains seems to be faily consistent across fiber arhiectures.\n",
    "## \n",
    "## Longitudinal strains seem to have smaller standard deviation\n",
    "## However, for the longitudinal strains, there is less negative (contracting) strains."
   ]
  }
 ],
 "metadata": {
  "kernelspec": {
   "display_name": "vtk",
   "language": "python",
   "name": "vtk"
  },
  "language_info": {
   "codemirror_mode": {
    "name": "ipython",
    "version": 3
   },
   "file_extension": ".py",
   "mimetype": "text/x-python",
   "name": "python",
   "nbconvert_exporter": "python",
   "pygments_lexer": "ipython3",
   "version": "3.9.7"
  }
 },
 "nbformat": 4,
 "nbformat_minor": 5
}
