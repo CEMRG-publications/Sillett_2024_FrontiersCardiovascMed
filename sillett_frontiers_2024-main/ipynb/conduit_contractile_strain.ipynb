{
 "cells": [
  {
   "cell_type": "markdown",
   "id": "d1751598",
   "metadata": {},
   "source": [
    "## Exploring Conduit and Contractile Strains\n",
    "\n",
    "This notebook is for exploring the differences in conduit and contractile phase strains between patient groups"
   ]
  },
  {
   "cell_type": "code",
   "execution_count": 20,
   "id": "89b88eb7",
   "metadata": {},
   "outputs": [],
   "source": [
    "import pandas as pd\n",
    "import seaborn as sns\n",
    "import matplotlib.pyplot as plt\n",
    "import numpy as np\n",
    "from scipy import stats\n",
    "from matplotlib.patches import Patch\n",
    "from matplotlib.lines import Line2D\n",
    "\n",
    "from hrs_23_figures import *\n",
    "\n",
    "from sklearn import metrics\n",
    "\n",
    "regions=['global', 'roof', 'sept', 'lat', 'ant', 'post']"
   ]
  },
  {
   "cell_type": "code",
   "execution_count": 21,
   "id": "636ea320",
   "metadata": {},
   "outputs": [],
   "source": [
    "path=\"/home/csi20/Dropbox/phd/Data/kiru_demographics_df_omitAFimaging.csv\""
   ]
  },
  {
   "cell_type": "code",
   "execution_count": 22,
   "id": "c77b9af2",
   "metadata": {},
   "outputs": [],
   "source": [
    "cases_df = pd.read_csv(path)"
   ]
  },
  {
   "cell_type": "code",
   "execution_count": 23,
   "id": "6eb35078",
   "metadata": {},
   "outputs": [],
   "source": [
    "## Load all strains\n",
    "\n",
    "dataPath = \"/home/csi20local/Data/RG_CT_Cases\"\n",
    "dataPath = \"/home/csi20/Dropbox/phd/Data/RG_CT_Cases\"\n",
    "\n",
    "# N_cases, N_strain_phases\n",
    "strains = np.zeros((cases_df.shape[0], 3))\n",
    "fibre_strains = np.zeros((cases_df.shape[0], 3))\n",
    "strains_vxm = np.zeros((cases_df.shape[0], 3))\n",
    "fibre_strains_vxm = np.zeros((cases_df.shape[0], 3))\n",
    "\n",
    "for j in range(0, cases_df.shape[0]):\n",
    "    case = cases_df['Case'].iloc[j]\n",
    "    \n",
    "    filepath = get_tsffd_trackingpath(case)\n",
    "    filepath_vxm = get_vxm_trackingpath(case)\n",
    "    \n",
    "    for i in range(0, len(regions)):\n",
    "        region = regions[i]\n",
    "\n",
    "        ## area strains\n",
    "        \n",
    "        ## tsffd\n",
    "        strains[j, :] = np.loadtxt(f\"{filepath}/area_global_strains_all_phases.txt\")\n",
    "        ## vxm\n",
    "        strains_vxm[j, :] = np.loadtxt(f\"{filepath_vxm}/area_global_strains_all_phases.txt\")\n",
    "        \n",
    "        ## fibre strains\n",
    "        \n",
    "        ## tsffd\n",
    "        fibre_strains[j, :] = np.loadtxt(f\"{filepath}/fibre_global_strains_all_phases.txt\")\n",
    "        ## vxm\n",
    "        fibre_strains_vxm[j, :] = np.loadtxt(f\"{filepath_vxm}/fibre_global_strains_all_phases.txt\")"
   ]
  },
  {
   "cell_type": "code",
   "execution_count": 24,
   "id": "36ca37fa",
   "metadata": {},
   "outputs": [],
   "source": [
    "af_cases_idx = cases_df[cases_df['af_num']==1]['Case'].index"
   ]
  },
  {
   "cell_type": "code",
   "execution_count": 25,
   "id": "91c995b5",
   "metadata": {},
   "outputs": [],
   "source": [
    "naf_cases_idx = cases_df[cases_df['af_num']==0]['Case'].index"
   ]
  },
  {
   "cell_type": "code",
   "execution_count": 26,
   "id": "c7061ca1",
   "metadata": {},
   "outputs": [],
   "source": [
    "## Define area strains\n",
    "\n",
    "res_af = [strains[i, 0] for i in af_cases_idx]\n",
    "res_naf = [strains[i, 0] for i in naf_cases_idx]\n",
    "\n",
    "cond_af = [strains[i, 1] for i in af_cases_idx]\n",
    "cond_naf = [strains[i, 1] for i in naf_cases_idx]\n",
    "\n",
    "cont_af = [strains[i, 2] for i in af_cases_idx]\n",
    "cont_naf = [strains[i, 2] for i in naf_cases_idx]\n",
    "\n",
    "res_af_vxm = [strains_vxm[i, 0] for i in af_cases_idx]\n",
    "res_naf_vxm = [strains_vxm[i, 0] for i in naf_cases_idx]\n",
    "\n",
    "cond_af_vxm = [strains_vxm[i, 1] for i in af_cases_idx]\n",
    "cond_naf_vxm = [strains_vxm[i, 1] for i in naf_cases_idx]\n",
    "\n",
    "cont_af_vxm = [strains_vxm[i, 2] for i in af_cases_idx]\n",
    "cont_naf_vxm = [strains_vxm[i, 2] for i in naf_cases_idx]"
   ]
  },
  {
   "cell_type": "code",
   "execution_count": 27,
   "id": "3d20c067",
   "metadata": {},
   "outputs": [],
   "source": [
    "## Define fibre strains\n",
    "\n",
    "res_af_f = [fibre_strains[i, 0] for i in af_cases_idx]\n",
    "res_naf_f = [fibre_strains[i, 0] for i in naf_cases_idx]\n",
    "\n",
    "cond_af_f = [fibre_strains[i, 1] for i in af_cases_idx]\n",
    "cond_naf_f = [fibre_strains[i, 1] for i in naf_cases_idx]\n",
    "\n",
    "cont_af_f = [fibre_strains[i, 2] for i in af_cases_idx]\n",
    "cont_naf_f = [fibre_strains[i, 2] for i in naf_cases_idx]\n",
    "\n",
    "res_af_vxm_f = [fibre_strains_vxm[i, 0] for i in af_cases_idx]\n",
    "res_naf_vxm_f = [fibre_strains_vxm[i, 0] for i in naf_cases_idx]\n",
    "\n",
    "cond_af_vxm_f = [fibre_strains_vxm[i, 1] for i in af_cases_idx]\n",
    "cond_naf_vxm_f = [fibre_strains_vxm[i, 1] for i in naf_cases_idx]\n",
    "\n",
    "cont_af_vxm_f = [fibre_strains_vxm[i, 2] for i in af_cases_idx]\n",
    "cont_naf_vxm_f = [fibre_strains_vxm[i, 2] for i in naf_cases_idx]"
   ]
  },
  {
   "cell_type": "code",
   "execution_count": 28,
   "id": "ef683fc2",
   "metadata": {},
   "outputs": [
    {
     "data": {
      "text/plain": [
       "Text(0.5, 0.98, 'TSFFD GLOBAL STRAIN')"
      ]
     },
     "execution_count": 28,
     "metadata": {},
     "output_type": "execute_result"
    },
    {
     "data": {
      "image/png": "[encoded data removed]",
      "text/plain": [
       "<Figure size 576x576 with 6 Axes>"
      ]
     },
     "metadata": {
      "needs_background": "light"
     },
     "output_type": "display_data"
    }
   ],
   "source": [
    "fig, ((ax1, ax2, ax3), \n",
    "      (ax4, ax5, ax6)) = plt.subplots(2,3, figsize=(8,8), sharey=True)\n",
    "\n",
    "sns.boxplot(data=[res_naf, res_af], ax=ax1)\n",
    "sns.boxplot(data=[cond_naf, cond_af], ax=ax2)\n",
    "sns.boxplot(data=[cont_naf, cont_af], ax=ax3)\n",
    "\n",
    "sns.boxplot(data=[res_naf_f, res_af_f], ax=ax4)\n",
    "sns.boxplot(data=[cond_naf_f, cond_af_f], ax=ax5)\n",
    "sns.boxplot(data=[cont_naf_f, cont_af_f], ax=ax6)\n",
    "\n",
    "ax1.set_ylabel(\"Area Strain\", fontsize=16)\n",
    "ax4.set_ylabel(\"Fibre Strain\", fontsize=16)\n",
    "\n",
    "ax4.set_xlabel(\"Reservoir\", fontsize=16)\n",
    "ax5.set_xlabel(\"Conduit\", fontsize=16)\n",
    "ax6.set_xlabel(\"Contractile\", fontsize=16)\n",
    "\n",
    "fig.suptitle(\"TSFFD GLOBAL STRAIN\", fontsize=20)"
   ]
  },
  {
   "cell_type": "code",
   "execution_count": 29,
   "id": "c526307a",
   "metadata": {},
   "outputs": [
    {
     "name": "stdout",
     "output_type": "stream",
     "text": [
      "tsffd strains\n",
      "\n",
      "area strains\n",
      "Reservoir p-val:\t Ttest_indResult(statistic=-3.486456782837771, pvalue=0.0016329534377927358)\n",
      "Conduit p-val:\t\t Ttest_indResult(statistic=-1.746842203247631, pvalue=0.09162726415159084)\n",
      "Contractile p-val:\t Ttest_indResult(statistic=-4.317949265203784, pvalue=0.00017821480971168474)\n",
      "fibre strains\n",
      "Reservoir p-val:\t Ttest_indResult(statistic=-3.3163536190610534, pvalue=0.0025322812446172886)\n",
      "Conduit p-val:\t\t Ttest_indResult(statistic=-2.096043111132386, pvalue=0.04523990832916745)\n",
      "Contractile p-val:\t Ttest_indResult(statistic=-3.1169810239637963, pvalue=0.004197297153606083)\n"
     ]
    }
   ],
   "source": [
    "## print p values\n",
    "\n",
    "res_p = stats.ttest_ind(res_af, res_naf)\n",
    "cond_p = stats.ttest_ind(cond_af, cond_naf)\n",
    "cont_p = stats.ttest_ind(cont_af, cont_naf)\n",
    "\n",
    "print(\"tsffd strains\\n\")\n",
    "\n",
    "print(\"area strains\")\n",
    "print(\"Reservoir p-val:\\t\", res_p)\n",
    "print(\"Conduit p-val:\\t\\t\", cond_p)\n",
    "print(\"Contractile p-val:\\t\", cont_p)\n",
    "\n",
    "res_p = stats.ttest_ind(res_af_f, res_naf_f)\n",
    "cond_p = stats.ttest_ind(cond_af_f, cond_naf_f)\n",
    "cont_p = stats.ttest_ind(cont_af_f, cont_naf_f)\n",
    "\n",
    "print(\"fibre strains\")\n",
    "print(\"Reservoir p-val:\\t\", res_p)\n",
    "print(\"Conduit p-val:\\t\\t\", cond_p)\n",
    "print(\"Contractile p-val:\\t\", cont_p)"
   ]
  },
  {
   "cell_type": "code",
   "execution_count": 30,
   "id": "1c338667",
   "metadata": {},
   "outputs": [
    {
     "data": {
      "text/plain": [
       "Text(0.5, 0.98, 'VXM GLOBAL AREA STRAIN')"
      ]
     },
     "execution_count": 30,
     "metadata": {},
     "output_type": "execute_result"
    },
    {
     "data": {
      "image/png": "[encoded data removed]",
      "text/plain": [
       "<Figure size 576x576 with 6 Axes>"
      ]
     },
     "metadata": {
      "needs_background": "light"
     },
     "output_type": "display_data"
    }
   ],
   "source": [
    "fig, ((ax1, ax2, ax3), \n",
    "      (ax4, ax5, ax6)) = plt.subplots(2,3, figsize=(8,8), sharey=True)\n",
    "\n",
    "sns.boxplot(data=[res_naf_vxm, res_af_vxm], ax=ax1)\n",
    "sns.boxplot(data=[cond_naf_vxm, cond_af_vxm], ax=ax2)\n",
    "sns.boxplot(data=[cont_naf, cont_af_vxm], ax=ax3)\n",
    "\n",
    "sns.boxplot(data=[res_naf_vxm_f, res_af_vxm_f], ax=ax4)\n",
    "sns.boxplot(data=[cond_naf_vxm_f, cond_af_vxm_f], ax=ax5)\n",
    "sns.boxplot(data=[cont_naf_vxm_f, cont_af_vxm_f], ax=ax6)\n",
    "\n",
    "ax1.set_ylabel(\"Area Strain\", fontsize=16)\n",
    "ax4.set_ylabel(\"Fibre Strain\", fontsize=16)\n",
    "\n",
    "ax4.set_xlabel(\"Reservoir\", fontsize=16)\n",
    "ax5.set_xlabel(\"Conduit\", fontsize=16)\n",
    "ax6.set_xlabel(\"Contractile\", fontsize=16)\n",
    "\n",
    "fig.suptitle(\"VXM GLOBAL AREA STRAIN\", fontsize=20)"
   ]
  },
  {
   "cell_type": "code",
   "execution_count": 31,
   "id": "4ca82936",
   "metadata": {},
   "outputs": [
    {
     "name": "stdout",
     "output_type": "stream",
     "text": [
      "Vxm Strains\n",
      "\n",
      "Area strains\n",
      "Reservoir p-val:\t Ttest_indResult(statistic=-3.5719086574688457, pvalue=0.001306915701121205)\n",
      "Conduit p-val:\t\t Ttest_indResult(statistic=-1.990964513879231, pvalue=0.0563244122939557)\n",
      "Contractile p-val:\t Ttest_indResult(statistic=-3.89634068407777, pvalue=0.0005544645410286432)\n",
      "Fibre strains\n",
      "Reservoir p-val:\t Ttest_indResult(statistic=-2.43354303994276, pvalue=0.02158860742512044)\n",
      "Conduit p-val:\t\t Ttest_indResult(statistic=-1.098261007176414, pvalue=0.28144519679579794)\n",
      "Contractile p-val:\t Ttest_indResult(statistic=-3.3491066325070573, pvalue=0.0023283360223083725)\n"
     ]
    }
   ],
   "source": [
    "## print p values\n",
    "\n",
    "res_p = stats.ttest_ind(res_af_vxm, res_naf_vxm)\n",
    "cond_p = stats.ttest_ind(cond_af_vxm, cond_naf_vxm)\n",
    "cont_p = stats.ttest_ind(cont_af_vxm, cont_naf_vxm)\n",
    "\n",
    "print(\"Vxm Strains\\n\")\n",
    "\n",
    "print(\"Area strains\")\n",
    "print(\"Reservoir p-val:\\t\", res_p)\n",
    "print(\"Conduit p-val:\\t\\t\", cond_p)\n",
    "print(\"Contractile p-val:\\t\", cont_p)\n",
    "\n",
    "res_p = stats.ttest_ind(res_af_vxm_f, res_naf_vxm_f)\n",
    "cond_p = stats.ttest_ind(cond_af_vxm_f, cond_naf_vxm_f)\n",
    "cont_p = stats.ttest_ind(cont_af_vxm_f, cont_naf_vxm_f)\n",
    "\n",
    "print(\"Fibre strains\")\n",
    "print(\"Reservoir p-val:\\t\", res_p)\n",
    "print(\"Conduit p-val:\\t\\t\", cond_p)\n",
    "print(\"Contractile p-val:\\t\", cont_p)"
   ]
  },
  {
   "cell_type": "code",
   "execution_count": 32,
   "id": "24a9baed",
   "metadata": {},
   "outputs": [],
   "source": [
    "## roc classification\n",
    "\n",
    "y_true = np.zeros((cases_df.shape[0],))\n",
    "y_true[naf_cases_idx] = 1.0"
   ]
  },
  {
   "cell_type": "code",
   "execution_count": 33,
   "id": "0597692b",
   "metadata": {},
   "outputs": [
    {
     "name": "stdout",
     "output_type": "stream",
     "text": [
      "tsffd strains\n",
      "\n",
      "area strains\n",
      "Res auc\t\t\t 0.9047619047619047\n",
      "Cond auc\t\t 0.6455026455026456\n",
      "Cont auc\t\t 0.9576719576719577\n",
      "fibre strains\n",
      "Res auc\t\t\t 0.9312169312169313\n",
      "Cond auc\t\t 0.7354497354497355\n",
      "Cont auc\t\t 0.9206349206349206\n"
     ]
    }
   ],
   "source": [
    "auc_res = metrics.roc_auc_score(y_true, strains[:, 0])\n",
    "auc_cond = metrics.roc_auc_score(y_true, strains[:, 1])\n",
    "auc_cont = metrics.roc_auc_score(y_true, strains[:, 2])\n",
    "\n",
    "print(\"tsffd strains\\n\")\n",
    "\n",
    "print(\"area strains\")\n",
    "print(\"Res auc\\t\\t\\t\", auc_res)\n",
    "print(\"Cond auc\\t\\t\", auc_cond)\n",
    "print(\"Cont auc\\t\\t\", auc_cont)\n",
    "\n",
    "auc_res = metrics.roc_auc_score(y_true, fibre_strains[:, 0])\n",
    "auc_cond = metrics.roc_auc_score(y_true, fibre_strains[:, 1])\n",
    "auc_cont = metrics.roc_auc_score(y_true, fibre_strains[:, 2])\n",
    "\n",
    "print(\"fibre strains\")\n",
    "print(\"Res auc\\t\\t\\t\", auc_res)\n",
    "print(\"Cond auc\\t\\t\", auc_cond)\n",
    "print(\"Cont auc\\t\\t\", auc_cont)"
   ]
  },
  {
   "cell_type": "code",
   "execution_count": 34,
   "id": "a6d3fc9a",
   "metadata": {},
   "outputs": [
    {
     "name": "stdout",
     "output_type": "stream",
     "text": [
      "area strains\n",
      "Res auc\t\t\t 0.8941798941798942\n",
      "Cond auc\t\t 0.7354497354497354\n",
      "Cont auc\t\t 0.9047619047619048\n",
      "fibre strains\n",
      "Res auc\t\t\t 0.8412698412698413\n",
      "Cond auc\t\t 0.6243386243386243\n",
      "Cont auc\t\t 0.962962962962963\n"
     ]
    }
   ],
   "source": [
    "auc_res = metrics.roc_auc_score(y_true, strains_vxm[:, 0])\n",
    "auc_cond = metrics.roc_auc_score(y_true, strains_vxm[:, 1])\n",
    "auc_cont = metrics.roc_auc_score(y_true, strains_vxm[:, 2])\n",
    "\n",
    "print(\"area strains\")\n",
    "print(\"Res auc\\t\\t\\t\", auc_res)\n",
    "print(\"Cond auc\\t\\t\", auc_cond)\n",
    "print(\"Cont auc\\t\\t\", auc_cont)\n",
    "\n",
    "auc_res = metrics.roc_auc_score(y_true, fibre_strains_vxm[:, 0])\n",
    "auc_cond = metrics.roc_auc_score(y_true, fibre_strains_vxm[:, 1])\n",
    "auc_cont = metrics.roc_auc_score(y_true, fibre_strains_vxm[:, 2])\n",
    "\n",
    "print(\"fibre strains\")\n",
    "print(\"Res auc\\t\\t\\t\", auc_res)\n",
    "print(\"Cond auc\\t\\t\", auc_cond)\n",
    "print(\"Cont auc\\t\\t\", auc_cont)"
   ]
  },
  {
   "cell_type": "code",
   "execution_count": 35,
   "id": "537d7a82",
   "metadata": {},
   "outputs": [
    {
     "data": {
      "text/plain": [
       "array([ 2.83264 ,  4.36052 ,  9.9124  ,  6.55917 , 20.5505  ,  2.23201 ,\n",
       "        2.22186 ,  6.39754 ,  4.58749 ,  2.88021 ,  3.64207 ,  5.15382 ,\n",
       "        8.01559 ,  0.682999,  1.37193 ,  1.21807 ,  1.54557 ,  8.89977 ,\n",
       "        1.48312 ,  0.944919,  7.39191 ,  7.872   ,  6.55828 , 16.729   ,\n",
       "        2.25626 ,  1.02686 ,  3.24196 , 19.8492  ,  5.05119 , 15.0711  ])"
      ]
     },
     "execution_count": 35,
     "metadata": {},
     "output_type": "execute_result"
    }
   ],
   "source": [
    "fibre_strains_vxm[:, 2]"
   ]
  },
  {
   "cell_type": "code",
   "execution_count": 36,
   "id": "1200ce2b",
   "metadata": {},
   "outputs": [
    {
     "data": {
      "text/plain": [
       "array([ 1.59164 ,  6.99581 , 19.3174  ,  8.34559 , 31.6836  ,  3.01923 ,\n",
       "        1.17736 , 12.777   ,  5.05683 ,  4.06603 ,  4.58244 ,  8.14948 ,\n",
       "       10.2913  ,  0.513064,  1.98984 ,  1.19731 ,  2.13437 ,  9.87037 ,\n",
       "        1.20164 ,  4.31875 ,  9.1177  ,  7.16298 ,  8.39375 , 25.7098  ,\n",
       "        1.25745 ,  1.02686 ,  3.24196 , 19.8492  ,  5.05119 , 15.0711  ])"
      ]
     },
     "execution_count": 36,
     "metadata": {},
     "output_type": "execute_result"
    }
   ],
   "source": [
    "fibre_strains[:, 2]"
   ]
  },
  {
   "cell_type": "code",
   "execution_count": null,
   "id": "4efef38d",
   "metadata": {},
   "outputs": [],
   "source": []
  }
 ],
 "metadata": {
  "kernelspec": {
   "display_name": "Python [conda env:vtk]",
   "language": "python",
   "name": "conda-env-vtk-py"
  },
  "language_info": {
   "codemirror_mode": {
    "name": "ipython",
    "version": 3
   },
   "file_extension": ".py",
   "mimetype": "text/x-python",
   "name": "python",
   "nbconvert_exporter": "python",
   "pygments_lexer": "ipython3",
   "version": "3.9.7"
  }
 },
 "nbformat": 4,
 "nbformat_minor": 5
}
