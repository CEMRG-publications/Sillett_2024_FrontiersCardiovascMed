{
 "cells": [
  {
   "cell_type": "markdown",
   "id": "5c66c8f3",
   "metadata": {},
   "source": [
    "This notebook is for the ROC analysis using LAEF. Specifically, to see if LAEF is better at stratifying the two groups than strain"
   ]
  },
  {
   "cell_type": "code",
   "execution_count": 14,
   "id": "5c8678b8",
   "metadata": {},
   "outputs": [],
   "source": [
    "from hrs_23_figures import *\n",
    "import numpy as np\n",
    "import matplotlib.pyplot as plt\n",
    "from sklearn import metrics"
   ]
  },
  {
   "cell_type": "code",
   "execution_count": 3,
   "id": "c2f72659",
   "metadata": {},
   "outputs": [],
   "source": [
    "all_cases = nonaf_cases + af_cases"
   ]
  },
  {
   "cell_type": "code",
   "execution_count": 5,
   "id": "be808214",
   "metadata": {},
   "outputs": [
    {
     "data": {
      "text/plain": [
       "29"
      ]
     },
     "execution_count": 5,
     "metadata": {},
     "output_type": "execute_result"
    }
   ],
   "source": [
    "len(all_cases)"
   ]
  },
  {
   "cell_type": "code",
   "execution_count": 7,
   "id": "d2c08fea",
   "metadata": {},
   "outputs": [
    {
     "data": {
      "text/plain": [
       "10"
      ]
     },
     "execution_count": 7,
     "metadata": {},
     "output_type": "execute_result"
    }
   ],
   "source": [
    "len(af_cases)"
   ]
  },
  {
   "cell_type": "code",
   "execution_count": 8,
   "id": "9de56375",
   "metadata": {},
   "outputs": [],
   "source": [
    "y_true = np.zeros((29,))\n",
    "y_true[:19] = 1.0 "
   ]
  },
  {
   "cell_type": "code",
   "execution_count": 12,
   "id": "6ef37830",
   "metadata": {},
   "outputs": [],
   "source": [
    "## y pred is based on laef\n",
    "\n",
    "y_pred = np.zeros((29,))\n",
    "\n",
    "for i in range(0, len(all_cases)):\n",
    "    case = all_cases[i]\n",
    "    \n",
    "    y_pred[i] = np.loadtxt(f\"/home/csi20/Dropbox/phd/Data/RG_CT_Cases/{case}/multilabel_seg_analysis/LA_EF.txt\")"
   ]
  },
  {
   "cell_type": "code",
   "execution_count": 13,
   "id": "a709054c",
   "metadata": {},
   "outputs": [
    {
     "data": {
      "text/plain": [
       "array([ 9.45865041, 24.38623319, 48.81652297, 48.93259862, 41.99283317,\n",
       "       22.26059852, 18.60545126, 24.82695848,  2.30937146, 33.7050328 ,\n",
       "       43.77618016, 39.16434612, 20.36095519, 51.06032221,  9.37986899,\n",
       "       28.23005304, 32.04099536, 34.6759159 , 50.11491054, 16.33829161,\n",
       "        7.14176719,  7.38144013, 21.46399219,  9.33502623, 14.10721623,\n",
       "       15.18198079,  7.08202667, 11.47450819, 14.75558122])"
      ]
     },
     "execution_count": 13,
     "metadata": {},
     "output_type": "execute_result"
    }
   ],
   "source": [
    "y_pred"
   ]
  },
  {
   "cell_type": "code",
   "execution_count": 17,
   "id": "916a33ce",
   "metadata": {},
   "outputs": [
    {
     "name": "stdout",
     "output_type": "stream",
     "text": [
      "AUC area:  0.8736842105263158\n"
     ]
    }
   ],
   "source": [
    "fpr, tpr, thresholds = metrics.roc_curve(y_true[:], y_pred[:])\n",
    "auc = metrics.roc_auc_score(y_true[:], y_pred[:])\n",
    "\n",
    "print(\"AUC area: \", auc)"
   ]
  },
  {
   "cell_type": "code",
   "execution_count": null,
   "id": "e15f83ad",
   "metadata": {},
   "outputs": [],
   "source": []
  }
 ],
 "metadata": {
  "kernelspec": {
   "display_name": "vtk",
   "language": "python",
   "name": "vtk"
  },
  "language_info": {
   "codemirror_mode": {
    "name": "ipython",
    "version": 3
   },
   "file_extension": ".py",
   "mimetype": "text/x-python",
   "name": "python",
   "nbconvert_exporter": "python",
   "pygments_lexer": "ipython3",
   "version": "3.9.7"
  }
 },
 "nbformat": 4,
 "nbformat_minor": 5
}
