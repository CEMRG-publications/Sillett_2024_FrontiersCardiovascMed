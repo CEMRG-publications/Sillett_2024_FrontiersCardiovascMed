{
 "cells": [
  {
   "cell_type": "markdown",
   "id": "d1751598",
   "metadata": {},
   "source": [
    "## Exploring Conduit and Contractile Strains AND Strain Rates!\n",
    "\n",
    "## Updated August 30th 2023\n",
    "\n",
    "This notebook is for exploring the differences in conduit and contractile phase strains between patient groups"
   ]
  },
  {
   "cell_type": "code",
   "execution_count": null,
   "id": "89b88eb7",
   "metadata": {},
   "outputs": [],
   "source": [
    "import pandas as pd\n",
    "import seaborn as sns\n",
    "import matplotlib.pyplot as plt\n",
    "import numpy as np\n",
    "from scipy import stats\n",
    "from matplotlib.patches import Patch\n",
    "from matplotlib.lines import Line2D\n",
    "\n",
    "from hrs_23_figures import *\n",
    "\n",
    "from sklearn import metrics\n",
    "\n",
    "regions=['global', 'roof', 'sept', 'lat', 'ant', 'post']"
   ]
  },
  {
   "cell_type": "code",
   "execution_count": null,
   "id": "636ea320",
   "metadata": {},
   "outputs": [],
   "source": [
    "path=\"/home/csi20/Dropbox/phd/Data/kiru_demographics_df_omitAFimaging.csv\""
   ]
  },
  {
   "cell_type": "code",
   "execution_count": null,
   "id": "c77b9af2",
   "metadata": {},
   "outputs": [],
   "source": [
    "cases_df = pd.read_csv(path)"
   ]
  },
  {
   "cell_type": "code",
   "execution_count": null,
   "id": "f53f9fea",
   "metadata": {},
   "outputs": [],
   "source": [
    "case_list=list(cases_df[\"Case\"])\n",
    "remove_cases=[\"01\", \"05\", \"09\", \"14\", \"20\", \"21\", \"25\", \"26\", \"27\", \"31\"]\n",
    "remove_cases=[f\"CT-CRT/case{i}\" for i in remove_cases]\n",
    "append_ebr=[\"01\", \"04\", \"06\"]\n",
    "append_ebr=[f\"EBR/case{i}\" for i in append_ebr]\n",
    "remove_cases+=append_ebr\n",
    "\n",
    "case_list = [i for i in case_list if i not in remove_cases]"
   ]
  },
  {
   "cell_type": "code",
   "execution_count": null,
   "id": "6eb35078",
   "metadata": {},
   "outputs": [],
   "source": [
    "## Load all strains\n",
    "\n",
    "dataPath = \"/home/csi20local/Data/RG_CT_Cases\"\n",
    "dataPath = \"/home/csi20/Dropbox/phd/Data/RG_CT_Cases\"\n",
    "\n",
    "# N_cases, N_strain_phases\n",
    "strains = np.zeros((len(case_list), 3))\n",
    "SRs = np.zeros((len(case_list), 3))\n",
    "\n",
    "for i, case in enumerate(case_list):\n",
    "    filepath = get_tsffd_trackingpath(case)\n",
    "    \n",
    "    ## tsffd area strains\n",
    "    strains[i, :] = np.loadtxt(f\"{filepath}/area_global_strains_all_phases_v3.txt\")\n",
    "    SRs[i, :] = np.loadtxt(f\"{filepath}/area_global_SRs_all_phases_v3.txt\")"
   ]
  },
  {
   "cell_type": "code",
   "execution_count": null,
   "id": "50f5e06d",
   "metadata": {},
   "outputs": [],
   "source": [
    "fig, (ax1, ax2, ax3) = plt.subplots(1, 3, figsize=(15,6), sharey=True, sharex=True)\n",
    "\n",
    "for i, ax in enumerate(fig.axes):\n",
    "    ax.hist(np.abs(strains[:, i]))\n",
    "    \n",
    "fig.suptitle(\"Strains\", fontsize=20)\n",
    "\n",
    "ax1.set_title(\"Reservoir\", fontsize=17)\n",
    "ax2.set_title(\"Conduit\", fontsize=17)\n",
    "ax3.set_title(\"Contractile\", fontsize=17)\n",
    "\n",
    "ax1.set_xlim(0.0, 60)\n",
    "\n",
    "plt.tight_layout()"
   ]
  },
  {
   "cell_type": "markdown",
   "id": "b3f40083",
   "metadata": {},
   "source": [
    "We see that Contractile and Conduit strains are similar in magnitude"
   ]
  },
  {
   "cell_type": "code",
   "execution_count": null,
   "id": "74fc742f",
   "metadata": {},
   "outputs": [],
   "source": [
    "fig, (ax1, ax2, ax3) = plt.subplots(1, 3, figsize=(15,6), sharey=True, sharex=True)\n",
    "\n",
    "for i, ax in enumerate(fig.axes):\n",
    "    ax.hist(np.abs(SRs[:, i]))\n",
    "    \n",
    "fig.suptitle(\"SR\", fontsize=20)\n",
    "\n",
    "ax1.set_title(\"Reservoir\", fontsize=17)\n",
    "ax2.set_title(\"Conduit\", fontsize=17)\n",
    "ax3.set_title(\"Contractile\", fontsize=17)\n",
    "\n",
    "ax2.set_xlim(0.0, 35)\n",
    "ax3.set_xlim(0.0, 35)\n",
    "\n",
    "plt.tight_layout()"
   ]
  },
  {
   "cell_type": "markdown",
   "id": "e7b097f1",
   "metadata": {},
   "source": [
    "We see that the contractile SR is generally greater amplitude than that of reservoir function"
   ]
  },
  {
   "cell_type": "code",
   "execution_count": null,
   "id": "da59c166",
   "metadata": {},
   "outputs": [],
   "source": [
    "af_cases_idx = cases_df[cases_df['af_num']==1]['Case'].index"
   ]
  },
  {
   "cell_type": "code",
   "execution_count": null,
   "id": "961bef12",
   "metadata": {},
   "outputs": [],
   "source": [
    "naf_cases_idx = cases_df[cases_df['af_num']==0]['Case'].index"
   ]
  },
  {
   "cell_type": "code",
   "execution_count": null,
   "id": "43964fcf",
   "metadata": {},
   "outputs": [],
   "source": [
    "naf_cases = [cases_df['Case'].iloc[i] for i in naf_cases_idx]\n",
    "af_cases = [cases_df['Case'].iloc[i] for i in af_cases_idx]"
   ]
  },
  {
   "cell_type": "code",
   "execution_count": null,
   "id": "4dde667a",
   "metadata": {},
   "outputs": [],
   "source": [
    "naf_cases_SRsubset=[]\n",
    "af_cases_SRsubset=[]\n",
    "\n",
    "for case in case_list:\n",
    "    if case in naf_cases:\n",
    "        naf_cases_SRsubset.append(case)\n",
    "        \n",
    "    elif case in af_cases:\n",
    "        af_cases_SRsubset.append(case)"
   ]
  },
  {
   "cell_type": "code",
   "execution_count": null,
   "id": "5606ade9",
   "metadata": {},
   "outputs": [],
   "source": [
    "af_cases_SRsubset"
   ]
  },
  {
   "cell_type": "code",
   "execution_count": null,
   "id": "c9817583",
   "metadata": {},
   "outputs": [],
   "source": [
    "# arguments for naf and af cases\n",
    "\n",
    "naf_inds_SRsubset=[]\n",
    "af_inds_SRsubset=[]\n",
    "\n",
    "for case in naf_cases_SRsubset:\n",
    "    \n",
    "    ans=case_list.index(case)\n",
    "    naf_inds_SRsubset.append(ans)\n",
    "    \n",
    "for case in af_cases_SRsubset:\n",
    "    \n",
    "    ans=case_list.index(case)\n",
    "    af_inds_SRsubset.append(ans)"
   ]
  },
  {
   "cell_type": "code",
   "execution_count": null,
   "id": "e33be172",
   "metadata": {},
   "outputs": [],
   "source": []
  },
  {
   "cell_type": "code",
   "execution_count": null,
   "id": "c7061ca1",
   "metadata": {},
   "outputs": [],
   "source": [
    "## Define area strains\n",
    "\n",
    "res_af = [strains[i, 0] for i in af_inds_SRsubset]\n",
    "res_naf = [strains[i, 0] for i in naf_inds_SRsubset]\n",
    "\n",
    "cond_af = [strains[i, 1] for i in af_inds_SRsubset]\n",
    "cond_naf = [strains[i, 1] for i in naf_inds_SRsubset]\n",
    "\n",
    "cont_af = [strains[i, 2] for i in af_inds_SRsubset]\n",
    "cont_naf = [strains[i, 2] for i in naf_inds_SRsubset]"
   ]
  },
  {
   "cell_type": "code",
   "execution_count": null,
   "id": "14d919bf",
   "metadata": {},
   "outputs": [],
   "source": [
    "## Define area SRs\n",
    "\n",
    "SR_res_af = [SRs[i, 0] for i in af_inds_SRsubset]\n",
    "SR_res_naf = [SRs[i, 0] for i in naf_inds_SRsubset]\n",
    "\n",
    "SR_cond_af = [SRs[i, 1] for i in af_inds_SRsubset]\n",
    "SR_cond_naf = [SRs[i, 1] for i in naf_inds_SRsubset]\n",
    "\n",
    "SR_cont_af = [SRs[i, 2] for i in af_inds_SRsubset]\n",
    "SR_cont_naf = [SRs[i, 2] for i in naf_inds_SRsubset]"
   ]
  },
  {
   "cell_type": "code",
   "execution_count": null,
   "id": "ef683fc2",
   "metadata": {},
   "outputs": [],
   "source": [
    "fig, ((ax1, ax2, ax3), \n",
    "      (ax4, ax5, ax6)) = plt.subplots(2,3, figsize=(8,8), sharey=True)\n",
    "\n",
    "sns.boxplot(data=[res_naf, res_af], ax=ax1)\n",
    "sns.boxplot(data=[cond_naf, cond_af], ax=ax2)\n",
    "sns.boxplot(data=[cont_naf, cont_af], ax=ax3)\n",
    "\n",
    "sns.boxplot(data=[SR_res_naf, SR_res_af], ax=ax4)\n",
    "sns.boxplot(data=[SR_cond_naf, SR_cond_af], ax=ax5)\n",
    "sns.boxplot(data=[SR_cont_naf, SR_cont_af], ax=ax6)\n",
    "\n",
    "ax1.set_ylabel(\"Area Strain\", fontsize=16)\n",
    "ax4.set_ylabel(\"Area Strain Rate\", fontsize=16)\n",
    "\n",
    "ax4.set_xlabel(\"Reservoir\", fontsize=16)\n",
    "ax5.set_xlabel(\"Conduit\", fontsize=16)\n",
    "ax6.set_xlabel(\"Contractile\", fontsize=16)\n",
    "\n",
    "fig.suptitle(\"TSFFD GLOBAL STRAIN\", fontsize=20)"
   ]
  },
  {
   "cell_type": "code",
   "execution_count": null,
   "id": "c526307a",
   "metadata": {},
   "outputs": [],
   "source": [
    "## print p values\n",
    "\n",
    "res_p = stats.ttest_ind(res_af, res_naf)\n",
    "cond_p = stats.ttest_ind(cond_af, cond_naf)\n",
    "cont_p = stats.ttest_ind(cont_af, cont_naf)\n",
    "\n",
    "print(\"tsffd strains\\n\")\n",
    "\n",
    "print(\"area strains\")\n",
    "print(\"Reservoir p-val:\\t\", res_p)\n",
    "print(\"Conduit p-val:\\t\\t\", cond_p)\n",
    "print(\"Contractile p-val:\\t\", cont_p)\n",
    "\n",
    "res_p = stats.ttest_ind(SR_res_af, SR_res_naf)\n",
    "cond_p = stats.ttest_ind(SR_cond_af, SR_cond_naf)\n",
    "cont_p = stats.ttest_ind(SR_cont_af, SR_cont_naf)\n",
    "\n",
    "print(\"\\nSR\")\n",
    "print(\"Reservoir SR p-val:\\t\", res_p)\n",
    "print(\"Conduit SR p-val:\\t\\t\", cond_p)\n",
    "print(\"Contractile SR p-val:\\t\", cont_p)"
   ]
  },
  {
   "cell_type": "code",
   "execution_count": null,
   "id": "4ffadfc8",
   "metadata": {},
   "outputs": [],
   "source": [
    "fig, ((ax1, ax2, ax3)) = plt.subplots(1,3, figsize=(6,6), sharey=True)\n",
    "\n",
    "for i, ax in enumerate(fig.axes):\n",
    "    ax.boxplot(strains[:, i])"
   ]
  },
  {
   "cell_type": "code",
   "execution_count": null,
   "id": "5b144992",
   "metadata": {},
   "outputs": [],
   "source": [
    "fig, ((ax1, ax2, ax3)) = plt.subplots(1,3, figsize=(6,6), sharey=True)\n",
    "\n",
    "for i, ax in enumerate(fig.axes):\n",
    "    ax.boxplot(np.abs(SRs[:, i]))"
   ]
  },
  {
   "cell_type": "code",
   "execution_count": null,
   "id": "941491cd",
   "metadata": {},
   "outputs": [],
   "source": []
  },
  {
   "cell_type": "code",
   "execution_count": null,
   "id": "1f86ebad",
   "metadata": {},
   "outputs": [],
   "source": []
  }
 ],
 "metadata": {
  "kernelspec": {
   "display_name": "Python [conda env:vtk]",
   "language": "python",
   "name": "conda-env-vtk-py"
  },
  "language_info": {
   "codemirror_mode": {
    "name": "ipython",
    "version": 3
   },
   "file_extension": ".py",
   "mimetype": "text/x-python",
   "name": "python",
   "nbconvert_exporter": "python",
   "pygments_lexer": "ipython3",
   "version": "3.9.7"
  }
 },
 "nbformat": 4,
 "nbformat_minor": 5
}
